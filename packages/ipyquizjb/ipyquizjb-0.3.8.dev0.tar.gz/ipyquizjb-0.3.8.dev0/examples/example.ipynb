{
 "cells": [
  {
   "cell_type": "code",
   "execution_count": 1,
   "metadata": {},
   "outputs": [],
   "source": [
    "from ipyquizjb.faceit import display_simple_search\n",
    "\n",
    "#display_simple_search(\"math\", 2)"
   ]
  },
  {
   "cell_type": "code",
   "execution_count": 2,
   "metadata": {},
   "outputs": [
    {
     "data": {
      "application/vnd.jupyter.widget-view+json": {
       "model_id": "a45e203850624aa18f2c31b1717ffb7f",
       "version_major": 2,
       "version_minor": 0
      },
      "text/plain": [
       "VBox(children=(HTMLMath(value='<h2 style=\\'font-size: 1.25em;\\'>Si consideri il segnale a tempo continuo $x(t)…"
      ]
     },
     "metadata": {},
     "output_type": "display_data"
    },
    {
     "data": {
      "application/vnd.jupyter.widget-view+json": {
       "model_id": "adc1dd6f0f7f4b5096023b2123462691",
       "version_major": 2,
       "version_minor": 0
      },
      "text/plain": [
       "VBox(children=(HTMLMath(value='<h2 style=\\'font-size: 1.25em;\\'>Si consideri lo schema a blocchi mostrato nell…"
      ]
     },
     "metadata": {},
     "output_type": "display_data"
    }
   ],
   "source": [
    "display_simple_search(\"consideri\", 2)"
   ]
  },
  {
   "cell_type": "code",
   "execution_count": 3,
   "metadata": {},
   "outputs": [
    {
     "data": {
      "application/vnd.jupyter.widget-view+json": {
       "model_id": "67c3edcbd3584ef898fa92c22ac72e44",
       "version_major": 2,
       "version_minor": 0
      },
      "text/plain": [
       "VBox(children=(Output(), Output(layout=Layout(display='none'))))"
      ]
     },
     "metadata": {},
     "output_type": "display_data"
    }
   ],
   "source": [
    " \n",
    "from ipyquizjb import display_json\n",
    " \n",
    "test_json = r\"\"\"{\n",
    "  \"questions\": [\n",
    "    {\n",
    "      \"type\": \"MULTIPLE_CHOICE\",\n",
    "      \"body\": \"What is the derivative of \\\\( \\\\sin(x) \\\\)?\",\n",
    "      \"answers\": [\n",
    "        \"\\\\( -\\\\cos(x) \\\\).\",\n",
    "        \"\\\\( \\\\tan(x) \\\\).\",\n",
    "        \"\\\\( \\\\cos(x) \\\\).\"\n",
    "      ],\n",
    "      \"answer\": [\"\\\\( \\\\cos(x) \\\\).\"],\n",
    "      \"notes\": [\"The derivative of \\\\( \\\\sin(x) \\\\) is \\\\( \\\\cos(x) \\\\).\"]\n",
    "    },\n",
    "    {\n",
    "      \"type\": \"NUMERIC\",\n",
    "      \"body\": \"What's the derivative of z (z'), with respect to x, of z = 4y+x?\",\n",
    "      \"answer\": \"1\",\n",
    "      \"notes\": []\n",
    "    },\n",
    "    {\n",
    "      \"type\": \"TEXT\",\n",
    "      \"body\": \"Is this a text answer?\",\n",
    "      \"notes\": [\"Yes\"]\n",
    "    }\n",
    "  ],\n",
    "  \"additional_material\":\n",
    "    {\n",
    "      \"type\": \"TEXT\",\n",
    "      \"body\": \"A PID controller consists of three key components: the Proportional (P), Integral (I), and Derivative (D) terms. The proportional component responds to the current error by applying a correction proportional to its magnitude, providing immediate corrective action. The integral component addresses the accumulation of past errors, helping to eliminate steady-state errors over time. The derivative component predicts future errors by responding to the rate of error change, which helps to dampen oscillations and improve system stability. Adjusting each of these components involves trade-offs. Increasing the proportional gain can speed up response but may cause oscillations. A higher integral gain can reduce steady-state error but risks integral windup, leading to overshoot. Boosting the derivative gain can stabilize the response but may also make the system overly sensitive to noise. Understanding these dynamics is crucial for effectively tuning a PID controller.\"\n",
    "    }\n",
    "  ,\n",
    "  \"status\": \"success\"\n",
    "}\"\"\"\n",
    " \n",
    "display_json(test_json, as_group=True)\n"
   ]
  },
  {
   "cell_type": "code",
   "execution_count": 4,
   "metadata": {},
   "outputs": [
    {
     "data": {
      "application/vnd.jupyter.widget-view+json": {
       "model_id": "4adec1bd642c4611ba7567a135977489",
       "version_major": 2,
       "version_minor": 0
      },
      "text/plain": [
       "VBox(children=(HTMLMath(value=\"<h2 style='font-size: 1.25em;'>Is this a text answer?</h2>\"), Button(descriptio…"
      ]
     },
     "metadata": {},
     "output_type": "display_data"
    },
    {
     "data": {
      "application/vnd.jupyter.widget-view+json": {
       "model_id": "b0fd256632f046feb8048a190e898f2f",
       "version_major": 2,
       "version_minor": 0
      },
      "text/plain": [
       "VBox(children=(HTMLMath(value=\"<h2 style='font-size: 1.25em;'>Is this a numeric question?</h2>\"), Button(descr…"
      ]
     },
     "metadata": {},
     "output_type": "display_data"
    }
   ],
   "source": [
    "from ipyquizjb import display_json\n",
    "\n",
    "test_json = r\"\"\"{\n",
    "  \"questions\": [\n",
    "    {\n",
    "      \"type\": \"TEXT\",\n",
    "      \"body\": \"Is this a text answer?\",\n",
    "      \"notes\": [\"Yes\"]\n",
    "    },\n",
    "    {\n",
    "      \"type\": \"TEXT\",\n",
    "      \"body\": \"Is this a numeric question?\",\n",
    "      \"notes\": [\"No\"]\n",
    "    }\n",
    "  ],\n",
    "  \"status\": \"success\"\n",
    "}\"\"\"\n",
    "\n",
    "\n",
    "display_json(test_json, as_group=True)\n"
   ]
  },
  {
   "cell_type": "code",
   "execution_count": 5,
   "metadata": {},
   "outputs": [
    {
     "data": {
      "application/vnd.jupyter.widget-view+json": {
       "model_id": "94c08c1852144d5881f239294d8c3af2",
       "version_major": 2,
       "version_minor": 0
      },
      "text/plain": [
       "VBox(children=(Output(), Output()))"
      ]
     },
     "metadata": {},
     "output_type": "display_data"
    }
   ],
   "source": [
    "from ipyquizjb.types import Question\n",
    "from ipyquizjb.questions import display_questions\n",
    "\n",
    "questions: list[Question] = [\n",
    "    {\n",
    "        \"type\": \"MULTIPLE_CHOICE\",\n",
    "        \"body\": \"What is the first letter of the alfabet?\",\n",
    "        \"answers\": [\"a\", \"b\", \"c\"],\n",
    "        \"answer\": [\"a\"],\n",
    "        \"when\": \"initial\",\n",
    "    },\n",
    "    {\n",
    "        \"type\": \"MULTIPLE_CHOICE\",\n",
    "        \"body\": \"What is the second letter of the alfabet?\",\n",
    "        \"answers\": [\"a\", \"b\", \"c\"],\n",
    "        \"answer\": [\"b\"],\n",
    "        \"when\": \"retry\",\n",
    "    },\n",
    "    {\n",
    "        \"type\": \"MULTIPLE_CHOICE\",\n",
    "        \"body\": \"What is the third letter of the alfabet?\",\n",
    "        \"answers\": [\"a\", \"b\", \"c\"],\n",
    "        \"answer\": [\"c\"],\n",
    "        \"when\": \"retry\",\n",
    "    },\n",
    "]\n",
    "\n",
    "display_questions(questions)"
   ]
  },
  {
   "cell_type": "code",
   "execution_count": 6,
   "metadata": {},
   "outputs": [
    {
     "data": {
      "application/vnd.jupyter.widget-view+json": {
       "model_id": "8168c9637ae44e3a9ab8368c576b5e66",
       "version_major": 2,
       "version_minor": 0
      },
      "text/plain": [
       "VBox(children=(Output(), Output(layout=Layout(display='none'))))"
      ]
     },
     "metadata": {},
     "output_type": "display_data"
    }
   ],
   "source": [
    "from ipyquizjb.questions import display_package\n",
    "\n",
    "question_package = {\n",
    "    \"questions\": [\n",
    "        {\n",
    "            \"type\": \"MULTIPLE_CHOICE\",\n",
    "            \"body\": \"What is the first letter of the alfabet?\",\n",
    "            \"answers\": [\"a\", \"b\", \"c\"],\n",
    "            \"answer\": [\"a\"],\n",
    "            \"when\": \"initial\",\n",
    "        },\n",
    "        {\n",
    "            \"type\": \"MULTIPLE_CHOICE\",\n",
    "            \"body\": \"What is the second letter of the alfabet?\",\n",
    "            \"answers\": [\"a\", \"b\", \"c\"],\n",
    "            \"answer\": [\"b\"],\n",
    "            \"when\": \"retry\",\n",
    "        },\n",
    "        {\n",
    "            \"type\": \"MULTIPLE_CHOICE\",\n",
    "            \"body\": \"What is the third letter of the alfabet?\",\n",
    "            \"answers\": [\"a\", \"b\", \"c\"],\n",
    "            \"answer\": [\"c\"],\n",
    "            \"when\": \"retry\",\n",
    "        },\n",
    "    ],\n",
    "    \"additional_material\": {\n",
    "      \"type\": \"TEXT\",\n",
    "      \"body\": \"A PID controller consists of three key components: the Proportional (P), Integral (I), and Derivative (D) terms. The proportional component responds to the current error by applying a correction proportional to its magnitude, providing immediate corrective action. The integral component addresses the accumulation of past errors, helping to eliminate steady-state errors over time. The derivative component predicts future errors by responding to the rate of error change, which helps to dampen oscillations and improve system stability. Adjusting each of these components involves trade-offs. Increasing the proportional gain can speed up response but may cause oscillations. A higher integral gain can reduce steady-state error but risks integral windup, leading to overshoot. Boosting the derivative gain can stabilize the response but may also make the system overly sensitive to noise. Understanding these dynamics is crucial for effectively tuning a PID controller.\"\n",
    "    }\n",
    "}\n",
    "\n",
    "display_package(question_package)"
   ]
  }
 ],
 "metadata": {
  "kernelspec": {
   "display_name": ".venv",
   "language": "python",
   "name": "python3"
  },
  "language_info": {
   "codemirror_mode": {
    "name": "ipython",
    "version": 3
   },
   "file_extension": ".py",
   "mimetype": "text/x-python",
   "name": "python",
   "nbconvert_exporter": "python",
   "pygments_lexer": "ipython3",
   "version": "3.12.1"
  }
 },
 "nbformat": 4,
 "nbformat_minor": 2
}
