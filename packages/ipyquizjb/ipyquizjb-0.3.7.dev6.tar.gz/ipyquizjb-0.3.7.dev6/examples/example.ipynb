{
 "cells": [
  {
   "cell_type": "code",
   "execution_count": 1,
   "metadata": {},
   "outputs": [],
   "source": [
    "from ipyquizjb.faceit import display_simple_search\n",
    "\n",
    "#display_simple_search(\"math\", 2)"
   ]
  },
  {
   "cell_type": "code",
   "execution_count": 2,
   "metadata": {},
   "outputs": [
    {
     "data": {
      "text/html": [
       "<script>\n",
       "function versionAgnosticTypeset(element) {\n",
       "    if (MathJax.version.startsWith(\"3\")) {\n",
       "        if (element) {\n",
       "            MathJax.typeset([element]) \n",
       "        } else {\n",
       "            MathJax.typeset()\n",
       "        }   \n",
       "    } else {\n",
       "        if (element) {\n",
       "            MathJax.Hub.Queue(['Typeset', MathJax.Hub, element]);\n",
       "        } else {\n",
       "            MathJax.Hub.Queue(['Typeset', MathJax.Hub]);\n",
       "        }   \n",
       "    }\n",
       "}\n",
       "\n",
       "// Makes buttons with rendered math clickable by\n",
       "// listening for click on the math and then resending a math\n",
       "function make_latex_buttons_clickable() {\n",
       "    // Get elements where either CHTML or PreviewHTML is the renderer\n",
       "    const math_elements = [...document.getElementsByClassName(\"MathJax_CHTML\"), ...document.getElementsByClassName(\"MathJax_PHTML\")]\n",
       "    for (el of document.getElementsByClassName(\"mjx-chtml MathJax_CHTML\")) {\n",
       "        if (element.hasAttribute('clickable-math-listener')) {\n",
       "            // Skip if listener is already attached\n",
       "                 return;\n",
       "        }\n",
       "        el.addEventListener(\"click\", (e) => {\n",
       "            // Find the actual button and click it\n",
       "            e.stopPropagation();\n",
       "            var element = e.target;\n",
       "            var parent = element.parentElement\n",
       "            while (!parent.classList.contains(\"jupyter-button\")) {\n",
       "                parent = parent.parentElement;\n",
       "            }\n",
       "            parent.click();\t\n",
       "        });\n",
       "        el.setAttribute(\"clickable-math-listener\", \"\");\n",
       "    };\n",
       "}\n",
       "                \n",
       "// Used on every rerender\n",
       "function typesetAll() {\n",
       "    console.log(\"Rerender typeset\");\n",
       "    for (element of document.getElementsByClassName(\"ipyquizjb-render-math\")) {\n",
       "        versionAgnosticTypeset(element);\n",
       "    }\n",
       "}\n",
       "\n",
       "versionAgnosticTypeset();\n",
       "</script>"
      ],
      "text/plain": [
       "<IPython.core.display.HTML object>"
      ]
     },
     "metadata": {},
     "output_type": "display_data"
    },
    {
     "data": {
      "application/javascript": "MathJax.typeset()",
      "text/plain": [
       "<IPython.core.display.Javascript object>"
      ]
     },
     "metadata": {},
     "output_type": "display_data"
    },
    {
     "data": {
      "application/vnd.jupyter.widget-view+json": {
       "model_id": "5c980e43ed0347a996a506b89258406c",
       "version_major": 2,
       "version_minor": 0
      },
      "text/plain": [
       "VBox(children=(HTMLMath(value='<h2 style=\\'font-size: 1.25em;\\'>Si consideri il segnale a tempo continuo $x(t)…"
      ]
     },
     "metadata": {},
     "output_type": "display_data"
    },
    {
     "data": {
      "application/vnd.jupyter.widget-view+json": {
       "model_id": "2842e38d6dec416ca4592246457222db",
       "version_major": 2,
       "version_minor": 0
      },
      "text/plain": [
       "VBox(children=(HTMLMath(value='<h2 style=\\'font-size: 1.25em;\\'>Si consideri lo schema a blocchi mostrato nell…"
      ]
     },
     "metadata": {},
     "output_type": "display_data"
    }
   ],
   "source": [
    "display_simple_search(\"consideri\", 2)"
   ]
  },
  {
   "cell_type": "code",
   "execution_count": 3,
   "metadata": {},
   "outputs": [
    {
     "data": {
      "text/html": [
       "<script>\n",
       "function versionAgnosticTypeset(element) {\n",
       "    if (MathJax.version.startsWith(\"3\")) {\n",
       "        if (element) {\n",
       "            MathJax.typeset([element]) \n",
       "        } else {\n",
       "            MathJax.typeset()\n",
       "        }   \n",
       "    } else {\n",
       "        if (element) {\n",
       "            MathJax.Hub.Queue(['Typeset', MathJax.Hub, element]);\n",
       "        } else {\n",
       "            MathJax.Hub.Queue(['Typeset', MathJax.Hub]);\n",
       "        }   \n",
       "    }\n",
       "}\n",
       "\n",
       "// Makes buttons with rendered math clickable by\n",
       "// listening for click on the math and then resending a math\n",
       "function make_latex_buttons_clickable() {\n",
       "    // Get elements where either CHTML or PreviewHTML is the renderer\n",
       "    const math_elements = [...document.getElementsByClassName(\"MathJax_CHTML\"), ...document.getElementsByClassName(\"MathJax_PHTML\")]\n",
       "    for (el of document.getElementsByClassName(\"mjx-chtml MathJax_CHTML\")) {\n",
       "        if (element.hasAttribute('clickable-math-listener')) {\n",
       "            // Skip if listener is already attached\n",
       "                 return;\n",
       "        }\n",
       "        el.addEventListener(\"click\", (e) => {\n",
       "            // Find the actual button and click it\n",
       "            e.stopPropagation();\n",
       "            var element = e.target;\n",
       "            var parent = element.parentElement\n",
       "            while (!parent.classList.contains(\"jupyter-button\")) {\n",
       "                parent = parent.parentElement;\n",
       "            }\n",
       "            parent.click();\t\n",
       "        });\n",
       "        el.setAttribute(\"clickable-math-listener\", \"\");\n",
       "    };\n",
       "}\n",
       "                \n",
       "// Used on every rerender\n",
       "function typesetAll() {\n",
       "    console.log(\"Rerender typeset\");\n",
       "    for (element of document.getElementsByClassName(\"ipyquizjb-render-math\")) {\n",
       "        versionAgnosticTypeset(element);\n",
       "    }\n",
       "}\n",
       "\n",
       "versionAgnosticTypeset();\n",
       "</script>"
      ],
      "text/plain": [
       "<IPython.core.display.HTML object>"
      ]
     },
     "metadata": {},
     "output_type": "display_data"
    },
    {
     "data": {
      "application/javascript": "MathJax.typeset()",
      "text/plain": [
       "<IPython.core.display.Javascript object>"
      ]
     },
     "metadata": {},
     "output_type": "display_data"
    },
    {
     "data": {
      "application/vnd.jupyter.widget-view+json": {
       "model_id": "8c7a36f54a3a435c843b04611c7b8a4f",
       "version_major": 2,
       "version_minor": 0
      },
      "text/plain": [
       "VBox(children=(Output(), Output(layout=Layout(display='none'))), _dom_classes=('ipyquizjb-render-math',))"
      ]
     },
     "metadata": {},
     "output_type": "display_data"
    }
   ],
   "source": [
    " \n",
    "from ipyquizjb import display_json\n",
    " \n",
    "test_json = r\"\"\"{\n",
    "  \"questions\": [\n",
    "    {\n",
    "      \"type\": \"MULTIPLE_CHOICE\",\n",
    "      \"body\": \"What is the derivative of \\\\( \\\\sin(x) \\\\)?\",\n",
    "      \"answers\": [\n",
    "        \"\\\\( -\\\\cos(x) \\\\).\",\n",
    "        \"\\\\( \\\\tan(x) \\\\).\",\n",
    "        \"\\\\( \\\\cos(x) \\\\).\"\n",
    "      ],\n",
    "      \"answer\": [\"\\\\( \\\\cos(x) \\\\).\"],\n",
    "      \"notes\": [\"The derivative of \\\\( \\\\sin(x) \\\\) is \\\\( \\\\cos(x) \\\\).\"]\n",
    "    },\n",
    "    {\n",
    "      \"type\": \"NUMERIC\",\n",
    "      \"body\": \"What's the derivative of z (z'), with respect to x, of z = 4y+x?\",\n",
    "      \"answer\": \"1\",\n",
    "      \"notes\": []\n",
    "    },\n",
    "    {\n",
    "      \"type\": \"TEXT\",\n",
    "      \"body\": \"Is this a text answer?\",\n",
    "      \"notes\": [\"Yes\"]\n",
    "    }\n",
    "  ],\n",
    "  \"additional_material\":\n",
    "    {\n",
    "      \"type\": \"TEXT\",\n",
    "      \"body\": \"A PID controller consists of three key components: the Proportional (P), Integral (I), and Derivative (D) terms. The proportional component responds to the current error by applying a correction proportional to its magnitude, providing immediate corrective action. The integral component addresses the accumulation of past errors, helping to eliminate steady-state errors over time. The derivative component predicts future errors by responding to the rate of error change, which helps to dampen oscillations and improve system stability. Adjusting each of these components involves trade-offs. Increasing the proportional gain can speed up response but may cause oscillations. A higher integral gain can reduce steady-state error but risks integral windup, leading to overshoot. Boosting the derivative gain can stabilize the response but may also make the system overly sensitive to noise. Understanding these dynamics is crucial for effectively tuning a PID controller.\"\n",
    "    }\n",
    "  ,\n",
    "  \"status\": \"success\"\n",
    "}\"\"\"\n",
    " \n",
    "display_json(test_json, as_group=True)\n"
   ]
  },
  {
   "cell_type": "code",
   "execution_count": 4,
   "metadata": {},
   "outputs": [
    {
     "data": {
      "text/html": [
       "<script>\n",
       "function versionAgnosticTypeset(element) {\n",
       "    if (MathJax.version.startsWith(\"3\")) {\n",
       "        if (element) {\n",
       "            MathJax.typeset([element]) \n",
       "        } else {\n",
       "            MathJax.typeset()\n",
       "        }   \n",
       "    } else {\n",
       "        if (element) {\n",
       "            MathJax.Hub.Queue(['Typeset', MathJax.Hub, element]);\n",
       "        } else {\n",
       "            MathJax.Hub.Queue(['Typeset', MathJax.Hub]);\n",
       "        }   \n",
       "    }\n",
       "}\n",
       "\n",
       "// Makes buttons with rendered math clickable by\n",
       "// listening for click on the math and then resending a math\n",
       "function make_latex_buttons_clickable() {\n",
       "    // Get elements where either CHTML or PreviewHTML is the renderer\n",
       "    const math_elements = [...document.getElementsByClassName(\"MathJax_CHTML\"), ...document.getElementsByClassName(\"MathJax_PHTML\")]\n",
       "    for (el of document.getElementsByClassName(\"mjx-chtml MathJax_CHTML\")) {\n",
       "        if (element.hasAttribute('clickable-math-listener')) {\n",
       "            // Skip if listener is already attached\n",
       "                 return;\n",
       "        }\n",
       "        el.addEventListener(\"click\", (e) => {\n",
       "            // Find the actual button and click it\n",
       "            e.stopPropagation();\n",
       "            var element = e.target;\n",
       "            var parent = element.parentElement\n",
       "            while (!parent.classList.contains(\"jupyter-button\")) {\n",
       "                parent = parent.parentElement;\n",
       "            }\n",
       "            parent.click();\t\n",
       "        });\n",
       "        el.setAttribute(\"clickable-math-listener\", \"\");\n",
       "    };\n",
       "}\n",
       "                \n",
       "// Used on every rerender\n",
       "function typesetAll() {\n",
       "    console.log(\"Rerender typeset\");\n",
       "    for (element of document.getElementsByClassName(\"ipyquizjb-render-math\")) {\n",
       "        versionAgnosticTypeset(element);\n",
       "    }\n",
       "}\n",
       "\n",
       "versionAgnosticTypeset();\n",
       "</script>"
      ],
      "text/plain": [
       "<IPython.core.display.HTML object>"
      ]
     },
     "metadata": {},
     "output_type": "display_data"
    },
    {
     "data": {
      "application/javascript": "MathJax.typeset()",
      "text/plain": [
       "<IPython.core.display.Javascript object>"
      ]
     },
     "metadata": {},
     "output_type": "display_data"
    },
    {
     "data": {
      "application/vnd.jupyter.widget-view+json": {
       "model_id": "3208541690a54c8b8440b225ad42ee33",
       "version_major": 2,
       "version_minor": 0
      },
      "text/plain": [
       "VBox(children=(HTMLMath(value=\"<h2 style='font-size: 1.25em;'>Is this a text answer?</h2>\"), Button(descriptio…"
      ]
     },
     "metadata": {},
     "output_type": "display_data"
    },
    {
     "data": {
      "application/vnd.jupyter.widget-view+json": {
       "model_id": "e27e5219fe734c3fa474ceddb1f14185",
       "version_major": 2,
       "version_minor": 0
      },
      "text/plain": [
       "VBox(children=(HTMLMath(value=\"<h2 style='font-size: 1.25em;'>Is this a numeric question?</h2>\"), Button(descr…"
      ]
     },
     "metadata": {},
     "output_type": "display_data"
    }
   ],
   "source": [
    "from ipyquizjb import display_json\n",
    "\n",
    "test_json = r\"\"\"{\n",
    "  \"questions\": [\n",
    "    {\n",
    "      \"type\": \"TEXT\",\n",
    "      \"body\": \"Is this a text answer?\",\n",
    "      \"notes\": [\"Yes\"]\n",
    "    },\n",
    "    {\n",
    "      \"type\": \"TEXT\",\n",
    "      \"body\": \"Is this a numeric question?\",\n",
    "      \"notes\": [\"No\"]\n",
    "    }\n",
    "  ],\n",
    "  \"status\": \"success\"\n",
    "}\"\"\"\n",
    "\n",
    "\n",
    "display_json(test_json, as_group=True)\n"
   ]
  },
  {
   "cell_type": "code",
   "execution_count": 5,
   "metadata": {},
   "outputs": [
    {
     "data": {
      "text/html": [
       "<script>\n",
       "function versionAgnosticTypeset(element) {\n",
       "    if (MathJax.version.startsWith(\"3\")) {\n",
       "        if (element) {\n",
       "            MathJax.typeset([element]) \n",
       "        } else {\n",
       "            MathJax.typeset()\n",
       "        }   \n",
       "    } else {\n",
       "        if (element) {\n",
       "            MathJax.Hub.Queue(['Typeset', MathJax.Hub, element]);\n",
       "        } else {\n",
       "            MathJax.Hub.Queue(['Typeset', MathJax.Hub]);\n",
       "        }   \n",
       "    }\n",
       "}\n",
       "\n",
       "// Makes buttons with rendered math clickable by\n",
       "// listening for click on the math and then resending a math\n",
       "function make_latex_buttons_clickable() {\n",
       "    // Get elements where either CHTML or PreviewHTML is the renderer\n",
       "    const math_elements = [...document.getElementsByClassName(\"MathJax_CHTML\"), ...document.getElementsByClassName(\"MathJax_PHTML\")]\n",
       "    for (el of document.getElementsByClassName(\"mjx-chtml MathJax_CHTML\")) {\n",
       "        if (element.hasAttribute('clickable-math-listener')) {\n",
       "            // Skip if listener is already attached\n",
       "                 return;\n",
       "        }\n",
       "        el.addEventListener(\"click\", (e) => {\n",
       "            // Find the actual button and click it\n",
       "            e.stopPropagation();\n",
       "            var element = e.target;\n",
       "            var parent = element.parentElement\n",
       "            while (!parent.classList.contains(\"jupyter-button\")) {\n",
       "                parent = parent.parentElement;\n",
       "            }\n",
       "            parent.click();\t\n",
       "        });\n",
       "        el.setAttribute(\"clickable-math-listener\", \"\");\n",
       "    };\n",
       "}\n",
       "                \n",
       "// Used on every rerender\n",
       "function typesetAll() {\n",
       "    console.log(\"Rerender typeset\");\n",
       "    for (element of document.getElementsByClassName(\"ipyquizjb-render-math\")) {\n",
       "        versionAgnosticTypeset(element);\n",
       "    }\n",
       "}\n",
       "\n",
       "versionAgnosticTypeset();\n",
       "</script>"
      ],
      "text/plain": [
       "<IPython.core.display.HTML object>"
      ]
     },
     "metadata": {},
     "output_type": "display_data"
    },
    {
     "data": {
      "application/javascript": "MathJax.typeset()",
      "text/plain": [
       "<IPython.core.display.Javascript object>"
      ]
     },
     "metadata": {},
     "output_type": "display_data"
    },
    {
     "data": {
      "application/vnd.jupyter.widget-view+json": {
       "model_id": "aa085f4bed7448deae03048e9c2b1819",
       "version_major": 2,
       "version_minor": 0
      },
      "text/plain": [
       "VBox(children=(Output(), Output()), _dom_classes=('ipyquizjb-render-math',))"
      ]
     },
     "metadata": {},
     "output_type": "display_data"
    }
   ],
   "source": [
    "from ipyquizjb.types import Question\n",
    "from ipyquizjb.questions import display_questions\n",
    "\n",
    "questions: list[Question] = [\n",
    "    {\n",
    "        \"type\": \"MULTIPLE_CHOICE\",\n",
    "        \"body\": \"What is the first letter of the alfabet?\",\n",
    "        \"answers\": [\"a\", \"b\", \"c\"],\n",
    "        \"answer\": [\"a\"],\n",
    "        \"when\": \"initial\",\n",
    "    },\n",
    "    {\n",
    "        \"type\": \"MULTIPLE_CHOICE\",\n",
    "        \"body\": \"What is the second letter of the alfabet?\",\n",
    "        \"answers\": [\"a\", \"b\", \"c\"],\n",
    "        \"answer\": [\"b\"],\n",
    "        \"when\": \"retry\",\n",
    "    },\n",
    "    {\n",
    "        \"type\": \"MULTIPLE_CHOICE\",\n",
    "        \"body\": \"What is the third letter of the alfabet?\",\n",
    "        \"answers\": [\"a\", \"b\", \"c\"],\n",
    "        \"answer\": [\"c\"],\n",
    "        \"when\": \"retry\",\n",
    "    },\n",
    "]\n",
    "\n",
    "display_questions(questions)"
   ]
  },
  {
   "cell_type": "code",
   "execution_count": 6,
   "metadata": {},
   "outputs": [
    {
     "data": {
      "text/html": [
       "<script>\n",
       "function versionAgnosticTypeset(element) {\n",
       "    if (MathJax.version.startsWith(\"3\")) {\n",
       "        if (element) {\n",
       "            MathJax.typeset([element]) \n",
       "        } else {\n",
       "            MathJax.typeset()\n",
       "        }   \n",
       "    } else {\n",
       "        if (element) {\n",
       "            MathJax.Hub.Queue(['Typeset', MathJax.Hub, element]);\n",
       "        } else {\n",
       "            MathJax.Hub.Queue(['Typeset', MathJax.Hub]);\n",
       "        }   \n",
       "    }\n",
       "}\n",
       "\n",
       "// Makes buttons with rendered math clickable by\n",
       "// listening for click on the math and then resending a math\n",
       "function make_latex_buttons_clickable() {\n",
       "    // Get elements where either CHTML or PreviewHTML is the renderer\n",
       "    const math_elements = [...document.getElementsByClassName(\"MathJax_CHTML\"), ...document.getElementsByClassName(\"MathJax_PHTML\")]\n",
       "    for (el of document.getElementsByClassName(\"mjx-chtml MathJax_CHTML\")) {\n",
       "        if (element.hasAttribute('clickable-math-listener')) {\n",
       "            // Skip if listener is already attached\n",
       "                 return;\n",
       "        }\n",
       "        el.addEventListener(\"click\", (e) => {\n",
       "            // Find the actual button and click it\n",
       "            e.stopPropagation();\n",
       "            var element = e.target;\n",
       "            var parent = element.parentElement\n",
       "            while (!parent.classList.contains(\"jupyter-button\")) {\n",
       "                parent = parent.parentElement;\n",
       "            }\n",
       "            parent.click();\t\n",
       "        });\n",
       "        el.setAttribute(\"clickable-math-listener\", \"\");\n",
       "    };\n",
       "}\n",
       "                \n",
       "// Used on every rerender\n",
       "function typesetAll() {\n",
       "    console.log(\"Rerender typeset\");\n",
       "    for (element of document.getElementsByClassName(\"ipyquizjb-render-math\")) {\n",
       "        versionAgnosticTypeset(element);\n",
       "    }\n",
       "}\n",
       "\n",
       "versionAgnosticTypeset();\n",
       "</script>"
      ],
      "text/plain": [
       "<IPython.core.display.HTML object>"
      ]
     },
     "metadata": {},
     "output_type": "display_data"
    },
    {
     "data": {
      "application/javascript": "MathJax.typeset()",
      "text/plain": [
       "<IPython.core.display.Javascript object>"
      ]
     },
     "metadata": {},
     "output_type": "display_data"
    },
    {
     "data": {
      "application/vnd.jupyter.widget-view+json": {
       "model_id": "8cd87cf2ad6347e19bb20d622dce0920",
       "version_major": 2,
       "version_minor": 0
      },
      "text/plain": [
       "VBox(children=(Output(), Output(layout=Layout(display='none'))), _dom_classes=('ipyquizjb-render-math',))"
      ]
     },
     "metadata": {},
     "output_type": "display_data"
    }
   ],
   "source": [
    "from ipyquizjb.questions import display_package\n",
    "\n",
    "question_package = {\n",
    "    \"questions\": [\n",
    "        {\n",
    "            \"type\": \"MULTIPLE_CHOICE\",\n",
    "            \"body\": \"What is the first letter of the alfabet?\",\n",
    "            \"answers\": [\"a\", \"b\", \"c\"],\n",
    "            \"answer\": [\"a\"],\n",
    "            \"when\": \"initial\",\n",
    "        },\n",
    "        {\n",
    "            \"type\": \"MULTIPLE_CHOICE\",\n",
    "            \"body\": \"What is the second letter of the alfabet?\",\n",
    "            \"answers\": [\"a\", \"b\", \"c\"],\n",
    "            \"answer\": [\"b\"],\n",
    "            \"when\": \"retry\",\n",
    "        },\n",
    "        {\n",
    "            \"type\": \"MULTIPLE_CHOICE\",\n",
    "            \"body\": \"What is the third letter of the alfabet?\",\n",
    "            \"answers\": [\"a\", \"b\", \"c\"],\n",
    "            \"answer\": [\"c\"],\n",
    "            \"when\": \"retry\",\n",
    "        },\n",
    "    ],\n",
    "    \"additional_material\": {\n",
    "      \"type\": \"TEXT\",\n",
    "      \"body\": \"A PID controller consists of three key components: the Proportional (P), Integral (I), and Derivative (D) terms. The proportional component responds to the current error by applying a correction proportional to its magnitude, providing immediate corrective action. The integral component addresses the accumulation of past errors, helping to eliminate steady-state errors over time. The derivative component predicts future errors by responding to the rate of error change, which helps to dampen oscillations and improve system stability. Adjusting each of these components involves trade-offs. Increasing the proportional gain can speed up response but may cause oscillations. A higher integral gain can reduce steady-state error but risks integral windup, leading to overshoot. Boosting the derivative gain can stabilize the response but may also make the system overly sensitive to noise. Understanding these dynamics is crucial for effectively tuning a PID controller.\"\n",
    "    }\n",
    "}\n",
    "\n",
    "display_package(question_package)"
   ]
  }
 ],
 "metadata": {
  "kernelspec": {
   "display_name": ".venv",
   "language": "python",
   "name": "python3"
  },
  "language_info": {
   "codemirror_mode": {
    "name": "ipython",
    "version": 3
   },
   "file_extension": ".py",
   "mimetype": "text/x-python",
   "name": "python",
   "nbconvert_exporter": "python",
   "pygments_lexer": "ipython3",
   "version": "3.12.1"
  }
 },
 "nbformat": 4,
 "nbformat_minor": 2
}
