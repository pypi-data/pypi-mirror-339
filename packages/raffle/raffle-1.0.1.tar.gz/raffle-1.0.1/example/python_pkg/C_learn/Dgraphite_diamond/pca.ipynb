{
 "cells": [
  {
   "cell_type": "code",
   "execution_count": null,
   "metadata": {},
   "outputs": [],
   "source": [
    "import matplotlib.pyplot as plt\n",
    "%matplotlib inline\n",
    "\n",
    "# matplotlib.use(\"Agg\")\n",
    "\n",
    "from ase import Atoms\n",
    "from ase.build import bulk\n",
    "from ase.io import read\n",
    "from agox.databases import Database\n",
    "from agox.environments import Environment\n",
    "from agox.utils.graph_sorting import Analysis\n",
    "\n",
    "import numpy as np\n",
    "from sklearn.decomposition import PCA\n",
    "from matplotlib.ticker import (MultipleLocator, AutoMinorLocator)"
   ]
  },
  {
   "cell_type": "code",
   "execution_count": null,
   "metadata": {},
   "outputs": [],
   "source": [
    "## Set up the plotting environment\n",
    "# matplotlib.rcParams.update(matplotlib.rcParamsDefault)\n",
    "plt.rc('text', usetex=True)\n",
    "plt.rc('font', family='cmr10', size=12)\n",
    "plt.rcParams[\"axes.formatter.use_mathtext\"] = True"
   ]
  },
  {
   "cell_type": "code",
   "execution_count": null,
   "metadata": {},
   "outputs": [],
   "source": [
    "## Set the plotting parameters\n",
    "seed = 0\n",
    "identifier = \"4\"\n",
    "# min_energy = -9.064090728759766"
   ]
  },
  {
   "cell_type": "code",
   "execution_count": null,
   "metadata": {},
   "outputs": [],
   "source": [
    "## Set the descriptors\n",
    "from agox.models.descriptors import SOAP\n",
    "local_descriptor = local_descriptor = SOAP.from_species([\"C\"], r_cut=5.0)"
   ]
  },
  {
   "cell_type": "code",
   "execution_count": null,
   "metadata": {},
   "outputs": [],
   "source": [
    "## Set the calculators\n",
    "from chgnet.model import CHGNetCalculator\n",
    "from ase.calculators.singlepoint import SinglePointCalculator\n",
    "calc = CHGNetCalculator()"
   ]
  },
  {
   "cell_type": "code",
   "execution_count": null,
   "metadata": {},
   "outputs": [],
   "source": [
    "## Load the unrelaxed structures\n",
    "unrlxd_structures = read(\"DOutput\"+identifier+\"/unrlxd_structures_seed\"+str(seed)+\".traj\", index=\":\")\n",
    "for structure in unrlxd_structures:\n",
    "  structure.calc = calc"
   ]
  },
  {
   "cell_type": "code",
   "execution_count": null,
   "metadata": {},
   "outputs": [],
   "source": [
    "## Load the relaxed structures\n",
    "rlxd_structures = read(\"DOutput\"+identifier+\"/rlxd_structures_seed\"+str(seed)+\".traj\", index=\":\")\n",
    "for structure in rlxd_structures:\n",
    "  structure.calc = calc"
   ]
  },
  {
   "cell_type": "code",
   "execution_count": null,
   "metadata": {},
   "outputs": [],
   "source": [
    "# read energies from energies_unrlxd_seed0.txt and add to the respective structures using a SinglePointCalculator\n",
    "# the file has the form \"index energy\"\n",
    "filename = \"DOutput\"+identifier+\"/energies_unrlxd_seed\"+str(seed)+\".txt\"\n",
    "with open(filename) as f:\n",
    "    for line in f:\n",
    "        index, energy = line.split()\n",
    "        index = int(index)\n",
    "        energy = float(energy)\n",
    "        unrlxd_structures[index].calc = SinglePointCalculator(unrlxd_structures[index], energy=energy * len(unrlxd_structures[index]))\n",
    "\n",
    "\n",
    "filename = \"DOutput\"+identifier+\"/energies_rlxd_seed\"+str(seed)+\".txt\"\n",
    "with open(filename) as f:\n",
    "    for line in f:\n",
    "        index, energy = line.split()\n",
    "        index = int(index)\n",
    "        energy = float(energy)\n",
    "        rlxd_structures[index].calc = SinglePointCalculator(rlxd_structures[index], energy=energy * len(rlxd_structures[index]))"
   ]
  },
  {
   "cell_type": "code",
   "execution_count": null,
   "metadata": {},
   "outputs": [],
   "source": [
    "diamond = bulk(\"C\", \"diamond\", a=3.567)  # Lattice constant for diamond cubic carbon\n",
    "diamond.calc = calc\n",
    "diamond_energy = diamond.get_potential_energy()\n",
    "diamond_energy_per_atom = diamond_energy / len(diamond)\n",
    "\n",
    "graphite = read(\"graphite.vasp\")\n",
    "graphite.calc = calc\n",
    "graphite_energy = graphite.get_potential_energy()\n",
    "graphite_energy_per_atom = graphite_energy / len(graphite)"
   ]
  },
  {
   "cell_type": "code",
   "execution_count": null,
   "metadata": {},
   "outputs": [],
   "source": [
    "# Calculate energies per atom for the relaxed structures\n",
    "energies_per_atom = [structure.get_potential_energy() / len(structure) for structure in rlxd_structures]\n",
    "min_energy = np.min(energies_per_atom)\n",
    "rlxd_delta_en_per_atom = np.array(energies_per_atom) - min_energy\n",
    "print(\"Relaxed min energy: \", np.min(energies_per_atom))"
   ]
  },
  {
   "cell_type": "code",
   "execution_count": null,
   "metadata": {},
   "outputs": [],
   "source": [
    "# Calculate energies per atom for the unrelaxed structures\n",
    "energies_per_atom = [structure.get_potential_energy() / len(structure) for structure in unrlxd_structures]\n",
    "unrlxd_delta_en_per_atom = np.array(energies_per_atom) - min_energy\n",
    "print(\"Unrelaxed min energy: \", np.min(energies_per_atom))"
   ]
  },
  {
   "cell_type": "code",
   "execution_count": null,
   "metadata": {},
   "outputs": [],
   "source": [
    "if abs( np.min(energies_per_atom) - min_energy ) > 5e-2:\n",
    "  print(\"Minimum energy per atom is not zero. Check the energy calculation.\")"
   ]
  },
  {
   "cell_type": "code",
   "execution_count": null,
   "metadata": {},
   "outputs": [],
   "source": [
    "## Set up the PCA\n",
    "pca = PCA(n_components=2)"
   ]
  },
  {
   "cell_type": "code",
   "execution_count": null,
   "metadata": {},
   "outputs": [],
   "source": [
    "## Fit the PCA model to the unrelaxed or relaxed structures\n",
    "rlxd_string = \"rlxd\""
   ]
  },
  {
   "cell_type": "code",
   "execution_count": null,
   "metadata": {},
   "outputs": [],
   "source": [
    "## Get the 'super atom' descriptors for the unrelaxed structures\n",
    "unrlxd_super_atoms = []\n",
    "for structure in unrlxd_structures:\n",
    "  unrlxd_super_atoms.append( np.mean(local_descriptor.get_features(structure), axis=0) )"
   ]
  },
  {
   "cell_type": "code",
   "execution_count": null,
   "metadata": {},
   "outputs": [],
   "source": [
    "## Get the 'super atom' descriptors for the relaxed structures\n",
    "rlxd_super_atoms = []\n",
    "for structure in rlxd_structures:\n",
    "  rlxd_super_atoms.append( np.mean(local_descriptor.get_features(structure), axis=0) )"
   ]
  },
  {
   "cell_type": "code",
   "execution_count": null,
   "metadata": {},
   "outputs": [],
   "source": [
    "## Save pca model\n",
    "import pickle\n",
    "if True:\n",
    "  pca.fit(np.squeeze([arr for arr in rlxd_super_atoms]))\n",
    "  with open(\"pca_model_all_rlxd_\"+str(seed)+\".pkl\", \"wb\") as f:\n",
    "    pickle.dump(pca, f)\n",
    "\n",
    "## Load pca model\n",
    "with open(\"pca_model_all_\"+rlxd_string+\"_0.pkl\", \"rb\") as f:\n",
    "  pca = pickle.load(f)"
   ]
  },
  {
   "cell_type": "code",
   "execution_count": null,
   "metadata": {},
   "outputs": [],
   "source": [
    "# Get super atom descriptors for diamond and graphite\n",
    "graphite_super_atoms = [ np.mean(local_descriptor.get_features(graphite), axis=0) ]\n",
    "diamond_super_atoms = [ np.mean(local_descriptor.get_features(diamond), axis=0) ]"
   ]
  },
  {
   "cell_type": "code",
   "execution_count": null,
   "metadata": {},
   "outputs": [],
   "source": [
    "## Transform the unrelaxed and relaxed structures to the reduced space\n",
    "unrlxd_X_reduced = pca.transform(np.squeeze([arr for arr in unrlxd_super_atoms]))\n",
    "rlxd_X_reduced = pca.transform(np.squeeze([arr for arr in rlxd_super_atoms]))\n",
    "graphite_X_reduced = pca.transform([np.squeeze([graphite_super_atoms])])\n",
    "diamond_X_reduced = pca.transform([np.squeeze([diamond_super_atoms])])"
   ]
  },
  {
   "cell_type": "code",
   "execution_count": null,
   "metadata": {},
   "outputs": [],
   "source": [
    "## Get the index of the structure with the minimum energy\n",
    "min_energy_index = np.argmin(rlxd_delta_en_per_atom)\n",
    "print(min_energy_index)"
   ]
  },
  {
   "cell_type": "code",
   "execution_count": null,
   "metadata": {},
   "outputs": [],
   "source": [
    "## Plot the PCA\n",
    "fig, axes = plt.subplots(nrows=1, ncols=2, figsize=(8, 6))\n",
    "\n",
    "plt.subplots_adjust(wspace=0.05, hspace=0)\n",
    "\n",
    "## Get the maximum energy for the colourbar\n",
    "max_en = min(3.5, max(np.max(unrlxd_delta_en_per_atom), np.max(rlxd_delta_en_per_atom)))\n",
    "\n",
    "## Plot the PCA\n",
    "axes[0].scatter(unrlxd_X_reduced[:, 0], unrlxd_X_reduced[:, 1], c=unrlxd_delta_en_per_atom, cmap=\"viridis\", vmin = 0, vmax = max_en)\n",
    "axes[1].scatter(rlxd_X_reduced[:, 0], rlxd_X_reduced[:, 1], c=rlxd_delta_en_per_atom, cmap=\"viridis\", vmin = 0, vmax = max_en)\n",
    "\n",
    "## Add the minimum energy structures to the plot\n",
    "for ax in axes:\n",
    "    ax.scatter(diamond_X_reduced[0,0], diamond_X_reduced[0,1], s=200, edgecolor=[1.0, 0.0, 0.0, 0.5], facecolor='none', linewidth=2, label='diamond')\n",
    "    ax.scatter(graphite_X_reduced[0,0], graphite_X_reduced[0,1], s=200, edgecolor=[1.0, 0.0, 0.0, 1.0], facecolor='none', linewidth=2, label='graphite')\n",
    "    if ax == axes[1]:\n",
    "        handles, labels = ax.get_legend_handles_labels()\n",
    "        ax.legend(handles[::-1], labels[::-1], facecolor='white', framealpha=1.0, edgecolor='black', fancybox=False, loc='upper right', fontsize=20, handletextpad=0.1)\n",
    "\n",
    "## Add labels\n",
    "fig.text(0.5, 0.0, 'Principal component 1', ha='center', fontsize=20)\n",
    "axes[0].set_ylabel('Principal component 2', fontsize=20)\n",
    "axes[0].set_title('Unrelaxed', fontsize=20)\n",
    "axes[1].set_title('Relaxed', fontsize=20)\n",
    "if rlxd_string == \"rlxd\":\n",
    "    xlims = [-310, 310]\n",
    "    ylims = [-53, 53]\n",
    "else:\n",
    "    xlims = [-5, 13]\n",
    "    ylims = [-6.5, 13]\n",
    "\n",
    "for ax in axes:\n",
    "    ax.tick_params(axis='both', direction='in', length=6, labelsize=20)\n",
    "    # ax.yaxis.set_major_locator(MultipleLocator(3))\n",
    "    ax.yaxis.set_minor_locator(AutoMinorLocator(2))\n",
    "    ax.xaxis.set_minor_locator(AutoMinorLocator(2))\n",
    "    ax.tick_params(axis='both', which='minor', length=3, direction='in')\n",
    "    ax.set_xlim(xlims)\n",
    "    ax.set_ylim(ylims)\n",
    "\n",
    "## Unify tick labels\n",
    "xticks = axes[0].get_xticks()\n",
    "xticks = xticks[(xticks >= xlims[0]) & (xticks <= xlims[1])]\n",
    "\n",
    "axes[1].set_xticks(xticks)\n",
    "axes[1].set_yticklabels([])\n",
    "axes[0].tick_params(axis='x', labelbottom=True, top=True)\n",
    "axes[1].tick_params(axis='x', labelbottom=True, top=True)\n",
    "axes[0].tick_params(axis='y', labelbottom=True, right=True)\n",
    "axes[1].tick_params(axis='y', labelbottom=True, right=True)\n",
    "\n",
    "## Make axes[0] and axes[1] the same width\n",
    "axes[0].set_box_aspect(1.7)\n",
    "axes[1].set_box_aspect(1.7)\n",
    "\n",
    "## Add colorbar next to the axes\n",
    "cbar = fig.colorbar(axes[1].collections[0], ax=axes, orientation='vertical', fraction=0.085, pad=0.02)\n",
    "cbar.ax.tick_params(labelsize=20)\n",
    "cbar.ax.yaxis.set_major_locator(MultipleLocator(1))\n",
    "cbar.ax.yaxis.set_minor_locator(AutoMinorLocator(2))\n",
    "cbar.set_label('Formation energy (eV/atom)', fontsize=20)\n",
    "\n",
    "## Save the figure\n",
    "plt.savefig('C_RAFFLE'+identifier+'_pca_'+rlxd_string+'_fit_seed'+str(seed)+'.pdf', bbox_inches='tight', pad_inches=0, facecolor=fig.get_facecolor(), edgecolor='none')"
   ]
  },
  {
   "cell_type": "code",
   "execution_count": null,
   "metadata": {},
   "outputs": [],
   "source": [
    "len(rlxd_structures)"
   ]
  },
  {
   "cell_type": "code",
   "execution_count": null,
   "metadata": {},
   "outputs": [],
   "source": []
  }
 ],
 "metadata": {
  "kernelspec": {
   "display_name": "raffle_env",
   "language": "python",
   "name": "python3"
  },
  "language_info": {
   "codemirror_mode": {
    "name": "ipython",
    "version": 3
   },
   "file_extension": ".py",
   "mimetype": "text/x-python",
   "name": "python",
   "nbconvert_exporter": "python",
   "pygments_lexer": "ipython3",
   "version": "3.12.8"
  }
 },
 "nbformat": 4,
 "nbformat_minor": 2
}
