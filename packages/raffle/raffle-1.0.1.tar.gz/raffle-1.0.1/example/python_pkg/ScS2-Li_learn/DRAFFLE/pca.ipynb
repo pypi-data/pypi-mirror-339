{
 "cells": [
  {
   "cell_type": "code",
   "execution_count": null,
   "metadata": {},
   "outputs": [],
   "source": [
    "import matplotlib.pyplot as plt\n",
    "%matplotlib inline\n",
    "\n",
    "# matplotlib.use(\"Agg\")\n",
    "\n",
    "from ase.io import read\n",
    "from agox.databases import Database\n",
    "from agox.environments import Environment\n",
    "from agox.utils.graph_sorting import Analysis\n",
    "\n",
    "import numpy as np\n",
    "from sklearn.decomposition import PCA\n",
    "from matplotlib.ticker import (MultipleLocator, AutoMinorLocator)"
   ]
  },
  {
   "cell_type": "code",
   "execution_count": null,
   "metadata": {},
   "outputs": [],
   "source": [
    "## Set up the plotting environment\n",
    "# matplotlib.rcParams.update(matplotlib.rcParamsDefault)\n",
    "plt.rc('text', usetex=True)\n",
    "plt.rc('font', family='cmr10', size=12)\n",
    "plt.rcParams[\"axes.formatter.use_mathtext\"] = True"
   ]
  },
  {
   "cell_type": "code",
   "execution_count": null,
   "metadata": {},
   "outputs": [],
   "source": [
    "## Set the plotting parameters\n",
    "seed = 0\n",
    "identifier = \"\"\n",
    "use_AGOX = True\n",
    "insert_images = False"
   ]
  },
  {
   "cell_type": "code",
   "execution_count": null,
   "metadata": {},
   "outputs": [],
   "source": [
    "## Set the descriptors\n",
    "if use_AGOX:\n",
    "    from agox.models.descriptors import SOAP\n",
    "    local_descriptor = SOAP.from_species([\"Sc\", \"S\", \"Li\"], r_cut=5.0)\n",
    "else:\n",
    "    from dscribe.descriptors import SOAP as dscribe_SOAP\n",
    "    avg_local_descriptor = dscribe_SOAP(species=[\"Sc\", \"S\", \"Li\"], r_cut=5.0, n_max=8, l_max=6, periodic=True, average=\"inner\")"
   ]
  },
  {
   "cell_type": "code",
   "execution_count": null,
   "metadata": {},
   "outputs": [],
   "source": [
    "## Set the calculators\n",
    "from chgnet.model import CHGNetCalculator\n",
    "from ase.calculators.singlepoint import SinglePointCalculator\n",
    "calc = CHGNetCalculator()"
   ]
  },
  {
   "cell_type": "code",
   "execution_count": null,
   "metadata": {},
   "outputs": [],
   "source": [
    "## Load the unrelaxed structures\n",
    "unrlxd_structures = read(\"DOutput\"+identifier+\"/unrlxd_structures_seed\"+str(seed)+\".traj\", index=\":\")\n",
    "for structure in unrlxd_structures:\n",
    "  structure.calc = calc"
   ]
  },
  {
   "cell_type": "code",
   "execution_count": null,
   "metadata": {},
   "outputs": [],
   "source": [
    "## Load the relaxed structures\n",
    "rlxd_structures = read(\"DOutput\"+identifier+\"/rlxd_structures_seed\"+str(seed)+\".traj\", index=\":\")\n",
    "for structure in rlxd_structures:\n",
    "  structure.calc = calc"
   ]
  },
  {
   "cell_type": "code",
   "execution_count": null,
   "metadata": {},
   "outputs": [],
   "source": [
    "## Read energies from energies_unrlxd_seed0.txt and add to the respective structures using a SinglePointCalculator\n",
    "## The file has the form \"index energy\"\n",
    "## This is done because there seem to be issues with storing the energy in the ASE trajectory file for some setups\n",
    "filename = \"DOutput\"+identifier+\"/energies_unrlxd_seed\"+str(seed)+\".txt\"\n",
    "with open(filename) as f:\n",
    "    for line in f:\n",
    "        index, energy = line.split()\n",
    "        index = int(index)\n",
    "        energy = float(energy)\n",
    "        unrlxd_structures[index].calc = SinglePointCalculator(unrlxd_structures[index], energy=energy * len(unrlxd_structures[index]))\n",
    "\n",
    "\n",
    "filename = \"DOutput\"+identifier+\"/energies_rlxd_seed\"+str(seed)+\".txt\"\n",
    "with open(filename) as f:\n",
    "    for line in f:\n",
    "        index, energy = line.split()\n",
    "        index = int(index)\n",
    "        energy = float(energy)\n",
    "        rlxd_structures[index].calc = SinglePointCalculator(rlxd_structures[index], energy=energy * len(rlxd_structures[index]))"
   ]
  },
  {
   "cell_type": "code",
   "execution_count": null,
   "metadata": {},
   "outputs": [],
   "source": [
    "## Get the minimum energy of the relaxed structures\n",
    "min_energy = np.min([structure.get_potential_energy()/len(structure) for structure in rlxd_structures])"
   ]
  },
  {
   "cell_type": "code",
   "execution_count": null,
   "metadata": {},
   "outputs": [],
   "source": [
    "## Calculate energies per atom for each unrelaxed structure\n",
    "energies_per_atom = [structure.get_potential_energy() / len(structure) for structure in unrlxd_structures]\n",
    "unrlxd_delta_en_per_atom = np.array(energies_per_atom) - min_energy\n",
    "print(\"Unrelaxed min energy: \", np.min(energies_per_atom))"
   ]
  },
  {
   "cell_type": "code",
   "execution_count": null,
   "metadata": {},
   "outputs": [],
   "source": [
    "## Calculate energies per atom for each relaxed structure\n",
    "energies_per_atom = [structure.get_potential_energy() / len(structure) for structure in rlxd_structures]\n",
    "rlxd_delta_en_per_atom = np.array(energies_per_atom) - min_energy\n",
    "print(\"Relaxed min energy: \", np.min(energies_per_atom))"
   ]
  },
  {
   "cell_type": "code",
   "execution_count": null,
   "metadata": {},
   "outputs": [],
   "source": [
    "## Set up the PCA\n",
    "pca = PCA(n_components=2)"
   ]
  },
  {
   "cell_type": "code",
   "execution_count": null,
   "metadata": {},
   "outputs": [],
   "source": [
    "## Get the 'super atom' descriptors for the unrelaxed structures\n",
    "unrlxd_super_atoms = []\n",
    "for structure in unrlxd_structures:\n",
    "  unrlxd_super_atoms.append( np.mean(local_descriptor.get_features(structure), axis=0) )"
   ]
  },
  {
   "cell_type": "code",
   "execution_count": null,
   "metadata": {},
   "outputs": [],
   "source": [
    "## Get the 'super atom' descriptors for the relaxed structures\n",
    "rlxd_super_atoms = []\n",
    "for structure in rlxd_structures:\n",
    "  rlxd_super_atoms.append( np.mean(local_descriptor.get_features(structure), axis=0) )"
   ]
  },
  {
   "cell_type": "code",
   "execution_count": null,
   "metadata": {},
   "outputs": [],
   "source": [
    "## Fit the PCA model to the unrelaxed or relaxed structures\n",
    "rlxd_string = \"rlxd\""
   ]
  },
  {
   "cell_type": "code",
   "execution_count": null,
   "metadata": {},
   "outputs": [],
   "source": [
    "## Save pca model\n",
    "import pickle\n",
    "if True:\n",
    "  if use_AGOX:\n",
    "    pca.fit(np.squeeze([arr for arr in unrlxd_super_atoms]))\n",
    "  else:\n",
    "    pca.fit(np.squeeze([arr for arr in avg_local_descriptor.create(rlxd_structures)]))\n",
    "  with open(\"pca_model_all_rlxd_\"+str(seed)+\".pkl\", \"wb\") as f:\n",
    "    pickle.dump(pca, f)\n",
    "\n",
    "## Load pca model\n",
    "with open(\"pca_model_all_\"+rlxd_string+\"_0.pkl\", \"rb\") as f:\n",
    "  pca = pickle.load(f)"
   ]
  },
  {
   "cell_type": "code",
   "execution_count": null,
   "metadata": {},
   "outputs": [],
   "source": [
    "## Transform the unrelaxed and relaxed structures to the reduced space\n",
    "if use_AGOX:\n",
    "    unrlxd_X_reduced = pca.transform(np.squeeze([arr for arr in unrlxd_super_atoms]))\n",
    "    rlxd_X_reduced = pca.transform(np.squeeze([arr for arr in rlxd_super_atoms]))\n",
    "else:\n",
    "    unrlxd_X_reduced = pca.transform(np.squeeze([arr for arr in avg_local_descriptor.create(unrlxd_structures)]))\n",
    "    rlxd_X_reduced = pca.transform(np.squeeze([arr for arr in avg_local_descriptor.create(rlxd_structures)]))"
   ]
  },
  {
   "cell_type": "code",
   "execution_count": null,
   "metadata": {},
   "outputs": [],
   "source": [
    "## Get the index of the structure with the minimum energy\n",
    "min_energy_index = np.argmin(rlxd_delta_en_per_atom)\n",
    "print(min_energy_index)"
   ]
  },
  {
   "cell_type": "code",
   "execution_count": null,
   "metadata": {},
   "outputs": [],
   "source": [
    "if insert_images:\n",
    "    from matplotlib.offsetbox import OffsetImage, AnnotationBbox, DrawingArea\n",
    "    import matplotlib.patches as patches\n",
    "    t_phase_img = plt.imread('T-phase.eps')\n",
    "    tetrahedral_img = plt.imread('Tetrahedral.eps')"
   ]
  },
  {
   "cell_type": "code",
   "execution_count": null,
   "metadata": {},
   "outputs": [],
   "source": [
    "## Plot the PCA\n",
    "fig, axes = plt.subplots(nrows=1, ncols=2, figsize=(8, 6))\n",
    "\n",
    "plt.subplots_adjust(wspace=0.05, hspace=0)\n",
    "\n",
    "## Get the maximum energy for the colourbar\n",
    "max_en = min(3.0, max(np.max(unrlxd_delta_en_per_atom), np.max(rlxd_delta_en_per_atom)))\n",
    "\n",
    "## Plot the PCA\n",
    "axes[0].scatter(unrlxd_X_reduced[:, 0], unrlxd_X_reduced[:, 1], c=unrlxd_delta_en_per_atom, cmap=\"viridis\", vmin = 0, vmax = max_en)\n",
    "axes[1].scatter(rlxd_X_reduced[:, 0], rlxd_X_reduced[:, 1], c=rlxd_delta_en_per_atom, cmap=\"viridis\", vmin = 0, vmax = max_en)\n",
    "\n",
    "## Add the minimum energy structures to the plot\n",
    "for ax in axes:\n",
    "    ax.scatter(rlxd_X_reduced[103, 0], rlxd_X_reduced[103, 1], s=200, edgecolor=[1.0, 0.5, 0.5, 0.8], facecolor='none', linewidth=2, label='Tetrahedral')\n",
    "    ax.scatter(rlxd_X_reduced[101, 0], rlxd_X_reduced[101, 1], s=200, edgecolor='red', facecolor='none', linewidth=2, label='T-phase')\n",
    "    if ax == axes[1]:\n",
    "        handles, labels = ax.get_legend_handles_labels()\n",
    "        ax.legend(handles[::-1], labels[::-1], facecolor='white', framealpha=1.0, edgecolor='black', fancybox=False, bbox_to_anchor=(1.04, 1.02), fontsize=20, handletextpad=0.2, borderpad=0.3, handlelength=1)\n",
    "  \n",
    "## Add labels\n",
    "fig.text(0.5, 0.0, 'Principal component 1', ha='center', fontsize=20)\n",
    "axes[0].set_ylabel('Principal component 2', fontsize=20)\n",
    "axes[0].set_title('Unrelaxed', fontsize=20)\n",
    "axes[1].set_title('Relaxed', fontsize=20)\n",
    "if rlxd_string == \"rlxd\":\n",
    "    xlims = [-20, 90]\n",
    "    ylims = [-20, 30]\n",
    "else:\n",
    "    xlims = [-20, 90]\n",
    "    ylims = [-30, 30]\n",
    "\n",
    "for ax in axes:\n",
    "    ax.tick_params(axis='both', direction='in', length=6, labelsize=20)\n",
    "    # ax.yaxis.set_major_locator(MultipleLocator(3))\n",
    "    ax.yaxis.set_minor_locator(AutoMinorLocator(2))\n",
    "    ax.xaxis.set_minor_locator(AutoMinorLocator(2))\n",
    "    ax.tick_params(axis='both', which='minor', length=3, direction='in')\n",
    "    ax.set_xlim(xlims)\n",
    "    ax.set_ylim(ylims)\n",
    "\n",
    "## Unify tick labels\n",
    "xticks = axes[0].get_xticks()\n",
    "xticks = xticks[(xticks >= xlims[0]) & (xticks <= xlims[1])]\n",
    "axes[1].set_xticks(xticks)\n",
    "axes[1].set_yticklabels([])\n",
    "axes[0].tick_params(axis='x', labelbottom=True, top=True)\n",
    "axes[1].tick_params(axis='x', labelbottom=True, top=True)\n",
    "axes[0].tick_params(axis='y', labelbottom=True, right=True)\n",
    "axes[1].tick_params(axis='y', labelbottom=True, right=True)\n",
    "\n",
    "## Make axes[0] and axes[1] the same width\n",
    "axes[0].set_box_aspect(1.7)\n",
    "axes[1].set_box_aspect(1.7)\n",
    "\n",
    "## Add colorbar next to the axes\n",
    "cbar = fig.colorbar(axes[1].collections[0], ax=axes, orientation='vertical', fraction=0.085, pad=0.02)\n",
    "cbar.ax.tick_params(labelsize=20)\n",
    "cbar.ax.yaxis.set_major_locator(MultipleLocator(1))\n",
    "cbar.ax.yaxis.set_minor_locator(AutoMinorLocator(2))\n",
    "cbar.set_label('Formation energy (eV/atom)', fontsize=20)\n",
    "\n",
    "\n",
    "# Define the position and size parameters\n",
    "image_xaxis = 0.73\n",
    "image_yaxis = 0.66\n",
    "image_width = 0.15\n",
    "fig_aspect = fig.get_figwidth() / fig.get_figheight()\n",
    "image_height = image_width * fig_aspect\n",
    "\n",
    "\n",
    "if insert_images:\n",
    "    ## Load and scale the images\n",
    "    dx, dy = 450, 244  # Adjust these values as needed\n",
    "    imagebox1 = OffsetImage(t_phase_img, zoom=0.038)\n",
    "    imagebox1.set_offset((dx, dy))\n",
    "    imagebox2 = OffsetImage(tetrahedral_img, zoom=0.038)\n",
    "    imagebox2.set_offset((dx - 50, dy - 135))\n",
    "\n",
    "    ## Create a DrawingArea\n",
    "    da1 = DrawingArea(1, 1, 0, 0)  # Width and height in display units\n",
    "    da1.add_artist(imagebox1)\n",
    "    da2 = DrawingArea(1, 1, 0, 0)  # Width and height in display units\n",
    "    da2.add_artist(imagebox2)\n",
    "\n",
    "    ## Apply an elliptical clip path\n",
    "    ellipse1 = patches.Ellipse((image_xaxis, image_yaxis), width=image_width, height=image_height, transform=fig.transFigure, clip_on=True)\n",
    "    ellipse2 = patches.Ellipse((image_xaxis, image_yaxis - 0.23), width=image_width, height=image_height, transform=fig.transFigure, clip_on=True)\n",
    "    imagebox1.image.set_clip_path(ellipse1)\n",
    "    imagebox2.image.set_clip_path(ellipse2)\n",
    "\n",
    "    ## Position the image in the figure\n",
    "    ab1 = AnnotationBbox(da1, (image_xaxis, image_yaxis), xycoords='figure fraction', frameon=False)\n",
    "    ab2 = AnnotationBbox(da2, (image_xaxis, image_yaxis - 0.23), xycoords='figure fraction', frameon=False)\n",
    "\n",
    "    ## Add images to figure\n",
    "    fig.add_artist(ab1)\n",
    "    fig.add_artist(ab2)\n",
    "\n",
    "    ## Add a border ellipse\n",
    "    border1 = patches.Ellipse((image_xaxis, image_yaxis), width=image_width, height=image_height,\n",
    "                            transform=fig.transFigure, edgecolor='red',\n",
    "                            facecolor='none', linewidth=2, zorder=1000)\n",
    "    border2 = patches.Ellipse((image_xaxis, image_yaxis - 0.23), width=image_width, height=image_height,\n",
    "                            transform=fig.transFigure, edgecolor=[1.0, 0.5, 0.5, 0.8],\n",
    "                            facecolor='none', linewidth=2, zorder=1000)\n",
    "    fig.add_artist(border1)\n",
    "    fig.add_artist(border2)\n",
    "\n",
    "## Save the figure\n",
    "plt.savefig('ScS2-Li_RAFFLE_pca_'+rlxd_string+'_fit_seed'+str(seed)+'.pdf', bbox_inches='tight', pad_inches=0, facecolor=fig.get_facecolor(), edgecolor='none')"
   ]
  },
  {
   "cell_type": "code",
   "execution_count": null,
   "metadata": {},
   "outputs": [],
   "source": []
  }
 ],
 "metadata": {
  "kernelspec": {
   "display_name": "raffle_env",
   "language": "python",
   "name": "python3"
  },
  "language_info": {
   "codemirror_mode": {
    "name": "ipython",
    "version": 3
   },
   "file_extension": ".py",
   "mimetype": "text/x-python",
   "name": "python",
   "nbconvert_exporter": "python",
   "pygments_lexer": "ipython3",
   "version": "3.12.8"
  }
 },
 "nbformat": 4,
 "nbformat_minor": 2
}
