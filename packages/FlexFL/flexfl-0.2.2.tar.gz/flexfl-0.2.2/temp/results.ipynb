{
 "cells": [
  {
   "cell_type": "code",
   "execution_count": null,
   "id": "84ceeac0",
   "metadata": {},
   "outputs": [],
   "source": [
    "from flexfl.builtins.Results import Results\n",
    "import pandas as pd\n",
    "from rich.console import Console\n",
    "from rich.table import Table"
   ]
  },
  {
   "cell_type": "code",
   "execution_count": null,
   "id": "3113ec18",
   "metadata": {},
   "outputs": [],
   "source": [
    "Results.BASE_DIR = \"../results\"\n",
    "f = Results.get_last_folder()\n",
    "r = Results(f)"
   ]
  },
  {
   "cell_type": "code",
   "execution_count": null,
   "id": "f3f129b8",
   "metadata": {},
   "outputs": [],
   "source": [
    "console = Console()\n",
    "def print_table(df: pd.DataFrame):\n",
    "    table = Table(show_header=True, header_style=\"bold\")\n",
    "    for col in df.columns:\n",
    "        table.add_column(col)\n",
    "    for index, row in df.iterrows():\n",
    "        table.add_row(*[str(x) for x in row])\n",
    "    console.print(table)"
   ]
  },
  {
   "cell_type": "code",
   "execution_count": null,
   "id": "1be211a2",
   "metadata": {},
   "outputs": [],
   "source": [
    "print_table(r.get_failures())"
   ]
  },
  {
   "cell_type": "code",
   "execution_count": null,
   "id": "8bee8a40",
   "metadata": {},
   "outputs": [],
   "source": [
    "r.plot_all()"
   ]
  }
 ],
 "metadata": {
  "kernelspec": {
   "display_name": ".venv",
   "language": "python",
   "name": "python3"
  },
  "language_info": {
   "codemirror_mode": {
    "name": "ipython",
    "version": 3
   },
   "file_extension": ".py",
   "mimetype": "text/x-python",
   "name": "python",
   "nbconvert_exporter": "python",
   "pygments_lexer": "ipython3",
   "version": "3.12.9"
  }
 },
 "nbformat": 4,
 "nbformat_minor": 5
}
