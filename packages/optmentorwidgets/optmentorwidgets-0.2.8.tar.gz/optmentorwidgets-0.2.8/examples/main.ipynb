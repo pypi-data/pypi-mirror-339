{
 "cells": [
  {
   "cell_type": "markdown",
   "metadata": {
    "user_expressions": []
   },
   "source": [
    "## DIVE Widgets"
   ]
  },
  {
   "cell_type": "markdown",
   "metadata": {
    "user_expressions": []
   },
   "source": [
    "[![Open In Colab](https://colab.research.google.com/assets/colab-badge.svg)](https://colab.research.google.com/github/dive4dec/divewidgets/blob/main/examples/main.ipynb)"
   ]
  },
  {
   "cell_type": "code",
   "execution_count": 1,
   "metadata": {
    "tags": []
   },
   "outputs": [],
   "source": [
    "# Run this setup script first\n",
    "try: # to work in colab\n",
    "    import google.colab\n",
    "    google.colab.output.enable_custom_widget_manager()\n",
    "    %pip install divewidgets &> /dev/null\n",
    "except ModuleNotFoundError:\n",
    "    pass # okay not to be in colab\n",
    "%reload_ext divewidgets"
   ]
  },
  {
   "cell_type": "markdown",
   "metadata": {
    "user_expressions": []
   },
   "source": [
    "### JSXGraph"
   ]
  },
  {
   "cell_type": "markdown",
   "metadata": {
    "user_expressions": []
   },
   "source": [
    "[JSXGraph](https://jsxgraph.org/) can be rendered using the following magic:"
   ]
  },
  {
   "cell_type": "code",
   "execution_count": 2,
   "metadata": {
    "ExecuteTime": {
     "end_time": "2022-07-27T05:15:40.986821Z",
     "start_time": "2022-07-27T05:15:40.971531Z"
    }
   },
   "outputs": [
    {
     "data": {
      "text/plain": [
       "\u001b[0;31mDocstring:\u001b[0m\n",
       "::\n",
       "\n",
       "  %jsxgraph [-w WIDTH] [-i ID] [-h HEIGHT] [-m MATHJAX_URL]\n",
       "\n",
       "Run the cell block of JSXGraph Code.\n",
       "\n",
       "optional arguments:\n",
       "  -w WIDTH, --width WIDTH\n",
       "                        The width of the output frame (default: 600).\n",
       "  -i ID, --id ID        id of a <div> element for embeding the board.\n",
       "  -h HEIGHT, --height HEIGHT\n",
       "                        The height of the output frame (default: 600).\n",
       "  -m MATHJAX_URL, --mathjax_url MATHJAX_URL\n",
       "                        Absolute/relative url of the javascript file in\n",
       "                        loading mathjax.\n",
       "\u001b[0;31mFile:\u001b[0m      ~/Git/divewidgets-1/divewidgets/magic.py\n"
      ]
     },
     "metadata": {},
     "output_type": "display_data"
    }
   ],
   "source": [
    "%%jsxgraph?"
   ]
  },
  {
   "cell_type": "code",
   "execution_count": 3,
   "metadata": {
    "ExecuteTime": {
     "end_time": "2022-07-27T05:15:45.266330Z",
     "start_time": "2022-07-27T05:15:41.926643Z"
    },
    "tags": []
   },
   "outputs": [
    {
     "data": {
      "application/vnd.jupyter.widget-view+json": {
       "model_id": "45014fc867a540f6b936d10f3a1fe5fe",
       "version_major": 2,
       "version_minor": 0
      },
      "text/plain": [
       "JSWidget(value=None, height=600, html='<!DOCTYPE html>\\n<html>\\n    <head>\\n    <style>\\n    html, body {\\n   …"
      ]
     },
     "metadata": {},
     "output_type": "display_data"
    }
   ],
   "source": [
    "%%jsxgraph\n",
    "JXG.Options.text.useMathJax = true;\n",
    "var brd = JXG.JSXGraph.initBoard('box', {\n",
    "    boundingbox: [-8, 8, 8, -4],\n",
    "    axis: true,\n",
    "    showCopyright: false\n",
    "});\n",
    "var a = brd.create('slider', [\n",
    "    [3, 3],\n",
    "    [6, 3],\n",
    "    [-3, 1, 3]\n",
    "], {\n",
    "    name: 'a',\n",
    "    snapWidth: 0.1\n",
    "});\n",
    "var b = brd.create('slider', [\n",
    "    [3, 2],\n",
    "    [6, 2],\n",
    "    [-3, 0, 3]\n",
    "], {\n",
    "    name: 'b',\n",
    "    snapWidth: 0.1\n",
    "});\n",
    "var c = brd.create('slider', [\n",
    "    [3, 1],\n",
    "    [6, 1],\n",
    "    [-3, 0, 3]\n",
    "], {\n",
    "    name: 'c',\n",
    "    snapWidth: 0.1\n",
    "});\n",
    "brd.create('functiongraph', [function(x) {\n",
    "    return a.Value() * x * x + b.Value() * x + c.Value();\n",
    "}, -10, 10]);\n",
    "brd.create('text',\n",
    "    [-2, 0,\n",
    "        function() {\n",
    "            return String.raw`\n",
    "              \\begin{align*} \n",
    "              y&=ax^2+bx+c\\\\ \n",
    "               &= ${a.Value().toFixed(2)}x^2 \n",
    "                + ${b.Value().toFixed(2)}x \n",
    "                + ${c.Value().toFixed(2)}\n",
    "              \\end{align*}`;\n",
    "        }\n",
    "    ], {\n",
    "        anchorX: 'right',\n",
    "        anchorY: 'bottom'\n",
    "    });"
   ]
  },
  {
   "cell_type": "markdown",
   "metadata": {
    "user_expressions": []
   },
   "source": [
    "The rendering can be customized with additional arguments:"
   ]
  },
  {
   "cell_type": "code",
   "execution_count": 4,
   "metadata": {},
   "outputs": [
    {
     "data": {
      "application/vnd.jupyter.widget-view+json": {
       "model_id": "8816b93a0de64bb284a9c9d76d4ebd54",
       "version_major": 2,
       "version_minor": 0
      },
      "text/plain": [
       "JSWidget(value=None, height=200, html='<!DOCTYPE html>\\n<html>\\n    <head>\\n    <style>\\n    html, body {\\n   …"
      ]
     },
     "metadata": {},
     "output_type": "display_data"
    }
   ],
   "source": [
    "%%jsxgraph -i jxgbox -h 200 --width=600 -m https://www.cs.cityu.edu.hk/~ccha23/js/load-mathjax.js\n",
    "JXG.Options.text.useMathJax = true;\n",
    "const brd = JXG.JSXGraph.initBoard('jxgbox', {\n",
    "    boundingbox: [-8, 8, 8, -4],\n",
    "    axis: true,\n",
    "    showCopyright: false\n",
    "});\n",
    "const a = brd.create('slider', [\n",
    "    [3, 3],\n",
    "    [6, 3],\n",
    "    [-3, 1, 3]\n",
    "], {\n",
    "    name: 'a',\n",
    "    snapWidth: 0.1\n",
    "});\n",
    "const b = brd.create('slider', [\n",
    "    [3, 2],\n",
    "    [6, 2],\n",
    "    [-3, 0, 3]\n",
    "], {\n",
    "    name: 'b',\n",
    "    snapWidth: 0.1\n",
    "});\n",
    "const c = brd.create('slider', [\n",
    "    [3, 1],\n",
    "    [6, 1],\n",
    "    [-3, 0, 3]\n",
    "], {\n",
    "    name: 'c',\n",
    "    snapWidth: 0.1\n",
    "});\n",
    "brd.create('functiongraph', [function(x) {\n",
    "    return a.Value() * x * x + b.Value() * x + c.Value();\n",
    "}, -10, 10]);\n",
    "brd.create('text',\n",
    "    [-1, -1,\n",
    "        function() {\n",
    "            return String.raw`\n",
    "              \\begin{empheq}[left={\\text{Parabola} \\empheqlbrace}]{align}\n",
    "              y&=ax^2+bx+c\\tag{1}\\\\ \n",
    "               &= ${a.Value().toFixed(2)}x^2 \n",
    "                + ${b.Value().toFixed(2)}x \n",
    "                + ${c.Value().toFixed(2)} \\tag{2}\n",
    "              \\end{empheq}`;\n",
    "        }\n",
    "    ], {\n",
    "        anchorX: 'right',\n",
    "        anchorY: 'top'\n",
    "    });"
   ]
  },
  {
   "cell_type": "markdown",
   "metadata": {
    "user_expressions": []
   },
   "source": [
    "The above typesets the label using [a custom configuration of mathjax3](https://www.cs.cityu.edu.hk/~ccha23/js/load-mathjax.js)."
   ]
  },
  {
   "cell_type": "markdown",
   "metadata": {
    "user_expressions": []
   },
   "source": [
    "Try the following:\n",
    "- Click `show code` to show the javascript and html code used to generate the JSXGraph. \n",
    "- Modify the javascript code under the `JS` panel or the html code uner the `HTML` panel. \n",
    "- Click `run code` or `Ctrl-R` while the cursor remains in the editor. You can see the JSXGraph refreshed according to your change.\n",
    "- Execute the following to save the result into `dw`."
   ]
  },
  {
   "cell_type": "code",
   "execution_count": 5,
   "metadata": {},
   "outputs": [],
   "source": [
    "dw = _"
   ]
  },
  {
   "cell_type": "markdown",
   "metadata": {
    "user_expressions": []
   },
   "source": [
    "The JSXGraph is implemented as a `ipywidget` called `JSWidget`, so the code can be stored as model attributes."
   ]
  },
  {
   "cell_type": "code",
   "execution_count": 6,
   "metadata": {},
   "outputs": [
    {
     "data": {
      "text/plain": [
       "\u001b[0;31mType:\u001b[0m           JSWidget\n",
       "\u001b[0;31mString form:\u001b[0m    JSWidget(value=None, height=200, html='<!DOCTYPE html>\\n<html>\\n    <head>\\n    <style>\\n    html <...> }`;\\n        }\\n    ], {\\n        anchorX: 'right',\\n        anchorY: 'top'\\n    });\", width=600)\n",
       "\u001b[0;31mFile:\u001b[0m           ~/Git/divewidgets-1/divewidgets/widget.py\n",
       "\u001b[0;31mDocstring:\u001b[0m     \n",
       "Renders an IFrame from editable Javascript and HTML.\n",
       "\n",
       "Parameters\n",
       "----------\n",
       "js: string\n",
       "    Javascript code.\n",
       "html: string\n",
       "    HTML code.\n",
       "height: int\n",
       "    Height in pixel. A value of -1 (default) determines the height automatically.\n",
       "width: int\n",
       "    Weight in pixel. A value of -1 (default) determines the width automatically.\n",
       "\n",
       "Returns\n",
       "-------\n",
       "Widget: html with js appended to the body. \n",
       "    The html and js code can be edited and re-rendered.\n",
       "\u001b[0;31mInit docstring:\u001b[0m Public constructor\n"
      ]
     },
     "metadata": {},
     "output_type": "display_data"
    }
   ],
   "source": [
    "dw?"
   ]
  },
  {
   "cell_type": "markdown",
   "metadata": {
    "user_expressions": []
   },
   "source": [
    "To have your modifications persist after the notebook closes, you can save the notebook after choosing `Save Widget State Automatically` under `Settings`. Alternatively, copy the `javascript` and `html` attributes from the `DIVEWidget`."
   ]
  },
  {
   "cell_type": "code",
   "execution_count": 7,
   "metadata": {},
   "outputs": [
    {
     "name": "stdout",
     "output_type": "stream",
     "text": [
      "JXG.Options.text.useMathJax = true;\n",
      "const brd = JXG.JSXGraph.initBoard('jxgbox', {\n",
      "    boundingbox: [-8, 8, 8, -4],\n",
      "    axis: true,\n",
      "    showCopyright: false\n",
      "});\n",
      "const a = brd.create('slider', [\n",
      "    [3, 3],\n",
      "    [6, 3],\n",
      "    [-3, 1, 3]\n",
      "], {\n",
      "    name: 'a',\n",
      "    snapWidth: 0.1\n",
      "});\n",
      "const b = brd.create('slider', [\n",
      "    [3, 2],\n",
      "    [6, 2],\n",
      "    [-3, 0, 3]\n",
      "], {\n",
      "    name: 'b',\n",
      "    snapWidth: 0.1\n",
      "});\n",
      "const c = brd.create('slider', [\n",
      "    [3, 1],\n",
      "    [6, 1],\n",
      "    [-3, 0, 3]\n",
      "], {\n",
      "    name: 'c',\n",
      "    snapWidth: 0.1\n",
      "});\n",
      "brd.create('functiongraph', [function(x) {\n",
      "    return a.Value() * x * x + b.Value() * x + c.Value();\n",
      "}, -10, 10]);\n",
      "brd.create('text',\n",
      "    [-1, -1,\n",
      "        function() {\n",
      "            return String.raw`\n",
      "              \\begin{empheq}[left={\\text{Parabola} \\empheqlbrace}]{align}\n",
      "              y&=ax^2+bx+c\\tag{1}\\\\ \n",
      "               &= ${a.Value().toFixed(2)}x^2 \n",
      "                + ${b.Value().toFixed(2)}x \n",
      "                + ${c.Value().toFixed(2)} \\tag{2}\n",
      "              \\end{empheq}`;\n",
      "        }\n",
      "    ], {\n",
      "        anchorX: 'right',\n",
      "        anchorY: 'top'\n",
      "    });\n"
     ]
    }
   ],
   "source": [
    "print(dw.js)"
   ]
  },
  {
   "cell_type": "code",
   "execution_count": 8,
   "metadata": {},
   "outputs": [
    {
     "name": "stdout",
     "output_type": "stream",
     "text": [
      "<!DOCTYPE html>\n",
      "<html>\n",
      "    <head>\n",
      "    <style>\n",
      "    html, body {\n",
      "        height: 100%;\n",
      "    }\n",
      "    body {\n",
      "        width: 100%;\n",
      "        display: flex;\n",
      "        padding: 0;\n",
      "        margin: 0;\n",
      "    }\n",
      "    .jxgbox {\n",
      "        width:100%; \n",
      "        flex-grow: 1;\n",
      "    }\n",
      "    </style>\n",
      "    <link rel=\"stylesheet\" type=\"text/css\" href=\"https://jsxgraph.org/distrib/jsxgraph.css\" />\n",
      "    <script type=\"text/javascript\" src=\"https://cdn.jsdelivr.net/npm/jsxgraph/distrib/jsxgraphcore.js\"></script>\n",
      "    <script type=\"text/javascript\" src=\"https://www.cs.cityu.edu.hk/~ccha23/js/load-mathjax.js\"></script>\n",
      "    </head>\n",
      "<body>\n",
      "<div id=\"jxgbox\" class=\"jxgbox\"></div>\n",
      "</body>\n",
      "</html>\n"
     ]
    }
   ],
   "source": [
    "print(dw.html)"
   ]
  },
  {
   "cell_type": "markdown",
   "metadata": {
    "user_expressions": []
   },
   "source": [
    "## Other JS rendered graphs"
   ]
  },
  {
   "cell_type": "markdown",
   "metadata": {
    "user_expressions": []
   },
   "source": [
    "### Mermaid"
   ]
  },
  {
   "cell_type": "code",
   "execution_count": 9,
   "metadata": {},
   "outputs": [
    {
     "data": {
      "text/plain": [
       "\u001b[0;31mDocstring:\u001b[0m\n",
       "Run the cell block of MermaidJS code.\n",
       "        \n",
       "\u001b[0;31mFile:\u001b[0m      ~/Git/divewidgets-1/divewidgets/magic.py\n"
      ]
     },
     "metadata": {},
     "output_type": "display_data"
    }
   ],
   "source": [
    "%%mermaid?"
   ]
  },
  {
   "cell_type": "code",
   "execution_count": 10,
   "metadata": {},
   "outputs": [
    {
     "data": {
      "application/vnd.jupyter.widget-view+json": {
       "model_id": "3cc9fb63f1c941f19cdb19b613f4c25a",
       "version_major": 2,
       "version_minor": 0
      },
      "text/plain": [
       "JSWidget(value=None, html='<!DOCTYPE html>\\n<html>\\n<head>\\n  <script src=\"https://cdn.jsdelivr.net/npm/mermai…"
      ]
     },
     "metadata": {},
     "output_type": "display_data"
    }
   ],
   "source": [
    "%%mermaid\n",
    "graph TD \n",
    "A[a] --> B[b] \n",
    "B --> C[c] \n",
    "B --> D[d]"
   ]
  },
  {
   "cell_type": "markdown",
   "metadata": {
    "user_expressions": []
   },
   "source": [
    "### Flow"
   ]
  },
  {
   "cell_type": "code",
   "execution_count": 11,
   "metadata": {},
   "outputs": [
    {
     "data": {
      "text/plain": [
       "\u001b[0;31mDocstring:\u001b[0m\n",
       "Run the cell block of FlowchartJS code.\n",
       "        \n",
       "\u001b[0;31mFile:\u001b[0m      ~/Git/divewidgets-1/divewidgets/magic.py\n"
      ]
     },
     "metadata": {},
     "output_type": "display_data"
    }
   ],
   "source": [
    "%%flowchart?"
   ]
  },
  {
   "cell_type": "code",
   "execution_count": 12,
   "metadata": {},
   "outputs": [
    {
     "data": {
      "application/vnd.jupyter.widget-view+json": {
       "model_id": "778f05f3face4f70916332c9d74d476c",
       "version_major": 2,
       "version_minor": 0
      },
      "text/plain": [
       "JSWidget(value=None, html='<!DOCTYPE html>\\n<html>\\n<head>\\n  <script src=\"https://cdnjs.cloudflare.com/ajax/l…"
      ]
     },
     "metadata": {},
     "output_type": "display_data"
    }
   ],
   "source": [
    "%%flowchart\n",
    "cond3=>condition: if (not input(1))\n",
    "cond8=>condition: if input(2)\n",
    "sub12=>subroutine: input(3)\n",
    "\n",
    "cond3(yes)->cond8\n",
    "cond8(yes)->sub12"
   ]
  },
  {
   "cell_type": "markdown",
   "metadata": {},
   "source": [
    "## Python Programming Visualization"
   ]
  },
  {
   "cell_type": "markdown",
   "metadata": {},
   "source": [
    "We can visualize step-by-step execution using the following magic."
   ]
  },
  {
   "cell_type": "code",
   "execution_count": 23,
   "metadata": {},
   "outputs": [
    {
     "data": {
      "text/plain": [
       "\u001b[0;31mDocstring:\u001b[0m\n",
       "::\n",
       "\n",
       "  %optlite [-w WIDTH] [-r] [-l] [-h HEIGHT]\n",
       "\n",
       "optional arguments:\n",
       "  -w WIDTH, --width WIDTH\n",
       "                        The width of the output frame (default: 1100).\n",
       "  -r, --run             Run cell in IPython.\n",
       "  -l, --live            Live edit mode.\n",
       "  -h HEIGHT, --height HEIGHT\n",
       "                        The height of the output frame (default: 700).\n",
       "\u001b[0;31mFile:\u001b[0m      ~/Git/divewidgets-1/divewidgets/magic.py\n"
      ]
     },
     "metadata": {},
     "output_type": "display_data"
    }
   ],
   "source": [
    "%%optlite?"
   ]
  },
  {
   "cell_type": "code",
   "execution_count": 15,
   "metadata": {},
   "outputs": [
    {
     "data": {
      "application/vnd.jupyter.widget-view+json": {
       "model_id": "6da63360a6b74f5491924f1d55f9bc0c",
       "version_major": 2,
       "version_minor": 0
      },
      "text/plain": [
       "OPTWidget(value=None, height=300, script=\"msg = 'Hello, World!'\\nprint(msg)\\n\")"
      ]
     },
     "metadata": {},
     "output_type": "display_data"
    }
   ],
   "source": [
    "%%optlite -h 300\n",
    "msg = 'Hello, World!'\n",
    "print(msg)"
   ]
  },
  {
   "cell_type": "markdown",
   "metadata": {},
   "source": [
    "Note that the python script is not run by the jupyter kernel. Instead, it is run by the browser with [OPTLite (Online Python Tutor Lite)](https://github.com/dive4dec/optlite)."
   ]
  },
  {
   "cell_type": "code",
   "execution_count": 25,
   "metadata": {},
   "outputs": [
    {
     "name": "stdout",
     "output_type": "stream",
     "text": [
      "Object `msg` not found.\n"
     ]
    }
   ],
   "source": [
    "msg?"
   ]
  },
  {
   "cell_type": "markdown",
   "metadata": {},
   "source": [
    "There are additional options to run the cell in IPython enable, and enable the live edit mode."
   ]
  },
  {
   "cell_type": "code",
   "execution_count": 28,
   "metadata": {},
   "outputs": [
    {
     "data": {
      "text/plain": [
       "6"
      ]
     },
     "execution_count": 28,
     "metadata": {},
     "output_type": "execute_result"
    },
    {
     "data": {
      "application/vnd.jupyter.widget-view+json": {
       "model_id": "b3f1613b89e24519bacd588633b4b883",
       "version_major": 2,
       "version_minor": 0
      },
      "text/plain": [
       "OPTWidget(value=None, height=400, script='def f(n):\\n    return n*f(n-1) if n>1 else 1\\n\\nf(3)\\n', srcprefix='…"
      ]
     },
     "metadata": {},
     "output_type": "display_data"
    }
   ],
   "source": [
    "%%optlite -rl -h 400\n",
    "def f(n):\n",
    "    return n*f(n-1) if n>1 else 1\n",
    "\n",
    "f(3)"
   ]
  }
 ],
 "metadata": {
  "kernelspec": {
   "display_name": "Python 3 (ipykernel)",
   "language": "python",
   "name": "python3"
  },
  "language_info": {
   "codemirror_mode": {
    "name": "ipython",
    "version": 3
   },
   "file_extension": ".py",
   "mimetype": "text/x-python",
   "name": "python",
   "nbconvert_exporter": "python",
   "pygments_lexer": "ipython3",
   "version": "3.9.12"
  },
  "toc": {
   "base_numbering": 1,
   "nav_menu": {},
   "number_sections": true,
   "sideBar": true,
   "skip_h1_title": false,
   "title_cell": "Table of Contents",
   "title_sidebar": "Contents",
   "toc_cell": false,
   "toc_position": {},
   "toc_section_display": true,
   "toc_window_display": false
  },
  "widgets": {
   "application/vnd.jupyter.widget-state+json": {
    "state": {
     "02c06e44161742c6ab4f914eb6a998b6": {
      "model_module": "jupyter-divewidgets",
      "model_module_version": "^0.1.5",
      "model_name": "OPTWidgetModel",
      "state": {
       "_model_module_version": "^0.1.5",
       "_model_name": "OPTWidgetModel",
       "_view_module_version": "^0.1.5",
       "_view_name": "OPTWidgetView",
       "height": 300,
       "layout": "IPY_MODEL_a0b6e62912f0449f8939e8bbfdd8acbd",
       "script": "print('Hello, World!')\n",
       "srcprefix": "https://dive4dec.github.io/optlite/#mode=display&code=",
       "width": 1100
      }
     },
     "0fab2b68762a4f13a42603433b189460": {
      "model_module": "jupyter-divewidgets",
      "model_module_version": "^0.1.5",
      "model_name": "OPTWidgetModel",
      "state": {
       "_model_module_version": "^0.1.5",
       "_model_name": "OPTWidgetModel",
       "_view_module_version": "^0.1.5",
       "_view_name": "OPTWidgetView",
       "height": 700,
       "layout": "IPY_MODEL_b9b2ab31aaf84dd8b0b375d17d1c1456",
       "script": "print('Hello, World!')\n1\n2\n3\n4\n5\n6\n6\n7\n8\n9\n8\n8\n88\n",
       "srcprefix": "https://dive4dec.github.io/optlite/live.html#code=",
       "width": 1100
      }
     },
     "114952cb07fb4b3aa6b898afe768b317": {
      "model_module": "@jupyter-widgets/base",
      "model_module_version": "1.2.0",
      "model_name": "LayoutModel",
      "state": {}
     },
     "18bb091462c6435da92d89ae6f80eb72": {
      "model_module": "@jupyter-widgets/base",
      "model_module_version": "1.2.0",
      "model_name": "LayoutModel",
      "state": {}
     },
     "2925dd1bfca2496780efe6982f9ab934": {
      "model_module": "jupyter-divewidgets",
      "model_module_version": "^0.1.5",
      "model_name": "OPTWidgetModel",
      "state": {
       "_model_module_version": "^0.1.5",
       "_model_name": "OPTWidgetModel",
       "_view_module_version": "^0.1.5",
       "_view_name": "OPTWidgetView",
       "height": 400,
       "layout": "IPY_MODEL_3d4d2fe89ea6453cb162476deb1f82cc",
       "script": "print('Hello, World!')\n",
       "srcprefix": "https://dive4dec.github.io/optlite/live.html#code=",
       "width": 1100
      }
     },
     "2e805a056d404a1e85ea40389ba8af25": {
      "model_module": "jupyter-divewidgets",
      "model_module_version": "^0.1.5",
      "model_name": "OPTWidgetModel",
      "state": {
       "_model_module_version": "^0.1.5",
       "_model_name": "OPTWidgetModel",
       "_view_module_version": "^0.1.5",
       "_view_name": "OPTWidgetView",
       "height": 400,
       "layout": "IPY_MODEL_114952cb07fb4b3aa6b898afe768b317",
       "script": "def f(n):\n    return n*f(n-1) if n>1 else 1\n\nf(3)\n",
       "srcprefix": "https://dive4dec.github.io/optlite/live.html#code=",
       "width": 1100
      }
     },
     "30d3051fce6b4752a000d4043b6f833a": {
      "model_module": "@jupyter-widgets/base",
      "model_module_version": "1.2.0",
      "model_name": "LayoutModel",
      "state": {}
     },
     "33f298b7362148d2beb5e32b14103a4c": {
      "model_module": "@jupyter-widgets/base",
      "model_module_version": "1.2.0",
      "model_name": "LayoutModel",
      "state": {}
     },
     "3cc9fb63f1c941f19cdb19b613f4c25a": {
      "model_module": "jupyter-divewidgets",
      "model_module_version": "^0.1.5",
      "model_name": "JSWidgetModel",
      "state": {
       "_model_module_version": "^0.1.5",
       "_view_module_version": "^0.1.5",
       "height": -1,
       "html": "<!DOCTYPE html>\n<html>\n<head>\n  <script src=\"https://cdn.jsdelivr.net/npm/mermaid/dist/mermaid.min.js\"></script>\n    <style>\n        body {\n            padding: 0;\n            margin: 0;\n        }        \n        .mermaid > svg {\n          max-width:100%;\n          height: auto;\n        }\n    </style>\n</head>\n<body>\n    <div class=\"mermaid\">\n    </div>\n    <script>mermaid.initialize({startOnLoad:false});\n    var render = (function () {\n      var element = document.querySelector('.mermaid');\n      var insertSvg = function(svgCode, bindFunctions) {\n        element.innerHTML = svgCode;\n      };\n      return (code) => {\n        mermaid.mermaidAPI.render('rendered-mermaid',code,insertSvg);\n      };    \n    })()\n    </script>\n</body>\n</html>",
       "js": "render(`\ngraph TD \nA[a] --> B[b] \nB --> C[c] \nB --> D[d]\n`);",
       "layout": "IPY_MODEL_33f298b7362148d2beb5e32b14103a4c",
       "width": -1
      }
     },
     "3d4d2fe89ea6453cb162476deb1f82cc": {
      "model_module": "@jupyter-widgets/base",
      "model_module_version": "1.2.0",
      "model_name": "LayoutModel",
      "state": {}
     },
     "45014fc867a540f6b936d10f3a1fe5fe": {
      "model_module": "jupyter-divewidgets",
      "model_module_version": "^0.1.5",
      "model_name": "JSWidgetModel",
      "state": {
       "_model_module_version": "^0.1.5",
       "_view_module_version": "^0.1.5",
       "html": "<!DOCTYPE html>\n<html>\n    <head>\n    <style>\n    html, body {\n        height: 100%;\n    }\n    body {\n        width: 100%;\n        display: flex;\n        padding: 0;\n        margin: 0;\n    }\n    .jxgbox {\n        width:100%; \n        flex-grow: 1;\n    }\n    </style>\n    <link rel=\"stylesheet\" type=\"text/css\" href=\"https://jsxgraph.org/distrib/jsxgraph.css\" />\n    <script type=\"text/javascript\" src=\"https://cdn.jsdelivr.net/npm/jsxgraph/distrib/jsxgraphcore.js\"></script>\n    <script type=\"text/javascript\" src=\"https://cdn.jsdelivr.net/npm/mathjax@3/es5/tex-chtml.js\"></script>\n    </head>\n<body>\n<div id=\"box\" class=\"jxgbox\"></div>\n</body>\n</html>",
       "js": "JXG.Options.text.useMathJax = true;\nvar brd = JXG.JSXGraph.initBoard('box', {\n    boundingbox: [-8, 8, 8, -4],\n    axis: true,\n    showCopyright: false\n});\nvar a = brd.create('slider', [\n    [3, 3],\n    [6, 3],\n    [-3, 1, 3]\n], {\n    name: 'a',\n    snapWidth: 0.1\n});\nvar b = brd.create('slider', [\n    [3, 2],\n    [6, 2],\n    [-3, 0, 3]\n], {\n    name: 'b',\n    snapWidth: 0.1\n});\nvar c = brd.create('slider', [\n    [3, 1],\n    [6, 1],\n    [-3, 0, 3]\n], {\n    name: 'c',\n    snapWidth: 0.1\n});\nbrd.create('functiongraph', [function(x) {\n    return a.Value() * x * x + b.Value() * x + c.Value();\n}, -10, 10]);\nbrd.create('text',\n    [-2, 0,\n        function() {\n            return String.raw`\n              \\begin{align*} \n              y&=ax^2+bx+c\\\\ \n               &= ${a.Value().toFixed(2)}x^2 \n                + ${b.Value().toFixed(2)}x \n                + ${c.Value().toFixed(2)}\n              \\end{align*}`;\n        }\n    ], {\n        anchorX: 'right',\n        anchorY: 'bottom'\n    });",
       "layout": "IPY_MODEL_889ebc56fc4044359ec1c3bae145e481"
      }
     },
     "4c3dd3ce730040c5abfbcba2d291a15d": {
      "model_module": "@jupyter-widgets/base",
      "model_module_version": "1.2.0",
      "model_name": "LayoutModel",
      "state": {}
     },
     "4dd4fe31d18049ee9d9180595be42dbf": {
      "model_module": "@jupyter-widgets/base",
      "model_module_version": "1.2.0",
      "model_name": "LayoutModel",
      "state": {}
     },
     "58c5b844bb6a4e1c8f16fc807c4f368e": {
      "model_module": "@jupyter-widgets/base",
      "model_module_version": "1.2.0",
      "model_name": "LayoutModel",
      "state": {}
     },
     "668922d98fa546b4b9ff92711ad38cf4": {
      "model_module": "@jupyter-widgets/base",
      "model_module_version": "1.2.0",
      "model_name": "LayoutModel",
      "state": {}
     },
     "688d5c03c76d4e2aafc3ac6c4ea19d8f": {
      "model_module": "@jupyter-widgets/base",
      "model_module_version": "1.2.0",
      "model_name": "LayoutModel",
      "state": {}
     },
     "6da63360a6b74f5491924f1d55f9bc0c": {
      "model_module": "jupyter-divewidgets",
      "model_module_version": "^0.1.5",
      "model_name": "OPTWidgetModel",
      "state": {
       "_model_module_version": "^0.1.5",
       "_model_name": "OPTWidgetModel",
       "_view_module_version": "^0.1.5",
       "_view_name": "OPTWidgetView",
       "height": 300,
       "layout": "IPY_MODEL_7d4155a288484b47b3496bd66da69b28",
       "script": "msg = 'Hello, World!'\nprint(msg)\n",
       "srcprefix": "https://dive4dec.github.io/optlite/#mode=display&code=",
       "width": 1100
      }
     },
     "6f88131c4359499f9a74f76678b7bbf5": {
      "model_module": "jupyter-divewidgets",
      "model_module_version": "^0.1.5",
      "model_name": "OPTWidgetModel",
      "state": {
       "_model_module_version": "^0.1.5",
       "_model_name": "OPTWidgetModel",
       "_view_module_version": "^0.1.5",
       "_view_name": "OPTWidgetView",
       "height": 200,
       "layout": "IPY_MODEL_8d69eb27f90f448ca743ae660baee61b",
       "script": "print('Hello, World!')\n",
       "srcprefix": "https://dive4dec.github.io/optlite/#mode=display&code=",
       "width": 1100
      }
     },
     "75db6d625cfc40ffb87dbd7ca78dfa77": {
      "model_module": "jupyter-divewidgets",
      "model_module_version": "^0.1.5",
      "model_name": "OPTWidgetModel",
      "state": {
       "_model_module_version": "^0.1.5",
       "_model_name": "OPTWidgetModel",
       "_view_module_version": "^0.1.5",
       "_view_name": "OPTWidgetView",
       "height": 100,
       "layout": "IPY_MODEL_82c828379c614db49583f282c5cadcc8",
       "script": "print('Hello, World!')\n",
       "srcprefix": "https://dive4dec.github.io/optlite/live.html#code=",
       "width": 1100
      }
     },
     "778f05f3face4f70916332c9d74d476c": {
      "model_module": "jupyter-divewidgets",
      "model_module_version": "^0.1.5",
      "model_name": "JSWidgetModel",
      "state": {
       "_model_module_version": "^0.1.5",
       "_view_module_version": "^0.1.5",
       "height": -1,
       "html": "<!DOCTYPE html>\n<html>\n<head>\n  <script src=\"https://cdnjs.cloudflare.com/ajax/libs/raphael/2.3.0/raphael.min.js\"></script>\n  <script src=\"https://cdnjs.cloudflare.com/ajax/libs/flowchart/1.17.1/flowchart.min.js\"></script>\n    <style>\n        body {\n            padding: 0;\n            margin: 0;\n        }\n        #diagram > svg {\n          max-width:100%;\n          height: auto;\n        }\n    </style>\n</head>\n<body>\n    <div id=\"diagram\">\n    </div>\n    <script>\n    var render = (function () {\n      return (code) => {\n        document.getElementById('diagram').innerHTML = '';\n        flowchart.parse(code).drawSVG('diagram');\n      };    \n    })()\n    </script>\n</body>\n</html>",
       "js": "render(`\ncond3=>condition: if (not input(1))\ncond8=>condition: if input(2)\nsub12=>subroutine: input(3)\n\ncond3(yes)->cond8\ncond8(yes)->sub12\n`);",
       "layout": "IPY_MODEL_4c3dd3ce730040c5abfbcba2d291a15d",
       "width": -1
      }
     },
     "7c283f73027043b9803b2cd9a759fb38": {
      "model_module": "@jupyter-widgets/base",
      "model_module_version": "1.2.0",
      "model_name": "LayoutModel",
      "state": {}
     },
     "7d4155a288484b47b3496bd66da69b28": {
      "model_module": "@jupyter-widgets/base",
      "model_module_version": "1.2.0",
      "model_name": "LayoutModel",
      "state": {}
     },
     "82c828379c614db49583f282c5cadcc8": {
      "model_module": "@jupyter-widgets/base",
      "model_module_version": "1.2.0",
      "model_name": "LayoutModel",
      "state": {}
     },
     "8816b93a0de64bb284a9c9d76d4ebd54": {
      "model_module": "jupyter-divewidgets",
      "model_module_version": "^0.1.5",
      "model_name": "JSWidgetModel",
      "state": {
       "_model_module_version": "^0.1.5",
       "_view_module_version": "^0.1.5",
       "height": 200,
       "html": "<!DOCTYPE html>\n<html>\n    <head>\n    <style>\n    html, body {\n        height: 100%;\n    }\n    body {\n        width: 100%;\n        display: flex;\n        padding: 0;\n        margin: 0;\n    }\n    .jxgbox {\n        width:100%; \n        flex-grow: 1;\n    }\n    </style>\n    <link rel=\"stylesheet\" type=\"text/css\" href=\"https://jsxgraph.org/distrib/jsxgraph.css\" />\n    <script type=\"text/javascript\" src=\"https://cdn.jsdelivr.net/npm/jsxgraph/distrib/jsxgraphcore.js\"></script>\n    <script type=\"text/javascript\" src=\"https://www.cs.cityu.edu.hk/~ccha23/js/load-mathjax.js\"></script>\n    </head>\n<body>\n<div id=\"jxgbox\" class=\"jxgbox\"></div>\n</body>\n</html>",
       "js": "JXG.Options.text.useMathJax = true;\nconst brd = JXG.JSXGraph.initBoard('jxgbox', {\n    boundingbox: [-8, 8, 8, -4],\n    axis: true,\n    showCopyright: false\n});\nconst a = brd.create('slider', [\n    [3, 3],\n    [6, 3],\n    [-3, 1, 3]\n], {\n    name: 'a',\n    snapWidth: 0.1\n});\nconst b = brd.create('slider', [\n    [3, 2],\n    [6, 2],\n    [-3, 0, 3]\n], {\n    name: 'b',\n    snapWidth: 0.1\n});\nconst c = brd.create('slider', [\n    [3, 1],\n    [6, 1],\n    [-3, 0, 3]\n], {\n    name: 'c',\n    snapWidth: 0.1\n});\nbrd.create('functiongraph', [function(x) {\n    return a.Value() * x * x + b.Value() * x + c.Value();\n}, -10, 10]);\nbrd.create('text',\n    [-1, -1,\n        function() {\n            return String.raw`\n              \\begin{empheq}[left={\\text{Parabola} \\empheqlbrace}]{align}\n              y&=ax^2+bx+c\\tag{1}\\\\ \n               &= ${a.Value().toFixed(2)}x^2 \n                + ${b.Value().toFixed(2)}x \n                + ${c.Value().toFixed(2)} \\tag{2}\n              \\end{empheq}`;\n        }\n    ], {\n        anchorX: 'right',\n        anchorY: 'top'\n    });",
       "layout": "IPY_MODEL_58c5b844bb6a4e1c8f16fc807c4f368e"
      }
     },
     "889ebc56fc4044359ec1c3bae145e481": {
      "model_module": "@jupyter-widgets/base",
      "model_module_version": "1.2.0",
      "model_name": "LayoutModel",
      "state": {}
     },
     "8d69eb27f90f448ca743ae660baee61b": {
      "model_module": "@jupyter-widgets/base",
      "model_module_version": "1.2.0",
      "model_name": "LayoutModel",
      "state": {}
     },
     "8da23602bc5a490fb48bcd36e5747e87": {
      "model_module": "@jupyter-widgets/base",
      "model_module_version": "1.2.0",
      "model_name": "LayoutModel",
      "state": {}
     },
     "90b16f247cb4429798a16e9326f1b6b5": {
      "model_module": "jupyter-divewidgets",
      "model_module_version": "^0.1.5",
      "model_name": "OPTWidgetModel",
      "state": {
       "_model_module_version": "^0.1.5",
       "_model_name": "OPTWidgetModel",
       "_view_module_version": "^0.1.5",
       "_view_name": "OPTWidgetView",
       "height": 700,
       "layout": "IPY_MODEL_668922d98fa546b4b9ff92711ad38cf4",
       "script": "print('Hello, World!')\n",
       "srcprefix": "https://dive4dec.github.io/optlite/live.html#code=",
       "width": 1100
      }
     },
     "a04a013a6fb14b359cce7c222575e896": {
      "model_module": "jupyter-divewidgets",
      "model_module_version": "^0.1.5",
      "model_name": "OPTWidgetModel",
      "state": {
       "_model_module_version": "^0.1.5",
       "_model_name": "OPTWidgetModel",
       "_view_module_version": "^0.1.5",
       "_view_name": "OPTWidgetView",
       "height": 100,
       "layout": "IPY_MODEL_18bb091462c6435da92d89ae6f80eb72",
       "script": "print('Hello, World!')\n",
       "srcprefix": "https://dive4dec.github.io/optlite/#mode=display&code=",
       "width": 1100
      }
     },
     "a0b6e62912f0449f8939e8bbfdd8acbd": {
      "model_module": "@jupyter-widgets/base",
      "model_module_version": "1.2.0",
      "model_name": "LayoutModel",
      "state": {}
     },
     "ad944328519745cb928e971ac8ff17bf": {
      "model_module": "jupyter-divewidgets",
      "model_module_version": "^0.1.5",
      "model_name": "OPTWidgetModel",
      "state": {
       "_model_module_version": "^0.1.5",
       "_model_name": "OPTWidgetModel",
       "_view_module_version": "^0.1.5",
       "_view_name": "OPTWidgetView",
       "height": 300,
       "layout": "IPY_MODEL_4dd4fe31d18049ee9d9180595be42dbf",
       "script": "print('Hello, World!')\n",
       "srcprefix": "https://dive4dec.github.io/optlite/#mode=display&code=",
       "width": 1100
      }
     },
     "b2a91c40157c479bb7b2eb01236cdc68": {
      "model_module": "jupyter-divewidgets",
      "model_module_version": "^0.1.5",
      "model_name": "OPTWidgetModel",
      "state": {
       "_model_module_version": "^0.1.5",
       "_model_name": "OPTWidgetModel",
       "_view_module_version": "^0.1.5",
       "_view_name": "OPTWidgetView",
       "height": 100,
       "layout": "IPY_MODEL_688d5c03c76d4e2aafc3ac6c4ea19d8f",
       "script": "print('Hello, World!')\n",
       "srcprefix": "https://dive4dec.github.io/optlite/live.html#code=",
       "width": 1100
      }
     },
     "b3f1613b89e24519bacd588633b4b883": {
      "model_module": "jupyter-divewidgets",
      "model_module_version": "^0.1.5",
      "model_name": "OPTWidgetModel",
      "state": {
       "_model_module_version": "^0.1.5",
       "_model_name": "OPTWidgetModel",
       "_view_module_version": "^0.1.5",
       "_view_name": "OPTWidgetView",
       "height": 400,
       "layout": "IPY_MODEL_7c283f73027043b9803b2cd9a759fb38",
       "script": "def f(n):\n    return n*f(n-1) if n>1 else 1\n\nf(3)\n",
       "srcprefix": "https://dive4dec.github.io/optlite/live.html#code=",
       "width": 1100
      }
     },
     "b9b2ab31aaf84dd8b0b375d17d1c1456": {
      "model_module": "@jupyter-widgets/base",
      "model_module_version": "1.2.0",
      "model_name": "LayoutModel",
      "state": {}
     },
     "e285cbaeee76461b8b7e2107f7172a91": {
      "model_module": "@jupyter-widgets/base",
      "model_module_version": "1.2.0",
      "model_name": "LayoutModel",
      "state": {}
     },
     "e792ca2ddef34797bff0e7e27d6be5a7": {
      "model_module": "jupyter-divewidgets",
      "model_module_version": "^0.1.5",
      "model_name": "OPTWidgetModel",
      "state": {
       "_model_module_version": "^0.1.5",
       "_model_name": "OPTWidgetModel",
       "_view_module_version": "^0.1.5",
       "_view_name": "OPTWidgetView",
       "height": 400,
       "layout": "IPY_MODEL_8da23602bc5a490fb48bcd36e5747e87",
       "script": "def f(n):\n    return n*f(n-1) if n>1 else 1\n\nf(3)\n",
       "srcprefix": "https://dive4dec.github.io/optlite/live.html#code=",
       "width": 1100
      }
     },
     "fa0d611d823946458d0b5ac8b2b1fd1c": {
      "model_module": "jupyter-divewidgets",
      "model_module_version": "^0.1.5",
      "model_name": "OPTWidgetModel",
      "state": {
       "_model_module_version": "^0.1.5",
       "_model_name": "OPTWidgetModel",
       "_view_module_version": "^0.1.5",
       "_view_name": "OPTWidgetView",
       "height": 400,
       "layout": "IPY_MODEL_e285cbaeee76461b8b7e2107f7172a91",
       "script": "def f(n):\n    return n*f(n-1) if n>1 else 1\n\nf(3)\n",
       "srcprefix": "https://dive4dec.github.io/optlite/live.html#code=",
       "width": 1100
      }
     },
     "fde01e0bf2a34f02a23e524e7a83d609": {
      "model_module": "jupyter-divewidgets",
      "model_module_version": "^0.1.5",
      "model_name": "OPTWidgetModel",
      "state": {
       "_model_module_version": "^0.1.5",
       "_model_name": "OPTWidgetModel",
       "_view_module_version": "^0.1.5",
       "_view_name": "OPTWidgetView",
       "height": 400,
       "layout": "IPY_MODEL_30d3051fce6b4752a000d4043b6f833a",
       "script": "def f(n):\n    return n*f(n-1) if n>1 else 1\n\nf(3)\n",
       "srcprefix": "https://dive4dec.github.io/optlite/live.html#code=",
       "width": 1100
      }
     }
    },
    "version_major": 2,
    "version_minor": 0
   }
  }
 },
 "nbformat": 4,
 "nbformat_minor": 4
}
