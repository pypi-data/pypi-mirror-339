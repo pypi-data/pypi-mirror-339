{
 "cells": [
  {
   "cell_type": "code",
   "execution_count": 7,
   "metadata": {},
   "outputs": [],
   "source": [
    "file1 = open('../nctoolkit/api.py', 'r') \n",
    "Lines = file1.readlines() "
   ]
  },
  {
   "cell_type": "code",
   "execution_count": 8,
   "metadata": {},
   "outputs": [
    {
     "data": {
      "text/plain": [
       "1653"
      ]
     },
     "execution_count": 8,
     "metadata": {},
     "output_type": "execute_result"
    }
   ],
   "source": [
    "line = 0\n",
    "for l in Lines:\n",
    "    if \"import the methods\" in l:\n",
    "        break\n",
    "    line += 1\n",
    "line"
   ]
  },
  {
   "cell_type": "code",
   "execution_count": 9,
   "metadata": {},
   "outputs": [
    {
     "data": {
      "text/plain": [
       "1839"
      ]
     },
     "execution_count": 9,
     "metadata": {},
     "output_type": "execute_result"
    }
   ],
   "source": [
    "line2 = 0\n",
    "for l in Lines:\n",
    "    if \"depreca\" in l:\n",
    "        break\n",
    "    line2 += 1\n",
    "line2"
   ]
  },
  {
   "cell_type": "code",
   "execution_count": 10,
   "metadata": {},
   "outputs": [],
   "source": [
    "checks = [x.replace(\"\\n\", \"\") for x in Lines[line+1:line2]]\n",
    "checks = [x.strip().split(\" \")[-1] for x in checks if len(x) > 0]"
   ]
  },
  {
   "cell_type": "code",
   "execution_count": 11,
   "metadata": {},
   "outputs": [],
   "source": [
    "# pull in the stuff in the api"
   ]
  },
  {
   "cell_type": "code",
   "execution_count": 12,
   "metadata": {},
   "outputs": [
    {
     "name": "stdout",
     "output_type": "stream",
     "text": [
      "day_stat\n",
      "disk_clean\n",
      "assign_coords\n",
      "select\n"
     ]
    }
   ],
   "source": [
    "file1 = open('../docs/source/api.rst', 'r') \n",
    "Lines = file1.readlines() \n",
    "for cc in checks:\n",
    "    found = False\n",
    "    for ll in Lines:\n",
    "         if f\"{cc}\\n\" in ll:\n",
    "            found = True\n",
    "    if found == False:\n",
    "        print(cc)"
   ]
  },
  {
   "cell_type": "code",
   "execution_count": null,
   "metadata": {},
   "outputs": [],
   "source": []
  }
 ],
 "metadata": {
  "kernelspec": {
   "display_name": "Python 3 (ipykernel)",
   "language": "python",
   "name": "python3"
  },
  "language_info": {
   "codemirror_mode": {
    "name": "ipython",
    "version": 3
   },
   "file_extension": ".py",
   "mimetype": "text/x-python",
   "name": "python",
   "nbconvert_exporter": "python",
   "pygments_lexer": "ipython3",
   "version": "3.8.13"
  }
 },
 "nbformat": 4,
 "nbformat_minor": 4
}
