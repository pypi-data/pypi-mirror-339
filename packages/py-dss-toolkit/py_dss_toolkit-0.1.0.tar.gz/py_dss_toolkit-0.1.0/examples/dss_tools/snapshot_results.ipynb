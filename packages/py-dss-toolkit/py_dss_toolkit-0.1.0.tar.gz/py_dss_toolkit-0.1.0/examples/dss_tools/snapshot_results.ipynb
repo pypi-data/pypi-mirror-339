{
 "cells": [
  {
   "cell_type": "markdown",
   "id": "744786c5",
   "metadata": {},
   "source": [
    "# Exploring SnapShot Results Capabilities with `py_dss_tools`: A Hands-on Example\n",
    "This notebook demonstrates how to compile and solve a DSS model, and then retrieve key results, such as circuit summaries, voltages, powers, and currents."
   ]
  },
  {
   "cell_type": "code",
   "id": "b6787797",
   "metadata": {
    "ExecuteTime": {
     "end_time": "2025-03-22T12:29:40.133730Z",
     "start_time": "2025-03-22T12:29:40.125295Z"
    }
   },
   "source": [
    "import py_dss_interface\n",
    "from py_dss_tools import dss_tools"
   ],
   "outputs": [],
   "execution_count": 20
  },
  {
   "cell_type": "markdown",
   "id": "e67f70ce",
   "metadata": {},
   "source": [
    "Define the path to the DSS file"
   ]
  },
  {
   "cell_type": "code",
   "id": "83949144",
   "metadata": {
    "ExecuteTime": {
     "end_time": "2025-03-22T12:29:40.170754Z",
     "start_time": "2025-03-22T12:29:40.164399Z"
    }
   },
   "source": [
    "dss_file = r\"C:\\PauloRadatz\\GitHub\\py_dss_tools\\examples\\feeders\\123Bus\\IEEE123Master.dss\""
   ],
   "outputs": [],
   "execution_count": 21
  },
  {
   "cell_type": "markdown",
   "id": "aafbf2db",
   "metadata": {},
   "source": [
    "Create an instance of DSS"
   ]
  },
  {
   "cell_type": "code",
   "id": "a3dd837d",
   "metadata": {
    "ExecuteTime": {
     "end_time": "2025-03-22T12:29:40.211139Z",
     "start_time": "2025-03-22T12:29:40.199866Z"
    }
   },
   "source": [
    "dss = py_dss_interface.DSS()"
   ],
   "outputs": [],
   "execution_count": 22
  },
  {
   "cell_type": "markdown",
   "id": "51407ca1",
   "metadata": {},
   "source": [
    "Connect DSS instance to the dss_tools"
   ]
  },
  {
   "cell_type": "code",
   "id": "aaf4d2d7ffb5032b",
   "metadata": {
    "collapsed": false,
    "ExecuteTime": {
     "end_time": "2025-03-22T12:29:40.251550Z",
     "start_time": "2025-03-22T12:29:40.242918Z"
    }
   },
   "source": [
    "dss_tools.update_dss(dss)"
   ],
   "outputs": [],
   "execution_count": 23
  },
  {
   "cell_type": "markdown",
   "id": "2dee7153f2efa7b4",
   "metadata": {
    "collapsed": false
   },
   "source": [
    "Compile the DSS model from the specified file, load bus coordinates for visualization"
   ]
  },
  {
   "cell_type": "code",
   "id": "9fb56d963cf30733",
   "metadata": {
    "collapsed": false,
    "ExecuteTime": {
     "end_time": "2025-03-22T12:29:40.314356Z",
     "start_time": "2025-03-22T12:29:40.284546Z"
    }
   },
   "source": [
    "dss.text(f\"compile [{dss_file}]\")\n",
    "dss.text(f\"buscoords buscoords.dat\")"
   ],
   "outputs": [
    {
     "data": {
      "text/plain": [
       "''"
      ]
     },
     "execution_count": 24,
     "metadata": {},
     "output_type": "execute_result"
    }
   ],
   "execution_count": 24
  },
  {
   "cell_type": "markdown",
   "id": "2a5b4f1b6558baa0",
   "metadata": {
    "collapsed": false
   },
   "source": [
    "Solve the power flow using the `solve_snapshot` method from dss_tools with customized parameters. For example, we set the maximum control iterations to 20. There are other parameters you can change."
   ]
  },
  {
   "cell_type": "code",
   "id": "b010b3d6",
   "metadata": {
    "ExecuteTime": {
     "end_time": "2025-03-22T12:29:40.353521Z",
     "start_time": "2025-03-22T12:29:40.347764Z"
    }
   },
   "source": [
    "dss_tools.simulation.solve_snapshot(max_control_iter=20)"
   ],
   "outputs": [],
   "execution_count": 25
  },
  {
   "cell_type": "markdown",
   "id": "6bee4aca",
   "metadata": {},
   "source": [
    "Retrieve the circuit summary as a DataFrame"
   ]
  },
  {
   "cell_type": "code",
   "id": "8a901920",
   "metadata": {
    "ExecuteTime": {
     "end_time": "2025-03-22T12:29:40.390178Z",
     "start_time": "2025-03-22T12:29:40.378415Z"
    }
   },
   "source": [
    "circuit_summary_df = dss_tools.results.summary_df\n",
    "circuit_summary_df"
   ],
   "outputs": [
    {
     "data": {
      "text/plain": [
       "                      Results\n",
       "P feeder (kW)     3615.241922\n",
       "Q feeder (kvar)   1311.514987\n",
       "P losses (kW)       95.976865\n",
       "Q losses (kvar)    192.504095\n",
       "max voltage (pu)     1.049961\n",
       "min voltage (pu)     0.979211"
      ],
      "text/html": [
       "<div>\n",
       "<style scoped>\n",
       "    .dataframe tbody tr th:only-of-type {\n",
       "        vertical-align: middle;\n",
       "    }\n",
       "\n",
       "    .dataframe tbody tr th {\n",
       "        vertical-align: top;\n",
       "    }\n",
       "\n",
       "    .dataframe thead th {\n",
       "        text-align: right;\n",
       "    }\n",
       "</style>\n",
       "<table border=\"1\" class=\"dataframe\">\n",
       "  <thead>\n",
       "    <tr style=\"text-align: right;\">\n",
       "      <th></th>\n",
       "      <th>Results</th>\n",
       "    </tr>\n",
       "  </thead>\n",
       "  <tbody>\n",
       "    <tr>\n",
       "      <th>P feeder (kW)</th>\n",
       "      <td>3615.241922</td>\n",
       "    </tr>\n",
       "    <tr>\n",
       "      <th>Q feeder (kvar)</th>\n",
       "      <td>1311.514987</td>\n",
       "    </tr>\n",
       "    <tr>\n",
       "      <th>P losses (kW)</th>\n",
       "      <td>95.976865</td>\n",
       "    </tr>\n",
       "    <tr>\n",
       "      <th>Q losses (kvar)</th>\n",
       "      <td>192.504095</td>\n",
       "    </tr>\n",
       "    <tr>\n",
       "      <th>max voltage (pu)</th>\n",
       "      <td>1.049961</td>\n",
       "    </tr>\n",
       "    <tr>\n",
       "      <th>min voltage (pu)</th>\n",
       "      <td>0.979211</td>\n",
       "    </tr>\n",
       "  </tbody>\n",
       "</table>\n",
       "</div>"
      ]
     },
     "execution_count": 26,
     "metadata": {},
     "output_type": "execute_result"
    }
   ],
   "execution_count": 26
  },
  {
   "cell_type": "markdown",
   "id": "fe1e2869",
   "metadata": {},
   "source": [
    "Get the magnitudes and angles of voltages (line-neutral) for each node"
   ]
  },
  {
   "cell_type": "code",
   "id": "e8272000",
   "metadata": {
    "ExecuteTime": {
     "end_time": "2025-03-22T12:29:40.531988Z",
     "start_time": "2025-03-22T12:29:40.457035Z"
    }
   },
   "source": [
    "mag_voltage_ln_nodes_df = dss_tools.results.voltage_ln_nodes[0]\n",
    "angle_voltage_ln_nodes_df = dss_tools.results.voltage_ln_nodes[1]\n",
    "\n",
    "mag_voltage_ln_nodes_df.head(), angle_voltage_ln_nodes_df.head()"
   ],
   "outputs": [
    {
     "data": {
      "text/plain": [
       "(         node1     node2     node3\n",
       " 150   0.999990  0.999994  0.999993\n",
       " 150r  1.037486  1.037492  1.037490\n",
       " 149   1.037486  1.037492  1.037490\n",
       " 1     1.024960  1.035118  1.028590\n",
       " 2          NaN  1.034896       NaN,\n",
       "          node1       node2     node3\n",
       " 150  -0.001453   -0.001453 -0.001453\n",
       " 150r -0.001954   -0.001954 -0.001954\n",
       " 149  -0.001949   -0.001949 -0.001949\n",
       " 1    -0.648331   -0.648331 -0.648331\n",
       " 2          NaN -120.320463       NaN)"
      ]
     },
     "execution_count": 27,
     "metadata": {},
     "output_type": "execute_result"
    }
   ],
   "execution_count": 27
  },
  {
   "cell_type": "markdown",
   "id": "edc7c6b3",
   "metadata": {},
   "source": [
    "Retrieve the active and reactive powers (P and Q) for each element in the system"
   ]
  },
  {
   "cell_type": "code",
   "id": "b7adc485",
   "metadata": {
    "ExecuteTime": {
     "end_time": "2025-03-22T12:29:40.737613Z",
     "start_time": "2025-03-22T12:29:40.561589Z"
    }
   },
   "source": [
    "p_elements_df = dss_tools.results.powers_elements[0]\n",
    "q_elements_df = dss_tools.results.powers_elements[1]\n",
    "\n",
    "p_elements_df.head(), q_elements_df.head()"
   ],
   "outputs": [
    {
     "data": {
      "text/plain": [
       "(                   Terminal1.1  Terminal1.2  Terminal1.3  Terminal1.0  \\\n",
       " transformer.reg1a  1463.277554   962.106773  1189.857596          0.0   \n",
       " line.l115          1463.277006   962.106543  1189.857248          NaN   \n",
       " line.l1                    NaN    20.003555          NaN          NaN   \n",
       " line.l2                    NaN          NaN   102.853919          NaN   \n",
       " line.l3            1411.964368   941.731825  1079.372647          NaN   \n",
       " \n",
       "                    Terminal2.1  Terminal2.2  Terminal2.3  Terminal2.0  \n",
       " transformer.reg1a -1463.277405  -962.106710 -1189.857502          0.0  \n",
       " line.l115         -1451.964535  -961.735379 -1182.226566          NaN  \n",
       " line.l1                    NaN   -19.999990          NaN          NaN  \n",
       " line.l2                    NaN          NaN  -102.717428          NaN  \n",
       " line.l3           -1403.458648  -941.604701 -1074.807433          NaN  ,\n",
       "                    Terminal1.1  Terminal1.2  Terminal1.3  Terminal1.0  \\\n",
       " transformer.reg1a   578.377078   336.317427   396.820482          0.0   \n",
       " line.l115           578.362223   336.311195   396.811043          NaN   \n",
       " line.l1                    NaN    10.002679          NaN          NaN   \n",
       " line.l2                    NaN          NaN    51.546065          NaN   \n",
       " line.l3             535.037850   320.260507   334.052709          NaN   \n",
       " \n",
       "                    Terminal2.1  Terminal2.2  Terminal2.3  Terminal2.0  \n",
       " transformer.reg1a  -578.362223  -336.311195  -396.811043          0.0  \n",
       " line.l115          -555.037937  -330.263186  -385.598773          NaN  \n",
       " line.l1                    NaN    -9.999990          NaN          NaN  \n",
       " line.l2                    NaN          NaN   -51.408999          NaN  \n",
       " line.l3            -518.556797  -315.598782  -327.499751          NaN  )"
      ]
     },
     "execution_count": 28,
     "metadata": {},
     "output_type": "execute_result"
    }
   ],
   "execution_count": 28
  },
  {
   "cell_type": "markdown",
   "id": "01f6ead8",
   "metadata": {},
   "source": [
    "Get the magnitudes and angles of currents for each element in the system"
   ]
  },
  {
   "cell_type": "code",
   "id": "af17c1df",
   "metadata": {
    "ExecuteTime": {
     "end_time": "2025-03-22T12:29:40.897473Z",
     "start_time": "2025-03-22T12:29:40.764632Z"
    }
   },
   "source": [
    "mag_current_df = dss_tools.results.currents_elements[0]\n",
    "angle_current_df = dss_tools.results.currents_elements[1]\n",
    "\n",
    "mag_current_df.head(), angle_current_df.head()"
   ],
   "outputs": [
    {
     "data": {
      "text/plain": [
       "(                   Terminal1.1  Terminal1.2  Terminal1.3  Terminal1.0  \\\n",
       " transformer.reg1a   655.119865   424.352923   522.235105   183.173775   \n",
       " line.l115           631.440834   409.014866   503.359137          NaN   \n",
       " line.l1                    NaN     8.995957          NaN          NaN   \n",
       " line.l2                    NaN          NaN    46.569548          NaN   \n",
       " line.l3             613.365422   400.100368   457.360338          NaN   \n",
       " \n",
       "                    Terminal2.1  Terminal2.2  Terminal2.3  Terminal2.0  \n",
       " transformer.reg1a   631.440834   409.014866   503.359137   176.553037  \n",
       " line.l115           631.441479   409.015224   503.359437          NaN  \n",
       " line.l1                    NaN     8.996124          NaN          NaN  \n",
       " line.l2                    NaN          NaN    46.569785          NaN  \n",
       " line.l3             613.365893   400.100628   457.360543          NaN  ,\n",
       "                    Terminal1.1  Terminal1.2  Terminal1.3  Terminal1.0  \\\n",
       " transformer.reg1a   -21.568426  -139.268719   101.555147   178.099475   \n",
       " line.l115           -21.568426  -139.268719   101.555147          NaN   \n",
       " line.l1                    NaN  -146.883382          NaN          NaN   \n",
       " line.l2                    NaN          NaN    93.001329          NaN   \n",
       " line.l3             -21.401610  -139.098208   102.422774          NaN   \n",
       " \n",
       "                    Terminal2.1  Terminal2.2  Terminal2.3  Terminal2.0  \n",
       " transformer.reg1a   158.431574    40.731281   -78.444853    -1.900525  \n",
       " line.l115           158.431470    40.731089   -78.444985          NaN  \n",
       " line.l1                    NaN    33.114497          NaN          NaN  \n",
       " line.l2                    NaN          NaN   -86.999252          NaN  \n",
       " line.l3             158.598310    40.901645   -77.577334          NaN  )"
      ]
     },
     "execution_count": 29,
     "metadata": {},
     "output_type": "execute_result"
    }
   ],
   "execution_count": 29
  },
  {
   "cell_type": "markdown",
   "id": "1e368965",
   "metadata": {},
   "source": [
    "### Conclusion\n",
    "In this notebook, we explored the SnapShot Results capabilities of py_dss_tools. \n",
    "We compiled and solved a DSS model, then retrieved key metrics such as circuit summary data, voltages, powers, and currents. \n",
    "If you have suggestions or ideas on what could be added to this tool, please don't hesitate to reach out. Your feedback is invaluable in helping improve this tool's functionality."
   ]
  }
 ],
 "metadata": {
  "kernelspec": {
   "display_name": "Python 3 (ipykernel)",
   "language": "python",
   "name": "python3"
  },
  "language_info": {
   "codemirror_mode": {
    "name": "ipython",
    "version": 3
   },
   "file_extension": ".py",
   "mimetype": "text/x-python",
   "name": "python",
   "nbconvert_exporter": "python",
   "pygments_lexer": "ipython3",
   "version": "3.11.3"
  }
 },
 "nbformat": 4,
 "nbformat_minor": 5
}
