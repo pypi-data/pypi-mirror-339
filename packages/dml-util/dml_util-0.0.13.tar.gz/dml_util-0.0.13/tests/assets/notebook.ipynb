{
 "cells": [
  {
   "cell_type": "code",
   "execution_count": null,
   "metadata": {},
   "outputs": [],
   "source": [
    "import math\n",
    "# import matplotlib.pyplot as plt\n",
    "# import numpy as np\n",
    "# \n",
    "# plt.style.use('_mpl-gallery')\n",
    "# \n",
    "# # make data\n",
    "# x = np.linspace(0, 10, 100)\n",
    "# y = 4 + 1 * np.sin(2 * x)\n",
    "# x2 = np.linspace(0, 10, 25)\n",
    "# y2 = 4 + 1 * np.sin(2 * x2)\n",
    "# \n",
    "# # plot\n",
    "# fig, ax = plt.subplots()\n",
    "# \n",
    "# ax.plot(x2, y2 + 2.5, 'x', markeredgewidth=2)\n",
    "# ax.plot(x, y, linewidth=2.0)\n",
    "# ax.plot(x2, y2 - 2.5, 'o-', linewidth=2)\n",
    "# \n",
    "# ax.set(xlim=(0, 8), xticks=np.arange(1, 8),\n",
    "#        ylim=(0, 8), yticks=np.arange(1, 8))\n",
    "# \n",
    "# plt.show()"
   ]
  },
  {
   "cell_type": "code",
   "execution_count": null,
   "metadata": {},
   "outputs": [],
   "source": [
    "math.sqrt(13)"
   ]
  },
  {
   "cell_type": "code",
   "execution_count": null,
   "metadata": {},
   "outputs": [],
   "source": []
  }
 ],
 "metadata": {
  "kernelspec": {
   "display_name": "Python 3 (ipykernel)",
   "language": "python",
   "name": "python3"
  },
  "language_info": {
   "codemirror_mode": {
    "name": "ipython",
    "version": 3
   },
   "file_extension": ".py",
   "mimetype": "text/x-python",
   "name": "python",
   "nbconvert_exporter": "python",
   "pygments_lexer": "ipython3",
   "version": "3.10.15"
  }
 },
 "nbformat": 4,
 "nbformat_minor": 4
}
