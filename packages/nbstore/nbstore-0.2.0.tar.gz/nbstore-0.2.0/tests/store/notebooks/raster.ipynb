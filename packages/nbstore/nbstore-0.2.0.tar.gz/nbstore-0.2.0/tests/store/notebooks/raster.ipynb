{
  "cells": [
    {
      "cell_type": "code",
      "execution_count": 1,
      "metadata": {},
      "outputs": [],
      "source": [
        "import numpy as np\n",
        "from matplotlib import pyplot as plt\n",
        "\n",
        "from nbstore.formatter import set_formatter\n",
        "\n",
        "set_formatter(\"matplotlib\", \"pgf\")"
      ]
    },
    {
      "cell_type": "code",
      "execution_count": null,
      "metadata": {},
      "outputs": [],
      "source": [
        "# #fig:raster\n",
        "data = np.random.randn(50, 50)\n",
        "fig, ax = plt.subplots(figsize=(3, 2))\n",
        "a = ax.imshow(data, interpolation=\"nearest\", aspect=1)\n",
        "ax.set(xlabel=\"x\", ylabel=\"y\")\n",
        "fig.colorbar(a)"
      ]
    },
    {
      "cell_type": "code",
      "execution_count": null,
      "metadata": {},
      "outputs": [],
      "source": []
    }
  ],
  "metadata": {
    "kernelspec": {
      "display_name": ".venv",
      "language": "python",
      "name": "python3"
    },
    "language_info": {
      "codemirror_mode": {
        "name": "ipython",
        "version": 3
      },
      "file_extension": ".py",
      "mimetype": "text/x-python",
      "name": "python",
      "nbconvert_exporter": "python",
      "pygments_lexer": "ipython3",
      "version": "3.13.2"
    }
  },
  "nbformat": 4,
  "nbformat_minor": 2
}
