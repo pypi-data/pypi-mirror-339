{
 "cells": [
  {
   "cell_type": "code",
   "execution_count": 1,
   "metadata": {},
   "outputs": [],
   "source": [
    "import numpy as np\n",
    "from kannolo import DensePlainHNSW"
   ]
  },
  {
   "cell_type": "markdown",
   "metadata": {},
   "source": [
    "### Load Data"
   ]
  },
  {
   "cell_type": "code",
   "execution_count": 2,
   "metadata": {},
   "outputs": [],
   "source": [
    "# MS MARCO DRAGON (dense)\n",
    "query_path = '/data3/silvio/datasets_numpy/queries/dragon_queries.npy'\n",
    "index_path = \"/data3/silvio/indexes/kannolo/kannolo_dragon_efc_200_m_32_metric_ip\""
   ]
  },
  {
   "cell_type": "code",
   "execution_count": 3,
   "metadata": {},
   "outputs": [],
   "source": [
    "# Load data\n",
    "index = DensePlainHNSW.load(index_path) # Index\n",
    "queries = np.load(query_path) # Queries"
   ]
  },
  {
   "cell_type": "code",
   "execution_count": 4,
   "metadata": {},
   "outputs": [],
   "source": [
    "# Choose a query\n",
    "query_id_1 = 1500\n",
    "query_id_2 = 5000\n",
    "query_1 = queries[query_id_1]\n",
    "query_2 = queries[query_id_2]"
   ]
  },
  {
   "cell_type": "markdown",
   "metadata": {},
   "source": [
    "### Search Queries"
   ]
  },
  {
   "cell_type": "code",
   "execution_count": 5,
   "metadata": {},
   "outputs": [],
   "source": [
    "# Set search parameters\n",
    "k = 10\n",
    "efSearch = 1000"
   ]
  },
  {
   "cell_type": "code",
   "execution_count": 6,
   "metadata": {},
   "outputs": [],
   "source": [
    "dists_1, ids_1 = index.search(query_1, 10, 200)\n",
    "dists_2, ids_2 = index.search(query_2, 10, 200)\n",
    "dists_1 = dists_1.reshape(-1, 10)\n",
    "ids_1 = ids_1.reshape(-1, 10)\n",
    "dists_2 = dists_2.reshape(-1, 10)\n",
    "ids_2 = ids_2.reshape(-1, 10)"
   ]
  },
  {
   "cell_type": "markdown",
   "metadata": {},
   "source": [
    "### Collect Results"
   ]
  },
  {
   "cell_type": "code",
   "execution_count": 7,
   "metadata": {},
   "outputs": [],
   "source": [
    "import ir_datasets"
   ]
  },
  {
   "cell_type": "code",
   "execution_count": 8,
   "metadata": {},
   "outputs": [],
   "source": [
    "# add your ir_dataset dataset string id\n",
    "ir_dataset_string = \"msmarco-passage/dev/small\"\n",
    "# Load the dataset\n",
    "dataset = ir_datasets.load(\"msmarco-passage/dev/small\")"
   ]
  },
  {
   "cell_type": "code",
   "execution_count": 9,
   "metadata": {},
   "outputs": [],
   "source": [
    "query_passage_1 = [query for query in dataset.queries_iter()][query_id_1].text\n",
    "query_passage_2 = [query for query in dataset.queries_iter()][query_id_2].text"
   ]
  },
  {
   "cell_type": "code",
   "execution_count": 10,
   "metadata": {},
   "outputs": [],
   "source": [
    "documents_passages = dataset.docs_iter()[:]\n",
    "results_1 = [documents_passages[int(i)].text for i in ids_1[0]]\n",
    "results_2 = [documents_passages[int(i)].text for i in ids_2[0]]"
   ]
  },
  {
   "cell_type": "markdown",
   "metadata": {},
   "source": [
    "### Evaluation"
   ]
  },
  {
   "cell_type": "code",
   "execution_count": 11,
   "metadata": {},
   "outputs": [],
   "source": [
    "import ir_measures\n",
    "ir_measure = ir_measures.parse_measure(\"MRR@10\")"
   ]
  },
  {
   "cell_type": "code",
   "execution_count": 12,
   "metadata": {},
   "outputs": [],
   "source": [
    "# Remapping the query ids for metric evaluation\n",
    "real_query_id_1 = [query for query in dataset.queries_iter()][query_id_1].query_id\n",
    "real_query_id_2 = [query for query in dataset.queries_iter()][query_id_2].query_id"
   ]
  },
  {
   "cell_type": "code",
   "execution_count": 13,
   "metadata": {},
   "outputs": [],
   "source": [
    "# Parsing the results for metric evaluation\n",
    "results_for_metric_1 = []\n",
    "for dd, ii in zip(dists_1[0], ids_1[0]):\n",
    "    results_for_metric_1.append(ir_measures.ScoredDoc(real_query_id_1, str(ii), dd))\n",
    "\n",
    "results_for_metric_2 = []\n",
    "for dd, ii in zip(dists_2[0], ids_2[0]):\n",
    "    results_for_metric_2.append(ir_measures.ScoredDoc(real_query_id_2, str(ii), dd))"
   ]
  },
  {
   "cell_type": "code",
   "execution_count": 14,
   "metadata": {},
   "outputs": [],
   "source": [
    "# Load the qrels (relevance judgments) for the dataset\n",
    "qrels = dataset.qrels\n",
    "qrel_1 = [q for q in qrels if q.query_id == real_query_id_1]\n",
    "qrel_2 = [q for q in qrels if q.query_id == real_query_id_2]"
   ]
  },
  {
   "cell_type": "code",
   "execution_count": 15,
   "metadata": {},
   "outputs": [
    {
     "name": "stdout",
     "output_type": "stream",
     "text": [
      "Metric evaluation for query 1 {RR@10: 0.0}\n",
      "Metric evaluation for query 2 {RR@10: 0.1}\n"
     ]
    }
   ],
   "source": [
    "# Compute the MRR@10 metric\n",
    "print(\"Metric evaluation for query 1\", ir_measures.calc_aggregate([ir_measure], qrel_1, results_for_metric_1))\n",
    "print(\"Metric evaluation for query 2\", ir_measures.calc_aggregate([ir_measure], qrel_2, results_for_metric_2))"
   ]
  },
  {
   "cell_type": "markdown",
   "metadata": {},
   "source": [
    "### Display Results"
   ]
  },
  {
   "cell_type": "code",
   "execution_count": 16,
   "metadata": {},
   "outputs": [
    {
     "data": {
      "text/plain": [
       "'temperature in clearwater florida per month'"
      ]
     },
     "execution_count": 16,
     "metadata": {},
     "output_type": "execute_result"
    }
   ],
   "source": [
    "query_passage_1"
   ]
  },
  {
   "cell_type": "code",
   "execution_count": 17,
   "metadata": {},
   "outputs": [
    {
     "data": {
      "text/plain": [
       "['Clearwater: Annual Weather Averages. July is the hottest month in Clearwater with an average temperature of 28°C (83°F) and the coldest is January at 14°C (58°F) with the most daily sunshine hours at 11 in July.he wettest month is June with an average of 133.3mm of rain. The best month to swim in the sea is in August when the average sea temperature is 30°C (86°F).',\n",
       " 'Clearwater: Annual Weather Averages July is the hottest month in Clearwater with an average temperature of 28 °C (83 °F) and the coldest is January at 14 °C (58 °F) with the most daily sunshine hours at 11 in July. The wettest month is June with an average of 133.3mm of rain. The best month to swim in the sea is in August when the average sea temperature is 30 °C (86 °F).',\n",
       " 'Clearwater: Annual Weather Averages. July is the hottest month in Clearwater with an average temperature of 28°C (83°F) and the coldest is January at 14°C (58°F) with the most daily sunshine hours at 11 in July. The wettest month is June with an average of 133.3mm of rain. The best month to swim in the sea is in August when the average sea temperature is 30 °C (86 °F). Average Temperature: Clearwater',\n",
       " 'Clearwater: Annual Weather Averages. July is the hottest month in Clearwater with an average temperature of 83 °F (28 °C) and the coldest is January at 58 °F (14 °C) with the most daily sunshine hours at 11 in July. The wettest month is June with an average of 133.3mm of rain. The best month to swim in the sea is in August when the average sea temperature is 86 °F (30 °C).',\n",
       " 'Clearwater: Annual Weather Averages. July is the hottest month in Clearwater with an average temperature of 28 °C (83 °F) and the coldest is January at 14 °C (58 °F) with the most daily sunshine hours at 11 in July. The wettest month is June with an average of 133.3mm of rain. The best month to swim in the sea is in August when the average sea temperature is 30 °C (86 °F).',\n",
       " 'Clearwater: Annual Weather Averages. July is the hottest month in Clearwater with an average temperature of 28°C (83°F) and the coldest is January at 14°C (58°F) with the most daily sunshine hours at 11 in July. The wettest month is June with an average of 133.3mm of rain.',\n",
       " 'Clearwater: Annual Weather Averages July is the hottest month in Clearwater with an average temperature of 28 °C (83 °F) and the coldest is January at 14 °C (58 °F) with the most daily sunshine hours at 11 in July.',\n",
       " 'Clearwater: Annual Weather Averages. July is the hottest month in Clearwater with an average temperature of 28°C (83°F) and the coldest is January at 14°C (58°F) with the most daily sunshine hours at 11 in July.',\n",
       " 'Clearwater: Annual Weather Averages. July is the hottest month in Clearwater with an average temperature of 28 °C (83 °F) and the coldest is January at 14 °C (58 °F) with the most daily sunshine hours at 11 in July. The wettest month is June with an average of 133.3mm of rain.',\n",
       " \"Clearwater, located on Central Florida's West Coast, has an overall average high temperature of 83° and an average low of 63°. The highest recorded temperature in Clearwater was 102° in 1997 and the lowest recorded temperature was a very 19° in 1981.On average Clearwater's warmest month is August and January is the average coolest month. The maximum average rainfall usually falls in August.he highest recorded temperature in Clearwater was 102° in 1997 and the lowest recorded temperature was a very 19° in 1981. On average Clearwater's warmest month is August and January is the average coolest month.\"]"
      ]
     },
     "execution_count": 17,
     "metadata": {},
     "output_type": "execute_result"
    }
   ],
   "source": [
    "results_1"
   ]
  },
  {
   "cell_type": "markdown",
   "metadata": {},
   "source": [
    "##### Dense representations fail in capturing the relevance of all the words. PER MONTH means that the query asks information about all the months in a year. Dense representations focus more on the more general topic, giving as results passages about average temperatures."
   ]
  },
  {
   "cell_type": "code",
   "execution_count": 18,
   "metadata": {},
   "outputs": [
    {
     "data": {
      "text/plain": [
       "'definition of dignity for kids'"
      ]
     },
     "execution_count": 18,
     "metadata": {},
     "output_type": "execute_result"
    }
   ],
   "source": [
    "query_passage_2"
   ]
  },
  {
   "cell_type": "code",
   "execution_count": 19,
   "metadata": {},
   "outputs": [
    {
     "data": {
      "text/plain": [
       "['Definition of dignity for English Language Learners. : 1  a way of appearing or behaving that suggests seriousness and self-control. : 2  the quality of being worthy of honor or respect.',\n",
       " 'Dignity is defined as the personal quality of being worthy of honor. An example of dignity is the respect paid to an elder member in the family. pl. -·ties. 1  the quality of being worthy of esteem or honor; worthiness. 2  high repute; honor.  the degree of worth, repute, or honor.',\n",
       " 'Dignity means being respected for who you are and what you believe in. That’s something that can be done in both big and little ways. Saying please or lending a helping hand are ways of showing dignity. Sharing your toys with others or making a donation to a food bank are ways of showing dignity.',\n",
       " 'Dignity is defined as the personal quality of being worthy of honor. An example of dignity is the respect paid to an elder member in the family. pl. -·ties. 1  the quality of being worthy of esteem or honor; worthiness. 2  high repute; honor. 3  the degree of worth, repute, or honor.  a high position, rank, or title.',\n",
       " 'Freebase(5.00 / 1 vote)Rate this definition: Dignity. Dignity is a term used in moral, ethical, legal, and political discussions to signify that a being has an innate right to be valued and receive ethical treatment. It is an extension of the Enlightenment-era concepts of inherent, inalienable rights.',\n",
       " 'Freebase(5.00 / 1 vote)Rate this definition: Dignity is a term used in moral, ethical, legal, and political discussions to signify that a being has an innate right to be valued and receive ethical treatment. It is an extension of the Enlightenment-era concepts of inherent, inalienable rights.',\n",
       " 'For many children, “ dignity ” is an unfamiliar term. You have a wonderful opportunity to talk to the children in your life about the dignity that resides in each of us and to help them develop the values and character traits that exemplify a dignified life.hildren need to hear in your own words what dignity means to you and why it is something you value. Talk about people you admire for living dignified lives. Public figures such as Mother Teresa and Martin Luther King, Jr. may first come to mind, but don’t overlook those in your immediate circle of family and friends.',\n",
       " 'Left to my own devices, I define dignity as “public recognition of my self-worth.” At its simplest, dignity for me says that individuals have many roles and hold many responsibilities; we are never only the client or the customer or the parent or the patient.',\n",
       " 'To treat a patient with dignity means to acknowledge that she may be a mathematician or mom of a kindergartener. She may be a divorced single parent with no friends or family around. A member of the PTA. A dog walker.',\n",
       " 'Full Definition of DIGNITY. 1. : the quality or state of being worthy, honored, or esteemed. 2. a: high rank, office, or position b: a legal title of nobility or honor.3. archaic: dignitary. 4. : formal reserve or seriousness of manner, appearance, or language. See dignity defined for English-language learners.. : the quality or state of being worthy, honored, or esteemed. 2. a: high rank, office, or position b: a legal title of nobility or honor. 3. archaic: dignitary. 4. : formal reserve or seriousness of manner, appearance, or language. See dignity defined for English-language learners.']"
      ]
     },
     "execution_count": 19,
     "metadata": {},
     "output_type": "execute_result"
    }
   ],
   "source": [
    "results_2"
   ]
  },
  {
   "cell_type": "markdown",
   "metadata": {},
   "source": [
    "##### Dense representations catch the more generic meaning of definition for kid, unlike sparse representations that get fooled by the word \"kid\", matching it even if the context is different."
   ]
  }
 ],
 "metadata": {
  "kernelspec": {
   "display_name": "base",
   "language": "python",
   "name": "python3"
  },
  "language_info": {
   "codemirror_mode": {
    "name": "ipython",
    "version": 3
   },
   "file_extension": ".py",
   "mimetype": "text/x-python",
   "name": "python",
   "nbconvert_exporter": "python",
   "pygments_lexer": "ipython3",
   "version": "3.12.2"
  }
 },
 "nbformat": 4,
 "nbformat_minor": 2
}
