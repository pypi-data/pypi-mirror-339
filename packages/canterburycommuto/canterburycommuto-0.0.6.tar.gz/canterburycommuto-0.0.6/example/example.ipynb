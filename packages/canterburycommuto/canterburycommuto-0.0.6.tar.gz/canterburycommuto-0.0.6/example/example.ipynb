{
 "cells": [
  {
   "cell_type": "markdown",
   "id": "57f9339e-6cc5-4e1e-9e8b-fba490c497f0",
   "metadata": {},
   "source": [
    "The exclamation mark ! is added before git in Jupyter Notebook to avoid syntax error."
   ]
  },
  {
   "cell_type": "code",
   "execution_count": 2,
   "id": "d4d170b6-c212-47aa-9a65-6fe595305ccc",
   "metadata": {},
   "outputs": [
    {
     "name": "stderr",
     "output_type": "stream",
     "text": [
      "Cloning into 'CanterburyCommuto'...\n"
     ]
    }
   ],
   "source": [
    "!git clone https://github.com/PeirongShi/CanterburyCommuto.git"
   ]
  },
  {
   "cell_type": "markdown",
   "id": "02a9a994-d93f-4707-9fea-8f14001bfcc3",
   "metadata": {},
   "source": [
    "For the same reason as it is for git, % and ! should be added in front of cd and pip."
   ]
  },
  {
   "cell_type": "code",
   "execution_count": 4,
   "id": "c0786058-db2e-4592-8c9c-3b8f0ce66253",
   "metadata": {},
   "outputs": [
    {
     "name": "stdout",
     "output_type": "stream",
     "text": [
      "C:\\Users\\HUAWEI\\CanterburyCommuto\n",
      "Requirement already satisfied: requests==2.32.2 in d:\\anaconda\\lib\\site-packages (from -r requirements.txt (line 1)) (2.32.2)\n",
      "Requirement already satisfied: polyline==2.0.2 in d:\\anaconda\\lib\\site-packages (from -r requirements.txt (line 2)) (2.0.2)\n",
      "Requirement already satisfied: matplotlib==3.8.4 in d:\\anaconda\\lib\\site-packages (from -r requirements.txt (line 3)) (3.8.4)\n",
      "Requirement already satisfied: shapely==2.0.5 in d:\\anaconda\\lib\\site-packages (from -r requirements.txt (line 4)) (2.0.5)\n",
      "Requirement already satisfied: pyproj==3.6.1 in d:\\anaconda\\lib\\site-packages (from -r requirements.txt (line 5)) (3.6.1)\n",
      "Requirement already satisfied: folium==0.14.0 in d:\\anaconda\\lib\\site-packages (from -r requirements.txt (line 6)) (0.14.0)\n",
      "Requirement already satisfied: IPython==8.25.0 in d:\\anaconda\\lib\\site-packages (from -r requirements.txt (line 7)) (8.25.0)\n",
      "Requirement already satisfied: charset-normalizer<4,>=2 in d:\\anaconda\\lib\\site-packages (from requests==2.32.2->-r requirements.txt (line 1)) (2.0.4)\n",
      "Requirement already satisfied: idna<4,>=2.5 in d:\\anaconda\\lib\\site-packages (from requests==2.32.2->-r requirements.txt (line 1)) (3.7)\n",
      "Requirement already satisfied: urllib3<3,>=1.21.1 in d:\\anaconda\\lib\\site-packages (from requests==2.32.2->-r requirements.txt (line 1)) (2.2.2)\n",
      "Requirement already satisfied: certifi>=2017.4.17 in d:\\anaconda\\lib\\site-packages (from requests==2.32.2->-r requirements.txt (line 1)) (2024.8.30)\n",
      "Requirement already satisfied: contourpy>=1.0.1 in d:\\anaconda\\lib\\site-packages (from matplotlib==3.8.4->-r requirements.txt (line 3)) (1.2.0)\n",
      "Requirement already satisfied: cycler>=0.10 in d:\\anaconda\\lib\\site-packages (from matplotlib==3.8.4->-r requirements.txt (line 3)) (0.11.0)\n",
      "Requirement already satisfied: fonttools>=4.22.0 in d:\\anaconda\\lib\\site-packages (from matplotlib==3.8.4->-r requirements.txt (line 3)) (4.51.0)\n",
      "Requirement already satisfied: kiwisolver>=1.3.1 in d:\\anaconda\\lib\\site-packages (from matplotlib==3.8.4->-r requirements.txt (line 3)) (1.4.4)\n",
      "Requirement already satisfied: numpy>=1.21 in d:\\anaconda\\lib\\site-packages (from matplotlib==3.8.4->-r requirements.txt (line 3)) (1.26.4)\n",
      "Requirement already satisfied: packaging>=20.0 in d:\\anaconda\\lib\\site-packages (from matplotlib==3.8.4->-r requirements.txt (line 3)) (23.2)\n",
      "Requirement already satisfied: pillow>=8 in d:\\anaconda\\lib\\site-packages (from matplotlib==3.8.4->-r requirements.txt (line 3)) (10.3.0)\n",
      "Requirement already satisfied: pyparsing>=2.3.1 in d:\\anaconda\\lib\\site-packages (from matplotlib==3.8.4->-r requirements.txt (line 3)) (3.0.9)\n",
      "Requirement already satisfied: python-dateutil>=2.7 in d:\\anaconda\\lib\\site-packages (from matplotlib==3.8.4->-r requirements.txt (line 3)) (2.9.0.post0)\n",
      "Requirement already satisfied: branca>=0.6.0 in d:\\anaconda\\lib\\site-packages (from folium==0.14.0->-r requirements.txt (line 6)) (0.6.0)\n",
      "Requirement already satisfied: jinja2>=2.9 in d:\\anaconda\\lib\\site-packages (from folium==0.14.0->-r requirements.txt (line 6)) (3.1.4)\n",
      "Requirement already satisfied: decorator in d:\\anaconda\\lib\\site-packages (from IPython==8.25.0->-r requirements.txt (line 7)) (5.1.1)\n",
      "Requirement already satisfied: jedi>=0.16 in d:\\anaconda\\lib\\site-packages (from IPython==8.25.0->-r requirements.txt (line 7)) (0.18.1)\n",
      "Requirement already satisfied: matplotlib-inline in d:\\anaconda\\lib\\site-packages (from IPython==8.25.0->-r requirements.txt (line 7)) (0.1.6)\n",
      "Requirement already satisfied: prompt-toolkit<3.1.0,>=3.0.41 in d:\\anaconda\\lib\\site-packages (from IPython==8.25.0->-r requirements.txt (line 7)) (3.0.43)\n",
      "Requirement already satisfied: pygments>=2.4.0 in d:\\anaconda\\lib\\site-packages (from IPython==8.25.0->-r requirements.txt (line 7)) (2.15.1)\n",
      "Requirement already satisfied: stack-data in d:\\anaconda\\lib\\site-packages (from IPython==8.25.0->-r requirements.txt (line 7)) (0.2.0)\n",
      "Requirement already satisfied: traitlets>=5.13.0 in d:\\anaconda\\lib\\site-packages (from IPython==8.25.0->-r requirements.txt (line 7)) (5.14.3)\n",
      "Requirement already satisfied: colorama in d:\\anaconda\\lib\\site-packages (from IPython==8.25.0->-r requirements.txt (line 7)) (0.4.6)\n",
      "Requirement already satisfied: parso<0.9.0,>=0.8.0 in d:\\anaconda\\lib\\site-packages (from jedi>=0.16->IPython==8.25.0->-r requirements.txt (line 7)) (0.8.3)\n",
      "Requirement already satisfied: MarkupSafe>=2.0 in d:\\anaconda\\lib\\site-packages (from jinja2>=2.9->folium==0.14.0->-r requirements.txt (line 6)) (2.1.3)\n",
      "Requirement already satisfied: wcwidth in d:\\anaconda\\lib\\site-packages (from prompt-toolkit<3.1.0,>=3.0.41->IPython==8.25.0->-r requirements.txt (line 7)) (0.2.5)\n",
      "Requirement already satisfied: six>=1.5 in d:\\anaconda\\lib\\site-packages (from python-dateutil>=2.7->matplotlib==3.8.4->-r requirements.txt (line 3)) (1.16.0)\n",
      "Requirement already satisfied: executing in d:\\anaconda\\lib\\site-packages (from stack-data->IPython==8.25.0->-r requirements.txt (line 7)) (0.8.3)\n",
      "Requirement already satisfied: asttokens in d:\\anaconda\\lib\\site-packages (from stack-data->IPython==8.25.0->-r requirements.txt (line 7)) (2.0.5)\n",
      "Requirement already satisfied: pure-eval in d:\\anaconda\\lib\\site-packages (from stack-data->IPython==8.25.0->-r requirements.txt (line 7)) (0.2.2)\n"
     ]
    }
   ],
   "source": [
    "%cd CanterburyCommuto\n",
    "!pip install -r requirements.txt"
   ]
  },
  {
   "cell_type": "markdown",
   "id": "c14ba06f-cca8-4237-b5b6-9b75616df80b",
   "metadata": {},
   "source": [
    "Add ! before python."
   ]
  },
  {
   "cell_type": "code",
   "execution_count": 6,
   "id": "4f6e4151-c340-45a8-bf3e-bcd995175bbe",
   "metadata": {},
   "outputs": [
    {
     "name": "stdout",
     "output_type": "stream",
     "text": [
      "CSV file saved as origin_destination_coordinates.csv\n"
     ]
    }
   ],
   "source": [
    "!python canterburycommuto/Sample.py"
   ]
  },
  {
   "cell_type": "markdown",
   "id": "534a8662-5527-452e-aea0-1d796da9b353",
   "metadata": {},
   "source": [
    "## Please replace \"API_KEY\" with your Google API Key in the following codes. "
   ]
  },
  {
   "cell_type": "markdown",
   "id": "1e26bef2-3f7c-430a-8e81-13f38f3b15bb",
   "metadata": {},
   "source": [
    "With approximation and commuting information before and after the overlap. The approximation threshold is 60% for the overlaps of rectangles contructed along the segments before and after the overlap. The rectangles' have the same width: 120 meters."
   ]
  },
  {
   "cell_type": "code",
   "execution_count": 27,
   "id": "6fb66cff-d103-4f27-8180-528141a2c7be",
   "metadata": {},
   "outputs": [
    {
     "name": "stdout",
     "output_type": "stream",
     "text": [
      "Routes A and B have identical origins and destinations: 5.373588,-3.998759 -> 5.327810,-4.005012\n",
      "Map saved to: C:\\Users\\HUAWEI\\CanterburyCommuto\\results\\routes_map-2025-01-29_02-24-21_77590.html\n",
      "Map saved as 'results\\routes_map-2025-01-29_02-24-21_77590.html'. Open it in a browser.\n",
      "Map saved to: C:\\Users\\HUAWEI\\CanterburyCommuto\\results\\routes_map-2025-01-29_02-24-21_66158.html\n",
      "Map saved as 'results\\routes_map-2025-01-29_02-24-21_66158.html'. Open it in a browser.\n",
      "Map saved to: C:\\Users\\HUAWEI\\CanterburyCommuto\\results\\routes_map-2025-01-29_02-24-22_79858.html\n",
      "Map saved as 'results\\routes_map-2025-01-29_02-24-22_79858.html'. Open it in a browser.\n",
      "Map saved to: C:\\Users\\HUAWEI\\CanterburyCommuto\\results\\routes_map-2025-01-29_02-24-22_22018.html\n",
      "Map saved as 'results\\routes_map-2025-01-29_02-24-22_22018.html'. Open it in a browser.\n",
      "Map saved to: C:\\Users\\HUAWEI\\CanterburyCommuto\\results\\routes_map-2025-01-29_02-24-23_28005.html\n",
      "Map saved as 'results\\routes_map-2025-01-29_02-24-23_28005.html'. Open it in a browser.\n",
      "Map saved to: C:\\Users\\HUAWEI\\CanterburyCommuto\\results\\routes_map-2025-01-29_02-24-23_48235.html\n",
      "Map saved as 'results\\routes_map-2025-01-29_02-24-23_48235.html'. Open it in a browser.\n",
      "Map saved to: C:\\Users\\HUAWEI\\CanterburyCommuto\\results\\routes_map-2025-01-29_02-24-24_68281.html\n",
      "Map saved as 'results\\routes_map-2025-01-29_02-24-24_68281.html'. Open it in a browser.\n",
      "Log file saved to: C:\\Users\\HUAWEI\\CanterburyCommuto\\results\\rec_output.log\n"
     ]
    }
   ],
   "source": [
    "!python -m canterburycommuto origin_destination_coordinates.csv \"API_KEY\" \\\n",
    "    --threshold 60 \\\n",
    "    --width 120 \\\n",
    "    --buffer 150 \\\n",
    "    --approximation \"yes\" \\\n",
    "    --commuting_info \"yes\" \\\n",
    "    --colorna \"home_A\" \\\n",
    "    --coldesta \"work_A\" \\\n",
    "    --colorib \"home_B\" \\\n",
    "    --colfestb \"work_B\" \\\n",
    "    --output_overlap \"rec_output.csv\" \\\n",
    "    --output_buffer \"buffer_output.csv\""
   ]
  },
  {
   "cell_type": "markdown",
   "id": "54f7aa01-07ca-49e0-9296-e23eeb506390",
   "metadata": {},
   "source": [
    "With approximation but without commuting information before and after the overlap. "
   ]
  },
  {
   "cell_type": "code",
   "execution_count": 31,
   "id": "f0bbaa5c-9e3c-496b-a20b-a581c86455b6",
   "metadata": {},
   "outputs": [
    {
     "name": "stdout",
     "output_type": "stream",
     "text": [
      "Routes A and B have identical origins and destinations: 5.373588,-3.998759 -> 5.327810,-4.005012\n",
      "Map saved to: C:\\Users\\HUAWEI\\CanterburyCommuto\\results\\routes_map-2025-01-29_02-24-36_50641.html\n",
      "Map saved as 'results\\routes_map-2025-01-29_02-24-36_50641.html'. Open it in a browser.\n",
      "Map saved to: C:\\Users\\HUAWEI\\CanterburyCommuto\\results\\routes_map-2025-01-29_02-24-36_84363.html\n",
      "Map saved as 'results\\routes_map-2025-01-29_02-24-36_84363.html'. Open it in a browser.\n",
      "Map saved to: C:\\Users\\HUAWEI\\CanterburyCommuto\\results\\routes_map-2025-01-29_02-24-36_61335.html\n",
      "Map saved as 'results\\routes_map-2025-01-29_02-24-36_61335.html'. Open it in a browser.\n",
      "Map saved to: C:\\Users\\HUAWEI\\CanterburyCommuto\\results\\routes_map-2025-01-29_02-24-37_80595.html\n",
      "Map saved as 'results\\routes_map-2025-01-29_02-24-37_80595.html'. Open it in a browser.\n",
      "Map saved to: C:\\Users\\HUAWEI\\CanterburyCommuto\\results\\routes_map-2025-01-29_02-24-37_90309.html\n",
      "Map saved as 'results\\routes_map-2025-01-29_02-24-37_90309.html'. Open it in a browser.\n",
      "Map saved to: C:\\Users\\HUAWEI\\CanterburyCommuto\\results\\routes_map-2025-01-29_02-24-37_86110.html\n",
      "Map saved as 'results\\routes_map-2025-01-29_02-24-37_86110.html'. Open it in a browser.\n",
      "Map saved to: C:\\Users\\HUAWEI\\CanterburyCommuto\\results\\routes_map-2025-01-29_02-24-38_55414.html\n",
      "Map saved as 'results\\routes_map-2025-01-29_02-24-38_55414.html'. Open it in a browser.\n",
      "Log file saved to: C:\\Users\\HUAWEI\\CanterburyCommuto\\results\\rec_only_output.log\n"
     ]
    }
   ],
   "source": [
    "!python -m canterburycommuto origin_destination_coordinates.csv \"API_KEY\" \\\n",
    "    --threshold 60 \\\n",
    "    --width 120 \\\n",
    "    --buffer 150 \\\n",
    "    --approximation \"yes\" \\\n",
    "    --commuting_info \"no\" \\\n",
    "    --colorna \"home_A\" \\\n",
    "    --coldesta \"work_A\" \\\n",
    "    --colorib \"home_B\" \\\n",
    "    --colfestb \"work_B\" \\\n",
    "    --output_overlap \"rec_only_output.csv\" \\\n",
    "    --output_buffer \"buffer_output.csv\""
   ]
  },
  {
   "cell_type": "markdown",
   "id": "430cb5c6-bc4b-4583-b683-19b56c00e986",
   "metadata": {},
   "source": [
    "Without approximation but with commuting information before and after the overlap"
   ]
  },
  {
   "cell_type": "code",
   "execution_count": 20,
   "id": "cf57fdf7-e1c8-4bf2-a997-4f169982deff",
   "metadata": {},
   "outputs": [
    {
     "name": "stdout",
     "output_type": "stream",
     "text": [
      "Routes A and B have identical origins and destinations: 5.373588,-3.998759 -> 5.327810,-4.005012\n",
      "Map saved to: C:\\Users\\HUAWEI\\CanterburyCommuto\\results\\routes_map-2025-01-29_02-18-04_50804.html\n",
      "Map saved as 'results\\routes_map-2025-01-29_02-18-04_50804.html'. Open it in a browser.\n",
      "Map saved to: C:\\Users\\HUAWEI\\CanterburyCommuto\\results\\routes_map-2025-01-29_02-18-04_39485.html\n",
      "Map saved as 'results\\routes_map-2025-01-29_02-18-04_39485.html'. Open it in a browser.\n",
      "Map saved to: C:\\Users\\HUAWEI\\CanterburyCommuto\\results\\routes_map-2025-01-29_02-18-05_31109.html\n",
      "Map saved as 'results\\routes_map-2025-01-29_02-18-05_31109.html'. Open it in a browser.\n",
      "Map saved to: C:\\Users\\HUAWEI\\CanterburyCommuto\\results\\routes_map-2025-01-29_02-18-05_44948.html\n",
      "Map saved as 'results\\routes_map-2025-01-29_02-18-05_44948.html'. Open it in a browser.\n",
      "Map saved to: C:\\Users\\HUAWEI\\CanterburyCommuto\\results\\routes_map-2025-01-29_02-18-06_54468.html\n",
      "Map saved as 'results\\routes_map-2025-01-29_02-18-06_54468.html'. Open it in a browser.\n",
      "Map saved to: C:\\Users\\HUAWEI\\CanterburyCommuto\\results\\routes_map-2025-01-29_02-18-06_73698.html\n",
      "Map saved as 'results\\routes_map-2025-01-29_02-18-06_73698.html'. Open it in a browser.\n",
      "Map saved to: C:\\Users\\HUAWEI\\CanterburyCommuto\\results\\routes_map-2025-01-29_02-18-07_73264.html\n",
      "Map saved as 'results\\routes_map-2025-01-29_02-18-07_73264.html'. Open it in a browser.\n",
      "Log file saved to: C:\\Users\\HUAWEI\\CanterburyCommuto\\results\\route_output.log\n"
     ]
    }
   ],
   "source": [
    "!python -m canterburycommuto origin_destination_coordinates.csv \"API_KEY\" \\\n",
    "    --threshold 60 \\\n",
    "    --width 120 \\\n",
    "    --buffer 150 \\\n",
    "    --approximation \"no\" \\\n",
    "    --commuting_info \"yes\" \\\n",
    "    --colorna \"home_A\" \\\n",
    "    --coldesta \"work_A\" \\\n",
    "    --colorib \"home_B\" \\\n",
    "    --colfestb \"work_B\" \\\n",
    "    --output_overlap \"route_output.csv\" \\\n",
    "    --output_buffer \"buffer_output.csv\""
   ]
  },
  {
   "cell_type": "markdown",
   "id": "cff1bdc9-95c6-45b9-9fdf-7f3656bc8958",
   "metadata": {},
   "source": [
    "Without approximation or commuting information before and after the overlap"
   ]
  },
  {
   "cell_type": "code",
   "execution_count": 22,
   "id": "05f43809-23af-4add-bb91-95b569882131",
   "metadata": {},
   "outputs": [
    {
     "name": "stdout",
     "output_type": "stream",
     "text": [
      "Routes A and B have identical origins and destinations: 5.373588,-3.998759 -> 5.327810,-4.005012\n",
      "Map saved to: C:\\Users\\HUAWEI\\CanterburyCommuto\\results\\routes_map-2025-01-29_02-19-44_86080.html\n",
      "Map saved as 'results\\routes_map-2025-01-29_02-19-44_86080.html'. Open it in a browser.\n",
      "Map saved to: C:\\Users\\HUAWEI\\CanterburyCommuto\\results\\routes_map-2025-01-29_02-19-44_33721.html\n",
      "Map saved as 'results\\routes_map-2025-01-29_02-19-44_33721.html'. Open it in a browser.\n",
      "Map saved to: C:\\Users\\HUAWEI\\CanterburyCommuto\\results\\routes_map-2025-01-29_02-19-44_84421.html\n",
      "Map saved as 'results\\routes_map-2025-01-29_02-19-44_84421.html'. Open it in a browser.\n",
      "Map saved to: C:\\Users\\HUAWEI\\CanterburyCommuto\\results\\routes_map-2025-01-29_02-19-44_23906.html\n",
      "Map saved as 'results\\routes_map-2025-01-29_02-19-44_23906.html'. Open it in a browser.\n",
      "Map saved to: C:\\Users\\HUAWEI\\CanterburyCommuto\\results\\routes_map-2025-01-29_02-19-44_51629.html\n",
      "Map saved as 'results\\routes_map-2025-01-29_02-19-44_51629.html'. Open it in a browser.\n",
      "Map saved to: C:\\Users\\HUAWEI\\CanterburyCommuto\\results\\routes_map-2025-01-29_02-19-44_35017.html\n",
      "Map saved as 'results\\routes_map-2025-01-29_02-19-44_35017.html'. Open it in a browser.\n",
      "Map saved to: C:\\Users\\HUAWEI\\CanterburyCommuto\\results\\routes_map-2025-01-29_02-19-45_42553.html\n",
      "Map saved as 'results\\routes_map-2025-01-29_02-19-45_42553.html'. Open it in a browser.\n",
      "Log file saved to: C:\\Users\\HUAWEI\\CanterburyCommuto\\results\\route_only_output.log\n"
     ]
    }
   ],
   "source": [
    "!python -m canterburycommuto origin_destination_coordinates.csv \"API_KEY\" \\\n",
    "    --threshold 60 \\\n",
    "    --width 120 \\\n",
    "    --buffer 150 \\\n",
    "    --approximation \"no\" \\\n",
    "    --commuting_info \"no\" \\\n",
    "    --colorna \"home_A\" \\\n",
    "    --coldesta \"work_A\" \\\n",
    "    --colorib \"home_B\" \\\n",
    "    --colfestb \"work_B\" \\\n",
    "    --output_overlap \"route_only_output.csv\" \\\n",
    "    --output_buffer \"buffer_output.csv\""
   ]
  },
  {
   "cell_type": "markdown",
   "id": "58a5227b-5b17-4116-a0e9-b1ef920e4af5",
   "metadata": {},
   "source": [
    "Buffer Method, as described in README.md; buffer length is 150 meters."
   ]
  },
  {
   "cell_type": "code",
   "execution_count": 24,
   "id": "a266f6f3-8159-4bcd-98fa-51cb7e292ec9",
   "metadata": {},
   "outputs": [
    {
     "name": "stdout",
     "output_type": "stream",
     "text": [
      "Map saved to: C:\\Users\\HUAWEI\\CanterburyCommuto\\results\\routes_with_buffers_map-2025-01-29_02-19-59_18694.html\n",
      "<IPython.lib.display.IFrame object at 0x000002244DFD9340>\n",
      "Map has been displayed inline and saved as 'results\\routes_with_buffers_map-2025-01-29_02-19-59_18694.html'.\n",
      "Map saved to: C:\\Users\\HUAWEI\\CanterburyCommuto\\results\\routes_with_buffers_map-2025-01-29_02-19-59_57180.html\n",
      "<IPython.lib.display.IFrame object at 0x000002244DFDB380>\n",
      "Map has been displayed inline and saved as 'results\\routes_with_buffers_map-2025-01-29_02-19-59_57180.html'.\n",
      "Map saved to: C:\\Users\\HUAWEI\\CanterburyCommuto\\results\\routes_with_buffers_map-2025-01-29_02-20-00_11939.html\n",
      "<IPython.lib.display.IFrame object at 0x000002244E0216A0>\n",
      "Map has been displayed inline and saved as 'results\\routes_with_buffers_map-2025-01-29_02-20-00_11939.html'.\n",
      "Map saved to: C:\\Users\\HUAWEI\\CanterburyCommuto\\results\\routes_with_buffers_map-2025-01-29_02-20-00_12423.html\n",
      "<IPython.lib.display.IFrame object at 0x000002244E0239E0>\n",
      "Map has been displayed inline and saved as 'results\\routes_with_buffers_map-2025-01-29_02-20-00_12423.html'.\n",
      "Map saved to: C:\\Users\\HUAWEI\\CanterburyCommuto\\results\\routes_with_buffers_map-2025-01-29_02-20-00_62703.html\n",
      "<IPython.lib.display.IFrame object at 0x000002244E085D00>\n",
      "Map has been displayed inline and saved as 'results\\routes_with_buffers_map-2025-01-29_02-20-00_62703.html'.\n",
      "Map saved to: C:\\Users\\HUAWEI\\CanterburyCommuto\\results\\routes_with_buffers_map-2025-01-29_02-20-00_66340.html\n",
      "<IPython.lib.display.IFrame object at 0x000002244E0239B0>\n",
      "Map has been displayed inline and saved as 'results\\routes_with_buffers_map-2025-01-29_02-20-00_66340.html'.\n",
      "Map saved to: C:\\Users\\HUAWEI\\CanterburyCommuto\\results\\routes_with_buffers_map-2025-01-29_02-20-01_33881.html\n",
      "<IPython.lib.display.IFrame object at 0x000002244E0215E0>\n",
      "Map has been displayed inline and saved as 'results\\routes_with_buffers_map-2025-01-29_02-20-01_33881.html'.\n",
      "Log file saved to: C:\\Users\\HUAWEI\\CanterburyCommuto\\results\\overlap_output.log\n"
     ]
    }
   ],
   "source": [
    "!python -m canterburycommuto origin_destination_coordinates.csv \"API_KEY\" \\\n",
    "    --threshold 60 \\\n",
    "    --width 120 \\\n",
    "    --buffer 150 \\\n",
    "    --approximation \"yes with buffer\" \\\n",
    "    --commuting_info \"yes\" \\\n",
    "    --colorna \"home_A\" \\\n",
    "    --coldesta \"work_A\" \\\n",
    "    --colorib \"home_B\" \\\n",
    "    --colfestb \"work_B\" \\\n",
    "    --output_overlap \"overlap_output.csv\" \\\n",
    "    --output_buffer \"buffer_output.csv\""
   ]
  },
  {
   "cell_type": "code",
   "execution_count": null,
   "id": "392c35a7-f091-4e4c-a7fc-383fe1e374a0",
   "metadata": {},
   "outputs": [],
   "source": []
  }
 ],
 "metadata": {
  "kernelspec": {
   "display_name": "Python 3 (ipykernel)",
   "language": "python",
   "name": "python3"
  },
  "language_info": {
   "codemirror_mode": {
    "name": "ipython",
    "version": 3
   },
   "file_extension": ".py",
   "mimetype": "text/x-python",
   "name": "python",
   "nbconvert_exporter": "python",
   "pygments_lexer": "ipython3",
   "version": "3.12.4"
  }
 },
 "nbformat": 4,
 "nbformat_minor": 5
}
