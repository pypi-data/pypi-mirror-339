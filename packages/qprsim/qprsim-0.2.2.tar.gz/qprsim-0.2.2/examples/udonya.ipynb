{
 "cells": [
  {
   "cell_type": "code",
   "execution_count": null,
   "metadata": {
    "collapsed": true,
    "is_executing": true
   },
   "outputs": [],
   "source": [
    "\n",
    "from datetime import datetime, timedelta, time\n",
    "from functools import partial\n",
    "\n",
    "import numpy as np\n",
    "from dateutil import tz\n",
    "from dateutil.relativedelta import relativedelta\n",
    "\n",
    "import qprsim.config.modeling as mm\n",
    "import qprsim.core.case as sc\n",
    "import qprsim.shared.enums as enm\n",
    "from qprsim.config import *\n",
    "from qprsim.core import event_system as ev_sys\n",
    "from qprsim.execution import SimulationContext, simulate, create_simulation_model, ExecutionParameters, ButWhatIf\n",
    "from qprsim.model import graph_models as gm, visualize_sim_graph, sim_graph as sgraph\n",
    "from qprsim.model.sim_graph import TransformationNode, SynchronizationNode, DelayNode\n",
    "from qprsim.utils import utils, time_utils, viz, exporting\n",
    "\n",
    "# @formatter:off\n",
    "%matplotlib inline\n",
    "%config InlineBackend.figure_format = 'retina'\n",
    "%load_ext autoreload\n",
    "%autoreload 2\n",
    "# @formatter:on"
   ]
  },
  {
   "cell_type": "code",
   "execution_count": 2,
   "outputs": [],
   "source": [
    "log_name = 'washoku'\n",
    "utils.ensure_path_exists(f'logs/{log_name}/')\n",
    "utils.ensure_path_exists(f'models/{log_name}')\n",
    "utils.ensure_path_exists('logging/')\n",
    "timezone = tz.tzutc()  # tz.gettz('Asia/Tokyo')"
   ],
   "metadata": {
    "collapsed": false,
    "ExecuteTime": {
     "start_time": "2023-04-13T09:11:51.469146Z",
     "end_time": "2023-04-13T09:11:51.531350Z"
    }
   }
  },
  {
   "cell_type": "code",
   "execution_count": 3,
   "outputs": [],
   "source": [
    "builder = mm.ModelBuilder(use_defaults=False, skip_asserts=False)"
   ],
   "metadata": {
    "collapsed": false,
    "ExecuteTime": {
     "start_time": "2023-04-13T09:11:51.534508Z",
     "end_time": "2023-04-13T09:11:51.595934Z"
    }
   }
  },
  {
   "cell_type": "code",
   "execution_count": 4,
   "outputs": [],
   "source": [
    "prep_arrival = builder.add_arrival('prep')\n",
    "customers_peak_arrival = builder.add_arrival('customers peak')\n",
    "customers_arrival = builder.add_arrival('customers')\n",
    "\n",
    "opening_arrival = builder.add_arrival('opening')\n",
    "closing_arrival = builder.add_arrival('closing')\n",
    "\n",
    "#builder.add_arrival('store')\n",
    "\n",
    "terminal = builder.add_terminal('customers terminal')\n",
    "builder.add_terminal('store terminal')\n",
    "builder.add_terminal('prep terminal')\n",
    "\n",
    "# resources\n",
    "tenchou = builder.add_resource('Tenchou-san')\n",
    "deshi_A = builder.add_resource('Deshi-san A')\n",
    "deshi_B = builder.add_resource('Deshi-san B')\n",
    "okusan = builder.add_resource('Oku-san')\n",
    "baito_A = builder.add_resource('Baito-san A')\n",
    "baito_B = builder.add_resource('Baito-san B')\n",
    "customer = builder.add_resource('Customer-san')\n",
    "tables = builder.add_resource('Restaurant Tables')\n",
    "kitchen = builder.add_resource('Kitchen')\n",
    "boh = [tenchou, deshi_A, deshi_B]\n",
    "extended_boh = [tenchou, deshi_A, deshi_B, okusan]\n",
    "\n",
    "foh = [okusan, baito_A, baito_B]\n",
    "staff = [tenchou, deshi_A, deshi_B, okusan, baito_A, baito_B]\n",
    "\n",
    "# entry & exit points\n",
    "\n",
    "store_entrypoint = builder.add_tau('store entry', connect_to_arrival=[opening_arrival, closing_arrival])\n",
    "prep_entrypoint = builder.add_tau('prep entry', connect_to_arrival=prep_arrival)\n",
    "customers_entrypoint = builder.add_tau('customers entry',\n",
    "                                       connect_to_arrival=[customers_arrival, customers_peak_arrival])\n",
    "make_dish_entrypoint = builder.add_tau('make dish entry')\n",
    "\n",
    "store_exitpoint = builder.add_tau('store exit', connect_to_terminal='store terminal')\n",
    "prep_exitpoint = builder.add_tau('prep exit', connect_to_terminal='prep terminal')\n",
    "customers_exitpoint = builder.add_tau('customers exit', connect_to_terminal='customers terminal')\n",
    "make_dish_exitpoint = builder.add_tau('make dish exit')\n",
    "\n",
    "# activities\n",
    "\n",
    "## customers\n",
    "\n",
    "customers_enter = builder.add_activity('Customer Group Enters', assignable_resources=[tables],\n",
    "                                       resource_propensities={tables: 1})\n",
    "customers_seated = builder.add_activity('Customer Group Occupies Table', assignable_resources=[tables],\n",
    "                                        resource_propensities={tables: 10})\n",
    "rec_order = builder.add_activity('Receive Order', assignable_resources=foh)\n",
    "serve_order = builder.add_activity('Serve Table Order', assignable_resources=foh)\n",
    "customer_eats = builder.add_activity('Customer Eats', assignable_resources=[customer])\n",
    "customers_pay = builder.add_activity('Customer Group Pays', assignable_resources=[customer])\n",
    "customers_exit = builder.add_activity('Customer Group Exits', assignable_resources=[customer])\n",
    "\n",
    "## make dish\n",
    "\n",
    "start_bowl = builder.add_activity('Get Bowl', assignable_resources=boh)\n",
    "udon_to_pot = builder.add_activity('Add Udon to Pot', assignable_resources=boh)\n",
    "udon_cooking = builder.add_aux_node('Udon is Cooking', DelayNode())\n",
    "strain_udon = builder.add_activity('Strain and Wash Udon', assignable_resources=boh)\n",
    "#reheat_udon = builder.add_activity('Reheat Udon', assignable_resources=[tenchou])\n",
    "batter_tempura = builder.add_activity('Batter Tempura', assignable_resources=boh)\n",
    "toss_tempura = builder.add_activity('Toss Tempura into Fryer', assignable_resources=boh)\n",
    "tempura_frying = builder.add_aux_node('Tempura is Frying', DelayNode())\n",
    "take_out_tempura = builder.add_activity('Take out Tempura', assignable_resources=boh)\n",
    "\n",
    "dish_concurrency = builder.add_concurrency('assemble dish', number_of_splits=3)\n",
    "dish_routing_base = builder.add_decision('dish routing base')\n",
    "dish_routing_liquid = builder.add_decision('dish routing liquid')\n",
    "dish_routing_topping = builder.add_decision('dish routing topping')\n",
    "\n",
    "add_rice = builder.add_activity('Add Rice to Bowl', assignable_resources=extended_boh)\n",
    "add_udon = builder.add_activity('Add Udon to Bowl', assignable_resources=boh)\n",
    "add_dashi = builder.add_activity('Add Dashi to Bowl', assignable_resources=boh)\n",
    "add_curry = builder.add_activity('Add Curry to Bowl', assignable_resources=boh)\n",
    "add_tempura = builder.add_activity('Add Tempura to Bowl', assignable_resources=extended_boh)\n",
    "add_scallions = builder.add_activity('Garnish Bowl with Scallions', assignable_resources=extended_boh)\n",
    "#add_nori = builder.add_activity('Garnish Bowl with Nori', assignable_resources=boh)\n",
    "\n",
    "## prep\n",
    "\n",
    "misc_prep_prop = {tenchou: 0.5, deshi_A: 2, deshi_B: 2, okusan: 1}\n",
    "prep_concurrency = builder.add_concurrency('prep concurrency', number_of_splits=5)\n",
    "combine_dough = builder.add_activity('Combine Udon Dough', assignable_resources=boh)\n",
    "mix_dough = builder.add_activity('Mix Udon Dough', assignable_resources=boh)\n",
    "rest_dough = builder.add_activity('Rest Udon Dough', assignable_resources=[kitchen])\n",
    "roll_dough = builder.add_activity('Roll Udon Dough', assignable_resources=boh)\n",
    "cut_dough = builder.add_activity('Cut Udon Dough', assignable_resources=boh)\n",
    "\n",
    "prep_curry = builder.add_activity('Prep Curry', assignable_resources=extended_boh,\n",
    "                                  resource_propensities=misc_prep_prop)\n",
    "prep_rice = builder.add_activity('Prep Rice', assignable_resources=extended_boh, resource_propensities=misc_prep_prop)\n",
    "prep_tempura_ingredients = builder.add_activity('Prep Tempura Ingredients', assignable_resources=extended_boh,\n",
    "                                                resource_propensities=misc_prep_prop)\n",
    "\n",
    "combine_dashi_ingredients = builder.add_activity('Combine Dashi Ingredients', assignable_resources=boh)\n",
    "boil_dashi = builder.add_activity('Boil Dashi', assignable_resources=[kitchen])\n",
    "strain_dashi = builder.add_activity('Strain Dashi', assignable_resources=boh)\n",
    "\n",
    "## store\n",
    "\n",
    "store_routing = builder.add_decision('store routing')\n",
    "store_args = {'assignable_resources': staff,\n",
    "              'resource_propensities': {tenchou: 0.5, deshi_A: 1, deshi_B: 1, okusan: 5, baito_A: 5, baito_B: 5}}\n",
    "open_store = builder.add_activity('Open Store', **store_args)\n",
    "setup_store = builder.add_activity('Setup Store', **store_args)\n",
    "open_store_business = builder.add_activity('Open for Business', **store_args)\n",
    "close_store_business = builder.add_activity('Close for Business', **store_args)\n",
    "cleanup_store = builder.add_activity('Cleanup Store', **store_args)\n",
    "close_store = builder.add_activity('Close Store', **store_args)"
   ],
   "metadata": {
    "collapsed": false,
    "ExecuteTime": {
     "start_time": "2023-04-13T09:11:51.595934Z",
     "end_time": "2023-04-13T09:11:51.674586Z"
    }
   }
  },
  {
   "cell_type": "markdown",
   "source": [
    "### Make dish subprocess"
   ],
   "metadata": {
    "collapsed": false
   }
  },
  {
   "cell_type": "code",
   "execution_count": 5,
   "outputs": [],
   "source": [
    "make_dish_delay = builder.add_aux_node('make dish callout', DelayNode())\n",
    "\n",
    "builder.connect(make_dish_entrypoint, make_dish_delay)\n",
    "builder.connect(make_dish_delay, start_bowl)\n",
    "builder.connect(start_bowl, mm.split_of(dish_concurrency))\n",
    "\n",
    "\n",
    "def split_off_tempura(case: sc.Case):\n",
    "    res = [(case, {'successor_id': 0})]\n",
    "    if 'tempura' in case.get_case_attr_value('dish'):\n",
    "        res.append((case, {'successor_id': 1}))\n",
    "    return res\n",
    "\n",
    "\n",
    "fry_if_necessary = builder.add_aux_node('fry if necessary', TransformationNode())\n",
    "builder.set_aux_config(fry_if_necessary, arbitraryMHC(gm.CaseTransformerModel, transformer=split_off_tempura))\n",
    "\n",
    "builder.connect_as_concurrency(dish_concurrency, [dish_routing_base, dish_routing_liquid, fry_if_necessary])\n",
    "\n",
    "builder.connect(fry_if_necessary, batter_tempura)\n",
    "builder.connect(batter_tempura, toss_tempura)\n",
    "builder.connect(toss_tempura, tempura_frying)\n",
    "builder.connect(tempura_frying, take_out_tempura)\n",
    "tempura_sync = builder.add_aux_node('tempura synchronizer', SynchronizationNode())\n",
    "builder.set_aux_config(tempura_sync, arbitraryMHC(gm.SimpleCountSyncModel, expected_count=2))\n",
    "builder.connect(take_out_tempura, tempura_sync)\n",
    "builder.connect(tempura_sync, add_tempura)\n",
    "\n",
    "builder.connect(udon_to_pot, udon_cooking)\n",
    "builder.connect(udon_cooking, strain_udon)\n",
    "builder.connect(strain_udon, add_udon)\n",
    "\n",
    "builder.connect_as_decision(dish_routing_base, [(udon_to_pot, add_udon), add_rice])\n",
    "builder.connect_as_decision(dish_routing_liquid, [add_dashi, add_curry])\n",
    "builder.connect_as_decision(dish_routing_topping, [(tempura_sync, add_tempura)], add_skip_at_idx=0)\n",
    "\n",
    "builder.connect(mm.join_of(dish_concurrency), mm.split_of(dish_routing_topping))\n",
    "builder.connect(mm.join_of(dish_routing_topping), add_scallions)\n",
    "builder.connect(add_scallions, make_dish_exitpoint)"
   ],
   "metadata": {
    "collapsed": false,
    "ExecuteTime": {
     "start_time": "2023-04-13T09:11:51.677290Z",
     "end_time": "2023-04-13T09:11:51.750936Z"
    }
   }
  },
  {
   "cell_type": "code",
   "execution_count": 6,
   "outputs": [],
   "source": [
    "builder.set_config(dish_routing_base,\n",
    "                   DecisionConfig(\n",
    "                       config.AttributeBasedClassifier('dish', lambda dish: 0 if 'udon' in dish else 1,\n",
    "                                                       config.AttributeLevel.Case)))\n",
    "builder.set_config(dish_routing_liquid,\n",
    "                   DecisionConfig(\n",
    "                       config.AttributeBasedClassifier('dish',\n",
    "                                                       lambda dish: 0 if 'udon' in dish and 'karee' not in dish else 1,\n",
    "                                                       config.AttributeLevel.Case)))\n",
    "builder.set_config(dish_routing_topping,\n",
    "                   DecisionConfig(\n",
    "                       config.AttributeBasedClassifier('dish', lambda dish: 1 if 'tempura' in dish else 0,\n",
    "                                                       config.AttributeLevel.Case)))"
   ],
   "metadata": {
    "collapsed": false,
    "ExecuteTime": {
     "start_time": "2023-04-13T09:11:51.750936Z",
     "end_time": "2023-04-13T09:11:51.817768Z"
    }
   }
  },
  {
   "cell_type": "markdown",
   "source": [
    "### Customers Process"
   ],
   "metadata": {
    "collapsed": false
   }
  },
  {
   "cell_type": "code",
   "execution_count": 7,
   "outputs": [],
   "source": [
    "builder.connect(customers_entrypoint, customers_enter)\n",
    "\n",
    "#kitchen_open_decision = builder.add_decision('kitchen still open')\n",
    "#builder.connect(customers_enter, kitchen_open_decision)\n",
    "\n",
    "customer_concurrency = builder.add_concurrency('customer concurrency')\n",
    "\n",
    "customers_seated_syncer = builder.add_aux_node('customers syncer', SynchronizationNode())\n",
    "\n",
    "customers_finished_signaler = builder.add_aux_node('customers signaler', SynchronizationNode())\n",
    "\n",
    "builder.connect(customers_enter, customer_concurrency)\n",
    "\n",
    "order_loop = builder.add_decision('order loop')\n",
    "builder.connect_as_concurrency(customer_concurrency,\n",
    "                               [customers_seated, (customers_seated_syncer, customers_finished_signaler)])\n",
    "\n",
    "builder.connect(customers_seated_syncer, mm.join_of(order_loop))\n",
    "make_dishes_split = builder.add_aux_node('make dishes split', TransformationNode())\n",
    "builder.connect_as_loop(order_loop, do=rec_order, escape=make_dishes_split)\n",
    "\n",
    "order_sync = builder.add_aux_node('order sync', SynchronizationNode())\n",
    "builder.connect(make_dishes_split, [order_sync, make_dish_entrypoint])\n",
    "builder.connect(make_dish_exitpoint, order_sync)\n",
    "\n",
    "builder.connect(order_sync, serve_order)\n",
    "eat_dishes_split = builder.add_aux_node('eat dishes split', TransformationNode())\n",
    "eating_sync = builder.add_aux_node('eating sync', SynchronizationNode())\n",
    "builder.connect(serve_order, eat_dishes_split)\n",
    "builder.connect(eat_dishes_split, [eating_sync, customer_eats])\n",
    "builder.connect(customer_eats, eating_sync)\n",
    "builder.connect(eating_sync, customers_pay)\n",
    "builder.connect(customers_pay, customers_finished_signaler)\n",
    "\n",
    "builder.connect(customer_concurrency, customers_exit)\n",
    "builder.connect(customers_exit, customers_exitpoint)"
   ],
   "metadata": {
    "collapsed": false,
    "ExecuteTime": {
     "start_time": "2023-04-13T09:11:51.817768Z",
     "end_time": "2023-04-13T09:11:51.887181Z"
    }
   }
  },
  {
   "cell_type": "code",
   "execution_count": 8,
   "outputs": [],
   "source": [
    "builder.set_config(order_loop, DecisionConfig(\n",
    "    config.LambdaClassifier.binary(\n",
    "        lambda case: case.get_latest_event_attr_value('order_no') >= case.get_case_attr_value('customer_count'))))"
   ],
   "metadata": {
    "collapsed": false,
    "ExecuteTime": {
     "start_time": "2023-04-13T09:11:51.889810Z",
     "end_time": "2023-04-13T09:11:51.957682Z"
    }
   }
  },
  {
   "cell_type": "markdown",
   "source": [
    "### Prep Process"
   ],
   "metadata": {
    "collapsed": false
   }
  },
  {
   "cell_type": "code",
   "execution_count": 9,
   "outputs": [],
   "source": [
    "builder.connect(prep_entrypoint, prep_concurrency)\n",
    "\n",
    "builder.connect_as_concurrency(prep_concurrency,\n",
    "                               [(combine_dashi_ingredients, strain_dashi), (combine_dough, cut_dough), prep_rice,\n",
    "                                prep_curry, prep_tempura_ingredients])\n",
    "builder.connect(combine_dashi_ingredients, boil_dashi)\n",
    "builder.connect(boil_dashi, strain_dashi)\n",
    "builder.connect(combine_dough, mix_dough)\n",
    "builder.connect(mix_dough, rest_dough)\n",
    "builder.connect(rest_dough, roll_dough)\n",
    "builder.connect(roll_dough, cut_dough)\n",
    "\n",
    "builder.connect(prep_concurrency, prep_exitpoint)"
   ],
   "metadata": {
    "collapsed": false,
    "ExecuteTime": {
     "start_time": "2023-04-13T09:11:51.957682Z",
     "end_time": "2023-04-13T09:11:52.028386Z"
    }
   }
  },
  {
   "cell_type": "markdown",
   "source": [
    "### Store Process"
   ],
   "metadata": {
    "collapsed": false
   }
  },
  {
   "cell_type": "code",
   "execution_count": 10,
   "outputs": [],
   "source": [
    "builder.connect(store_entrypoint, store_routing)\n",
    "builder.connect_as_decision(store_routing,\n",
    "                            [(open_store, open_store_business), (close_store_business, cleanup_store, close_store)])\n",
    "builder.connect(open_store, setup_store)\n",
    "builder.connect(setup_store, open_store_business)\n",
    "builder.connect(close_store_business, cleanup_store)\n",
    "builder.connect(cleanup_store, close_store)\n",
    "builder.connect([open_store_business, close_store], store_exitpoint)"
   ],
   "metadata": {
    "collapsed": false,
    "ExecuteTime": {
     "start_time": "2023-04-13T09:11:52.028386Z",
     "end_time": "2023-04-13T09:11:52.093293Z"
    }
   }
  },
  {
   "cell_type": "code",
   "execution_count": 11,
   "outputs": [],
   "source": [
    "builder.set_config(store_routing, DecisionConfig(\n",
    "    config.AttributeBasedClassifier.fixed_values('description', ['open', 'close'], sc.AttributeLevel.Case)))"
   ],
   "metadata": {
    "collapsed": false,
    "ExecuteTime": {
     "start_time": "2023-04-13T09:11:52.093293Z",
     "end_time": "2023-04-13T09:11:52.159778Z"
    }
   }
  },
  {
   "cell_type": "markdown",
   "source": [
    "### Subprocess Synchronization"
   ],
   "metadata": {
    "collapsed": false
   }
  },
  {
   "cell_type": "code",
   "execution_count": 12,
   "outputs": [],
   "source": [
    "def get_global_id(case, no):\n",
    "    cgid = case.get_case_attr_value('customer_group_id')\n",
    "    goid = f'{cgid}_{no}'\n",
    "    return goid"
   ],
   "metadata": {
    "collapsed": false,
    "ExecuteTime": {
     "start_time": "2023-04-13T09:11:52.159778Z",
     "end_time": "2023-04-13T09:11:52.236793Z"
    }
   }
  },
  {
   "cell_type": "code",
   "execution_count": 13,
   "outputs": [],
   "source": [
    "def split_off_dishes(case: sc.Case):\n",
    "    res = [(case, {'successor_id': 0})]\n",
    "    for ce in case.filter(lambda ce: 'dish' in ce.attributes):\n",
    "        dish = ce.attributes['dish']\n",
    "        no = ce.attributes['order_no']\n",
    "        child = sc.create_child(case, sub_id=str(no), dish=dish, order_no=no, global_order_id=get_global_id(case, no))\n",
    "        res.append((child, {'successor_id': 1}))\n",
    "    return res"
   ],
   "metadata": {
    "collapsed": false,
    "ExecuteTime": {
     "start_time": "2023-04-13T09:11:52.241511Z",
     "end_time": "2023-04-13T09:11:52.305903Z"
    }
   }
  },
  {
   "cell_type": "code",
   "execution_count": 14,
   "outputs": [],
   "source": [
    "builder.set_aux_config(make_dishes_split, arbitraryMHC(gm.CaseTransformerModel, transformer=split_off_dishes))\n",
    "builder.set_aux_config(eat_dishes_split, arbitraryMHC(gm.CaseTransformerModel, transformer=split_off_dishes))"
   ],
   "metadata": {
    "collapsed": false,
    "ExecuteTime": {
     "start_time": "2023-04-13T09:11:52.305903Z",
     "end_time": "2023-04-13T09:11:52.378037Z"
    }
   }
  },
  {
   "cell_type": "code",
   "execution_count": 15,
   "outputs": [],
   "source": [
    "sync_config = arbitraryMHC(gm.AwaitChildrenSync,\n",
    "                           calc_expectation=lambda case: case.get_case_attr_value('customer_count'))\n",
    "builder.set_aux_config(order_sync, sync_config)\n",
    "builder.set_aux_config(eating_sync, sync_config)"
   ],
   "metadata": {
    "collapsed": false,
    "ExecuteTime": {
     "start_time": "2023-04-13T09:11:52.378037Z",
     "end_time": "2023-04-13T09:11:52.450027Z"
    }
   }
  },
  {
   "cell_type": "markdown",
   "source": [
    "### Config"
   ],
   "metadata": {
    "collapsed": false
   }
  },
  {
   "cell_type": "code",
   "execution_count": 16,
   "outputs": [],
   "source": [
    "business_days = {enm.Weekdays.Tuesday, enm.Weekdays.Wednesday, enm.Weekdays.Thursday, enm.Weekdays.Friday,\n",
    "                 enm.Weekdays.Saturday, enm.Weekdays.Sunday}\n",
    "\n",
    "customers_arrival_bh = config.ExtendedBusinessHours.fixed_times([(time(11, 20), time(14)), (time(17, 40), time(20))],\n",
    "                                                                business_days)\n",
    "customers_peak_arrival_bh = config.ExtendedBusinessHours.fixed_times(\n",
    "    [(time(13), time(13, 15)), (time(18, 30), time(19))],\n",
    "    business_days & time_utils.Workweek)\n",
    "business_hours = config.ExtendedBusinessHours.fixed_times([(time(11, 30), time(14, 30)), (time(18), time(21))],\n",
    "                                                          business_days)\n",
    "kitchen_hours = config.ExtendedBusinessHours.fixed_times([(time(11, 30), time(14, 15)), (time(18), time(20, 45))],\n",
    "                                                         business_days)\n",
    "\n",
    "tenchou_hours = config.WorkweekBusinessHours.fixed_time((time(6), time(23, 59)), business_days)\n",
    "deshi_hours = config.WorkweekBusinessHours.fixed_time((time(9), time(21)), business_days)\n",
    "baito_hours = config.ExtendedBusinessHours.fixed_times([(time(10, 30), time(15)), (time(17), time(21))], business_days)"
   ],
   "metadata": {
    "collapsed": false,
    "ExecuteTime": {
     "start_time": "2023-04-13T09:11:52.450027Z",
     "end_time": "2023-04-13T09:11:52.517272Z"
    }
   }
  },
  {
   "cell_type": "markdown",
   "source": [
    "### Activity Config"
   ],
   "metadata": {
    "collapsed": false
   }
  },
  {
   "cell_type": "code",
   "execution_count": 17,
   "outputs": [],
   "source": [
    "dishes_freqs = [0.3, 0.45, 0.1, 0.15]\n",
    "dishes = ['karee udon', 'tempura udon', 'tempura rice', 'karee rice']\n",
    "prices = {'karee udon': 770, 'tempura udon': 1000, 'tempura rice': 850, 'karee rice': 500}"
   ],
   "metadata": {
    "collapsed": false,
    "ExecuteTime": {
     "start_time": "2023-04-13T09:11:52.517272Z",
     "end_time": "2023-04-13T09:11:52.598788Z"
    }
   }
  },
  {
   "cell_type": "code",
   "execution_count": 18,
   "outputs": [],
   "source": [
    "class ExObj:\n",
    "\n",
    "    def __init__(self) -> None:\n",
    "        super().__init__()\n",
    "        self.pos_handler = None\n",
    "        self.neg_handler = None\n",
    "        self.callbacks = {}\n",
    "\n",
    "    def register_callback(self, callback, case: sc.Case, resource):\n",
    "        self.callbacks[case.case_id] = callback\n",
    "        self.pos_handler(case)\n",
    "\n",
    "    def register_discarded(self, case: sc.Case):\n",
    "        self.neg_handler(case)\n",
    "        print(f'case {case} was sadly discarded unfairly')\n",
    "\n",
    "\n",
    "ex = ExObj()\n",
    "\n",
    "\n",
    "class Syncer(gm.SyncModel):\n",
    "\n",
    "    def __init__(self, exobj: ExObj, event_queue: ev_sys.EventQueue, simulation_context: SimulationContext,\n",
    "                 **kwargs) -> None:\n",
    "        super().__init__(**kwargs)\n",
    "        self.event_queue: ev_sys.EventQueue = event_queue\n",
    "        self.sc: SimulationContext = simulation_context\n",
    "        self.exobj = exobj\n",
    "        self.exobj.pos_handler = self.pos\n",
    "        self.exobj.neg_handler = self.neg\n",
    "        self.blacklist = set()\n",
    "        self.whitelist = set()\n",
    "\n",
    "    def pos(self, case):\n",
    "        c = self.waiting_on_sync.pop(case.case_id, None)\n",
    "        if c is not None:\n",
    "            self.forward(case)\n",
    "            #self.event_queue.offer_immediate(ev_sys.Callback(self.forward, case))\n",
    "        else:\n",
    "            self.whitelist.add(case.case_id)\n",
    "\n",
    "    def neg(self, case):\n",
    "        c = self.waiting_on_sync.pop(case.case_id, None)\n",
    "        if c is None:\n",
    "            self.blacklist.add(case.case_id)\n",
    "            self.sc.register_case_abortion(case)\n",
    "\n",
    "    def _check_sync_possibility(self, newcomer: sc.Case) -> gm.SyncResult:\n",
    "        if newcomer.case_id in self.blacklist:\n",
    "            self.blacklist.remove(newcomer.case_id)\n",
    "            return gm.SyncResult.skip()\n",
    "        elif newcomer.case_id in self.whitelist:\n",
    "            self.whitelist.remove(newcomer.case_id)\n",
    "            return gm.SyncResult.wave_through(newcomer)\n",
    "        else:\n",
    "            return gm.SyncResult.enqueue(newcomer)\n",
    "\n",
    "\n",
    "class Signaler(gm.SyncModel):\n",
    "\n",
    "    def __init__(self, exobj: ExObj, node: sgraph.WithModel = None, **kwargs) -> None:\n",
    "        super().__init__(node, **kwargs)\n",
    "        self.exobj = exobj\n",
    "\n",
    "    def _check_sync_possibility(self, newcomer: sc.Case) -> gm.SyncResult:\n",
    "        cb = self.exobj.callbacks.pop(newcomer.case_id)\n",
    "        cb.activate()\n",
    "        return gm.SyncResult.wave_through(newcomer)\n",
    "\n",
    "\n",
    "builder.set_config(customers_enter,\n",
    "                   ActivityConfig(config.Fifo, config.ExpSampler(1), business_hours=business_hours, property_dict={\n",
    "                       enm.ActivityProperty.MaxQueueLength: 5}))\n",
    "builder.set_aux_config(customers_seated_syncer, arbitraryMHC(Syncer, requires_unsafe_access=True, exobj=ex))\n",
    "builder.set_aux_config(customers_finished_signaler, arbitraryMHC(Signaler, exobj=ex))\n",
    "builder.set_config(customers_seated, ActivityConfig(config.Fifo, config.StaticSampler(timedelta(minutes=30)),\n",
    "                                                    business_hours=kitchen_hours,\n",
    "                                                    property_dict={enm.ActivityProperty.MaxQueueLength: 5,\n",
    "                                                                   enm.ActivityProperty.DiscardIfNotInBusiness: True,\n",
    "                                                                   enm.ActivityProperty.ExternalDiscardingHandler: ex.register_discarded,\n",
    "                                                                   enm.ActivityProperty.ExternalProcessingHandler: ex.register_callback}))\n",
    "\n",
    "\n",
    "def inc_orders(case: sc.Case, *args, **kwargs):\n",
    "    return {'order_no': (case.get_latest_event_attr_value('order_no') or 0) + 1,\n",
    "            'global_order_id': get_global_id(case, (case.get_latest_event_attr_value(\"order_no\") or 0) + 1)}\n",
    "\n",
    "\n",
    "dish_attr_gen = config.ActivityAttributeGenerator(\n",
    "    complete=config.AttributeGeneratorUnion(config.LambdaAttributeGenerator(inc_orders),\n",
    "                                            config.StochasticAttributeGenerator.from_lists(dishes_freqs, [\n",
    "                                                config.StaticAttributeGenerator(dish=d) for d in dishes])))\n",
    "\n",
    "builder.set_config(rec_order, ActivityConfig(config.Fifo,\n",
    "                                             config.ExpSampler(1),\n",
    "                                             attribute_generator=dish_attr_gen))\n",
    "\n",
    "\n",
    "def calc_order_total(case: sc.Case, *args, **kwargs):\n",
    "    total = sum(\n",
    "        prices[dish] for dish in\n",
    "        case.project(lambda e: (e.activity == rec_order) and ('dish' in e.attributes), lambda e: e.attributes['dish']))\n",
    "    return {'amount': total}\n",
    "\n",
    "\n",
    "builder.set_config(serve_order, ActivityConfig(config.Fifo, config.ExpSampler(1)))\n",
    "builder.set_config(customer_eats, ActivityConfig(config.Fifo, config.NormSampler(10, scale=4)))\n",
    "builder.set_config(customers_pay,\n",
    "                   ActivityConfig(config.Fifo, config.ExpSampler(1),\n",
    "                                  attribute_generator=config.ActivityAttributeGenerator(\n",
    "                                      complete=config.LambdaAttributeGenerator(calc_order_total))))\n",
    "builder.set_config(customers_exit, ActivityConfig(config.Fifo, config.ZeroSampler))"
   ],
   "metadata": {
    "collapsed": false,
    "ExecuteTime": {
     "start_time": "2023-04-13T09:11:52.599289Z",
     "end_time": "2023-04-13T09:11:52.679052Z"
    }
   }
  },
  {
   "cell_type": "code",
   "execution_count": 19,
   "outputs": [],
   "source": [
    "builder.set_config(combine_dashi_ingredients, ActivityConfig(config.Fifo,\n",
    "                                                             config.NormSampler(20, scale=2)))\n",
    "builder.set_config(boil_dashi, ActivityConfig(config.Fifo,\n",
    "                                              config.StaticSampler(timedelta(hours=1, minutes=30))))\n",
    "builder.set_config(strain_dashi, ActivityConfig(config.Fifo,\n",
    "                                                config.NormSampler(10, scale=2)))\n",
    "\n",
    "builder.set_config(combine_dough, ActivityConfig(config.Fifo, config.NormSampler(10, scale=2)))\n",
    "builder.set_config(mix_dough, ActivityConfig(config.Fifo, config.NormSampler(10, scale=2)))\n",
    "builder.set_config(rest_dough, ActivityConfig(config.Fifo, config.StaticSampler(timedelta(hours=3))))\n",
    "builder.set_config(roll_dough, ActivityConfig(config.Fifo, config.NormSampler(30, scale=2)))\n",
    "builder.set_config(cut_dough, ActivityConfig(config.Fifo, config.NormSampler(10, scale=2)))\n",
    "\n",
    "builder.set_config(prep_curry, ActivityConfig(config.Fifo,\n",
    "                                              config.NormSampler(60, scale=2)))\n",
    "builder.set_config(prep_rice, ActivityConfig(config.Fifo,\n",
    "                                             config.NormSampler(30, scale=2)))\n",
    "builder.set_config(prep_tempura_ingredients, ActivityConfig(config.Fifo,\n",
    "                                                            config.NormSampler(120, scale=10)))"
   ],
   "metadata": {
    "collapsed": false,
    "ExecuteTime": {
     "start_time": "2023-04-13T09:11:52.679052Z",
     "end_time": "2023-04-13T09:11:52.763607Z"
    }
   }
  },
  {
   "cell_type": "code",
   "execution_count": 20,
   "outputs": [],
   "source": [
    "minimal_task = ActivityConfig(config.Fifo, config.ExpSampler(1))\n",
    "builder.set_config(open_store, minimal_task)\n",
    "builder.set_config(setup_store, ActivityConfig(config.Fifo,\n",
    "                                               config.NormSampler(20, scale=2)))\n",
    "builder.set_config(open_store_business, minimal_task)\n",
    "builder.set_config(close_store_business, minimal_task)\n",
    "builder.set_config(cleanup_store, ActivityConfig(config.Fifo,\n",
    "                                                 config.NormSampler(20, scale=2)))\n",
    "builder.set_config(close_store, minimal_task)"
   ],
   "metadata": {
    "collapsed": false,
    "ExecuteTime": {
     "start_time": "2023-04-13T09:11:52.759813Z",
     "end_time": "2023-04-13T09:11:52.832590Z"
    }
   }
  },
  {
   "cell_type": "code",
   "execution_count": 21,
   "outputs": [],
   "source": [
    "skill_issue = {tenchou: 2, deshi_A: 1, deshi_B: 1, okusan: 0.75, baito_A: 0.5, baito_B: 0.5}\n",
    "short_task_sampler = config.ResourceDependentPTSampler(config.NormSampler(30, scale=8, unit='s'), skill_issue,\n",
    "                                                       use_resource_performance=True)\n",
    "minimal_task_sampler = config.ResourceDependentPTSampler(config.NormSampler(15, scale=4, unit='s'), skill_issue,\n",
    "                                                         use_resource_performance=True)\n",
    "\n",
    "builder.set_aux_config(make_dish_delay, DelayConfig(config.NormSampler(30, scale=2, unit='s')))\n",
    "\n",
    "\n",
    "def track_orders(case: sc.Case, *args, **kwargs):\n",
    "    return {'global_order_id': case.get_case_attr_value('global_order_id')}\n",
    "\n",
    "\n",
    "bowl_attribute_copy = config.ActivityAttributeGenerator(start=config.LambdaAttributeGenerator(track_orders),\n",
    "                                                        complete=config.LambdaAttributeGenerator(track_orders))\n",
    "\n",
    "builder.set_config(start_bowl,\n",
    "                   ActivityConfig(config.Fifo, minimal_task_sampler, attribute_generator=bowl_attribute_copy))\n",
    "builder.set_config(udon_to_pot,\n",
    "                   ActivityConfig(config.Fifo, minimal_task_sampler, attribute_generator=bowl_attribute_copy))\n",
    "builder.set_aux_config(udon_cooking, DelayConfig(config.StaticSampler(timedelta(minutes=3))))\n",
    "builder.set_config(strain_udon,\n",
    "                   ActivityConfig(config.Fifo, short_task_sampler, attribute_generator=bowl_attribute_copy))\n",
    "\n",
    "builder.set_config(batter_tempura,\n",
    "                   ActivityConfig(config.Fifo, minimal_task_sampler, attribute_generator=bowl_attribute_copy))\n",
    "builder.set_config(toss_tempura,\n",
    "                   ActivityConfig(config.Fifo, minimal_task_sampler, attribute_generator=bowl_attribute_copy))\n",
    "builder.set_aux_config(tempura_frying, DelayConfig(config.StaticSampler(timedelta(minutes=4))))\n",
    "builder.set_config(take_out_tempura,\n",
    "                   ActivityConfig(config.Fifo, short_task_sampler, attribute_generator=bowl_attribute_copy))\n",
    "\n",
    "builder.set_config(add_udon, ActivityConfig(config.Fifo, short_task_sampler, attribute_generator=bowl_attribute_copy))\n",
    "builder.set_config(add_rice, ActivityConfig(config.Fifo, short_task_sampler, attribute_generator=bowl_attribute_copy))\n",
    "builder.set_config(add_dashi, ActivityConfig(config.Fifo, short_task_sampler, attribute_generator=bowl_attribute_copy))\n",
    "builder.set_config(add_curry, ActivityConfig(config.Fifo, short_task_sampler, attribute_generator=bowl_attribute_copy))\n",
    "builder.set_config(add_tempura,\n",
    "                   ActivityConfig(config.Fifo, short_task_sampler, attribute_generator=bowl_attribute_copy))\n",
    "builder.set_config(add_scallions,\n",
    "                   ActivityConfig(config.Fifo, minimal_task_sampler, attribute_generator=bowl_attribute_copy))"
   ],
   "metadata": {
    "collapsed": false,
    "ExecuteTime": {
     "start_time": "2023-04-13T09:11:52.832590Z",
     "end_time": "2023-04-13T09:11:52.899783Z"
    }
   }
  },
  {
   "cell_type": "markdown",
   "source": [
    "### Resource Config"
   ],
   "metadata": {
    "collapsed": false
   }
  },
  {
   "cell_type": "code",
   "execution_count": 22,
   "outputs": [],
   "source": [
    "builder.set_config(customer, ResourceConfig(np.inf))\n",
    "builder.set_config(kitchen, ResourceConfig(np.inf))\n",
    "initial_table_count = 15\n",
    "builder.set_config(tables, ResourceConfig(initial_table_count, business_hours))\n",
    "\n",
    "builder.set_config(tenchou, ResourceConfig(2, tenchou_hours, config.PeakPerformance))\n",
    "builder.set_config(okusan, ResourceConfig(1, tenchou_hours, config.PeakPerformance))\n",
    "builder.set_config(deshi_A, ResourceConfig(1, deshi_hours, config.PeakPerformance))\n",
    "builder.set_config(deshi_B, ResourceConfig(1, deshi_hours, config.PeakPerformance))\n",
    "builder.set_config(baito_A, ResourceConfig(1, baito_hours, config.PeakPerformance))\n",
    "builder.set_config(baito_B, ResourceConfig(1, baito_hours, config.PeakPerformance))"
   ],
   "metadata": {
    "collapsed": false,
    "ExecuteTime": {
     "start_time": "2023-04-13T09:11:52.899783Z",
     "end_time": "2023-04-13T09:11:52.966551Z"
    }
   }
  },
  {
   "cell_type": "markdown",
   "source": [
    "### Arrivals Config"
   ],
   "metadata": {
    "collapsed": false
   }
  },
  {
   "cell_type": "code",
   "execution_count": 23,
   "outputs": [],
   "source": [
    "process_start = datetime(2023, 4, 1, tzinfo=timezone)\n",
    "generation_end = datetime(2024, 3, 31, 23, 59, tzinfo=timezone)"
   ],
   "metadata": {
    "collapsed": false,
    "ExecuteTime": {
     "start_time": "2023-04-13T09:11:52.966551Z",
     "end_time": "2023-04-13T09:11:53.029226Z"
    }
   }
  },
  {
   "cell_type": "code",
   "execution_count": 24,
   "outputs": [],
   "source": [
    "def get_customer_group_id(proposed_case_id):\n",
    "    res = str.removeprefix(proposed_case_id, 'customers')\n",
    "    if res.startswith('_'):\n",
    "        res = 'regular' + res\n",
    "    return res\n",
    "\n",
    "\n",
    "customers_id_gen = config.LambdaAttributeGenerator(\n",
    "    lambda proposed_case_id, *args, **kwargs: {'case_type': 'customers',\n",
    "                                               'customer_group_id': get_customer_group_id(proposed_case_id)})\n",
    "\n",
    "initial_customer_arrival_cfg = ArrivalProcessConfig(process_start, config.ExpSampler(9), customers_arrival_bh,\n",
    "                                                    attribute_generator=config.AttributeGeneratorUnion(customers_id_gen,\n",
    "                                                                                                       config.StaticAttributeGenerator(\n",
    "                                                                                                           customer_count=partial(\n",
    "                                                                                                               np.random.randint,\n",
    "                                                                                                               1, 4))))\n",
    "initial_customer_peak_arrival_cfg = ArrivalProcessConfig(process_start, config.ExpSampler(2), customers_peak_arrival_bh,\n",
    "                                                         attribute_generator=config.AttributeGeneratorUnion(\n",
    "                                                             customers_id_gen,\n",
    "                                                             config.StaticAttributeGenerator(\n",
    "                                                                 customer_count=1)))\n",
    "builder.set_arrival_configs({customers_arrival: initial_customer_arrival_cfg,\n",
    "                             customers_peak_arrival: initial_customer_peak_arrival_cfg,\n",
    "                             prep_arrival: ArrivalProcessConfig(process_start, config.EpsilonSampler,\n",
    "                                                                config.WorkweekBusinessHours.fixed_time(\n",
    "                                                                    time_utils.epsilon_tuple(time(hour=5)),\n",
    "                                                                    business_days),\n",
    "                                                                attribute_generator=config.StaticAttributeGenerator(\n",
    "                                                                    case_type='prep')),\n",
    "                             opening_arrival: ArrivalProcessConfig(process_start,\n",
    "                                                                   config.EpsilonSampler,\n",
    "                                                                   config.ExtendedBusinessHours.fixed_times(\n",
    "                                                                       [time_utils.epsilon_tuple(time(hour=11)),\n",
    "                                                                        time_utils.epsilon_tuple(\n",
    "                                                                            time(hour=17, minute=30))],\n",
    "                                                                       business_days),\n",
    "                                                                   attribute_generator=config.StaticAttributeGenerator(\n",
    "                                                                       case_type='store', description='open')),\n",
    "                             closing_arrival: ArrivalProcessConfig(process_start,\n",
    "                                                                   config.EpsilonSampler,\n",
    "                                                                   config.ExtendedBusinessHours.fixed_times(\n",
    "                                                                       [time_utils.epsilon_tuple(\n",
    "                                                                           time(hour=14, minute=30)),\n",
    "                                                                           time_utils.epsilon_tuple(time(hour=21))],\n",
    "                                                                       business_days),\n",
    "                                                                   attribute_generator=pi.StaticAttributeGenerator(\n",
    "                                                                       case_type='store', description='close'))})"
   ],
   "metadata": {
    "collapsed": false,
    "ExecuteTime": {
     "start_time": "2023-04-13T09:11:53.029226Z",
     "end_time": "2023-04-13T09:11:53.102121Z"
    }
   }
  },
  {
   "cell_type": "code",
   "execution_count": 25,
   "outputs": [],
   "source": [
    "builder.fill_defaults()"
   ],
   "metadata": {
    "collapsed": false,
    "ExecuteTime": {
     "start_time": "2023-04-13T09:11:53.102121Z",
     "end_time": "2023-04-13T09:11:53.171353Z"
    }
   }
  },
  {
   "cell_type": "code",
   "execution_count": 26,
   "outputs": [],
   "source": [
    "sg, cfg = builder.build()"
   ],
   "metadata": {
    "collapsed": false,
    "ExecuteTime": {
     "start_time": "2023-04-13T09:11:53.171353Z",
     "end_time": "2023-04-13T09:11:53.237832Z"
    }
   }
  },
  {
   "cell_type": "code",
   "execution_count": 27,
   "outputs": [
    {
     "data": {
      "text/plain": "{'Udon is Cooking': <qprsim.model.sim_graph.DelayNode at 0x25bd7c87a90>,\n 'Tempura is Frying': <qprsim.model.sim_graph.DelayNode at 0x25bb1cc1c90>,\n 'make dish callout': <qprsim.model.sim_graph.DelayNode at 0x25bb1d1bb90>,\n 'fry if necessary': <qprsim.model.sim_graph.TransformationNode at 0x25bb1d1b690>,\n 'tempura synchronizer': <qprsim.model.sim_graph.SynchronizationNode at 0x25bb1b58050>,\n 'customers syncer': <qprsim.model.sim_graph.SynchronizationNode at 0x25bb1d24150>,\n 'customers signaler': <qprsim.model.sim_graph.SynchronizationNode at 0x25bb1d23a10>,\n 'make dishes split': <qprsim.model.sim_graph.TransformationNode at 0x25bb1d23b90>,\n 'order sync': <qprsim.model.sim_graph.SynchronizationNode at 0x25bb1d23cd0>,\n 'eat dishes split': <qprsim.model.sim_graph.TransformationNode at 0x25bb1d23ed0>,\n 'eating sync': <qprsim.model.sim_graph.SynchronizationNode at 0x25bb1d21e10>,\n 'dish routing base': <qprsim.model.sim_graph.XorSplit at 0x25bb19ee710>,\n 'dish routing liquid': <qprsim.model.sim_graph.XorSplit at 0x25bb19a4190>,\n 'dish routing topping': <qprsim.model.sim_graph.XorSplit at 0x25bb1d026d0>,\n 'store routing': <qprsim.model.sim_graph.XorSplit at 0x25bb1d0c950>,\n 'order loop': <qprsim.model.sim_graph.XorSplit at 0x25bb1d22710>}"
     },
     "execution_count": 27,
     "metadata": {},
     "output_type": "execute_result"
    }
   ],
   "source": [
    "sg.aux_model_haver_map"
   ],
   "metadata": {
    "collapsed": false,
    "ExecuteTime": {
     "start_time": "2023-04-13T09:11:53.237832Z",
     "end_time": "2023-04-13T09:11:53.316606Z"
    }
   }
  },
  {
   "cell_type": "code",
   "execution_count": 28,
   "outputs": [
    {
     "data": {
      "image/svg+xml": "<?xml version=\"1.0\" encoding=\"UTF-8\" standalone=\"no\"?>\n<!DOCTYPE svg PUBLIC \"-//W3C//DTD SVG 1.1//EN\"\n \"http://www.w3.org/Graphics/SVG/1.1/DTD/svg11.dtd\">\n<!-- Generated by graphviz version 7.1.0 (20230121.1956)\n -->\n<!-- Pages: 1 -->\n<svg width=\"1162pt\" height=\"3029pt\"\n viewBox=\"0.00 0.00 1161.50 3029.00\" xmlns=\"http://www.w3.org/2000/svg\" xmlns:xlink=\"http://www.w3.org/1999/xlink\">\n<g id=\"graph0\" class=\"graph\" transform=\"scale(1 1) rotate(0) translate(4 3025)\">\n<polygon fill=\"white\" stroke=\"none\" points=\"-4,4 -4,-3025 1157.5,-3025 1157.5,4 -4,4\"/>\n<!-- prep -->\n<g id=\"node1\" class=\"node\">\n<title>prep</title>\n<ellipse fill=\"none\" stroke=\"black\" cx=\"231\" cy=\"-3003\" rx=\"27.1\" ry=\"18\"/>\n<text text-anchor=\"middle\" x=\"231\" y=\"-2999.3\" font-family=\"Times New Roman,serif\" font-size=\"14.00\">prep</text>\n</g>\n<!-- tau1 -->\n<g id=\"node2\" class=\"node\">\n<title>tau1</title>\n<polygon fill=\"gray\" stroke=\"black\" points=\"258,-2948 204,-2948 204,-2912 258,-2912 258,-2948\"/>\n<text text-anchor=\"middle\" x=\"231\" y=\"-2926.3\" font-family=\"Times New Roman,serif\" font-size=\"14.00\">tau</text>\n</g>\n<!-- prep&#45;&gt;tau1 -->\n<g id=\"edge1\" class=\"edge\">\n<title>prep&#45;&gt;tau1</title>\n<path fill=\"none\" stroke=\"black\" d=\"M231,-2984.81C231,-2977.23 231,-2968.1 231,-2959.54\"/>\n<polygon fill=\"black\" stroke=\"black\" points=\"234.5,-2959.54 231,-2949.54 227.5,-2959.54 234.5,-2959.54\"/>\n</g>\n<!-- AndSplit2 -->\n<g id=\"node3\" class=\"node\">\n<title>AndSplit2</title>\n<polygon fill=\"none\" stroke=\"black\" points=\"231,-2875 204,-2857 231,-2839 258,-2857 231,-2875\"/>\n<text text-anchor=\"middle\" x=\"231\" y=\"-2853.3\" font-family=\"Times New Roman,serif\" font-size=\"14.00\">+</text>\n</g>\n<!-- tau1&#45;&gt;AndSplit2 -->\n<g id=\"edge2\" class=\"edge\">\n<title>tau1&#45;&gt;AndSplit2</title>\n<path fill=\"none\" stroke=\"black\" d=\"M231,-2911.81C231,-2904.34 231,-2895.37 231,-2886.92\"/>\n<polygon fill=\"black\" stroke=\"black\" points=\"234.5,-2887.04 231,-2877.04 227.5,-2887.04 234.5,-2887.04\"/>\n</g>\n<!-- Prep Tempura Ingredients -->\n<g id=\"node4\" class=\"node\">\n<title>Prep Tempura Ingredients</title>\n<path fill=\"none\" stroke=\"black\" d=\"M150,-2734C150,-2734 12,-2734 12,-2734 6,-2734 0,-2728 0,-2722 0,-2722 0,-2710 0,-2710 0,-2704 6,-2698 12,-2698 12,-2698 150,-2698 150,-2698 156,-2698 162,-2704 162,-2710 162,-2710 162,-2722 162,-2722 162,-2728 156,-2734 150,-2734\"/>\n<text text-anchor=\"middle\" x=\"81\" y=\"-2712.3\" font-family=\"Times New Roman,serif\" font-size=\"14.00\">Prep Tempura Ingredients</text>\n</g>\n<!-- AndSplit2&#45;&gt;Prep Tempura Ingredients -->\n<g id=\"edge7\" class=\"edge\">\n<title>AndSplit2&#45;&gt;Prep Tempura Ingredients</title>\n<path fill=\"none\" stroke=\"black\" d=\"M214.43,-2849.65C200.13,-2843.65 179.39,-2833.69 164,-2821 136.98,-2798.73 112.86,-2766.37 97.68,-2743.68\"/>\n<polygon fill=\"black\" stroke=\"black\" points=\"100.78,-2742.03 92.37,-2735.57 94.92,-2745.86 100.78,-2742.03\"/>\n<text text-anchor=\"middle\" x=\"167.5\" y=\"-2809.8\" font-family=\"Times New Roman,serif\" font-size=\"14.00\">4</text>\n</g>\n<!-- Prep Curry -->\n<g id=\"node8\" class=\"node\">\n<title>Prep Curry</title>\n<path fill=\"none\" stroke=\"black\" d=\"M212.5,-2518C212.5,-2518 157.5,-2518 157.5,-2518 151.5,-2518 145.5,-2512 145.5,-2506 145.5,-2506 145.5,-2494 145.5,-2494 145.5,-2488 151.5,-2482 157.5,-2482 157.5,-2482 212.5,-2482 212.5,-2482 218.5,-2482 224.5,-2488 224.5,-2494 224.5,-2494 224.5,-2506 224.5,-2506 224.5,-2512 218.5,-2518 212.5,-2518\"/>\n<text text-anchor=\"middle\" x=\"185\" y=\"-2496.3\" font-family=\"Times New Roman,serif\" font-size=\"14.00\">Prep Curry</text>\n</g>\n<!-- AndSplit2&#45;&gt;Prep Curry -->\n<g id=\"edge6\" class=\"edge\">\n<title>AndSplit2&#45;&gt;Prep Curry</title>\n<path fill=\"none\" stroke=\"black\" d=\"M220.79,-2845.45C207.24,-2830.29 185,-2800.87 185,-2771 185,-2771 185,-2771 185,-2607 185,-2580.85 185,-2551.07 185,-2529.74\"/>\n<polygon fill=\"black\" stroke=\"black\" points=\"188.5,-2529.77 185,-2519.77 181.5,-2529.77 188.5,-2529.77\"/>\n<text text-anchor=\"middle\" x=\"188.5\" y=\"-2712.3\" font-family=\"Times New Roman,serif\" font-size=\"14.00\">3</text>\n</g>\n<!-- Prep Rice -->\n<g id=\"node9\" class=\"node\">\n<title>Prep Rice</title>\n<path fill=\"none\" stroke=\"black\" d=\"M262,-2626C262,-2626 214,-2626 214,-2626 208,-2626 202,-2620 202,-2614 202,-2614 202,-2602 202,-2602 202,-2596 208,-2590 214,-2590 214,-2590 262,-2590 262,-2590 268,-2590 274,-2596 274,-2602 274,-2602 274,-2614 274,-2614 274,-2620 268,-2626 262,-2626\"/>\n<text text-anchor=\"middle\" x=\"238\" y=\"-2604.3\" font-family=\"Times New Roman,serif\" font-size=\"14.00\">Prep Rice</text>\n</g>\n<!-- AndSplit2&#45;&gt;Prep Rice -->\n<g id=\"edge5\" class=\"edge\">\n<title>AndSplit2&#45;&gt;Prep Rice</title>\n<path fill=\"none\" stroke=\"black\" d=\"M231.48,-2839.02C232.66,-2797.35 235.71,-2689.64 237.18,-2637.76\"/>\n<polygon fill=\"black\" stroke=\"black\" points=\"240.68,-2638.03 237.46,-2627.94 233.68,-2637.84 240.68,-2638.03\"/>\n<text text-anchor=\"middle\" x=\"237.5\" y=\"-2766.3\" font-family=\"Times New Roman,serif\" font-size=\"14.00\">2</text>\n</g>\n<!-- Combine Udon Dough -->\n<g id=\"node10\" class=\"node\">\n<title>Combine Udon Dough</title>\n<path fill=\"none\" stroke=\"black\" d=\"M388,-2788C388,-2788 268,-2788 268,-2788 262,-2788 256,-2782 256,-2776 256,-2776 256,-2764 256,-2764 256,-2758 262,-2752 268,-2752 268,-2752 388,-2752 388,-2752 394,-2752 400,-2758 400,-2764 400,-2764 400,-2776 400,-2776 400,-2782 394,-2788 388,-2788\"/>\n<text text-anchor=\"middle\" x=\"328\" y=\"-2766.3\" font-family=\"Times New Roman,serif\" font-size=\"14.00\">Combine Udon Dough</text>\n</g>\n<!-- AndSplit2&#45;&gt;Combine Udon Dough -->\n<g id=\"edge4\" class=\"edge\">\n<title>AndSplit2&#45;&gt;Combine Udon Dough</title>\n<path fill=\"none\" stroke=\"black\" d=\"M242.13,-2846.25C256.11,-2834 280.61,-2812.53 299.87,-2795.65\"/>\n<polygon fill=\"black\" stroke=\"black\" points=\"301.94,-2798.49 307.15,-2789.27 297.32,-2793.23 301.94,-2798.49\"/>\n<text text-anchor=\"middle\" x=\"289.5\" y=\"-2809.8\" font-family=\"Times New Roman,serif\" font-size=\"14.00\">1</text>\n</g>\n<!-- Combine Dashi Ingredients -->\n<g id=\"node15\" class=\"node\">\n<title>Combine Dashi Ingredients</title>\n<path fill=\"none\" stroke=\"black\" d=\"M574,-2788C574,-2788 430,-2788 430,-2788 424,-2788 418,-2782 418,-2776 418,-2776 418,-2764 418,-2764 418,-2758 424,-2752 430,-2752 430,-2752 574,-2752 574,-2752 580,-2752 586,-2758 586,-2764 586,-2764 586,-2776 586,-2776 586,-2782 580,-2788 574,-2788\"/>\n<text text-anchor=\"middle\" x=\"502\" y=\"-2766.3\" font-family=\"Times New Roman,serif\" font-size=\"14.00\">Combine Dashi Ingredients</text>\n</g>\n<!-- AndSplit2&#45;&gt;Combine Dashi Ingredients -->\n<g id=\"edge3\" class=\"edge\">\n<title>AndSplit2&#45;&gt;Combine Dashi Ingredients</title>\n<path fill=\"none\" stroke=\"black\" d=\"M248.78,-2850.42C285.99,-2838.75 373.74,-2811.23 435.46,-2791.87\"/>\n<polygon fill=\"black\" stroke=\"black\" points=\"436.34,-2795.26 444.84,-2788.93 434.25,-2788.58 436.34,-2795.26\"/>\n<text text-anchor=\"middle\" x=\"386.5\" y=\"-2809.8\" font-family=\"Times New Roman,serif\" font-size=\"14.00\">0</text>\n</g>\n<!-- AndJoin4 -->\n<g id=\"node5\" class=\"node\">\n<title>AndJoin4</title>\n<polygon fill=\"none\" stroke=\"black\" points=\"240,-2269 213,-2251 240,-2233 267,-2251 240,-2269\"/>\n<text text-anchor=\"middle\" x=\"240\" y=\"-2247.3\" font-family=\"Times New Roman,serif\" font-size=\"14.00\">+</text>\n</g>\n<!-- Prep Tempura Ingredients&#45;&gt;AndJoin4 -->\n<g id=\"edge8\" class=\"edge\">\n<title>Prep Tempura Ingredients&#45;&gt;AndJoin4</title>\n<path fill=\"none\" stroke=\"black\" d=\"M87.7,-2697.67C95.1,-2676.91 106,-2640.95 106,-2609 106,-2609 106,-2609 106,-2337 106,-2288.98 168.11,-2266.95 207.76,-2257.77\"/>\n<polygon fill=\"black\" stroke=\"black\" points=\"208.24,-2261.25 217.29,-2255.74 206.78,-2254.41 208.24,-2261.25\"/>\n</g>\n<!-- tau5 -->\n<g id=\"node6\" class=\"node\">\n<title>tau5</title>\n<polygon fill=\"gray\" stroke=\"black\" points=\"267,-2182 213,-2182 213,-2146 267,-2146 267,-2182\"/>\n<text text-anchor=\"middle\" x=\"240\" y=\"-2160.3\" font-family=\"Times New Roman,serif\" font-size=\"14.00\">tau</text>\n</g>\n<!-- AndJoin4&#45;&gt;tau5 -->\n<g id=\"edge9\" class=\"edge\">\n<title>AndJoin4&#45;&gt;tau5</title>\n<path fill=\"none\" stroke=\"black\" d=\"M240,-2232.8C240,-2221.58 240,-2206.67 240,-2193.69\"/>\n<polygon fill=\"black\" stroke=\"black\" points=\"243.5,-2193.98 240,-2183.98 236.5,-2193.98 243.5,-2193.98\"/>\n</g>\n<!-- prep terminal -->\n<g id=\"node7\" class=\"node\">\n<title>prep terminal</title>\n<ellipse fill=\"none\" stroke=\"black\" cx=\"240\" cy=\"-2091\" rx=\"57.69\" ry=\"18\"/>\n<text text-anchor=\"middle\" x=\"240\" y=\"-2087.3\" font-family=\"Times New Roman,serif\" font-size=\"14.00\">prep terminal</text>\n</g>\n<!-- tau5&#45;&gt;prep terminal -->\n<g id=\"edge10\" class=\"edge\">\n<title>tau5&#45;&gt;prep terminal</title>\n<path fill=\"none\" stroke=\"black\" d=\"M240,-2145.81C240,-2138.23 240,-2129.1 240,-2120.54\"/>\n<polygon fill=\"black\" stroke=\"black\" points=\"243.5,-2120.54 240,-2110.54 236.5,-2120.54 243.5,-2120.54\"/>\n</g>\n<!-- Prep Curry&#45;&gt;AndJoin4 -->\n<g id=\"edge11\" class=\"edge\">\n<title>Prep Curry&#45;&gt;AndJoin4</title>\n<path fill=\"none\" stroke=\"black\" d=\"M187.21,-2481.7C192.12,-2445.2 205.18,-2357.86 226,-2287 227.07,-2283.36 228.37,-2279.57 229.75,-2275.89\"/>\n<polygon fill=\"black\" stroke=\"black\" points=\"232.91,-2277.41 233.38,-2266.82 226.41,-2274.81 232.91,-2277.41\"/>\n</g>\n<!-- Prep Rice&#45;&gt;AndJoin4 -->\n<g id=\"edge12\" class=\"edge\">\n<title>Prep Rice&#45;&gt;AndJoin4</title>\n<path fill=\"none\" stroke=\"black\" d=\"M238.53,-2589.74C239.12,-2568.77 240,-2532.29 240,-2501 240,-2501 240,-2501 240,-2337 240,-2318.24 240,-2297.15 240,-2280.67\"/>\n<polygon fill=\"black\" stroke=\"black\" points=\"243.5,-2281.1 240,-2271.1 236.5,-2281.1 243.5,-2281.1\"/>\n</g>\n<!-- Mix Udon Dough -->\n<g id=\"node11\" class=\"node\">\n<title>Mix Udon Dough</title>\n<path fill=\"none\" stroke=\"black\" d=\"M373.5,-2680C373.5,-2680 282.5,-2680 282.5,-2680 276.5,-2680 270.5,-2674 270.5,-2668 270.5,-2668 270.5,-2656 270.5,-2656 270.5,-2650 276.5,-2644 282.5,-2644 282.5,-2644 373.5,-2644 373.5,-2644 379.5,-2644 385.5,-2650 385.5,-2656 385.5,-2656 385.5,-2668 385.5,-2668 385.5,-2674 379.5,-2680 373.5,-2680\"/>\n<text text-anchor=\"middle\" x=\"328\" y=\"-2658.3\" font-family=\"Times New Roman,serif\" font-size=\"14.00\">Mix Udon Dough</text>\n</g>\n<!-- Combine Udon Dough&#45;&gt;Mix Udon Dough -->\n<g id=\"edge13\" class=\"edge\">\n<title>Combine Udon Dough&#45;&gt;Mix Udon Dough</title>\n<path fill=\"none\" stroke=\"black\" d=\"M328,-2751.97C328,-2735.76 328,-2711.06 328,-2691.79\"/>\n<polygon fill=\"black\" stroke=\"black\" points=\"331.5,-2691.85 328,-2681.85 324.5,-2691.85 331.5,-2691.85\"/>\n</g>\n<!-- Rest Udon Dough -->\n<g id=\"node12\" class=\"node\">\n<title>Rest Udon Dough</title>\n<path fill=\"none\" stroke=\"black\" d=\"M375.5,-2572C375.5,-2572 280.5,-2572 280.5,-2572 274.5,-2572 268.5,-2566 268.5,-2560 268.5,-2560 268.5,-2548 268.5,-2548 268.5,-2542 274.5,-2536 280.5,-2536 280.5,-2536 375.5,-2536 375.5,-2536 381.5,-2536 387.5,-2542 387.5,-2548 387.5,-2548 387.5,-2560 387.5,-2560 387.5,-2566 381.5,-2572 375.5,-2572\"/>\n<text text-anchor=\"middle\" x=\"328\" y=\"-2550.3\" font-family=\"Times New Roman,serif\" font-size=\"14.00\">Rest Udon Dough</text>\n</g>\n<!-- Mix Udon Dough&#45;&gt;Rest Udon Dough -->\n<g id=\"edge14\" class=\"edge\">\n<title>Mix Udon Dough&#45;&gt;Rest Udon Dough</title>\n<path fill=\"none\" stroke=\"black\" d=\"M328,-2643.97C328,-2627.76 328,-2603.06 328,-2583.79\"/>\n<polygon fill=\"black\" stroke=\"black\" points=\"331.5,-2583.85 328,-2573.85 324.5,-2583.85 331.5,-2583.85\"/>\n</g>\n<!-- Roll Udon Dough -->\n<g id=\"node13\" class=\"node\">\n<title>Roll Udon Dough</title>\n<path fill=\"none\" stroke=\"black\" d=\"M373,-2464C373,-2464 281,-2464 281,-2464 275,-2464 269,-2458 269,-2452 269,-2452 269,-2440 269,-2440 269,-2434 275,-2428 281,-2428 281,-2428 373,-2428 373,-2428 379,-2428 385,-2434 385,-2440 385,-2440 385,-2452 385,-2452 385,-2458 379,-2464 373,-2464\"/>\n<text text-anchor=\"middle\" x=\"327\" y=\"-2442.3\" font-family=\"Times New Roman,serif\" font-size=\"14.00\">Roll Udon Dough</text>\n</g>\n<!-- Rest Udon Dough&#45;&gt;Roll Udon Dough -->\n<g id=\"edge15\" class=\"edge\">\n<title>Rest Udon Dough&#45;&gt;Roll Udon Dough</title>\n<path fill=\"none\" stroke=\"black\" d=\"M327.84,-2535.97C327.69,-2519.76 327.45,-2495.06 327.27,-2475.79\"/>\n<polygon fill=\"black\" stroke=\"black\" points=\"330.77,-2475.82 327.18,-2465.85 323.77,-2475.89 330.77,-2475.82\"/>\n</g>\n<!-- Cut Udon Dough -->\n<g id=\"node14\" class=\"node\">\n<title>Cut Udon Dough</title>\n<path fill=\"none\" stroke=\"black\" d=\"M370.5,-2356C370.5,-2356 281.5,-2356 281.5,-2356 275.5,-2356 269.5,-2350 269.5,-2344 269.5,-2344 269.5,-2332 269.5,-2332 269.5,-2326 275.5,-2320 281.5,-2320 281.5,-2320 370.5,-2320 370.5,-2320 376.5,-2320 382.5,-2326 382.5,-2332 382.5,-2332 382.5,-2344 382.5,-2344 382.5,-2350 376.5,-2356 370.5,-2356\"/>\n<text text-anchor=\"middle\" x=\"326\" y=\"-2334.3\" font-family=\"Times New Roman,serif\" font-size=\"14.00\">Cut Udon Dough</text>\n</g>\n<!-- Roll Udon Dough&#45;&gt;Cut Udon Dough -->\n<g id=\"edge16\" class=\"edge\">\n<title>Roll Udon Dough&#45;&gt;Cut Udon Dough</title>\n<path fill=\"none\" stroke=\"black\" d=\"M326.84,-2427.97C326.69,-2411.76 326.45,-2387.06 326.27,-2367.79\"/>\n<polygon fill=\"black\" stroke=\"black\" points=\"329.77,-2367.82 326.18,-2357.85 322.77,-2367.89 329.77,-2367.82\"/>\n</g>\n<!-- Cut Udon Dough&#45;&gt;AndJoin4 -->\n<g id=\"edge17\" class=\"edge\">\n<title>Cut Udon Dough&#45;&gt;AndJoin4</title>\n<path fill=\"none\" stroke=\"black\" d=\"M308.6,-2319.8C293.99,-2305.36 273.19,-2284.8 258.33,-2270.12\"/>\n<polygon fill=\"black\" stroke=\"black\" points=\"261.01,-2267.84 251.43,-2263.3 256.09,-2272.82 261.01,-2267.84\"/>\n</g>\n<!-- Boil Dashi -->\n<g id=\"node16\" class=\"node\">\n<title>Boil Dashi</title>\n<path fill=\"none\" stroke=\"black\" d=\"M492,-2680C492,-2680 442,-2680 442,-2680 436,-2680 430,-2674 430,-2668 430,-2668 430,-2656 430,-2656 430,-2650 436,-2644 442,-2644 442,-2644 492,-2644 492,-2644 498,-2644 504,-2650 504,-2656 504,-2656 504,-2668 504,-2668 504,-2674 498,-2680 492,-2680\"/>\n<text text-anchor=\"middle\" x=\"467\" y=\"-2658.3\" font-family=\"Times New Roman,serif\" font-size=\"14.00\">Boil Dashi</text>\n</g>\n<!-- Combine Dashi Ingredients&#45;&gt;Boil Dashi -->\n<g id=\"edge18\" class=\"edge\">\n<title>Combine Dashi Ingredients&#45;&gt;Boil Dashi</title>\n<path fill=\"none\" stroke=\"black\" d=\"M496.38,-2751.97C490.97,-2735.61 482.71,-2710.59 476.33,-2691.24\"/>\n<polygon fill=\"black\" stroke=\"black\" points=\"479.66,-2690.18 473.2,-2681.78 473.01,-2692.37 479.66,-2690.18\"/>\n</g>\n<!-- Strain Dashi -->\n<g id=\"node17\" class=\"node\">\n<title>Strain Dashi</title>\n<path fill=\"none\" stroke=\"black\" d=\"M475,-2410C475,-2410 415,-2410 415,-2410 409,-2410 403,-2404 403,-2398 403,-2398 403,-2386 403,-2386 403,-2380 409,-2374 415,-2374 415,-2374 475,-2374 475,-2374 481,-2374 487,-2380 487,-2386 487,-2386 487,-2398 487,-2398 487,-2404 481,-2410 475,-2410\"/>\n<text text-anchor=\"middle\" x=\"445\" y=\"-2388.3\" font-family=\"Times New Roman,serif\" font-size=\"14.00\">Strain Dashi</text>\n</g>\n<!-- Boil Dashi&#45;&gt;Strain Dashi -->\n<g id=\"edge19\" class=\"edge\">\n<title>Boil Dashi&#45;&gt;Strain Dashi</title>\n<path fill=\"none\" stroke=\"black\" d=\"M465.59,-2643.83C461.9,-2598.84 451.91,-2477.18 447.34,-2421.51\"/>\n<polygon fill=\"black\" stroke=\"black\" points=\"450.86,-2421.56 446.55,-2411.88 443.88,-2422.14 450.86,-2421.56\"/>\n</g>\n<!-- Strain Dashi&#45;&gt;AndJoin4 -->\n<g id=\"edge20\" class=\"edge\">\n<title>Strain Dashi&#45;&gt;AndJoin4</title>\n<path fill=\"none\" stroke=\"black\" d=\"M435.19,-2373.54C425.62,-2357.82 409.79,-2334.94 391,-2320 353.72,-2290.35 301.46,-2270.6 269.22,-2260.35\"/>\n<polygon fill=\"black\" stroke=\"black\" points=\"270.34,-2257.04 259.75,-2257.45 268.29,-2263.73 270.34,-2257.04\"/>\n</g>\n<!-- customers peak -->\n<g id=\"node18\" class=\"node\">\n<title>customers peak</title>\n<ellipse fill=\"none\" stroke=\"black\" cx=\"697\" cy=\"-3003\" rx=\"67.69\" ry=\"18\"/>\n<text text-anchor=\"middle\" x=\"697\" y=\"-2999.3\" font-family=\"Times New Roman,serif\" font-size=\"14.00\">customers peak</text>\n</g>\n<!-- tau18 -->\n<g id=\"node19\" class=\"node\">\n<title>tau18</title>\n<polygon fill=\"gray\" stroke=\"black\" points=\"814,-2948 760,-2948 760,-2912 814,-2912 814,-2948\"/>\n<text text-anchor=\"middle\" x=\"787\" y=\"-2926.3\" font-family=\"Times New Roman,serif\" font-size=\"14.00\">tau</text>\n</g>\n<!-- customers peak&#45;&gt;tau18 -->\n<g id=\"edge21\" class=\"edge\">\n<title>customers peak&#45;&gt;tau18</title>\n<path fill=\"none\" stroke=\"black\" d=\"M717.87,-2985.53C729.24,-2976.57 743.52,-2965.3 756.15,-2955.34\"/>\n<polygon fill=\"black\" stroke=\"black\" points=\"758.11,-2958.25 763.8,-2949.31 753.78,-2952.75 758.11,-2958.25\"/>\n</g>\n<!-- Customer Group Enters -->\n<g id=\"node20\" class=\"node\">\n<title>Customer Group Enters</title>\n<path fill=\"none\" stroke=\"black\" d=\"M850.5,-2875C850.5,-2875 723.5,-2875 723.5,-2875 717.5,-2875 711.5,-2869 711.5,-2863 711.5,-2863 711.5,-2851 711.5,-2851 711.5,-2845 717.5,-2839 723.5,-2839 723.5,-2839 850.5,-2839 850.5,-2839 856.5,-2839 862.5,-2845 862.5,-2851 862.5,-2851 862.5,-2863 862.5,-2863 862.5,-2869 856.5,-2875 850.5,-2875\"/>\n<text text-anchor=\"middle\" x=\"787\" y=\"-2853.3\" font-family=\"Times New Roman,serif\" font-size=\"14.00\">Customer Group Enters</text>\n</g>\n<!-- tau18&#45;&gt;Customer Group Enters -->\n<g id=\"edge22\" class=\"edge\">\n<title>tau18&#45;&gt;Customer Group Enters</title>\n<path fill=\"none\" stroke=\"black\" d=\"M787,-2911.81C787,-2904.23 787,-2895.1 787,-2886.54\"/>\n<polygon fill=\"black\" stroke=\"black\" points=\"790.5,-2886.54 787,-2876.54 783.5,-2886.54 790.5,-2886.54\"/>\n</g>\n<!-- AndSplit20 -->\n<g id=\"node21\" class=\"node\">\n<title>AndSplit20</title>\n<polygon fill=\"none\" stroke=\"black\" points=\"787,-2788 760,-2770 787,-2752 814,-2770 787,-2788\"/>\n<text text-anchor=\"middle\" x=\"787\" y=\"-2766.3\" font-family=\"Times New Roman,serif\" font-size=\"14.00\">+</text>\n</g>\n<!-- Customer Group Enters&#45;&gt;AndSplit20 -->\n<g id=\"edge23\" class=\"edge\">\n<title>Customer Group Enters&#45;&gt;AndSplit20</title>\n<path fill=\"none\" stroke=\"black\" d=\"M787,-2838.8C787,-2827.58 787,-2812.67 787,-2799.69\"/>\n<polygon fill=\"black\" stroke=\"black\" points=\"790.5,-2799.98 787,-2789.98 783.5,-2799.98 790.5,-2799.98\"/>\n</g>\n<!-- SynchronizationNode 21 -->\n<g id=\"node22\" class=\"node\">\n<title>SynchronizationNode 21</title>\n<polygon fill=\"none\" stroke=\"black\" points=\"648,-2680 522.99,-2662 648,-2644 773.01,-2662 648,-2680\"/>\n<text text-anchor=\"middle\" x=\"648\" y=\"-2658.3\" font-family=\"Times New Roman,serif\" font-size=\"14.00\">S (customers syncer)</text>\n</g>\n<!-- AndSplit20&#45;&gt;SynchronizationNode 21 -->\n<g id=\"edge25\" class=\"edge\">\n<title>AndSplit20&#45;&gt;SynchronizationNode 21</title>\n<path fill=\"none\" stroke=\"black\" d=\"M775.15,-2759.96C753.37,-2743.36 706.45,-2707.57 676.1,-2684.43\"/>\n<polygon fill=\"black\" stroke=\"black\" points=\"678.54,-2681.89 668.46,-2678.6 674.29,-2687.45 678.54,-2681.89\"/>\n<text text-anchor=\"middle\" x=\"742.5\" y=\"-2712.3\" font-family=\"Times New Roman,serif\" font-size=\"14.00\">1</text>\n</g>\n<!-- Customer Group Occupies Table -->\n<g id=\"node65\" class=\"node\">\n<title>Customer Group Occupies Table</title>\n<path fill=\"none\" stroke=\"black\" d=\"M891,-2626C891,-2626 711,-2626 711,-2626 705,-2626 699,-2620 699,-2614 699,-2614 699,-2602 699,-2602 699,-2596 705,-2590 711,-2590 711,-2590 891,-2590 891,-2590 897,-2590 903,-2596 903,-2602 903,-2602 903,-2614 903,-2614 903,-2620 897,-2626 891,-2626\"/>\n<text text-anchor=\"middle\" x=\"801\" y=\"-2604.3\" font-family=\"Times New Roman,serif\" font-size=\"14.00\">Customer Group Occupies Table</text>\n</g>\n<!-- AndSplit20&#45;&gt;Customer Group Occupies Table -->\n<g id=\"edge24\" class=\"edge\">\n<title>AndSplit20&#45;&gt;Customer Group Occupies Table</title>\n<path fill=\"none\" stroke=\"black\" d=\"M788.45,-2752.48C790.82,-2725.32 795.58,-2670.9 798.51,-2637.44\"/>\n<polygon fill=\"black\" stroke=\"black\" points=\"801.98,-2637.93 799.37,-2627.66 795.01,-2637.32 801.98,-2637.93\"/>\n<text text-anchor=\"middle\" x=\"797.5\" y=\"-2712.3\" font-family=\"Times New Roman,serif\" font-size=\"14.00\">0</text>\n</g>\n<!-- XorJoin22 -->\n<g id=\"node23\" class=\"node\">\n<title>XorJoin22</title>\n<polygon fill=\"none\" stroke=\"black\" points=\"648,-2572 621,-2554 648,-2536 675,-2554 648,-2572\"/>\n<text text-anchor=\"middle\" x=\"648\" y=\"-2550.3\" font-family=\"Times New Roman,serif\" font-size=\"14.00\">X</text>\n</g>\n<!-- SynchronizationNode 21&#45;&gt;XorJoin22 -->\n<g id=\"edge26\" class=\"edge\">\n<title>SynchronizationNode 21&#45;&gt;XorJoin22</title>\n<path fill=\"none\" stroke=\"black\" d=\"M648,-2643.5C648,-2627.31 648,-2602.94 648,-2583.88\"/>\n<polygon fill=\"black\" stroke=\"black\" points=\"651.5,-2584.04 648,-2574.04 644.5,-2584.04 651.5,-2584.04\"/>\n<text text-anchor=\"middle\" x=\"651.5\" y=\"-2604.3\" font-family=\"Times New Roman,serif\" font-size=\"14.00\">0</text>\n</g>\n<!-- Receive Order -->\n<g id=\"node24\" class=\"node\">\n<title>Receive Order</title>\n<path fill=\"none\" stroke=\"black\" d=\"M622,-2464C622,-2464 548,-2464 548,-2464 542,-2464 536,-2458 536,-2452 536,-2452 536,-2440 536,-2440 536,-2434 542,-2428 548,-2428 548,-2428 622,-2428 622,-2428 628,-2428 634,-2434 634,-2440 634,-2440 634,-2452 634,-2452 634,-2458 628,-2464 622,-2464\"/>\n<text text-anchor=\"middle\" x=\"585\" y=\"-2442.3\" font-family=\"Times New Roman,serif\" font-size=\"14.00\">Receive Order</text>\n</g>\n<!-- XorJoin22&#45;&gt;Receive Order -->\n<g id=\"edge27\" class=\"edge\">\n<title>XorJoin22&#45;&gt;Receive Order</title>\n<path fill=\"none\" stroke=\"black\" d=\"M640.53,-2540.42C630.89,-2524.21 613.87,-2495.58 601.21,-2474.27\"/>\n<polygon fill=\"black\" stroke=\"black\" points=\"604.28,-2472.59 596.16,-2465.78 598.26,-2476.17 604.28,-2472.59\"/>\n</g>\n<!-- XorSplit 24 -->\n<g id=\"node25\" class=\"node\">\n<title>XorSplit 24</title>\n<polygon fill=\"none\" stroke=\"black\" points=\"628,-2356 537.85,-2338 628,-2320 718.15,-2338 628,-2356\"/>\n<text text-anchor=\"middle\" x=\"628\" y=\"-2334.3\" font-family=\"Times New Roman,serif\" font-size=\"14.00\">X (order loop)</text>\n</g>\n<!-- Receive Order&#45;&gt;XorSplit 24 -->\n<g id=\"edge28\" class=\"edge\">\n<title>Receive Order&#45;&gt;XorSplit 24</title>\n<path fill=\"none\" stroke=\"black\" d=\"M591.91,-2427.97C598.74,-2411.14 609.28,-2385.15 617.21,-2365.6\"/>\n<polygon fill=\"black\" stroke=\"black\" points=\"620.45,-2366.93 620.96,-2356.35 613.96,-2364.3 620.45,-2366.93\"/>\n</g>\n<!-- XorSplit 24&#45;&gt;XorJoin22 -->\n<g id=\"edge30\" class=\"edge\">\n<title>XorSplit 24&#45;&gt;XorJoin22</title>\n<path fill=\"none\" stroke=\"black\" d=\"M631.46,-2355.64C635,-2373.46 640.36,-2402.6 643,-2428 646.41,-2460.86 647.53,-2498.8 647.88,-2524.18\"/>\n<polygon fill=\"black\" stroke=\"black\" points=\"644.38,-2524.08 647.98,-2534.05 651.38,-2524.01 644.38,-2524.08\"/>\n<text text-anchor=\"middle\" x=\"649.5\" y=\"-2442.3\" font-family=\"Times New Roman,serif\" font-size=\"14.00\">1</text>\n</g>\n<!-- TransformationNode 25 -->\n<g id=\"node26\" class=\"node\">\n<title>TransformationNode 25</title>\n<polygon fill=\"none\" stroke=\"black\" points=\"628,-2269 504.67,-2251 628,-2233 751.33,-2251 628,-2269\"/>\n<text text-anchor=\"middle\" x=\"628\" y=\"-2247.3\" font-family=\"Times New Roman,serif\" font-size=\"14.00\">T (make dishes split)</text>\n</g>\n<!-- XorSplit 24&#45;&gt;TransformationNode 25 -->\n<g id=\"edge29\" class=\"edge\">\n<title>XorSplit 24&#45;&gt;TransformationNode 25</title>\n<path fill=\"none\" stroke=\"black\" d=\"M628,-2319.8C628,-2308.58 628,-2293.67 628,-2280.69\"/>\n<polygon fill=\"black\" stroke=\"black\" points=\"631.5,-2280.98 628,-2270.98 624.5,-2280.98 631.5,-2280.98\"/>\n<text text-anchor=\"middle\" x=\"631.5\" y=\"-2290.8\" font-family=\"Times New Roman,serif\" font-size=\"14.00\">0</text>\n</g>\n<!-- tau26 -->\n<g id=\"node27\" class=\"node\">\n<title>tau26</title>\n<polygon fill=\"gray\" stroke=\"black\" points=\"490,-2182 436,-2182 436,-2146 490,-2146 490,-2182\"/>\n<text text-anchor=\"middle\" x=\"463\" y=\"-2160.3\" font-family=\"Times New Roman,serif\" font-size=\"14.00\">tau</text>\n</g>\n<!-- TransformationNode 25&#45;&gt;tau26 -->\n<g id=\"edge32\" class=\"edge\">\n<title>TransformationNode 25&#45;&gt;tau26</title>\n<path fill=\"none\" stroke=\"black\" d=\"M601.86,-2236.53C574.51,-2222.44 531.33,-2200.2 500.38,-2184.26\"/>\n<polygon fill=\"black\" stroke=\"black\" points=\"502.23,-2181.27 491.74,-2179.81 499.03,-2187.5 502.23,-2181.27\"/>\n<text text-anchor=\"middle\" x=\"559.5\" y=\"-2203.8\" font-family=\"Times New Roman,serif\" font-size=\"14.00\">1</text>\n</g>\n<!-- SynchronizationNode 40 -->\n<g id=\"node41\" class=\"node\">\n<title>SynchronizationNode 40</title>\n<polygon fill=\"none\" stroke=\"black\" points=\"638,-822 547.85,-804 638,-786 728.15,-804 638,-822\"/>\n<text text-anchor=\"middle\" x=\"638\" y=\"-800.3\" font-family=\"Times New Roman,serif\" font-size=\"14.00\">S (order sync)</text>\n</g>\n<!-- TransformationNode 25&#45;&gt;SynchronizationNode 40 -->\n<g id=\"edge31\" class=\"edge\">\n<title>TransformationNode 25&#45;&gt;SynchronizationNode 40</title>\n<path fill=\"none\" stroke=\"black\" d=\"M670.65,-2238.76C705.14,-2226.79 748,-2204.06 748,-2165 748,-2165 748,-2165 748,-876 748,-845.97 718.7,-828.02 690.34,-817.69\"/>\n<polygon fill=\"black\" stroke=\"black\" points=\"691.62,-814.42 681.02,-814.57 689.4,-821.06 691.62,-814.42\"/>\n<text text-anchor=\"middle\" x=\"751.5\" y=\"-1499.3\" font-family=\"Times New Roman,serif\" font-size=\"14.00\">0</text>\n</g>\n<!-- delay27 -->\n<g id=\"node28\" class=\"node\">\n<title>delay27</title>\n<polygon fill=\"none\" stroke=\"black\" points=\"400,-2109 346,-2109 346,-2073 400,-2073 400,-2109\"/>\n<text text-anchor=\"middle\" x=\"373\" y=\"-2087.3\" font-family=\"Times New Roman,serif\" font-size=\"14.00\">D</text>\n</g>\n<!-- tau26&#45;&gt;delay27 -->\n<g id=\"edge33\" class=\"edge\">\n<title>tau26&#45;&gt;delay27</title>\n<path fill=\"none\" stroke=\"black\" d=\"M441.21,-2145.81C430.02,-2136.98 416.19,-2126.07 403.91,-2116.39\"/>\n<polygon fill=\"black\" stroke=\"black\" points=\"406.1,-2113.66 396.09,-2110.21 401.77,-2119.15 406.1,-2113.66\"/>\n</g>\n<!-- Get Bowl -->\n<g id=\"node29\" class=\"node\">\n<title>Get Bowl</title>\n<path fill=\"none\" stroke=\"black\" d=\"M386,-2036C386,-2036 340,-2036 340,-2036 334,-2036 328,-2030 328,-2024 328,-2024 328,-2012 328,-2012 328,-2006 334,-2000 340,-2000 340,-2000 386,-2000 386,-2000 392,-2000 398,-2006 398,-2012 398,-2012 398,-2024 398,-2024 398,-2030 392,-2036 386,-2036\"/>\n<text text-anchor=\"middle\" x=\"363\" y=\"-2014.3\" font-family=\"Times New Roman,serif\" font-size=\"14.00\">Get Bowl</text>\n</g>\n<!-- delay27&#45;&gt;Get Bowl -->\n<g id=\"edge34\" class=\"edge\">\n<title>delay27&#45;&gt;Get Bowl</title>\n<path fill=\"none\" stroke=\"black\" d=\"M370.58,-2072.81C369.5,-2065.14 368.2,-2055.89 366.98,-2047.24\"/>\n<polygon fill=\"black\" stroke=\"black\" points=\"370.47,-2046.94 365.61,-2037.53 363.54,-2047.92 370.47,-2046.94\"/>\n</g>\n<!-- AndSplit29 -->\n<g id=\"node30\" class=\"node\">\n<title>AndSplit29</title>\n<polygon fill=\"none\" stroke=\"black\" points=\"342,-1963 315,-1945 342,-1927 369,-1945 342,-1963\"/>\n<text text-anchor=\"middle\" x=\"342\" y=\"-1941.3\" font-family=\"Times New Roman,serif\" font-size=\"14.00\">+</text>\n</g>\n<!-- Get Bowl&#45;&gt;AndSplit29 -->\n<g id=\"edge35\" class=\"edge\">\n<title>Get Bowl&#45;&gt;AndSplit29</title>\n<path fill=\"none\" stroke=\"black\" d=\"M357.92,-1999.81C355.4,-1991.29 352.3,-1980.84 349.52,-1971.41\"/>\n<polygon fill=\"black\" stroke=\"black\" points=\"352.95,-1970.68 346.76,-1962.08 346.24,-1972.66 352.95,-1970.68\"/>\n</g>\n<!-- TransformationNode 30 -->\n<g id=\"node31\" class=\"node\">\n<title>TransformationNode 30</title>\n<polygon fill=\"none\" stroke=\"black\" points=\"299,-1608 185.05,-1590 299,-1572 412.95,-1590 299,-1608\"/>\n<text text-anchor=\"middle\" x=\"299\" y=\"-1586.3\" font-family=\"Times New Roman,serif\" font-size=\"14.00\">T (fry if necessary)</text>\n</g>\n<!-- AndSplit29&#45;&gt;TransformationNode 30 -->\n<g id=\"edge38\" class=\"edge\">\n<title>AndSplit29&#45;&gt;TransformationNode 30</title>\n<path fill=\"none\" stroke=\"black\" d=\"M317.36,-1942.89C269.8,-1939.27 170,-1923.95 170,-1859 170,-1859 170,-1859 170,-1662 170,-1629.96 200.92,-1612.27 232.48,-1602.57\"/>\n<polygon fill=\"black\" stroke=\"black\" points=\"233.03,-1606.05 241.71,-1599.98 231.14,-1599.31 233.03,-1606.05\"/>\n<text text-anchor=\"middle\" x=\"173.5\" y=\"-1767.3\" font-family=\"Times New Roman,serif\" font-size=\"14.00\">2</text>\n</g>\n<!-- XorSplit 53 -->\n<g id=\"node54\" class=\"node\">\n<title>XorSplit 53</title>\n<polygon fill=\"none\" stroke=\"black\" points=\"327,-1876 198.14,-1858 327,-1840 455.86,-1858 327,-1876\"/>\n<text text-anchor=\"middle\" x=\"327\" y=\"-1854.3\" font-family=\"Times New Roman,serif\" font-size=\"14.00\">X (dish routing liquid)</text>\n</g>\n<!-- AndSplit29&#45;&gt;XorSplit 53 -->\n<g id=\"edge37\" class=\"edge\">\n<title>AndSplit29&#45;&gt;XorSplit 53</title>\n<path fill=\"none\" stroke=\"black\" d=\"M339.25,-1928.41C337.22,-1916.92 334.41,-1900.97 331.99,-1887.26\"/>\n<polygon fill=\"black\" stroke=\"black\" points=\"335.44,-1886.68 330.25,-1877.44 328.55,-1887.9 335.44,-1886.68\"/>\n<text text-anchor=\"middle\" x=\"339.5\" y=\"-1897.8\" font-family=\"Times New Roman,serif\" font-size=\"14.00\">1</text>\n</g>\n<!-- XorSplit 57 -->\n<g id=\"node58\" class=\"node\">\n<title>XorSplit 57</title>\n<polygon fill=\"none\" stroke=\"black\" points=\"597,-1876 473.67,-1858 597,-1840 720.33,-1858 597,-1876\"/>\n<text text-anchor=\"middle\" x=\"597\" y=\"-1854.3\" font-family=\"Times New Roman,serif\" font-size=\"14.00\">X (dish routing base)</text>\n</g>\n<!-- AndSplit29&#45;&gt;XorSplit 57 -->\n<g id=\"edge36\" class=\"edge\">\n<title>AndSplit29&#45;&gt;XorSplit 57</title>\n<path fill=\"none\" stroke=\"black\" d=\"M359.53,-1938.16C398.32,-1925.23 492.55,-1893.82 549.97,-1874.68\"/>\n<polygon fill=\"black\" stroke=\"black\" points=\"550.77,-1878.1 559.15,-1871.62 548.56,-1871.46 550.77,-1878.1\"/>\n<text text-anchor=\"middle\" x=\"488.5\" y=\"-1897.8\" font-family=\"Times New Roman,serif\" font-size=\"14.00\">0</text>\n</g>\n<!-- Batter Tempura -->\n<g id=\"node32\" class=\"node\">\n<title>Batter Tempura</title>\n<path fill=\"none\" stroke=\"black\" d=\"M339,-1521C339,-1521 259,-1521 259,-1521 253,-1521 247,-1515 247,-1509 247,-1509 247,-1497 247,-1497 247,-1491 253,-1485 259,-1485 259,-1485 339,-1485 339,-1485 345,-1485 351,-1491 351,-1497 351,-1497 351,-1509 351,-1509 351,-1515 345,-1521 339,-1521\"/>\n<text text-anchor=\"middle\" x=\"299\" y=\"-1499.3\" font-family=\"Times New Roman,serif\" font-size=\"14.00\">Batter Tempura</text>\n</g>\n<!-- TransformationNode 30&#45;&gt;Batter Tempura -->\n<g id=\"edge40\" class=\"edge\">\n<title>TransformationNode 30&#45;&gt;Batter Tempura</title>\n<path fill=\"none\" stroke=\"black\" d=\"M299,-1571.8C299,-1560.58 299,-1545.67 299,-1532.69\"/>\n<polygon fill=\"black\" stroke=\"black\" points=\"302.5,-1532.98 299,-1522.98 295.5,-1532.98 302.5,-1532.98\"/>\n<text text-anchor=\"middle\" x=\"302.5\" y=\"-1542.8\" font-family=\"Times New Roman,serif\" font-size=\"14.00\">1</text>\n</g>\n<!-- AndJoin51 -->\n<g id=\"node52\" class=\"node\">\n<title>AndJoin51</title>\n<polygon fill=\"none\" stroke=\"black\" points=\"488,-1361 461,-1343 488,-1325 515,-1343 488,-1361\"/>\n<text text-anchor=\"middle\" x=\"488\" y=\"-1339.3\" font-family=\"Times New Roman,serif\" font-size=\"14.00\">+</text>\n</g>\n<!-- TransformationNode 30&#45;&gt;AndJoin51 -->\n<g id=\"edge39\" class=\"edge\">\n<title>TransformationNode 30&#45;&gt;AndJoin51</title>\n<path fill=\"none\" stroke=\"black\" d=\"M313.99,-1574.09C326.95,-1560.8 345.8,-1540.48 360,-1521 403.07,-1461.94 394.83,-1433.99 443,-1379 449.51,-1371.57 457.79,-1364.61 465.46,-1358.88\"/>\n<polygon fill=\"black\" stroke=\"black\" points=\"467.31,-1361.86 473.45,-1353.23 463.27,-1356.15 467.31,-1361.86\"/>\n<text text-anchor=\"middle\" x=\"401.5\" y=\"-1455.8\" font-family=\"Times New Roman,serif\" font-size=\"14.00\">0</text>\n</g>\n<!-- Toss Tempura into Fryer -->\n<g id=\"node33\" class=\"node\">\n<title>Toss Tempura into Fryer</title>\n<path fill=\"none\" stroke=\"black\" d=\"M366,-1434C366,-1434 232,-1434 232,-1434 226,-1434 220,-1428 220,-1422 220,-1422 220,-1410 220,-1410 220,-1404 226,-1398 232,-1398 232,-1398 366,-1398 366,-1398 372,-1398 378,-1404 378,-1410 378,-1410 378,-1422 378,-1422 378,-1428 372,-1434 366,-1434\"/>\n<text text-anchor=\"middle\" x=\"299\" y=\"-1412.3\" font-family=\"Times New Roman,serif\" font-size=\"14.00\">Toss Tempura into Fryer</text>\n</g>\n<!-- Batter Tempura&#45;&gt;Toss Tempura into Fryer -->\n<g id=\"edge41\" class=\"edge\">\n<title>Batter Tempura&#45;&gt;Toss Tempura into Fryer</title>\n<path fill=\"none\" stroke=\"black\" d=\"M299,-1484.8C299,-1473.58 299,-1458.67 299,-1445.69\"/>\n<polygon fill=\"black\" stroke=\"black\" points=\"302.5,-1445.98 299,-1435.98 295.5,-1445.98 302.5,-1445.98\"/>\n</g>\n<!-- delay33 -->\n<g id=\"node34\" class=\"node\">\n<title>delay33</title>\n<polygon fill=\"none\" stroke=\"black\" points=\"326,-1361 272,-1361 272,-1325 326,-1325 326,-1361\"/>\n<text text-anchor=\"middle\" x=\"299\" y=\"-1339.3\" font-family=\"Times New Roman,serif\" font-size=\"14.00\">D</text>\n</g>\n<!-- Toss Tempura into Fryer&#45;&gt;delay33 -->\n<g id=\"edge42\" class=\"edge\">\n<title>Toss Tempura into Fryer&#45;&gt;delay33</title>\n<path fill=\"none\" stroke=\"black\" d=\"M299,-1397.81C299,-1390.23 299,-1381.1 299,-1372.54\"/>\n<polygon fill=\"black\" stroke=\"black\" points=\"302.5,-1372.54 299,-1362.54 295.5,-1372.54 302.5,-1372.54\"/>\n</g>\n<!-- Take out Tempura -->\n<g id=\"node35\" class=\"node\">\n<title>Take out Tempura</title>\n<path fill=\"none\" stroke=\"black\" d=\"M347,-1288C347,-1288 251,-1288 251,-1288 245,-1288 239,-1282 239,-1276 239,-1276 239,-1264 239,-1264 239,-1258 245,-1252 251,-1252 251,-1252 347,-1252 347,-1252 353,-1252 359,-1258 359,-1264 359,-1264 359,-1276 359,-1276 359,-1282 353,-1288 347,-1288\"/>\n<text text-anchor=\"middle\" x=\"299\" y=\"-1266.3\" font-family=\"Times New Roman,serif\" font-size=\"14.00\">Take out Tempura</text>\n</g>\n<!-- delay33&#45;&gt;Take out Tempura -->\n<g id=\"edge43\" class=\"edge\">\n<title>delay33&#45;&gt;Take out Tempura</title>\n<path fill=\"none\" stroke=\"black\" d=\"M299,-1324.81C299,-1317.23 299,-1308.1 299,-1299.54\"/>\n<polygon fill=\"black\" stroke=\"black\" points=\"302.5,-1299.54 299,-1289.54 295.5,-1299.54 302.5,-1299.54\"/>\n</g>\n<!-- SynchronizationNode 35 -->\n<g id=\"node36\" class=\"node\">\n<title>SynchronizationNode 35</title>\n<polygon fill=\"none\" stroke=\"black\" points=\"374,-1201 228.55,-1183 374,-1165 519.45,-1183 374,-1201\"/>\n<text text-anchor=\"middle\" x=\"374\" y=\"-1179.3\" font-family=\"Times New Roman,serif\" font-size=\"14.00\">S (tempura synchronizer)</text>\n</g>\n<!-- Take out Tempura&#45;&gt;SynchronizationNode 35 -->\n<g id=\"edge44\" class=\"edge\">\n<title>Take out Tempura&#45;&gt;SynchronizationNode 35</title>\n<path fill=\"none\" stroke=\"black\" d=\"M314.18,-1251.8C325.2,-1239.3 340.28,-1222.22 352.53,-1208.33\"/>\n<polygon fill=\"black\" stroke=\"black\" points=\"355.12,-1210.69 359.11,-1200.88 349.87,-1206.06 355.12,-1210.69\"/>\n</g>\n<!-- Add Tempura to Bowl -->\n<g id=\"node37\" class=\"node\">\n<title>Add Tempura to Bowl</title>\n<path fill=\"none\" stroke=\"black\" d=\"M488.5,-1114C488.5,-1114 369.5,-1114 369.5,-1114 363.5,-1114 357.5,-1108 357.5,-1102 357.5,-1102 357.5,-1090 357.5,-1090 357.5,-1084 363.5,-1078 369.5,-1078 369.5,-1078 488.5,-1078 488.5,-1078 494.5,-1078 500.5,-1084 500.5,-1090 500.5,-1090 500.5,-1102 500.5,-1102 500.5,-1108 494.5,-1114 488.5,-1114\"/>\n<text text-anchor=\"middle\" x=\"429\" y=\"-1092.3\" font-family=\"Times New Roman,serif\" font-size=\"14.00\">Add Tempura to Bowl</text>\n</g>\n<!-- SynchronizationNode 35&#45;&gt;Add Tempura to Bowl -->\n<g id=\"edge45\" class=\"edge\">\n<title>SynchronizationNode 35&#45;&gt;Add Tempura to Bowl</title>\n<path fill=\"none\" stroke=\"black\" d=\"M384.35,-1166.01C392.01,-1154.17 402.63,-1137.76 411.59,-1123.91\"/>\n<polygon fill=\"black\" stroke=\"black\" points=\"414.44,-1125.95 416.93,-1115.65 408.56,-1122.14 414.44,-1125.95\"/>\n<text text-anchor=\"middle\" x=\"408.5\" y=\"-1135.8\" font-family=\"Times New Roman,serif\" font-size=\"14.00\">0</text>\n</g>\n<!-- XorJoin37 -->\n<g id=\"node38\" class=\"node\">\n<title>XorJoin37</title>\n<polygon fill=\"none\" stroke=\"black\" points=\"547,-1041 520,-1023 547,-1005 574,-1023 547,-1041\"/>\n<text text-anchor=\"middle\" x=\"547\" y=\"-1019.3\" font-family=\"Times New Roman,serif\" font-size=\"14.00\">X</text>\n</g>\n<!-- Add Tempura to Bowl&#45;&gt;XorJoin37 -->\n<g id=\"edge46\" class=\"edge\">\n<title>Add Tempura to Bowl&#45;&gt;XorJoin37</title>\n<path fill=\"none\" stroke=\"black\" d=\"M457.87,-1077.63C478.04,-1065.49 504.63,-1049.49 523.51,-1038.14\"/>\n<polygon fill=\"black\" stroke=\"black\" points=\"525.3,-1041.14 532.07,-1032.99 521.69,-1035.14 525.3,-1041.14\"/>\n</g>\n<!-- Garnish Bowl with Scallions -->\n<g id=\"node39\" class=\"node\">\n<title>Garnish Bowl with Scallions</title>\n<path fill=\"none\" stroke=\"black\" d=\"M699,-968C699,-968 549,-968 549,-968 543,-968 537,-962 537,-956 537,-956 537,-944 537,-944 537,-938 543,-932 549,-932 549,-932 699,-932 699,-932 705,-932 711,-938 711,-944 711,-944 711,-956 711,-956 711,-962 705,-968 699,-968\"/>\n<text text-anchor=\"middle\" x=\"624\" y=\"-946.3\" font-family=\"Times New Roman,serif\" font-size=\"14.00\">Garnish Bowl with Scallions</text>\n</g>\n<!-- XorJoin37&#45;&gt;Garnish Bowl with Scallions -->\n<g id=\"edge47\" class=\"edge\">\n<title>XorJoin37&#45;&gt;Garnish Bowl with Scallions</title>\n<path fill=\"none\" stroke=\"black\" d=\"M558.03,-1011.83C568.13,-1002.52 583.49,-988.36 596.84,-976.04\"/>\n<polygon fill=\"black\" stroke=\"black\" points=\"599.16,-978.66 604.14,-969.31 594.42,-973.52 599.16,-978.66\"/>\n</g>\n<!-- tau39 -->\n<g id=\"node40\" class=\"node\">\n<title>tau39</title>\n<polygon fill=\"gray\" stroke=\"black\" points=\"662,-895 608,-895 608,-859 662,-859 662,-895\"/>\n<text text-anchor=\"middle\" x=\"635\" y=\"-873.3\" font-family=\"Times New Roman,serif\" font-size=\"14.00\">tau</text>\n</g>\n<!-- Garnish Bowl with Scallions&#45;&gt;tau39 -->\n<g id=\"edge48\" class=\"edge\">\n<title>Garnish Bowl with Scallions&#45;&gt;tau39</title>\n<path fill=\"none\" stroke=\"black\" d=\"M626.66,-931.81C627.85,-924.14 629.28,-914.89 630.62,-906.24\"/>\n<polygon fill=\"black\" stroke=\"black\" points=\"634.06,-906.94 632.13,-896.52 627.14,-905.87 634.06,-906.94\"/>\n</g>\n<!-- tau39&#45;&gt;SynchronizationNode 40 -->\n<g id=\"edge49\" class=\"edge\">\n<title>tau39&#45;&gt;SynchronizationNode 40</title>\n<path fill=\"none\" stroke=\"black\" d=\"M635.73,-858.81C636.05,-851.14 636.44,-841.89 636.81,-833.24\"/>\n<polygon fill=\"black\" stroke=\"black\" points=\"640.29,-833.68 637.22,-823.54 633.3,-833.38 640.29,-833.68\"/>\n</g>\n<!-- Serve Table Order -->\n<g id=\"node42\" class=\"node\">\n<title>Serve Table Order</title>\n<path fill=\"none\" stroke=\"black\" d=\"M686,-735C686,-735 590,-735 590,-735 584,-735 578,-729 578,-723 578,-723 578,-711 578,-711 578,-705 584,-699 590,-699 590,-699 686,-699 686,-699 692,-699 698,-705 698,-711 698,-711 698,-723 698,-723 698,-729 692,-735 686,-735\"/>\n<text text-anchor=\"middle\" x=\"638\" y=\"-713.3\" font-family=\"Times New Roman,serif\" font-size=\"14.00\">Serve Table Order</text>\n</g>\n<!-- SynchronizationNode 40&#45;&gt;Serve Table Order -->\n<g id=\"edge50\" class=\"edge\">\n<title>SynchronizationNode 40&#45;&gt;Serve Table Order</title>\n<path fill=\"none\" stroke=\"black\" d=\"M638,-785.8C638,-774.58 638,-759.67 638,-746.69\"/>\n<polygon fill=\"black\" stroke=\"black\" points=\"641.5,-746.98 638,-736.98 634.5,-746.98 641.5,-746.98\"/>\n<text text-anchor=\"middle\" x=\"641.5\" y=\"-756.8\" font-family=\"Times New Roman,serif\" font-size=\"14.00\">0</text>\n</g>\n<!-- TransformationNode 42 -->\n<g id=\"node43\" class=\"node\">\n<title>TransformationNode 42</title>\n<polygon fill=\"none\" stroke=\"black\" points=\"638,-662 527.9,-644 638,-626 748.1,-644 638,-662\"/>\n<text text-anchor=\"middle\" x=\"638\" y=\"-640.3\" font-family=\"Times New Roman,serif\" font-size=\"14.00\">T (eat dishes split)</text>\n</g>\n<!-- Serve Table Order&#45;&gt;TransformationNode 42 -->\n<g id=\"edge51\" class=\"edge\">\n<title>Serve Table Order&#45;&gt;TransformationNode 42</title>\n<path fill=\"none\" stroke=\"black\" d=\"M638,-698.81C638,-691.23 638,-682.1 638,-673.54\"/>\n<polygon fill=\"black\" stroke=\"black\" points=\"641.5,-673.54 638,-663.54 634.5,-673.54 641.5,-673.54\"/>\n</g>\n<!-- Customer Eats -->\n<g id=\"node44\" class=\"node\">\n<title>Customer Eats</title>\n<path fill=\"none\" stroke=\"black\" d=\"M640.5,-575C640.5,-575 565.5,-575 565.5,-575 559.5,-575 553.5,-569 553.5,-563 553.5,-563 553.5,-551 553.5,-551 553.5,-545 559.5,-539 565.5,-539 565.5,-539 640.5,-539 640.5,-539 646.5,-539 652.5,-545 652.5,-551 652.5,-551 652.5,-563 652.5,-563 652.5,-569 646.5,-575 640.5,-575\"/>\n<text text-anchor=\"middle\" x=\"603\" y=\"-553.3\" font-family=\"Times New Roman,serif\" font-size=\"14.00\">Customer Eats</text>\n</g>\n<!-- TransformationNode 42&#45;&gt;Customer Eats -->\n<g id=\"edge53\" class=\"edge\">\n<title>TransformationNode 42&#45;&gt;Customer Eats</title>\n<path fill=\"none\" stroke=\"black\" d=\"M631.25,-626.61C626.46,-614.96 619.9,-599.04 614.31,-585.47\"/>\n<polygon fill=\"black\" stroke=\"black\" points=\"617.71,-584.53 610.66,-576.61 611.24,-587.19 617.71,-584.53\"/>\n<text text-anchor=\"middle\" x=\"626.5\" y=\"-596.8\" font-family=\"Times New Roman,serif\" font-size=\"14.00\">1</text>\n</g>\n<!-- SynchronizationNode 44 -->\n<g id=\"node45\" class=\"node\">\n<title>SynchronizationNode 44</title>\n<polygon fill=\"none\" stroke=\"black\" points=\"643,-502 551.17,-484 643,-466 734.83,-484 643,-502\"/>\n<text text-anchor=\"middle\" x=\"643\" y=\"-480.3\" font-family=\"Times New Roman,serif\" font-size=\"14.00\">S (eating sync)</text>\n</g>\n<!-- TransformationNode 42&#45;&gt;SynchronizationNode 44 -->\n<g id=\"edge52\" class=\"edge\">\n<title>TransformationNode 42&#45;&gt;SynchronizationNode 44</title>\n<path fill=\"none\" stroke=\"black\" d=\"M645.12,-626.9C650.69,-613.35 657.99,-593.32 661,-575 663.6,-559.21 663.56,-554.79 661,-539 659.5,-529.78 656.66,-520 653.66,-511.33\"/>\n<polygon fill=\"black\" stroke=\"black\" points=\"657.01,-510.31 650.26,-502.15 650.45,-512.74 657.01,-510.31\"/>\n<text text-anchor=\"middle\" x=\"666.5\" y=\"-553.3\" font-family=\"Times New Roman,serif\" font-size=\"14.00\">0</text>\n</g>\n<!-- Customer Eats&#45;&gt;SynchronizationNode 44 -->\n<g id=\"edge54\" class=\"edge\">\n<title>Customer Eats&#45;&gt;SynchronizationNode 44</title>\n<path fill=\"none\" stroke=\"black\" d=\"M612.68,-538.81C617.45,-530.34 623.3,-519.96 628.59,-510.58\"/>\n<polygon fill=\"black\" stroke=\"black\" points=\"631.62,-512.32 633.48,-501.89 625.52,-508.89 631.62,-512.32\"/>\n</g>\n<!-- Customer Group Pays -->\n<g id=\"node46\" class=\"node\">\n<title>Customer Group Pays</title>\n<path fill=\"none\" stroke=\"black\" d=\"M702.5,-415C702.5,-415 583.5,-415 583.5,-415 577.5,-415 571.5,-409 571.5,-403 571.5,-403 571.5,-391 571.5,-391 571.5,-385 577.5,-379 583.5,-379 583.5,-379 702.5,-379 702.5,-379 708.5,-379 714.5,-385 714.5,-391 714.5,-391 714.5,-403 714.5,-403 714.5,-409 708.5,-415 702.5,-415\"/>\n<text text-anchor=\"middle\" x=\"643\" y=\"-393.3\" font-family=\"Times New Roman,serif\" font-size=\"14.00\">Customer Group Pays</text>\n</g>\n<!-- SynchronizationNode 44&#45;&gt;Customer Group Pays -->\n<g id=\"edge55\" class=\"edge\">\n<title>SynchronizationNode 44&#45;&gt;Customer Group Pays</title>\n<path fill=\"none\" stroke=\"black\" d=\"M643,-465.8C643,-454.58 643,-439.67 643,-426.69\"/>\n<polygon fill=\"black\" stroke=\"black\" points=\"646.5,-426.98 643,-416.98 639.5,-426.98 646.5,-426.98\"/>\n<text text-anchor=\"middle\" x=\"646.5\" y=\"-436.8\" font-family=\"Times New Roman,serif\" font-size=\"14.00\">0</text>\n</g>\n<!-- SynchronizationNode 46 -->\n<g id=\"node47\" class=\"node\">\n<title>SynchronizationNode 46</title>\n<polygon fill=\"none\" stroke=\"black\" points=\"643,-342 513.3,-324 643,-306 772.7,-324 643,-342\"/>\n<text text-anchor=\"middle\" x=\"643\" y=\"-320.3\" font-family=\"Times New Roman,serif\" font-size=\"14.00\">S (customers signaler)</text>\n</g>\n<!-- Customer Group Pays&#45;&gt;SynchronizationNode 46 -->\n<g id=\"edge56\" class=\"edge\">\n<title>Customer Group Pays&#45;&gt;SynchronizationNode 46</title>\n<path fill=\"none\" stroke=\"black\" d=\"M643,-378.81C643,-371.23 643,-362.1 643,-353.54\"/>\n<polygon fill=\"black\" stroke=\"black\" points=\"646.5,-353.54 643,-343.54 639.5,-353.54 646.5,-353.54\"/>\n</g>\n<!-- AndJoin47 -->\n<g id=\"node48\" class=\"node\">\n<title>AndJoin47</title>\n<polygon fill=\"none\" stroke=\"black\" points=\"722,-255 695,-237 722,-219 749,-237 722,-255\"/>\n<text text-anchor=\"middle\" x=\"722\" y=\"-233.3\" font-family=\"Times New Roman,serif\" font-size=\"14.00\">+</text>\n</g>\n<!-- SynchronizationNode 46&#45;&gt;AndJoin47 -->\n<g id=\"edge57\" class=\"edge\">\n<title>SynchronizationNode 46&#45;&gt;AndJoin47</title>\n<path fill=\"none\" stroke=\"black\" d=\"M657.12,-307.8C670.33,-293.59 690.1,-272.32 704.35,-256.99\"/>\n<polygon fill=\"black\" stroke=\"black\" points=\"706.73,-259.57 710.97,-249.87 701.6,-254.81 706.73,-259.57\"/>\n<text text-anchor=\"middle\" x=\"691.5\" y=\"-276.8\" font-family=\"Times New Roman,serif\" font-size=\"14.00\">0</text>\n</g>\n<!-- Customer Group Exits -->\n<g id=\"node49\" class=\"node\">\n<title>Customer Group Exits</title>\n<path fill=\"none\" stroke=\"black\" d=\"M781.5,-182C781.5,-182 662.5,-182 662.5,-182 656.5,-182 650.5,-176 650.5,-170 650.5,-170 650.5,-158 650.5,-158 650.5,-152 656.5,-146 662.5,-146 662.5,-146 781.5,-146 781.5,-146 787.5,-146 793.5,-152 793.5,-158 793.5,-158 793.5,-170 793.5,-170 793.5,-176 787.5,-182 781.5,-182\"/>\n<text text-anchor=\"middle\" x=\"722\" y=\"-160.3\" font-family=\"Times New Roman,serif\" font-size=\"14.00\">Customer Group Exits</text>\n</g>\n<!-- AndJoin47&#45;&gt;Customer Group Exits -->\n<g id=\"edge58\" class=\"edge\">\n<title>AndJoin47&#45;&gt;Customer Group Exits</title>\n<path fill=\"none\" stroke=\"black\" d=\"M722,-218.45C722,-210.97 722,-202.05 722,-193.65\"/>\n<polygon fill=\"black\" stroke=\"black\" points=\"725.5,-193.86 722,-183.86 718.5,-193.86 725.5,-193.86\"/>\n</g>\n<!-- tau49 -->\n<g id=\"node50\" class=\"node\">\n<title>tau49</title>\n<polygon fill=\"gray\" stroke=\"black\" points=\"749,-109 695,-109 695,-73 749,-73 749,-109\"/>\n<text text-anchor=\"middle\" x=\"722\" y=\"-87.3\" font-family=\"Times New Roman,serif\" font-size=\"14.00\">tau</text>\n</g>\n<!-- Customer Group Exits&#45;&gt;tau49 -->\n<g id=\"edge59\" class=\"edge\">\n<title>Customer Group Exits&#45;&gt;tau49</title>\n<path fill=\"none\" stroke=\"black\" d=\"M722,-145.81C722,-138.23 722,-129.1 722,-120.54\"/>\n<polygon fill=\"black\" stroke=\"black\" points=\"725.5,-120.54 722,-110.54 718.5,-120.54 725.5,-120.54\"/>\n</g>\n<!-- customers terminal -->\n<g id=\"node51\" class=\"node\">\n<title>customers terminal</title>\n<ellipse fill=\"none\" stroke=\"black\" cx=\"722\" cy=\"-18\" rx=\"79.09\" ry=\"18\"/>\n<text text-anchor=\"middle\" x=\"722\" y=\"-14.3\" font-family=\"Times New Roman,serif\" font-size=\"14.00\">customers terminal</text>\n</g>\n<!-- tau49&#45;&gt;customers terminal -->\n<g id=\"edge60\" class=\"edge\">\n<title>tau49&#45;&gt;customers terminal</title>\n<path fill=\"none\" stroke=\"black\" d=\"M722,-72.81C722,-65.23 722,-56.1 722,-47.54\"/>\n<polygon fill=\"black\" stroke=\"black\" points=\"725.5,-47.54 722,-37.54 718.5,-47.54 725.5,-47.54\"/>\n</g>\n<!-- XorSplit 52 -->\n<g id=\"node53\" class=\"node\">\n<title>XorSplit 52</title>\n<polygon fill=\"none\" stroke=\"black\" points=\"517,-1288 377.08,-1270 517,-1252 656.92,-1270 517,-1288\"/>\n<text text-anchor=\"middle\" x=\"517\" y=\"-1266.3\" font-family=\"Times New Roman,serif\" font-size=\"14.00\">X (dish routing topping)</text>\n</g>\n<!-- AndJoin51&#45;&gt;XorSplit 52 -->\n<g id=\"edge61\" class=\"edge\">\n<title>AndJoin51&#45;&gt;XorSplit 52</title>\n<path fill=\"none\" stroke=\"black\" d=\"M493.59,-1328.31C497.1,-1319.73 501.74,-1308.37 505.96,-1298.03\"/>\n<polygon fill=\"black\" stroke=\"black\" points=\"509.19,-1299.37 509.73,-1288.79 502.71,-1296.72 509.19,-1299.37\"/>\n</g>\n<!-- XorSplit 52&#45;&gt;SynchronizationNode 35 -->\n<g id=\"edge63\" class=\"edge\">\n<title>XorSplit 52&#45;&gt;SynchronizationNode 35</title>\n<path fill=\"none\" stroke=\"black\" d=\"M493.07,-1254.77C469.76,-1240.92 434.12,-1219.74 407.9,-1204.15\"/>\n<polygon fill=\"black\" stroke=\"black\" points=\"409.7,-1201.15 399.31,-1199.05 406.12,-1207.17 409.7,-1201.15\"/>\n<text text-anchor=\"middle\" x=\"458.5\" y=\"-1222.8\" font-family=\"Times New Roman,serif\" font-size=\"14.00\">1</text>\n</g>\n<!-- XorSplit 52&#45;&gt;XorJoin37 -->\n<g id=\"edge62\" class=\"edge\">\n<title>XorSplit 52&#45;&gt;XorJoin37</title>\n<path fill=\"none\" stroke=\"black\" d=\"M520.01,-1251.99C522.38,-1238.26 525.66,-1218.42 528,-1201 535.11,-1148.12 541.27,-1086.06 544.53,-1051.26\"/>\n<polygon fill=\"black\" stroke=\"black\" points=\"547.98,-1051.93 545.42,-1041.65 541.01,-1051.28 547.98,-1051.93\"/>\n<text text-anchor=\"middle\" x=\"540.5\" y=\"-1135.8\" font-family=\"Times New Roman,serif\" font-size=\"14.00\">0</text>\n</g>\n<!-- Add Curry to Bowl -->\n<g id=\"node55\" class=\"node\">\n<title>Add Curry to Bowl</title>\n<path fill=\"none\" stroke=\"black\" d=\"M353.5,-1789C353.5,-1789 252.5,-1789 252.5,-1789 246.5,-1789 240.5,-1783 240.5,-1777 240.5,-1777 240.5,-1765 240.5,-1765 240.5,-1759 246.5,-1753 252.5,-1753 252.5,-1753 353.5,-1753 353.5,-1753 359.5,-1753 365.5,-1759 365.5,-1765 365.5,-1765 365.5,-1777 365.5,-1777 365.5,-1783 359.5,-1789 353.5,-1789\"/>\n<text text-anchor=\"middle\" x=\"303\" y=\"-1767.3\" font-family=\"Times New Roman,serif\" font-size=\"14.00\">Add Curry to Bowl</text>\n</g>\n<!-- XorSplit 53&#45;&gt;Add Curry to Bowl -->\n<g id=\"edge65\" class=\"edge\">\n<title>XorSplit 53&#45;&gt;Add Curry to Bowl</title>\n<path fill=\"none\" stroke=\"black\" d=\"M322.26,-1840.21C319.05,-1828.83 314.72,-1813.52 310.99,-1800.29\"/>\n<polygon fill=\"black\" stroke=\"black\" points=\"314.39,-1799.47 308.31,-1790.8 307.66,-1801.37 314.39,-1799.47\"/>\n<text text-anchor=\"middle\" x=\"320.5\" y=\"-1810.8\" font-family=\"Times New Roman,serif\" font-size=\"14.00\">1</text>\n</g>\n<!-- Add Dashi to Bowl -->\n<g id=\"node57\" class=\"node\">\n<title>Add Dashi to Bowl</title>\n<path fill=\"none\" stroke=\"black\" d=\"M496.5,-1789C496.5,-1789 395.5,-1789 395.5,-1789 389.5,-1789 383.5,-1783 383.5,-1777 383.5,-1777 383.5,-1765 383.5,-1765 383.5,-1759 389.5,-1753 395.5,-1753 395.5,-1753 496.5,-1753 496.5,-1753 502.5,-1753 508.5,-1759 508.5,-1765 508.5,-1765 508.5,-1777 508.5,-1777 508.5,-1783 502.5,-1789 496.5,-1789\"/>\n<text text-anchor=\"middle\" x=\"446\" y=\"-1767.3\" font-family=\"Times New Roman,serif\" font-size=\"14.00\">Add Dashi to Bowl</text>\n</g>\n<!-- XorSplit 53&#45;&gt;Add Dashi to Bowl -->\n<g id=\"edge64\" class=\"edge\">\n<title>XorSplit 53&#45;&gt;Add Dashi to Bowl</title>\n<path fill=\"none\" stroke=\"black\" d=\"M347.46,-1842.39C365.32,-1829.63 391.59,-1810.86 412.52,-1795.92\"/>\n<polygon fill=\"black\" stroke=\"black\" points=\"414.37,-1798.89 420.48,-1790.23 410.3,-1793.2 414.37,-1798.89\"/>\n<text text-anchor=\"middle\" x=\"397.5\" y=\"-1810.8\" font-family=\"Times New Roman,serif\" font-size=\"14.00\">0</text>\n</g>\n<!-- XorJoin55 -->\n<g id=\"node56\" class=\"node\">\n<title>XorJoin55</title>\n<polygon fill=\"none\" stroke=\"black\" points=\"446,-1681 419,-1663 446,-1645 473,-1663 446,-1681\"/>\n<text text-anchor=\"middle\" x=\"446\" y=\"-1659.3\" font-family=\"Times New Roman,serif\" font-size=\"14.00\">X</text>\n</g>\n<!-- Add Curry to Bowl&#45;&gt;XorJoin55 -->\n<g id=\"edge66\" class=\"edge\">\n<title>Add Curry to Bowl&#45;&gt;XorJoin55</title>\n<path fill=\"none\" stroke=\"black\" d=\"M326.29,-1752.73C353.52,-1732.55 398.21,-1699.43 424.6,-1679.86\"/>\n<polygon fill=\"black\" stroke=\"black\" points=\"426.58,-1682.76 432.52,-1673.99 422.41,-1677.13 426.58,-1682.76\"/>\n</g>\n<!-- XorJoin55&#45;&gt;AndJoin51 -->\n<g id=\"edge67\" class=\"edge\">\n<title>XorJoin55&#45;&gt;AndJoin51</title>\n<path fill=\"none\" stroke=\"black\" d=\"M449.66,-1647.14C452.86,-1632.85 457,-1610.58 457,-1591 457,-1591 457,-1591 457,-1415 457,-1396.99 465.48,-1378.4 473.57,-1364.76\"/>\n<polygon fill=\"black\" stroke=\"black\" points=\"476.3,-1366.98 478.72,-1356.67 470.4,-1363.23 476.3,-1366.98\"/>\n</g>\n<!-- Add Dashi to Bowl&#45;&gt;XorJoin55 -->\n<g id=\"edge68\" class=\"edge\">\n<title>Add Dashi to Bowl&#45;&gt;XorJoin55</title>\n<path fill=\"none\" stroke=\"black\" d=\"M446,-1752.97C446,-1736.76 446,-1712.06 446,-1692.79\"/>\n<polygon fill=\"black\" stroke=\"black\" points=\"449.5,-1692.85 446,-1682.85 442.5,-1692.85 449.5,-1692.85\"/>\n</g>\n<!-- Add Rice to Bowl -->\n<g id=\"node59\" class=\"node\">\n<title>Add Rice to Bowl</title>\n<path fill=\"none\" stroke=\"black\" d=\"M577.5,-1735C577.5,-1735 482.5,-1735 482.5,-1735 476.5,-1735 470.5,-1729 470.5,-1723 470.5,-1723 470.5,-1711 470.5,-1711 470.5,-1705 476.5,-1699 482.5,-1699 482.5,-1699 577.5,-1699 577.5,-1699 583.5,-1699 589.5,-1705 589.5,-1711 589.5,-1711 589.5,-1723 589.5,-1723 589.5,-1729 583.5,-1735 577.5,-1735\"/>\n<text text-anchor=\"middle\" x=\"530\" y=\"-1713.3\" font-family=\"Times New Roman,serif\" font-size=\"14.00\">Add Rice to Bowl</text>\n</g>\n<!-- XorSplit 57&#45;&gt;Add Rice to Bowl -->\n<g id=\"edge70\" class=\"edge\">\n<title>XorSplit 57&#45;&gt;Add Rice to Bowl</title>\n<path fill=\"none\" stroke=\"black\" d=\"M586.33,-1841.27C577.48,-1827.79 564.93,-1807.65 556,-1789 549.42,-1775.27 543.46,-1759.4 538.92,-1746.15\"/>\n<polygon fill=\"black\" stroke=\"black\" points=\"542.26,-1745.12 535.78,-1736.74 535.62,-1747.33 542.26,-1745.12\"/>\n<text text-anchor=\"middle\" x=\"577.5\" y=\"-1810.8\" font-family=\"Times New Roman,serif\" font-size=\"14.00\">1</text>\n</g>\n<!-- Add Udon to Pot -->\n<g id=\"node61\" class=\"node\">\n<title>Add Udon to Pot</title>\n<path fill=\"none\" stroke=\"black\" d=\"M668.5,-1789C668.5,-1789 577.5,-1789 577.5,-1789 571.5,-1789 565.5,-1783 565.5,-1777 565.5,-1777 565.5,-1765 565.5,-1765 565.5,-1759 571.5,-1753 577.5,-1753 577.5,-1753 668.5,-1753 668.5,-1753 674.5,-1753 680.5,-1759 680.5,-1765 680.5,-1765 680.5,-1777 680.5,-1777 680.5,-1783 674.5,-1789 668.5,-1789\"/>\n<text text-anchor=\"middle\" x=\"623\" y=\"-1767.3\" font-family=\"Times New Roman,serif\" font-size=\"14.00\">Add Udon to Pot</text>\n</g>\n<!-- XorSplit 57&#45;&gt;Add Udon to Pot -->\n<g id=\"edge69\" class=\"edge\">\n<title>XorSplit 57&#45;&gt;Add Udon to Pot</title>\n<path fill=\"none\" stroke=\"black\" d=\"M602.01,-1840.61C605.54,-1829.08 610.35,-1813.36 614.47,-1799.87\"/>\n<polygon fill=\"black\" stroke=\"black\" points=\"617.71,-1801.25 617.29,-1790.66 611.02,-1799.2 617.71,-1801.25\"/>\n<text text-anchor=\"middle\" x=\"615.5\" y=\"-1810.8\" font-family=\"Times New Roman,serif\" font-size=\"14.00\">0</text>\n</g>\n<!-- XorJoin59 -->\n<g id=\"node60\" class=\"node\">\n<title>XorJoin59</title>\n<polygon fill=\"none\" stroke=\"black\" points=\"523,-1434 496,-1416 523,-1398 550,-1416 523,-1434\"/>\n<text text-anchor=\"middle\" x=\"523\" y=\"-1412.3\" font-family=\"Times New Roman,serif\" font-size=\"14.00\">X</text>\n</g>\n<!-- Add Rice to Bowl&#45;&gt;XorJoin59 -->\n<g id=\"edge71\" class=\"edge\">\n<title>Add Rice to Bowl&#45;&gt;XorJoin59</title>\n<path fill=\"none\" stroke=\"black\" d=\"M527.82,-1698.64C525.77,-1680.72 523,-1651.95 523,-1627 523,-1627 523,-1627 523,-1502 523,-1483.24 523,-1462.15 523,-1445.67\"/>\n<polygon fill=\"black\" stroke=\"black\" points=\"526.5,-1446.1 523,-1436.1 519.5,-1446.1 526.5,-1446.1\"/>\n</g>\n<!-- XorJoin59&#45;&gt;AndJoin51 -->\n<g id=\"edge72\" class=\"edge\">\n<title>XorJoin59&#45;&gt;AndJoin51</title>\n<path fill=\"none\" stroke=\"black\" d=\"M516.58,-1401.98C511.79,-1392.27 505.13,-1378.75 499.44,-1367.21\"/>\n<polygon fill=\"black\" stroke=\"black\" points=\"502.61,-1365.72 495.05,-1358.3 496.33,-1368.81 502.61,-1365.72\"/>\n</g>\n<!-- delay61 -->\n<g id=\"node62\" class=\"node\">\n<title>delay61</title>\n<polygon fill=\"none\" stroke=\"black\" points=\"650,-1681 596,-1681 596,-1645 650,-1645 650,-1681\"/>\n<text text-anchor=\"middle\" x=\"623\" y=\"-1659.3\" font-family=\"Times New Roman,serif\" font-size=\"14.00\">D</text>\n</g>\n<!-- Add Udon to Pot&#45;&gt;delay61 -->\n<g id=\"edge73\" class=\"edge\">\n<title>Add Udon to Pot&#45;&gt;delay61</title>\n<path fill=\"none\" stroke=\"black\" d=\"M623,-1752.97C623,-1736.76 623,-1712.06 623,-1692.79\"/>\n<polygon fill=\"black\" stroke=\"black\" points=\"626.5,-1692.85 623,-1682.85 619.5,-1692.85 626.5,-1692.85\"/>\n</g>\n<!-- Strain and Wash Udon -->\n<g id=\"node63\" class=\"node\">\n<title>Strain and Wash Udon</title>\n<path fill=\"none\" stroke=\"black\" d=\"M683,-1608C683,-1608 563,-1608 563,-1608 557,-1608 551,-1602 551,-1596 551,-1596 551,-1584 551,-1584 551,-1578 557,-1572 563,-1572 563,-1572 683,-1572 683,-1572 689,-1572 695,-1578 695,-1584 695,-1584 695,-1596 695,-1596 695,-1602 689,-1608 683,-1608\"/>\n<text text-anchor=\"middle\" x=\"623\" y=\"-1586.3\" font-family=\"Times New Roman,serif\" font-size=\"14.00\">Strain and Wash Udon</text>\n</g>\n<!-- delay61&#45;&gt;Strain and Wash Udon -->\n<g id=\"edge74\" class=\"edge\">\n<title>delay61&#45;&gt;Strain and Wash Udon</title>\n<path fill=\"none\" stroke=\"black\" d=\"M623,-1644.81C623,-1637.23 623,-1628.1 623,-1619.54\"/>\n<polygon fill=\"black\" stroke=\"black\" points=\"626.5,-1619.54 623,-1609.54 619.5,-1619.54 626.5,-1619.54\"/>\n</g>\n<!-- Add Udon to Bowl -->\n<g id=\"node64\" class=\"node\">\n<title>Add Udon to Bowl</title>\n<path fill=\"none\" stroke=\"black\" d=\"M667.5,-1521C667.5,-1521 566.5,-1521 566.5,-1521 560.5,-1521 554.5,-1515 554.5,-1509 554.5,-1509 554.5,-1497 554.5,-1497 554.5,-1491 560.5,-1485 566.5,-1485 566.5,-1485 667.5,-1485 667.5,-1485 673.5,-1485 679.5,-1491 679.5,-1497 679.5,-1497 679.5,-1509 679.5,-1509 679.5,-1515 673.5,-1521 667.5,-1521\"/>\n<text text-anchor=\"middle\" x=\"617\" y=\"-1499.3\" font-family=\"Times New Roman,serif\" font-size=\"14.00\">Add Udon to Bowl</text>\n</g>\n<!-- Strain and Wash Udon&#45;&gt;Add Udon to Bowl -->\n<g id=\"edge75\" class=\"edge\">\n<title>Strain and Wash Udon&#45;&gt;Add Udon to Bowl</title>\n<path fill=\"none\" stroke=\"black\" d=\"M621.79,-1571.8C620.99,-1560.58 619.94,-1545.67 619.02,-1532.69\"/>\n<polygon fill=\"black\" stroke=\"black\" points=\"622.54,-1532.71 618.34,-1522.98 615.55,-1533.2 622.54,-1532.71\"/>\n</g>\n<!-- Add Udon to Bowl&#45;&gt;XorJoin59 -->\n<g id=\"edge76\" class=\"edge\">\n<title>Add Udon to Bowl&#45;&gt;XorJoin59</title>\n<path fill=\"none\" stroke=\"black\" d=\"M597.98,-1484.8C581.77,-1470.15 558.59,-1449.18 542.31,-1434.46\"/>\n<polygon fill=\"black\" stroke=\"black\" points=\"544.94,-1432.12 535.18,-1428.01 540.25,-1437.32 544.94,-1432.12\"/>\n</g>\n<!-- Customer Group Occupies Table&#45;&gt;AndJoin47 -->\n<g id=\"edge77\" class=\"edge\">\n<title>Customer Group Occupies Table&#45;&gt;AndJoin47</title>\n<path fill=\"none\" stroke=\"black\" d=\"M801,-2589.74C801,-2568.76 801,-2532.28 801,-2501 801,-2501 801,-2501 801,-323 801,-290.53 769.69,-265.26 746.5,-250.99\"/>\n<polygon fill=\"black\" stroke=\"black\" points=\"748.57,-248.15 738.17,-246.15 745.06,-254.2 748.57,-248.15\"/>\n</g>\n<!-- customers -->\n<g id=\"node66\" class=\"node\">\n<title>customers</title>\n<ellipse fill=\"none\" stroke=\"black\" cx=\"831\" cy=\"-3003\" rx=\"48.19\" ry=\"18\"/>\n<text text-anchor=\"middle\" x=\"831\" y=\"-2999.3\" font-family=\"Times New Roman,serif\" font-size=\"14.00\">customers</text>\n</g>\n<!-- customers&#45;&gt;tau18 -->\n<g id=\"edge78\" class=\"edge\">\n<title>customers&#45;&gt;tau18</title>\n<path fill=\"none\" stroke=\"black\" d=\"M820.57,-2985.17C815.59,-2977.13 809.49,-2967.3 803.87,-2958.23\"/>\n<polygon fill=\"black\" stroke=\"black\" points=\"806.85,-2956.39 798.61,-2949.73 800.9,-2960.08 806.85,-2956.39\"/>\n</g>\n<!-- opening -->\n<g id=\"node67\" class=\"node\">\n<title>opening</title>\n<ellipse fill=\"none\" stroke=\"black\" cx=\"976\" cy=\"-3003\" rx=\"39.79\" ry=\"18\"/>\n<text text-anchor=\"middle\" x=\"976\" y=\"-2999.3\" font-family=\"Times New Roman,serif\" font-size=\"14.00\">opening</text>\n</g>\n<!-- tau67 -->\n<g id=\"node68\" class=\"node\">\n<title>tau67</title>\n<polygon fill=\"gray\" stroke=\"black\" points=\"1042,-2948 988,-2948 988,-2912 1042,-2912 1042,-2948\"/>\n<text text-anchor=\"middle\" x=\"1015\" y=\"-2926.3\" font-family=\"Times New Roman,serif\" font-size=\"14.00\">tau</text>\n</g>\n<!-- opening&#45;&gt;tau67 -->\n<g id=\"edge79\" class=\"edge\">\n<title>opening&#45;&gt;tau67</title>\n<path fill=\"none\" stroke=\"black\" d=\"M985.24,-2985.17C989.61,-2977.22 994.95,-2967.51 999.88,-2958.52\"/>\n<polygon fill=\"black\" stroke=\"black\" points=\"1002.94,-2960.22 1004.69,-2949.77 996.81,-2956.85 1002.94,-2960.22\"/>\n</g>\n<!-- XorSplit 68 -->\n<g id=\"node69\" class=\"node\">\n<title>XorSplit 68</title>\n<polygon fill=\"none\" stroke=\"black\" points=\"1015,-2875 913.79,-2857 1015,-2839 1116.21,-2857 1015,-2875\"/>\n<text text-anchor=\"middle\" x=\"1015\" y=\"-2853.3\" font-family=\"Times New Roman,serif\" font-size=\"14.00\">X (store routing)</text>\n</g>\n<!-- tau67&#45;&gt;XorSplit 68 -->\n<g id=\"edge80\" class=\"edge\">\n<title>tau67&#45;&gt;XorSplit 68</title>\n<path fill=\"none\" stroke=\"black\" d=\"M1015,-2911.81C1015,-2904.23 1015,-2895.1 1015,-2886.54\"/>\n<polygon fill=\"black\" stroke=\"black\" points=\"1018.5,-2886.54 1015,-2876.54 1011.5,-2886.54 1018.5,-2886.54\"/>\n</g>\n<!-- Close for Business -->\n<g id=\"node70\" class=\"node\">\n<title>Close for Business</title>\n<path fill=\"none\" stroke=\"black\" d=\"M1022,-2788C1022,-2788 924,-2788 924,-2788 918,-2788 912,-2782 912,-2776 912,-2776 912,-2764 912,-2764 912,-2758 918,-2752 924,-2752 924,-2752 1022,-2752 1022,-2752 1028,-2752 1034,-2758 1034,-2764 1034,-2764 1034,-2776 1034,-2776 1034,-2782 1028,-2788 1022,-2788\"/>\n<text text-anchor=\"middle\" x=\"973\" y=\"-2766.3\" font-family=\"Times New Roman,serif\" font-size=\"14.00\">Close for Business</text>\n</g>\n<!-- XorSplit 68&#45;&gt;Close for Business -->\n<g id=\"edge82\" class=\"edge\">\n<title>XorSplit 68&#45;&gt;Close for Business</title>\n<path fill=\"none\" stroke=\"black\" d=\"M1007.1,-2840.01C1001.31,-2828.29 993.3,-2812.08 986.5,-2798.31\"/>\n<polygon fill=\"black\" stroke=\"black\" points=\"989.83,-2797.15 982.26,-2789.74 983.55,-2800.25 989.83,-2797.15\"/>\n<text text-anchor=\"middle\" x=\"1000.5\" y=\"-2809.8\" font-family=\"Times New Roman,serif\" font-size=\"14.00\">1</text>\n</g>\n<!-- Open Store -->\n<g id=\"node75\" class=\"node\">\n<title>Open Store</title>\n<path fill=\"none\" stroke=\"black\" d=\"M1121.5,-2788C1121.5,-2788 1064.5,-2788 1064.5,-2788 1058.5,-2788 1052.5,-2782 1052.5,-2776 1052.5,-2776 1052.5,-2764 1052.5,-2764 1052.5,-2758 1058.5,-2752 1064.5,-2752 1064.5,-2752 1121.5,-2752 1121.5,-2752 1127.5,-2752 1133.5,-2758 1133.5,-2764 1133.5,-2764 1133.5,-2776 1133.5,-2776 1133.5,-2782 1127.5,-2788 1121.5,-2788\"/>\n<text text-anchor=\"middle\" x=\"1093\" y=\"-2766.3\" font-family=\"Times New Roman,serif\" font-size=\"14.00\">Open Store</text>\n</g>\n<!-- XorSplit 68&#45;&gt;Open Store -->\n<g id=\"edge81\" class=\"edge\">\n<title>XorSplit 68&#45;&gt;Open Store</title>\n<path fill=\"none\" stroke=\"black\" d=\"M1028.59,-2841.19C1039.9,-2828.87 1056.26,-2811.04 1069.66,-2796.43\"/>\n<polygon fill=\"black\" stroke=\"black\" points=\"1071.95,-2799.12 1076.13,-2789.39 1066.79,-2794.39 1071.95,-2799.12\"/>\n<text text-anchor=\"middle\" x=\"1062.5\" y=\"-2809.8\" font-family=\"Times New Roman,serif\" font-size=\"14.00\">0</text>\n</g>\n<!-- Cleanup Store -->\n<g id=\"node71\" class=\"node\">\n<title>Cleanup Store</title>\n<path fill=\"none\" stroke=\"black\" d=\"M1009,-2680C1009,-2680 937,-2680 937,-2680 931,-2680 925,-2674 925,-2668 925,-2668 925,-2656 925,-2656 925,-2650 931,-2644 937,-2644 937,-2644 1009,-2644 1009,-2644 1015,-2644 1021,-2650 1021,-2656 1021,-2656 1021,-2668 1021,-2668 1021,-2674 1015,-2680 1009,-2680\"/>\n<text text-anchor=\"middle\" x=\"973\" y=\"-2658.3\" font-family=\"Times New Roman,serif\" font-size=\"14.00\">Cleanup Store</text>\n</g>\n<!-- Close for Business&#45;&gt;Cleanup Store -->\n<g id=\"edge83\" class=\"edge\">\n<title>Close for Business&#45;&gt;Cleanup Store</title>\n<path fill=\"none\" stroke=\"black\" d=\"M973,-2751.97C973,-2735.76 973,-2711.06 973,-2691.79\"/>\n<polygon fill=\"black\" stroke=\"black\" points=\"976.5,-2691.85 973,-2681.85 969.5,-2691.85 976.5,-2691.85\"/>\n</g>\n<!-- Close Store -->\n<g id=\"node72\" class=\"node\">\n<title>Close Store</title>\n<path fill=\"none\" stroke=\"black\" d=\"M1002.5,-2572C1002.5,-2572 943.5,-2572 943.5,-2572 937.5,-2572 931.5,-2566 931.5,-2560 931.5,-2560 931.5,-2548 931.5,-2548 931.5,-2542 937.5,-2536 943.5,-2536 943.5,-2536 1002.5,-2536 1002.5,-2536 1008.5,-2536 1014.5,-2542 1014.5,-2548 1014.5,-2548 1014.5,-2560 1014.5,-2560 1014.5,-2566 1008.5,-2572 1002.5,-2572\"/>\n<text text-anchor=\"middle\" x=\"973\" y=\"-2550.3\" font-family=\"Times New Roman,serif\" font-size=\"14.00\">Close Store</text>\n</g>\n<!-- Cleanup Store&#45;&gt;Close Store -->\n<g id=\"edge84\" class=\"edge\">\n<title>Cleanup Store&#45;&gt;Close Store</title>\n<path fill=\"none\" stroke=\"black\" d=\"M973,-2643.97C973,-2627.76 973,-2603.06 973,-2583.79\"/>\n<polygon fill=\"black\" stroke=\"black\" points=\"976.5,-2583.85 973,-2573.85 969.5,-2583.85 976.5,-2583.85\"/>\n</g>\n<!-- tau72 -->\n<g id=\"node73\" class=\"node\">\n<title>tau72</title>\n<polygon fill=\"gray\" stroke=\"black\" points=\"1060,-2464 1006,-2464 1006,-2428 1060,-2428 1060,-2464\"/>\n<text text-anchor=\"middle\" x=\"1033\" y=\"-2442.3\" font-family=\"Times New Roman,serif\" font-size=\"14.00\">tau</text>\n</g>\n<!-- Close Store&#45;&gt;tau72 -->\n<g id=\"edge85\" class=\"edge\">\n<title>Close Store&#45;&gt;tau72</title>\n<path fill=\"none\" stroke=\"black\" d=\"M982.64,-2535.97C992.07,-2519.3 1006.6,-2493.65 1017.63,-2474.16\"/>\n<polygon fill=\"black\" stroke=\"black\" points=\"1020.56,-2476.08 1022.44,-2465.66 1014.47,-2472.64 1020.56,-2476.08\"/>\n</g>\n<!-- store terminal -->\n<g id=\"node74\" class=\"node\">\n<title>store terminal</title>\n<ellipse fill=\"none\" stroke=\"black\" cx=\"1033\" cy=\"-2338\" rx=\"59.59\" ry=\"18\"/>\n<text text-anchor=\"middle\" x=\"1033\" y=\"-2334.3\" font-family=\"Times New Roman,serif\" font-size=\"14.00\">store terminal</text>\n</g>\n<!-- tau72&#45;&gt;store terminal -->\n<g id=\"edge86\" class=\"edge\">\n<title>tau72&#45;&gt;store terminal</title>\n<path fill=\"none\" stroke=\"black\" d=\"M1033,-2427.97C1033,-2411.76 1033,-2387.06 1033,-2367.79\"/>\n<polygon fill=\"black\" stroke=\"black\" points=\"1036.5,-2367.85 1033,-2357.85 1029.5,-2367.85 1036.5,-2367.85\"/>\n</g>\n<!-- Setup Store -->\n<g id=\"node76\" class=\"node\">\n<title>Setup Store</title>\n<path fill=\"none\" stroke=\"black\" d=\"M1122.5,-2680C1122.5,-2680 1063.5,-2680 1063.5,-2680 1057.5,-2680 1051.5,-2674 1051.5,-2668 1051.5,-2668 1051.5,-2656 1051.5,-2656 1051.5,-2650 1057.5,-2644 1063.5,-2644 1063.5,-2644 1122.5,-2644 1122.5,-2644 1128.5,-2644 1134.5,-2650 1134.5,-2656 1134.5,-2656 1134.5,-2668 1134.5,-2668 1134.5,-2674 1128.5,-2680 1122.5,-2680\"/>\n<text text-anchor=\"middle\" x=\"1093\" y=\"-2658.3\" font-family=\"Times New Roman,serif\" font-size=\"14.00\">Setup Store</text>\n</g>\n<!-- Open Store&#45;&gt;Setup Store -->\n<g id=\"edge87\" class=\"edge\">\n<title>Open Store&#45;&gt;Setup Store</title>\n<path fill=\"none\" stroke=\"black\" d=\"M1093,-2751.97C1093,-2735.76 1093,-2711.06 1093,-2691.79\"/>\n<polygon fill=\"black\" stroke=\"black\" points=\"1096.5,-2691.85 1093,-2681.85 1089.5,-2691.85 1096.5,-2691.85\"/>\n</g>\n<!-- Open for Business -->\n<g id=\"node77\" class=\"node\">\n<title>Open for Business</title>\n<path fill=\"none\" stroke=\"black\" d=\"M1141.5,-2572C1141.5,-2572 1044.5,-2572 1044.5,-2572 1038.5,-2572 1032.5,-2566 1032.5,-2560 1032.5,-2560 1032.5,-2548 1032.5,-2548 1032.5,-2542 1038.5,-2536 1044.5,-2536 1044.5,-2536 1141.5,-2536 1141.5,-2536 1147.5,-2536 1153.5,-2542 1153.5,-2548 1153.5,-2548 1153.5,-2560 1153.5,-2560 1153.5,-2566 1147.5,-2572 1141.5,-2572\"/>\n<text text-anchor=\"middle\" x=\"1093\" y=\"-2550.3\" font-family=\"Times New Roman,serif\" font-size=\"14.00\">Open for Business</text>\n</g>\n<!-- Setup Store&#45;&gt;Open for Business -->\n<g id=\"edge88\" class=\"edge\">\n<title>Setup Store&#45;&gt;Open for Business</title>\n<path fill=\"none\" stroke=\"black\" d=\"M1093,-2643.97C1093,-2627.76 1093,-2603.06 1093,-2583.79\"/>\n<polygon fill=\"black\" stroke=\"black\" points=\"1096.5,-2583.85 1093,-2573.85 1089.5,-2583.85 1096.5,-2583.85\"/>\n</g>\n<!-- Open for Business&#45;&gt;tau72 -->\n<g id=\"edge89\" class=\"edge\">\n<title>Open for Business&#45;&gt;tau72</title>\n<path fill=\"none\" stroke=\"black\" d=\"M1083.36,-2535.97C1073.93,-2519.3 1059.4,-2493.65 1048.37,-2474.16\"/>\n<polygon fill=\"black\" stroke=\"black\" points=\"1051.53,-2472.64 1043.56,-2465.66 1045.44,-2476.08 1051.53,-2472.64\"/>\n</g>\n<!-- closing -->\n<g id=\"node78\" class=\"node\">\n<title>closing</title>\n<ellipse fill=\"none\" stroke=\"black\" cx=\"1070\" cy=\"-3003\" rx=\"36.29\" ry=\"18\"/>\n<text text-anchor=\"middle\" x=\"1070\" y=\"-2999.3\" font-family=\"Times New Roman,serif\" font-size=\"14.00\">closing</text>\n</g>\n<!-- closing&#45;&gt;tau67 -->\n<g id=\"edge90\" class=\"edge\">\n<title>closing&#45;&gt;tau67</title>\n<path fill=\"none\" stroke=\"black\" d=\"M1057.52,-2985.89C1050.89,-2977.33 1042.58,-2966.61 1035.07,-2956.91\"/>\n<polygon fill=\"black\" stroke=\"black\" points=\"1038.02,-2955 1029.12,-2949.23 1032.48,-2959.28 1038.02,-2955\"/>\n</g>\n</g>\n</svg>\n",
      "text/plain": "<graphviz.graphs.Digraph at 0x25bb1d75a90>"
     },
     "execution_count": 28,
     "metadata": {},
     "output_type": "execute_result"
    }
   ],
   "source": [
    "gv = visualize_sim_graph(sg, extended_node_labels=True, extended_edge_labels=True)\n",
    "viz.save(gv, f'models/{log_name}')\n",
    "gv"
   ],
   "metadata": {
    "collapsed": false,
    "ExecuteTime": {
     "start_time": "2023-04-13T09:11:53.312856Z",
     "end_time": "2023-04-13T09:11:53.638844Z"
    }
   }
  },
  {
   "cell_type": "code",
   "execution_count": 29,
   "outputs": [
    {
     "data": {
      "text/plain": "({'Udon is Cooking': <qprsim.model.sim_graph.DelayNode at 0x25bd7c87a90>,\n  'Tempura is Frying': <qprsim.model.sim_graph.DelayNode at 0x25bb1cc1c90>,\n  'make dish callout': <qprsim.model.sim_graph.DelayNode at 0x25bb1d1bb90>,\n  'fry if necessary': <qprsim.model.sim_graph.TransformationNode at 0x25bb1d1b690>,\n  'tempura synchronizer': <qprsim.model.sim_graph.SynchronizationNode at 0x25bb1b58050>,\n  'customers syncer': <qprsim.model.sim_graph.SynchronizationNode at 0x25bb1d24150>,\n  'customers signaler': <qprsim.model.sim_graph.SynchronizationNode at 0x25bb1d23a10>,\n  'make dishes split': <qprsim.model.sim_graph.TransformationNode at 0x25bb1d23b90>,\n  'order sync': <qprsim.model.sim_graph.SynchronizationNode at 0x25bb1d23cd0>,\n  'eat dishes split': <qprsim.model.sim_graph.TransformationNode at 0x25bb1d23ed0>,\n  'eating sync': <qprsim.model.sim_graph.SynchronizationNode at 0x25bb1d21e10>,\n  'dish routing base': <qprsim.model.sim_graph.XorSplit at 0x25bb19ee710>,\n  'dish routing liquid': <qprsim.model.sim_graph.XorSplit at 0x25bb19a4190>,\n  'dish routing topping': <qprsim.model.sim_graph.XorSplit at 0x25bb1d026d0>,\n  'store routing': <qprsim.model.sim_graph.XorSplit at 0x25bb1d0c950>,\n  'order loop': <qprsim.model.sim_graph.XorSplit at 0x25bb1d22710>},\n {'fry if necessary': arbitraryMHC.<locals>.ArbMhc(model_parameters={'transformer': <function split_off_tempura at 0x0000025BB1CDBB00>}),\n  'tempura synchronizer': arbitraryMHC.<locals>.ArbMhc(model_parameters={'expected_count': 2}),\n  'make dishes split': arbitraryMHC.<locals>.ArbMhc(model_parameters={'transformer': <function split_off_dishes at 0x0000025BB1D1EAC0>}),\n  'eat dishes split': arbitraryMHC.<locals>.ArbMhc(model_parameters={'transformer': <function split_off_dishes at 0x0000025BB1D1EAC0>}),\n  'order sync': arbitraryMHC.<locals>.ArbMhc(model_parameters={'calc_expectation': <function <lambda> at 0x0000025BB1D1F1A0>}),\n  'eating sync': arbitraryMHC.<locals>.ArbMhc(model_parameters={'calc_expectation': <function <lambda> at 0x0000025BB1D1F1A0>}),\n  'customers syncer': arbitraryMHC.<locals>.ArbMhc(model_parameters={'exobj': <__main__.ExObj object at 0x0000025BB1CCEED0>}),\n  'customers signaler': arbitraryMHC.<locals>.ArbMhc(model_parameters={'exobj': <__main__.ExObj object at 0x0000025BB1CCEED0>}),\n  'make dish callout': DelayConfig(model_parameters={'delay_sampler': <qprsim.config.parameter_implementations.DistSampler object at 0x0000025BB1CCEFD0>}),\n  'Udon is Cooking': DelayConfig(model_parameters={'delay_sampler': <qprsim.config.parameter_implementations.StaticSampler object at 0x0000025BB1D89710>}),\n  'Tempura is Frying': DelayConfig(model_parameters={'delay_sampler': <qprsim.config.parameter_implementations.StaticSampler object at 0x0000025BB1D89310>}),\n  'dish routing base': DecisionConfig(model_parameters={'classifier': <qprsim.config.parameter_implementations.AttributeBasedClassifier object at 0x0000025BB1C029D0>}),\n  'dish routing liquid': DecisionConfig(model_parameters={'classifier': <qprsim.config.parameter_implementations.AttributeBasedClassifier object at 0x0000025BB19BC210>}),\n  'dish routing topping': DecisionConfig(model_parameters={'classifier': <qprsim.config.parameter_implementations.AttributeBasedClassifier object at 0x0000025BB1D25490>}),\n  'store routing': DecisionConfig(model_parameters={'classifier': <qprsim.config.parameter_implementations.AttributeBasedClassifier object at 0x0000025BB1D40F90>}),\n  'order loop': DecisionConfig(model_parameters={'classifier': <qprsim.config.parameter_implementations.LambdaClassifier object at 0x0000025BB11F0B90>})})"
     },
     "execution_count": 29,
     "metadata": {},
     "output_type": "execute_result"
    }
   ],
   "source": [
    "sg.aux_model_haver_map, cfg.aux_model_configs"
   ],
   "metadata": {
    "collapsed": false,
    "ExecuteTime": {
     "start_time": "2023-04-13T09:11:53.638844Z",
     "end_time": "2023-04-13T09:11:53.718039Z"
    }
   }
  },
  {
   "cell_type": "code",
   "execution_count": 30,
   "outputs": [],
   "source": [
    "cutoff = time_utils.add_relative_properly(generation_end, relativedelta(months=1))\n",
    "sm = create_simulation_model(sg, cfg,\n",
    "                             {ExecutionParameters.SimStartDate: process_start,\n",
    "                              ExecutionParameters.GenerationCutoffDate: generation_end,\n",
    "                              ExecutionParameters.SimCutoffDate: cutoff,\n",
    "                              ExecutionParameters.RealtimeLimit: timedelta(\n",
    "                                  minutes=10)})"
   ],
   "metadata": {
    "collapsed": false,
    "ExecuteTime": {
     "start_time": "2023-04-13T09:11:53.710189Z",
     "end_time": "2023-04-13T09:11:53.827118Z"
    }
   }
  },
  {
   "cell_type": "code",
   "execution_count": 31,
   "outputs": [],
   "source": [
    "what_if = ButWhatIf(sm)"
   ],
   "metadata": {
    "collapsed": false,
    "ExecuteTime": {
     "start_time": "2023-04-13T09:11:53.810773Z",
     "end_time": "2023-04-13T09:11:53.899879Z"
    }
   }
  },
  {
   "cell_type": "code",
   "execution_count": 32,
   "outputs": [],
   "source": [
    "arrival_change_1_start = datetime(2023, 6, 20, tzinfo=timezone)\n",
    "# slowed customers arrival process and lowered group size\n",
    "# removal of peak arrival process\n",
    "arrival_change_1_end = datetime(2023, 7, 26, tzinfo=timezone)\n",
    "# arrival processes back to initial setting\n",
    "\n",
    "arrival_change_2_start = datetime(2023, 9, 1, tzinfo=timezone)\n",
    "# customers arrival process faster and higher group size\n",
    "# reinsertion of peak arrival process\n",
    "arrival_change_2_end = datetime(2023, 10, 22, tzinfo=timezone)\n",
    "# arrival processes back to initial setting\n",
    "\n",
    "tenchou_sickness_start = datetime(2023, 10, 15, tzinfo=timezone)\n",
    "# tenchou unavailable\n",
    "tenchou_sickness_end = datetime(2023, 11, 5, tzinfo=timezone)\n",
    "# tenchou available again\n",
    "\n",
    "tables_reduced = datetime(2023, 11, 19, tzinfo=timezone)\n",
    "tables_increased = datetime(2023, 12, 10, tzinfo=timezone)\n",
    "tables_normal = datetime(2024, 1, 15, tzinfo=timezone)\n",
    "\n",
    "what_if.schedule_arrival_process_swap(arrival_change_1_start, customers_arrival,\n",
    "                                      ArrivalProcessConfig(arrival_change_1_start,\n",
    "                                                           config.ExpSampler(15),\n",
    "                                                           customers_arrival_bh,\n",
    "                                                           attribute_generator=config.AttributeGeneratorUnion(\n",
    "                                                               customers_id_gen,\n",
    "                                                               config.StaticAttributeGenerator(\n",
    "                                                                   customer_count=partial(\n",
    "                                                                       np.random.randint,\n",
    "                                                                       1, 2)))))\n",
    "what_if.schedule_arrival_process_removal(arrival_change_1_start, customers_peak_arrival)\n",
    "what_if.schedule_arrival_process_swap(arrival_change_1_end, customers_arrival, initial_customer_arrival_cfg)\n",
    "what_if.schedule_arrival_process_insertion(arrival_change_1_end, customers_peak_arrival,\n",
    "                                           initial_customer_peak_arrival_cfg)\n",
    "\n",
    "what_if.schedule_arrival_process_swap(arrival_change_2_start, customers_arrival,\n",
    "                                      ArrivalProcessConfig(arrival_change_2_start,\n",
    "                                                           config.ExpSampler(13),\n",
    "                                                           customers_arrival_bh,\n",
    "                                                           attribute_generator=config.AttributeGeneratorUnion(\n",
    "                                                               customers_id_gen,\n",
    "                                                               config.StaticAttributeGenerator(\n",
    "                                                                   customer_count=partial(\n",
    "                                                                       np.random.randint,\n",
    "                                                                       1, 5)))))\n",
    "what_if.schedule_arrival_process_swap(arrival_change_2_start, customers_peak_arrival,\n",
    "                                      ArrivalProcessConfig(arrival_change_2_start,\n",
    "                                                           config.ExpSampler(5),\n",
    "                                                           customers_peak_arrival_bh,\n",
    "                                                           attribute_generator=config.AttributeGeneratorUnion(\n",
    "                                                               customers_id_gen,\n",
    "                                                               config.StaticAttributeGenerator(\n",
    "                                                                   customer_count=partial(np.random.randint, 1,\n",
    "                                                                                          3)))))\n",
    "\n",
    "what_if.schedule_arrival_process_swap(arrival_change_2_end, customers_arrival, initial_customer_arrival_cfg)\n",
    "what_if.schedule_arrival_process_swap(arrival_change_2_end, customers_peak_arrival, initial_customer_peak_arrival_cfg)\n",
    "\n",
    "what_if.schedule_resource_business_hours_change(tenchou_sickness_start, tenchou, config.NeverInBusiness)\n",
    "what_if.schedule_resource_business_hours_change(tenchou_sickness_end, tenchou, tenchou_hours)\n",
    "#what_if.schedule_resource_property_change(tenchou_sickness_start, tenchou, enm.ResourceProperty.Capacity, 0)\n",
    "#what_if.schedule_resource_property_change(tenchou_sickness_end, tenchou, enm.ResourceProperty.Capacity, 3)\n",
    "what_if.schedule_resource_property_change(tables_reduced, tables, enm.ResourceProperty.Capacity, 8)\n",
    "what_if.schedule_resource_property_change(tables_increased, tables, enm.ResourceProperty.Capacity, 24)\n",
    "what_if.schedule_resource_property_change(tables_normal, tables, enm.ResourceProperty.Capacity, initial_table_count)\n",
    "#what_if.schedule_resource_property_change(datetime(2023, 4, 20), baito, enm.ResourceProperty.Capacity, 0)\n",
    "#what_if.schedule_resource_property_change(datetime(2023, 5, 20), baito, enm.ResourceProperty.Capacity, 2)"
   ],
   "metadata": {
    "collapsed": false,
    "ExecuteTime": {
     "start_time": "2023-04-13T09:11:53.884166Z",
     "end_time": "2023-04-13T09:11:53.971088Z"
    }
   }
  },
  {
   "cell_type": "code",
   "execution_count": 33,
   "outputs": [],
   "source": [
    "what_if.apply()"
   ],
   "metadata": {
    "collapsed": false,
    "ExecuteTime": {
     "start_time": "2023-04-13T09:11:53.971088Z",
     "end_time": "2023-04-13T09:11:54.044232Z"
    }
   }
  },
  {
   "cell_type": "markdown",
   "source": [
    "### Actual Simulation"
   ],
   "metadata": {
    "collapsed": false
   }
  },
  {
   "cell_type": "code",
   "execution_count": 35,
   "outputs": [],
   "source": [
    "simulator = simulate(sm, simulation_log_filename=f'logging/{log_name}.log')"
   ],
   "metadata": {
    "collapsed": false,
    "ExecuteTime": {
     "start_time": "2023-04-13T09:23:30.412327Z",
     "end_time": "2023-04-13T09:27:06.696791Z"
    }
   }
  },
  {
   "cell_type": "markdown",
   "source": [
    "### Defs"
   ],
   "metadata": {
    "collapsed": false
   }
  },
  {
   "cell_type": "code",
   "execution_count": 36,
   "outputs": [],
   "source": [
    "lifecycle_map_default = {a: enm.AvailableLifecycles.StartComplete for a in sg.activity_map}\n",
    "lifecycle_map_default.update({customers_enter: enm.AvailableLifecycles.ScheduleStartComplete})\n",
    "lifecycle_map_complete = {a: enm.AvailableLifecycles.CompleteOnly for a in sg.activity_map}"
   ],
   "metadata": {
    "collapsed": false,
    "ExecuteTime": {
     "start_time": "2023-04-13T09:31:35.041542Z",
     "end_time": "2023-04-13T09:31:35.228376Z"
    }
   }
  },
  {
   "cell_type": "code",
   "execution_count": 37,
   "outputs": [],
   "source": [
    "def create_lifecycle_filtered_log(cases, lifecycle_map):\n",
    "    iterable = (c.filter(lambda e: e.activity in lifecycle_map and e.lifecycle in lifecycle_map[e.activity].vals) for c\n",
    "                in cases)\n",
    "    log = exporting.create_log(iterable)\n",
    "    return log"
   ],
   "metadata": {
    "collapsed": false,
    "ExecuteTime": {
     "start_time": "2023-04-13T09:31:35.137741Z",
     "end_time": "2023-04-13T09:31:35.228376Z"
    }
   }
  },
  {
   "cell_type": "code",
   "execution_count": 38,
   "outputs": [],
   "source": [
    "def export(cases, name_extension='', lifecycle_map=lifecycle_map_default):\n",
    "    log = create_lifecycle_filtered_log(cases, lifecycle_map)\n",
    "    exporting.save_log(log, filename=f'logs/{log_name}/{name_extension}.xes')"
   ],
   "metadata": {
    "collapsed": false,
    "ExecuteTime": {
     "start_time": "2023-04-13T09:31:35.212633Z",
     "end_time": "2023-04-13T09:31:35.292044Z"
    }
   }
  },
  {
   "cell_type": "code",
   "execution_count": 39,
   "outputs": [],
   "source": [
    "def preview(cases, topn):\n",
    "    for case in cases[:topn]:\n",
    "        print(case.case_id, case.attributes)\n",
    "        for e in case:\n",
    "            if e.lifecycle in lifecycle_map_default[e.activity].vals:\n",
    "                print('\\t' + str(e))\n",
    "        print()"
   ],
   "metadata": {
    "collapsed": false,
    "ExecuteTime": {
     "start_time": "2023-04-13T09:31:35.292044Z",
     "end_time": "2023-04-13T09:31:35.376755Z"
    }
   }
  },
  {
   "cell_type": "markdown",
   "source": [
    "### Necessary Transformations"
   ],
   "metadata": {
    "collapsed": false
   }
  },
  {
   "cell_type": "code",
   "execution_count": 40,
   "outputs": [],
   "source": [
    "sorted_cases = sorted(simulator.generated_cases, key=lambda c: c[0].timestamp)"
   ],
   "metadata": {
    "collapsed": false,
    "ExecuteTime": {
     "start_time": "2023-04-13T09:31:35.376755Z",
     "end_time": "2023-04-13T09:31:35.475068Z"
    }
   }
  },
  {
   "cell_type": "code",
   "execution_count": 41,
   "outputs": [],
   "source": [
    "for c in sorted_cases:\n",
    "    for e in c:\n",
    "        t = e.timestamp\n",
    "        e.timestamp = datetime.combine(t.date(), time(hour=t.hour, minute=t.minute, second=t.second,\n",
    "                                                      microsecond=round(t.microsecond, 2)))\n",
    "        if 'duration' in e.attributes:\n",
    "            dic = dict(e.attributes)\n",
    "            dic['duration_in_s'] = dic['duration'].total_seconds()\n",
    "            del dic['duration']\n",
    "            e.attributes = dic"
   ],
   "metadata": {
    "collapsed": false,
    "ExecuteTime": {
     "start_time": "2023-04-13T09:31:35.475068Z",
     "end_time": "2023-04-13T09:31:38.027211Z"
    }
   }
  },
  {
   "cell_type": "code",
   "execution_count": 42,
   "outputs": [
    {
     "name": "stdout",
     "output_type": "stream",
     "text": [
      "prep_0 {'case_type': 'prep'}\n",
      "\tPrep Tempura Ingredients[start] @2023-04-01 06:00 by Oku-san with {'duration_in_s': 7620.0}\n",
      "\tCombine Dashi Ingredients[start] @2023-04-01 06:00 by Tenchou-san with {'duration_in_s': 1080.0}\n",
      "\tPrep Rice[start] @2023-04-01 06:00 by Tenchou-san with {'duration_in_s': 1800.0}\n",
      "\tCombine Dashi Ingredients[complete] @2023-04-01 06:18 by Tenchou-san with {}\n",
      "\tPrep Curry[start] @2023-04-01 06:18 by Tenchou-san with {'duration_in_s': 3480.0}\n",
      "\tBoil Dashi[start] @2023-04-01 06:18 by Kitchen with {'duration_in_s': 5400.0}\n",
      "\tPrep Rice[complete] @2023-04-01 06:30 by Tenchou-san with {}\n",
      "\tCombine Udon Dough[start] @2023-04-01 06:30 by Tenchou-san with {'duration_in_s': 480.0}\n",
      "\tCombine Udon Dough[complete] @2023-04-01 06:38 by Tenchou-san with {}\n",
      "\tMix Udon Dough[start] @2023-04-01 06:38 by Tenchou-san with {'duration_in_s': 600.0}\n",
      "\tMix Udon Dough[complete] @2023-04-01 06:48 by Tenchou-san with {}\n",
      "\tRest Udon Dough[start] @2023-04-01 06:48 by Kitchen with {'duration_in_s': 10800.0}\n",
      "\tPrep Curry[complete] @2023-04-01 07:16 by Tenchou-san with {}\n",
      "\tBoil Dashi[complete] @2023-04-01 07:48 by Kitchen with {}\n",
      "\tStrain Dashi[start] @2023-04-01 07:48 by Tenchou-san with {'duration_in_s': 600.0}\n",
      "\tStrain Dashi[complete] @2023-04-01 07:58 by Tenchou-san with {}\n",
      "\tPrep Tempura Ingredients[complete] @2023-04-01 08:07 by Oku-san with {}\n",
      "\tRest Udon Dough[complete] @2023-04-01 09:48 by Kitchen with {}\n",
      "\tRoll Udon Dough[start] @2023-04-01 09:48 by Deshi-san A with {'duration_in_s': 1680.0}\n",
      "\tRoll Udon Dough[complete] @2023-04-01 10:16 by Deshi-san A with {}\n",
      "\tCut Udon Dough[start] @2023-04-01 10:16 by Tenchou-san with {'duration_in_s': 240.0}\n",
      "\tCut Udon Dough[complete] @2023-04-01 10:20 by Tenchou-san with {}\n",
      "\n",
      "opening_0 {'case_type': 'store', 'description': 'open'}\n",
      "\tOpen Store[start] @2023-04-01 11:00 by Baito-san A with {'duration_in_s': 60.0}\n",
      "\tOpen Store[complete] @2023-04-01 11:01 by Baito-san A with {}\n",
      "\tSetup Store[start] @2023-04-01 11:01 by Oku-san with {'duration_in_s': 1200.0}\n",
      "\tSetup Store[complete] @2023-04-01 11:21 by Oku-san with {}\n",
      "\tOpen for Business[start] @2023-04-01 11:21 by Oku-san with {'duration_in_s': 60.0}\n",
      "\tOpen for Business[complete] @2023-04-01 11:22 by Oku-san with {}\n",
      "\n",
      "customers_0 {'case_type': 'customers', 'customer_group_id': 'regular_0', 'customer_count': 3}\n",
      "\tCustomer Group Enters[schedule] @2023-04-01 11:20 by n/a with {}\n",
      "\tCustomer Group Enters[start] @2023-04-01 11:30 by Restaurant Tables with {'duration_in_s': 60.0}\n",
      "\tCustomer Group Enters[complete] @2023-04-01 11:31 by Restaurant Tables with {}\n",
      "\tCustomer Group Occupies Table[start] @2023-04-01 11:31 by Restaurant Tables with {}\n",
      "\tReceive Order[start] @2023-04-01 11:31 by Oku-san with {'duration_in_s': 60.0}\n",
      "\tReceive Order[complete] @2023-04-01 11:32 by Oku-san with {'order_no': 1, 'global_order_id': 'regular_0_1', 'dish': 'tempura rice'}\n",
      "\tReceive Order[start] @2023-04-01 11:32 by Baito-san B with {'duration_in_s': 60.0}\n",
      "\tReceive Order[complete] @2023-04-01 11:33 by Baito-san B with {'order_no': 2, 'global_order_id': 'regular_0_2', 'dish': 'karee udon'}\n",
      "\tReceive Order[start] @2023-04-01 11:33 by Oku-san with {'duration_in_s': 60.0}\n",
      "\tReceive Order[complete] @2023-04-01 11:34 by Oku-san with {'order_no': 3, 'global_order_id': 'regular_0_3', 'dish': 'tempura rice'}\n",
      "\tGet Bowl[start] @2023-04-01 11:34 by Tenchou-san with {'global_order_id': 'regular_0_1', 'duration_in_s': 7.0}\n",
      "\tGet Bowl[start] @2023-04-01 11:34 by Tenchou-san with {'global_order_id': 'regular_0_2', 'duration_in_s': 6.5}\n",
      "\tGet Bowl[start] @2023-04-01 11:34 by Deshi-san B with {'global_order_id': 'regular_0_3', 'duration_in_s': 10.0}\n",
      "\tGet Bowl[complete] @2023-04-01 11:34 by Tenchou-san with {'global_order_id': 'regular_0_1'}\n",
      "\tBatter Tempura[start] @2023-04-01 11:34 by Deshi-san A with {'global_order_id': 'regular_0_1', 'duration_in_s': 18.0}\n",
      "\tAdd Rice to Bowl[start] @2023-04-01 11:34 by Oku-san with {'global_order_id': 'regular_0_1', 'duration_in_s': 37.333333}\n",
      "\tAdd Curry to Bowl[start] @2023-04-01 11:34 by Tenchou-san with {'global_order_id': 'regular_0_1', 'duration_in_s': 17.5}\n",
      "\tGet Bowl[complete] @2023-04-01 11:34 by Tenchou-san with {'global_order_id': 'regular_0_2'}\n",
      "\tAdd Curry to Bowl[start] @2023-04-01 11:34 by Tenchou-san with {'global_order_id': 'regular_0_2', 'duration_in_s': 14.0}\n",
      "\tGet Bowl[complete] @2023-04-01 11:34 by Deshi-san B with {'global_order_id': 'regular_0_3'}\n",
      "\tAdd Curry to Bowl[start] @2023-04-01 11:34 by Deshi-san B with {'global_order_id': 'regular_0_3', 'duration_in_s': 34.0}\n",
      "\tAdd Curry to Bowl[complete] @2023-04-01 11:34 by Tenchou-san with {'global_order_id': 'regular_0_2'}\n",
      "\tBatter Tempura[start] @2023-04-01 11:34 by Tenchou-san with {'global_order_id': 'regular_0_3', 'duration_in_s': 7.0}\n",
      "\tAdd Curry to Bowl[complete] @2023-04-01 11:34 by Tenchou-san with {'global_order_id': 'regular_0_1'}\n",
      "\tAdd Rice to Bowl[start] @2023-04-01 11:34 by Tenchou-san with {'global_order_id': 'regular_0_3', 'duration_in_s': 19.0}\n",
      "\tBatter Tempura[complete] @2023-04-01 11:34 by Deshi-san A with {'global_order_id': 'regular_0_1'}\n",
      "\tAdd Udon to Pot[start] @2023-04-01 11:34 by Deshi-san A with {'global_order_id': 'regular_0_2', 'duration_in_s': 14.0}\n",
      "\tBatter Tempura[complete] @2023-04-01 11:34 by Tenchou-san with {'global_order_id': 'regular_0_3'}\n",
      "\tToss Tempura into Fryer[start] @2023-04-01 11:34 by Tenchou-san with {'global_order_id': 'regular_0_1', 'duration_in_s': 12.5}\n",
      "\tAdd Udon to Pot[complete] @2023-04-01 11:35 by Deshi-san A with {'global_order_id': 'regular_0_2'}\n",
      "\tToss Tempura into Fryer[start] @2023-04-01 11:35 by Deshi-san A with {'global_order_id': 'regular_0_3', 'duration_in_s': 13.0}\n",
      "\tToss Tempura into Fryer[complete] @2023-04-01 11:35 by Tenchou-san with {'global_order_id': 'regular_0_1'}\n",
      "\tAdd Rice to Bowl[complete] @2023-04-01 11:35 by Tenchou-san with {'global_order_id': 'regular_0_3'}\n",
      "\tAdd Rice to Bowl[complete] @2023-04-01 11:35 by Oku-san with {'global_order_id': 'regular_0_1'}\n",
      "\tAdd Curry to Bowl[complete] @2023-04-01 11:35 by Deshi-san B with {'global_order_id': 'regular_0_3'}\n",
      "\tToss Tempura into Fryer[complete] @2023-04-01 11:35 by Deshi-san A with {'global_order_id': 'regular_0_3'}\n",
      "\tStrain and Wash Udon[start] @2023-04-01 11:38 by Deshi-san B with {'global_order_id': 'regular_0_2', 'duration_in_s': 40.0}\n",
      "\tStrain and Wash Udon[complete] @2023-04-01 11:38 by Deshi-san B with {'global_order_id': 'regular_0_2'}\n",
      "\tAdd Udon to Bowl[start] @2023-04-01 11:38 by Tenchou-san with {'global_order_id': 'regular_0_2', 'duration_in_s': 19.0}\n",
      "\tAdd Udon to Bowl[complete] @2023-04-01 11:39 by Tenchou-san with {'global_order_id': 'regular_0_2'}\n",
      "\tGarnish Bowl with Scallions[start] @2023-04-01 11:39 by Tenchou-san with {'global_order_id': 'regular_0_2', 'duration_in_s': 8.5}\n",
      "\tTake out Tempura[start] @2023-04-01 11:39 by Deshi-san B with {'global_order_id': 'regular_0_1', 'duration_in_s': 49.0}\n",
      "\tGarnish Bowl with Scallions[complete] @2023-04-01 11:39 by Tenchou-san with {'global_order_id': 'regular_0_2'}\n",
      "\tTake out Tempura[start] @2023-04-01 11:39 by Tenchou-san with {'global_order_id': 'regular_0_3', 'duration_in_s': 15.0}\n",
      "\tTake out Tempura[complete] @2023-04-01 11:39 by Tenchou-san with {'global_order_id': 'regular_0_3'}\n",
      "\tAdd Tempura to Bowl[start] @2023-04-01 11:39 by Oku-san with {'global_order_id': 'regular_0_3', 'duration_in_s': 56.0}\n",
      "\tTake out Tempura[complete] @2023-04-01 11:39 by Deshi-san B with {'global_order_id': 'regular_0_1'}\n",
      "\tAdd Tempura to Bowl[start] @2023-04-01 11:39 by Deshi-san A with {'global_order_id': 'regular_0_1', 'duration_in_s': 38.0}\n",
      "\tAdd Tempura to Bowl[complete] @2023-04-01 11:40 by Oku-san with {'global_order_id': 'regular_0_3'}\n",
      "\tGarnish Bowl with Scallions[start] @2023-04-01 11:40 by Tenchou-san with {'global_order_id': 'regular_0_3', 'duration_in_s': 9.5}\n",
      "\tAdd Tempura to Bowl[complete] @2023-04-01 11:40 by Deshi-san A with {'global_order_id': 'regular_0_1'}\n",
      "\tGarnish Bowl with Scallions[start] @2023-04-01 11:40 by Oku-san with {'global_order_id': 'regular_0_1', 'duration_in_s': 28.0}\n",
      "\tGarnish Bowl with Scallions[complete] @2023-04-01 11:40 by Tenchou-san with {'global_order_id': 'regular_0_3'}\n",
      "\tGarnish Bowl with Scallions[complete] @2023-04-01 11:41 by Oku-san with {'global_order_id': 'regular_0_1'}\n",
      "\tServe Table Order[start] @2023-04-01 11:41 by Baito-san B with {'duration_in_s': 60.0}\n",
      "\tServe Table Order[complete] @2023-04-01 11:42 by Baito-san B with {}\n",
      "\tCustomer Eats[start] @2023-04-01 11:42 by Customer-san with {'duration_in_s': 540.0}\n",
      "\tCustomer Eats[start] @2023-04-01 11:42 by Customer-san with {'duration_in_s': 60.0}\n",
      "\tCustomer Eats[start] @2023-04-01 11:42 by Customer-san with {'duration_in_s': 360.0}\n",
      "\tCustomer Eats[complete] @2023-04-01 11:43 by Customer-san with {}\n",
      "\tCustomer Eats[complete] @2023-04-01 11:48 by Customer-san with {}\n",
      "\tCustomer Eats[complete] @2023-04-01 11:51 by Customer-san with {}\n",
      "\tCustomer Group Pays[start] @2023-04-01 11:51 by Customer-san with {'duration_in_s': 60.0}\n",
      "\tCustomer Group Pays[complete] @2023-04-01 11:52 by Customer-san with {'amount': 2470}\n",
      "\tCustomer Group Occupies Table[complete] @2023-04-01 11:52 by Restaurant Tables with {}\n",
      "\tCustomer Group Exits[start] @2023-04-01 11:52 by Customer-san with {'duration_in_s': 0.0}\n",
      "\tCustomer Group Exits[complete] @2023-04-01 11:52 by Customer-san with {}\n",
      "\n"
     ]
    }
   ],
   "source": [
    "preview(sorted_cases, 3)"
   ],
   "metadata": {
    "collapsed": false,
    "ExecuteTime": {
     "start_time": "2023-04-13T09:31:38.027211Z",
     "end_time": "2023-04-13T09:31:38.089444Z"
    }
   }
  },
  {
   "cell_type": "code",
   "execution_count": 43,
   "outputs": [
    {
     "name": "stderr",
     "output_type": "stream",
     "text": [
      "C:\\Users\\Leah\\AppData\\Local\\pypoetry\\Cache\\virtualenvs\\qprsim-neCHhO_m-py3.11\\Lib\\site-packages\\pm4py\\utils.py:486: UserWarning: the EventLog class has been deprecated and will be removed in a future release.\n",
      "  warnings.warn(\"the EventLog class has been deprecated and will be removed in a future release.\")\n"
     ]
    },
    {
     "data": {
      "text/plain": "exporting log, completed traces ::   0%|          | 0/16481 [00:00<?, ?it/s]",
      "application/vnd.jupyter.widget-view+json": {
       "version_major": 2,
       "version_minor": 0,
       "model_id": "0d69b471bcd048e49d6f8e140f39e5f1"
      }
     },
     "metadata": {},
     "output_type": "display_data"
    }
   ],
   "source": [
    "export(sorted_cases, 'full')"
   ],
   "metadata": {
    "collapsed": false,
    "ExecuteTime": {
     "start_time": "2023-04-13T09:31:38.089444Z",
     "end_time": "2023-04-13T09:31:52.849157Z"
    }
   }
  },
  {
   "cell_type": "code",
   "execution_count": 44,
   "outputs": [],
   "source": [
    "# remove dish attribute\n",
    "for c in sorted_cases:\n",
    "    for e in c:\n",
    "        if 'dish' in e.attributes:\n",
    "            dic = dict(e.attributes)\n",
    "            dic['dish'] = '?'\n",
    "            e.attributes = dic"
   ],
   "metadata": {
    "collapsed": false,
    "ExecuteTime": {
     "start_time": "2023-04-13T09:31:52.850672Z",
     "end_time": "2023-04-13T09:31:53.330628Z"
    }
   }
  },
  {
   "cell_type": "code",
   "execution_count": 45,
   "outputs": [
    {
     "name": "stdout",
     "output_type": "stream",
     "text": [
      "prep_0 {'case_type': 'prep'}\n",
      "\tPrep Tempura Ingredients[start] @2023-04-01 06:00 by Oku-san with {'duration_in_s': 7620.0}\n",
      "\tCombine Dashi Ingredients[start] @2023-04-01 06:00 by Tenchou-san with {'duration_in_s': 1080.0}\n",
      "\tPrep Rice[start] @2023-04-01 06:00 by Tenchou-san with {'duration_in_s': 1800.0}\n",
      "\tCombine Dashi Ingredients[complete] @2023-04-01 06:18 by Tenchou-san with {}\n",
      "\tPrep Curry[start] @2023-04-01 06:18 by Tenchou-san with {'duration_in_s': 3480.0}\n",
      "\tBoil Dashi[start] @2023-04-01 06:18 by Kitchen with {'duration_in_s': 5400.0}\n",
      "\tPrep Rice[complete] @2023-04-01 06:30 by Tenchou-san with {}\n",
      "\tCombine Udon Dough[start] @2023-04-01 06:30 by Tenchou-san with {'duration_in_s': 480.0}\n",
      "\tCombine Udon Dough[complete] @2023-04-01 06:38 by Tenchou-san with {}\n",
      "\tMix Udon Dough[start] @2023-04-01 06:38 by Tenchou-san with {'duration_in_s': 600.0}\n",
      "\tMix Udon Dough[complete] @2023-04-01 06:48 by Tenchou-san with {}\n",
      "\tRest Udon Dough[start] @2023-04-01 06:48 by Kitchen with {'duration_in_s': 10800.0}\n",
      "\tPrep Curry[complete] @2023-04-01 07:16 by Tenchou-san with {}\n",
      "\tBoil Dashi[complete] @2023-04-01 07:48 by Kitchen with {}\n",
      "\tStrain Dashi[start] @2023-04-01 07:48 by Tenchou-san with {'duration_in_s': 600.0}\n",
      "\tStrain Dashi[complete] @2023-04-01 07:58 by Tenchou-san with {}\n",
      "\tPrep Tempura Ingredients[complete] @2023-04-01 08:07 by Oku-san with {}\n",
      "\tRest Udon Dough[complete] @2023-04-01 09:48 by Kitchen with {}\n",
      "\tRoll Udon Dough[start] @2023-04-01 09:48 by Deshi-san A with {'duration_in_s': 1680.0}\n",
      "\tRoll Udon Dough[complete] @2023-04-01 10:16 by Deshi-san A with {}\n",
      "\tCut Udon Dough[start] @2023-04-01 10:16 by Tenchou-san with {'duration_in_s': 240.0}\n",
      "\tCut Udon Dough[complete] @2023-04-01 10:20 by Tenchou-san with {}\n",
      "\n",
      "opening_0 {'case_type': 'store', 'description': 'open'}\n",
      "\tOpen Store[start] @2023-04-01 11:00 by Baito-san A with {'duration_in_s': 60.0}\n",
      "\tOpen Store[complete] @2023-04-01 11:01 by Baito-san A with {}\n",
      "\tSetup Store[start] @2023-04-01 11:01 by Oku-san with {'duration_in_s': 1200.0}\n",
      "\tSetup Store[complete] @2023-04-01 11:21 by Oku-san with {}\n",
      "\tOpen for Business[start] @2023-04-01 11:21 by Oku-san with {'duration_in_s': 60.0}\n",
      "\tOpen for Business[complete] @2023-04-01 11:22 by Oku-san with {}\n",
      "\n",
      "customers_0 {'case_type': 'customers', 'customer_group_id': 'regular_0', 'customer_count': 3}\n",
      "\tCustomer Group Enters[schedule] @2023-04-01 11:20 by n/a with {}\n",
      "\tCustomer Group Enters[start] @2023-04-01 11:30 by Restaurant Tables with {'duration_in_s': 60.0}\n",
      "\tCustomer Group Enters[complete] @2023-04-01 11:31 by Restaurant Tables with {}\n",
      "\tCustomer Group Occupies Table[start] @2023-04-01 11:31 by Restaurant Tables with {}\n",
      "\tReceive Order[start] @2023-04-01 11:31 by Oku-san with {'duration_in_s': 60.0}\n",
      "\tReceive Order[complete] @2023-04-01 11:32 by Oku-san with {'order_no': 1, 'global_order_id': 'regular_0_1', 'dish': '?'}\n",
      "\tReceive Order[start] @2023-04-01 11:32 by Baito-san B with {'duration_in_s': 60.0}\n",
      "\tReceive Order[complete] @2023-04-01 11:33 by Baito-san B with {'order_no': 2, 'global_order_id': 'regular_0_2', 'dish': '?'}\n",
      "\tReceive Order[start] @2023-04-01 11:33 by Oku-san with {'duration_in_s': 60.0}\n",
      "\tReceive Order[complete] @2023-04-01 11:34 by Oku-san with {'order_no': 3, 'global_order_id': 'regular_0_3', 'dish': '?'}\n",
      "\tGet Bowl[start] @2023-04-01 11:34 by Tenchou-san with {'global_order_id': 'regular_0_1', 'duration_in_s': 7.0}\n",
      "\tGet Bowl[start] @2023-04-01 11:34 by Tenchou-san with {'global_order_id': 'regular_0_2', 'duration_in_s': 6.5}\n",
      "\tGet Bowl[start] @2023-04-01 11:34 by Deshi-san B with {'global_order_id': 'regular_0_3', 'duration_in_s': 10.0}\n",
      "\tGet Bowl[complete] @2023-04-01 11:34 by Tenchou-san with {'global_order_id': 'regular_0_1'}\n",
      "\tBatter Tempura[start] @2023-04-01 11:34 by Deshi-san A with {'global_order_id': 'regular_0_1', 'duration_in_s': 18.0}\n",
      "\tAdd Rice to Bowl[start] @2023-04-01 11:34 by Oku-san with {'global_order_id': 'regular_0_1', 'duration_in_s': 37.333333}\n",
      "\tAdd Curry to Bowl[start] @2023-04-01 11:34 by Tenchou-san with {'global_order_id': 'regular_0_1', 'duration_in_s': 17.5}\n",
      "\tGet Bowl[complete] @2023-04-01 11:34 by Tenchou-san with {'global_order_id': 'regular_0_2'}\n",
      "\tAdd Curry to Bowl[start] @2023-04-01 11:34 by Tenchou-san with {'global_order_id': 'regular_0_2', 'duration_in_s': 14.0}\n",
      "\tGet Bowl[complete] @2023-04-01 11:34 by Deshi-san B with {'global_order_id': 'regular_0_3'}\n",
      "\tAdd Curry to Bowl[start] @2023-04-01 11:34 by Deshi-san B with {'global_order_id': 'regular_0_3', 'duration_in_s': 34.0}\n",
      "\tAdd Curry to Bowl[complete] @2023-04-01 11:34 by Tenchou-san with {'global_order_id': 'regular_0_2'}\n",
      "\tBatter Tempura[start] @2023-04-01 11:34 by Tenchou-san with {'global_order_id': 'regular_0_3', 'duration_in_s': 7.0}\n",
      "\tAdd Curry to Bowl[complete] @2023-04-01 11:34 by Tenchou-san with {'global_order_id': 'regular_0_1'}\n",
      "\tAdd Rice to Bowl[start] @2023-04-01 11:34 by Tenchou-san with {'global_order_id': 'regular_0_3', 'duration_in_s': 19.0}\n",
      "\tBatter Tempura[complete] @2023-04-01 11:34 by Deshi-san A with {'global_order_id': 'regular_0_1'}\n",
      "\tAdd Udon to Pot[start] @2023-04-01 11:34 by Deshi-san A with {'global_order_id': 'regular_0_2', 'duration_in_s': 14.0}\n",
      "\tBatter Tempura[complete] @2023-04-01 11:34 by Tenchou-san with {'global_order_id': 'regular_0_3'}\n",
      "\tToss Tempura into Fryer[start] @2023-04-01 11:34 by Tenchou-san with {'global_order_id': 'regular_0_1', 'duration_in_s': 12.5}\n",
      "\tAdd Udon to Pot[complete] @2023-04-01 11:35 by Deshi-san A with {'global_order_id': 'regular_0_2'}\n",
      "\tToss Tempura into Fryer[start] @2023-04-01 11:35 by Deshi-san A with {'global_order_id': 'regular_0_3', 'duration_in_s': 13.0}\n",
      "\tToss Tempura into Fryer[complete] @2023-04-01 11:35 by Tenchou-san with {'global_order_id': 'regular_0_1'}\n",
      "\tAdd Rice to Bowl[complete] @2023-04-01 11:35 by Tenchou-san with {'global_order_id': 'regular_0_3'}\n",
      "\tAdd Rice to Bowl[complete] @2023-04-01 11:35 by Oku-san with {'global_order_id': 'regular_0_1'}\n",
      "\tAdd Curry to Bowl[complete] @2023-04-01 11:35 by Deshi-san B with {'global_order_id': 'regular_0_3'}\n",
      "\tToss Tempura into Fryer[complete] @2023-04-01 11:35 by Deshi-san A with {'global_order_id': 'regular_0_3'}\n",
      "\tStrain and Wash Udon[start] @2023-04-01 11:38 by Deshi-san B with {'global_order_id': 'regular_0_2', 'duration_in_s': 40.0}\n",
      "\tStrain and Wash Udon[complete] @2023-04-01 11:38 by Deshi-san B with {'global_order_id': 'regular_0_2'}\n",
      "\tAdd Udon to Bowl[start] @2023-04-01 11:38 by Tenchou-san with {'global_order_id': 'regular_0_2', 'duration_in_s': 19.0}\n",
      "\tAdd Udon to Bowl[complete] @2023-04-01 11:39 by Tenchou-san with {'global_order_id': 'regular_0_2'}\n",
      "\tGarnish Bowl with Scallions[start] @2023-04-01 11:39 by Tenchou-san with {'global_order_id': 'regular_0_2', 'duration_in_s': 8.5}\n",
      "\tTake out Tempura[start] @2023-04-01 11:39 by Deshi-san B with {'global_order_id': 'regular_0_1', 'duration_in_s': 49.0}\n",
      "\tGarnish Bowl with Scallions[complete] @2023-04-01 11:39 by Tenchou-san with {'global_order_id': 'regular_0_2'}\n",
      "\tTake out Tempura[start] @2023-04-01 11:39 by Tenchou-san with {'global_order_id': 'regular_0_3', 'duration_in_s': 15.0}\n",
      "\tTake out Tempura[complete] @2023-04-01 11:39 by Tenchou-san with {'global_order_id': 'regular_0_3'}\n",
      "\tAdd Tempura to Bowl[start] @2023-04-01 11:39 by Oku-san with {'global_order_id': 'regular_0_3', 'duration_in_s': 56.0}\n",
      "\tTake out Tempura[complete] @2023-04-01 11:39 by Deshi-san B with {'global_order_id': 'regular_0_1'}\n",
      "\tAdd Tempura to Bowl[start] @2023-04-01 11:39 by Deshi-san A with {'global_order_id': 'regular_0_1', 'duration_in_s': 38.0}\n",
      "\tAdd Tempura to Bowl[complete] @2023-04-01 11:40 by Oku-san with {'global_order_id': 'regular_0_3'}\n",
      "\tGarnish Bowl with Scallions[start] @2023-04-01 11:40 by Tenchou-san with {'global_order_id': 'regular_0_3', 'duration_in_s': 9.5}\n",
      "\tAdd Tempura to Bowl[complete] @2023-04-01 11:40 by Deshi-san A with {'global_order_id': 'regular_0_1'}\n",
      "\tGarnish Bowl with Scallions[start] @2023-04-01 11:40 by Oku-san with {'global_order_id': 'regular_0_1', 'duration_in_s': 28.0}\n",
      "\tGarnish Bowl with Scallions[complete] @2023-04-01 11:40 by Tenchou-san with {'global_order_id': 'regular_0_3'}\n",
      "\tGarnish Bowl with Scallions[complete] @2023-04-01 11:41 by Oku-san with {'global_order_id': 'regular_0_1'}\n",
      "\tServe Table Order[start] @2023-04-01 11:41 by Baito-san B with {'duration_in_s': 60.0}\n",
      "\tServe Table Order[complete] @2023-04-01 11:42 by Baito-san B with {}\n",
      "\tCustomer Eats[start] @2023-04-01 11:42 by Customer-san with {'duration_in_s': 540.0}\n",
      "\tCustomer Eats[start] @2023-04-01 11:42 by Customer-san with {'duration_in_s': 60.0}\n",
      "\tCustomer Eats[start] @2023-04-01 11:42 by Customer-san with {'duration_in_s': 360.0}\n",
      "\tCustomer Eats[complete] @2023-04-01 11:43 by Customer-san with {}\n",
      "\tCustomer Eats[complete] @2023-04-01 11:48 by Customer-san with {}\n",
      "\tCustomer Eats[complete] @2023-04-01 11:51 by Customer-san with {}\n",
      "\tCustomer Group Pays[start] @2023-04-01 11:51 by Customer-san with {'duration_in_s': 60.0}\n",
      "\tCustomer Group Pays[complete] @2023-04-01 11:52 by Customer-san with {'amount': 2470}\n",
      "\tCustomer Group Occupies Table[complete] @2023-04-01 11:52 by Restaurant Tables with {}\n",
      "\tCustomer Group Exits[start] @2023-04-01 11:52 by Customer-san with {'duration_in_s': 0.0}\n",
      "\tCustomer Group Exits[complete] @2023-04-01 11:52 by Customer-san with {}\n",
      "\n"
     ]
    }
   ],
   "source": [
    "preview(sorted_cases, 3)"
   ],
   "metadata": {
    "collapsed": false,
    "ExecuteTime": {
     "start_time": "2023-04-13T09:31:53.330628Z",
     "end_time": "2023-04-13T09:31:53.394144Z"
    }
   }
  },
  {
   "cell_type": "code",
   "execution_count": 46,
   "outputs": [
    {
     "name": "stderr",
     "output_type": "stream",
     "text": [
      "C:\\Users\\Leah\\AppData\\Local\\pypoetry\\Cache\\virtualenvs\\qprsim-neCHhO_m-py3.11\\Lib\\site-packages\\pm4py\\utils.py:486: UserWarning: the EventLog class has been deprecated and will be removed in a future release.\n",
      "  warnings.warn(\"the EventLog class has been deprecated and will be removed in a future release.\")\n"
     ]
    },
    {
     "data": {
      "text/plain": "exporting log, completed traces ::   0%|          | 0/16481 [00:00<?, ?it/s]",
      "application/vnd.jupyter.widget-view+json": {
       "version_major": 2,
       "version_minor": 0,
       "model_id": "4c7b646084be4c4cb475b03923074dc1"
      }
     },
     "metadata": {},
     "output_type": "display_data"
    }
   ],
   "source": [
    "export(sorted_cases, 'udonya')"
   ],
   "metadata": {
    "collapsed": false,
    "ExecuteTime": {
     "start_time": "2023-04-13T09:31:53.394144Z",
     "end_time": "2023-04-13T09:32:06.812827Z"
    }
   }
  },
  {
   "cell_type": "code",
   "execution_count": 47,
   "outputs": [],
   "source": [
    "prep_cases = [c for c in sorted_cases if c.get_case_attr_value('case_type') == 'prep']"
   ],
   "metadata": {
    "collapsed": false,
    "ExecuteTime": {
     "start_time": "2023-04-13T09:32:06.814821Z",
     "end_time": "2023-04-13T09:32:06.899557Z"
    }
   }
  },
  {
   "cell_type": "code",
   "execution_count": 48,
   "outputs": [
    {
     "data": {
      "text/plain": "exporting log, completed traces ::   0%|          | 0/314 [00:00<?, ?it/s]",
      "application/vnd.jupyter.widget-view+json": {
       "version_major": 2,
       "version_minor": 0,
       "model_id": "a069035edd3b4b6e87a888771d131c48"
      }
     },
     "metadata": {},
     "output_type": "display_data"
    }
   ],
   "source": [
    "export(prep_cases, 'ingredient_prep_A')"
   ],
   "metadata": {
    "collapsed": false,
    "ExecuteTime": {
     "start_time": "2023-04-13T09:32:06.899557Z",
     "end_time": "2023-04-13T09:32:07.144223Z"
    }
   }
  },
  {
   "cell_type": "code",
   "execution_count": 49,
   "outputs": [
    {
     "data": {
      "text/plain": "exporting log, completed traces ::   0%|          | 0/314 [00:00<?, ?it/s]",
      "application/vnd.jupyter.widget-view+json": {
       "version_major": 2,
       "version_minor": 0,
       "model_id": "c86dc1c826c3410aad490795ff1c9f3e"
      }
     },
     "metadata": {},
     "output_type": "display_data"
    }
   ],
   "source": [
    "export(prep_cases, 'ingredient_prep_B', lifecycle_map=lifecycle_map_complete)"
   ],
   "metadata": {
    "collapsed": false,
    "ExecuteTime": {
     "start_time": "2023-04-13T09:32:07.146881Z",
     "end_time": "2023-04-13T09:32:07.306628Z"
    }
   }
  },
  {
   "cell_type": "code",
   "execution_count": 50,
   "outputs": [],
   "source": [
    "customers_cases = [c for c in sorted_cases if c.get_case_attr_value('case_type') == 'customers']"
   ],
   "metadata": {
    "collapsed": false,
    "ExecuteTime": {
     "start_time": "2023-04-13T09:32:07.291441Z",
     "end_time": "2023-04-13T09:32:07.371439Z"
    }
   }
  },
  {
   "cell_type": "code",
   "execution_count": 51,
   "outputs": [],
   "source": [
    "customer_perspective_activities = {customers_enter, customers_seated, rec_order, start_bowl, add_scallions, serve_order,\n",
    "                                   customer_eats, customers_pay, customers_exit}"
   ],
   "metadata": {
    "collapsed": false,
    "ExecuteTime": {
     "start_time": "2023-04-13T09:32:07.371439Z",
     "end_time": "2023-04-13T09:32:07.435874Z"
    }
   }
  },
  {
   "cell_type": "code",
   "execution_count": 52,
   "outputs": [],
   "source": [
    "customer_perspective_cases = [c.filter(lambda e: e.activity in customer_perspective_activities) for c in\n",
    "                              customers_cases]"
   ],
   "metadata": {
    "collapsed": false,
    "ExecuteTime": {
     "start_time": "2023-04-13T09:32:07.435874Z",
     "end_time": "2023-04-13T09:32:07.685255Z"
    }
   }
  },
  {
   "cell_type": "code",
   "execution_count": 53,
   "outputs": [
    {
     "data": {
      "text/plain": "exporting log, completed traces ::   0%|          | 0/14911 [00:00<?, ?it/s]",
      "application/vnd.jupyter.widget-view+json": {
       "version_major": 2,
       "version_minor": 0,
       "model_id": "c88f4e1579df4a54a2894da60b7099c2"
      }
     },
     "metadata": {},
     "output_type": "display_data"
    }
   ],
   "source": [
    "export(customer_perspective_cases, 'customer_perspective')"
   ],
   "metadata": {
    "collapsed": false,
    "ExecuteTime": {
     "start_time": "2023-04-13T09:32:07.685255Z",
     "end_time": "2023-04-13T09:32:15.336728Z"
    }
   }
  },
  {
   "cell_type": "code",
   "execution_count": 54,
   "outputs": [],
   "source": [
    "skip_scallions_prob = 0.05\n",
    "skip_payment = 0.07\n",
    "\n",
    "\n",
    "def cond_removal(e: sc.CaseEvent):\n",
    "    if e.activity == add_scallions:\n",
    "        return skip_scallions_prob < np.random.random_sample()\n",
    "    elif e.activity == customers_pay:\n",
    "        return skip_payment < np.random.random_sample()\n",
    "    else:\n",
    "        return True\n",
    "\n",
    "\n",
    "customer_perspective_cases_dev = [c.filter(cond_removal) for c in customer_perspective_cases]"
   ],
   "metadata": {
    "collapsed": false,
    "ExecuteTime": {
     "start_time": "2023-04-13T09:32:15.339934Z",
     "end_time": "2023-04-13T09:32:15.600239Z"
    }
   }
  },
  {
   "cell_type": "code",
   "execution_count": 55,
   "outputs": [
    {
     "data": {
      "text/plain": "exporting log, completed traces ::   0%|          | 0/14911 [00:00<?, ?it/s]",
      "application/vnd.jupyter.widget-view+json": {
       "version_major": 2,
       "version_minor": 0,
       "model_id": "886ca8e78ddf4788a9d894301959ddab"
      }
     },
     "metadata": {},
     "output_type": "display_data"
    }
   ],
   "source": [
    "export(customer_perspective_cases_dev, 'customer_perspective_dev')"
   ],
   "metadata": {
    "collapsed": false,
    "ExecuteTime": {
     "start_time": "2023-04-13T09:32:15.600239Z",
     "end_time": "2023-04-13T09:32:22.536146Z"
    }
   }
  },
  {
   "cell_type": "code",
   "execution_count": 56,
   "outputs": [],
   "source": [
    "dish_activities = {rec_order, start_bowl, udon_to_pot, strain_udon, add_udon, batter_tempura, toss_tempura,\n",
    "                   take_out_tempura, add_tempura, add_rice, add_curry, add_dashi, add_scallions}"
   ],
   "metadata": {
    "collapsed": false,
    "ExecuteTime": {
     "start_time": "2023-04-13T09:32:22.537265Z",
     "end_time": "2023-04-13T09:32:22.604507Z"
    }
   }
  },
  {
   "cell_type": "code",
   "execution_count": 57,
   "outputs": [],
   "source": [
    "dish_cases = [c.filter(lambda e: e.activity in dish_activities) for c in customers_cases]"
   ],
   "metadata": {
    "collapsed": false,
    "ExecuteTime": {
     "start_time": "2023-04-13T09:32:22.604507Z",
     "end_time": "2023-04-13T09:32:22.854944Z"
    }
   }
  },
  {
   "cell_type": "code",
   "execution_count": 58,
   "outputs": [
    {
     "data": {
      "text/plain": "exporting log, completed traces ::   0%|          | 0/14911 [00:00<?, ?it/s]",
      "application/vnd.jupyter.widget-view+json": {
       "version_major": 2,
       "version_minor": 0,
       "model_id": "b9b0843766b34fdc83dc0cd715e9e3ca"
      }
     },
     "metadata": {},
     "output_type": "display_data"
    }
   ],
   "source": [
    "export(dish_cases, 'dish_cooking')"
   ],
   "metadata": {
    "collapsed": false,
    "ExecuteTime": {
     "start_time": "2023-04-13T09:32:22.855936Z",
     "end_time": "2023-04-13T09:32:32.751414Z"
    }
   }
  },
  {
   "cell_type": "markdown",
   "source": [
    "### Sanity Checks"
   ],
   "metadata": {
    "collapsed": false
   }
  },
  {
   "cell_type": "code",
   "execution_count": 59,
   "outputs": [
    {
     "data": {
      "text/plain": "defaultdict(int, {})"
     },
     "execution_count": 59,
     "metadata": {},
     "output_type": "execute_result"
    }
   ],
   "source": [
    "sg.aux_model_haver_map['order sync'].model.child_cases_left"
   ],
   "metadata": {
    "collapsed": false,
    "ExecuteTime": {
     "start_time": "2023-04-13T09:32:32.752419Z",
     "end_time": "2023-04-13T09:32:32.821047Z"
    }
   }
  },
  {
   "cell_type": "code",
   "execution_count": 60,
   "outputs": [
    {
     "name": "stdout",
     "output_type": "stream",
     "text": [
      "customers_45\n",
      "{'case_type': 'customers', 'customer_group_id': 'regular_45', 'customer_count': 3}\n",
      "customers_71\n",
      "{'case_type': 'customers', 'customer_group_id': 'regular_71', 'customer_count': 3}\n",
      "customers_72\n",
      "{'case_type': 'customers', 'customer_group_id': 'regular_72', 'customer_count': 1}\n",
      "customers_290\n",
      "{'case_type': 'customers', 'customer_group_id': 'regular_290', 'customer_count': 3}\n",
      "customers_667\n",
      "{'case_type': 'customers', 'customer_group_id': 'regular_667', 'customer_count': 2}\n",
      "customers_668\n",
      "{'case_type': 'customers', 'customer_group_id': 'regular_668', 'customer_count': 1}\n",
      "customers_669\n",
      "{'case_type': 'customers', 'customer_group_id': 'regular_669', 'customer_count': 3}\n",
      "customers_886\n",
      "{'case_type': 'customers', 'customer_group_id': 'regular_886', 'customer_count': 1}\n",
      "customers_1013\n",
      "{'case_type': 'customers', 'customer_group_id': 'regular_1013', 'customer_count': 3}\n",
      "customers_1014\n",
      "{'case_type': 'customers', 'customer_group_id': 'regular_1014', 'customer_count': 1}\n",
      "customers peak_587\n",
      "{'case_type': 'customers', 'customer_group_id': ' peak_587', 'customer_count': 1}\n"
     ]
    }
   ],
   "source": [
    "if sm.simulation_context.are_active_cases_remaining():\n",
    "    for i, c in enumerate(sm.simulation_context.remaining_active_cases):\n",
    "        if i > 10:\n",
    "            break\n",
    "        print(c.case_id)\n",
    "        print(c.attributes)\n",
    "        for ce in c:\n",
    "            print(ce)"
   ],
   "metadata": {
    "collapsed": false,
    "ExecuteTime": {
     "start_time": "2023-04-13T09:32:32.821047Z",
     "end_time": "2023-04-13T09:32:32.894540Z"
    }
   }
  },
  {
   "cell_type": "code",
   "execution_count": 61,
   "outputs": [
    {
     "data": {
      "text/plain": "(16566, 16481, 85)"
     },
     "execution_count": 61,
     "metadata": {},
     "output_type": "execute_result"
    }
   ],
   "source": [
    "sm.simulation_context.started_cases_count, sm.simulation_context.completed_cases_count, len(\n",
    "    sm.simulation_context.remaining_active_cases)"
   ],
   "metadata": {
    "collapsed": false,
    "ExecuteTime": {
     "start_time": "2023-04-13T09:32:32.894540Z",
     "end_time": "2023-04-13T09:32:32.978608Z"
    }
   }
  },
  {
   "cell_type": "code",
   "execution_count": 61,
   "outputs": [],
   "source": [],
   "metadata": {
    "collapsed": false,
    "ExecuteTime": {
     "start_time": "2023-04-13T09:32:32.978815Z",
     "end_time": "2023-04-13T09:32:32.979326Z"
    }
   }
  }
 ],
 "metadata": {
  "kernelspec": {
   "display_name": "Python 3",
   "language": "python",
   "name": "python3"
  },
  "language_info": {
   "codemirror_mode": {
    "name": "ipython",
    "version": 2
   },
   "file_extension": ".py",
   "mimetype": "text/x-python",
   "name": "python",
   "nbconvert_exporter": "python",
   "pygments_lexer": "ipython2",
   "version": "2.7.6"
  }
 },
 "nbformat": 4,
 "nbformat_minor": 0
}
