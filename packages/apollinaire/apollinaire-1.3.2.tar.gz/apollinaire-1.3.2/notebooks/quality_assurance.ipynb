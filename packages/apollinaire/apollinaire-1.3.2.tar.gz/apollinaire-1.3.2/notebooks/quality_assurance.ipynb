{
 "cells": [
  {
   "cell_type": "markdown",
   "id": "4161cd8b",
   "metadata": {},
   "source": [
    "# Computing Bayes factors\n",
    "\n",
    "This tutorial explains how to use the `bayes_factor` function provided with the package in order to assess the quality of the p-mode fits performed with `apollinaire`. \n",
    "\n",
    "> **Note:** You must have run the `first_steps.ipynb` ([Quickstart tutorial](https://apollinaire.readthedocs.io/en/latest/usage/quickstart/first_steps.html)) notebook before running the code in this tutorial (in order to create the hdf5 files that will be used to compute the Bayes factors). "
   ]
  },
  {
   "cell_type": "code",
   "execution_count": 1,
   "id": "1008a2c7",
   "metadata": {},
   "outputs": [],
   "source": [
    "import apollinaire as apn\n",
    "import apollinaire.peakbagging as apn_pkb\n",
    "import numpy as np\n",
    "import pandas as pd "
   ]
  },
  {
   "cell_type": "code",
   "execution_count": 2,
   "id": "21f25239-d3f7-4307-98cf-18457c134cd3",
   "metadata": {},
   "outputs": [
    {
     "data": {
      "text/plain": [
       "'1.3'"
      ]
     },
     "execution_count": 2,
     "metadata": {},
     "output_type": "execute_result"
    }
   ],
   "source": [
    "apn.__version__"
   ]
  },
  {
   "cell_type": "markdown",
   "id": "2f8e3c25",
   "metadata": {},
   "source": [
    "First, we have to read again the data used to perform the fit. We also need to read the a2z DataFrame that `apollinaire` created at the end of the MCMC process."
   ]
  },
  {
   "cell_type": "code",
   "execution_count": 3,
   "id": "52762c38",
   "metadata": {},
   "outputs": [],
   "source": [
    "t, v = apn.timeseries.load_light_curve (star='006603624')\n",
    "\n",
    "dt = np.median (t[1:] - t[:-1]) * 86400\n",
    "freq, psd = apn.psd.series_to_psd (v, dt=dt, correct_dc=True)\n",
    "freq, psd = freq*1e6, psd*1e-6\n",
    "back = np.loadtxt ('first_steps_tutorial/background.dat')\n",
    "df_a2z = apn_pkb.read_a2z ('first_steps_tutorial/modes_param.a2z')"
   ]
  },
  {
   "cell_type": "markdown",
   "id": "1cb2c30a",
   "metadata": {},
   "source": [
    "The Bayes factor is computed considering pairs of modes, even $\\ell = \\{0,2\\}$ or odd $\\ell = \\{1,3\\}$. Let's extract from the DataFrame the mode orders on which we performed the fit."
   ]
  },
  {
   "cell_type": "code",
   "execution_count": 4,
   "id": "a387565d",
   "metadata": {},
   "outputs": [],
   "source": [
    "orders = apn_pkb.get_order_list (df_a2z)"
   ]
  },
  {
   "cell_type": "markdown",
   "id": "252a0077",
   "metadata": {},
   "source": [
    "We now have to loop over the orders to compute the Bayes factor for each pair of modes."
   ]
  },
  {
   "cell_type": "code",
   "execution_count": 5,
   "id": "d5861cf6",
   "metadata": {},
   "outputs": [
    {
     "name": "stdout",
     "output_type": "stream",
     "text": [
      "Window width: 45.0 muHz, with low bound at 2121.4 muHz and up bound at 2166.4 muHz\n"
     ]
    },
    {
     "name": "stderr",
     "output_type": "stream",
     "text": [
      "100%|██████████████████████████████████████████████████████████████████████████████████████████████████████████████████████| 1500/1500 [00:06<00:00, 237.89it/s]\n"
     ]
    },
    {
     "name": "stdout",
     "output_type": "stream",
     "text": [
      "Window width: 45.0 muHz, with low bound at 2170.7 muHz and up bound at 2215.7 muHz\n"
     ]
    },
    {
     "name": "stderr",
     "output_type": "stream",
     "text": [
      "100%|██████████████████████████████████████████████████████████████████████████████████████████████████████████████████████| 1500/1500 [00:02<00:00, 726.77it/s]\n"
     ]
    },
    {
     "name": "stdout",
     "output_type": "stream",
     "text": [
      "Window width: 45.0 muHz, with low bound at 2231.8 muHz and up bound at 2276.8 muHz\n"
     ]
    },
    {
     "name": "stderr",
     "output_type": "stream",
     "text": [
      "100%|██████████████████████████████████████████████████████████████████████████████████████████████████████████████████████| 1500/1500 [00:02<00:00, 708.60it/s]\n"
     ]
    },
    {
     "name": "stdout",
     "output_type": "stream",
     "text": [
      "Window width: 45.0 muHz, with low bound at 2281.7 muHz and up bound at 2326.7 muHz\n"
     ]
    },
    {
     "name": "stderr",
     "output_type": "stream",
     "text": [
      "100%|██████████████████████████████████████████████████████████████████████████████████████████████████████████████████████| 1500/1500 [00:02<00:00, 675.25it/s]\n"
     ]
    },
    {
     "name": "stdout",
     "output_type": "stream",
     "text": [
      "Window width: 45.0 muHz, with low bound at 2342.0 muHz and up bound at 2387.0 muHz\n"
     ]
    },
    {
     "name": "stderr",
     "output_type": "stream",
     "text": [
      "100%|██████████████████████████████████████████████████████████████████████████████████████████████████████████████████████| 1500/1500 [00:02<00:00, 676.29it/s]\n"
     ]
    },
    {
     "name": "stdout",
     "output_type": "stream",
     "text": [
      "Window width: 45.0 muHz, with low bound at 2392.2 muHz and up bound at 2437.2 muHz\n"
     ]
    },
    {
     "name": "stderr",
     "output_type": "stream",
     "text": [
      "100%|██████████████████████████████████████████████████████████████████████████████████████████████████████████████████████| 1500/1500 [00:02<00:00, 699.53it/s]\n"
     ]
    },
    {
     "name": "stdout",
     "output_type": "stream",
     "text": [
      "Window width: 45.0 muHz, with low bound at 2452.2 muHz and up bound at 2497.2 muHz\n"
     ]
    },
    {
     "name": "stderr",
     "output_type": "stream",
     "text": [
      "100%|██████████████████████████████████████████████████████████████████████████████████████████████████████████████████████| 1500/1500 [00:02<00:00, 701.93it/s]\n"
     ]
    },
    {
     "name": "stdout",
     "output_type": "stream",
     "text": [
      "Window width: 45.0 muHz, with low bound at 2502.5 muHz and up bound at 2547.5 muHz\n"
     ]
    },
    {
     "name": "stderr",
     "output_type": "stream",
     "text": [
      "100%|██████████████████████████████████████████████████████████████████████████████████████████████████████████████████████| 1500/1500 [00:02<00:00, 683.75it/s]\n"
     ]
    },
    {
     "name": "stdout",
     "output_type": "stream",
     "text": [
      "Window width: 45.0 muHz, with low bound at 2562.8 muHz and up bound at 2607.8 muHz\n"
     ]
    },
    {
     "name": "stderr",
     "output_type": "stream",
     "text": [
      "100%|██████████████████████████████████████████████████████████████████████████████████████████████████████████████████████| 1500/1500 [00:02<00:00, 677.76it/s]\n"
     ]
    },
    {
     "name": "stdout",
     "output_type": "stream",
     "text": [
      "Window width: 45.0 muHz, with low bound at 2613.3 muHz and up bound at 2658.3 muHz\n"
     ]
    },
    {
     "name": "stderr",
     "output_type": "stream",
     "text": [
      "100%|██████████████████████████████████████████████████████████████████████████████████████████████████████████████████████| 1500/1500 [00:02<00:00, 659.57it/s]\n"
     ]
    }
   ],
   "source": [
    "bf_array = np.zeros ((orders.size*4, 3))\n",
    "\n",
    "for ii, n in enumerate (orders) :\n",
    "    psw, ps, p0, _, = apn_pkb.bayes_factor (freq, psd, back, df_a2z, \n",
    "                                            n, strategy='order', \n",
    "                                            size_window=45,\n",
    "                                            l02=True, thin=500, \n",
    "                                            discard=500, instr='geometric', \n",
    "                                            hdf5Dir='first_steps_tutorial', \n",
    "                                            add_ampl=True, \n",
    "                                            parallelise=True, nodes=8)\n",
    "\n",
    "    lnKsw, lnKs = apn_pkb.compute_lnK (psw, ps, p0) \n",
    "    bf_array[ii*4,:] = n, 0, lnKs\n",
    "    bf_array[ii*4+1,:] = n-1, 2, lnKsw\n",
    "\n",
    "    psw, ps, p0, _, = apn_pkb.bayes_factor (freq, psd, back, df_a2z, \n",
    "                                            n, strategy='order', \n",
    "                                            size_window=45,\n",
    "                                            l02=False, thin=500, \n",
    "                                            discard=500, instr='geometric', \n",
    "                                            hdf5Dir='first_steps_tutorial', \n",
    "                                            add_ampl=True, \n",
    "                                            parallelise=True, nodes=8)\n",
    "\n",
    "    lnKsw, lnKs = apn_pkb.compute_lnK (psw, ps, p0)\n",
    "    bf_array[ii*4+2,:] = n, 1, lnKs\n",
    "    bf_array[ii*4+3,:] = n-1, 3, lnKsw"
   ]
  },
  {
   "cell_type": "markdown",
   "id": "46bfb61d",
   "metadata": {},
   "source": [
    "Let's display the results. Having $\\ln K = \\infty$ means that all tested models were favoured against H0 (and $\\ln K = - \\infty$ means that H0 was favoured against every tested model). "
   ]
  },
  {
   "cell_type": "code",
   "execution_count": 6,
   "id": "1dd7ed82",
   "metadata": {},
   "outputs": [
    {
     "data": {
      "text/html": [
       "<div>\n",
       "<style scoped>\n",
       "    .dataframe tbody tr th:only-of-type {\n",
       "        vertical-align: middle;\n",
       "    }\n",
       "\n",
       "    .dataframe tbody tr th {\n",
       "        vertical-align: top;\n",
       "    }\n",
       "\n",
       "    .dataframe thead th {\n",
       "        text-align: right;\n",
       "    }\n",
       "</style>\n",
       "<table border=\"1\" class=\"dataframe\">\n",
       "  <thead>\n",
       "    <tr style=\"text-align: right;\">\n",
       "      <th></th>\n",
       "      <th></th>\n",
       "      <th>ln K</th>\n",
       "    </tr>\n",
       "  </thead>\n",
       "  <tbody>\n",
       "    <tr>\n",
       "      <th>18</th>\n",
       "      <th>0</th>\n",
       "      <td>inf</td>\n",
       "    </tr>\n",
       "    <tr>\n",
       "      <th>17</th>\n",
       "      <th>2</th>\n",
       "      <td>inf</td>\n",
       "    </tr>\n",
       "    <tr>\n",
       "      <th>18</th>\n",
       "      <th>1</th>\n",
       "      <td>inf</td>\n",
       "    </tr>\n",
       "    <tr>\n",
       "      <th>17</th>\n",
       "      <th>3</th>\n",
       "      <td>-inf</td>\n",
       "    </tr>\n",
       "    <tr>\n",
       "      <th>19</th>\n",
       "      <th>0</th>\n",
       "      <td>inf</td>\n",
       "    </tr>\n",
       "    <tr>\n",
       "      <th>18</th>\n",
       "      <th>2</th>\n",
       "      <td>inf</td>\n",
       "    </tr>\n",
       "    <tr>\n",
       "      <th>19</th>\n",
       "      <th>1</th>\n",
       "      <td>inf</td>\n",
       "    </tr>\n",
       "    <tr>\n",
       "      <th>18</th>\n",
       "      <th>3</th>\n",
       "      <td>inf</td>\n",
       "    </tr>\n",
       "    <tr>\n",
       "      <th>20</th>\n",
       "      <th>0</th>\n",
       "      <td>inf</td>\n",
       "    </tr>\n",
       "    <tr>\n",
       "      <th>19</th>\n",
       "      <th>2</th>\n",
       "      <td>inf</td>\n",
       "    </tr>\n",
       "    <tr>\n",
       "      <th>20</th>\n",
       "      <th>1</th>\n",
       "      <td>inf</td>\n",
       "    </tr>\n",
       "    <tr>\n",
       "      <th>19</th>\n",
       "      <th>3</th>\n",
       "      <td>-1.877584</td>\n",
       "    </tr>\n",
       "    <tr>\n",
       "      <th>21</th>\n",
       "      <th>0</th>\n",
       "      <td>inf</td>\n",
       "    </tr>\n",
       "    <tr>\n",
       "      <th>20</th>\n",
       "      <th>2</th>\n",
       "      <td>inf</td>\n",
       "    </tr>\n",
       "    <tr>\n",
       "      <th>21</th>\n",
       "      <th>1</th>\n",
       "      <td>inf</td>\n",
       "    </tr>\n",
       "    <tr>\n",
       "      <th>20</th>\n",
       "      <th>3</th>\n",
       "      <td>inf</td>\n",
       "    </tr>\n",
       "    <tr>\n",
       "      <th>22</th>\n",
       "      <th>0</th>\n",
       "      <td>inf</td>\n",
       "    </tr>\n",
       "    <tr>\n",
       "      <th>21</th>\n",
       "      <th>2</th>\n",
       "      <td>inf</td>\n",
       "    </tr>\n",
       "    <tr>\n",
       "      <th>22</th>\n",
       "      <th>1</th>\n",
       "      <td>inf</td>\n",
       "    </tr>\n",
       "    <tr>\n",
       "      <th>21</th>\n",
       "      <th>3</th>\n",
       "      <td>-0.101420</td>\n",
       "    </tr>\n",
       "  </tbody>\n",
       "</table>\n",
       "</div>"
      ],
      "text/plain": [
       "          ln K\n",
       "18 0       inf\n",
       "17 2       inf\n",
       "18 1       inf\n",
       "17 3      -inf\n",
       "19 0       inf\n",
       "18 2       inf\n",
       "19 1       inf\n",
       "18 3       inf\n",
       "20 0       inf\n",
       "19 2       inf\n",
       "20 1       inf\n",
       "19 3 -1.877584\n",
       "21 0       inf\n",
       "20 2       inf\n",
       "21 1       inf\n",
       "20 3       inf\n",
       "22 0       inf\n",
       "21 2       inf\n",
       "22 1       inf\n",
       "21 3 -0.101420"
      ]
     },
     "execution_count": 6,
     "metadata": {},
     "output_type": "execute_result"
    }
   ],
   "source": [
    "quality = pd.DataFrame (data=bf_array[:,2],\n",
    "                        index=pd.MultiIndex.from_arrays (np.transpose (bf_array[:,:2].astype (np.int_))),\n",
    "                        columns=['ln K'])\n",
    "\n",
    "quality"
   ]
  }
 ],
 "metadata": {
  "kernelspec": {
   "display_name": "Python 3 (ipykernel)",
   "language": "python",
   "name": "python3"
  },
  "language_info": {
   "codemirror_mode": {
    "name": "ipython",
    "version": 3
   },
   "file_extension": ".py",
   "mimetype": "text/x-python",
   "name": "python",
   "nbconvert_exporter": "python",
   "pygments_lexer": "ipython3",
   "version": "3.9.15"
  }
 },
 "nbformat": 4,
 "nbformat_minor": 5
}
