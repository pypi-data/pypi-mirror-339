{
 "cells": [
  {
   "cell_type": "code",
   "execution_count": 1,
   "id": "f0939483",
   "metadata": {},
   "outputs": [],
   "source": [
    "from vrw import VideoReader, VideoWriter\n",
    "import numpy as np\n",
    "\n",
    "with VideoWriter('test.mp4', fps=32.0, backend=\"pyav\") as vw:\n",
    "    for i in range(128):\n",
    "        frame = np.random.randint(0, 255, (256, 256, 3), dtype=np.uint8)\n",
    "        vw.write(frame)"
   ]
  },
  {
   "cell_type": "code",
   "execution_count": 2,
   "id": "ca53d8ca",
   "metadata": {},
   "outputs": [],
   "source": [
    "vr = VideoReader('test.mp4')\n",
    "a = vr[:]"
   ]
  },
  {
   "cell_type": "code",
   "execution_count": 3,
   "id": "1a220d5b",
   "metadata": {},
   "outputs": [
    {
     "data": {
      "text/plain": [
       "(128, 256, 256, 3)"
      ]
     },
     "execution_count": 3,
     "metadata": {},
     "output_type": "execute_result"
    }
   ],
   "source": [
    "a.shape"
   ]
  },
  {
   "cell_type": "code",
   "execution_count": 2,
   "id": "4aa8f710",
   "metadata": {},
   "outputs": [],
   "source": [
    "# arange = np.arange(256).astype(np.uint8)\n",
    "# np.stack(np.broadcast_arrays(*np.meshgrid(arange, arange), np.uint8(1)), axis=-1)"
   ]
  },
  {
   "cell_type": "code",
   "execution_count": 11,
   "id": "6a0d2069",
   "metadata": {},
   "outputs": [],
   "source": [
    "with VideoWriter(\"video_gray.mp4\", fps=30, backend=\"pyav\") as vw:\n",
    "    for i in range(256):\n",
    "        vw.write(np.full((256, 256), i, dtype=np.uint8))"
   ]
  },
  {
   "cell_type": "code",
   "execution_count": 12,
   "id": "3b0eace6",
   "metadata": {},
   "outputs": [
    {
     "name": "stdout",
     "output_type": "stream",
     "text": [
      "(256, 256, 3)\n",
      "(128, 256, 3)\n",
      "(256, 256, 256)\n"
     ]
    }
   ],
   "source": [
    "from vrw import VideoReader\n",
    "\n",
    "vr = VideoReader(\"video.mp4\")\n",
    "print(vr[:, 0].shape) # (N, W, C), all frames, first row\n",
    "print(vr[::2, :, -1].shape) # (N // 2, H, C), every second frame, last column\n",
    "print(vr[..., 0].shape) # (N, H, W), all frames, first channel"
   ]
  },
  {
   "cell_type": "code",
   "execution_count": null,
   "id": "0879a6e2",
   "metadata": {},
   "outputs": [
    {
     "data": {
      "text/plain": [
       "(4, 42, 256, 3)"
      ]
     },
     "execution_count": 23,
     "metadata": {},
     "output_type": "execute_result"
    }
   ],
   "source": [
    "vr[[1, 3, 3, 7], :42]"
   ]
  },
  {
   "cell_type": "code",
   "execution_count": 15,
   "id": "f6e149b0",
   "metadata": {},
   "outputs": [
    {
     "data": {
      "text/plain": [
       "(256, 256, 256)"
      ]
     },
     "execution_count": 15,
     "metadata": {},
     "output_type": "execute_result"
    }
   ],
   "source": [
    "vr[..., 1].shape"
   ]
  },
  {
   "cell_type": "code",
   "execution_count": null,
   "id": "0bb6b826",
   "metadata": {},
   "outputs": [],
   "source": []
  }
 ],
 "metadata": {
  "kernelspec": {
   "display_name": ".venv",
   "language": "python",
   "name": "python3"
  },
  "language_info": {
   "codemirror_mode": {
    "name": "ipython",
    "version": 3
   },
   "file_extension": ".py",
   "mimetype": "text/x-python",
   "name": "python",
   "nbconvert_exporter": "python",
   "pygments_lexer": "ipython3",
   "version": "3.12.3"
  }
 },
 "nbformat": 4,
 "nbformat_minor": 5
}
