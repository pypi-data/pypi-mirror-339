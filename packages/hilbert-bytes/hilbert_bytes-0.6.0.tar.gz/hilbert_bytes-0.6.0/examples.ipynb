{
 "cells": [
  {
   "cell_type": "code",
   "execution_count": 19,
   "metadata": {},
   "outputs": [],
   "source": [
    "import numpy as np\n",
    "from plotly.graph_objects import Figure\n",
    "\n",
    "import hilbert_bytes"
   ]
  },
  {
   "cell_type": "code",
   "execution_count": null,
   "metadata": {},
   "outputs": [],
   "source": [
    "steps = 6\n",
    "inds = np.arange(1 << (2 * steps))\n",
    "ind_bytes = inds[:, None].astype(\">u2\").view(\"u1\")\n",
    "xy = hilbert_bytes.decode(ind_bytes, 2)\n",
    "x, y = xy[:, :, 0].T\n",
    "\n",
    "Figure().add_scatter(\n",
    "    x=x,\n",
    "    y=y,\n",
    "    marker_color=inds,\n",
    "    mode=\"markers\",\n",
    ").update_layout(\n",
    "    width=500,\n",
    "    height=500,\n",
    "    yaxis_scaleanchor=\"x\",\n",
    "    xaxis_visible=False,\n",
    "    yaxis_visible=False,\n",
    ")"
   ]
  },
  {
   "cell_type": "code",
   "execution_count": null,
   "metadata": {},
   "outputs": [],
   "source": [
    "steps = 6\n",
    "inds = np.arange(1 << (3 * steps))\n",
    "ind_bytes = inds[:, None].astype(\">u4\").view(\"u1\")[:, -3:]\n",
    "xyz = hilbert_bytes.decode(ind_bytes, 3)\n",
    "x, y, z = xyz[:, :, 0].T\n",
    "\n",
    "Figure().add_scatter3d(\n",
    "    x=x,\n",
    "    y=y,\n",
    "    z=z,\n",
    "    line_color=inds,\n",
    "    mode=\"lines\",\n",
    ").update_layout(\n",
    "    width=500,\n",
    "    height=500,\n",
    "    scene_xaxis_visible=False,\n",
    "    scene_yaxis_visible=False,\n",
    "    scene_zaxis_visible=False,\n",
    ")"
   ]
  },
  {
   "cell_type": "code",
   "execution_count": null,
   "metadata": {},
   "outputs": [],
   "source": []
  }
 ],
 "metadata": {
  "kernelspec": {
   "display_name": ".local",
   "language": "python",
   "name": "python3"
  },
  "language_info": {
   "codemirror_mode": {
    "name": "ipython",
    "version": 3
   },
   "file_extension": ".py",
   "mimetype": "text/x-python",
   "name": "python",
   "nbconvert_exporter": "python",
   "pygments_lexer": "ipython3",
   "version": "3.12.8"
  }
 },
 "nbformat": 4,
 "nbformat_minor": 2
}
