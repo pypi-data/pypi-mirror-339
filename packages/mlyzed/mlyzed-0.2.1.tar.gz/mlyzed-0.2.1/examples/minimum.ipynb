{
 "cells": [
  {
   "cell_type": "code",
   "execution_count": null,
   "metadata": {},
   "outputs": [],
   "source": [
    "import mlyzed as md"
   ]
  },
  {
   "cell_type": "code",
   "execution_count": null,
   "metadata": {},
   "outputs": [],
   "source": [
    "# read trajectory\n",
    "file = '/Users/artemdembitskiy/Desktop/projects/ngpo_paper/ngpo_mlip_trajs/trajs_no_vac_size_14g/md1000_232.lammpstrj'\n",
    "traj = md.Trajectory.from_file(file)"
   ]
  },
  {
   "cell_type": "code",
   "execution_count": null,
   "metadata": {},
   "outputs": [],
   "source": [
    "# calculate and plot MSD\n",
    "msd = md.fft_msd(traj, specie = 'H', timestep = 1000) # the timestep is in fs\n",
    "msd.plot()"
   ]
  },
  {
   "cell_type": "code",
   "execution_count": null,
   "metadata": {},
   "outputs": [],
   "source": [
    "# calculate hop events statistics\n",
    "hops_stats = md.hops_statistics(traj, specie = 'H', filter_step = 1, frame_step = 1, cutoff = 4.0)\n",
    "hops_stats"
   ]
  },
  {
   "cell_type": "code",
   "execution_count": 20,
   "metadata": {},
   "outputs": [
    {
     "name": "stdout",
     "output_type": "stream",
     "text": [
      "File was written to file.grd\n",
      "\n"
     ]
    }
   ],
   "source": [
    "# calculate and save probability density function\n",
    "p = md.probability_density(traj, specie = 'H', resolution = 0.2)\n",
    "p.write_grd('file.grd')"
   ]
  }
 ],
 "metadata": {
  "kernelspec": {
   "display_name": "base",
   "language": "python",
   "name": "python3"
  },
  "language_info": {
   "codemirror_mode": {
    "name": "ipython",
    "version": 3
   },
   "file_extension": ".py",
   "mimetype": "text/x-python",
   "name": "python",
   "nbconvert_exporter": "python",
   "pygments_lexer": "ipython3",
   "version": "3.8.8"
  }
 },
 "nbformat": 4,
 "nbformat_minor": 2
}
