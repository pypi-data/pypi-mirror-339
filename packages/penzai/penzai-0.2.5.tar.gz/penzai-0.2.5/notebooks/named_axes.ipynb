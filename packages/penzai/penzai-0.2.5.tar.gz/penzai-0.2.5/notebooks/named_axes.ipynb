{
 "cells": [
  {
   "cell_type": "markdown",
   "metadata": {
    "id": "DfejMHs4lr8V"
   },
   "source": [
    "*Copyright 2024 The Penzai Authors.*\n",
    "\n",
    "*Licensed under the Apache License, Version 2.0 (the \"License\"); you may not use this file except in compliance with the License.\n",
    "You may obtain a copy of the License at*\n",
    "\n",
    "> http://www.apache.org/licenses/LICENSE-2.0\n",
    "\n",
    "*Unless required by applicable law or agreed to in writing, software\n",
    "distributed under the License is distributed on an \"AS IS\" BASIS,\n",
    "WITHOUT WARRANTIES OR CONDITIONS OF ANY KIND, either express or  implied.\n",
    "See the License for the specific language governing permissions and\n",
    "limitations under the License.*\n",
    "\n",
    "---"
   ]
  },
  {
   "cell_type": "markdown",
   "metadata": {
    "id": "USGIPdLYDzSo"
   },
   "source": [
    "[![Open in Colab](https://colab.research.google.com/assets/colab-badge.svg)](https://colab.research.google.com/github/google-deepmind/penzai/blob/main/notebooks/named_axes.ipynb) [![Open in Kaggle](https://kaggle.com/static/images/open-in-kaggle.svg)](https://kaggle.com/kernels/welcome?src=https://github.com/google-deepmind/penzai/blob/main/notebooks/named_axes.ipynb)"
   ]
  },
  {
   "cell_type": "markdown",
   "metadata": {
    "id": "3egey4t42OTo"
   },
   "source": [
    "# Named Axes in Penzai"
   ]
  },
  {
   "cell_type": "markdown",
   "metadata": {
    "id": "SmFOag2y2UjQ"
   },
   "source": [
    "As argued by [\"Tensors Considered Harmful\"](https://nlp.seas.harvard.edu/NamedTensor.html), relying on axis indices for complex\n",
    "tensor operations can be brittile and difficult to read. Penzai provides a lightweight implementation of named axes to make it easier to understand the operations performed by neural networks.\n",
    "\n",
    "Penzai's named axis system is based on a \"locally positional\" programming style, which avoid the need to make named-axis versions of the full JAX API. The key idea is to reuse positional-axis operations\n",
    "in their original form, and then allow named axes to be transformed into positional axes and vice versa. Penzai's named axis system is also closely integrated into the treescope pretty-printer and array visualizer.\n",
    "\n",
    "This notebook walks through how named axes work in Penzai and how to use them in Penzai models."
   ]
  },
  {
   "cell_type": "markdown",
   "metadata": {
    "id": "SHr2rnIL8DzM"
   },
   "source": [
    "## Setup"
   ]
  },
  {
   "cell_type": "markdown",
   "metadata": {
    "id": "VkW4lYKAu-oR"
   },
   "source": [
    "Before we can get started in earnest, we need to set up the environment."
   ]
  },
  {
   "cell_type": "markdown",
   "metadata": {
    "id": "ozG8ERNavDos"
   },
   "source": [
    "### Imports"
   ]
  },
  {
   "cell_type": "markdown",
   "metadata": {
    "id": "xmxgAcFQmZkB"
   },
   "source": [
    "To run this notebook, you need a Python environment with `penzai` and its dependencies installed.\n",
    "\n",
    "In Colab or Kaggle, you can install it using the following command:"
   ]
  },
  {
   "cell_type": "code",
   "execution_count": null,
   "metadata": {
    "id": "XGZH58j8mPkj"
   },
   "outputs": [],
   "source": [
    "try:\n",
    "  import penzai\n",
    "except ImportError:\n",
    "  !pip install penzai[notebook]"
   ]
  },
  {
   "cell_type": "code",
   "execution_count": null,
   "metadata": {
    "id": "iog3oMAMGCMG"
   },
   "outputs": [],
   "source": [
    "from __future__ import annotations\n",
    "import traceback\n",
    "\n",
    "import jax\n",
    "import jax.numpy as jnp\n",
    "import numpy as np"
   ]
  },
  {
   "cell_type": "code",
   "execution_count": null,
   "metadata": {
    "id": "5Mh2mAuiQ4aa"
   },
   "outputs": [],
   "source": [
    "import treescope\n",
    "import penzai\n",
    "from penzai import pz"
   ]
  },
  {
   "cell_type": "markdown",
   "metadata": {
    "id": "OGzhV5uWvkvB"
   },
   "source": [
    "### Setting up Penzai"
   ]
  },
  {
   "cell_type": "markdown",
   "metadata": {
    "id": "TjGkV8F8vmpi"
   },
   "source": [
    "For this tutorial, we'll enable [Treescope](https://treescope.readthedocs.io/en/stable/) (Penzai's companion pretty-printer) as the default IPython pretty-printer. This is recommended when using Penzai in an interactive environment. We'll also enable automatic array visualization, which makes it easy to visualize named arrays."
   ]
  },
  {
   "cell_type": "code",
   "execution_count": null,
   "metadata": {
    "id": "dhrLO2dTO7nb"
   },
   "outputs": [],
   "source": [
    "treescope.basic_interactive_setup(autovisualize_arrays=True)"
   ]
  },
  {
   "cell_type": "markdown",
   "metadata": {
    "id": "FQ-uh1pkXo9G"
   },
   "source": [
    "## The Locally-Positional Style"
   ]
  },
  {
   "cell_type": "markdown",
   "metadata": {
    "id": "ArIrjxvOXrkK"
   },
   "source": [
    "Penzai's named axis library is defined in `penzai.core.named_axes`, which is aliased to `pz.nx` for easier access. The primary object in Penzai's named axis system is the `NamedArray`. A NamedArray wraps an ordinary jax.Array, but assigns names to (a subset of) its axes. These names are local to each array.\n",
    "\n",
    "You can convert a regular array to a NamedArray by calling `wrap`. This just wraps the array, but doesn't actually assign any names.\n",
    "\n",
    "\n",
    "\n"
   ]
  },
  {
   "cell_type": "code",
   "execution_count": null,
   "metadata": {
    "id": "iwZaOgIJYp6a"
   },
   "outputs": [],
   "source": [
    "array = pz.nx.wrap(jnp.arange(3*4).reshape((3, 4)).astype(jnp.float32))\n",
    "print(\"Positional shape:\", array.positional_shape)\n",
    "print(\"Named shape:\", array.named_shape)"
   ]
  },
  {
   "cell_type": "markdown",
   "metadata": {
    "id": "wo8mi4TmkyyH"
   },
   "source": [
    "Penzai's array autovisualizer will automatically show the values inside a NamedArray:"
   ]
  },
  {
   "cell_type": "code",
   "execution_count": null,
   "metadata": {
    "id": "G5qNy7N9kMlU"
   },
   "outputs": [],
   "source": [
    "array"
   ]
  },
  {
   "cell_type": "markdown",
   "metadata": {
    "id": "9MQuRQgthXok"
   },
   "source": [
    "To bind names to the axes of a NamedArray, you can call `tag`, with one name per positional axis. This returns a new NamedArray, with names bound to those axes."
   ]
  },
  {
   "cell_type": "code",
   "execution_count": null,
   "metadata": {
    "id": "VrwHyVHTZEdK"
   },
   "outputs": [],
   "source": [
    "array2 = array.tag(\"foo\", \"bar\")\n",
    "print(\"Positional shape:\", array2.positional_shape)\n",
    "print(\"Named shape:\", array2.named_shape)"
   ]
  },
  {
   "cell_type": "code",
   "execution_count": null,
   "metadata": {
    "id": "cp3brkhaPG6K"
   },
   "outputs": [],
   "source": [
    "%%autovisualize None\n",
    "pz.select(array2).at_pytree_leaves().show_value()"
   ]
  },
  {
   "cell_type": "markdown",
   "metadata": {
    "id": "v1Lhws6VPrUd"
   },
   "source": [
    "In this case, automatic array visualization shows you the named axes:"
   ]
  },
  {
   "cell_type": "code",
   "execution_count": null,
   "metadata": {
    "id": "2w-gz_b6k6cI"
   },
   "outputs": [],
   "source": [
    "array2"
   ]
  },
  {
   "cell_type": "markdown",
   "metadata": {
    "id": "-yl9k8d1h5bE"
   },
   "source": [
    "Operations on NamedArrays **always act only on the positional axes**, and are vectorized (or \"lifted\") over the named axes. If you want to apply an operation to a named axis, you can turn it back into a positional axis using `untag`:"
   ]
  },
  {
   "cell_type": "code",
   "execution_count": null,
   "metadata": {
    "id": "sCbnTlngZKUa"
   },
   "outputs": [],
   "source": [
    "array3 = array2.untag(\"bar\")\n",
    "print(\"Positional shape:\", array3.positional_shape)\n",
    "print(\"Named shape:\", array3.named_shape)"
   ]
  },
  {
   "cell_type": "code",
   "execution_count": null,
   "metadata": {
    "id": "HThHrYZGk99Y"
   },
   "outputs": [],
   "source": [
    "array3"
   ]
  },
  {
   "cell_type": "markdown",
   "metadata": {
    "id": "VS2QsTtklKRV"
   },
   "source": [
    "Internally, a NamedArray is just a PyTree dataclass object that stores an ordinary JAX array and some metadata. You can poke around at it by pretty printing it directly:"
   ]
  },
  {
   "cell_type": "code",
   "execution_count": null,
   "metadata": {
    "id": "XiR8DqT9lg4e"
   },
   "outputs": [],
   "source": [
    "%%autovisualize None\n",
    "pz.select(array2).at_pytree_leaves().show_value()"
   ]
  },
  {
   "cell_type": "code",
   "execution_count": null,
   "metadata": {
    "id": "Iu8vXLGplh7r"
   },
   "outputs": [],
   "source": [
    "%%autovisualize None\n",
    "\n",
    "# (array3 is actually a NamedArrayView, which is discussed later)\n",
    "pz.select(array3).at_pytree_leaves().show_value()"
   ]
  },
  {
   "cell_type": "markdown",
   "metadata": {
    "id": "s0pT1n3glphm"
   },
   "source": [
    "This means that JAX transformations like `jax.jit` work directly with NamedArrays. On the other hand, most JAX primitive operations don't directly accept NamedArrays:"
   ]
  },
  {
   "cell_type": "code",
   "execution_count": null,
   "metadata": {
    "id": "c9hAk3XNly6h"
   },
   "outputs": [],
   "source": [
    "try:\n",
    "  jnp.sum(array3)\n",
    "except:\n",
    "  traceback.print_exc(1)"
   ]
  },
  {
   "cell_type": "markdown",
   "metadata": {
    "id": "9IUj1B0FYZDm"
   },
   "source": [
    "Instead, you can use `pz.nx.nmap` to transform any JAX function so that it handles NamedArray inputs.\n",
    "Within an `nmap`-ed function, each NamedArray is replaced with a JAX tracer whose shape matches the original named array's `positional_shape`.\n",
    "\n",
    "Conceptually, `nmap` acts very similarly to JAX's `vmap` or `xmap`. However, instead of specifying which axes you want to map over explicitly, these axes are inferred from the arguments themselves. This means you can call the function the same way you would without `nmap`."
   ]
  },
  {
   "cell_type": "code",
   "execution_count": null,
   "metadata": {
    "id": "MaqmKo0jZ91J"
   },
   "outputs": [],
   "source": [
    "def print_and_sum(value):\n",
    "  jax.debug.print(\"print_and_sum called with value of shape {x.shape}:\\n{x}\", x=value)\n",
    "  return jnp.sum(value)"
   ]
  },
  {
   "cell_type": "code",
   "execution_count": null,
   "metadata": {
    "id": "8riooEUoaAQx"
   },
   "outputs": [],
   "source": [
    "print(\"Positional shape:\", array.positional_shape, \"Named shape:\", array.named_shape)\n",
    "pz.nx.nmap(print_and_sum)(array)"
   ]
  },
  {
   "cell_type": "code",
   "execution_count": null,
   "metadata": {
    "id": "n60fWbKqaR26"
   },
   "outputs": [],
   "source": [
    "print(\"Positional shape:\", array2.positional_shape, \"Named shape:\", array2.named_shape)\n",
    "pz.nx.nmap(print_and_sum)(array2)"
   ]
  },
  {
   "cell_type": "code",
   "execution_count": null,
   "metadata": {
    "id": "Hixxu3q2aVPi"
   },
   "outputs": [],
   "source": [
    "print(\"Positional shape:\", array3.positional_shape, \"Named shape:\", array3.named_shape)\n",
    "pz.nx.nmap(print_and_sum)(array3)"
   ]
  },
  {
   "cell_type": "markdown",
   "metadata": {
    "id": "2L2DmJkTam_U"
   },
   "source": [
    "This means that it's possible to run *any* ordinary JAX function over an arbitrary set of axes of a NamedArray, by first using `untag` to expose those axes as positional, then using `nmap` to map over the other names. For instance, we can sum over the \"foo\" axis of `array2`:"
   ]
  },
  {
   "cell_type": "code",
   "execution_count": null,
   "metadata": {
    "id": "r4y5ZOu4a-Hw"
   },
   "outputs": [],
   "source": [
    "pz.nx.nmap(jnp.sum)(array2.untag(\"foo\"))"
   ]
  },
  {
   "cell_type": "markdown",
   "metadata": {
    "id": "lOal-hxLm09m"
   },
   "source": [
    "Or the \"bar\" axis:"
   ]
  },
  {
   "cell_type": "code",
   "execution_count": null,
   "metadata": {
    "id": "JAdPspram3Sg"
   },
   "outputs": [],
   "source": [
    "pz.nx.nmap(jnp.sum)(array2.untag(\"bar\"))"
   ]
  },
  {
   "cell_type": "markdown",
   "metadata": {
    "id": "5ydnho1_bTFx"
   },
   "source": [
    "More complex transformations are possible too. For instance, here's how we might compute dot-product attention:"
   ]
  },
  {
   "cell_type": "code",
   "execution_count": null,
   "metadata": {
    "id": "68CwWb04nIng"
   },
   "outputs": [],
   "source": [
    "queries = pz.nx.wrap(\n",
    "    jax.random.normal(jax.random.key(1), (10, 4, 16)),\n",
    ").tag(\"query_seq\", \"heads\", \"embed\")\n",
    "\n",
    "keys = pz.nx.wrap(\n",
    "    jax.random.normal(jax.random.key(2), (10, 4, 16)),\n",
    ").tag(\"key_seq\", \"heads\", \"embed\")\n",
    "\n",
    "{\n",
    "    \"queries\": queries,\n",
    "    \"keys\": keys,\n",
    "}"
   ]
  },
  {
   "cell_type": "code",
   "execution_count": null,
   "metadata": {
    "id": "T0WqgT1aoDcN"
   },
   "outputs": [],
   "source": [
    "# Contract the two \"embed\" dimensions:\n",
    "attention_logits = pz.nx.nmap(jnp.dot)(queries.untag(\"embed\"), keys.untag(\"embed\")) / np.sqrt(10)\n",
    "\n",
    "# Mask out cells where query comes before key:\n",
    "attention_logits_masked = pz.nx.nmap(jnp.where)(\n",
    "    pz.nx.wrap(jnp.arange(10)).tag(\"query_seq\")\n",
    "        < pz.nx.wrap(jnp.arange(10)).tag(\"key_seq\"),\n",
    "    -1e9,\n",
    "    attention_logits,\n",
    ")\n",
    "\n",
    "# Take a softmax over \"key_seq\", then name the output axis \"key_seq\" again:\n",
    "attention_scores = pz.nx.nmap(jax.nn.softmax)(\n",
    "    attention_logits_masked.untag(\"key_seq\")\n",
    ").tag(\"key_seq\")\n",
    "\n",
    "{\n",
    "    \"attention_logits\": attention_logits,\n",
    "    \"attention_logits_masked\": attention_logits_masked,\n",
    "    \"attention_scores\": attention_scores,\n",
    "}"
   ]
  },
  {
   "cell_type": "markdown",
   "metadata": {
    "id": "rdlJykinsXsr"
   },
   "source": [
    "You can turn a NamedArray back into an ordinary array using `unwrap`, as long as it doesn't have any more positional axes:"
   ]
  },
  {
   "cell_type": "code",
   "execution_count": null,
   "metadata": {
    "id": "7ch24SBFsfbl"
   },
   "outputs": [],
   "source": [
    "attention_scores.untag(\"query_seq\", \"key_seq\", \"heads\").unwrap()"
   ]
  },
  {
   "cell_type": "markdown",
   "metadata": {
    "id": "YwKA2a0pQa72"
   },
   "source": [
    "For convenience, you can also write this as `attention_scores.unwrap(\"query_seq\", \"key_seq\", \"heads\")`, but the meaning is the same."
   ]
  },
  {
   "cell_type": "markdown",
   "metadata": {
    "id": "4kgsf5DVpSiK"
   },
   "source": [
    "## Array methods and infix operators"
   ]
  },
  {
   "cell_type": "markdown",
   "metadata": {
    "id": "rJ-IBdRmp1kN"
   },
   "source": [
    "NamedArrays support most of the same instance methods as ordinary JAX arrays. Just like `nmap`-ed functions, these wrapped instance methods **only act on the positional axes**, and are vectorized over the named axes. This means you don't have to learn any new API options; they always have exactly the same signature that the `jax.Array` methods do.\n",
    "\n",
    "For instance, you can use infix operators:"
   ]
  },
  {
   "cell_type": "code",
   "execution_count": null,
   "metadata": {
    "id": "2bkxYBxhqZAU"
   },
   "outputs": [],
   "source": [
    "array_a = pz.nx.wrap(\n",
    "    jax.random.normal(jax.random.key(1), (3, 4)),\n",
    ").tag(\"foo\", \"bar\")\n",
    "array_b = pz.nx.wrap(\n",
    "    jax.random.normal(jax.random.key(2), (4, 5)),\n",
    ").tag(\"bar\", \"baz\")"
   ]
  },
  {
   "cell_type": "code",
   "execution_count": null,
   "metadata": {
    "id": "NnxkWc2pqsJr"
   },
   "outputs": [],
   "source": [
    "array_a + array_b"
   ]
  },
  {
   "cell_type": "markdown",
   "metadata": {
    "id": "lQRMZZ2qqxqJ"
   },
   "source": [
    "You can also use reduction methods (which reduce over positional axes):"
   ]
  },
  {
   "cell_type": "code",
   "execution_count": null,
   "metadata": {
    "id": "GWySYLSXqwA0"
   },
   "outputs": [],
   "source": [
    "array_a.untag(\"foo\").sum()"
   ]
  },
  {
   "cell_type": "code",
   "execution_count": null,
   "metadata": {
    "id": "75BbvxVdq7bU"
   },
   "outputs": [],
   "source": [
    "array_a.untag(\"foo\").std()"
   ]
  },
  {
   "cell_type": "markdown",
   "metadata": {
    "id": "VFjiafWmq_A7"
   },
   "source": [
    "Or slice along positional axes:"
   ]
  },
  {
   "cell_type": "code",
   "execution_count": null,
   "metadata": {
    "id": "DZmF5Ge_q-rj"
   },
   "outputs": [],
   "source": [
    "array_a.untag(\"foo\")[jnp.array([0, 1, 0, 1, 2, 1, 1])]"
   ]
  },
  {
   "cell_type": "markdown",
   "metadata": {
    "id": "bTuKFhparwUV"
   },
   "source": [
    "One place where the NamedArray API extends the `jax.Array` API is that it also allows indexing/slicing with dictionaries. Slicing a NamedArray with a dictionary applies the given operations to the named axes instead of the positional ones:"
   ]
  },
  {
   "cell_type": "code",
   "execution_count": null,
   "metadata": {
    "id": "9DfEfj8bsGp0"
   },
   "outputs": [],
   "source": [
    "array_a[{\"foo\": 3, \"bar\": pz.slice[1:3]}]"
   ]
  },
  {
   "cell_type": "markdown",
   "metadata": {
    "id": "JXSWgegFQsml"
   },
   "source": [
    "The name-based automatic vectorization makes it easy to perform complex indexing operations. For instance, to index an array of log-probabilities with an array of tokens, you can do something like this:"
   ]
  },
  {
   "cell_type": "code",
   "execution_count": null,
   "metadata": {
    "id": "sWvhwT0zQ4A4"
   },
   "outputs": [],
   "source": [
    "tokens = pz.nx.wrap(jnp.arange(100).reshape(5,20)).tag(\"batch\", \"seq\")\n",
    "log_probabilities = pz.nx.wrap(\n",
    "    jax.random.uniform(jax.random.key(1), (5, 200,))\n",
    ").tag(\"batch\", \"vocabulary\")\n",
    "\n",
    "# Index the vocabulary by the tokens for each batch element:\n",
    "log_probs_for_each_token = log_probabilities.untag(\"vocabulary\")[tokens]\n",
    "# or, equivalently: log_probabilities[{\"vocabulary\": tokens}]\n",
    "log_probs_for_each_token"
   ]
  },
  {
   "cell_type": "code",
   "execution_count": null,
   "metadata": {
    "id": "ew4CgPBfRSJP"
   },
   "outputs": [],
   "source": [
    "log_probs_for_each_token.named_shape"
   ]
  },
  {
   "cell_type": "markdown",
   "metadata": {
    "id": "7N2VEpKuprUj"
   },
   "source": [
    "## Advanced: PyTrees, batches of NamedArrays, and NamedArrayViews"
   ]
  },
  {
   "cell_type": "markdown",
   "metadata": {
    "id": "sdSYdaMZvBL9"
   },
   "source": [
    "Many of Penzai's named axis operations produce `NamedArray` objects. As discussed above, these are just immutable PyTree dataclasses that wrap an internal `jax.Array` and add metadata to it:"
   ]
  },
  {
   "cell_type": "code",
   "execution_count": null,
   "metadata": {
    "id": "FXSkSnD2vcwa"
   },
   "outputs": [],
   "source": [
    "%%autovisualize None\n",
    "array_fully_positional = pz.nx.wrap(jnp.arange(3*4*5).reshape((3, 4, 5)).astype(jnp.float32))\n",
    "pz.select(array_fully_positional).at_pytree_leaves().show_value()"
   ]
  },
  {
   "cell_type": "code",
   "execution_count": null,
   "metadata": {
    "id": "lX6PTC7BvUAV"
   },
   "outputs": [],
   "source": [
    "%%autovisualize None\n",
    "array_fully_named = array_fully_positional.tag(\"foo\", \"bar\", \"baz\")\n",
    "pz.select(array_fully_named).at_pytree_leaves().show_value()"
   ]
  },
  {
   "cell_type": "markdown",
   "metadata": {
    "id": "n8BisuNxvXJD"
   },
   "source": [
    "When dealing with arrays that have mixtures of positional and named axes, they will often be instead represented as a `NamedArrayView`, which has a bit more bookkeeping to avoid unnecessary device memory transpositions. Both `NamedArray` and `NamedArrayView` are subclasses of `NamedArrayBase` and support all the same methods."
   ]
  },
  {
   "cell_type": "code",
   "execution_count": null,
   "metadata": {
    "id": "AduU6OMJvVRd"
   },
   "outputs": [],
   "source": [
    "%%autovisualize None\n",
    "array_partially_untagged = array_fully_named.untag(\"bar\")\n",
    "pz.select(array_partially_untagged).at_pytree_leaves().show_value()"
   ]
  },
  {
   "cell_type": "markdown",
   "metadata": {
    "id": "8Q59xZwCsq9g"
   },
   "source": [
    "Some higher-order JAX transformations, such as `jax.lax.scan`, apply over prefix axes of PyTree leaves. It's possible to combine this with NamedArrays, but this requires a bit of care:\n",
    "\n",
    "- Positional axes of `NamedArray`s *always appear at the front* of the internal `data_array`. It's allowed to add new axes to the front of `data_array`, or to remove existing positional axes, as long as you don't remove an axis that already has a name.\n",
    "- Positional axes of `NamedArrayView`s can appear *anywhere*. In general, it's NOT allowed to directly manipulate the shape of the `data_array` of a `NamedArrayView`; these should be used only as temporary objects."
   ]
  },
  {
   "cell_type": "markdown",
   "metadata": {
    "id": "EUJ9uXBdwloH"
   },
   "source": [
    "For instance, it's fine to stack or slice NamedArrays using `tree_map`:"
   ]
  },
  {
   "cell_type": "code",
   "execution_count": null,
   "metadata": {
    "id": "opF52fatuuhN"
   },
   "outputs": [],
   "source": [
    "stacked = jax.tree_util.tree_map(lambda a: jnp.stack([a, -a]), array_fully_positional)\n",
    "print(\"Positional shape:\", stacked.positional_shape)\n",
    "print(\"Named shape:\", stacked.named_shape)\n",
    "stacked"
   ]
  },
  {
   "cell_type": "code",
   "execution_count": null,
   "metadata": {
    "id": "RERpuw_xxgp4"
   },
   "outputs": [],
   "source": [
    "sliced = jax.tree_util.tree_map(lambda a: a[0, 1], array_fully_positional)\n",
    "print(\"Positional shape:\", sliced.positional_shape)\n",
    "print(\"Named shape:\", sliced.named_shape)\n",
    "sliced"
   ]
  },
  {
   "cell_type": "markdown",
   "metadata": {
    "id": "YwjoR8ryxEh-"
   },
   "source": [
    "But it's not fine to stack NamedArrayViews:"
   ]
  },
  {
   "cell_type": "code",
   "execution_count": null,
   "metadata": {
    "id": "tUZy7vVRxER7"
   },
   "outputs": [],
   "source": [
    "bad = jax.tree_util.tree_map(lambda a: jnp.stack([a, -a]), array_partially_untagged)\n",
    "try:\n",
    "  bad.check_valid()\n",
    "except:\n",
    "  traceback.print_exc(1)"
   ]
  },
  {
   "cell_type": "markdown",
   "metadata": {
    "id": "WnvXmeaIxtud"
   },
   "source": [
    "If you have a NamedArrayView and you need to access its positional axes using PyTree manipulation (e.g. for `tree_map` or `scan`), you should call `with_positional_prefix` to transform it into a NamedArray (possibly transposing its internal data array):"
   ]
  },
  {
   "cell_type": "code",
   "execution_count": null,
   "metadata": {
    "id": "0pYxlRopx9aW"
   },
   "outputs": [],
   "source": [
    "array_partially_untagged.with_positional_prefix()"
   ]
  },
  {
   "cell_type": "markdown",
   "metadata": {
    "id": "qhDqJeDWx_SW"
   },
   "source": [
    "Another thing to watch out for when using control flow like `scan` is that NamedArray named axes can sometimes appear in different orders along different control flow paths, which can lead to incompatible PyTree structures. You can enforce a specific order using `order_as`. This converts NamedArrayViews into NamedArrays if necessary and also guarantees the named axes appear in this specific sequence, making it easier to ensure outputs have the same PyTree structure."
   ]
  },
  {
   "cell_type": "code",
   "execution_count": null,
   "metadata": {
    "id": "nWbhBY2lyL8F"
   },
   "outputs": [],
   "source": [
    "array_partially_untagged.order_as(\"baz\", \"foo\")"
   ]
  },
  {
   "cell_type": "markdown",
   "metadata": {
    "id": "EBVc1gahSGjq"
   },
   "source": [
    "You can also easily transpose a named array's data array to make it match another named array, which is useful if you want to pass them through JAX transformations that require the same PyTree structure (e.g. JAX.jvp):"
   ]
  },
  {
   "cell_type": "code",
   "execution_count": null,
   "metadata": {
    "id": "YP8-WfTISMCF"
   },
   "outputs": [],
   "source": [
    "other = array_fully_named.untag(\"bar\").with_positional_prefix()\n",
    "other"
   ]
  },
  {
   "cell_type": "code",
   "execution_count": null,
   "metadata": {
    "id": "bPCsH2rKSjEf"
   },
   "outputs": [],
   "source": [
    "array_partially_untagged.order_like(other)"
   ]
  },
  {
   "cell_type": "markdown",
   "metadata": {
    "id": "M7AU3bGESmo0"
   },
   "source": [
    "## Other utility methods"
   ]
  },
  {
   "cell_type": "markdown",
   "metadata": {
    "id": "30lwEKcNSnrI"
   },
   "source": [
    "Most `NamedArray` manipulation can be done directly using `pz.nx.nmap`, `.tag`, and `.untag`. However, there are also a few additional convenience methods to make it easier to work with named arrays."
   ]
  },
  {
   "cell_type": "markdown",
   "metadata": {
    "id": "16WuGURVS9iu"
   },
   "source": [
    "### Construction\n",
    "You can build simple NamedArrays using `pz.nx.ones`, `pz.nx.zeros`, `pz.nx.full`, and `pz.nx.arange`, which are named wrappers around the corresponding JAX functions:"
   ]
  },
  {
   "cell_type": "code",
   "execution_count": null,
   "metadata": {
    "id": "8fp7RiYWTHj3"
   },
   "outputs": [],
   "source": [
    "pz.nx.ones({\"a\": 3, \"b\": 4})"
   ]
  },
  {
   "cell_type": "code",
   "execution_count": null,
   "metadata": {
    "id": "FunzyM9vTJQj"
   },
   "outputs": [],
   "source": [
    "pz.nx.zeros({\"a\": 3, \"b\": 4})"
   ]
  },
  {
   "cell_type": "code",
   "execution_count": null,
   "metadata": {
    "id": "Totfvxp1TKR6"
   },
   "outputs": [],
   "source": [
    "pz.nx.full({\"a\": 3, \"b\": 4}, 7)"
   ]
  },
  {
   "cell_type": "code",
   "execution_count": null,
   "metadata": {
    "id": "xtmeA-fhTM_b"
   },
   "outputs": [],
   "source": [
    "pz.nx.arange(\"foo\", 10)"
   ]
  },
  {
   "cell_type": "markdown",
   "metadata": {
    "id": "JG-w-zs8TPkc"
   },
   "source": [
    "This can be especially useful in combination with automatically-vectorized elementwise operators:"
   ]
  },
  {
   "cell_type": "code",
   "execution_count": null,
   "metadata": {
    "id": "nkHjx6rBTXly"
   },
   "outputs": [],
   "source": [
    "# Creates a two-dimensional mask indexed by \"foo\" and \"bar\":\n",
    "pz.nx.arange(\"foo\", 10) > pz.nx.arange(\"bar\", 10)"
   ]
  },
  {
   "cell_type": "markdown",
   "metadata": {
    "id": "ohp-29ymSx7h"
   },
   "source": [
    "### Broadcasting\n",
    "You can broadcast an array using `.broadcast_to` or `.broadcast_like`:"
   ]
  },
  {
   "cell_type": "code",
   "execution_count": null,
   "metadata": {
    "id": "vB_7_Z6LTlsy"
   },
   "outputs": [],
   "source": [
    "# Broadcasts the positional axes:\n",
    "pz.nx.arange(\"foo\", 10).broadcast_to((3,))"
   ]
  },
  {
   "cell_type": "code",
   "execution_count": null,
   "metadata": {
    "id": "wxLUuKktS84w"
   },
   "outputs": [],
   "source": [
    "# Adds a named axis:\n",
    "pz.nx.arange(\"foo\", 10).broadcast_to(named_shape={\"bar\": 4})"
   ]
  },
  {
   "cell_type": "code",
   "execution_count": null,
   "metadata": {
    "id": "N3Vg8x_sTqYX"
   },
   "outputs": [],
   "source": [
    "# Can also include existing axes:\n",
    "pz.nx.arange(\"foo\", 10).broadcast_to(named_shape={\"foo\": 10, \"bar\": 4})"
   ]
  },
  {
   "cell_type": "code",
   "execution_count": null,
   "metadata": {
    "id": "iaruGKSdTz4I"
   },
   "outputs": [],
   "source": [
    "# Can also broadcast like another array:\n",
    "pz.nx.arange(\"foo\", 10).broadcast_like(pz.nx.arange(\"bar\", 10))"
   ]
  },
  {
   "cell_type": "markdown",
   "metadata": {
    "id": "2qjqOIrWT-m8"
   },
   "source": [
    "### Stacking / Concatenation"
   ]
  },
  {
   "cell_type": "markdown",
   "metadata": {
    "id": "UttdlA1i7_kM"
   },
   "source": [
    "You can concatenate and stack named arrays together along named axes:"
   ]
  },
  {
   "cell_type": "code",
   "execution_count": null,
   "metadata": {
    "id": "IRUBMYliUAJa"
   },
   "outputs": [],
   "source": [
    "pz.nx.stack([\n",
    "    pz.nx.zeros({\"foo\": 10}),\n",
    "    pz.nx.arange(\"foo\", 10),\n",
    "    pz.nx.full({\"foo\": 10}, 9),\n",
    "], \"bar\")"
   ]
  },
  {
   "cell_type": "code",
   "execution_count": null,
   "metadata": {
    "id": "ecIRNqSU8e0N"
   },
   "outputs": [],
   "source": [
    "pz.nx.concatenate([\n",
    "    pz.nx.zeros({\"foo\": 10, \"bar\": 3}),\n",
    "    pz.nx.ones({\"foo\": 10, \"bar\": 7}),\n",
    "], \"bar\")"
   ]
  },
  {
   "cell_type": "markdown",
   "metadata": {
    "id": "5qv9w5WqUCp8"
   },
   "source": [
    "### Tagging / untagging prefixes"
   ]
  },
  {
   "cell_type": "markdown",
   "metadata": {
    "id": "OFyOnOuv8yl-"
   },
   "source": [
    "To make it easier to manipulate prefix axes, there are utilities that allow you to tag or untag subsets of axes at a time:"
   ]
  },
  {
   "cell_type": "code",
   "execution_count": null,
   "metadata": {
    "id": "YDq3Lm3f9Ner"
   },
   "outputs": [],
   "source": [
    "arr = pz.nx.wrap(jnp.ones([10,11,12]))\n",
    "print(arr.positional_shape, arr.named_shape)\n",
    "arr"
   ]
  },
  {
   "cell_type": "code",
   "execution_count": null,
   "metadata": {
    "id": "GKgpwSbb9RJB"
   },
   "outputs": [],
   "source": [
    "# Tag the first two positional axess\n",
    "arr2 = arr.tag_prefix(\"foo\", \"bar\")\n",
    "print(arr2.positional_shape, arr2.named_shape)\n",
    "arr2"
   ]
  },
  {
   "cell_type": "code",
   "execution_count": null,
   "metadata": {
    "id": "l1NLc8su9bz9"
   },
   "outputs": [],
   "source": [
    "# Untag one positional axis\n",
    "arr3 = arr2.untag_prefix(\"foo\")\n",
    "print(arr3.positional_shape, arr3.named_shape)\n",
    "arr3"
   ]
  },
  {
   "cell_type": "markdown",
   "metadata": {
    "id": "I8B-W-SmUIUp"
   },
   "source": [
    "### Random keys"
   ]
  },
  {
   "cell_type": "markdown",
   "metadata": {
    "id": "pIGU8Yt69q_T"
   },
   "source": [
    "The `random_split` utility allows you to split a named array of PRNG keys along new named axes:"
   ]
  },
  {
   "cell_type": "code",
   "execution_count": null,
   "metadata": {
    "id": "VVfyqYonUIUp"
   },
   "outputs": [],
   "source": [
    "keys = pz.nx.random_split(\n",
    "    pz.nx.wrap(jax.random.key(10)),\n",
    "    {\"batch\": 16}\n",
    ")\n",
    "print(keys.positional_shape, keys.named_shape)\n",
    "\n",
    "pz.nx.nmap(jax.random.normal)(keys, shape=(4,))"
   ]
  },
  {
   "cell_type": "markdown",
   "metadata": {
    "id": "BCOEbU0Tf-0z"
   },
   "source": [
    "## Comparision with other named axis systems"
   ]
  },
  {
   "cell_type": "markdown",
   "metadata": {
    "id": "38DfNxXUgsjP"
   },
   "source": [
    "### `penzai.named_axes` vs JAX's axis names (vmap/pmap/xmap)"
   ]
  },
  {
   "cell_type": "markdown",
   "metadata": {
    "id": "vWe5EUJu4_A1"
   },
   "source": [
    "JAX already includes a form of named axes through `vmap`/`pmap` with the `axis_name` argument, and also has a (deprecated) named axis system `jax.xmap` as described in [\"Named axes and easy-to-revise parallelism with `xmap`\"](https://jax.readthedocs.io/en/latest/notebooks/xmap_tutorial.html). However, although penzai's implementation of named axes uses `jax.vmap` under the hood, from an API perspective our approach can\n",
    "be viewed as the opposite (or perhaps the dual) of JAX's current named axis\n",
    "style:\n",
    "\n",
    "- Top-level arrays:\n",
    "  - In `vmap` (or `xmap`), the array objects you interact with at the top level\n",
    "    are indexed positionally only. Names are only bound within an inner\n",
    "    function, and the inner function uses names to access those axes.\n",
    "  - With `penzai.named_axes`, the array objects you interact with at the top\n",
    "    level are NamedArray objects, with explicit names. However, internal operations can use ordinary positional syntax for the axes they care about. (One advantage of this approach is that it makes it super easy\n",
    "    to visualize arrays with named axes. This is also similar to the approach\n",
    "    taken by the `xarray` library.)\n",
    "- Mapping behavior:\n",
    "  - In `vmap` (or `xmap`), you specify which axes to vectorize over while transforming the function. If you want to\n",
    "    map over more axes, you either wrap your function in more layers of `vmap` or modify the args to\n",
    "    `xmap`.\n",
    "  - With `penzai.named_axes`, the axis names determine which axes get vectorized over. You can use the same `nmap`-wrapped function regardless of how many axes you want to vectorize over, or even call it with ordinary jax.Arrays, without having to worry about how many named axes it has.\n",
    "- Overall style:\n",
    "  - In `vmap` (or `xmap`), most of the data flow occurs within a single transformed context. Individual operations (collectives) break out of this context to retrieve named axes where necessary.\n",
    "  - With `penzai.named_axes`, most of the data flow occurs outside of a transformed context. Instead, individual operations are transformed, and `tag` and `untag` are used to manipulate named and positional axes.\n"
   ]
  },
  {
   "cell_type": "markdown",
   "metadata": {
    "id": "roWX8EzDgykp"
   },
   "source": [
    "### `penzai.core.named_axes` vs Haliax"
   ]
  },
  {
   "cell_type": "markdown",
   "metadata": {
    "id": "GgvrRTFnzfCF"
   },
   "source": [
    "Penzai's named axis system was partially inspired by a similar system in the JAX library [Haliax](https://github.com/stanford-crfm/haliax/tree/main). Haliax also defines a NamedArray PyTree, which wraps a positional array and gives it named-axis semantics, but there are a few design differences."
   ]
  },
  {
   "cell_type": "markdown",
   "metadata": {
    "id": "8mLOgynY1gS2"
   },
   "source": [
    "- **API wrapping vs user transformations**: Haliax takes the approach of defining named-axis variants of common numpy/JAX API functions, such as `dot`, `mean`, `argsort`, etc, under the `haliax` namespace. These wrapped functions take axis name arguments instead of axis index arguments. This is convenient but also requires separately defining a `haliax` wrapper for each type of operation you want to run.\n",
    "\n",
    "  In contrast, Penzai intentionally avoids defining named-axis variants of ordinary numpy and JAX functions (with a few exceptions like infix operators and `named_arange`). Instead, the user is responsible for transforming the ordinary positional versions into named-axis versions at the call site. This reduces the complexity of penzai itself and also makes it possible to lift *any* existing JAX function to operate over named arrays, without having to explicitly add it to the `penzai` library.\n",
    "\n",
    "  This also leads to a mental model for array axis manipulation that is closer to the ordinary numpy positional style. For instance, Haliax has a handwritten utility for splitting one axis into two, which looks something like:\n",
    "  ```python\n",
    "  Foo = haliax.Axis(\"foo\", 3)\n",
    "  Bar = haliax.Axis(\"bar\", 4)\n",
    "  FooAndBar = haliax.Axis(\"foo_and_bar\", 12)\n",
    "  haliax.split(my_array, FooAndBar, (Foo, Bar))\n",
    "  ```\n",
    "  Penzai doesn't provide a utility like this, but it's straightforward to do this operation by temporarily dropping into positional mode and using the ordinary numpy `reshape` function:\n",
    "  ```python\n",
    "  my_array.untag(\"foo_and_bar\").reshape((3, 4)).tag(\"foo\", \"bar\")\n",
    "  ```"
   ]
  },
  {
   "cell_type": "markdown",
   "metadata": {
    "id": "IKgDJW4s1g33"
   },
   "source": [
    "- **Sized axes vs strings**: Haliax named arrays and operations use `Axis` objects to associate axis names with sizes, e.g. `haliax.Axis(\"batch\", 32)`. On the other hand, Penzai named arrays and `penzai.pz.nx.nmap` just operate on string axis names.\n",
    "\n",
    "  Haliax's approach is useful when code is written according to Haliax's conventions:\n",
    "\n",
    "  - Core API functions (like `haliax.zeros((FooAxis, BarAxis))`) can directly create arrays with the correct shape and correct axis names, without needing the sizes to be specified separately.\n",
    "  - User-defined functions can take Axis arguments as inputs, forward them to the functions they call, and also inspect their size without having to cross-reference them with a specific input array.\n",
    "  - NamedArrays can check their runtime input shapes and make sure they match the expectations of the user.\n",
    "\n",
    "  However, for penzai, coupling axis names with their sizes comes with a few disadvantages:\n",
    "\n",
    "  - Most core JAX API functions are called in the locally-positional style using `nmap` instead of directly taking an axis as an argument, so we don't benefit from storing the array size as part of the axis name.\n",
    "  - Neural networks in penzai store their configuration (e.g. the set of axes they act on) as dataclass attributes, which can lead to redundancy if every axis name also includes a size. This redundancy can make it difficult to inspect and modify existing models, since axis sizes have to be kept in sync across the entire network architecture.\n",
    "\n",
    "  As such, penzai uses the simpler system. Layers and operations that need axis sizes typically take as an argument a dictionary mapping axis names to their sizes instead, or infer the axis sizes at runtime using `named_array.named_shape` on their parameters or their inputs."
   ]
  }
 ],
 "metadata": {
  "colab": {
   "name": "Named Axes in Penzai",
   "toc_visible": true
  },
  "kernelspec": {
   "display_name": "Python 3",
   "name": "python3"
  },
  "language_info": {
   "name": "python"
  }
 },
 "nbformat": 4,
 "nbformat_minor": 0
}
