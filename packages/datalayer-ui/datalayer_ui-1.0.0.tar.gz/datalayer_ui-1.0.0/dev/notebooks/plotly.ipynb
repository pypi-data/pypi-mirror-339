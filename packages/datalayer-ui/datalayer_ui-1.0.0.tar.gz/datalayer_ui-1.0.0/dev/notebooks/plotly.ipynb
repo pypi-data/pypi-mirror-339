{
 "cells": [
  {
   "cell_type": "code",
   "execution_count": 1,
   "id": "753d67ee-5ce5-4039-89ba-f9af8054f7dc",
   "metadata": {
    "execution": {
     "iopub.execute_input": "2024-05-30T12:48:12.826796Z",
     "iopub.status.busy": "2024-05-30T12:48:12.826201Z",
     "iopub.status.idle": "2024-05-30T12:48:14.414523Z",
     "shell.execute_reply": "2024-05-30T12:48:14.412465Z",
     "shell.execute_reply.started": "2024-05-30T12:48:12.826753Z"
    }
   },
   "outputs": [
    {
     "name": "stdout",
     "output_type": "stream",
     "text": [
      "jupyter-01hz4fyssnk9wfxbwmtwgg25rp\n"
     ]
    }
   ],
   "source": [
    "!hostname"
   ]
  },
  {
   "cell_type": "code",
   "execution_count": null,
   "id": "18ae49bb-5883-43c2-9fb9-4b4789b04772",
   "metadata": {},
   "outputs": [],
   "source": []
  }
 ],
 "metadata": {
  "kernelspec": {
   "display_name": "Python 3 (ipykernel)",
   "language": "python",
   "name": "python3"
  },
  "language_info": {
   "codemirror_mode": {
    "name": "ipython",
    "version": 3
   },
   "file_extension": ".py",
   "mimetype": "text/x-python",
   "name": "python",
   "nbconvert_exporter": "python",
   "pygments_lexer": "ipython3",
   "version": "3.11.11"
  }
 },
 "nbformat": 4,
 "nbformat_minor": 5
}
