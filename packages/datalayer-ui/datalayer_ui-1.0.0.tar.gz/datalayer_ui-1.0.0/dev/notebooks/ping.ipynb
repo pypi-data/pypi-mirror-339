{
 "cells": [
  {
   "cell_type": "code",
   "execution_count": 1,
   "id": "753d67ee-5ce5-4039-89ba-f9af8054f7dc",
   "metadata": {
    "datalayer": {
     "in": [
      "x"
     ],
     "kernel": {
      "displayName": "Python CPU Kernel",
      "language": "python",
      "location": "remote",
      "name": "python-cpu-env",
      "params": {
       "notebook": false
      }
     }
    },
    "execution": {
     "iopub.execute_input": "2025-02-28T07:52:25.492025Z",
     "iopub.status.busy": "2025-02-28T07:52:25.491556Z",
     "iopub.status.idle": "2025-02-28T07:52:25.494823Z",
     "shell.execute_reply": "2025-02-28T07:52:25.494280Z",
     "shell.execute_reply.started": "2025-02-28T07:52:25.492005Z"
    }
   },
   "outputs": [],
   "source": [
    "x=1"
   ]
  },
  {
   "cell_type": "code",
   "execution_count": 3,
   "id": "23a512f1-8cd3-44c3-9cfc-6f68db9e30c6",
   "metadata": {
    "execution": {
     "iopub.execute_input": "2025-03-01T15:26:03.395348Z",
     "iopub.status.busy": "2025-03-01T15:26:03.395102Z",
     "iopub.status.idle": "2025-03-01T15:26:03.397493Z",
     "shell.execute_reply": "2025-03-01T15:26:03.397141Z",
     "shell.execute_reply.started": "2025-03-01T15:26:03.395336Z"
    }
   },
   "outputs": [],
   "source": [
    "x=1"
   ]
  },
  {
   "cell_type": "code",
   "execution_count": 4,
   "id": "cdf8e41b-7a75-4dce-b276-9e7f77874421",
   "metadata": {
    "execution": {
     "iopub.execute_input": "2025-03-01T15:26:03.710273Z",
     "iopub.status.busy": "2025-03-01T15:26:03.709683Z",
     "iopub.status.idle": "2025-03-01T15:26:03.715220Z",
     "shell.execute_reply": "2025-03-01T15:26:03.714933Z",
     "shell.execute_reply.started": "2025-03-01T15:26:03.710244Z"
    }
   },
   "outputs": [
    {
     "data": {
      "text/plain": [
       "1"
      ]
     },
     "execution_count": 4,
     "metadata": {},
     "output_type": "execute_result"
    }
   ],
   "source": [
    "x"
   ]
  },
  {
   "cell_type": "code",
   "execution_count": null,
   "id": "669bf8d7-c94d-4c53-b62b-27a09f0df0d3",
   "metadata": {},
   "outputs": [],
   "source": []
  }
 ],
 "metadata": {
  "kernelspec": {
   "display_name": "Python 3 (ipykernel)",
   "language": "python",
   "name": "python3"
  },
  "language_info": {
   "codemirror_mode": {
    "name": "ipython",
    "version": 3
   },
   "file_extension": ".py",
   "mimetype": "text/x-python",
   "name": "python",
   "nbconvert_exporter": "python",
   "pygments_lexer": "ipython3",
   "version": "3.11.11"
  }
 },
 "nbformat": 4,
 "nbformat_minor": 5
}
