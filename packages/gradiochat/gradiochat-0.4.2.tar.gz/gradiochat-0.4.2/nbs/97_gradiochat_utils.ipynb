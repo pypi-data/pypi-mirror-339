{
 "cells": [
  {
   "cell_type": "markdown",
   "metadata": {},
   "source": [
    "# Utils\n",
    "\n",
    "> Some functions to help with development"
   ]
  },
  {
   "cell_type": "code",
   "execution_count": null,
   "metadata": {},
   "outputs": [],
   "source": [
    "#| default_exp utils"
   ]
  },
  {
   "cell_type": "code",
   "execution_count": null,
   "metadata": {},
   "outputs": [],
   "source": [
    "#| hide\n",
    "from nbdev.showdoc import *"
   ]
  },
  {
   "cell_type": "code",
   "execution_count": null,
   "metadata": {},
   "outputs": [],
   "source": [
    "#| export\n",
    "import inspect\n",
    "from typing import Type, Any, Optional, Union, get_type_hints, get_origin, get_args\n",
    "from pydantic import BaseModel, Field\n",
    "from IPython.display import Markdown, display"
   ]
  },
  {
   "cell_type": "code",
   "execution_count": null,
   "metadata": {},
   "outputs": [],
   "source": [
    "#| export\n",
    "def pydantic_to_markdown_table(model_class: Type[BaseModel]) -> None:\n",
    "    \"\"\"\n",
    "    Convert a Pydantic model class to a markdown table and display it in Jupyter notebook.\n",
    "    \n",
    "    Args:\n",
    "        model_class: A Pydantic model class (subclass of BaseModel)\n",
    "    \"\"\"\n",
    "    if not issubclass(model_class, BaseModel):\n",
    "        raise TypeError(\"Input must be a Pydantic BaseModel class\")\n",
    "    \n",
    "    md_name = f\"## {model_class.__name__}\\n\"\n",
    "    md_docstring = f\"{inspect.getdoc(model_class)}\\n\" or \"\"\n",
    "    \n",
    "    # Get source code lines to extract comments\n",
    "    try:\n",
    "        source_lines = inspect.getsource(model_class).splitlines()\n",
    "    except (OSError, TypeError):\n",
    "        source_lines = []\n",
    "    \n",
    "    # Extract property comments from source code\n",
    "    property_comments = {}\n",
    "    for i, line in enumerate(source_lines):\n",
    "        if \":\" in line and \"#\" in line:\n",
    "            # Extract property name and comment\n",
    "            property_part = line.split(\":\")[0].strip()\n",
    "            comment_part = line.split(\"#\")[1].strip()\n",
    "            property_comments[property_part] = comment_part\n",
    "    \n",
    "    # Start building the markdown table\n",
    "    table = \"\\n| Variable | Type | Default | Details |\\n\"\n",
    "    table += \"|---|---|---|---|\\n\"\n",
    "    \n",
    "    # Get type hints and model fields\n",
    "    type_hints = get_type_hints(model_class)\n",
    "    \n",
    "    # Handle both Pydantic v1 and v2\n",
    "    model_fields = getattr(model_class, \"model_fields\", None)\n",
    "    if model_fields is None:\n",
    "        model_fields = getattr(model_class, \"__fields__\", {})\n",
    "    \n",
    "    # Process each field\n",
    "    for field_name, field_type in type_hints.items():\n",
    "        # Skip private fields and methods\n",
    "        if field_name.startswith('_'):\n",
    "            continue\n",
    "        \n",
    "        # Get field info\n",
    "        field_info = None\n",
    "        if model_fields and field_name in model_fields:\n",
    "            field_info = model_fields[field_name]\n",
    "        \n",
    "        # Format type string\n",
    "        type_str = _format_type(field_type)\n",
    "        \n",
    "        # Get default value\n",
    "        default_value = \"...\"  # Pydantic's notation for required fields\n",
    "        \n",
    "        # Try to get default from field info\n",
    "        if field_info:\n",
    "            # For Pydantic v2\n",
    "            if hasattr(field_info, \"default\") and field_info.default is not inspect.Signature.empty:\n",
    "                default_value = _escape_table_cell(repr(field_info.default))\n",
    "            # For Pydantic v1\n",
    "            elif hasattr(field_info, \"default\") and not field_info.required:\n",
    "                default_value = _escape_table_cell(repr(field_info.default))\n",
    "        \n",
    "        # Get description\n",
    "        description = \"\"\n",
    "        \n",
    "        # Try to get description from Field\n",
    "        if field_info and hasattr(field_info, \"description\") and field_info.description:\n",
    "            description = _escape_table_cell(field_info.description)\n",
    "        # Fallback to comment\n",
    "        elif field_name in property_comments:\n",
    "            description = _escape_table_cell(property_comments[field_name])\n",
    "        \n",
    "        # For nested Pydantic models, add a reference note\n",
    "        if issubclass(field_type, BaseModel) if isinstance(field_type, type) else False:\n",
    "            description += f\" (see `{field_type.__name__}` table)\"\n",
    "        \n",
    "        # Add row to table\n",
    "        table += f\"| `{field_name}` | `{type_str}` | {default_value} | {description} |\\n\"\n",
    "    \n",
    "    return display(Markdown(md_name + md_docstring + table))\n",
    "    # return table"
   ]
  },
  {
   "cell_type": "code",
   "execution_count": null,
   "metadata": {},
   "outputs": [],
   "source": [
    "#| export\n",
    "def _format_type(type_hint: Any) -> str:\n",
    "    \"\"\"Format a type hint into a readable string.\"\"\"\n",
    "    if get_origin(type_hint) is not None:\n",
    "        # Handle generic types like List[str], Optional[int], etc.\n",
    "        origin = get_origin(type_hint)\n",
    "        args = get_args(type_hint)\n",
    "        \n",
    "        if origin is Union:\n",
    "            # Handle Optional (Union[X, None])\n",
    "            if len(args) == 2 and args[1] is type(None):\n",
    "                return f\"Optional[{_format_type(args[0])}]\"\n",
    "            else:\n",
    "                return f\"Union[{', '.join(_format_type(arg) for arg in args)}]\"\n",
    "        \n",
    "        # Handle other generic types\n",
    "        origin_name = origin.__name__ if hasattr(origin, \"__name__\") else str(origin).replace(\"typing.\", \"\")\n",
    "        args_str = \", \".join(_format_type(arg) for arg in args)\n",
    "        return f\"{origin_name}[{args_str}]\"\n",
    "    \n",
    "    # Handle non-generic types\n",
    "    if hasattr(type_hint, \"__name__\"):\n",
    "        return type_hint.__name__\n",
    "    \n",
    "    return str(type_hint).replace(\"typing.\", \"\")"
   ]
  },
  {
   "cell_type": "code",
   "execution_count": null,
   "metadata": {},
   "outputs": [],
   "source": [
    "#| export\n",
    "def _escape_table_cell(text: str) -> str:\n",
    "    \"\"\"\n",
    "    Escape special characters in markdown table cells.\n",
    "    The key is to escape pipe characters with HTML entity or backslash.\n",
    "    \"\"\"\n",
    "    if not isinstance(text, str):\n",
    "        text = str(text)\n",
    "    \n",
    "    # Replace pipe characters with HTML entity\n",
    "    # This is the most reliable way to prevent them from being interpreted as column separators\n",
    "    return text.replace(\"|\", \"\\|\")"
   ]
  },
  {
   "cell_type": "markdown",
   "metadata": {},
   "source": [
    "## Example usage"
   ]
  },
  {
   "cell_type": "code",
   "execution_count": null,
   "metadata": {},
   "outputs": [],
   "source": [
    "class DummyChild(BaseModel):\n",
    "    \"\"\"A simple dataclass model\"\"\"\n",
    "    model_name: str = Field(..., description=\"Name or path of the model to use\") # Name\n",
    "    provider: str = Field(default=\"huggingface\", description=\"Model provider (huggingface, openai, etc)\")\n",
    "    api_key_env_var: Optional[str] = Field(default=None, description=\"Environment variable name for API key\")\n",
    "    api_base_url: Optional[str] = Field(default=None, description=\"Base URL for API reqeuest\")\n",
    "    temperature: float = Field(default=0.7, description=\"Temperature for generation\")    "
   ]
  },
  {
   "cell_type": "code",
   "execution_count": null,
   "metadata": {},
   "outputs": [],
   "source": [
    "class DummyParent(BaseModel):\n",
    "    \"\"\"Main configuration for a chat application\"\"\"\n",
    "    app_name: str = Field(..., description=\"Name of the application\")\n",
    "    description: str = Field(default=\"\", description=\"Description of the application\")\n",
    "    system_prompt: str = Field(..., description=\"System prompt for the LLM\")\n",
    "    model: DummyChild\n",
    "    show_system_prompt: bool = Field(default=True, description=\"Whether to show system prompt in UI\")\n",
    "    show_context: bool = Field(default=True, description=\"Whether to show context in UI\")"
   ]
  },
  {
   "cell_type": "code",
   "execution_count": null,
   "metadata": {},
   "outputs": [
    {
     "data": {
      "text/markdown": [
       "## DummyParent\n",
       "Main configuration for a chat application\n",
       "| Variable | Type | Default | Details |\n",
       "|---|---|---|---|\n",
       "| `app_name` | `str` | PydanticUndefined | Name of the application |\n",
       "| `description` | `str` | '' | Description of the application |\n",
       "| `system_prompt` | `str` | PydanticUndefined | System prompt for the LLM |\n",
       "| `model` | `DummyChild` | PydanticUndefined |  (see `DummyChild` table) |\n",
       "| `show_system_prompt` | `bool` | True | Whether to show system prompt in UI |\n",
       "| `show_context` | `bool` | True | Whether to show context in UI |\n"
      ],
      "text/plain": [
       "<IPython.core.display.Markdown object>"
      ]
     },
     "metadata": {},
     "output_type": "display_data"
    }
   ],
   "source": [
    "pydantic_to_markdown_table(DummyParent)"
   ]
  },
  {
   "cell_type": "code",
   "execution_count": null,
   "metadata": {},
   "outputs": [],
   "source": [
    "#| hide\n",
    "import nbdev; nbdev.nbdev_export()"
   ]
  }
 ],
 "metadata": {
  "kernelspec": {
   "display_name": "python3",
   "language": "python",
   "name": "python3"
  }
 },
 "nbformat": 4,
 "nbformat_minor": 4
}
