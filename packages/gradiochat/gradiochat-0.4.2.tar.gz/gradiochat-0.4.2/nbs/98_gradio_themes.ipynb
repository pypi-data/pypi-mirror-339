{
 "cells": [
  {
   "cell_type": "markdown",
   "metadata": {},
   "source": [
    "# Gradio themes\n",
    "\n",
    "> Prebuild themes for the gradio user Interface"
   ]
  },
  {
   "cell_type": "code",
   "execution_count": null,
   "metadata": {},
   "outputs": [],
   "source": [
    "#| default_exp gradio_themes"
   ]
  },
  {
   "cell_type": "code",
   "execution_count": null,
   "metadata": {},
   "outputs": [],
   "source": [
    "#| hide\n",
    "from nbdev.showdoc import *"
   ]
  },
  {
   "cell_type": "code",
   "execution_count": null,
   "metadata": {},
   "outputs": [
    {
     "name": "stderr",
     "output_type": "stream",
     "text": [
      "/home/jelle/code/gradiochat/.venv/lib/python3.10/site-packages/tqdm/auto.py:21: TqdmWarning: IProgress not found. Please update jupyter and ipywidgets. See https://ipywidgets.readthedocs.io/en/stable/user_install.html\n",
      "  from .autonotebook import tqdm as notebook_tqdm\n"
     ]
    }
   ],
   "source": [
    "#| export\n",
    "#| hide\n",
    "import gradio as gr"
   ]
  },
  {
   "cell_type": "markdown",
   "metadata": {},
   "source": [
    "#### Import statement\n",
    "\n",
    "```python\n",
    "from gradiochat.gradio_themes import *\n",
    "```"
   ]
  },
  {
   "cell_type": "markdown",
   "metadata": {},
   "source": [
    "#### Theme that mimics the WDODelta styleguide"
   ]
  },
  {
   "cell_type": "code",
   "execution_count": null,
   "metadata": {},
   "outputs": [],
   "source": [
    "#| export\n",
    "themeWDODelta = gr.themes.Base(\n",
    "    primary_hue=gr.themes.Color(c100=\"#ffedd5\", c200=\"#ffddb3\", c300=\"#fdba74\", c400=\"#f29100\", c50=\"#fff7ed\", c500=\"#f97316\", c600=\"#ea580c\", c700=\"#c2410c\", c800=\"#9a3412\", c900=\"#7c2d12\", c950=\"#6c2e12\"),\n",
    "    neutral_hue=\"slate\",\n",
    "    radius_size=\"sm\",\n",
    "    font=['VivalaSansRound', 'ui-sans-serif', 'system-ui', 'sans-serif'],\n",
    ").set(\n",
    "    embed_radius='*radius_xs',\n",
    "    border_color_accent='*primary_400',\n",
    "    border_color_accent_dark='*secondary_700',\n",
    "    border_color_primary='*secondary_700',\n",
    "    border_color_primary_dark='*secondary_700',\n",
    "    color_accent='*primary_400',\n",
    "    shadow_drop='*shadow_drop_lg',\n",
    "    button_primary_background_fill='*primary_400',\n",
    "    button_primary_background_fill_dark='*primary_400',\n",
    "    button_primary_background_fill_hover='*secondary_700',\n",
    "    button_primary_background_fill_hover_dark='*secondary_700',\n",
    "    button_primary_border_color='*secondary_700',\n",
    "    button_primary_border_color_dark='*secondary_700'\n",
    ")"
   ]
  },
  {
   "cell_type": "code",
   "execution_count": null,
   "metadata": {},
   "outputs": [],
   "source": [
    "#| hide\n",
    "import nbdev; nbdev.nbdev_export()"
   ]
  }
 ],
 "metadata": {
  "kernelspec": {
   "display_name": "python3",
   "language": "python",
   "name": "python3"
  }
 },
 "nbformat": 4,
 "nbformat_minor": 4
}
