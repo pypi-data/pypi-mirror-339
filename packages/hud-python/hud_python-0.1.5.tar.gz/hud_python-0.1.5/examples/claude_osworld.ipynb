{
 "cells": [
  {
   "cell_type": "code",
   "execution_count": 1,
   "metadata": {},
   "outputs": [],
   "source": [
    "import os\n",
    "from dotenv import load_dotenv\n",
    "load_dotenv()\n",
    "\n",
    "from hud import HUDClient\n",
    "from hud.adapters.claude.adapter import ClaudeAdapter\n",
    "from agent.claude import ClaudeAgent\n",
    "\n",
    "from anthropic import Anthropic"
   ]
  },
  {
   "cell_type": "code",
   "execution_count": 2,
   "metadata": {},
   "outputs": [],
   "source": [
    "# initialize HUD client\n",
    "client = HUDClient(api_key=os.getenv(\"HUD_API_KEY\"))\n",
    "\n",
    "# initalize Claude Computer Use agent\n",
    "anthropic = Anthropic(api_key=os.getenv(\"ANTHROPIC_API_KEY\"))\n",
    "\n",
    "# initialize adapter to interact with the environment\n",
    "cua_adapter = ClaudeAdapter()"
   ]
  },
  {
   "cell_type": "code",
   "execution_count": 3,
   "metadata": {},
   "outputs": [
    {
     "name": "stdout",
     "output_type": "stream",
     "text": [
      "Total tasks in OSWorld: 368\n"
     ]
    }
   ],
   "source": [
    "# load OSWorld environment\n",
    "gym = await client.load_gym(id=\"OSWorld-Ubuntu\")\n",
    "\n",
    "# load OSWorld evalset\n",
    "evalset = await client.load_evalset(id=\"OSWorld-Ubuntu\")\n",
    "\n",
    "# create a run that will host all evaluations\n",
    "run = await client.create_run(name=\"Claude-test-OSWorld\", gym=gym, evalset=evalset)\n",
    "\n",
    "# fetch all task ids from the run\n",
    "tasks = await run.fetch_task_ids()\n",
    "print(f\"Total tasks in OSWorld: {len(tasks)}\")"
   ]
  },
  {
   "cell_type": "code",
   "execution_count": 4,
   "metadata": {},
   "outputs": [
    {
     "name": "stdout",
     "output_type": "stream",
     "text": [
      "Task description: Can you make my computer bring back the last tab I shut down?\n"
     ]
    }
   ],
   "source": [
    "# It may take around ~1 minute to initialize the OSWorld environment and reset to a task\n",
    "\n",
    "# make a HUD environment\n",
    "env = await run.make()\n",
    "await env.wait_for_ready()\n",
    "\n",
    "# reset to a task with an observation (screenshot and text)\n",
    "obs = await env.reset(task_id=tasks[1])\n",
    "print(f\"Task description: {obs.text}\")"
   ]
  },
  {
   "cell_type": "code",
   "execution_count": 6,
   "metadata": {},
   "outputs": [
    {
     "name": "stdout",
     "output_type": "stream",
     "text": [
      "Agent's action: {'action': 'key', 'text': 'ctrl+shift+t'}\n",
      "Step 1 completed\n"
     ]
    }
   ],
   "source": [
    "# agent loop\n",
    "agent = ClaudeAgent(anthropic)\n",
    "\n",
    "for i in range(8):\n",
    "    # rescale screenshot to Claude's resolution\n",
    "    screenshot = cua_adapter.rescale(obs.screenshot)\n",
    "\n",
    "    # agent's next action\n",
    "    done, response = await agent.predict(screenshot, obs.text)\n",
    "    if done:\n",
    "        env.final_response = str(response)\n",
    "        break\n",
    "\n",
    "    # convert to HUD action space\n",
    "    actions = cua_adapter.adapt_list([response])\n",
    "    print(f\"Agent's action: {response}\")\n",
    "\n",
    "    # step the environment forward\n",
    "    obs, reward, terminated, info = await env.step(actions)\n",
    "\n",
    "    # drop out if terminated\n",
    "    if terminated:\n",
    "        break\n",
    "    print(f\"Step {i+1} completed\")\n"
   ]
  },
  {
   "cell_type": "code",
   "execution_count": 6,
   "metadata": {},
   "outputs": [
    {
     "name": "stdout",
     "output_type": "stream",
     "text": [
      "Evaluation result: 1.0\n"
     ]
    }
   ],
   "source": [
    "# evaluate environment state\n",
    "result = await env.evaluate()\n",
    "print(f\"Evaluation result: {result}\")\n",
    "\n",
    "# close environment\n",
    "await env.close()"
   ]
  },
  {
   "cell_type": "code",
   "execution_count": 7,
   "metadata": {},
   "outputs": [
    {
     "name": "stdout",
     "output_type": "stream",
     "text": [
      "Run: Claude-test-OSWorld (ID: de4927e8-f196-49cd-8330-39af16ad9112)\n",
      "Created: 2025-03-22 21:53:01\n",
      "------------------------------------------------------------\n",
      "Progress: 1/1 tasks completed (\n",
      "            100.0% completion rate)\n",
      "\n",
      "Status Distribution:\n",
      "completed : ██████████████████████████████████████████████████ 1 (100.0%)\n",
      "\n",
      "Average Score: 1.00\n",
      "Score:  1.00/1.00\n"
     ]
    }
   ],
   "source": [
    "analytics = await run.get_analytics()\n",
    "print(analytics)"
   ]
  }
 ],
 "metadata": {
  "kernelspec": {
   "display_name": ".venv",
   "language": "python",
   "name": "python3"
  },
  "language_info": {
   "codemirror_mode": {
    "name": "ipython",
    "version": 3
   },
   "file_extension": ".py",
   "mimetype": "text/x-python",
   "name": "python",
   "nbconvert_exporter": "python",
   "pygments_lexer": "ipython3",
   "version": "3.11.5"
  }
 },
 "nbformat": 4,
 "nbformat_minor": 2
}
