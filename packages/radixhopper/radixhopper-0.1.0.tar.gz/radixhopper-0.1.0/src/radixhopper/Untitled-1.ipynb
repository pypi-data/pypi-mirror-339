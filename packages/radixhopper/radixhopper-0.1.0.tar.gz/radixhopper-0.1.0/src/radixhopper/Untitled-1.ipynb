{
 "cells": [
  {
   "cell_type": "code",
   "execution_count": 1,
   "id": "8f1f0c7d",
   "metadata": {},
   "outputs": [
    {
     "data": {
      "text/html": [
       "\n",
       "        <math xmlns=\"http://www.w3.org/1998/Math/MathML\" display=\"block\" style=\"font-size: 120%;\">\n",
       "            <mstyle displaystyle=\"true\" scriptlevel=\"0\">\n",
       "                <msub><mrow><mn>0</mn><mo lspace=\"0\" rspace=\"0\">.</mo><mn>204</mn><mover accent=\"true\"><mn>1253224043351545031001421</mn><mo stretchy=\"true\">&#x00AF;</mo></mover></mrow><mn>6</mn></msub>\n",
       "            </mstyle>\n",
       "        </math>\n",
       "        "
      ],
      "text/latex": [
       "$$0.204\\overline{1253224043351545031001421}_{6}$$"
      ],
      "text/plain": [
       "RadixNumber(number=0.204[1253224043351545031001421], representation_base=6, digits=0123456789ABCDEFGHIJKLMNOPQRSTUVWXYZ, case_sensitive=False, fraction=(353/1000))"
      ]
     },
     "execution_count": 1,
     "metadata": {},
     "output_type": "execute_result"
    }
   ],
   "source": [
    "from radixhopper import RadixNumber\n",
    "\n",
    "RadixNumber(0.353).to(base=6)"
   ]
  },
  {
   "cell_type": "code",
   "execution_count": null,
   "id": "33b4359e",
   "metadata": {},
   "outputs": [
    {
     "data": {
      "text/latex": [
       "$$0_{2}$$"
      ],
      "text/plain": [
       "RadixNumber(number=0, representation_base=2, digits=0123456789ABCDEFGHIJKLMNOPQRSTUVWXYZ, case_sensitive=False, fraction=(0))"
      ]
     },
     "execution_count": 9,
     "metadata": {},
     "output_type": "execute_result"
    }
   ],
   "source": [
    "RadixNumber(\"0b0\", zero_b_o_x_leading_implicit_based=True)"
   ]
  },
  {
   "cell_type": "code",
   "execution_count": null,
   "id": "20aa26c8",
   "metadata": {},
   "outputs": [],
   "source": [
    "RadixNumber(\"0b17\", zero_b_o_x_leading_implicit_based=True)"
   ]
  }
 ],
 "metadata": {
  "kernelspec": {
   "display_name": ".venv",
   "language": "python",
   "name": "python3"
  },
  "language_info": {
   "codemirror_mode": {
    "name": "ipython",
    "version": 3
   },
   "file_extension": ".py",
   "mimetype": "text/x-python",
   "name": "python",
   "nbconvert_exporter": "python",
   "pygments_lexer": "ipython3",
   "version": "3.12.1"
  }
 },
 "nbformat": 4,
 "nbformat_minor": 5
}
