{
  "cells": [
    {
      "cell_type": "markdown",
      "metadata": {},
      "source": [
        "# Hybrid Plant with Wind, Solar, Battery, Hydrogen Example\n",
        "\n",
        "In this example we will simulate a hybrid plant using the H2Integrate software. This software allows for the co-design and simulation of an integrated renewable energy and hydrogen production plant. \n",
        "\n",
        "This simulation starts with renewable energy generation using wind and solar PV technologies, which then can be stored in a battery or directly supplied to a PEM electrolyzer for hydrogen production. "
      ]
    },
    {
      "cell_type": "markdown",
      "metadata": {},
      "source": [
        "### Import Required Modules\n",
        "\n",
        "Begin by importing the necessary modules for the H2Integrate simulation."
      ]
    },
    {
      "cell_type": "code",
      "execution_count": 1,
      "metadata": {},
      "outputs": [
        {
          "name": "stdout",
          "output_type": "stream",
          "text": [
            "/home/cbay/H2Integrate/docs/examples/log/hybrid_systems_2025-03-22T13.13.31.932631.log\n"
          ]
        }
      ],
      "source": [
        "from h2integrate.simulation.h2integrate_simulation import H2IntegrateSimulationConfig\n",
        "from h2integrate.tools.optimization.gc_run_h2integrate import run_h2integrate"
      ]
    },
    {
      "cell_type": "markdown",
      "metadata": {},
      "source": [
        "### Load Simulation Input Files\n",
        "\n",
        "Input files are in a YAML file format. Four YAML files are required for land-based analysis:\n",
        "1. HOPP Configuration YAML\n",
        "2. H2Integrate Configuration YAML\n",
        "3. Wind Turbine Configuration YAML\n",
        "4. FLORIS Configuration YAML"
      ]
    },
    {
      "cell_type": "markdown",
      "metadata": {},
      "source": [
        "#### HOPP YAML Overview\n",
        "\n",
        "The HOPP YAML file includes information required for simulating the renewable energy generation at the plant. Such as:\n",
        "\n",
        "- **Analysis Location**: Specifies latitude, longitude, site boundaries, and resource files.\n",
        "- **Generation Technologies**: Encompasses details on wind, solar PV, and battery storage systems.\n",
        "- **General Generation Configuration Options**: Encompasses simulation options, battery dispatch strategies, and cost information."
      ]
    },
    {
      "cell_type": "code",
      "execution_count": 2,
      "metadata": {},
      "outputs": [],
      "source": [
        "filename_hopp_config = \"../../examples/inputs/plant/hopp_config.yaml\""
      ]
    },
    {
      "cell_type": "markdown",
      "metadata": {},
      "source": [
        "#### H2Integrate YAML Overview\n",
        "\n",
        "The H2Integrate YAML file includes information required for simulating the renewable energy generation through the end product production (hydrogen, steel, ammonia). Such as:\n",
        "\n",
        "- **Plant Design Scenarios**: Specifies location and connection of individual components of plant.\n",
        "- **Financial Parameters**: General financial parameters needed for calculating the levelized cost of product and other financial metrics.\n",
        "- **Hydrogen Equipment Information**: Including electrolyzer specifications, compressor, pipeline, and H<sub>2</sub> storage information.\n",
        "- **Policy Options**: Describes options to include [IRA](https://www.bidenwhitehouse.archives.gov/wp-content/uploads/2022/12/Inflation-Reduction-Act-Guidebook.pdf) tax incentives policy in H2Integrate simulation."
      ]
    },
    {
      "cell_type": "code",
      "execution_count": 3,
      "metadata": {},
      "outputs": [],
      "source": [
        "filename_h2integrate_config = \"../../examples/inputs/plant/h2integrate_config_onshore-hydrogen.yaml\""
      ]
    },
    {
      "cell_type": "markdown",
      "metadata": {},
      "source": [
        "#### Wind Turbine and FLORIS YAML Overview\n",
        "\n",
        "The H2Integrate simulation runs a steady-state wake modeling tool ([FLORIS](https://www.nrel.gov/wind/floris.html)) to assess the wind farm's energy production. For accurate modeling within FLORIS, two configuration YAML files are required:\n",
        "\n",
        "- The **Wind Turbine YAML** file includes the description of the turbine including turbine rating rotor diameter, hub hight, and the power curve.\n",
        "- The **FLORIS YAML** file includes atmospheric conditions and wake models used in simulation."
      ]
    },
    {
      "cell_type": "code",
      "execution_count": 4,
      "metadata": {},
      "outputs": [],
      "source": [
        "turbine_model = \"lbw_6MW\"\n",
        "filename_turbine_config = \"../../examples/inputs/turbines/\" + turbine_model + \".yaml\"\n",
        "filename_floris_config = \"../../examples/inputs/floris/floris_input_\" + turbine_model + \".yaml\""
      ]
    },
    {
      "cell_type": "markdown",
      "metadata": {},
      "source": [
        "### Create Full Configuration to Run H2Integrate Simulation\n",
        "\n",
        "The class `H2IntegrateSimulationConfig` reads in all the required YAML files described above, allows user to set additional settings while running the H2Integrate simulation, these include:\n",
        "- **verbose**: If set to `True` additional information about the simulation will be printed as it runs.\n",
        "- **show_plots**: If set to `True` the plots will pop up during the simulation.\n",
        "- **save_plots**: If set to `True` the plots will be saved in the .output/figures folder.\n",
        "- **use_profast**: [ProFAST](https://github.com/NREL/ProFAST) is a financial analysis software that provides a quick and convenient in-depth financial analysis for production systems and services based on Generally Accepted Accounting Principles (GAAP) methodology.\n",
        "- **incentive_options**: Can select IRA incentives options which are located in the `H2Integrate YAML`.\n",
        "- **plant_design_scenario**: Can select the plant design scenario from options which are located in the `H2Integrate YAML`.\n",
        "- **output_level**: Determines what information is returned from the simulation.\n",
        "- **post_processing**: If set to `True` the post_process_simulation() function in [utilities.py](https://github.com/NREL/H2Integrate/blob/main/h2integrate/tools/eco/utilities.py) will be run. This function performs multiple post-processes dependent on the other arguments specified for the `H2IntegrateSimulationConfig` class listed above and configuration set in the required YAML files.\n",
        "    - If **verbose** is set to `True` additional information about the simulation will be printed.\n",
        "    - If **show_plots** or **save_plots** are `True` additional plots of the plant will be shown or saved to ./output/figures folder.\n",
        "    - If the `lca_config`:`run_lca` flag in the `H2Integrate YAML` is set to `True` Life Cycle Assessment (LCA) analysis will be run with the calculate_lca() function in [utilities.py](https://github.com/NREL/H2Integrate/blob/main/h2integrate/tools/eco/utilities.py) and the data will be saved to .output/data/lca folder."
      ]
    },
    {
      "cell_type": "code",
      "execution_count": 5,
      "metadata": {},
      "outputs": [
        {
          "name": "stdout",
          "output_type": "stream",
          "text": [
            "\n",
            "Turbine configuration:\n",
            "turbine_type :  lbw_6MW\n",
            "turbine_rating :  6.0\n",
            "hub_height :  115.0\n",
            "rotor_diameter :  196.0\n",
            "TSR :  9.0\n",
            "operation_model :  cosine-loss\n",
            "power_thrust_table :  {'ref_air_density': 1.225, 'ref_tilt': 6.0, 'cosine_loss_exponent_yaw': 1.88, 'cosine_loss_exponent_tilt': 1.88, 'wind_speed': [0.0, 0.5, 1.0, 1.5, 2.0, 2.5, 3.0, 3.5, 4.0, 4.5, 5.0, 5.5, 6.0, 6.5, 7.0, 7.5, 8.0, 8.5, 9.0, 9.5, 10.0, 10.5, 11.0, 11.5, 12.0, 12.5, 13.0, 13.5, 14.0, 14.5, 15.0, 15.5, 16.0, 16.5, 17.0, 17.5, 18.0, 18.5, 19.0, 19.5, 20.0, 20.5, 21.0, 21.5, 22.0, 22.5, 23.0, 23.5, 24.0, 24.5, 25.0, 25.5, 50.0], 'power': [0.0, 0.0, 0.0, 0.0, 0.0, 0.0, 96.24651230523119, 259.8655834676017, 466.7955856533571, 719.4426800803637, 1020.2130323647901, 1383.5436169472148, 1804.622107344728, 2297.8854847039333, 2868.1460733155195, 3491.3422371404968, 4143.412363766887, 4766.60853153047, 5283.933537682093, 5644.857957214306, 5866.224936675051, 6000.970054119055, 6015.407027531671, 6015.407039825664, 6015.407045771687, 6015.407046797342, 6015.407030784196, 6015.4070299294835, 6015.407031726689, 6015.40703252596, 6015.407050262391, 6015.4070090467885, 6015.407054050846, 6015.406990635828, 6015.407017459927, 6015.40700637177, 6015.407073713843, 6015.407017596219, 6015.407023687774, 6015.406980032777, 6015.407089532948, 6015.4070933745315, 6015.407114130176, 6015.4070674790655, 6015.407052128898, 2887.395408450592, 2887.395433080161, 2887.395444013546, 2887.3953462044515, 2887.3953052175407, 2887.3953593623974, 0.0, 0.0], 'thrust_coefficient': [0.0, 0.0, 0.0, 0.0, 0.0, 0.0, 0.2701938462552998, 0.49876088677031816, 0.6410583756749411, 0.7304171026328261, 0.7820140738475616, 0.8219695127339289, 0.8352112145765765, 0.8400940247937402, 0.8379537129170351, 0.8101778683666324, 0.7672683998396476, 0.7083562153936742, 0.6350905785639259, 0.5551074611981718, 0.4788235519553873, 0.41244475217617255, 0.35190962095427364, 0.3029658154904963, 0.2632886841215642, 0.23060389109382756, 0.20333704601408872, 0.18035220902161636, 0.16080492837083768, 0.14405295244038488, 0.12959884155843146, 0.11705148949914825, 0.10609947180098464, 0.09649207076054334, 0.08802550386379156, 0.080532705961645, 0.07387566569120284, 0.0679395700022922, 0.0626283035300828, 0.05786092523660555, 0.05356890955590444, 0.04969394382759819, 0.04618618064324506, 0.04300281785004922, 0.040106954468623494, 0.017894348350362906, 0.016747646863604262, 0.015697057336370227, 0.014732694286609812, 0.013845872021549986, 0.013028935873409437, 0.0, 0.0]}\n",
            "Total hybrid plant rating calculated: 1396.0 MW\n"
          ]
        }
      ],
      "source": [
        "config = H2IntegrateSimulationConfig(\n",
        "    filename_hopp_config,\n",
        "    filename_h2integrate_config,\n",
        "    filename_turbine_config,\n",
        "    filename_floris_config,\n",
        "    verbose=True,\n",
        "    show_plots=False,\n",
        "    save_plots=False,\n",
        "    use_profast=True,\n",
        "    post_processing=False,\n",
        "    incentive_option=1,\n",
        "    plant_design_scenario=9,\n",
        "    output_level=7,\n",
        ")"
      ]
    },
    {
      "cell_type": "markdown",
      "metadata": {},
      "source": [
        "### Run the H2Integrate Simulation\n",
        "\n",
        "The simulation runs a techno-economic analysis of a given plant configuration. Data and figures are output to a separate folder."
      ]
    },
    {
      "cell_type": "code",
      "execution_count": 6,
      "metadata": {},
      "outputs": [
        {
          "name": "stderr",
          "output_type": "stream",
          "text": [
            "/home/cbay/anaconda3/envs/h2i/lib/python3.11/site-packages/openmdao/core/driver.py:769: OpenMDAOWarning:Driver: No matches for pattern '*_df' in recording_options['excludes'].\n"
          ]
        },
        {
          "name": "stdout",
          "output_type": "stream",
          "text": [
            "FLORIS is the system model...\n",
            "Simulating wind farm output in FLORIS...\n",
            "\n",
            "HOPP Results\n",
            "Hybrid Annual Energy: {\"pv\": 160336236.38669494, \"wind\": 3919162140.8383026, \"battery\": -15959.417939834013, \"hybrid\": 4079482417.8070574}\n",
            "Capacity factors: {\"pv\": 23.79419033135884, \"wind\": 34.52106006573002, \"battery\": 0, \"hybrid\": 31.61701702068134}\n",
            "Real LCOE from HOPP: {\"pv\": 6.240306471360993, \"wind\": 3.977516819993022, \"battery\": 168.95901467973678, \"hybrid\": 4.16211725313441}\n",
            "Took 0.038 sec to run the create clusters\n",
            "Took 0.03 sec to run even_split_power function\n",
            "Took 0.731 sec to run the RUN function\n",
            "\n",
            "Electrolyzer Physics:\n",
            "H2 Produced Annually (metric tons):  76906.54377721724\n",
            "Max H2 hourly (metric tons):  22.731134244210363\n",
            "Max H2 daily (metric tons):  537.2457021120546\n",
            "Energy to electrolyzer (kWh):  4079369842.1256514\n",
            "Energy per kg (kWh/kg):  50.39626689176883\n",
            "Max hourly based on est kg/kWh (kg):  23722.833504198\n",
            "Max daily rough est (metric tons):  546.982701146798\n",
            "Electrolyzer Life Average Capacity Factor:  0.38596578957873534\n",
            "\n",
            "Hydrogen Cost Results:\n",
            "Electrolyzer Total CAPEX $/kW:  1159.097536119984\n",
            "Electrolyzer O&M $/kW:  28.384469868872497\n",
            "Electrolyzer O&M $/kg:  0.42812982394933835\n",
            "\n",
            "\n",
            "Desal Results\n",
            "Average feed_water_flowrat_m3perhr   0.0\n",
            "Average desal_capex_usd   0.0\n",
            "Average desal_opex_usd_per_year   0.0\n",
            "Average power_for_desal_kw   0.0\n",
            "Average fresh_water_capacity_m3_per_hour   0.0\n",
            "Average equipment_mass_kg   0.0\n",
            "Average equipment_footprint_m2   0.0\n",
            "\n",
            "\n",
            "\n",
            "Compressor Results:\n",
            "Total H2 Flowrate (kg/hr):  0.0\n",
            "Compressor_power (kW):  0.0\n",
            "Compressor capex [USD]:  0.0\n",
            "Compressor opex [USD/yr]:  0.0\n",
            "\n",
            "H2 Storage Results:\n",
            "H2 storage capex: $212,523,270\n",
            "H2 storage annual opex: $7,018,423/yr\n",
            "H2 storage capacity (metric tons):  4955.294734628844\n",
            "H2 storage cost $/kg of H2:  42.888119027049676\n",
            "\n",
            "Energy/Power Results:\n",
            "Supply (MWh):  4079482417.807059\n",
            "Desal (kW):  0\n",
            "Transport compressor (kW):  0.0\n",
            "Storage compression, refrigeration, etc (kW):  0.0\n",
            "\n",
            "Platform Results\n",
            "topmass_kg 0.00\n",
            "toparea_m2 0.00\n",
            "platform_mass_metric tons 0.00\n",
            "capex 0.00\n",
            "opex 0.00\n",
            "\n",
            "CAPEX Breakdown\n",
            "wind 1423.01  M\n",
            "wave 0.00  M\n",
            "solar 99.10  M\n",
            "battery 37.00  M\n",
            "platform 0.00  M\n",
            "electrical_export_system 0.00  M\n",
            "desal 0.00  M\n",
            "electrolyzer 1344.55  M\n",
            "h2_pipe_array 0.00  M\n",
            "h2_transport_compressor 0.00  M\n",
            "h2_transport_pipeline 0.00  M\n",
            "h2_storage 223.28  M\n",
            "\n",
            "Total system CAPEX:  $3.13  B\n",
            "\n",
            "Annual OPEX Breakdown\n",
            "wind_and_electrical 41.28  M\n",
            "platform 0.00  M\n",
            "wave 0.00  M\n",
            "solar 2.04  M\n",
            "battery 0.92  M\n",
            "desal 0.00  M\n",
            "electrolyzer 32.93  M\n",
            "h2_pipe_array 0.00  M\n",
            "h2_transport_compressor 0.00  M\n",
            "h2_transport_pipeline 0.00  M\n",
            "h2_storage 7.37  M\n",
            "\n",
            "Total Annual OPEX:  $84.54  M\n",
            "{'wind_and_electrical': np.float64(41275125.281676605), 'platform': np.float64(0.0), 'wave': np.float64(0.0), 'solar': np.float64(2040673.47277339), 'battery': np.float64(924969.0811641203), 'desal': np.float64(0.0), 'electrolyzer': np.float64(32925985.047892097), 'h2_pipe_array': np.float64(0.0), 'h2_transport_compressor': np.float64(0.0), 'h2_transport_pipeline': np.float64(0.0), 'h2_storage': np.float64(7373730.744124508)}\n",
            "hybrid plant capacity factor:  0.31129300797614484\n",
            "\n",
            "ProFAST LCOE:  33.95 $/MWh\n",
            "\n",
            "LCOH grid only: 7.14 $/kg\n",
            "ProFAST grid only NPV: -0.00\n",
            "ProFAST grid only IRR: 0.09480\n",
            "ProFAST grid only LCO: 7.14 $/kg\n",
            "ProFAST grid only Profit Index: 4.65\n",
            "ProFAST grid only payback period: 13\n",
            "\n",
            "ProFAST LCOH: 4.10 $/kg\n",
            "ProFAST NPV: -0.00\n",
            "ProFAST IRR: 0.09480\n",
            "ProFAST LCO: 4.10 $/kg\n",
            "ProFAST Profit Index: 2.32\n",
            "ProFAST payback period: 10\n",
            "Investor NPV:  1302.5 M USD\n",
            "Investor MIRR:  0.08702 \n",
            "Investor ROI:  0.71441 \n"
          ]
        }
      ],
      "source": [
        "# Suppress showing plots in output below if show_plots == False\n",
        "if not config.show_plots:\n",
        "    %matplotlib agg\n",
        "\n",
        "# for analysis\n",
        "prob, config = run_h2integrate(config, run_only=True)\n",
        "\n",
        "# for optimization\n",
        "# prob, config = run_h2integrate(config, run_only=False)"
      ]
    },
    {
      "cell_type": "markdown",
      "metadata": {},
      "source": [
        "### Key Output Values"
      ]
    },
    {
      "cell_type": "code",
      "execution_count": 7,
      "metadata": {},
      "outputs": [
        {
          "name": "stdout",
          "output_type": "stream",
          "text": [
            "LCOE:  [33.95001319] [$/MWh]\n",
            "LCOH:  [4.09776592] [$/kg]\n"
          ]
        }
      ],
      "source": [
        "lcoe = prob.get_val(\"lcoe\", units=\"USD/(MW*h)\")\n",
        "lcoh = prob.get_val(\"lcoh\", units=\"USD/kg\")\n",
        "\n",
        "print(\"LCOE: \", lcoe, \"[$/MWh]\")\n",
        "print(\"LCOH: \", lcoh, \"[$/kg]\")"
      ]
    }
  ],
  "metadata": {
    "kernelspec": {
      "display_name": "base",
      "language": "python",
      "name": "python3"
    },
    "language_info": {
      "codemirror_mode": {
        "name": "ipython",
        "version": 3
      },
      "file_extension": ".py",
      "mimetype": "text/x-python",
      "name": "python",
      "nbconvert_exporter": "python",
      "pygments_lexer": "ipython3",
      "version": "3.11.11"
    }
  },
  "nbformat": 4,
  "nbformat_minor": 2
}
