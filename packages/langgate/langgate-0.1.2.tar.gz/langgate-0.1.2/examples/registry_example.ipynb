{
 "cells": [
  {
   "cell_type": "markdown",
   "metadata": {},
   "source": [
    "# Registry Client Example\n",
    "\n",
    "This notebook demonstrates how to use the `LocalRegistryClient` to access model information from LangGate's model registry."
   ]
  },
  {
   "cell_type": "code",
   "execution_count": 1,
   "metadata": {},
   "outputs": [],
   "source": [
    "import os\n",
    "from pprint import pprint as pp\n",
    "\n",
    "# Optional environment variables\n",
    "# os.environ[\"LANGGATE_CONFIG\"] = \"path/to/langgate_config.yaml\"\n",
    "# os.environ[\"LANGGATE_MODELS\"] = \"path/to/langgate_models.json\"\n",
    "# os.environ[\"LOG_LEVEL\"] = \"debug\""
   ]
  },
  {
   "cell_type": "markdown",
   "metadata": {},
   "source": [
    "## Initialize the Registry Client"
   ]
  },
  {
   "cell_type": "code",
   "execution_count": null,
   "metadata": {},
   "outputs": [],
   "source": [
    "from langgate.registry import LocalRegistryClient\n",
    "\n",
    "# Initialize the registry client\n",
    "# LocalRegistryClient is a singleton\n",
    "client = LocalRegistryClient()"
   ]
  },
  {
   "cell_type": "markdown",
   "metadata": {},
   "source": [
    "## List Available Models"
   ]
  },
  {
   "cell_type": "code",
   "execution_count": null,
   "metadata": {},
   "outputs": [
    {
     "name": "stdout",
     "output_type": "stream",
     "text": [
      "\u001b[2m2025-04-05 20:49:54\u001b[0m [\u001b[32m\u001b[1mdebug    \u001b[0m] \u001b[1mrefreshed_model_cache         \u001b[0m \u001b[36mmodel_count\u001b[0m=\u001b[35m5\u001b[0m\n",
      "Available models: 5\n",
      "- openai/gpt-4o: GPT-4o\n",
      "- openai/o1: o1\n",
      "- openai/o1-high: o1-high\n",
      "- anthropic/claude-3-7-sonnet: Claude-3.7 Sonnet\n",
      "- anthropic/claude-3-7-sonnet-reasoning: Claude-3.7 Sonnet R\n"
     ]
    }
   ],
   "source": [
    "# List available models\n",
    "models = await client.list_models()\n",
    "print(f\"Available models: {len(models)}\")\n",
    "for model in models[:5]:\n",
    "    print(f\"- {model.id}: {model.name}\")"
   ]
  },
  {
   "cell_type": "markdown",
   "metadata": {},
   "source": [
    "## Get Detailed Model Information"
   ]
  },
  {
   "cell_type": "code",
   "execution_count": 4,
   "metadata": {},
   "outputs": [
    {
     "name": "stdout",
     "output_type": "stream",
     "text": [
      "\n",
      "Model: GPT-4o\n",
      "Provider: OpenAI\n",
      "\n",
      "Model metadata:\n",
      "{'capabilities': {'supports_parallel_tool_calls': True,\n",
      "                  'supports_prompt_caching': True,\n",
      "                  'supports_response_schema': True,\n",
      "                  'supports_system_messages': True,\n",
      "                  'supports_tool_choice': True,\n",
      "                  'supports_tools': True,\n",
      "                  'supports_vision': True},\n",
      " 'context_window': {'max_input_tokens': 128000, 'max_output_tokens': 16384},\n",
      " 'costs': {'cache_read_input_token_cost': Decimal('0.00000125'),\n",
      "           'input_cost_per_image': '0.003613',\n",
      "           'input_cost_per_token': Decimal('0.0000025'),\n",
      "           'input_cost_per_token_batches': Decimal('0.00000125'),\n",
      "           'output_cost_per_token': Decimal('0.00001'),\n",
      "           'output_cost_per_token_batches': Decimal('0.000005')},\n",
      " 'description': 'The GPT-4o (omni) model from OpenAI builds upon the GPT-4 '\n",
      "                'series with improved performance and multimodal capabilities. '\n",
      "                'GPT-4o is great for most tasks.',\n",
      " 'id': 'openai/gpt-4o',\n",
      " 'name': 'GPT-4o',\n",
      " 'provider': {'id': 'openai', 'name': 'OpenAI'},\n",
      " 'updated_dt': datetime.datetime(2025, 4, 5, 19, 49, 48, 899672, tzinfo=datetime.timezone.utc)}\n"
     ]
    }
   ],
   "source": [
    "# Get a specific model ID from the available models\n",
    "if models:\n",
    "    model_id = models[0].id\n",
    "    model_info = await client.get_model_info(model_id)\n",
    "\n",
    "    print(f\"\\nModel: {model_info.name}\")\n",
    "    print(f\"Provider: {model_info.provider.name}\")\n",
    "\n",
    "    print(\"\\nModel metadata:\")\n",
    "    pp(model_info.model_dump(exclude_none=True))"
   ]
  },
  {
   "cell_type": "markdown",
   "metadata": {},
   "source": [
    "## Filtering Models"
   ]
  },
  {
   "cell_type": "code",
   "execution_count": 5,
   "metadata": {},
   "outputs": [
    {
     "name": "stdout",
     "output_type": "stream",
     "text": [
      "OpenAI models: 3\n",
      "- openai/gpt-4o: GPT-4o\n",
      "- openai/o1: o1\n",
      "- openai/o1-high: o1-high\n"
     ]
    }
   ],
   "source": [
    "# Filter models by provider\n",
    "openai_models = [model for model in models if model.provider.id == \"openai\"]\n",
    "print(f\"OpenAI models: {len(openai_models)}\")\n",
    "for model in openai_models[:3]:\n",
    "    print(f\"- {model.id}: {model.name}\")"
   ]
  },
  {
   "cell_type": "code",
   "execution_count": 7,
   "metadata": {},
   "outputs": [
    {
     "name": "stdout",
     "output_type": "stream",
     "text": [
      "\n",
      "Models with vision capabilities: 5\n",
      "- openai/gpt-4o: GPT-4o\n",
      "- openai/o1: o1\n",
      "- openai/o1-high: o1-high\n",
      "- anthropic/claude-3-7-sonnet: Claude-3.7 Sonnet\n",
      "- anthropic/claude-3-7-sonnet-reasoning: Claude-3.7 Sonnet R\n"
     ]
    }
   ],
   "source": [
    "# Filter models by capability\n",
    "vision_models = [model for model in models if model.capabilities.supports_vision]\n",
    "print(f\"\\nModels with vision capabilities: {len(vision_models)}\")\n",
    "for model in vision_models[:5]:\n",
    "    print(f\"- {model.id}: {model.name}\")"
   ]
  },
  {
   "cell_type": "markdown",
   "metadata": {},
   "source": [
    "## Working with Model Costs"
   ]
  },
  {
   "cell_type": "code",
   "execution_count": 8,
   "metadata": {},
   "outputs": [
    {
     "name": "stdout",
     "output_type": "stream",
     "text": [
      "Cost information for GPT-4o:\n",
      "{'cache_read_input_token_cost': Decimal('0.00000125'),\n",
      " 'input_cost_per_image': '0.003613',\n",
      " 'input_cost_per_token': Decimal('0.0000025'),\n",
      " 'input_cost_per_token_batches': Decimal('0.00000125'),\n",
      " 'output_cost_per_token': Decimal('0.00001'),\n",
      " 'output_cost_per_token_batches': Decimal('0.000005')}\n"
     ]
    }
   ],
   "source": [
    "# Get cost information for a model\n",
    "if models:\n",
    "    model_id = models[0].id\n",
    "    model_info = await client.get_model_info(model_id)\n",
    "\n",
    "    print(f\"Cost information for {model_info.name}:\")\n",
    "    pp(model_info.costs.model_dump(exclude_none=True))"
   ]
  }
 ],
 "metadata": {
  "kernelspec": {
   "display_name": ".venv",
   "language": "python",
   "name": "python3"
  },
  "language_info": {
   "codemirror_mode": {
    "name": "ipython",
    "version": 3
   },
   "file_extension": ".py",
   "mimetype": "text/x-python",
   "name": "python",
   "nbconvert_exporter": "python",
   "pygments_lexer": "ipython3",
   "version": "3.13.2"
  }
 },
 "nbformat": 4,
 "nbformat_minor": 4
}
