{
 "cells": [
  {
   "cell_type": "markdown",
   "metadata": {},
   "source": [
    "# Parameter Transformation Example\n",
    "\n",
    "This notebook demonstrates how to use the `LocalTransformerClient` to transform input parameters for LLM requests based on model-specific configurations."
   ]
  },
  {
   "cell_type": "code",
   "execution_count": 1,
   "metadata": {},
   "outputs": [],
   "source": [
    "import os\n",
    "from pprint import pprint as pp\n",
    "\n",
    "# Optional environment variables\n",
    "# os.environ[\"LANGGATE_CONFIG\"] = \"path/to/langgate_config.yaml\"\n",
    "# os.environ[\"LOG_LEVEL\"] = \"debug\""
   ]
  },
  {
   "cell_type": "markdown",
   "metadata": {},
   "source": [
    "## Initialize the Transformer Client"
   ]
  },
  {
   "cell_type": "code",
   "execution_count": 3,
   "metadata": {},
   "outputs": [],
   "source": [
    "from langgate.transform import LocalTransformerClient\n",
    "\n",
    "# Initialize the transformer client\n",
    "transformer = LocalTransformerClient()"
   ]
  },
  {
   "cell_type": "markdown",
   "metadata": {},
   "source": [
    "## Define Input Parameters\n",
    "\n",
    "These are the parameters that would typically be provided by your application code."
   ]
  },
  {
   "cell_type": "code",
   "execution_count": 4,
   "metadata": {},
   "outputs": [],
   "source": [
    "# Sample user parameters\n",
    "input_params = {\n",
    "    \"temperature\": 0.7,\n",
    "    \"max_tokens\": 1000,\n",
    "    \"stream\": True,\n",
    "}"
   ]
  },
  {
   "cell_type": "markdown",
   "metadata": {},
   "source": [
    "## Transform Parameters for a Specific Model\n",
    "\n",
    "The transformer will apply transformations based on the model configuration in `langgate_config.yaml`."
   ]
  },
  {
   "cell_type": "code",
   "execution_count": null,
   "metadata": {},
   "outputs": [
    {
     "name": "stdout",
     "output_type": "stream",
     "text": [
      "Original parameters for anthropic/claude-3-7-sonnet:\n",
      "{'max_tokens': 1000, 'stream': True, 'temperature': 0.7}\n",
      "\n",
      "Transformed parameters:\n",
      "{'api_key': SecretStr('**********'),\n",
      " 'base_url': 'https://api.anthropic.com',\n",
      " 'max_tokens': 1000,\n",
      " 'model': 'claude-3-7-sonnet-20250219',\n",
      " 'stream': True,\n",
      " 'temperature': 0.7}\n"
     ]
    }
   ],
   "source": [
    "# Transform parameters for an Anthropic model\n",
    "model_id = \"anthropic/claude-3-7-sonnet\"\n",
    "\n",
    "transformed = await transformer.get_params(model_id, input_params)\n",
    "\n",
    "print(f\"Original parameters for {model_id}:\")\n",
    "pp(input_params)\n",
    "\n",
    "print(\"\\nTransformed parameters:\")\n",
    "pp(transformed)"
   ]
  },
  {
   "cell_type": "markdown",
   "metadata": {},
   "source": [
    "## Working with Model-Specific Configurations\n",
    "\n",
    "Different models may have different parameter transformations defined in `langgate_config.yaml`.\n",
    "You can define \"virtual models\" with IDs referring to a model + a configuration."
   ]
  },
  {
   "cell_type": "code",
   "execution_count": null,
   "metadata": {},
   "outputs": [
    {
     "name": "stdout",
     "output_type": "stream",
     "text": [
      "Original parameters for anthropic/claude-3-7-sonnet-reasoning:\n",
      "{'max_tokens': 1000, 'stream': True, 'temperature': 0.7}\n",
      "\n",
      "Transformed parameters:\n",
      "{'api_key': SecretStr('**********'),\n",
      " 'base_url': 'https://api.anthropic.com',\n",
      " 'max_tokens': 1000,\n",
      " 'model': 'claude-3-7-sonnet-20250219',\n",
      " 'stream': True,\n",
      " 'thinking': {'budget_tokens': 1024, 'type': 'enabled'}}\n"
     ]
    }
   ],
   "source": [
    "# Using a model with a specific configuration.\n",
    "# Anthropic has no actual model with this ID. We define it ourselves,\n",
    "# to reference claude-3-7-sonnet with a specific reasoning configuration.\n",
    "model_id = \"anthropic/claude-3-7-sonnet-reasoning\"\n",
    "\n",
    "transformed = await transformer.get_params(model_id, input_params)\n",
    "\n",
    "print(f\"Original parameters for {model_id}:\")\n",
    "pp(input_params)\n",
    "\n",
    "print(\"\\nTransformed parameters:\")\n",
    "pp(transformed)"
   ]
  }
 ],
 "metadata": {
  "kernelspec": {
   "display_name": ".venv",
   "language": "python",
   "name": "python3"
  },
  "language_info": {
   "codemirror_mode": {
    "name": "ipython",
    "version": 3
   },
   "file_extension": ".py",
   "mimetype": "text/x-python",
   "name": "python",
   "nbconvert_exporter": "python",
   "pygments_lexer": "ipython3",
   "version": "3.13.2"
  }
 },
 "nbformat": 4,
 "nbformat_minor": 4
}
