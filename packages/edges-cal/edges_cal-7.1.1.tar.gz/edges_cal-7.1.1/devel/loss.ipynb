{
 "cells": [
  {
   "cell_type": "code",
   "execution_count": 19,
   "metadata": {},
   "outputs": [],
   "source": [
    "from edges_cal.loss import get_cable_loss_model\n",
    "from edges_cal.ee import KNOWN_CABLES\n",
    "import numpy as np\n",
    "from astropy import units as u\n",
    "import attrs\n",
    "import ctypes"
   ]
  },
  {
   "cell_type": "code",
   "execution_count": 30,
   "metadata": {},
   "outputs": [],
   "source": [
    "from ctypes import cdll\n",
    "\n",
    "antloss_lib = cdll.LoadLibrary(\"antloss.so\")\n",
    "lossmodel = antloss_lib.lossmodel\n",
    "lossmodel.restype = ctypes.c_double\n",
    "lossmodel.argtypes = [ctypes.c_double, ctypes.c_double, ctypes.c_double, ctypes.c_int]"
   ]
  },
  {
   "cell_type": "code",
   "execution_count": 36,
   "metadata": {},
   "outputs": [
    {
     "name": "stdout",
     "output_type": "stream",
     "text": [
      "SKIN DEPTH: 0.420815 0.133073\n",
      "PROP CONSTANT: 0.018761 1.519219\n",
      "G: 6.127692292683e-06\n",
      "C: 9.752525181235e-11\n",
      "L: 2.397505225929e-07\n",
      "R: 1.845450278693e+00\n",
      "s11: 5.305484346595e-04 -4.071350218314e-04\n",
      "s12: 9.984042141051e-01 -4.553381508384e-02\n",
      "ta11: 9.984040787450e-01 $-4.553338855696e-02\n",
      "ta12: 5.488525568679e-04 -3.827544651754e-04\n",
      "ta21: -5.488525568679e-04 3.827544651754e-04\n",
      "ta22 9.995193748142e-01 4.558467376493e-02\n",
      "SKIN DEPTH: 0.121059 0.065192\n",
      "PROP CONSTANT: 0.001274 1.085243\n",
      "G: 0.000000000000e+00\n",
      "C: 6.799273664478e-11\n",
      "L: 1.755057936671e-07\n",
      "R: 1.294481303388e-01\n",
      "s11: 1.428786235488e-02 4.343184802218e-03\n",
      "s12: 3.600653167206e-01 -9.312907176085e-01\n",
      "tb11: 3.601143356098e-01 -9.315086192310e-01\n",
      "tb12: 1.103161260231e-03 1.491548448157e-02\n",
      "tb21: -1.103161260231e-03 -1.491548448157e-02\n",
      "tb22 3.611670810964e-01 9.341403754028e-01\n",
      "t11: 3.171185631426e-01 -9.464269949564e-01\n",
      "t12: 2.336327127845e-03 1.521591689310e-02\n",
      "t21: -2.638241495113e-04 -1.430950671289e-02\n",
      "t22 3.184046963964e-01 9.501473234158e-01\n"
     ]
    }
   ],
   "source": [
    "alan = lossmodel(50.0, 0.0, 0.0, 6)"
   ]
  },
  {
   "cell_type": "code",
   "execution_count": 32,
   "metadata": {},
   "outputs": [],
   "source": [
    "balun = KNOWN_CABLES['lowband-balun-tube']\n",
    "balun = attrs.evolve(balun, eps0=8.854e-12*u.F/u.m)"
   ]
  },
  {
   "cell_type": "code",
   "execution_count": 33,
   "metadata": {},
   "outputs": [],
   "source": [
    "connector = KNOWN_CABLES['SC3792 Connector']\n",
    "connector = attrs.evolve(connector, eps0=8.854e-12*u.F/u.m)"
   ]
  },
  {
   "cell_type": "code",
   "execution_count": 34,
   "metadata": {},
   "outputs": [],
   "source": [
    "mdl = get_cable_loss_model([connector, balun])"
   ]
  },
  {
   "cell_type": "code",
   "execution_count": 37,
   "metadata": {},
   "outputs": [
    {
     "data": {
      "text/plain": [
       "(array([0.99605126]), 0.9960512573205863)"
      ]
     },
     "execution_count": 37,
     "metadata": {},
     "output_type": "execute_result"
    }
   ],
   "source": [
    "mdl(50*u.MHz, 0.0), alan"
   ]
  },
  {
   "cell_type": "code",
   "execution_count": 40,
   "metadata": {},
   "outputs": [
    {
     "name": "stdout",
     "output_type": "stream",
     "text": [
      "SKIN DEPTH: 0.420815 0.133073\n",
      "PROP CONSTANT: 0.016742 1.217153\n",
      "G: 4.902153834147e-06\n",
      "C: 9.752525181235e-11\n",
      "L: 2.404438838318e-07\n",
      "R: 1.650620908901e+00\n",
      "s11: 4.815630810937e-04 -2.716091236734e-04\n",
      "s12: 9.988351812631e-01 -3.648593049296e-02\n",
      "ta11: 9.988350136042e-01 $-3.648567471837e-02\n",
      "ta12: 4.914020150893e-04 -2.539756995603e-04\n",
      "ta21: -4.914020150893e-04 2.539756995603e-04\n",
      "ta22 9.998320713757e-01 3.652234537305e-02\n",
      "SKIN DEPTH: 0.121059 0.065192\n",
      "PROP CONSTANT: 0.001139 0.868315\n",
      "G: 0.000000000000e+00\n",
      "C: 6.799273664478e-11\n",
      "L: 1.755544291232e-07\n",
      "R: 1.157819275991e-01\n",
      "s11: 1.145599068407e-02 6.667603273227e-03\n",
      "s12: 5.713881587152e-01 -8.190252246560e-01\n",
      "tb11: 5.714638984052e-01 -8.191840226359e-01\n",
      "tb12: 1.087833723065e-03 1.322842697623e-02\n",
      "tb21: -1.087833723065e-03 -1.322842697623e-02\n",
      "tb22 5.729426974699e-01 8.212534935366e-01\n",
      "t11: 5.409057746908e-01 -8.390861544967e-01\n",
      "t12: 2.059338121872e-03 1.343137779063e-02\n",
      "t21: -6.772835418857e-04 -1.271824916081e-02\n",
      "t22 5.428484859985e-01 8.420345684509e-01\n"
     ]
    },
    {
     "data": {
      "text/plain": [
       "(array([0.9964257]), 0.996425704359249)"
      ]
     },
     "execution_count": 40,
     "metadata": {},
     "output_type": "execute_result"
    }
   ],
   "source": [
    "mdl(40*u.MHz, 1e-3 + 1e-2j), lossmodel(40.0, 1e-3, 1e-2, 6)"
   ]
  },
  {
   "cell_type": "code",
   "execution_count": 6,
   "metadata": {},
   "outputs": [],
   "source": [
    "sc = connector.scattering_parameters(50*u.MHz)"
   ]
  },
  {
   "cell_type": "code",
   "execution_count": 7,
   "metadata": {},
   "outputs": [],
   "source": [
    "ttc = sc.as_transfer_matrix()"
   ]
  },
  {
   "cell_type": "code",
   "execution_count": 8,
   "metadata": {},
   "outputs": [],
   "source": [
    "sb = balun.scattering_parameters(50*u.MHz)"
   ]
  },
  {
   "cell_type": "code",
   "execution_count": 9,
   "metadata": {},
   "outputs": [],
   "source": [
    "ttb = sb.as_transfer_matrix()"
   ]
  },
  {
   "cell_type": "code",
   "execution_count": 10,
   "metadata": {},
   "outputs": [
    {
     "data": {
      "text/plain": [
       "array([[ 3.17118563e-01-0.946427j  ,  2.33632713e-03+0.01521592j],\n",
       "       [-2.63824149e-04-0.01430951j,  3.18404696e-01+0.95014732j]])"
      ]
     },
     "execution_count": 10,
     "metadata": {},
     "output_type": "execute_result"
    }
   ],
   "source": [
    "np.matmul(ttc[:, :, 0], ttb[:, :, 0])"
   ]
  },
  {
   "cell_type": "code",
   "execution_count": 11,
   "metadata": {},
   "outputs": [
    {
     "data": {
      "text/plain": [
       "array([[[ 3.17118563e-01-0.946427j  ],\n",
       "        [ 2.33632713e-03+0.01521592j]],\n",
       "\n",
       "       [[-2.63824149e-04-0.01430951j],\n",
       "        [ 3.18404696e-01+0.95014732j]]])"
      ]
     },
     "execution_count": 11,
     "metadata": {},
     "output_type": "execute_result"
    }
   ],
   "source": [
    "np.matmul(ttc.transpose((2,0,1)), ttb.transpose((2,0,1))).transpose((1, 2, 0))"
   ]
  },
  {
   "cell_type": "code",
   "execution_count": 12,
   "metadata": {},
   "outputs": [
    {
     "data": {
      "text/plain": [
       "array([[[0.01428786+0.00434318j],\n",
       "        [0.36006532-0.93129072j]],\n",
       "\n",
       "       [[0.36006532-0.93129072j],\n",
       "        [0.01428786+0.00434318j]]])"
      ]
     },
     "execution_count": 12,
     "metadata": {},
     "output_type": "execute_result"
    }
   ],
   "source": [
    "sb.s"
   ]
  },
  {
   "cell_type": "code",
   "execution_count": 13,
   "metadata": {},
   "outputs": [],
   "source": [
    "both = sc.cascade_with(sb)"
   ]
  },
  {
   "cell_type": "code",
   "execution_count": 14,
   "metadata": {},
   "outputs": [
    {
     "data": {
      "text/plain": [
       "array([[[ 3.17118563e-01-0.946427j  ],\n",
       "        [ 2.33632713e-03+0.01521592j]],\n",
       "\n",
       "       [[-2.63824149e-04-0.01430951j],\n",
       "        [ 3.18404696e-01+0.95014732j]]])"
      ]
     },
     "execution_count": 14,
     "metadata": {},
     "output_type": "execute_result"
    }
   ],
   "source": [
    "both.as_transfer_matrix()"
   ]
  },
  {
   "cell_type": "code",
   "execution_count": 15,
   "metadata": {},
   "outputs": [
    {
     "data": {
      "text/plain": [
       "array([[[ 3.17118563e-01-0.946427j  ],\n",
       "        [ 2.33632713e-03+0.01521592j]],\n",
       "\n",
       "       [[-2.63824149e-04-0.01430951j],\n",
       "        [ 3.18404696e-01+0.95014732j]]])"
      ]
     },
     "execution_count": 15,
     "metadata": {},
     "output_type": "execute_result"
    }
   ],
   "source": [
    "sc.cascade_with(sb).as_transfer_matrix()"
   ]
  },
  {
   "cell_type": "code",
   "execution_count": 16,
   "metadata": {},
   "outputs": [
    {
     "data": {
      "text/plain": [
       "array([[[ 3.17118563e-01-0.946427j  ],\n",
       "        [ 2.63824149e-04+0.01430951j]],\n",
       "\n",
       "       [[-2.33632713e-03-0.01521592j],\n",
       "        [ 3.18404696e-01+0.95014732j]]])"
      ]
     },
     "execution_count": 16,
     "metadata": {},
     "output_type": "execute_result"
    }
   ],
   "source": [
    "sb.cascade_with(sc).as_transfer_matrix()"
   ]
  },
  {
   "cell_type": "code",
   "execution_count": null,
   "metadata": {},
   "outputs": [],
   "source": []
  }
 ],
 "metadata": {
  "kernelspec": {
   "display_name": ".venv",
   "language": "python",
   "name": "python3"
  },
  "language_info": {
   "codemirror_mode": {
    "name": "ipython",
    "version": 3
   },
   "file_extension": ".py",
   "mimetype": "text/x-python",
   "name": "python",
   "nbconvert_exporter": "python",
   "pygments_lexer": "ipython3",
   "version": "3.11.10"
  }
 },
 "nbformat": 4,
 "nbformat_minor": 2
}
