{
 "cells": [
  {
   "cell_type": "markdown",
   "id": "57c80a2c",
   "metadata": {},
   "source": [
    "# How to: assign ChIP-seq peaks to genes\n",
    "\n",
    "This tutorial demonstrates one way to assign CTCF ChIP-seq peaks to the nearest genes using bioframe."
   ]
  },
  {
   "cell_type": "code",
   "execution_count": 1,
   "id": "ad9ab941",
   "metadata": {},
   "outputs": [],
   "source": [
    "import matplotlib.pyplot as plt\n",
    "import numpy as np\n",
    "\n",
    "import bioframe"
   ]
  },
  {
   "cell_type": "code",
   "execution_count": 72,
   "id": "562865cc",
   "metadata": {},
   "outputs": [],
   "source": [
    "base_dir = \"/tmp/bioframe_tutorial_data/\"\n",
    "assembly = \"hg38\""
   ]
  },
  {
   "cell_type": "markdown",
   "id": "d3dae5c3",
   "metadata": {},
   "source": [
    "## Load chromosome sizes\n"
   ]
  },
  {
   "cell_type": "code",
   "execution_count": 74,
   "id": "6253803a",
   "metadata": {},
   "outputs": [
    {
     "data": {
      "text/plain": [
       "chr21     46709983\n",
       "chr22     50818468\n",
       "chrX     156040895\n",
       "chrY      57227415\n",
       "chrM         16569\n",
       "Name: length, dtype: int64"
      ]
     },
     "execution_count": 74,
     "metadata": {},
     "output_type": "execute_result"
    }
   ],
   "source": [
    "chromsizes = bioframe.fetch_chromsizes(assembly)\n",
    "chromsizes.tail()"
   ]
  },
  {
   "cell_type": "code",
   "execution_count": 78,
   "id": "c74347d2",
   "metadata": {},
   "outputs": [],
   "source": [
    "chromosomes = bioframe.make_viewframe(chromsizes)"
   ]
  },
  {
   "cell_type": "markdown",
   "id": "eb8e2724",
   "metadata": {},
   "source": [
    "## Load CTCF ChIP-seq peaks for HFF from ENCODE\n",
    "\n",
    "This approach makes use of the `narrowPeak` schema for bioframe.read_table . "
   ]
  },
  {
   "cell_type": "code",
   "execution_count": 3,
   "id": "48616968",
   "metadata": {},
   "outputs": [
    {
     "data": {
      "text/html": [
       "<div>\n",
       "<style scoped>\n",
       "    .dataframe tbody tr th:only-of-type {\n",
       "        vertical-align: middle;\n",
       "    }\n",
       "\n",
       "    .dataframe tbody tr th {\n",
       "        vertical-align: top;\n",
       "    }\n",
       "\n",
       "    .dataframe thead th {\n",
       "        text-align: right;\n",
       "    }\n",
       "</style>\n",
       "<table border=\"1\" class=\"dataframe\">\n",
       "  <thead>\n",
       "    <tr style=\"text-align: right;\">\n",
       "      <th></th>\n",
       "      <th>chrom</th>\n",
       "      <th>start</th>\n",
       "      <th>end</th>\n",
       "      <th>name</th>\n",
       "      <th>score</th>\n",
       "      <th>strand</th>\n",
       "      <th>fc</th>\n",
       "      <th>-log10p</th>\n",
       "      <th>-log10q</th>\n",
       "      <th>relSummit</th>\n",
       "    </tr>\n",
       "  </thead>\n",
       "  <tbody>\n",
       "    <tr>\n",
       "      <th>0</th>\n",
       "      <td>chr19</td>\n",
       "      <td>48309541</td>\n",
       "      <td>48309911</td>\n",
       "      <td>.</td>\n",
       "      <td>1000</td>\n",
       "      <td>.</td>\n",
       "      <td>5.04924</td>\n",
       "      <td>-1.0</td>\n",
       "      <td>0.00438</td>\n",
       "      <td>185</td>\n",
       "    </tr>\n",
       "    <tr>\n",
       "      <th>1</th>\n",
       "      <td>chr4</td>\n",
       "      <td>130563716</td>\n",
       "      <td>130564086</td>\n",
       "      <td>.</td>\n",
       "      <td>993</td>\n",
       "      <td>.</td>\n",
       "      <td>5.05052</td>\n",
       "      <td>-1.0</td>\n",
       "      <td>0.00432</td>\n",
       "      <td>185</td>\n",
       "    </tr>\n",
       "    <tr>\n",
       "      <th>2</th>\n",
       "      <td>chr1</td>\n",
       "      <td>200622507</td>\n",
       "      <td>200622877</td>\n",
       "      <td>.</td>\n",
       "      <td>591</td>\n",
       "      <td>.</td>\n",
       "      <td>5.05489</td>\n",
       "      <td>-1.0</td>\n",
       "      <td>0.00400</td>\n",
       "      <td>185</td>\n",
       "    </tr>\n",
       "    <tr>\n",
       "      <th>3</th>\n",
       "      <td>chr5</td>\n",
       "      <td>112848447</td>\n",
       "      <td>112848817</td>\n",
       "      <td>.</td>\n",
       "      <td>869</td>\n",
       "      <td>.</td>\n",
       "      <td>5.05841</td>\n",
       "      <td>-1.0</td>\n",
       "      <td>0.00441</td>\n",
       "      <td>185</td>\n",
       "    </tr>\n",
       "    <tr>\n",
       "      <th>4</th>\n",
       "      <td>chr1</td>\n",
       "      <td>145960616</td>\n",
       "      <td>145960986</td>\n",
       "      <td>.</td>\n",
       "      <td>575</td>\n",
       "      <td>.</td>\n",
       "      <td>5.05955</td>\n",
       "      <td>-1.0</td>\n",
       "      <td>0.00439</td>\n",
       "      <td>185</td>\n",
       "    </tr>\n",
       "  </tbody>\n",
       "</table>\n",
       "</div>"
      ],
      "text/plain": [
       "   chrom      start        end name  score strand       fc  -log10p  -log10q  \\\n",
       "0  chr19   48309541   48309911    .   1000      .  5.04924     -1.0  0.00438   \n",
       "1   chr4  130563716  130564086    .    993      .  5.05052     -1.0  0.00432   \n",
       "2   chr1  200622507  200622877    .    591      .  5.05489     -1.0  0.00400   \n",
       "3   chr5  112848447  112848817    .    869      .  5.05841     -1.0  0.00441   \n",
       "4   chr1  145960616  145960986    .    575      .  5.05955     -1.0  0.00439   \n",
       "\n",
       "   relSummit  \n",
       "0        185  \n",
       "1        185  \n",
       "2        185  \n",
       "3        185  \n",
       "4        185  "
      ]
     },
     "execution_count": 3,
     "metadata": {},
     "output_type": "execute_result"
    }
   ],
   "source": [
    "ctcf_peaks = bioframe.read_table(\n",
    "    \"https://www.encodeproject.org/files/ENCFF401MQL/@@download/ENCFF401MQL.bed.gz\",\n",
    "    schema=\"narrowPeak\",\n",
    ")\n",
    "ctcf_peaks.head()"
   ]
  },
  {
   "cell_type": "code",
   "execution_count": 83,
   "id": "5a228b72",
   "metadata": {},
   "outputs": [],
   "source": [
    "# Filter for selected chromosomes:\n",
    "ctcf_peaks = bioframe.overlap(ctcf_peaks, chromosomes).dropna(subset=[\"name_\"])[\n",
    "    ctcf_peaks.columns\n",
    "]"
   ]
  },
  {
   "cell_type": "markdown",
   "id": "e39fca85",
   "metadata": {},
   "source": [
    "## Get list of genes from UCSC\n",
    "\n",
    "UCSC genes are stored in .gtf format."
   ]
  },
  {
   "cell_type": "code",
   "execution_count": 4,
   "id": "e75ffbb4",
   "metadata": {},
   "outputs": [
    {
     "data": {
      "text/html": [
       "<div>\n",
       "<style scoped>\n",
       "    .dataframe tbody tr th:only-of-type {\n",
       "        vertical-align: middle;\n",
       "    }\n",
       "\n",
       "    .dataframe tbody tr th {\n",
       "        vertical-align: top;\n",
       "    }\n",
       "\n",
       "    .dataframe thead th {\n",
       "        text-align: right;\n",
       "    }\n",
       "</style>\n",
       "<table border=\"1\" class=\"dataframe\">\n",
       "  <thead>\n",
       "    <tr style=\"text-align: right;\">\n",
       "      <th></th>\n",
       "      <th>chrom</th>\n",
       "      <th>source</th>\n",
       "      <th>feature</th>\n",
       "      <th>start</th>\n",
       "      <th>end</th>\n",
       "      <th>score</th>\n",
       "      <th>strand</th>\n",
       "      <th>frame</th>\n",
       "      <th>attributes</th>\n",
       "    </tr>\n",
       "  </thead>\n",
       "  <tbody>\n",
       "    <tr>\n",
       "      <th>47</th>\n",
       "      <td>chr1</td>\n",
       "      <td>ensGene</td>\n",
       "      <td>CDS</td>\n",
       "      <td>69091</td>\n",
       "      <td>70005</td>\n",
       "      <td>.</td>\n",
       "      <td>+</td>\n",
       "      <td>0</td>\n",
       "      <td>gene_id \"ENSG00000186092\"; transcript_id \"ENST...</td>\n",
       "    </tr>\n",
       "    <tr>\n",
       "      <th>112</th>\n",
       "      <td>chr1</td>\n",
       "      <td>ensGene</td>\n",
       "      <td>CDS</td>\n",
       "      <td>182709</td>\n",
       "      <td>182746</td>\n",
       "      <td>.</td>\n",
       "      <td>+</td>\n",
       "      <td>0</td>\n",
       "      <td>gene_id \"ENSG00000279928\"; transcript_id \"ENST...</td>\n",
       "    </tr>\n",
       "    <tr>\n",
       "      <th>114</th>\n",
       "      <td>chr1</td>\n",
       "      <td>ensGene</td>\n",
       "      <td>CDS</td>\n",
       "      <td>183114</td>\n",
       "      <td>183240</td>\n",
       "      <td>.</td>\n",
       "      <td>+</td>\n",
       "      <td>1</td>\n",
       "      <td>gene_id \"ENSG00000279928\"; transcript_id \"ENST...</td>\n",
       "    </tr>\n",
       "    <tr>\n",
       "      <th>116</th>\n",
       "      <td>chr1</td>\n",
       "      <td>ensGene</td>\n",
       "      <td>CDS</td>\n",
       "      <td>183922</td>\n",
       "      <td>184155</td>\n",
       "      <td>.</td>\n",
       "      <td>+</td>\n",
       "      <td>0</td>\n",
       "      <td>gene_id \"ENSG00000279928\"; transcript_id \"ENST...</td>\n",
       "    </tr>\n",
       "    <tr>\n",
       "      <th>122</th>\n",
       "      <td>chr1</td>\n",
       "      <td>ensGene</td>\n",
       "      <td>CDS</td>\n",
       "      <td>185220</td>\n",
       "      <td>185350</td>\n",
       "      <td>.</td>\n",
       "      <td>-</td>\n",
       "      <td>2</td>\n",
       "      <td>gene_id \"ENSG00000279457\"; transcript_id \"ENST...</td>\n",
       "    </tr>\n",
       "  </tbody>\n",
       "</table>\n",
       "</div>"
      ],
      "text/plain": [
       "    chrom   source feature   start     end score strand frame  \\\n",
       "47   chr1  ensGene     CDS   69091   70005     .      +     0   \n",
       "112  chr1  ensGene     CDS  182709  182746     .      +     0   \n",
       "114  chr1  ensGene     CDS  183114  183240     .      +     1   \n",
       "116  chr1  ensGene     CDS  183922  184155     .      +     0   \n",
       "122  chr1  ensGene     CDS  185220  185350     .      -     2   \n",
       "\n",
       "                                            attributes  \n",
       "47   gene_id \"ENSG00000186092\"; transcript_id \"ENST...  \n",
       "112  gene_id \"ENSG00000279928\"; transcript_id \"ENST...  \n",
       "114  gene_id \"ENSG00000279928\"; transcript_id \"ENST...  \n",
       "116  gene_id \"ENSG00000279928\"; transcript_id \"ENST...  \n",
       "122  gene_id \"ENSG00000279457\"; transcript_id \"ENST...  "
      ]
     },
     "execution_count": 4,
     "metadata": {},
     "output_type": "execute_result"
    }
   ],
   "source": [
    "genes_url = (\n",
    "    \"https://hgdownload.soe.ucsc.edu/goldenpath/hg38/bigZips/genes/hg38.ensGene.gtf.gz\"\n",
    ")\n",
    "genes = bioframe.read_table(genes_url, schema=\"gtf\").query('feature==\"CDS\"')\n",
    "\n",
    "genes.head()\n",
    "\n",
    "## Note this functions to parse the attributes of the genes:\n",
    "# import bioframe.sandbox.gtf_io\n",
    "# genes_attr = bioframe.sandbox.gtf_io.parse_gtf_attributes(genes['attributes'])"
   ]
  },
  {
   "cell_type": "code",
   "execution_count": 84,
   "id": "84b4226f",
   "metadata": {},
   "outputs": [],
   "source": [
    "# Filter for selected chromosomes:\n",
    "genes = bioframe.overlap(genes, chromosomes).dropna(subset=[\"name_\"])[genes.columns]"
   ]
  },
  {
   "cell_type": "markdown",
   "id": "111ff194",
   "metadata": {},
   "source": [
    "## Assign each peak to the gene\n",
    "\n",
    "![Setup](https://raw.githubusercontent.com/open2c/bioframe/main/docs/figs/closest0.png)\n",
    "\n",
    "![Default closests](https://raw.githubusercontent.com/open2c/bioframe/main/docs/figs/closest3.png)\n",
    "\n",
    "Here, we want to assign each peak (feature) to a gene (input table)."
   ]
  },
  {
   "cell_type": "code",
   "execution_count": 85,
   "id": "4d78c70b",
   "metadata": {},
   "outputs": [],
   "source": [
    "peaks_closest = bioframe.closest(genes, ctcf_peaks)"
   ]
  },
  {
   "cell_type": "code",
   "execution_count": 87,
   "id": "b55e2e12",
   "metadata": {},
   "outputs": [
    {
     "data": {
      "text/plain": [
       "(0.0, 1000.0)"
      ]
     },
     "execution_count": 87,
     "metadata": {},
     "output_type": "execute_result"
    },
    {
     "data": {
      "image/png": "[encoded data removed]",
      "text/plain": [
       "<Figure size 640x480 with 1 Axes>"
      ]
     },
     "metadata": {},
     "output_type": "display_data"
    }
   ],
   "source": [
    "# Plot the distribution of distances from peaks to genes:\n",
    "plt.hist(peaks_closest[\"distance\"], np.arange(0, 1e3, 10))\n",
    "plt.xlim([0, 1e3])"
   ]
  },
  {
   "cell_type": "markdown",
   "id": "8cec3987",
   "metadata": {},
   "source": [
    "## Ignore upstream/downstream peaks from genes (strand-indifferent version)\n",
    "\n",
    "Sometimes you may want to ignore all the CTCFs upstream from the genes. \n",
    "\n",
    "By default, `bioframe.overlap` does not know the orintation of the genes, and thus assumes that the upstream/downstream is defined by the genomic coordinate (upstream is the direction towards the smaller coordinate):\n",
    "\n",
    "![Closests with ignoring](https://raw.githubusercontent.com/open2c/bioframe/main/docs/figs/closest2.png)\n"
   ]
  },
  {
   "cell_type": "code",
   "execution_count": 88,
   "id": "e99e5213",
   "metadata": {},
   "outputs": [],
   "source": [
    "peaks_closest_upstream_nodir = bioframe.closest(\n",
    "    genes,\n",
    "    ctcf_peaks,\n",
    "    ignore_overlaps=False,\n",
    "    ignore_upstream=False,\n",
    "    ignore_downstream=True,\n",
    "    direction_col=None,\n",
    ")\n",
    "\n",
    "peaks_closest_downstream_nodir = bioframe.closest(\n",
    "    genes,\n",
    "    ctcf_peaks,\n",
    "    ignore_overlaps=False,\n",
    "    ignore_upstream=True,\n",
    "    ignore_downstream=False,\n",
    "    direction_col=None,\n",
    ")"
   ]
  },
  {
   "cell_type": "markdown",
   "id": "2fa693c9",
   "metadata": {},
   "source": [
    "Note that distribution did not change much, and upstream and downstream distances are very similar:"
   ]
  },
  {
   "cell_type": "code",
   "execution_count": 92,
   "id": "aa438234",
   "metadata": {},
   "outputs": [
    {
     "data": {
      "text/plain": [
       "<matplotlib.legend.Legend at 0x7fd148d1bfd0>"
      ]
     },
     "execution_count": 92,
     "metadata": {},
     "output_type": "execute_result"
    },
    {
     "data": {
      "image/png": "[encoded data removed]",
      "text/plain": [
       "<Figure size 640x480 with 1 Axes>"
      ]
     },
     "metadata": {},
     "output_type": "display_data"
    }
   ],
   "source": [
    "plt.hist(\n",
    "    peaks_closest_upstream_nodir[\"distance\"],\n",
    "    np.arange(0, 1e4, 100),\n",
    "    alpha=0.5,\n",
    "    label=\"upstream\",\n",
    ")\n",
    "plt.hist(\n",
    "    peaks_closest_downstream_nodir[\"distance\"],\n",
    "    np.arange(0, 1e4, 100),\n",
    "    alpha=0.5,\n",
    "    label=\"downstream\",\n",
    ")\n",
    "plt.xlim([0, 1e4])\n",
    "plt.legend()"
   ]
  },
  {
   "cell_type": "markdown",
   "id": "4f130a50",
   "metadata": {},
   "source": [
    "## Ignore upstream/downstream peaks from genes (strand-aware version)\n",
    "\n",
    "More biologically relevant approach will be to **define upstream/downstream by strand of the gene**.\n",
    "CTCF upstream of transcription start site might play different role than CTCF after transcription end site. \n",
    "\n",
    "`bioframe.closest` has the parameter `direction_col` to control for that: \n",
    "\n",
    "![Closests with smart ignoring](https://raw.githubusercontent.com/open2c/bioframe/main/docs/figs/closest1.png)\n"
   ]
  },
  {
   "cell_type": "code",
   "execution_count": 90,
   "id": "b47d83fa",
   "metadata": {},
   "outputs": [],
   "source": [
    "# Note that \"strand\" here is the column name in genes table:\n",
    "peaks_closest_upstream_dir = bioframe.closest(\n",
    "    genes,\n",
    "    ctcf_peaks,\n",
    "    ignore_overlaps=False,\n",
    "    ignore_upstream=False,\n",
    "    ignore_downstream=True,\n",
    "    direction_col=\"strand\",\n",
    ")\n",
    "\n",
    "peaks_closest_downstream_dir = bioframe.closest(\n",
    "    genes,\n",
    "    ctcf_peaks,\n",
    "    ignore_overlaps=False,\n",
    "    ignore_upstream=True,\n",
    "    ignore_downstream=False,\n",
    "    direction_col=\"strand\",\n",
    ")"
   ]
  },
  {
   "cell_type": "code",
   "execution_count": 96,
   "id": "f18e706a",
   "metadata": {},
   "outputs": [
    {
     "data": {
      "text/plain": [
       "<matplotlib.legend.Legend at 0x7fd14a781610>"
      ]
     },
     "execution_count": 96,
     "metadata": {},
     "output_type": "execute_result"
    },
    {
     "data": {
      "image/png": "[encoded data removed]",
      "text/plain": [
       "<Figure size 640x480 with 1 Axes>"
      ]
     },
     "metadata": {},
     "output_type": "display_data"
    }
   ],
   "source": [
    "plt.hist(\n",
    "    peaks_closest_upstream_dir[\"distance\"],\n",
    "    np.arange(0, 1e4, 100),\n",
    "    alpha=0.5,\n",
    "    label=\"upstream\",\n",
    ")\n",
    "plt.hist(\n",
    "    peaks_closest_downstream_dir[\"distance\"],\n",
    "    np.arange(0, 1e4, 100),\n",
    "    alpha=0.5,\n",
    "    label=\"downstream\",\n",
    ")\n",
    "plt.xlim([0, 1e4])\n",
    "plt.legend()"
   ]
  },
  {
   "cell_type": "markdown",
   "id": "65b4a264",
   "metadata": {},
   "source": [
    "CTCF peaks upstream of the genes are more enriched at short distances to TSS, if we take the strand into account."
   ]
  }
 ],
 "metadata": {
  "kernelspec": {
   "display_name": "Python 3",
   "language": "python",
   "name": "python3"
  },
  "language_info": {
   "codemirror_mode": {
    "name": "ipython",
    "version": 3
   },
   "file_extension": ".py",
   "mimetype": "text/x-python",
   "name": "python",
   "nbconvert_exporter": "python",
   "pygments_lexer": "ipython3",
   "version": "3.10.4"
  }
 },
 "nbformat": 4,
 "nbformat_minor": 5
}
