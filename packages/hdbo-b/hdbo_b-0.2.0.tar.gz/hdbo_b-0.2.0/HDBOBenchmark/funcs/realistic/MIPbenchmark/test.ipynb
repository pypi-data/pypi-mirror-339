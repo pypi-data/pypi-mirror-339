{
 "cells": [
  {
   "cell_type": "code",
   "execution_count": 11,
   "metadata": {},
   "outputs": [],
   "source": [
    "from MpsModel import MPSModel"
   ]
  },
  {
   "cell_type": "markdown",
   "metadata": {},
   "source": [
    "# 2. Instanciate MPSModel\n",
    "- send a file path of a .mps file, which can be downloaded from miplib benchmark\n",
    "- (optional) send a .solu path of solutions, which can be downloaded from miplib\n",
    "- the others parameters are the same as TestFuncion Class"
   ]
  },
  {
   "cell_type": "code",
   "execution_count": null,
   "metadata": {},
   "outputs": [],
   "source": [
    "model = MPSModel(\n",
    "            mps_path=\"revised-submissions/miplib2010_publically_available/instances/markshare_4_0.mps.gz\",\n",
    "            solu_path=\"miplib2017-v26.solu\",\n",
    "        )"
   ]
  },
  {
   "cell_type": "code",
   "execution_count": 13,
   "metadata": {},
   "outputs": [
    {
     "data": {
      "text/plain": [
       "9008606.0"
      ]
     },
     "execution_count": 13,
     "metadata": {},
     "output_type": "execute_result"
    }
   ],
   "source": [
    "import numpy as np\n",
    "model._evaluate(np.arange(model.dim))"
   ]
  },
  {
   "cell_type": "markdown",
   "metadata": {},
   "source": [
    "# 3. Function Detail\n",
    "Basic function usage is the same as pyscipopt Model\n",
    "\n",
    "Call the model.evaluate when solving the problem"
   ]
  },
  {
   "cell_type": "code",
   "execution_count": 14,
   "metadata": {},
   "outputs": [],
   "source": [
    "# Parse variables of mps problem into readable form\n",
    "# including variable name, type, lower bound, upper bound and index\n",
    "# This function will be triggered after reading .mps file\n",
    "# model.parse_vars()"
   ]
  },
  {
   "cell_type": "code",
   "execution_count": 15,
   "metadata": {},
   "outputs": [
    {
     "data": {
      "text/plain": [
       "{'name': 's1', 'type': 'continuous', 'lb': 0.0, 'ub': inf, 'index': 0}"
      ]
     },
     "execution_count": 15,
     "metadata": {},
     "output_type": "execute_result"
    }
   ],
   "source": [
    "model.variables[0]"
   ]
  },
  {
   "cell_type": "code",
   "execution_count": 16,
   "metadata": {},
   "outputs": [],
   "source": [
    "# A problem contains:\n",
    "#\n",
    "# Objective: min c^T * x\n",
    "#\n",
    "# s.t.   b_l <= A*x <= b_u  --> constraint\n",
    "#         lb <=   x <= ub\n",
    "\n",
    "\n",
    "# for each cons, it's formed into variable-coefficient pair and the constraint's bounds\n",
    "# This function will be triggered after reading .mps file\n",
    "# model.parse_conss():\n",
    "\n",
    "# Convert constraint problem to unconstraint problem\n",
    "def _evaluate_unconstraint_conss():\n",
    "    pass"
   ]
  },
  {
   "cell_type": "code",
   "execution_count": 17,
   "metadata": {},
   "outputs": [
    {
     "data": {
      "text/plain": [
       "{'s1': 1.0,\n",
       " 'x1': 17.0,\n",
       " 'x2': 75.0,\n",
       " 'x3': 9.0,\n",
       " 'x4': 87.0,\n",
       " 'x5': 58.0,\n",
       " 'x6': 79.0,\n",
       " 'x7': 69.0,\n",
       " 'x8': 37.0,\n",
       " 'x9': 88.0,\n",
       " 'x10': 75.0,\n",
       " 'x11': 45.0,\n",
       " 'x12': 35.0,\n",
       " 'x13': 73.0,\n",
       " 'x14': 26.0,\n",
       " 'x15': 39.0,\n",
       " 'x16': 78.0,\n",
       " 'x17': 85.0,\n",
       " 'x18': 58.0,\n",
       " 'x19': 72.0,\n",
       " 'x20': 8.0,\n",
       " 'x21': 46.0,\n",
       " 'x22': 11.0,\n",
       " 'x23': 55.0,\n",
       " 'x24': 39.0,\n",
       " 'x25': 57.0,\n",
       " 'x26': 96.0,\n",
       " 'x27': 87.0,\n",
       " 'x28': 16.0,\n",
       " 'x29': 27.0,\n",
       " 'x30': 26.0,\n",
       " 'lhs': 786.0,\n",
       " 'rhs': 786.0}"
      ]
     },
     "execution_count": 17,
     "metadata": {},
     "output_type": "execute_result"
    }
   ],
   "source": [
    "model.constraint_params[0]"
   ]
  },
  {
   "cell_type": "code",
   "execution_count": null,
   "metadata": {},
   "outputs": [],
   "source": [
    "model.solution"
   ]
  },
  {
   "cell_type": "code",
   "execution_count": null,
   "metadata": {},
   "outputs": [],
   "source": [
    "model.getObjectiveSense()"
   ]
  },
  {
   "cell_type": "code",
   "execution_count": null,
   "metadata": {},
   "outputs": [
    {
     "data": {
      "text/plain": [
       "{'x': array([ 0,  1,  2,  3,  4,  5,  6,  7,  8,  9, 10, 11, 12, 13, 14, 15, 16,\n",
       "        17, 18, 19, 20, 21, 22, 23, 24, 25, 26, 27, 28, 29, 30, 31, 32, 33]),\n",
       " 'y': 9008606.0}"
      ]
     },
     "execution_count": 18,
     "metadata": {},
     "output_type": "execute_result"
    }
   ],
   "source": [
    "import numpy as np\n",
    "model.evaluate(np.arange(model.dim))"
   ]
  }
 ],
 "metadata": {
  "kernelspec": {
   "display_name": "hebo",
   "language": "python",
   "name": "python3"
  },
  "language_info": {
   "codemirror_mode": {
    "name": "ipython",
    "version": 3
   },
   "file_extension": ".py",
   "mimetype": "text/x-python",
   "name": "python",
   "nbconvert_exporter": "python",
   "pygments_lexer": "ipython3",
   "version": "3.8.17"
  },
  "orig_nbformat": 4
 },
 "nbformat": 4,
 "nbformat_minor": 2
}
