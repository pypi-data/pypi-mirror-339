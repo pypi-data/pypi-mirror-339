{
 "cells": [
  {
   "cell_type": "markdown",
   "metadata": {},
   "source": [
    "# LlamaCancer: Biomarker Association Analysis Workflow\n",
    "\n",
    "This notebook demonstrates how to use the LlamaCancer package to analyze biomarker associations with clinical endpoints in oncology trials.\n",
    "\n",
    "## Workflow Overview\n",
    "\n",
    "1. **Data Loading**: Import clinical and biomarker data\n",
    "2. **Data Merging**: Combine patient clinical data with biomarker measurements\n",
    "3. **Endpoint Definition**: Define survival, response, and other endpoints\n",
    "4. **Biomarker Dichotomization**: Convert continuous biomarkers to High/Low groups\n",
    "5. **Association Analysis**: Perform statistical tests to assess biomarker associations\n",
    "6. **Visualization**: Generate plots for individual biomarkers and summary plots\n",
    "7. **Result Interpretation**: Analyze the findings and draw conclusions"
   ]
  },
  {
   "cell_type": "code",
   "execution_count": 1,
   "metadata": {
    "execution": {
     "iopub.execute_input": "2025-04-01T06:46:44.475717Z",
     "iopub.status.busy": "2025-04-01T06:46:44.475582Z",
     "iopub.status.idle": "2025-04-01T06:46:51.530785Z",
     "shell.execute_reply": "2025-04-01T06:46:51.516401Z"
    }
   },
   "outputs": [],
   "source": [
    "# Import standard libraries\n",
    "import os\n",
    "import pandas as pd\n",
    "import numpy as np\n",
    "import matplotlib.pyplot as plt\n",
    "import seaborn as sns\n",
    "from typing import Dict, List, Optional, Any\n",
    "\n",
    "# Set plotting style\n",
    "plt.style.use(\"seaborn-v0_8-whitegrid\")\n",
    "\n",
    "# For notebook display\n",
    "%matplotlib inline\n",
    "plt.rcParams[\"figure.figsize\"] = (10, 6)\n",
    "plt.rcParams[\"figure.dpi\"] = 100"
   ]
  },
  {
   "cell_type": "code",
   "execution_count": 2,
   "metadata": {
    "execution": {
     "iopub.execute_input": "2025-04-01T06:46:51.548929Z",
     "iopub.status.busy": "2025-04-01T06:46:51.548156Z",
     "iopub.status.idle": "2025-04-01T06:46:51.564179Z",
     "shell.execute_reply": "2025-04-01T06:46:51.562976Z"
    }
   },
   "outputs": [
    {
     "ename": "ModuleNotFoundError",
     "evalue": "No module named 'ml_collections'",
     "output_type": "error",
     "traceback": [
      "\u001b[0;31m---------------------------------------------------------------------------\u001b[0m",
      "\u001b[0;31mModuleNotFoundError\u001b[0m                       Traceback (most recent call last)",
      "\u001b[0;32m/var/folders/w7/9sg2sr3s59nbx2mwv_0mv4_m0000gn/T/ipykernel_49394/782766141.py\u001b[0m in \u001b[0;36m<cell line: 0>\u001b[0;34m()\u001b[0m\n\u001b[1;32m      4\u001b[0m \u001b[0msys\u001b[0m\u001b[0;34m.\u001b[0m\u001b[0mpath\u001b[0m\u001b[0;34m.\u001b[0m\u001b[0mappend\u001b[0m\u001b[0;34m(\u001b[0m\u001b[0;34m\"..\"\u001b[0m\u001b[0;34m)\u001b[0m\u001b[0;34m\u001b[0m\u001b[0;34m\u001b[0m\u001b[0m\n\u001b[1;32m      5\u001b[0m \u001b[0;34m\u001b[0m\u001b[0m\n\u001b[0;32m----> 6\u001b[0;31m \u001b[0;32mfrom\u001b[0m \u001b[0mllamacancer\u001b[0m\u001b[0;34m.\u001b[0m\u001b[0mconfig\u001b[0m \u001b[0;32mimport\u001b[0m \u001b[0mload_config\u001b[0m\u001b[0;34m\u001b[0m\u001b[0;34m\u001b[0m\u001b[0m\n\u001b[0m\u001b[1;32m      7\u001b[0m \u001b[0;32mfrom\u001b[0m \u001b[0mllamacancer\u001b[0m\u001b[0;34m.\u001b[0m\u001b[0mio\u001b[0m \u001b[0;32mimport\u001b[0m \u001b[0mload_clinical_data\u001b[0m\u001b[0;34m,\u001b[0m \u001b[0mload_biomarker_data\u001b[0m\u001b[0;34m,\u001b[0m \u001b[0mmerge_clinical_biomarkers\u001b[0m\u001b[0;34m\u001b[0m\u001b[0;34m\u001b[0m\u001b[0m\n\u001b[1;32m      8\u001b[0m \u001b[0;32mfrom\u001b[0m \u001b[0mllamacancer\u001b[0m\u001b[0;34m.\u001b[0m\u001b[0mendpoints\u001b[0m \u001b[0;32mimport\u001b[0m \u001b[0mget_endpoint_data\u001b[0m\u001b[0;34m,\u001b[0m \u001b[0mget_response_data\u001b[0m\u001b[0;34m\u001b[0m\u001b[0;34m\u001b[0m\u001b[0m\n",
      "\u001b[0;32m~/llamasearchai-git2/llamacancer/notebooks/../llamacancer/__init__.py\u001b[0m in \u001b[0;36m<module>\u001b[0;34m\u001b[0m\n\u001b[1;32m      2\u001b[0m \u001b[0m__version__\u001b[0m \u001b[0;34m=\u001b[0m \u001b[0;34m\"0.1.0\"\u001b[0m\u001b[0;34m\u001b[0m\u001b[0;34m\u001b[0m\u001b[0m\n\u001b[1;32m      3\u001b[0m \u001b[0;34m\u001b[0m\u001b[0m\n\u001b[0;32m----> 4\u001b[0;31m \u001b[0;32mfrom\u001b[0m \u001b[0;34m.\u001b[0m\u001b[0mio\u001b[0m \u001b[0;32mimport\u001b[0m \u001b[0mload_clinical_data\u001b[0m\u001b[0;34m,\u001b[0m \u001b[0mload_biomarker_data\u001b[0m\u001b[0;34m,\u001b[0m \u001b[0mmerge_clinical_biomarkers\u001b[0m\u001b[0;34m\u001b[0m\u001b[0;34m\u001b[0m\u001b[0m\n\u001b[0m\u001b[1;32m      5\u001b[0m \u001b[0;32mfrom\u001b[0m \u001b[0;34m.\u001b[0m\u001b[0mendpoints\u001b[0m \u001b[0;32mimport\u001b[0m \u001b[0mget_endpoint_data\u001b[0m\u001b[0;34m,\u001b[0m \u001b[0mget_response_data\u001b[0m\u001b[0;34m\u001b[0m\u001b[0;34m\u001b[0m\u001b[0m\n\u001b[1;32m      6\u001b[0m \u001b[0;31m# Note: analysis module can be extended to include high-level functions\u001b[0m\u001b[0;34m\u001b[0m\u001b[0;34m\u001b[0m\u001b[0m\n",
      "\u001b[0;32m~/llamasearchai-git2/llamacancer/notebooks/../llamacancer/io.py\u001b[0m in \u001b[0;36m<module>\u001b[0;34m\u001b[0m\n\u001b[1;32m      5\u001b[0m \u001b[0;32mfrom\u001b[0m \u001b[0mtyping\u001b[0m \u001b[0;32mimport\u001b[0m \u001b[0mOptional\u001b[0m\u001b[0;34m\u001b[0m\u001b[0;34m\u001b[0m\u001b[0m\n\u001b[1;32m      6\u001b[0m \u001b[0;32mfrom\u001b[0m \u001b[0;34m.\u001b[0m\u001b[0mutils\u001b[0m \u001b[0;32mimport\u001b[0m \u001b[0mensure_numeric\u001b[0m\u001b[0;34m\u001b[0m\u001b[0;34m\u001b[0m\u001b[0m\n\u001b[0;32m----> 7\u001b[0;31m \u001b[0;32mfrom\u001b[0m \u001b[0mml_collections\u001b[0m \u001b[0;32mimport\u001b[0m \u001b[0mconfig_dict\u001b[0m\u001b[0;34m\u001b[0m\u001b[0;34m\u001b[0m\u001b[0m\n\u001b[0m\u001b[1;32m      8\u001b[0m \u001b[0;32mimport\u001b[0m \u001b[0mlogging\u001b[0m\u001b[0;34m\u001b[0m\u001b[0;34m\u001b[0m\u001b[0m\n\u001b[1;32m      9\u001b[0m \u001b[0;34m\u001b[0m\u001b[0m\n",
      "\u001b[0;31mModuleNotFoundError\u001b[0m: No module named 'ml_collections'"
     ]
    }
   ],
   "source": [
    "# Import LlamaCancer modules\n",
    "# Make sure the package is in your Python path\n",
    "import sys\n",
    "sys.path.append(\"..\") \n",
    "\n",
    "from llamacancer.config import load_config\n",
    "from llamacancer.io import load_clinical_data, load_biomarker_data, merge_clinical_biomarkers\n",
    "from llamacancer.endpoints import get_endpoint_data, get_response_data\n",
    "from llamacancer.stats import run_logrank_test, fit_coxph_model, fisher_exact_test\n",
    "from llamacancer.vis import plot_kaplan_meier, plot_volcano, plot_forest\n",
    "from llamacancer.analysis import run_biomarker_associations, _dichotomize_biomarker\n",
    "from llamacancer.utils import setup_logging\n",
    "\n",
    "# Setup logging\n",
    "setup_logging(level=\"INFO\")"
   ]
  },
  {
   "cell_type": "markdown",
   "metadata": {},
   "source": [
    "## 1. Configuration and Data Loading\n",
    "\n",
    "First, we'll load the configuration that defines our analysis parameters and load our sample data."
   ]
  },
  {
   "cell_type": "code",
   "execution_count": 3,
   "metadata": {
    "execution": {
     "iopub.execute_input": "2025-04-01T06:46:51.583782Z",
     "iopub.status.busy": "2025-04-01T06:46:51.583356Z",
     "iopub.status.idle": "2025-04-01T06:46:51.589643Z",
     "shell.execute_reply": "2025-04-01T06:46:51.588936Z"
    }
   },
   "outputs": [
    {
     "ename": "SyntaxError",
     "evalue": "unterminated f-string literal (detected at line 8) (2038882655.py, line 8)",
     "output_type": "error",
     "traceback": [
      "\u001b[0;36m  File \u001b[0;32m\"/var/folders/w7/9sg2sr3s59nbx2mwv_0mv4_m0000gn/T/ipykernel_49394/2038882655.py\"\u001b[0;36m, line \u001b[0;32m8\u001b[0m\n\u001b[0;31m    print(f\"\u001b[0m\n\u001b[0m          ^\u001b[0m\n\u001b[0;31mSyntaxError\u001b[0m\u001b[0;31m:\u001b[0m unterminated f-string literal (detected at line 8)\n"
     ]
    }
   ],
   "source": [
    "# Load configuration\n",
    "config = load_config(\"../configs/default_analysis_config.py\")\n",
    "\n",
    "# Display key configuration settings\n",
    "print(f\"Project: {config.project_name}\")\n",
    "print(f\"Data directory: {config.data_dir}\")\n",
    "print(f\"Primary endpoint: {config.primary_endpoint}\")\n",
    "print(f\"\n",
    "Biomarkers to analyze:\")\n",
    "for biomarker in config.biomarkers_to_analyze:\n",
    "    print(f\"- {biomarker}\")"
   ]
  },
  {
   "cell_type": "code",
   "execution_count": 4,
   "metadata": {
    "execution": {
     "iopub.execute_input": "2025-04-01T06:46:51.593693Z",
     "iopub.status.busy": "2025-04-01T06:46:51.592998Z",
     "iopub.status.idle": "2025-04-01T06:46:51.606951Z",
     "shell.execute_reply": "2025-04-01T06:46:51.599445Z"
    }
   },
   "outputs": [
    {
     "ename": "NameError",
     "evalue": "name 'load_clinical_data' is not defined",
     "output_type": "error",
     "traceback": [
      "\u001b[0;31m---------------------------------------------------------------------------\u001b[0m",
      "\u001b[0;31mNameError\u001b[0m                                 Traceback (most recent call last)",
      "\u001b[0;32m/var/folders/w7/9sg2sr3s59nbx2mwv_0mv4_m0000gn/T/ipykernel_49394/2579735321.py\u001b[0m in \u001b[0;36m<cell line: 0>\u001b[0;34m()\u001b[0m\n\u001b[1;32m      1\u001b[0m \u001b[0;31m# Load clinical data\u001b[0m\u001b[0;34m\u001b[0m\u001b[0;34m\u001b[0m\u001b[0m\n\u001b[0;32m----> 2\u001b[0;31m \u001b[0mclinical_df\u001b[0m \u001b[0;34m=\u001b[0m \u001b[0mload_clinical_data\u001b[0m\u001b[0;34m(\u001b[0m\u001b[0mconfig\u001b[0m\u001b[0;34m)\u001b[0m\u001b[0;34m\u001b[0m\u001b[0;34m\u001b[0m\u001b[0m\n\u001b[0m\u001b[1;32m      3\u001b[0m \u001b[0mprint\u001b[0m\u001b[0;34m(\u001b[0m\u001b[0;34mf\"\u001b[0m\u001b[0;34mClinical data shape: \u001b[0m\u001b[0;34m{\u001b[0m\u001b[0mclinical_df\u001b[0m\u001b[0;34m.\u001b[0m\u001b[0mshape\u001b[0m\u001b[0;34m}\u001b[0m\u001b[0;34m\"\u001b[0m\u001b[0;34m)\u001b[0m\u001b[0;34m\u001b[0m\u001b[0;34m\u001b[0m\u001b[0m\n\u001b[1;32m      4\u001b[0m \u001b[0mclinical_df\u001b[0m\u001b[0;34m.\u001b[0m\u001b[0mhead\u001b[0m\u001b[0;34m(\u001b[0m\u001b[0;34m)\u001b[0m\u001b[0;34m\u001b[0m\u001b[0;34m\u001b[0m\u001b[0m\n",
      "\u001b[0;31mNameError\u001b[0m: name 'load_clinical_data' is not defined"
     ]
    }
   ],
   "source": [
    "# Load clinical data\n",
    "clinical_df = load_clinical_data(config)\n",
    "print(f\"Clinical data shape: {clinical_df.shape}\")\n",
    "clinical_df.head()"
   ]
  },
  {
   "cell_type": "code",
   "execution_count": 5,
   "metadata": {
    "execution": {
     "iopub.execute_input": "2025-04-01T06:46:51.612240Z",
     "iopub.status.busy": "2025-04-01T06:46:51.611962Z",
     "iopub.status.idle": "2025-04-01T06:46:51.624976Z",
     "shell.execute_reply": "2025-04-01T06:46:51.623691Z"
    }
   },
   "outputs": [
    {
     "ename": "NameError",
     "evalue": "name 'load_biomarker_data' is not defined",
     "output_type": "error",
     "traceback": [
      "\u001b[0;31m---------------------------------------------------------------------------\u001b[0m",
      "\u001b[0;31mNameError\u001b[0m                                 Traceback (most recent call last)",
      "\u001b[0;32m/var/folders/w7/9sg2sr3s59nbx2mwv_0mv4_m0000gn/T/ipykernel_49394/3722539153.py\u001b[0m in \u001b[0;36m<cell line: 0>\u001b[0;34m()\u001b[0m\n\u001b[1;32m      1\u001b[0m \u001b[0;31m# Load biomarker data\u001b[0m\u001b[0;34m\u001b[0m\u001b[0;34m\u001b[0m\u001b[0m\n\u001b[0;32m----> 2\u001b[0;31m \u001b[0mbiomarker_df\u001b[0m \u001b[0;34m=\u001b[0m \u001b[0mload_biomarker_data\u001b[0m\u001b[0;34m(\u001b[0m\u001b[0mconfig\u001b[0m\u001b[0;34m)\u001b[0m\u001b[0;34m\u001b[0m\u001b[0;34m\u001b[0m\u001b[0m\n\u001b[0m\u001b[1;32m      3\u001b[0m \u001b[0mprint\u001b[0m\u001b[0;34m(\u001b[0m\u001b[0;34mf\"\u001b[0m\u001b[0;34mBiomarker data shape: \u001b[0m\u001b[0;34m{\u001b[0m\u001b[0mbiomarker_df\u001b[0m\u001b[0;34m.\u001b[0m\u001b[0mshape\u001b[0m\u001b[0;34m}\u001b[0m\u001b[0;34m\"\u001b[0m\u001b[0;34m)\u001b[0m\u001b[0;34m\u001b[0m\u001b[0;34m\u001b[0m\u001b[0m\n\u001b[1;32m      4\u001b[0m \u001b[0mbiomarker_df\u001b[0m\u001b[0;34m.\u001b[0m\u001b[0mhead\u001b[0m\u001b[0;34m(\u001b[0m\u001b[0;34m)\u001b[0m\u001b[0;34m\u001b[0m\u001b[0;34m\u001b[0m\u001b[0m\n",
      "\u001b[0;31mNameError\u001b[0m: name 'load_biomarker_data' is not defined"
     ]
    }
   ],
   "source": [
    "# Load biomarker data\n",
    "biomarker_df = load_biomarker_data(config)\n",
    "print(f\"Biomarker data shape: {biomarker_df.shape}\")\n",
    "biomarker_df.head()"
   ]
  },
  {
   "cell_type": "code",
   "execution_count": 6,
   "metadata": {
    "execution": {
     "iopub.execute_input": "2025-04-01T06:46:51.630333Z",
     "iopub.status.busy": "2025-04-01T06:46:51.630017Z",
     "iopub.status.idle": "2025-04-01T06:46:51.636648Z",
     "shell.execute_reply": "2025-04-01T06:46:51.635997Z"
    }
   },
   "outputs": [
    {
     "ename": "NameError",
     "evalue": "name 'merge_clinical_biomarkers' is not defined",
     "output_type": "error",
     "traceback": [
      "\u001b[0;31m---------------------------------------------------------------------------\u001b[0m",
      "\u001b[0;31mNameError\u001b[0m                                 Traceback (most recent call last)",
      "\u001b[0;32m/var/folders/w7/9sg2sr3s59nbx2mwv_0mv4_m0000gn/T/ipykernel_49394/4090564201.py\u001b[0m in \u001b[0;36m<cell line: 0>\u001b[0;34m()\u001b[0m\n\u001b[1;32m      1\u001b[0m \u001b[0;31m# Merge the datasets\u001b[0m\u001b[0;34m\u001b[0m\u001b[0;34m\u001b[0m\u001b[0m\n\u001b[0;32m----> 2\u001b[0;31m \u001b[0mmerged_df\u001b[0m \u001b[0;34m=\u001b[0m \u001b[0mmerge_clinical_biomarkers\u001b[0m\u001b[0;34m(\u001b[0m\u001b[0mclinical_df\u001b[0m\u001b[0;34m,\u001b[0m \u001b[0mbiomarker_df\u001b[0m\u001b[0;34m)\u001b[0m\u001b[0;34m\u001b[0m\u001b[0;34m\u001b[0m\u001b[0m\n\u001b[0m\u001b[1;32m      3\u001b[0m \u001b[0mprint\u001b[0m\u001b[0;34m(\u001b[0m\u001b[0;34mf\"\u001b[0m\u001b[0;34mMerged data shape: \u001b[0m\u001b[0;34m{\u001b[0m\u001b[0mmerged_df\u001b[0m\u001b[0;34m.\u001b[0m\u001b[0mshape\u001b[0m\u001b[0;34m}\u001b[0m\u001b[0;34m\"\u001b[0m\u001b[0;34m)\u001b[0m\u001b[0;34m\u001b[0m\u001b[0;34m\u001b[0m\u001b[0m\n\u001b[1;32m      4\u001b[0m \u001b[0;34m\u001b[0m\u001b[0m\n\u001b[1;32m      5\u001b[0m \u001b[0;31m# Check the first few rows\u001b[0m\u001b[0;34m\u001b[0m\u001b[0;34m\u001b[0m\u001b[0m\n",
      "\u001b[0;31mNameError\u001b[0m: name 'merge_clinical_biomarkers' is not defined"
     ]
    }
   ],
   "source": [
    "# Merge the datasets\n",
    "merged_df = merge_clinical_biomarkers(clinical_df, biomarker_df)\n",
    "print(f\"Merged data shape: {merged_df.shape}\")\n",
    "\n",
    "# Check the first few rows\n",
    "merged_df.head()"
   ]
  },
  {
   "cell_type": "markdown",
   "metadata": {},
   "source": [
    "## 2. Data Exploration\n",
    "\n",
    "Let's explore the distributions of our key clinical endpoints and biomarkers."
   ]
  },
  {
   "cell_type": "code",
   "execution_count": 7,
   "metadata": {
    "execution": {
     "iopub.execute_input": "2025-04-01T06:46:51.641594Z",
     "iopub.status.busy": "2025-04-01T06:46:51.641209Z",
     "iopub.status.idle": "2025-04-01T06:46:51.647259Z",
     "shell.execute_reply": "2025-04-01T06:46:51.646683Z"
    }
   },
   "outputs": [
    {
     "ename": "NameError",
     "evalue": "name 'merged_df' is not defined",
     "output_type": "error",
     "traceback": [
      "\u001b[0;31m---------------------------------------------------------------------------\u001b[0m",
      "\u001b[0;31mNameError\u001b[0m                                 Traceback (most recent call last)",
      "\u001b[0;32m/var/folders/w7/9sg2sr3s59nbx2mwv_0mv4_m0000gn/T/ipykernel_49394/2742587654.py\u001b[0m in \u001b[0;36m<cell line: 0>\u001b[0;34m()\u001b[0m\n\u001b[1;32m      1\u001b[0m \u001b[0;31m# Treatment arm distribution\u001b[0m\u001b[0;34m\u001b[0m\u001b[0;34m\u001b[0m\u001b[0m\n\u001b[0;32m----> 2\u001b[0;31m \u001b[0mtreatment_counts\u001b[0m \u001b[0;34m=\u001b[0m \u001b[0mmerged_df\u001b[0m\u001b[0;34m[\u001b[0m\u001b[0mconfig\u001b[0m\u001b[0;34m.\u001b[0m\u001b[0mtreatment_arm_col\u001b[0m\u001b[0;34m]\u001b[0m\u001b[0;34m.\u001b[0m\u001b[0mvalue_counts\u001b[0m\u001b[0;34m(\u001b[0m\u001b[0;34m)\u001b[0m\u001b[0;34m\u001b[0m\u001b[0;34m\u001b[0m\u001b[0m\n\u001b[0m\u001b[1;32m      3\u001b[0m \u001b[0mplt\u001b[0m\u001b[0;34m.\u001b[0m\u001b[0mfigure\u001b[0m\u001b[0;34m(\u001b[0m\u001b[0mfigsize\u001b[0m\u001b[0;34m=\u001b[0m\u001b[0;34m(\u001b[0m\u001b[0;36m8\u001b[0m\u001b[0;34m,\u001b[0m \u001b[0;36m6\u001b[0m\u001b[0;34m)\u001b[0m\u001b[0;34m)\u001b[0m\u001b[0;34m\u001b[0m\u001b[0;34m\u001b[0m\u001b[0m\n\u001b[1;32m      4\u001b[0m \u001b[0mtreatment_counts\u001b[0m\u001b[0;34m.\u001b[0m\u001b[0mplot\u001b[0m\u001b[0;34m(\u001b[0m\u001b[0mkind\u001b[0m\u001b[0;34m=\u001b[0m\u001b[0;34m\"bar\"\u001b[0m\u001b[0;34m)\u001b[0m\u001b[0;34m\u001b[0m\u001b[0;34m\u001b[0m\u001b[0m\n\u001b[1;32m      5\u001b[0m \u001b[0mplt\u001b[0m\u001b[0;34m.\u001b[0m\u001b[0mtitle\u001b[0m\u001b[0;34m(\u001b[0m\u001b[0;34m\"Distribution of Treatment Arms\"\u001b[0m\u001b[0;34m)\u001b[0m\u001b[0;34m\u001b[0m\u001b[0;34m\u001b[0m\u001b[0m\n",
      "\u001b[0;31mNameError\u001b[0m: name 'merged_df' is not defined"
     ]
    }
   ],
   "source": [
    "# Treatment arm distribution\n",
    "treatment_counts = merged_df[config.treatment_arm_col].value_counts()\n",
    "plt.figure(figsize=(8, 6))\n",
    "treatment_counts.plot(kind=\"bar\")\n",
    "plt.title(\"Distribution of Treatment Arms\")\n",
    "plt.ylabel(\"Number of Patients\")\n",
    "plt.grid(axis=\"y\", alpha=0.3)\n",
    "plt.show()\n",
    "\n",
    "# Show the counts\n",
    "print(\"Treatment Arm Counts:\")\n",
    "print(treatment_counts)"
   ]
  },
  {
   "cell_type": "code",
   "execution_count": 8,
   "metadata": {
    "execution": {
     "iopub.execute_input": "2025-04-01T06:46:51.650500Z",
     "iopub.status.busy": "2025-04-01T06:46:51.650219Z",
     "iopub.status.idle": "2025-04-01T06:46:51.657883Z",
     "shell.execute_reply": "2025-04-01T06:46:51.657274Z"
    }
   },
   "outputs": [
    {
     "ename": "NameError",
     "evalue": "name 'config' is not defined",
     "output_type": "error",
     "traceback": [
      "\u001b[0;31m---------------------------------------------------------------------------\u001b[0m",
      "\u001b[0;31mNameError\u001b[0m                                 Traceback (most recent call last)",
      "\u001b[0;32m/var/folders/w7/9sg2sr3s59nbx2mwv_0mv4_m0000gn/T/ipykernel_49394/1322228970.py\u001b[0m in \u001b[0;36m<cell line: 0>\u001b[0;34m()\u001b[0m\n\u001b[1;32m      1\u001b[0m \u001b[0;31m# Response outcome distribution\u001b[0m\u001b[0;34m\u001b[0m\u001b[0;34m\u001b[0m\u001b[0m\n\u001b[0;32m----> 2\u001b[0;31m \u001b[0;32mif\u001b[0m \u001b[0mhasattr\u001b[0m\u001b[0;34m(\u001b[0m\u001b[0mconfig\u001b[0m\u001b[0;34m.\u001b[0m\u001b[0mendpoints\u001b[0m\u001b[0;34m,\u001b[0m \u001b[0;34m\"response\"\u001b[0m\u001b[0;34m)\u001b[0m \u001b[0;32mand\u001b[0m \u001b[0mhasattr\u001b[0m\u001b[0;34m(\u001b[0m\u001b[0mconfig\u001b[0m\u001b[0;34m.\u001b[0m\u001b[0mendpoints\u001b[0m\u001b[0;34m.\u001b[0m\u001b[0mresponse\u001b[0m\u001b[0;34m,\u001b[0m \u001b[0;34m\"response_col\"\u001b[0m\u001b[0;34m)\u001b[0m\u001b[0;34m:\u001b[0m\u001b[0;34m\u001b[0m\u001b[0;34m\u001b[0m\u001b[0m\n\u001b[0m\u001b[1;32m      3\u001b[0m     \u001b[0mresponse_col\u001b[0m \u001b[0;34m=\u001b[0m \u001b[0mconfig\u001b[0m\u001b[0;34m.\u001b[0m\u001b[0mendpoints\u001b[0m\u001b[0;34m.\u001b[0m\u001b[0mresponse\u001b[0m\u001b[0;34m.\u001b[0m\u001b[0mresponse_col\u001b[0m\u001b[0;34m\u001b[0m\u001b[0;34m\u001b[0m\u001b[0m\n\u001b[1;32m      4\u001b[0m     \u001b[0mresponse_counts\u001b[0m \u001b[0;34m=\u001b[0m \u001b[0mmerged_df\u001b[0m\u001b[0;34m[\u001b[0m\u001b[0mresponse_col\u001b[0m\u001b[0;34m]\u001b[0m\u001b[0;34m.\u001b[0m\u001b[0mvalue_counts\u001b[0m\u001b[0;34m(\u001b[0m\u001b[0;34m)\u001b[0m\u001b[0;34m\u001b[0m\u001b[0;34m\u001b[0m\u001b[0m\n\u001b[1;32m      5\u001b[0m \u001b[0;34m\u001b[0m\u001b[0m\n",
      "\u001b[0;31mNameError\u001b[0m: name 'config' is not defined"
     ]
    }
   ],
   "source": [
    "# Response outcome distribution\n",
    "if hasattr(config.endpoints, \"response\") and hasattr(config.endpoints.response, \"response_col\"):\n",
    "    response_col = config.endpoints.response.response_col\n",
    "    response_counts = merged_df[response_col].value_counts()\n",
    "    \n",
    "    plt.figure(figsize=(10, 6))\n",
    "    response_counts.plot(kind=\"bar\")\n",
    "    plt.title(f\"Distribution of {response_col}\")\n",
    "    plt.ylabel(\"Number of Patients\")\n",
    "    plt.grid(axis=\"y\", alpha=0.3)\n",
    "    plt.show()\n",
    "    \n",
    "    # Show the counts\n",
    "    print(f\"{response_col} Counts:\")\n",
    "    print(response_counts)"
   ]
  },
  {
   "cell_type": "code",
   "execution_count": 9,
   "metadata": {
    "execution": {
     "iopub.execute_input": "2025-04-01T06:46:51.660762Z",
     "iopub.status.busy": "2025-04-01T06:46:51.660540Z",
     "iopub.status.idle": "2025-04-01T06:46:51.667675Z",
     "shell.execute_reply": "2025-04-01T06:46:51.666995Z"
    }
   },
   "outputs": [
    {
     "ename": "NameError",
     "evalue": "name 'config' is not defined",
     "output_type": "error",
     "traceback": [
      "\u001b[0;31m---------------------------------------------------------------------------\u001b[0m",
      "\u001b[0;31mNameError\u001b[0m                                 Traceback (most recent call last)",
      "\u001b[0;32m/var/folders/w7/9sg2sr3s59nbx2mwv_0mv4_m0000gn/T/ipykernel_49394/287584508.py\u001b[0m in \u001b[0;36m<cell line: 0>\u001b[0;34m()\u001b[0m\n\u001b[1;32m      1\u001b[0m \u001b[0;31m# Plot distributions of continuous biomarkers\u001b[0m\u001b[0;34m\u001b[0m\u001b[0;34m\u001b[0m\u001b[0m\n\u001b[0;32m----> 2\u001b[0;31m continuous_biomarkers = [b for b in config.biomarkers_to_analyze \n\u001b[0m\u001b[1;32m      3\u001b[0m                          \u001b[0;32mif\u001b[0m \u001b[0mb\u001b[0m \u001b[0;32min\u001b[0m \u001b[0mmerged_df\u001b[0m\u001b[0;34m.\u001b[0m\u001b[0mcolumns\u001b[0m \u001b[0;32mand\u001b[0m \u001b[0mpd\u001b[0m\u001b[0;34m.\u001b[0m\u001b[0mapi\u001b[0m\u001b[0;34m.\u001b[0m\u001b[0mtypes\u001b[0m\u001b[0;34m.\u001b[0m\u001b[0mis_numeric_dtype\u001b[0m\u001b[0;34m(\u001b[0m\u001b[0mmerged_df\u001b[0m\u001b[0;34m[\u001b[0m\u001b[0mb\u001b[0m\u001b[0;34m]\u001b[0m\u001b[0;34m)\u001b[0m\u001b[0;34m]\u001b[0m\u001b[0;34m\u001b[0m\u001b[0;34m\u001b[0m\u001b[0m\n\u001b[1;32m      4\u001b[0m \u001b[0;34m\u001b[0m\u001b[0m\n\u001b[1;32m      5\u001b[0m \u001b[0;32mif\u001b[0m \u001b[0mcontinuous_biomarkers\u001b[0m\u001b[0;34m:\u001b[0m\u001b[0;34m\u001b[0m\u001b[0;34m\u001b[0m\u001b[0m\n",
      "\u001b[0;31mNameError\u001b[0m: name 'config' is not defined"
     ]
    }
   ],
   "source": [
    "# Plot distributions of continuous biomarkers\n",
    "continuous_biomarkers = [b for b in config.biomarkers_to_analyze \n",
    "                         if b in merged_df.columns and pd.api.types.is_numeric_dtype(merged_df[b])]\n",
    "\n",
    "if continuous_biomarkers:\n",
    "    # Create a multi-panel plot\n",
    "    n_cols = 2\n",
    "    n_rows = (len(continuous_biomarkers) + 1) // 2\n",
    "    fig, axes = plt.subplots(n_rows, n_cols, figsize=(14, 4 * n_rows))\n",
    "    axes = axes.flatten()\n",
    "    \n",
    "    for i, biomarker in enumerate(continuous_biomarkers):\n",
    "        if i < len(axes):\n",
    "            sns.histplot(merged_df[biomarker].dropna(), kde=True, ax=axes[i])\n",
    "            axes[i].set_title(f\"Distribution of {biomarker}\")\n",
    "            axes[i].set_xlabel(biomarker)\n",
    "            axes[i].set_ylabel(\"Count\")\n",
    "    \n",
    "    # Hide any unused subplots\n",
    "    for j in range(i+1, len(axes)):\n",
    "        fig.delaxes(axes[j])\n",
    "        \n",
    "    plt.tight_layout()\n",
    "    plt.show()"
   ]
  }
 ],
 "metadata": {
  "kernelspec": {
   "display_name": "Python 3",
   "language": "python",
   "name": "python3"
  },
  "language_info": {
   "codemirror_mode": {
    "name": "ipython",
    "version": 3
   },
   "file_extension": ".py",
   "mimetype": "text/x-python",
   "name": "python",
   "nbconvert_exporter": "python",
   "pygments_lexer": "ipython3",
   "version": "3.12.4"
  }
 },
 "nbformat": 4,
 "nbformat_minor": 4
}
