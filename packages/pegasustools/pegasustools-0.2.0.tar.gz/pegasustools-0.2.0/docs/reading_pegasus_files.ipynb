{
 "cells": [
  {
   "cell_type": "markdown",
   "metadata": {},
   "source": [
    "# Reading Pegasus++ Files\n",
    "\n",
    "PegasusTools provides a set of classes that you can use to load Pegasus++ file."
   ]
  },
  {
   "cell_type": "markdown",
   "metadata": {},
   "source": [
    "## Reading NBF Files\n",
    "\n",
    "Passing the path to an NBF file to `pt.PegasusNBFData` will read that file from disk and return a `PegasusNBFData` object which contains member variables with all the header data and a dictionary containing the actual field data from the simulation; this dictionary is indexed via the names of the fields in the NBF file.\n",
    "\n",
    "### Example\n",
    "\n",
    "Before we can load an NBF file we need to have one to load. Normally you would use the files that Pegasus++ output but to facilitate this example I will create one here. The file creation tools used here are intended for use in examples and testing only."
   ]
  },
  {
   "cell_type": "code",
   "execution_count": null,
   "metadata": {},
   "outputs": [],
   "source": [
    "import sys\n",
    "from pathlib import Path\n",
    "\n",
    "import pegasustools as pt\n",
    "\n",
    "sys.path.append(str(Path.cwd().parent.resolve() / \"tests\"))\n",
    "\n",
    "import test_loading_nbf\n",
    "\n",
    "root_path = Path.cwd() / \"example_data\"\n",
    "root_path.mkdir(exist_ok=True)\n",
    "nbf_file_path = root_path / \"example.nbf\"\n",
    "\n",
    "_ = test_loading_nbf.generate_random_nbf_file(nbf_file_path, seed=42, dims=3)"
   ]
  },
  {
   "cell_type": "markdown",
   "metadata": {},
   "source": [
    "Now that we have an NBF file to play with we can load it"
   ]
  },
  {
   "cell_type": "code",
   "execution_count": null,
   "metadata": {},
   "outputs": [],
   "source": [
    "nbf_data = pt.PegasusNBFData(nbf_file_path)"
   ]
  },
  {
   "cell_type": "markdown",
   "metadata": {},
   "source": [
    "The file is fully loaded now and all the data is in numpy arrays. Let's take a look at the header information"
   ]
  },
  {
   "cell_type": "code",
   "execution_count": null,
   "metadata": {},
   "outputs": [],
   "source": [
    "print(f\"{nbf_data.time              = }\")\n",
    "print(f\"{nbf_data.big_endian        = }\")\n",
    "print(f\"{nbf_data.num_meshblocks    = }\")\n",
    "print(f\"{nbf_data.list_of_variables = }\")\n",
    "print(f\"{nbf_data.mesh_params       = }\")\n",
    "print(f\"{nbf_data.meshblock_params  = }\")"
   ]
  },
  {
   "cell_type": "markdown",
   "metadata": {},
   "source": [
    "Now let's take a look at the data that was loaded. Note that the keys are the same as the list of variables."
   ]
  },
  {
   "cell_type": "code",
   "execution_count": null,
   "metadata": {},
   "outputs": [],
   "source": [
    "for key in nbf_data.data:\n",
    "    print(\n",
    "        f\"key: '{key}',\"\n",
    "        f\"type: {type(nbf_data.data[key])},\"\n",
    "        f\"shape: {nbf_data.data[key].shape}\"\n",
    "    )"
   ]
  },
  {
   "cell_type": "markdown",
   "metadata": {},
   "source": [
    "At this point you have a `PegasusNBFData` that contains all the information in the original NBF file but now in numpy arrays that are easy to manipulate and perform additional postprocessing."
   ]
  },
  {
   "cell_type": "markdown",
   "metadata": {},
   "source": [
    "## Reading Spectra Files\n",
    "\n",
    "Passing the path to an spectra file to `pt.load_file` will read that file from disk and return a `PegasusSpectralData` object which contains member variables with all the metadata and the spectra in the `data` member variables. The `PegasusSpectralData` also contains several methods for working with spectral data.\n",
    "\n",
    "### Example\n",
    "\n",
    "Before we can load a spectra file we need to have one to load. Normally you would use the files that Pegasus++ output but to facilitate this example I will create one here. The file creation tools used here are intended for use in examples and testing only."
   ]
  },
  {
   "cell_type": "code",
   "execution_count": null,
   "metadata": {},
   "outputs": [],
   "source": [
    "import sys\n",
    "from pathlib import Path\n",
    "\n",
    "import pegasustools as pt\n",
    "\n",
    "sys.path.append(str(Path.cwd().parent.resolve() / \"tests\"))\n",
    "\n",
    "import test_loading_spectra\n",
    "\n",
    "root_path = Path.cwd() / \"example_data\"\n",
    "root_path.mkdir(exist_ok=True)\n",
    "spectra_file_path = root_path / \"example.spec\"\n",
    "\n",
    "_ = test_loading_spectra.generate_random_spec_file(\n",
    "    spectra_file_path, num_meshblocks=10, seed=42\n",
    ")"
   ]
  },
  {
   "cell_type": "markdown",
   "metadata": {},
   "source": [
    "Now that we have an NBF file to play with we can load it. You can optionally pass the values of `n_prp`, `n_prl`, `max_w_prp`, and `max_w_prl` that are set in the peginput file, if not they will be set as the default values of 200, 400, 4.0, and 4.0 respectively."
   ]
  },
  {
   "cell_type": "code",
   "execution_count": null,
   "metadata": {},
   "outputs": [],
   "source": [
    "spectra_data = pt.PegasusSpectralData(spectra_file_path)"
   ]
  },
  {
   "cell_type": "markdown",
   "metadata": {},
   "source": [
    "The file is fully loaded now and all the data is in numpy arrays. Let's take a look at the header information"
   ]
  },
  {
   "cell_type": "code",
   "execution_count": null,
   "metadata": {},
   "outputs": [],
   "source": [
    "print(f\"{spectra_data.time      = }\")\n",
    "print(f\"{spectra_data.n_prp     = }\")\n",
    "print(f\"{spectra_data.n_prl     = }\")\n",
    "print(f\"{spectra_data.max_w_prp = }\")\n",
    "print(f\"{spectra_data.max_w_prl = }\")"
   ]
  },
  {
   "cell_type": "markdown",
   "metadata": {},
   "source": [
    "Now let's take a look at the data that was loaded."
   ]
  },
  {
   "cell_type": "code",
   "execution_count": null,
   "metadata": {},
   "outputs": [],
   "source": [
    "print(f\"type: {type(spectra_data.data)}\\nshape: {spectra_data.data.shape}\")"
   ]
  },
  {
   "cell_type": "markdown",
   "metadata": {},
   "source": [
    "At this point you have a `PegasusSpectralData` that contains all the information in the original spectra file but now in a numpy array that is easy to manipulate and perform additional postprocessing. \n",
    "\n",
    "There is also the `average_spectra` method that will average the spectra across all meshblocks and individual spectra within each meshblock. That function will create two new member variables, `spectra_prp` and `spectra_prl` that contain the averaged spectrum."
   ]
  },
  {
   "cell_type": "code",
   "execution_count": null,
   "metadata": {},
   "outputs": [],
   "source": [
    "spectra_data.average_spectra()\n",
    "\n",
    "print(\n",
    "    f\"spectra_data.spectra_prp: type: {type(spectra_data.spectra_prp)}, \",\n",
    "    f\"shape: {spectra_data.spectra_prp.shape}\",\n",
    ")\n",
    "print(\n",
    "    f\"spectra_data.spectra_prl: type: {type(spectra_data.spectra_prl)}, \",\n",
    "    f\"shape: {spectra_data.spectra_prl.shape}\",\n",
    ")"
   ]
  }
 ],
 "metadata": {
  "kernelspec": {
   "display_name": "bobs-env",
   "language": "python",
   "name": "python3"
  },
  "language_info": {
   "codemirror_mode": {
    "name": "ipython",
    "version": 3
   },
   "file_extension": ".py",
   "mimetype": "text/x-python",
   "name": "python",
   "nbconvert_exporter": "python",
   "pygments_lexer": "ipython3",
   "version": "3.13.2"
  }
 },
 "nbformat": 4,
 "nbformat_minor": 2
}
