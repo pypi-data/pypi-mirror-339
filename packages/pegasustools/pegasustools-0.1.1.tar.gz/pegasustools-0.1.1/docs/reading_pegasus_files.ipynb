{
 "cells": [
  {
   "cell_type": "markdown",
   "metadata": {},
   "source": [
    "# Reading Pegasus++ Files\n",
    "\n",
    "PegasusTools provides the `load_file` function that you can pass a file path to and it will determine the file type, read that file, and return an object appropriate for the file type."
   ]
  },
  {
   "cell_type": "markdown",
   "metadata": {},
   "source": [
    "## Reading NBF Files\n",
    "\n",
    "Passing the path to an NBF file to `pt.load_file` will read that file from disk and return a `PegasusNBFData` object which contains member variables with all the header data and a dictionary containing the actual field data from the simulation; this dictionary is indexed via the names of the fields in the NBF file.\n",
    "\n",
    "### Example\n",
    "\n",
    "Before we can load an NBF file we need to have one to load. Normally you would use the files that Pegasus++ output but to facilitate this example I will create one here. The file creation tools used here are intended for use in examples and testing only."
   ]
  },
  {
   "cell_type": "code",
   "execution_count": null,
   "metadata": {},
   "outputs": [],
   "source": [
    "import sys\n",
    "from pathlib import Path\n",
    "\n",
    "import pegasustools as pt\n",
    "\n",
    "sys.path.append(str(Path.cwd().parent.resolve() / \"tests\"))\n",
    "\n",
    "import nbf_testing_utils\n",
    "\n",
    "root_path = Path.cwd() / \"example_data\"\n",
    "root_path.mkdir(exist_ok=True)\n",
    "nbf_file_path = root_path / \"example.nbf\"\n",
    "\n",
    "_ = nbf_testing_utils.generate_random_nbf_file(nbf_file_path, seed=42, dims=3)"
   ]
  },
  {
   "cell_type": "markdown",
   "metadata": {},
   "source": [
    "Now that we have an NBF file to play with we can load it"
   ]
  },
  {
   "cell_type": "code",
   "execution_count": null,
   "metadata": {},
   "outputs": [],
   "source": [
    "nbf_data = pt.load_file(nbf_file_path)"
   ]
  },
  {
   "cell_type": "markdown",
   "metadata": {},
   "source": [
    "The file is fully loaded now and all the data is in numpy arrays. Let's take a look at the header information"
   ]
  },
  {
   "cell_type": "code",
   "execution_count": null,
   "metadata": {},
   "outputs": [],
   "source": [
    "print(f\"{nbf_data.time              = }\")\n",
    "print(f\"{nbf_data.big_endian        = }\")\n",
    "print(f\"{nbf_data.num_meshblocks    = }\")\n",
    "print(f\"{nbf_data.list_of_variables = }\")\n",
    "print(f\"{nbf_data.mesh_params       = }\")\n",
    "print(f\"{nbf_data.meshblock_params  = }\")"
   ]
  },
  {
   "cell_type": "markdown",
   "metadata": {},
   "source": [
    "Now let's take a look at the data that was loaded. Note that the keys are the same as the list of variables."
   ]
  },
  {
   "cell_type": "code",
   "execution_count": null,
   "metadata": {},
   "outputs": [],
   "source": [
    "for key in nbf_data.data:\n",
    "    print(\n",
    "        f\"key: '{key}', type: {type(nbf_data.data[key])}, shape: {nbf_data.data[key].shape}\"\n",
    "    )"
   ]
  },
  {
   "cell_type": "markdown",
   "metadata": {},
   "source": [
    "At this point you have a `PegasusNBFData` that contains all the information in the original NBF file but now in numpy arrays that are easy to manipulate and perform additional postprocessing."
   ]
  }
 ],
 "metadata": {
  "kernelspec": {
   "display_name": "bobs-env",
   "language": "python",
   "name": "python3"
  },
  "language_info": {
   "codemirror_mode": {
    "name": "ipython",
    "version": 3
   },
   "file_extension": ".py",
   "mimetype": "text/x-python",
   "name": "python",
   "nbconvert_exporter": "python",
   "pygments_lexer": "ipython3",
   "version": "3.13.2"
  }
 },
 "nbformat": 4,
 "nbformat_minor": 2
}
