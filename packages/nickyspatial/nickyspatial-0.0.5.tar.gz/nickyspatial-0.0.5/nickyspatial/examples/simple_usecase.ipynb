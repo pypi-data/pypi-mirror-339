{
    "cells": [
        {
            "cell_type": "markdown",
            "id": "37acc214",
            "metadata": {},
            "source": [
                "# nickyspatial Workflow Example\n",
                "\n",
                "[![Open In Colab](https://colab.research.google.com/assets/colab-badge.svg)](https://colab.research.google.com/github/kshitijrajsharma/nickyspatial/blob/refs/heads/master/examples/simple_usecase.ipynb)\n",
                "\n",
                "In this notebook we demonstrate how to use the `nickyspatial` library to read a raster, perform segmentation, calculate spectral indices (like NDVI), and apply rule-based classification. We then display the resulting figures inline. This example explains how rules are applied to classify segments."
            ]
        },
        {
            "cell_type": "markdown",
            "id": "abd35dfa",
            "metadata": {},
            "source": [
                "## Setup & Imports\n",
                "\n",
                "We begin by importing the required modules and setting up the environment. & Download the sample quickbird satellite image for our module"
            ]
        },
        {
            "cell_type": "code",
            "execution_count": null,
            "id": "9bec991a",
            "metadata": {},
            "outputs": [],
            "source": [
                "! pip install nickyspatial"
            ]
        },
        {
            "cell_type": "code",
            "execution_count": null,
            "id": "78995151",
            "metadata": {},
            "outputs": [],
            "source": [
                "import os\n",
                "import requests\n",
                "import matplotlib.pyplot as plt\n",
                "\n",
                "from nickyspatial import (\n",
                "    LayerManager,\n",
                "    MultiResolutionSegmentation,\n",
                "    RuleSet,\n",
                "    attach_ndvi,\n",
                "    attach_shape_metrics,\n",
                "    attach_spectral_indices,\n",
                "    layer_to_raster,\n",
                "    layer_to_vector,\n",
                "    plot_classification,\n",
                "    plot_layer,\n",
                "    read_raster,\n",
                ")\n",
                "\n",
                "output_dir = \"output\"\n",
                "os.makedirs(output_dir, exist_ok=True)\n",
                "\n",
                "\n",
                "data_dir = \"data\"\n",
                "os.makedirs(data_dir, exist_ok=True)\n",
                "\n",
                "raster_path = os.path.join(data_dir, \"sample.tif\")\n",
                "\n",
                "if not os.path.exists(raster_path):\n",
                "    url = \"https://github.com/kshitijrajsharma/nickyspatial/raw/refs/heads/master/data/sample.tif\"\n",
                "    print(f\"Downloading sample raster from {url}...\")\n",
                "    response = requests.get(url)\n",
                "    response.raise_for_status()  # Ensure the download succeeded\n",
                "    with open(raster_path, \"wb\") as f:\n",
                "        f.write(response.content)\n",
                "    print(f\"Downloaded sample raster to {raster_path}\")\n",
                "else:\n",
                "    print(f\"Using existing raster at: {raster_path}\")"
            ]
        },
        {
            "cell_type": "markdown",
            "id": "564ae74c",
            "metadata": {},
            "source": [
                "## Reading the Raster\n",
                "\n",
                "We now read the raster data and print some basic information about the image."
            ]
        },
        {
            "cell_type": "code",
            "execution_count": null,
            "id": "aa3f0153",
            "metadata": {},
            "outputs": [],
            "source": [
                "image_data, transform, crs = read_raster(raster_path)\n",
                "print(f\"Image dimensions: {image_data.shape}\")\n",
                "print(f\"Coordinate system: {crs}\")"
            ]
        },
        {
            "cell_type": "markdown",
            "id": "b129af75",
            "metadata": {},
            "source": [
                "## Performing Segmentation\n",
                "\n",
                "Here we perform multi-resolution segmentation. A `LayerManager` is used to keep track of all layers created in the process. nickyspatial packages uses a layer object which is an underlying vector segmentation tied up to the raster , similar concept as layer in ecognition"
            ]
        },
        {
            "cell_type": "code",
            "execution_count": null,
            "id": "6a38af5e",
            "metadata": {},
            "outputs": [],
            "source": [
                "manager = LayerManager()\n",
                "\n",
                "segmenter = MultiResolutionSegmentation(scale=40, compactness=1)\n",
                "segmentation_layer = segmenter.execute(\n",
                "    image_data,\n",
                "    transform,\n",
                "    crs,\n",
                "    layer_manager=manager,\n",
                "    layer_name=\"Base_Segmentation\",\n",
                ")\n",
                "\n",
                "print(\"Segmentation layer created:\")\n",
                "print(segmentation_layer)"
            ]
        },
        {
            "cell_type": "markdown",
            "id": "553a2054",
            "metadata": {},
            "source": [
                "## Visualizing Segmentation\n",
                "\n",
                "We utilize the built-in plotting function to visualize the segmentation. The image will be displayed inline."
            ]
        },
        {
            "cell_type": "code",
            "execution_count": null,
            "id": "e90ed012",
            "metadata": {},
            "outputs": [],
            "source": [
                "fig1 = plot_layer(segmentation_layer, image_data, rgb_bands=(3, 2, 1), show_boundaries=True)\n",
                "plt.show()\n",
                "\n",
                "fig1.savefig(os.path.join(output_dir, \"1_segmentation.png\"))"
            ]
        },
        {
            "cell_type": "markdown",
            "id": "237231cb",
            "metadata": {},
            "source": [
                "## Calculating Spectral Indices (NDVI)\n",
                "\n",
                "Next, we attach functions to the segmentation layer to calculate NDVI and other spectral indices. NDVI is a common metric to assess vegetation health. Here we are doing an example how to use the existing pre-defined rules in the library "
            ]
        },
        {
            "cell_type": "code",
            "execution_count": null,
            "id": "19db05d3",
            "metadata": {},
            "outputs": [],
            "source": [
                "segmentation_layer.attach_function(\n",
                "    attach_ndvi,\n",
                "    name=\"ndvi_stats\",\n",
                "    nir_column=\"band_4_mean\",\n",
                "    red_column=\"band_3_mean\",\n",
                "    output_column=\"NDVI\",\n",
                ")\n",
                "\n",
                "segmentation_layer.attach_function(\n",
                "    attach_spectral_indices,\n",
                "    name=\"spectral_indices\",\n",
                "    bands={\n",
                "        \"blue\": \"band_1_mean\",\n",
                "        \"green\": \"band_2_mean\",\n",
                "        \"red\": \"band_3_mean\",\n",
                "        \"nir\": \"band_4_mean\",\n",
                "    },\n",
                ")\n",
                "\n",
                "fig2 = plot_layer(segmentation_layer, attribute=\"NDVI\", title=\"NDVI Values\", cmap=\"RdYlGn\")\n",
                "plt.show()\n",
                "\n",
                "fig2.savefig(os.path.join(output_dir, \"2_ndvi.png\"))"
            ]
        },
        {
            "cell_type": "markdown",
            "id": "104cc238",
            "metadata": {},
            "source": [
                "## Calculating Shape Metrics\n",
                "\n",
                "In this step, we attach a function to calculate shape index of objects and export the segmentation results as a GeoJSON file."
            ]
        },
        {
            "cell_type": "code",
            "execution_count": null,
            "id": "add00f55",
            "metadata": {},
            "outputs": [],
            "source": [
                "segmentation_layer.attach_function(attach_shape_metrics, name=\"shape_metrics\")\n",
                "\n",
                "seg_geojson_path = os.path.join(output_dir, \"segmentation.geojson\")\n",
                "layer_to_vector(segmentation_layer, seg_geojson_path)\n",
                "print(f\"Segmentation GeoJSON saved to {seg_geojson_path}\")"
            ]
        },
        {
            "cell_type": "markdown",
            "id": "93192f58",
            "metadata": {},
            "source": [
                "## Applying Land Cover Classification Rules\n",
                "\n",
                "Now we demonstrate how to use rule-based classification. Rules are defined for the land cover classification. For example, we can define a rule that marks segments as `Vegetation` if their NDVI is greater than 0.2; all other segments are marked as `Other`.\n",
                "With this technique we define our custom rule which can be in hierarchical order \n",
                "We then generate a classified layer and visualize the results."
            ]
        },
        {
            "cell_type": "code",
            "execution_count": null,
            "id": "5db396cd",
            "metadata": {},
            "outputs": [],
            "source": [
                "land_cover_rules = RuleSet(name=\"Land_Cover\")\n",
                "land_cover_rules.add_rule(name=\"Vegetation\", condition=\"NDVI > 0.2\")\n",
                "land_cover_rules.add_rule(name=\"Other\", condition=\"NDVI <= 0.2\")\n",
                "\n",
                "land_cover_layer = land_cover_rules.execute(\n",
                "    segmentation_layer,\n",
                "    layer_manager=manager,\n",
                "    layer_name=\"Land_Cover\",\n",
                ")\n",
                "\n",
                "fig3 = plot_classification(land_cover_layer, class_field=\"classification\")\n",
                "plt.show()\n",
                "\n",
                "fig3.savefig(os.path.join(output_dir, \"3_land_cover.png\"))"
            ]
        },
        {
            "cell_type": "markdown",
            "id": "0492e3ad",
            "metadata": {},
            "source": [
                "## Applying Hierarchical Classification Rules\n",
                "\n",
                "For further refinement, we can apply hierarchical rules. In this example, we subdivide the `Vegetation` class into categories such as `Healthy_Vegetation`, `Moderate_Vegetation`, and `Sparse_Vegetation` based on NDVI thresholds.\n",
                "\n",
                "This demonstrates how you can build upon basic classifications to obtain more granular information."
            ]
        },
        {
            "cell_type": "code",
            "execution_count": null,
            "id": "43b3aeeb",
            "metadata": {},
            "outputs": [],
            "source": [
                "vegetation_rules = RuleSet(name=\"Vegetation_Types\")\n",
                "vegetation_rules.add_rule(\n",
                "    name=\"Healthy_Vegetation\",\n",
                "    condition=\"(classification == 'Vegetation') & (NDVI > 0.6)\",\n",
                ")\n",
                "vegetation_rules.add_rule(\n",
                "    name=\"Moderate_Vegetation\",\n",
                "    condition=\"(classification == 'Vegetation') & (NDVI <= 0.6) & (NDVI > 0.4)\",\n",
                ")\n",
                "vegetation_rules.add_rule(\n",
                "    name=\"Sparse_Vegetation\",\n",
                "    condition=\"(classification == 'Vegetation') & (NDVI <= 0.4)\",\n",
                ")\n",
                "\n",
                "vegetation_layer = vegetation_rules.execute(\n",
                "    land_cover_layer,\n",
                "    layer_manager=manager,\n",
                "    layer_name=\"Vegetation_Types\",\n",
                "    result_field=\"veg_class\",\n",
                ")\n",
                "\n",
                "fig4 = plot_classification(vegetation_layer, class_field=\"veg_class\")\n",
                "plt.show()\n",
                "\n",
                "fig4.savefig(os.path.join(output_dir, \"4_vegetation_types.png\"))"
            ]
        },
        {
            "cell_type": "markdown",
            "id": "ec4c4b18",
            "metadata": {},
            "source": [
                "## Exporting and Reviewing Results\n",
                "\n",
                "Finally we export the land cover and vegetation layers as GeoJSON and raster, and print out the available layers from the manager."
            ]
        },
        {
            "cell_type": "code",
            "execution_count": null,
            "id": "d73c1484",
            "metadata": {},
            "outputs": [],
            "source": [
                "land_cover_geojson = os.path.join(output_dir, \"land_cover.geojson\")\n",
                "vegetation_geojson = os.path.join(output_dir, \"vegetation_types.geojson\")\n",
                "\n",
                "layer_to_vector(land_cover_layer, land_cover_geojson)\n",
                "layer_to_vector(vegetation_layer, vegetation_geojson)\n",
                "\n",
                "land_cover_raster = os.path.join(output_dir, \"land_cover.tif\")\n",
                "layer_to_raster(land_cover_layer, land_cover_raster, column=\"classification\")\n",
                "\n",
                "print(f\"Land cover GeoJSON saved to {land_cover_geojson}\")\n",
                "print(f\"Vegetation GeoJSON saved to {vegetation_geojson}\")\n",
                "print(f\"Land cover raster saved to {land_cover_raster}\")\n",
                "\n",
                "# List all available layers from the manager\n",
                "print(\"\\nAvailable layers:\")\n",
                "for i, layer_name in enumerate(manager.get_layer_names(), start=1):\n",
                "    print(f\"  {i}. {layer_name}\")"
            ]
        },
        {
            "cell_type": "markdown",
            "id": "429956f6",
            "metadata": {},
            "source": [
                "## Summary\n",
                "\n",
                "In this notebook we:\n",
                "- Loaded a sample raster image.\n",
                "- Performed segmentation on the raster.\n",
                "- Calculated spectral indices (NDVI) and attached additional functions.\n",
                "- Applied basic and hierarchical rule-based classifications to derive land cover types.\n",
                "- Displayed the figures inline and exported the results for further analysis.\n",
                "\n",
                "This example demonstrates how rule-based functions can be integrated for remote sensing and image analysis workflows using the nickyspatial library."
            ]
        }
    ],
    "metadata": {
        "kernelspec": {
            "display_name": ".venv",
            "language": "python",
            "name": "python3"
        },
        "language_info": {
            "name": "python",
            "version": "3.12.5"
        }
    },
    "nbformat": 4,
    "nbformat_minor": 5
}
