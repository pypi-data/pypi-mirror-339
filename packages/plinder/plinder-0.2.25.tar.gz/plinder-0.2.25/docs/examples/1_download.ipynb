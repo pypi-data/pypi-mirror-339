{
 "cells": [
  {
   "cell_type": "markdown",
   "metadata": {},
   "source": [
    "# Downloading the dataset\n",
    "\n",
    "The default location for the dataset is `~/.local/share/pinder/<PLINDER_RELEASE>/<PLINDER_ITERATION>` where:\n",
    "- `<PLINDER_RELEASE>` is the date of the PDB sync used to generate the dataset (e.g 2024-06)\n",
    "- `<PLINDER_ITERATION>` is the iteration of the source code that generated the dataset (e.g. `v2`)\n",
    "\n",
    "If you want to use a different location, you can do so by setting the `PLINDER_MOUNT` environment variable."
   ]
  },
  {
   "cell_type": "markdown",
   "metadata": {},
   "source": [
    "\n",
    "## Use `plinder_download` to download the complete dataset\n",
    "\n",
    "```bash\n",
    "plinder_download --help\n",
    "usage:\n",
    "    Download the full plinder dataset for the current configuration.\n",
    "    Note that even though this is wrapped in a progress bar, the estimated\n",
    "    completion time can vary wildly as it iterates over larger files vs.\n",
    "    smaller ones.\n",
    "    \n",
    "\n",
    "optional arguments:\n",
    "  -h, --help            show this help message and exit\n",
    "  --release RELEASE     plinder release\n",
    "  --iteration ITERATION\n",
    "                        plinder iteration\n",
    "  -y, --yes             skip confirmation\n",
    "```\n",
    "\n",
    ":::{note} This will take around an hour to complete and downloads around 1TB of data. But after this is done you can set the `PLINDER_OFFLINE` environment variable to `true` to avoid downloading the data again. :::"
   ]
  },
  {
   "cell_type": "markdown",
   "metadata": {},
   "source": [
    "## Use the `plinder` Python package to lazily access the dataset\n",
    "\n",
    "Alternatively, if the `PLINDER_OFFLINE` environment variable **unset** (which is the default empty), the dataset will be downloaded on lazily and on the fly as you access the data. This is preferred for exploration and prototyping as you don't need to download the entire dataset at once and can just work with the assets you need for your use-case."
   ]
  },
  {
   "cell_type": "code",
   "execution_count": null,
   "metadata": {},
   "outputs": [],
   "source": [
    "import plinder.core.utils.config\n",
    "\n",
    "cfg = plinder.core.get_config()\n",
    "print(f\"local directory: {cfg.data.plinder_dir}\")\n",
    "print(f\"remote data directory: {cfg.data.plinder_remote}\")"
   ]
  }
 ],
 "metadata": {
  "kernelspec": {
   "display_name": "Python 3",
   "language": "python",
   "name": "python3"
  },
  "language_info": {
   "codemirror_mode": {
    "name": "ipython",
    "version": 3
   },
   "file_extension": ".py",
   "mimetype": "text/x-python",
   "name": "python",
   "nbconvert_exporter": "python",
   "pygments_lexer": "ipython3",
   "version": "3.10.14"
  }
 },
 "nbformat": 4,
 "nbformat_minor": 2
}
