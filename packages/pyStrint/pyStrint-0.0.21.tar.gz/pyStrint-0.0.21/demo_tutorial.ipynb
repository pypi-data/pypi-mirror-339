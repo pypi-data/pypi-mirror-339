{
 "cells": [
  {
   "cell_type": "markdown",
   "metadata": {},
   "source": [
    "# 0. Import libraries"
   ]
  },
  {
   "cell_type": "code",
   "execution_count": 1,
   "metadata": {},
   "outputs": [
    {
     "name": "stderr",
     "output_type": "stream",
     "text": [
      "2025-03-27 14:52:49.926375: I tensorflow/core/util/port.cc:110] oneDNN custom operations are on. You may see slightly different numerical results due to floating-point round-off errors from different computation orders. To turn them off, set the environment variable `TF_ENABLE_ONEDNN_OPTS=0`.\n",
      "2025-03-27 14:52:49.928591: I tensorflow/tsl/cuda/cudart_stub.cc:28] Could not find cuda drivers on your machine, GPU will not be used.\n",
      "2025-03-27 14:52:49.976257: I tensorflow/tsl/cuda/cudart_stub.cc:28] Could not find cuda drivers on your machine, GPU will not be used.\n",
      "2025-03-27 14:52:49.977798: I tensorflow/core/platform/cpu_feature_guard.cc:182] This TensorFlow binary is optimized to use available CPU instructions in performance-critical operations.\n",
      "To enable the following instructions: AVX2 AVX512F AVX512_VNNI FMA, in other operations, rebuild TensorFlow with the appropriate compiler flags.\n",
      "2025-03-27 14:52:51.115461: W tensorflow/compiler/tf2tensorrt/utils/py_utils.cc:38] TF-TRT Warning: Could not find TensorRT\n"
     ]
    }
   ],
   "source": [
    "import pandas as pd\n",
    "import os\n",
    "import warnings\n",
    "warnings.filterwarnings(\"ignore\")\n",
    "from pyStrint.strint import strInt\n",
    "from pyStrint import preprocess as pp"
   ]
  },
  {
   "attachments": {},
   "cell_type": "markdown",
   "metadata": {},
   "source": [
    "# 1. Load files"
   ]
  },
  {
   "cell_type": "code",
   "execution_count": 2,
   "metadata": {},
   "outputs": [],
   "source": [
    "inputDir = './demo/'\n",
    "outDir = f'{inputDir}/strint_results/'\n",
    "if not os.path.exists(outDir):\n",
    "    os.makedirs(outDir)\n",
    "sc_exp = pd.read_csv(f'{inputDir}/SC_exp.tsv',sep = '\\t',header=0,index_col=0)\n",
    "sc_meta = pd.read_csv(f'{inputDir}/SC_meta.tsv',sep = '\\t',header=0,index_col=0)\n",
    "st_exp = pd.read_csv(f'{inputDir}/ST_exp.tsv',sep = '\\t',header=0,index_col=0)\n",
    "st_coord = pd.read_csv(f'{inputDir}/ST_coord.tsv',sep = '\\t',header=0,index_col=0)\n",
    "st_decon = pd.read_csv(f'{inputDir}/ST_decon.tsv',sep = '\\t',header=0,index_col=0)\n",
    "sc_distribution = pd.read_csv(f'{inputDir}/simu_sc_distribution.tsv',sep = '\\t',header=0,index_col=0)"
   ]
  },
  {
   "cell_type": "code",
   "execution_count": 3,
   "metadata": {},
   "outputs": [],
   "source": [
    "# Append the addition lrdf to the our lrdb\n",
    "species  = 'Human'\n",
    "lr_list = pd.read_csv(f'{inputDir}/lr_df.csv',sep=',',header=0,index_col=0)\n",
    "lr_db = pp.load_lr_df(species = species)\n",
    "lr_list.columns = lr_db.columns\n",
    "lr_db = pd.concat((lr_db,lr_list),axis = 0)\n",
    "lr_db.index = list(range(len(lr_db)))"
   ]
  },
  {
   "cell_type": "markdown",
   "metadata": {},
   "source": [
    "# 2. Get cell model"
   ]
  },
  {
   "cell_type": "code",
   "execution_count": 6,
   "metadata": {},
   "outputs": [
    {
     "name": "stdout",
     "output_type": "stream",
     "text": [
      "Running SCEnd on 2131 cells and 3247 genes\n",
      "normalizing data by library size...\n",
      "preprocessing data...\n",
      "number of iteration:  1 / 10\n",
      "number of iteration:  2 / 10\n",
      "number of iteration:  3 / 10\n",
      "number of iteration:  4 / 10\n",
      "number of iteration:  5 / 10\n",
      "number of iteration:  6 / 10\n",
      "number of iteration:  7 / 10\n",
      "number of iteration:  8 / 10\n",
      "number of iteration:  9 / 10\n",
      "number of iteration:  10 / 10\n"
     ]
    }
   ],
   "source": [
    "import smurf\n",
    "operator = smurf.SMURF(n_features=15, estimate_only=True)\n",
    "sc_distribution = operator.smurf_impute(sc_exp.T).T"
   ]
  },
  {
   "cell_type": "code",
   "execution_count": 7,
   "metadata": {},
   "outputs": [],
   "source": [
    "sc_distribution.to_csv(f'{outDir}SC_smurf.tsv',sep = '\\t',header=True,index=True)"
   ]
  },
  {
   "cell_type": "code",
   "execution_count": null,
   "metadata": {},
   "outputs": [],
   "source": [
    "# or you can load the precomputed results\n",
    "sc_distribution = pd.read_csv(f'{outDir}SC_smurf.tsv',sep = '\\t',header=0,index_col=0)"
   ]
  },
  {
   "cell_type": "markdown",
   "metadata": {},
   "source": [
    "# 3. Preprocess"
   ]
  },
  {
   "cell_type": "code",
   "execution_count": 4,
   "metadata": {},
   "outputs": [
    {
     "name": "stdout",
     "output_type": "stream",
     "text": [
      "Data clean is done! Using 3244 shared genes .\n"
     ]
    }
   ],
   "source": [
    "sc_adata, st_adata, sc_ref, lr_df = pp.prep_all_adata(sc_exp = sc_exp, st_exp = st_exp, sc_distribution = sc_distribution,\n",
    "                                                    sc_meta = sc_meta, st_coord = st_coord, lr_df = lr_db, SP = species)"
   ]
  },
  {
   "cell_type": "markdown",
   "metadata": {},
   "source": [
    "# 4. Parameters"
   ]
  },
  {
   "cell_type": "code",
   "execution_count": 5,
   "metadata": {},
   "outputs": [],
   "source": [
    "st_tp = 'st'\n",
    "delta, eta = [0.1, 0.0005]\n",
    "num_per_spot = 6\n",
    "repeat_penalty = 10\n",
    "# max_rep for gradient descent, choose accordingly.\n",
    "max_rep = 10"
   ]
  },
  {
   "cell_type": "code",
   "execution_count": 6,
   "metadata": {},
   "outputs": [],
   "source": [
    "expected_cell_num = st_adata.shape[0] *num_per_spot\n",
    "ref_cell_num = sc_adata.shape[0]"
   ]
  },
  {
   "cell_type": "code",
   "execution_count": 7,
   "metadata": {},
   "outputs": [
    {
     "name": "stdout",
     "output_type": "stream",
     "text": [
      "0.05 0.68 0.17 0.1\n"
     ]
    }
   ],
   "source": [
    "p1, p2, p3, p4 = pp.auto_tune_parameters(expected_cell_num/ref_cell_num, len(lr_df)/len(lr_db)) \n",
    "print(p1, p2, p3, p4)"
   ]
  },
  {
   "cell_type": "markdown",
   "metadata": {},
   "source": [
    "# 5. Cell selection"
   ]
  },
  {
   "cell_type": "code",
   "execution_count": 10,
   "metadata": {},
   "outputs": [
    {
     "name": "stdout",
     "output_type": "stream",
     "text": [
      "The cell index of sc_ref is not str, changed to str for consistency.\n",
      "sc_ref and sc_adata has different genes, both data are subset to 3244 genes.\n",
      "Parameters checked!\n",
      "By setting k as 6, each spot has average 5.80 neighbors.\n"
     ]
    }
   ],
   "source": [
    "obj_spex = strInt(save_path = outDir, st_adata = st_adata, weight = st_decon,\n",
    "                    sc_ref = sc_ref, sc_adata = sc_adata, cell_type_key = 'celltype', lr_df = lr_df,\n",
    "                    st_tp = st_tp,species = species)\n",
    "obj_spex.prep()\n"
   ]
  },
  {
   "cell_type": "markdown",
   "metadata": {},
   "source": [
    "## use strint for cell selection"
   ]
  },
  {
   "cell_type": "code",
   "execution_count": null,
   "metadata": {},
   "outputs": [],
   "source": [
    "sc_agg_meta = obj_spex.select_cells(p = 0.1, mean_num_per_spot = num_per_spot, repeat_penalty = repeat_penalty)"
   ]
  },
  {
   "cell_type": "code",
   "execution_count": 25,
   "metadata": {},
   "outputs": [],
   "source": [
    "sc_agg_meta.to_csv(f'{outDir}/cell_mapping_meta.tsv',sep = '\\t',header=True,index=True)"
   ]
  },
  {
   "cell_type": "markdown",
   "metadata": {},
   "source": [
    "## load the precomputed results from strint or other methods\n"
   ]
  },
  {
   "cell_type": "code",
   "execution_count": 11,
   "metadata": {},
   "outputs": [],
   "source": [
    "sc_agg_meta = pd.read_csv(f'{outDir}/cell_mapping_meta.tsv',sep = '\\t',header=0,index_col=0)\n",
    "user_sc_exp = sc_exp.loc[sc_agg_meta['sc_id']]"
   ]
  },
  {
   "cell_type": "code",
   "execution_count": 12,
   "metadata": {},
   "outputs": [],
   "source": [
    "sc_agg_meta = obj_spex.select_cells(user_sc_exp = user_sc_exp, user_sc_agg_meta = sc_agg_meta)"
   ]
  },
  {
   "cell_type": "markdown",
   "metadata": {},
   "source": [
    "# 6. Refinement process"
   ]
  },
  {
   "cell_type": "code",
   "execution_count": 14,
   "metadata": {},
   "outputs": [
    {
     "name": "stdout",
     "output_type": "stream",
     "text": [
      "0.05 0.68 0.17 0.1\n"
     ]
    }
   ],
   "source": [
    "print(p1, p2, p3, p4)"
   ]
  },
  {
   "cell_type": "code",
   "execution_count": 15,
   "metadata": {},
   "outputs": [
    {
     "name": "stdout",
     "output_type": "stream",
     "text": [
      "Init sc_coord by affinity embedding...\n",
      "Avearge shape correlation is: 0.883642643574808\n",
      "Hyperparameters adjusted.\n",
      "-----Start iteration 0 -----\n",
      "Avearge shape correlation is: 0.883642643574808\n",
      "The total loss after iteration 0 is 4.20348.\n",
      "-----Start iteration 1 -----\n",
      "Avearge shape correlation is: 0.8888774758541574\n",
      "The total loss after iteration 1 is 4.21085.\n",
      "-----Start iteration 2 -----\n",
      "Avearge shape correlation is: 0.8909572245455412\n",
      "The total loss after iteration 2 is 4.22284.\n",
      "-----Start iteration 3 -----\n",
      "Avearge shape correlation is: 0.8893506418851791\n",
      "The total loss after iteration 3 is 4.20726.\n",
      "-----Start iteration 4 -----\n",
      "Avearge shape correlation is: 0.8587359508031193\n",
      "The total loss after iteration 4 is 4.20025.\n",
      "-----Start iteration 5 -----\n",
      "Avearge shape correlation is: 0.8914543917889373\n",
      "The total loss after iteration 5 is 4.19616.\n",
      "-----Start iteration 6 -----\n",
      "Avearge shape correlation is: 0.8964806112216385\n",
      "The total loss after iteration 6 is 4.20275.\n",
      "-----Start iteration 7 -----\n",
      "Avearge shape correlation is: 0.9028958962853606\n",
      "The total loss after iteration 7 is 4.19789.\n",
      "-----Start iteration 8 -----\n",
      "Avearge shape correlation is: 0.8978743159361992\n",
      "The total loss after iteration 8 is 4.19832.\n",
      "-----Start iteration 9 -----\n",
      "Avearge shape correlation is: 0.8521179241578704\n",
      "The total loss after iteration 9 is 4.19141.\n",
      "Avearge shape correlation is: 0.8843345469696908\n"
     ]
    }
   ],
   "source": [
    "refined_sc_exp, sc_agg_meta = obj_spex.gradient_descent(\n",
    "                p1 = p1, p2 = p2, p3 = p3, p4 = p4, \n",
    "                delta = delta, eta = eta, \n",
    "                init_sc_embed = False,\n",
    "                iteration = max_rep, k = 2, W_HVG = 2,\n",
    "                left_range = 7, right_range = 8, steps = 1, dim = 2)\n",
    "sc_agg_meta.to_csv(f'{outDir}/cell_mapping_meta.tsv',sep = '\\t',header=True,index=True)"
   ]
  }
 ],
 "metadata": {
  "kernelspec": {
   "display_name": "Python 3",
   "language": "python",
   "name": "python3"
  },
  "language_info": {
   "codemirror_mode": {
    "name": "ipython",
    "version": 3
   },
   "file_extension": ".py",
   "mimetype": "text/x-python",
   "name": "python",
   "nbconvert_exporter": "python",
   "pygments_lexer": "ipython3",
   "version": "3.9.20"
  }
 },
 "nbformat": 4,
 "nbformat_minor": 4
}
