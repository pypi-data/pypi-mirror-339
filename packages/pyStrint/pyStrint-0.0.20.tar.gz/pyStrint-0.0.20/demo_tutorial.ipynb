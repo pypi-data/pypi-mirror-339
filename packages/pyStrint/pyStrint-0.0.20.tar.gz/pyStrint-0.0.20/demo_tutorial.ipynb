{
 "cells": [
  {
   "cell_type": "markdown",
   "metadata": {},
   "source": [
    "# 0. Import libraries"
   ]
  },
  {
   "cell_type": "code",
   "execution_count": 2,
   "metadata": {},
   "outputs": [],
   "source": [
    "import pandas as pd\n",
    "import os\n",
    "import warnings\n",
    "warnings.filterwarnings(\"ignore\")\n",
    "\n",
    "from pyStrint.strint import strInt\n",
    "from pyStrint import preprocess as pp"
   ]
  },
  {
   "attachments": {},
   "cell_type": "markdown",
   "metadata": {},
   "source": [
    "# 1. Load files"
   ]
  },
  {
   "cell_type": "code",
   "execution_count": 3,
   "metadata": {},
   "outputs": [],
   "source": [
    "inputDir = './'\n",
    "outDir = f'{inputDir}/results/'\n",
    "if not os.path.exists(outDir):\n",
    "    os.makedirs(outDir)\n",
    "sc_exp = pd.read_csv(f'{inputDir}/SC_exp.tsv',sep = '\\t',header=0,index_col=0)\n",
    "sc_meta = pd.read_csv(f'{inputDir}/SC_meta.tsv',sep = '\\t',header=0,index_col=0)\n",
    "st_exp = pd.read_csv(f'{inputDir}/ST_exp.tsv',sep = '\\t',header=0,index_col=0)\n",
    "st_coord = pd.read_csv(f'{inputDir}/ST_coord.tsv',sep = '\\t',header=0,index_col=0)\n",
    "st_decon = pd.read_csv(f'{inputDir}/ST_decon.tsv',sep = '\\t',header=0,index_col=0)"
   ]
  },
  {
   "cell_type": "code",
   "execution_count": 4,
   "metadata": {},
   "outputs": [],
   "source": [
    "# Append the addition lrdf to the our lrdb\n",
    "species  = 'Human'\n",
    "lr_list = pd.read_csv(f'{inputDir}/lr_df.csv',sep=',',header=0,index_col=0)\n",
    "lr_df = pp.load_lr_df(species = species)\n",
    "lr_list.columns = lr_df.columns\n",
    "lr_df = pd.concat((lr_df,lr_list),axis = 0)\n",
    "lr_df.index = list(range(len(lr_df)))"
   ]
  },
  {
   "cell_type": "markdown",
   "metadata": {},
   "source": [
    "# 2. Parameters"
   ]
  },
  {
   "cell_type": "code",
   "execution_count": 5,
   "metadata": {},
   "outputs": [],
   "source": [
    "st_tp = 'st'\n",
    "alpha, beta, gamma, delta, eta = [2, 0.001, 0.001, 0.1, 0.0005]\n",
    "\n",
    "num_per_spot = 6\n",
    "repeat_penalty = 10\n",
    "\n",
    "# max_rep for gradient descent, choose accordingly.\n",
    "max_rep = 10"
   ]
  },
  {
   "cell_type": "markdown",
   "metadata": {},
   "source": [
    "# 3. Get cell model"
   ]
  },
  {
   "cell_type": "code",
   "execution_count": 6,
   "metadata": {},
   "outputs": [
    {
     "name": "stdout",
     "output_type": "stream",
     "text": [
      "Running SCEnd on 2131 cells and 3247 genes\n",
      "normalizing data by library size...\n",
      "preprocessing data...\n",
      "number of iteration:  1 / 10\n",
      "number of iteration:  2 / 10\n",
      "number of iteration:  3 / 10\n",
      "number of iteration:  4 / 10\n",
      "number of iteration:  5 / 10\n",
      "number of iteration:  6 / 10\n",
      "number of iteration:  7 / 10\n",
      "number of iteration:  8 / 10\n",
      "number of iteration:  9 / 10\n",
      "number of iteration:  10 / 10\n"
     ]
    }
   ],
   "source": [
    "import smurf\n",
    "operator = smurf.SMURF(n_features=15, estimate_only=True)\n",
    "sc_distribution = operator.smurf_impute(sc_exp.T).T"
   ]
  },
  {
   "cell_type": "code",
   "execution_count": 7,
   "metadata": {},
   "outputs": [],
   "source": [
    "sc_distribution.to_csv(f'{outDir}SC_smurf.tsv',sep = '\\t',header=True,index=True)"
   ]
  },
  {
   "cell_type": "code",
   "execution_count": null,
   "metadata": {},
   "outputs": [],
   "source": [
    "# or you can load the precomputed results\n",
    "sc_distribution = pd.read_csv(f'{outDir}SC_smurf.tsv',sep = '\\t',header=0,index_col=0)"
   ]
  },
  {
   "cell_type": "markdown",
   "metadata": {},
   "source": [
    "# 4. Preprocess"
   ]
  },
  {
   "cell_type": "code",
   "execution_count": 8,
   "metadata": {},
   "outputs": [
    {
     "name": "stdout",
     "output_type": "stream",
     "text": [
      "Data clean is done! Using 3244 shared genes .\n"
     ]
    }
   ],
   "source": [
    "sc_adata, st_adata, sc_ref, lr_df = pp.prep_all_adata(sc_exp = sc_exp, st_exp = st_exp, sc_distribution = sc_distribution,\n",
    "                                                    sc_meta = sc_meta, st_coord = st_coord, lr_df = lr_df, SP = species)"
   ]
  },
  {
   "cell_type": "markdown",
   "metadata": {},
   "source": [
    "# 5. Cell selection"
   ]
  },
  {
   "cell_type": "code",
   "execution_count": 9,
   "metadata": {},
   "outputs": [
    {
     "name": "stdout",
     "output_type": "stream",
     "text": [
      "The cell index of sc_ref is not str, changed to str for consistency.\n",
      "sc_ref and sc_adata has different genes, both data are subset to 3244 genes.\n",
      "Parameters checked!\n",
      "Getting svg genes\n",
      "By setting k as 6, each spot has average 5.80 neighbors.\n",
      "\t Estimating the cell number in each spot by the deconvolution result.\n",
      "\t SpexMod selects 3070 feature genes.\n",
      "\t Init solution: max - 0.9984,     mean - 0.9801,     min - 0.8953\n",
      "\t Swap selection start...\n",
      "\t Swapped solution: max - 1.00,     mean - 0.99,     min - 0.90\n"
     ]
    }
   ],
   "source": [
    "obj_spex = strInt(save_path = outDir, st_adata = st_adata, weight = st_decon,\n",
    "                    sc_ref = sc_ref, sc_adata = sc_adata, cell_type_key = 'celltype', lr_df = lr_df,\n",
    "                    st_tp = 'st',species = species)\n",
    "obj_spex.prep()\n",
    "sc_agg_meta = obj_spex.select_cells(p = 0, mean_num_per_spot = num_per_spot, mode = 'strict', max_rep = 1,\n",
    "                        repeat_penalty = repeat_penalty)"
   ]
  },
  {
   "cell_type": "markdown",
   "metadata": {},
   "source": [
    "# 6. Refinement process"
   ]
  },
  {
   "cell_type": "code",
   "execution_count": 10,
   "metadata": {},
   "outputs": [
    {
     "name": "stdout",
     "output_type": "stream",
     "text": [
      "Running v12 now...\n",
      "Init sc_coord by affinity embedding...\n",
      "Avearge shape correlation is: 0.8528175122607736\n",
      "First-term calculation done!\n",
      "Second-term calculation done!\n",
      "Third term calculation done!\n",
      "Fourth term calculation done!\n",
      "Hyperparameters adjusted.\n",
      "-----Start iteration 0 -----\n",
      "Avearge shape correlation is: 0.8528175122607736\n",
      "First-term calculation done!\n",
      "Second-term calculation done!\n",
      "Third term calculation done!\n",
      "Fourth term calculation done!\n",
      "---0 self.loss4 881.4142166262536 self.GAMMA 3.6121919476265583e-06 self.GAMMA*self.loss4 0.003183837335820924\n",
      "---In iteration 0, the loss is:loss1:3.18384,loss2:17.83044,loss3:4966.61088,loss4:881.41422,loss5:216.35201.\n",
      "---In iteration 0, the loss is:loss1:3.18384,loss2:6.36767,loss3:0.00318,loss4:0.00318,loss5:0.31838.\n",
      "The total loss after iteration 0 is 9.87626.\n",
      "-----Start iteration 1 -----\n",
      "Avearge shape correlation is: 0.8803128888545424\n",
      "First-term calculation done!\n",
      "Second-term calculation done!\n",
      "Third term calculation done!\n",
      "Fourth term calculation done!\n",
      "---1 self.loss4 935.8144041574396 self.GAMMA 3.6121919476265583e-06 self.GAMMA*self.loss4 0.0033803412551704493\n",
      "---In iteration 1, the loss is:loss1:3.19126,loss2:17.85000,loss3:4863.18114,loss4:935.81440,loss5:216.39683.\n",
      "---In iteration 1, the loss is:loss1:3.19126,loss2:6.37466,loss3:0.00312,loss4:0.00338,loss5:0.31845.\n",
      "The total loss after iteration 1 is 9.89087.\n",
      "-----Start iteration 2 -----\n",
      "Avearge shape correlation is: 0.8821041379971154\n",
      "First-term calculation done!\n",
      "Second-term calculation done!\n",
      "Third term calculation done!\n",
      "Fourth term calculation done!\n",
      "---2 self.loss4 934.4972199655234 self.GAMMA 3.6121919476265583e-06 self.GAMMA*self.loss4 0.0033755833330388683\n",
      "---In iteration 2, the loss is:loss1:3.18706,loss2:17.85235,loss3:4844.72873,loss4:934.49722,loss5:216.45692.\n",
      "---In iteration 2, the loss is:loss1:3.18706,loss2:6.37550,loss3:0.00311,loss4:0.00338,loss5:0.31854.\n",
      "The total loss after iteration 2 is 9.88757.\n",
      "-----Start iteration 3 -----\n",
      "Avearge shape correlation is: 0.8814464903367303\n",
      "First-term calculation done!\n",
      "Second-term calculation done!\n",
      "Third term calculation done!\n",
      "Fourth term calculation done!\n",
      "---3 self.loss4 955.0936731733539 self.GAMMA 3.6121919476265583e-06 self.GAMMA*self.loss4 0.0034499816754658607\n",
      "---In iteration 3, the loss is:loss1:3.18288,loss2:17.85470,loss3:4877.80938,loss4:955.09367,loss5:216.51697.\n",
      "---In iteration 3, the loss is:loss1:3.18288,loss2:6.37634,loss3:0.00313,loss4:0.00345,loss5:0.31863.\n",
      "The total loss after iteration 3 is 9.88442.\n",
      "-----Start iteration 4 -----\n",
      "Avearge shape correlation is: 0.8815790395537334\n",
      "First-term calculation done!\n",
      "Second-term calculation done!\n",
      "Third term calculation done!\n",
      "Fourth term calculation done!\n",
      "---4 self.loss4 973.3560609137053 self.GAMMA 3.6121919476265583e-06 self.GAMMA*self.loss4 0.003515948925405992\n",
      "---In iteration 4, the loss is:loss1:3.17871,loss2:17.85707,loss3:4676.23674,loss4:973.35606,loss5:216.57698.\n",
      "---In iteration 4, the loss is:loss1:3.17871,loss2:6.37719,loss3:0.00300,loss4:0.00352,loss5:0.31871.\n",
      "The total loss after iteration 4 is 9.88112.\n",
      "-----Start iteration 5 -----\n",
      "Avearge shape correlation is: 0.8821380003777309\n",
      "First-term calculation done!\n",
      "Second-term calculation done!\n",
      "Third term calculation done!\n",
      "Fourth term calculation done!\n",
      "---5 self.loss4 889.3392588597296 self.GAMMA 3.6121919476265583e-06 self.GAMMA*self.loss4 0.0032124641095612866\n",
      "---In iteration 5, the loss is:loss1:3.17456,loss2:17.85945,loss3:4778.34902,loss4:889.33926,loss5:216.63696.\n",
      "---In iteration 5, the loss is:loss1:3.17456,loss2:6.37804,loss3:0.00306,loss4:0.00321,loss5:0.31880.\n",
      "The total loss after iteration 5 is 9.87768.\n",
      "-----Start iteration 6 -----\n",
      "Avearge shape correlation is: 0.8779732393869106\n",
      "First-term calculation done!\n",
      "Second-term calculation done!\n",
      "Third term calculation done!\n",
      "Fourth term calculation done!\n",
      "---6 self.loss4 932.7721749618124 self.GAMMA 3.6121919476265583e-06 self.GAMMA*self.loss4 0.00336935213936717\n",
      "---In iteration 6, the loss is:loss1:3.17043,loss2:17.86185,loss3:4942.01154,loss4:932.77217,loss5:216.69689.\n",
      "---In iteration 6, the loss is:loss1:3.17043,loss2:6.37889,loss3:0.00317,loss4:0.00337,loss5:0.31889.\n",
      "The total loss after iteration 6 is 9.87475.\n",
      "-----Start iteration 7 -----\n",
      "Avearge shape correlation is: 0.8802156191312975\n",
      "First-term calculation done!\n",
      "Second-term calculation done!\n",
      "Third term calculation done!\n",
      "Fourth term calculation done!\n",
      "---7 self.loss4 891.8425245774254 self.GAMMA 3.6121919476265583e-06 self.GAMMA*self.loss4 0.003221506385829517\n",
      "---In iteration 7, the loss is:loss1:3.16632,loss2:17.86425,loss3:4882.29621,loss4:891.84252,loss5:216.75678.\n",
      "---In iteration 7, the loss is:loss1:3.16632,loss2:6.37975,loss3:0.00313,loss4:0.00322,loss5:0.31898.\n",
      "The total loss after iteration 7 is 9.87140.\n",
      "-----Start iteration 8 -----\n",
      "Avearge shape correlation is: 0.8803447013738199\n",
      "First-term calculation done!\n",
      "Second-term calculation done!\n",
      "Third term calculation done!\n",
      "Fourth term calculation done!\n",
      "---8 self.loss4 955.8946125557554 self.GAMMA 3.6121919476265583e-06 self.GAMMA*self.loss4 0.0034528748222535086\n",
      "---In iteration 8, the loss is:loss1:3.16223,loss2:17.86667,loss3:4789.26181,loss4:955.89461,loss5:216.81663.\n",
      "---In iteration 8, the loss is:loss1:3.16223,loss2:6.38061,loss3:0.00307,loss4:0.00345,loss5:0.31907.\n",
      "The total loss after iteration 8 is 9.86843.\n",
      "-----Start iteration 9 -----\n",
      "Avearge shape correlation is: 0.8935453024161403\n",
      "First-term calculation done!\n",
      "Second-term calculation done!\n",
      "Third term calculation done!\n",
      "Fourth term calculation done!\n",
      "---9 self.loss4 948.6770900553591 self.GAMMA 3.6121919476265583e-06 self.GAMMA*self.loss4 0.0034268037455957635\n",
      "---In iteration 9, the loss is:loss1:3.15815,loss2:17.86910,loss3:5044.83488,loss4:948.67709,loss5:216.87644.\n",
      "---In iteration 9, the loss is:loss1:3.15815,loss2:6.38148,loss3:0.00323,loss4:0.00343,loss5:0.31916.\n",
      "The total loss after iteration 9 is 9.86544.\n",
      "Avearge shape correlation is: 0.8792300169883717\n"
     ]
    }
   ],
   "source": [
    "# sc_agg_meta.to_csv(f'{outDir}/spexmod_sc_meta.tsv',sep = '\\t',header=True,index=True)\n",
    "alter_sc_exp, sc_agg_meta = obj_spex.gradient_descent(\n",
    "                alpha, beta, gamma, delta, eta,\n",
    "                init_sc_embed = False,\n",
    "                iteration = 10, k = 2, W_HVG = 2,\n",
    "                left_range = 7, right_range = 8, steps = 1, dim = 2)"
   ]
  }
 ],
 "metadata": {
  "kernelspec": {
   "display_name": ".venv",
   "language": "python",
   "name": "python3"
  },
  "language_info": {
   "codemirror_mode": {
    "name": "ipython",
    "version": 3
   },
   "file_extension": ".py",
   "mimetype": "text/x-python",
   "name": "python",
   "nbconvert_exporter": "python",
   "pygments_lexer": "ipython3",
   "version": "3.9.20"
  }
 },
 "nbformat": 4,
 "nbformat_minor": 4
}
