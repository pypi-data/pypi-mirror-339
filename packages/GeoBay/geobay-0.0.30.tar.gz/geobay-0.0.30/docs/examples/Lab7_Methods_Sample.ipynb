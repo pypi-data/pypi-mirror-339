{
 "cells": [
  {
   "cell_type": "code",
   "execution_count": 33,
   "id": "bf51a994",
   "metadata": {},
   "outputs": [],
   "source": [
    "from GeoBay import CustomIpyleafletMap\n",
    "from ipyleaflet import DrawControl"
   ]
  },
  {
   "cell_type": "code",
   "execution_count": 37,
   "id": "5cff74fd",
   "metadata": {},
   "outputs": [
    {
     "data": {
      "application/vnd.jupyter.widget-view+json": {
       "model_id": "a405c50a7c084329aeea7b5e5ee63346",
       "version_major": 2,
       "version_minor": 0
      },
      "text/plain": [
       "CustomIpyleafletMap(center=[40.6892, -74.0445], controls=(ZoomControl(options=['position', 'zoom_in_text', 'zo…"
      ]
     },
     "execution_count": 37,
     "metadata": {},
     "output_type": "execute_result"
    }
   ],
   "source": [
    "# Create the map centered on a location (NYC)\n",
    "mymap = CustomIpyleafletMap(center=[40.6892, -74.0445], zoom=9)\n",
    "mymap.add_basemap(\"Esri.WorldImagery\")\n",
    "mymap.add_layer_control()\n",
    "\n",
    "#Loading a GeoJSON vector layer\n",
    "import geopandas as gpd\n",
    "vector_url = \"https://github.com/opengeos/datasets/releases/download/places/nyc_roads.geojson\"\n",
    "gdf = gpd.read_file(vector_url)\n",
    "gdf = gdf.to_crs(epsg=4326)  # Ensure the CRS is WGS84 for web mapping\n",
    "mymap.add_vector(gdf)\n",
    "\n",
    "# Sample tile layer from USGS\n",
    "url = \"https://basemap.nationalmap.gov/arcgis/rest/services/USGSTopo/MapServer/tile/{z}/{y}/{x}\"\n",
    "mymap.add_raster(url, name=\"USGS Topo\", opacity=0.6)\n",
    "\n",
    "# Sample image URL and bounds\n",
    "image_url = \"https://encrypted-tbn0.gstatic.com/images?q=tbn:ANd9GcSUXq-znfyXENLtD64Ijh3gB-psZGO7WlY3vg&s\"\n",
    "bounds = [(41.1485466,-73.1655751), (40.8967207,-73.5636963)]\n",
    "mymap.add_image(image_url, bounds, opacity=1)\n",
    "\n",
    "video_url = \"https://media3.giphy.com/media/v1.Y2lkPTc5MGI3NjExa2R3ZXEzbmp0NGVrdHN3bTlxOXpuc3Q5cHZtaHE2NTF2enVnNmlseiZlcD12MV9pbnRlcm5hbF9naWZfYnlfaWQmY3Q9Zw/l0ExmnWtg74l7oqkM/giphy.gif\"\n",
    "bounds = [(41.0165271, -74.1999349), (40.7450505, -74.6063112)]\n",
    "mymap.add_video(video_url, bounds, opacity=0)\n",
    "\n",
    "mymap.show_map()"
   ]
  },
  {
   "cell_type": "code",
   "execution_count": null,
   "id": "8d280fb4",
   "metadata": {},
   "outputs": [],
   "source": []
  }
 ],
 "metadata": {
  "kernelspec": {
   "display_name": "geo",
   "language": "python",
   "name": "python3"
  },
  "language_info": {
   "codemirror_mode": {
    "name": "ipython",
    "version": 3
   },
   "file_extension": ".py",
   "mimetype": "text/x-python",
   "name": "python",
   "nbconvert_exporter": "python",
   "pygments_lexer": "ipython3",
   "version": "3.11.5"
  }
 },
 "nbformat": 4,
 "nbformat_minor": 5
}
