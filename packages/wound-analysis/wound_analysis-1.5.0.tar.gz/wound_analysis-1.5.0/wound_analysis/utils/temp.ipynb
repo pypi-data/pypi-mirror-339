{
 "cells": [
  {
   "cell_type": "code",
   "execution_count": 4,
   "id": "48e2e26d",
   "metadata": {},
   "outputs": [
    {
     "name": "stdout",
     "output_type": "stream",
     "text": [
      "The autoreload extension is already loaded. To reload it, use:\n",
      "  %reload_ext autoreload\n"
     ]
    }
   ],
   "source": [
    "%load_ext autoreload\n",
    "%autoreload 2\n",
    "from wound_analysis.utils.column_schema import DataColumns, DColumns\n",
    "import pandas as pd\n",
    "\n",
    "\n",
    "path = '/Users/artinmajdi/Documents/GitHubs/postdoc/wound_EHR_analyzer_private/dataset/csv_files/SmartBandage-2025-03-26_labels.csv'\n",
    "df = pd.read_csv(path)\n",
    "CN = DColumns(df=df)"
   ]
  },
  {
   "cell_type": "code",
   "execution_count": 6,
   "id": "cac8e028",
   "metadata": {},
   "outputs": [
    {
     "data": {
      "text/plain": [
       "'Record ID'"
      ]
     },
     "execution_count": 6,
     "metadata": {},
     "output_type": "execute_result"
    }
   ],
   "source": [
    "CN.RECORD_ID"
   ]
  }
 ],
 "metadata": {
  "kernelspec": {
   "display_name": ".venv",
   "language": "python",
   "name": "python3"
  },
  "language_info": {
   "codemirror_mode": {
    "name": "ipython",
    "version": 3
   },
   "file_extension": ".py",
   "mimetype": "text/x-python",
   "name": "python",
   "nbconvert_exporter": "python",
   "pygments_lexer": "ipython3",
   "version": "3.12.5"
  }
 },
 "nbformat": 4,
 "nbformat_minor": 5
}
