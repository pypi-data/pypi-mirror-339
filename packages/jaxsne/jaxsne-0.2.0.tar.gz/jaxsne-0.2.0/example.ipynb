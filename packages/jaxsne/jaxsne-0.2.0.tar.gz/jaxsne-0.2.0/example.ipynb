{
 "cells": [
  {
   "cell_type": "code",
   "execution_count": 2,
   "metadata": {},
   "outputs": [],
   "source": [
    "import numpy as np\n",
    "from jax import numpy as jnp\n",
    "from plotly import express as px\n",
    "from sklearn.datasets import load_digits\n",
    "from sklearn.manifold import TSNE\n",
    "\n",
    "import jaxsne"
   ]
  },
  {
   "cell_type": "code",
   "execution_count": 3,
   "metadata": {},
   "outputs": [],
   "source": [
    "digits, digit_class = load_digits(return_X_y=True)"
   ]
  },
  {
   "cell_type": "code",
   "execution_count": 4,
   "metadata": {},
   "outputs": [
    {
     "data": {
      "application/vnd.plotly.v1+json": {
       "config": {
        "plotlyServerURL": "https://plot.ly"
       },
       "data": [
        {
         "hovertemplate": "color=0<br>x=%{x}<br>y=%{y}<extra></extra>",
         "legendgroup": "0",
         "marker": {
          "color": "#636efa",
          "symbol": "circle"
         },
         "mode": "markers",
         "name": "0",
         "showlegend": true,
         "type": "scattergl",
         "x": {
          "bdata": "YkMUwMoOmMCX1MVAB3c2vyXRoUBzE5XAZYJkQEqo5kD9vdVAK386QCAgf0AR8fNANXjXQFV5zD/qDrBATensQBRxgUDFVLM/KFaCQPH1/ECFc+RAj7q8QLkh3kBc6vFA3M6QQLALxkBC+KXAYl21QJNKeMA1IrbARhDVwGZ/lcB4rXPAlB2GwBHj7b8xIo7AnU4kwAA7LECakwdAIBzBQMadmkC1ObhAdECfQPStyUBigWhAAVqUQB8ALL+yveo/MCWAv/vNlUCnGPRAR4VtPqo/6j6RHG7AmtQ2vwkYmD4Toqu/aYDBPz16KkCESWLA8JMjQM27IT4ZRUA9w2iuvyNHoj6r9gJAOxyXwPGqI0DFTBLA+nGWQN+Sd0AeTEDA8ODvQCdIdUDkaFBA5Wytv624j0DVXCxAq0XTwPcaXT/eJ8DALxFtwGV8a8CzwL0/zQWbwE4f4T54zqFAmDDHQG/dZr/pDSTAQY6WPYkLIMB/aPy/zNSMP2RCCsCSmYC//DUHwJli1MC++zA/++vmv8U0NsCCn+q/n8dEQBHDkr+Jp5W+kz57QBZ0CMDDlQbASEvkP8NkxT7Fqe8/2hAkQNkokb+/41K/W5eQPpUEI8CftEHAYLWHwKm8A8Ah4cK/LAIAwOK5b8AMPp/ARF2UwJoSeMCWNco/uIWkwDIwqL9kLjZAYSxJQGc7akDjbelAdSyJQF1Mj0A7Qsa9UmURwDrW9L+Cj4FAHg9aQASC7UCz8MW/mxcqQAD2hMAl0NE/F9HXPygaMD9/Sz4/Lo5dQMnwmEAaqnZA1ypcPlKXtj8uL3G/7OidQNTvrUAGl5RAi2QNQSobHUCQMQxB46k2vxtPDUFgvwtBr/+OPyX1xECMPRTAkBZPQK2zc0ADnuVAM6gGwGEghEBUSctA8H1FwM2inkCfJcdAN6cMv+PG3kDmvw5BorprQA==",
          "dtype": "f4"
         },
         "xaxis": "x",
         "y": {
          "bdata": "Capewj0lWsKyG1HCU3BDwjeBR8KYWWjCtgpkwrV3UcJGi1bClNlywtGoa8K+BVvCCNhVwm84ZMLmJkXC4CVewh6/R8KoWkzCWz1vwurIUcLBbVTCwsdewhcBTsLVbVrCRDJqwpuSWsLtQljCr+NnwkyBXcK6zVrCnkBcwttyaMKZI2bCbZxiwqf5WMKmnlzCSvdYwnYqYcJhnmjCAltvwnh5aMJLIl7CA7xDwibebcItL2rCkFdhwrloasKzlkzC3FBkwpRAbsL0HGjCBCxewuofT8LAPW7CTSxNwiz2TcICo3HCaHFdwoPoecIbTVTCf05VwimgY8L19kzCIDZLwmsQUcJswETCqtpIwj1TRcKUTlfCpCtnwubAUMJHwE/C6G9NwuK9TsLwpkjC0B1ZwlGcV8JHNk/C8WFjwm8wecIZ2V3C14dkwk5eYMIDElfCSAFWwq2YQ8JtWU7COSpJwrp+Z8LiDl/CBaJWwlgvcMJhA2/CdWpjwr2va8KQRmnC6w1uwuqYY8JmQ3HCZLRowu2pcsIF4F7CKJ5mwrq8ecKnxW/Cb4dhwh0sfsIF+33Cs3B7wr2KZcKLanzCnTx6wnryXsJfhHPCvCtfwiv2W8Ic8VjCQjxKwgNVQ8I7BkPCApJDwgqPScIajUvCUFVJwjFmSsIYIFbComVIwmXAecJ6ZlfCjl5cwouvd8IjsUjChE5WwvxWVcKL80PCRw9UwhA+X8KW01rCT9hYwpbLSMLkP23CKBdswjJ2bMK4BG7CLZRrwoNKasLaNGvCe/x3wmXjc8KEHXfCG8ppwlGMbsL3hWXCgmFSwlggVMKXGU7Ca/tHwjQbXML0ekzCnVtVwrtdVsIxNE7CEj15wkJWTcKbUVPCSp9rwmgSZ8KQvGrC8CVhwhkYSsIcW2fCcwxiwsB4QcLU3WfCDLJawn/JasKmnVjCl2lHwg==",
          "dtype": "f4"
         },
         "yaxis": "y"
        },
        {
         "hovertemplate": "color=1<br>x=%{x}<br>y=%{y}<extra></extra>",
         "legendgroup": "1",
         "marker": {
          "color": "#EF553B",
          "symbol": "circle"
         },
         "mode": "markers",
         "name": "1",
         "showlegend": true,
         "type": "scattergl",
         "x": {
          "bdata": "TLgmQX9OjEGQ8o1B+DKDQZ2Ie0GB1YNBPytyQUmGhEE+Im5B/q2CQbo2KUHORKNA4YCSQUCEqkEZ3pdBrE6hQbdTm0EZgaJB+PWVQW1yi0Fgn5pBjUGKQQsMoUFsFpBBkg6NQRLvkkGRvC5A1ABcQfCIKbzCsT9Akn3HPxSQikHtd4BAebVNQYY/VUFR8TpAoPyzQBsqqUBo40xAe9+lQbk4hEFy0Y1BqLGSQYetgUGR2DPC4GyPQZ3hekHTW3JBHEWGQS6biUFIDIZB8+CRQW84OcIytzXCzrs5wsCHOMJpfj7CCy04wl2oPcL5zDzCSd48wi5nPcKwBDvCkj0ov6FNOsIcuLY/v4sVQFrcMEDsytq/WEnXvypIXkB0oqs/dN5UQJq02j9LOw5AkNWTP+RvlT+Ptoc/z0K3QDH6qUBltHFAuCW1vxm/hz+hizLCndN+vnw3T0C8RxNA5VGCQKJNlUDZV4VAK+IhPv8TNMLP1jLCe9kzwkfAOMLvwDTCdYE0wq8+OMK3RDXCmjo0wjc1NsL0bjfC9/s2wrhoNML3Bsu/9+SLP1YAq0BLqmS+5RCgQMG2G0Cl8rZA1qeKQIt5p0DTh7e+ILNKQKsPukDo45dAC5RvQV9xeUFmnA9BKuK7P5FaLkH3D+ZAFRCLQAJCqUDEnCJBApmLQHP6iEBJfpdAdoP9QCaJqUFgviNB+rWlQWx330BUNMhAY2uWQZ+omEAq5nRBHUG7QGHzyUAiPcZAjcO9QNoD1kA8q6ZBAxqsQcbwnEHFGKxBOPWvQXpDsEGqabBBDQ+0QSwxqUHvIZ1Bp2auQaj+sUEMya9BRXH8QMpiqUDq5ptAAEnhQJnX2kD4ia5AV/O+QMav3EABIPhA8vLpQCpvx0BQ19RA/HnfQD9w8Twypgy+6yMdQGxJxb4D+5Y/fGX/P+rRdL7k/uS/iiYkQRDV3711LMQ/fLKyv4WPvb8=",
          "dtype": "f4"
         },
         "xaxis": "x",
         "y": {
          "bdata": "9kw7QZnbOUHknx5B0bs1Qfe2HUHzwCBBKpkRQYrEG0G86TJBHjQ4QTRHOUElsDRBwUZHQT3DLEEG+ENBrWBFQWrSK0FvvzxB8dofQSVuSUEpKTBBBhtZQd+eRkGfbS1BJdZBQXVTMkF8uVZB5ndhQTZUOUHDECdBA7t5QTINVUEUCUdB/UxmQUnCZEGbLmtBM8JbQb9ggkHlPAhBYpgKQXpS+0Dplw1BBY8UQRjq+0D4fOFB1hkYQZq0AEFpOPxAe9AoQa8kBEFwg/tAedIOQVvc1kFFYeNBW9/kQYl050GnLuNBIPnpQZ5+4EHIz+ZBLmvfQVLB6UHWUNhByB0kQbjvzUHQ70xBY6ggQa1HGkEBul9B24ddQRKshUE5FQlB6TmHQecb7ECzYfRAZfMRQQQDBEFio1FBnmF4Qaq6ikEmcYFB0XI1QYYaPEHTYe1BbLJ1QRsrHUGrD1RBKz5QQZl1SkFreW1Blo16QeFp60EYGetBg1LvQbomzUF7KdlB8lveQTT10EHt29lBHfvqQZDQ20FUnNJBZS3RQUya4UG8T0lBO1tpQRtvZEF+slJB7QBLQbqoAkHkAGlBkxcsQUQibkHL92VBRaFqQROCNEE7Ij9BXbMWQT8DF0FkGApB0yhrQZlADkGshG9BcagxQd6bckFZ0QtB/rI+QT1cOkEnPAVBGH35QG/R5EDbmA5BdhdGQU8IZ0FmgXZBxUoKQU5bdUFhCRVBNEOKQfk/gEGmNmdBx/hJQUAvSUFBXPRA0NQGQfCTEUG8vCNB/yUhQUqICEFyTQlBX+8OQTzH70AwmBJBlkUVQbW+HEFWcgFBeH1cQVLUGkFHcBFBo2yAQdGoU0GtTxhB88RVQd/YW0EADXZBsJN9Qes6bUEEOIFB2TqCQenVG0FR4DVBC9ojQYf8IUHrb0JBr+4tQXUzUEHN8DlB+QRfQROxZEGvQyhBFew7QUiIQUE=",
          "dtype": "f4"
         },
         "yaxis": "y"
        },
        {
         "hovertemplate": "color=2<br>x=%{x}<br>y=%{y}<extra></extra>",
         "legendgroup": "2",
         "marker": {
          "color": "#00cc96",
          "symbol": "circle"
         },
         "mode": "markers",
         "name": "2",
         "showlegend": true,
         "type": "scattergl",
         "x": {
          "bdata": "7hFcwZisAMIR4uXBkjVsweXfVsEO4lPBcphaweFvUMG9k0rBPL7ewSH01MEpd2TBnpJvwatvzsGKOrjBizbAwbbnqsHZ8rfBK/Tewc7J8sH37bzBALKxwS1ku8FeEt/B8AjcwZ2QqMGm1NTBvHvWwRpPysGzV8nBhzq8wfFo08G4dNXBfJrOwfrcxsEouMHB7XXMwQU6xsFLRtvBcoz6wY9YCMJ30PzBZvwIwi0b/8EsXQLCve0IwkDXBsJ23PDBP0P7wVw37sHfOP3Bgghrwa6bBcJsBuvBJebtwdu268HTE+rBA031wUdI6sG1X/fBfr/Zwdig48EPderB+HrYwVSx6sEgVKrBg+ymwX7dtcGTy7PBjAqtwSaOr8F36bDBm1WxwWGipcH4I8LB1iWtwUHGq8F8JK/B983PwRRg28F6P8bBKqC1wbW92MEvj8LBs/D5wQ5wycGlatbBa4fDwUU+zsF8cr7BBfOzwVH+3cHBLe3BcuHowReJ8cFaVQTCCQn6wT10AsIOjALCqeTwwanb9sHsfwXCLA8Bwm7N4MFqo9vB9wwBwgDGAMKBrwDC3VsIwtPLBMICXvjBmP3/wSq33MHCfgXCpX7VwXSL4MEdnbfBD1/KwYfJssFzu8fBu0TOwb93y8G8csXBzQbEwXCVwsEy4cbBuOzHwfQzAMKJVwrCDCcDwtJrBcJCdgjCnjENwmhmBsJ1owPC2tsNwgMb/sEX2wbCmnADwj5AAsIqtfbBVhP9wZGA+cFwyAXC7ov7wX72AsIskAPCJa3+wbOuAsJdIObBFVsCwrY3zsHJmAPCpCnlweniD8K8FwvCqxUPwnEd7sFMRQ7CJEWuweGgD8Iqo9TBnF30wUlsAsJCgvTBtZelwXVlvMFZUOfBe4j2wRVm5sHXqwDC9+YKwgD+tcHwO7zBJREGwoEx/8FzuwLC",
          "dtype": "f4"
         },
         "xaxis": "x",
         "y": {
          "bdata": "CD2UQcpC3kE4zuNB1hObQZp9mkGNzZpBdVeVQZ7wmkFAJ5xB3xAMQnnF3UEkDZtBKBucQQLwC0Lb+AZCn9PLQUIFAkIDcARCOYUUQrZZDUJApctBzEYCQtfoBkIKFhZCflcWQj/EAkJvJPtB4f/8QUK1AEJ1QQtCT4EBQtXi9kFo2gJCbNX3QUjqBkLB0wBCuFD8QUAqB0LLXwRCnqziQaeC3kGMyv9BsvbhQcT87UHFsOhBdXLbQYBr60HBGwFCaj4KQjWIA0K1MgJCFoaVQa/avUFHs75ByYi+QUNTzUFOkMtBvKPQQbjRy0Hir8JBUkn7QbeADELZk8ZBP73vQexpzEHmgPNB4Uf3QQYa7EFj281B4H7gQWSayUFmW8lBhXPUQYow/UFfPg9CxzntQc2e6kEzbPFB6qcJQu2/BkIl3A5CEaUCQnpNFkI7FA1CAz0KQm8yEkLxhhRCVabBQf+GE0IEca9BJpzzQUkw9UHT0xNC4LnwQQFK8EHIRM1BGovcQf18ykE6Ac9BYgf9QVHR2UHMd8pBYMMAQoZqB0JCcNtBsZbHQcTTuUF0xMhBdRbcQSGWrkHUx+hB4Lz+QVYS20FSXMBBQa8JQkZz7UGAbOhB3wXRQdK57kFyvwhCAu3yQcyA7kG0r8NBVdb3QUqXD0LexgRCvwTvQV19s0FUAsFB9pa0QQHUrEH+8atBTLCvQSDIr0GRSeJB7wmrQYY+zUHTUbVBZvHHQT1Fv0H0gQhCOcUNQjZiBkLuvP5BsQMGQoA2BULAWwdCpOoFQtfaBEKHkBVCXGz9QZlhzkGHLAdCKGDhQRB7s0ELndhBDKWoQbJX70HtpatB2JP2QYxWskH+egtCrpIOQoyVrkGgPPlBok3wQc3i20GTUBVCmk8HQud1FEIqsQ5C5MsAQi7n5UHmbdxBGygAQmbTAkLiZwtC",
          "dtype": "f4"
         },
         "yaxis": "y"
        },
        {
         "hovertemplate": "color=3<br>x=%{x}<br>y=%{y}<extra></extra>",
         "legendgroup": "3",
         "marker": {
          "color": "#ab63fa",
          "symbol": "circle"
         },
         "mode": "markers",
         "name": "3",
         "showlegend": true,
         "type": "scattergl",
         "x": {
          "bdata": "SK0MwqQnGcJB2RXCPt4hwhUUEsJ+WyDCIEUgwvhWF8JeOhzCkmsfwqXqFMK9qxjCRsXmwR4nGcK/5yHC3gkYwjfYEsIuOCPCnOYfwn+YGsLvwhzCQk4cwiGvHcJyERvCcJYawnYUFcKIAgvCON8bwpp0HsK4sB7CasIIwtMqIcIXiRnCpRoYwn51HMJbERrCkrUIwnz9BsLEOh/CtLcPwlrGHsI6UAfC1agZwsVTCsIacQrC6ykFwp+8CcLBTwTCtIAGwoQ8BcL7FgPC3xoGwo5WAsJfKsvBYoLPwXR7ysHxqdDBQXrOwafs7cEyscPBcfDMwamEzsGHXMjBVAvKwQ0b0sGh8tDBGvghwu+AJ8LnxxzCo2EuwpawKML07SLCx/AqwgGJGsLa5SXCIY8swmauAsJm0ALCl/EYwolVAsK/QA3CUxARwpWBDcIPpQrC3nUKwrfuIMK37x3CHbMUwnLHCsIV7xHCrHQOwq4eFMIkzxzC9isTwiecDcLr/w7CIooTwk7RFMJ83x3C6ykVwiCDHsJIfR3C+toawq02E8IpUBXCSPkhwncYI8LJmyXCVIcqwqQ4KsJZuifC2JwpwtujKcJJuSTCOBYlwslwhUHa7SbCfzMrwmfXJcK9rCTCNSAtwg9+8MHPPy7CsCMPwiSQEsLReSfCrLIRwpq5F8J76SLCDF8UwquTEcIllh/CX+gnwq9sEcJujCDCBwMVwrUYKMJ42yzCYLsqwtSZHsLkMw7C5KEXwmBjKMI0NCPCMcgIwpGOC8J8RAnC9icQwplDCsILVhbCcKMNwiKlG8I7IRHCFjUXwuwMEMIBVRnCUnUPwmksF8KkiCnC+uIOwjkA68HLy+vBEWXnwQu3oT80z+3Bs2YPwpSNGcJw6wfCN9UVwsRUGcKpi/7B9hb7wYDN5MAF6fLBoNL/wWpl/8EgFvnBzWT7wdriAcIrqxDCfm8WwpXt48Cl2w7C",
          "dtype": "f4"
         },
         "xaxis": "x",
         "y": {
          "bdata": "DRXKwCAo5D/IBvFAJOdSQMzcYUDci2RAgJyJQMhHmUAgZMJANYyYQD1ErUCoPq5An7n4QLhM0UAARJNA2BTfQMdZiUCxA5ZAH360QKw6/UCHEJRAF/PAQL1UxUAB2p9A87PuQA1O/0BL987AEZj5v12yy8DKOtK/Z6t6wOuD3L40jlPAXpYywB+q9b+vAGw+SD2CwHQGc8BLDdDA0q/tP+pKmz67nQ3BvqMzwSDuFsGeeSHByKoOwW7KHMGxjwjBRokJwQaxAcGPGuHAOAHjwEv7E8EJmGnAiz4awM8ay7/nUVrAwyKIwOfXOr9KrjbAi2xRwLV/h8BHJxvAGIcNwHiNQsCaLjjAc6W6v7G38L/UBrW/AIdgP8yhmb+mp6e/A2jVv7W7db+7S6G/qcPNv6zgmsCeXZvAw0a+v+ece8A9CmbAd6RbwMJH678LBcW/hHKkvweOxz+uNeY/umGZPcPNmMCHCovAK9GhwP6f7T/EtxDBydfrwC3O+sAalvbAB/vBwCcw68A2jSPBRxwnwbukK8HAlwvBBzIwwTDvpcBfBSXBqF/awJw45cBwlK/ATpSQPi4qlMDQEg8/WEpiwOXhkcBHhs7A+OPRwMISIEJx1dTA50+lwNMyg8BhbFs/8FDVwAyfAkGJA9PAECwZQOUk20DsR7s/4LarQBtvdkCgGYfAqJ2GvSyRsUD0vWPAfURGP2nkCsFXhZXATNMRQIXvV79J/EDAihZVwF+QkcCeXVlAtemWwDN5AMDj2YrAMl7TwB7dBcF0IbDAVmAdwJJI+8Cz9MLAOLgDweAopcAPqL/AnVQzwC1gFsCpcb/A/4mhwOO8Q0CirThAAp5eQDnY40DoMt9AuxT2QILRDUJhgNBA+PeHQFa2XEBcrF1AJ68yQFnbR0DvjXnANWHXQNufKsGSAQNBi4fhQF+b8UCzVXvACczpQAuQzkAmnDJAf6UAwA4eK8FwQoU+",
          "dtype": "f4"
         },
         "yaxis": "y"
        },
        {
         "hovertemplate": "color=4<br>x=%{x}<br>y=%{y}<extra></extra>",
         "legendgroup": "4",
         "marker": {
          "color": "#FFA15A",
          "symbol": "circle"
         },
         "mode": "markers",
         "name": "4",
         "showlegend": true,
         "type": "scattergl",
         "x": {
          "bdata": "smwlQteqJkIGbx5CS/opQpjFK0L8iiVCKroaQr4DIULc0iFClh8qQtKoJ0IMbBtCVwIrQo1+AkLPygRCZpALQoe6B0J4jRBCysILQjsaB0ITIAhCPyQMQmpdCUK5AglC7VAFQoVjKEI8eSxC03gxQpnWNEJyRTFCIxE1QqGOLUK08DlCnPYiQkG3P0L/DC9Co2wzQoMxKkK4lhBCR7FIQoMcEULioBFCgUcVQofCEUKclxtC/RwWQkVKEUI5uhhCkwMVQorRGkJKnQ9C01ZAQmZiOkJAk0hCvco/QiJRO0KW3TtCYSVCQscLQkIdEUNCZeFNQkQWOkLltUFC9PlAQocFDUKKlAxC5+AWQlZVDkIMbA5CowYPQmIhD0K5s0JCaGcmQtNYTkL+ESZCNjBOQuNNJkL74EhC2ihAQkc+R0I1STZCHXM+Qgx1RULi9zJC3nlJQlRoQkL6mEZCgaQxQvN4SEKVqj5CfmcrQsuqK0JMghxCSMceQi99GkLHpBxCAjhAQmdCGkIeTShCxDQpQlJ7G0IXURhCJyEgQsI1G0KvwRlCCx8eQrYdGUJpih9CEHQjQpeZHUJf9B9CdcImQg87K0KwyR1CD4UoQue9H0ISKixCGiowQqYsPkIokixCU+Y8QjH3KkLfoy1Cp+8uQt9JOkIXRTlCasovQo5bLkJKtytCWkw/Qr0jQEJSe0BCbdo9Quz9PEJdHT1C4ZM9QqtmPUJ3Di5CBQExQl2ZMEJAZC9Ckk89QntKP0IcWkVCTHhBQk2VOkJTzEVCs68/Qn8oQkJzgUFCq/NAQkjpQUL+bjlCGf9DQjcwPkKQYitCwqoqQvgCMkI53TNCuQkxQsiSDz8v0hs/KWE1Qp4BLUI83itC/DI1QuRM+z6xDDFC7WImQpstNkJsBTNCqdY0QqWZJ0Jk6ShCpdErQjqOOUIroiJCPnQlQsLmNUIwqjFCoOQxQg==",
          "dtype": "f4"
         },
         "xaxis": "x",
         "y": {
          "bdata": "E5fqQOldSUH0XgRB42tWQdfOIUGWNopBniycQbiWC0F4mgZBM2qSQfHYiEHFP5tBGKNaQVlSz0DMgrVAD8XLQIAkk0AsaZ9Ag8JlQPteqUBGSLNALhhqQGPcxUA+MuFAOVS3QB0PiEHbWXlBPT2NQcaxRUFLmH1BdEaKQT7CeEEGRTFB6JaTQTE6C0GiEGFBFU2DQQYtV0HMlINA9wyJQTQmukCGDvpAthGvQCTrtkBobgJBdqKkQC6nzEDB2QBBSovTQAPiAEHsMXxAK1SaQfYCokEugXxBuviNQRDbhUEQGaBBVtScQRY7j0GF25NBqZiAQXFvg0Gi3p9BDsaZQUN41kB6osZAZAgHQSRZBUFdhxFBgbrGQHSa0kBXaJdBKN63QamjgEGTTbNBW1tyQV4PtUHWqUpBxghUQR+Ja0GaISlByddoQaIGYkEH+/dA765WQQit+UAr5mZB8IglQXBGS0G5WABBeCQIQbf2AEEAsDhBH11qQZexQ0G+SzdBmiK8QFNyREEGANVAZGsMQYyKa0GdD39BcweHQfcWgEEj03lBz4B3QR3+akHQq4VBRM6eQZJ9gUHSWo5BGw9+QbnJO0F/QIFBlBRsQSmAkEGAfmVBjmT5QAu4h0GRg/9AvkICQf0oS0FtIy9BIG08QY13LkHdchdBbRdQQS16IkFG2JNBfLDbQFR+z0DAW81AbwnlQOEh2ECpnBtBcjseQQ1M0kCpOUlBbucNQb3xEUH5GBdBQI8cQfpSnUGfQXlBQ/KGQTwEXUEssYBBUdJ6QSS9bkHhJIlBiSiFQZhWdkEtIJ5BJud+QR4oYkGK/IJBkyOHQbsrmEGCp4FBdRubQQYF7kE9Ie5BgLN8QdArgEGYPYNB99qeQd3n7UGlEoRBYIy7QFNBQkFp5jpB+xlRQW1/NEFA5NNAdFDbQODjCkEnfhVBrbDrQEHb5ECBkPlAGtUpQQ==",
          "dtype": "f4"
         },
         "yaxis": "y"
        },
        {
         "hovertemplate": "color=5<br>x=%{x}<br>y=%{y}<extra></extra>",
         "legendgroup": "5",
         "marker": {
          "color": "#19d3f3",
          "symbol": "circle"
         },
         "mode": "markers",
         "name": "5",
         "showlegend": true,
         "type": "scattergl",
         "x": {
          "bdata": "LjzUwSxnn0DeZQ1BuYqwvgyJ3j4Lj7g+l1ZUP9wITb9MgGZAhaeAQOmB6kBFrrxAUVVPvr9q60DM3n1Ai1QyQQ4wvEC8fSBBQb8FQR+E0UCvteRAcsEsQU369UD4dPlAu0sDQakc30Bv9s7Ax3yOQAeo8r8OqyzAhcGOwB/I6MDvVzvAIdfCQCiJL8AhCVrAJM5GP5iYoMC5awNB88UrwBMktTsqmk6+AZhRwJSTHT4p95XAeH2Nv8FAisCjsiU+ZtCQv1S2wj7qtedA0rpGvxPolsC3Z5PAHDSZwAusFMC46KrAPyWhwMHEjMCINWbAqAOOwHuHucD8HkfAv5edwAWGj8CZmYc+vWkRQXFuEUH8t6hAUuwHQTtpGkGZiPlAVOGLQIwak0A6WAFAOb/1QIneGUE6hTpBItuPQDPxDUHQuxBBo9BAQHf+EEE0PZBA+FaoQMqxTUA3OYZA+wZRQBYuCkE6Zh5AXLwKQSlwN8DXbuzAiXoRwSC9AMHd48TAmO8LweeRG8F7xNPAtY7qwNheB8AjcQfBocEJwSOwscCtiJNAl4i7P9uhWMB5v35ARJKrQMOxgECcdKg+qC9XP7EzBEHfV49Al+PkPxGGnUBWz4NAx1olQP4a7j8I8xJBKqITPxo/EkCWcJJA4OOAQPyrFkHNyThAQ88KQQhS+kC+LD5BHo7lQEnigMD5GLW/EZVkQBPSKkAk1VpAInIAvzxPKkBYCDtAtacAQrQNqkAZwTlAkthHQJfFl7/Fc07AdT+NwOqm6cBiRJDANAaSwHJnesBk+s7AiTZ2wOGtF0BUkM/AgJIHwbVFM8D02+W/2z8WQbhjIEGJYaFAKb2CQH7mGkGqBR5B4QUrQVIIEkHaHnNAxEfBQFQTp0Cz9yFBZ4/AQOmkpb9mdEW+4mHWvqXi4j4ZiAC/CLhYv6cF8b7Wbo7AcVgSvx7IOcDm3jw/yfNevlyJJMA=",
          "dtype": "f4"
         },
         "xaxis": "x",
         "y": {
          "bdata": "+WdxwT28csEsXHrB9j2WwRQwVMEadFPBAJ9EwaPIl8HIDajBCoegwU4LesE4b0nBwyxRwViTRMEPTlbBBQMwwSJcU8F5IzPBiyY1weVOWcGS1FLBucwqwRKGMcFxnDzBaDY0wZaHO8FDza/Bi5BGwRVrqMEtN6HBNnvbwYX+3cFYkZ3B0hiNwUyvocF6Qr3BthScwb6/1cElGR/B+tGEwTwddcFn0njBV2OEwbWYgcFmBYLBEw54wbFTl8GH+oHBAO2LwYqqfsHWLGrB4eF6wY9tpMH1j7/B1nSxwaV5lcGnv7zBqX62wU6ls8HUdq7Bxvu+weLrvcFSVbHBW6mhwdY1vcF+mb3BC0V/wbVqecGmS8jByzxcwTHOdsHlRm3BNP/BwYNCw8GXGsjBjZlnwcFaYcFXLTXB6c9ZwSDUH8FS/S3BGx8/we9tUcHky1LBAxpQwWUkPcFhhDrBthxSwXGOPsE3y2XBdrMpwY8prsHgzMDBcGXLwS96yMG5PLfBDSDJwbLpwsE7h7fBa9jDwX6OpsG3uMPBZszFwVerzcGVCILB2Y2NwZ9SosE9iYrBW1+JwawoicE7A5zBk3qqwZx3W8Fyxp/BGgy9wWYtgMHY/7XBw1LBwZfjyMHDJCnBhXylwaYLaMErGV7BgU3DwRW/b8G0arrBMzQawWkMLcEetzfBBMtXwaQ/zMH977LBIta4wet3r8E7Xq3B1x2TwS0cscFDocHBMM3qwT8bocEZB4/Beo3JwV4ElsEIHbbBCILOwR0M3sGSoc3B707Owft7zsEYb7zBdh3VwYZ8tsFwDbzBVSTMwckczcFeEa/B50tHwVN8VMEfsn7BirsWwUbsF8EC+EzBITAiwYp9QsFe8ZzBBZyCwaSAQMHnoFzBZyKDwXD1v8E/Z7/B/TDGwYx6tcFf7KjBhiGZwSWiwMGcPaTBR5vHwbtmvcHiN8fBPV3HweNrwcE=",
          "dtype": "f4"
         },
         "yaxis": "y"
        },
        {
         "hovertemplate": "color=6<br>x=%{x}<br>y=%{y}<extra></extra>",
         "legendgroup": "6",
         "marker": {
          "color": "#FF6692",
          "symbol": "circle"
         },
         "mode": "markers",
         "name": "6",
         "showlegend": true,
         "type": "scattergl",
         "x": {
          "bdata": "wdsFQvAR8EG5PglCMEjtQTjUCUKWCAZCv3gHQsZzJEJLXwdCMlIAQrh3BkI6+hBCTIwBQkDJE0Jt/ONB/9YBQkqUIUKMgB5CWqcAQl1RHkIzex5CktojQstF9UHa0vZBAAIUQhxtFkKzkBJCKe0iQlbYCELoSBpCKHUVQmW6FEI73wxCPRz9QRHZGELIUwhC1KoVQkemFELjQ+9B4ujlQVpb4UGPlt5BhggAQlvO4UHDoelBGoThQQS8DEL0vtxBlbzXQSVY5kFM1ZW/u5cPQv0vBEJNnAlCYwIUQjuwFUIu4gJC4ZgQQob2AkK8pAJCEv4UQqGHD0KV3g9CkHQUQvxSGEL+yxhCYvYYQk+BH0KEiSRCB6IaQq0tDULx0CFCIJAXQpsxBEKzJRlCiiEDQoFcAkJ2ecdBpGjDQZ4B2UHepA5CCDn8Qayq6kGNpA5C7p3GQScKBEJX2tBBBj8JQpkk7EGLyB5CcGseQgDFIkLeBR1CX3kOQt+jH0I9Ag1Ck6cQQqU2HEKE5BpCqh8EQskoBULzCxdC2AIRQmHGG0IubxBCilIOQmZV80FyiwtCUGMXQkJV/0HGwQlCcIQFQsqoFkKWlQNCk6AKQqjREEJwkRpCgJ8VQsa3A0KnLAhCutHYQZQEAELJKwlCE4IJQiI5/0EtovtBz6f7QZ0SDELppPRB//jiQXoy6UHrL+5Bk2LuQRLA3UFt7NlBF0XWQYLo4UG3V+NBcjzuQVGh6kGWAdFBYJjPQfTyD0IaHhFCRq8XQmDGBEKHGBRCRY0VQitsI0LglgtC6JgOQoNoDUJQsgpCzhkLQlpaBEIextxBdfnVQads/UFvld1BtNbcQUSh9UH/F/BBQwnhQfCp3UHsWehB+An3QW0t7UGQ5PdB7ekdQnxKAkL7eB1Cea4dQv9U/0HlrA1C6bUdQqi/JkIsFA1Cst0FQuaLF0L9cgJCJ3YMQg==",
          "dtype": "f4"
         },
         "xaxis": "x",
         "y": {
          "bdata": "8tttwc1qlMGGs2rBKAqKwaYse8HCdp3BW9Z3wYf5rMGHvHHBn1l+weLwUcEtL2nBtUpZwfWQ0cGSbLHBoDV/wbJbtMFG9aPB/neFwe6epMHM67DB5z6qwcjOjMEIvMvBjBjewTWmzMFyj8LBXBO2waRcs8HzCOPB4MK0wfHCtMEkj67B4gaTwXg31ME1KLXBaPTBwYbqr8G8fs7BNbfRwaP4xMFdR9DBR8PcwSxfwsGBdc/B2b/CwbQBjcFCFrfB33DIwQ4qwMHeR7A/x+GRwUbG48HMmcTB8oeKwZW1esFY1u/BjOKOwYqx6MGHP+/Bmv53wWILksEPnI/BhYKEwRVEssFT/LfBHBS7wRqXs8GFfrDB2bPNwfScsMElgs3BrBS+wca9jsGnX9HBiKuPwWoZkMEKH8zBTi/PwauNwcHMyO7Bw5uAwUo5w8GWEvDBq+/LwUvmz8ENrcLBL9LZwZ+9hsGkgL3BCS3EwfeXv8GtFNDBySjEwQJsxMHlgMbBU/nHwU0vxcEHE8rB/3KlwUDkv8FhMtDBLsnYwbOy1MFNe+PBPBq9wb9okcEVhIjBrBSpwbq/qsFSoajBsaaIwUYxqsGgC7fBaxNhwZeqzcGsDdvBy62Nwcc/qsFNparBC1+4wQ4wrsG7z5fBF1iWwdeXt8EnULHBevquwZHHmMGu4q3BB1ucwUnvmsE4F6vBbLOqwUcQusHBqL3Bjqi7wazatcGFvaXBbGmqwYeJn8E5J6rBFbq7wYzk3cG0JeHBuTfbwSHm38GFleLBlh/TwY1zxsFW4cLBCXjfwXoS3MFzjNTBEjrVwX6XrcH9TpbBQaOewSwcXcEAzqzBCwifwSOhgsEp+n/BV4OiwQL7n8FYz4XByuifwfKNecGY62zB96aTwb7B0cESf5bBy2KbwfPgzsEe9l7BQWqewco9qsGPkW7BAyKDwU5ZkcFR3GnBjRvTwQ==",
          "dtype": "f4"
         },
         "yaxis": "y"
        },
        {
         "hovertemplate": "color=7<br>x=%{x}<br>y=%{y}<extra></extra>",
         "legendgroup": "7",
         "marker": {
          "color": "#B6E880",
          "symbol": "circle"
         },
         "mode": "markers",
         "name": "7",
         "showlegend": true,
         "type": "scattergl",
         "x": {
          "bdata": "BW8TQAirIEEw4XJBI6xjQUiaMECJU1lBRp4qQaj0uUBpKYVBb3QHQdfEOEE8jOlAV0AXQUjN8EBJzOdAhPaOQH8/W0FzsktBPuPSQHpza0DTcYC/gNqBQBINLUHmGIpAdVCPQOagRkFNbp9AZaVwQaDikUDwvVVBud1lQZJ9cUGUxRJBzsQQQVXAtkCS069A7qYQQRAMS0GPzoFB8U+FQexTiEH1GItB9HNpQR/Dg0Ej0I1BQkyNQbFKckFlv4BBnc+KQX7dhkFsRXVBfbSkvyK4Y0D2t2hBfhAdQcUOmUAtraw/AKNwQekVXUADSYpAsu3AQDLxsECKHN0/RsmNQAwJokA2zHFBF8+TQeujkkEd+ZJBUvRvQTCcdkFDB3tBjlCSQWSKf0E9a4BBXqSGQZ4irUAXnh9B16i3QMa/3UAR6jxAuxQsQYoiXUDBFvlAf5IDQbqcO0GCGmFAIT/hQFUb+0AjvFi+yswyQbbzD0Hl9DlBKo4LQeTKWEFk6w9BVPQmQbjaIUFBvidBjio9QfAuC0EeiidBCK7PQBNpDEFx+cVADjvTQL4C/UB4975ACAKlQCercEB+EaFAo6D+QAsKSkC0aotA8Pi1QMPx6D+20ixBHt52Qe3X3j9XDyVAhMCYQGrgqz8jlcw/jOnGPw4Ep0ByDHs/W/RlQVHERUEpvpM/suMyQesU5EBlzjdBnJnGQNIT50A9aCo/kGcYQDe5Q0DiUDRBULGSQA60T0FuFbNAToxNQdStXEEt7kxBQyM2QXMpMkFzM2tBpi1QQVE5PEFiWipB71U6QevMSkEqf1lBJXVMQSLB7b/DFpC/vnFuQIY5HD9hD1y+hPx9P3kkFkA0eRFA7knVPuDM3kAFOIdAALWCPy3adkCzUUxBrJx8QFuqJ0EMPmxBK4O0QNCyBkH1WJVATg3EQHH4AkHVXaQ9z2YyQf/djUA=",
          "dtype": "f4"
         },
         "xaxis": "x",
         "y": {
          "bdata": "MrUmQkvbJUKYejBCTX4wQppbKkJMqixC6BgnQrYjLUKLJC9CnlUfQu24KEK3qixCOlgsQocMO0JMJT1CJFBAQpKIK0JMhRxCnqU3QnPhR0LqHTJCWAtGQr8pLkJyEzxCBSZFQhXzMULiYDJCJNsbQjM6NEI/ORlCOVkmQgkLHULGnB1CAaEgQl/3PUJEG0NC5s8gQowIIkJ8oQFCxjcBQmCUAULpPgBCeD8DQg44AULiywFCegsBQtThAkKygupBJWwCQqRTAEJkfAJC/CExQvVMKUJpKidCdfIpQmgUKEJXzi5C4AElQubxLkJGdCpCgpQ1QuKiLULnNztCfAwoQndzLUIYyyVCeOMnQmNsKUL7PClCZJcqQsOiJ0LQdytCDrIoQq3bKkJ4ditC9GssQiLlKkLrJR9CoAk0QoybNELO/0BCJXofQjGURUK7BDVC3GI2QlYlMULr3EJCHD86QuvSNULg5TBCrwAQQjDzEELKLhFCrQsUQrqeEkKlJhJCzskOQvO5IUL16g5CS0EQQmvMFkJBfhRCxmgbQi+HF0JvZRlCOGUUQtFGG0KtMRdCBiASQgoIH0IilxFCD5AXQo7cI0JE7B1CG/MWQg5pLUI0AS9C12glQldPM0IbtCtCvOouQk3/KkJGLzJCGRY5QtLIMkIsMy1Ck7UpQjoaNkKE4DZCZcUfQo3FJUJgkB1CINImQgMVJkLcWzBC8EQtQurhQUKNfyRCYkA6Qht7JkIFYShCSSwVQvaCFUKTNxRCk9oYQl+hFULAoxZCixoZQsWYG0I4+xpC9rAYQnq9EEJ7YxdCIR0TQgiRMEKu2jBCmkk1QuDuPEKucT5Ca3A9Qj/NN0IbNERCni06Qg+iL0IUfzxC0atAQs6qK0JibStCKR4rQrOXC0L8ZitCSDY5Qic6QEJGZUJCJQtDQgZeKkKmCjJCRQgxQj+jPkI=",
          "dtype": "f4"
         },
         "yaxis": "y"
        },
        {
         "hovertemplate": "color=8<br>x=%{x}<br>y=%{y}<extra></extra>",
         "legendgroup": "8",
         "marker": {
          "color": "#FF97FF",
          "symbol": "circle"
         },
         "mode": "markers",
         "name": "8",
         "showlegend": true,
         "type": "scattergl",
         "x": {
          "bdata": "iz9jwR3hlcDv7QvB+A3nv+sv/sC1WwDB96eUwPC1Q8COT9zAVLy6wH+aJcHnx7O/4OTLQKgWH8EQIC/BbI/uwKbiG8Gc2K3Aki0swdAFsMAgYDXBMNzfwE+qGMEvVSfBzSYzwTQT6cDsTHjB8pTEwARZz8Cl21XBc2ZWwYpwdMFd4nLBE4kUwfqXXMFxp5bBWjNWwT9BxsCDsVPBGXYLwdFPa8HPoFHBn91TwR3ObMEQVkXBfEaPwcBOg8HhlBXBNsMOwRPwXcHa/FPBE1k4wbP7TMG27VbBYDBAwWsbWMGRgGfBwg5gwZ1yVcFMh0DBGY89wXQJWsFCXVvB55JCwczucMGh1x3B1IJvwb9fNMEA1zrBh+kSwSEGesEmHyXBHna0wBrrbMG3p3DAYKprwbahBcFalafBuLBnQelYzsCey4PBO4FSwbbaUMGfeCfBucKmwdmbMsGNKTfB++VXwfJfL8G7IqjBnmR/wTCChsHOcYbBvhJ/wWmrXMGFrIjBpZFjwYVdcsE80ojBZkt9waUUeMEny+nA6yPTwKPyf8Fue4fBMbQhwT9fzsBFNoPBfJWBwZ2B1MDM4ozBXNVBwRWFecFUtX3BhPmNwaE2VMCbhIHAQuCWwKqqT8AdwWTA7R+dwEIys8D3KqHBJhFTwLk6qMDCMNfA7SDMwGyn0MCWBJTAdIubwNRz6cBT1tTAEymzwIptKsEJJ8PA8dn1wInwi8AW44vAotqewIvmdMHRdXzBvOGCwYtlW8EKL1rBBhBOwZ0daMF6T2HBKd5Twa3STcE0Y0rBVQFPwcJyTMG6oBBBYPS7vsCiAMGbTy7Bm0OnwHgpIsHyLCTB0/8DwRb+C8HqZz/BAPb8wF3qP8Hb8l/BOrrpwCt9wcAB1jjBYxuywBBZUsFHhonA7tpsv0h8ucCEtlzB",
          "dtype": "f4"
         },
         "xaxis": "x",
         "y": {
          "bdata": "hBu7QJjW5UDPfgdBbkKzQH3+BEGZcSRBFul7QLepu0CRnZBABEYQQWyQJUFFt7VA2VEqQcEP50CTeotA7GQ5QTJs6kCNmVFBRZQSQdIIUEGaBkBBzpIsQbT/HkGfbiFB+q0+QR7QkEBWQuM+bMf6P9i3C0AVH45A9aB3QKlMAsDKVIw/TjWdQFpRMEAMRBtAFy9cQHQvFUBWzNm/sUTGQPq/ssDfaNc+tjnXvUf2WsB8eou+tmyFPkn207z5kLxAZ/2oQI7ihT8uDMm+VIVlQQVCVUGLVE9BGt5oQf0TWUHR6VtB75hfQduZWkHOXHRByhxmQeqPYkH7fV5B09RnQV09H0CVhwtAzvoeQA9pI0BrshlAFHAgQJRJIr//8XhA5HJHQCkiOj+g3FpA4YgwQHUWNkBTSDFBb3oGQQvjY0BBewTAtL2pwDo9sMBIjgO/CwoyQewPnMBkSJvA2VQKQbfcmsCNSTBB4zFMQK9VEkBjmjxAYq4ZQFBUjL4MGvY/rgGcP9kHMcDm2EVAN0/avzgSDUCNgMg/5GvaQC5M8ECVlchAHbQLQcuS20C4mdpAoADZQB5yhz8Dw9JAVyDVQA4yB0FbxfZAyukOQLeamkClz7JAdCsmP62o20C+aLM/S6V4P2ZN3EALTjpB2he+QAf390B85wRBHpDyQE/liUB9Xn1ARGSxQBzICUHr9hlB1Q6UQKxDikAkIPFAjNAHQQUfEUHomn5AfFPVQMHVD8CXQAbAG2z5v7JyqL8dluW/zSjEwKgUdsAT2nvAuvqUwA3EhcD1fGHAi62SwNMLVsA9sxJBOk60QBTUZEFld01BVkaiQAZIQkEl91JBTBREQTpBRUGsxPNAZIXgQEeyAkGxTc1A4yjBQHG7lz+xhAlBwF4pQaNRBUGsBylBwLB8QRkcLUEke99A",
          "dtype": "f4"
         },
         "yaxis": "y"
        },
        {
         "hovertemplate": "color=9<br>x=%{x}<br>y=%{y}<extra></extra>",
         "legendgroup": "9",
         "marker": {
          "color": "#FECB52",
          "symbol": "circle"
         },
         "mode": "markers",
         "name": "9",
         "showlegend": true,
         "type": "scattergl",
         "x": {
          "bdata": "4P6bwfGz6MFsCeTBvxvqwf3r38Fto7XBYGVXP/xp28HcmbXBrhHmwaFa6cHubrjBMN6owetx2sF5S87BK3XVwYRD28G/fuvBh1HdwYszxsHX96XBtM+hwVGc1MFuu5jBqRWnwfEzeEGDpGVBgBjFwcVt6sGpYJHBeCvUwWtsdUGWvmdBfwxzQS3DbUHitLdB0cu5QfJqdkHGvbPBRRzowcRd6MF/6JvB84OcwbMTuMHvHrLB+RqdwbLkt8HGzZzBVFK3wdmhpsEMzrXBCiGgwQMbj8E97KzB1kEKwbi7osGiraTBp8WVwQJwm8GUuqPBzw2lwUohwsG8iJzBdG7lwRuEtUFesr1BySu4QUTvvkFyX6pB1By7QeD2t0H4FbdBVdG1QSoTwUH0U7tBj+y0QcgsrkHe6NDB4jOawYy358G29J/BsLjNwTw5ocFlbebBn8mswTVWo8HncenB7dmowZ9HqMFoJMPBVyrawVY3zMFhNdPBQ2fIwZVM2sG50MvBMurdwTIO2cGasdvBQy3Lwd7pzMFdZLbBmC/IwVy69MF4/8XBZw3Hwe8TjcHk9MjBT+SMwZBDxcHAUMTApiDKwdatw8HuxLrBVdDGwUtUu8FHg5TBLDfqwdvWlcEcxp7Bo1SXwcbBnsFWAMrB+pOXwYqKmsGUO5zBy1mcwUFjwcFYVI/BhV7JwfhKqMHNSaDBUSSswZzassEVmZXByDfrwX3TqcFT3NfBMFGewR54m8EIp5PBIce/wcePvsEwpMLB0VC4wbqFvcET7rfBWlLIwS95vMHnfbzBA1DEwQqYscG4kL7B5ka9wcpKtEFwW6xBOrOsQfsVrUEdHH5BmIl+QMu1tkGT5OPB7CF2QY9A6MHP3QbCJJqGQCJ5eEH6RcTBsYulwZID2sFuPMHBN/+zweA6t8GM2rHBM6jAwV/rsMFNVarBbi7QwYLAuMGKoqPB",
          "dtype": "f4"
         },
         "xaxis": "x",
         "y": {
          "bdata": "jn9xwaUJfcHHsnjBeJuBwSEWSsFo27fBIQTvQeDcd8G3L8vBg1KLwR49lcHmfmLBEJvOwVbwjMFyFn/BDxWIwRCIhcG+fqjBjNCOwcvtgcGkD4bBwF2IwXrFgcGMvmrBChx5wb0L40FnrN1Bhna7wcV4ocH67pHBPY6vwfW63EGb491Bq5TgQXHX3EH86pBB3bSKQQ9w4EGhsMnBUEKvweBTr8Ge7lfBP3FUwYVxm8HEXJvBzgRTwfqEksFgVFHBtHaWwfT418EJjJbB8IYvwZhXu8FY6CnBeu2AQAPdysFJ1ibB7Rm/wQfiosEZ2irB+fYowQOHosFwArzBTWS4wa1bikH2SIJBM4aFQXthf0G2aXNBdpaCQZV+gUFQoXJBy1p3QdIpg0F5A4dBRNKGQVpshkFN2ZvBBdPNwQBWucEYC8rBoAOjwI7ewcEtBLvB5gSJwaEdzMEuFqrBf6vTwTLB1cGl78fBC4Kgwa/CocGi+aHB73S8wQN9rcGkN6rBdtihwR6IocF6j6zBFy+jwYLXvMESmC3BOwagwf81PcE5fDbBhB1IwdOhh8HT6DnBja6KwQAGOME5zXk+eVs5wQaoasHbbXrBTTsswbjJYsEwSGnBfgOWwcDoasFwUaPBXWWqwd5qosEkXIHBc1KLwe9BosHauY/BiwKMwTylv8HGSpHBUG2awdhIp8HjzKfBjJKtwSvqocHAXJ/BwoKjwZ+4pMGq87rB6suzwZUnscGTOsHBypO1wWnjxsG5M6/B3tiswdutwcElNbfBggCtwRcFs8H4Z8DBW3muwW3hq8E/H9LBoULOwbzNgEFM/5dBBLaYQbUHlkHX/dBBXlMUwQ/5kkFT5pXBBczYQXhCisEb5xVAjJMVwXeZ1UH72J/BIxeWwd0XlcHWMYzBD4nGwRkBwMFwDpbBfXiOwTD3kcF1/5DBEM19wWAui8E8OXLB",
          "dtype": "f4"
         },
         "yaxis": "y"
        }
       ],
       "layout": {
        "height": 600,
        "legend": {
         "title": {
          "text": "color"
         },
         "tracegroupgap": 0
        },
        "margin": {
         "t": 60
        },
        "plot_bgcolor": "rgba(0,0,0,0)",
        "template": {
         "data": {
          "bar": [
           {
            "error_x": {
             "color": "#2a3f5f"
            },
            "error_y": {
             "color": "#2a3f5f"
            },
            "marker": {
             "line": {
              "color": "#E5ECF6",
              "width": 0.5
             },
             "pattern": {
              "fillmode": "overlay",
              "size": 10,
              "solidity": 0.2
             }
            },
            "type": "bar"
           }
          ],
          "barpolar": [
           {
            "marker": {
             "line": {
              "color": "#E5ECF6",
              "width": 0.5
             },
             "pattern": {
              "fillmode": "overlay",
              "size": 10,
              "solidity": 0.2
             }
            },
            "type": "barpolar"
           }
          ],
          "carpet": [
           {
            "aaxis": {
             "endlinecolor": "#2a3f5f",
             "gridcolor": "white",
             "linecolor": "white",
             "minorgridcolor": "white",
             "startlinecolor": "#2a3f5f"
            },
            "baxis": {
             "endlinecolor": "#2a3f5f",
             "gridcolor": "white",
             "linecolor": "white",
             "minorgridcolor": "white",
             "startlinecolor": "#2a3f5f"
            },
            "type": "carpet"
           }
          ],
          "choropleth": [
           {
            "colorbar": {
             "outlinewidth": 0,
             "ticks": ""
            },
            "type": "choropleth"
           }
          ],
          "contour": [
           {
            "colorbar": {
             "outlinewidth": 0,
             "ticks": ""
            },
            "colorscale": [
             [
              0,
              "#0d0887"
             ],
             [
              0.1111111111111111,
              "#46039f"
             ],
             [
              0.2222222222222222,
              "#7201a8"
             ],
             [
              0.3333333333333333,
              "#9c179e"
             ],
             [
              0.4444444444444444,
              "#bd3786"
             ],
             [
              0.5555555555555556,
              "#d8576b"
             ],
             [
              0.6666666666666666,
              "#ed7953"
             ],
             [
              0.7777777777777778,
              "#fb9f3a"
             ],
             [
              0.8888888888888888,
              "#fdca26"
             ],
             [
              1,
              "#f0f921"
             ]
            ],
            "type": "contour"
           }
          ],
          "contourcarpet": [
           {
            "colorbar": {
             "outlinewidth": 0,
             "ticks": ""
            },
            "type": "contourcarpet"
           }
          ],
          "heatmap": [
           {
            "colorbar": {
             "outlinewidth": 0,
             "ticks": ""
            },
            "colorscale": [
             [
              0,
              "#0d0887"
             ],
             [
              0.1111111111111111,
              "#46039f"
             ],
             [
              0.2222222222222222,
              "#7201a8"
             ],
             [
              0.3333333333333333,
              "#9c179e"
             ],
             [
              0.4444444444444444,
              "#bd3786"
             ],
             [
              0.5555555555555556,
              "#d8576b"
             ],
             [
              0.6666666666666666,
              "#ed7953"
             ],
             [
              0.7777777777777778,
              "#fb9f3a"
             ],
             [
              0.8888888888888888,
              "#fdca26"
             ],
             [
              1,
              "#f0f921"
             ]
            ],
            "type": "heatmap"
           }
          ],
          "histogram": [
           {
            "marker": {
             "pattern": {
              "fillmode": "overlay",
              "size": 10,
              "solidity": 0.2
             }
            },
            "type": "histogram"
           }
          ],
          "histogram2d": [
           {
            "colorbar": {
             "outlinewidth": 0,
             "ticks": ""
            },
            "colorscale": [
             [
              0,
              "#0d0887"
             ],
             [
              0.1111111111111111,
              "#46039f"
             ],
             [
              0.2222222222222222,
              "#7201a8"
             ],
             [
              0.3333333333333333,
              "#9c179e"
             ],
             [
              0.4444444444444444,
              "#bd3786"
             ],
             [
              0.5555555555555556,
              "#d8576b"
             ],
             [
              0.6666666666666666,
              "#ed7953"
             ],
             [
              0.7777777777777778,
              "#fb9f3a"
             ],
             [
              0.8888888888888888,
              "#fdca26"
             ],
             [
              1,
              "#f0f921"
             ]
            ],
            "type": "histogram2d"
           }
          ],
          "histogram2dcontour": [
           {
            "colorbar": {
             "outlinewidth": 0,
             "ticks": ""
            },
            "colorscale": [
             [
              0,
              "#0d0887"
             ],
             [
              0.1111111111111111,
              "#46039f"
             ],
             [
              0.2222222222222222,
              "#7201a8"
             ],
             [
              0.3333333333333333,
              "#9c179e"
             ],
             [
              0.4444444444444444,
              "#bd3786"
             ],
             [
              0.5555555555555556,
              "#d8576b"
             ],
             [
              0.6666666666666666,
              "#ed7953"
             ],
             [
              0.7777777777777778,
              "#fb9f3a"
             ],
             [
              0.8888888888888888,
              "#fdca26"
             ],
             [
              1,
              "#f0f921"
             ]
            ],
            "type": "histogram2dcontour"
           }
          ],
          "mesh3d": [
           {
            "colorbar": {
             "outlinewidth": 0,
             "ticks": ""
            },
            "type": "mesh3d"
           }
          ],
          "parcoords": [
           {
            "line": {
             "colorbar": {
              "outlinewidth": 0,
              "ticks": ""
             }
            },
            "type": "parcoords"
           }
          ],
          "pie": [
           {
            "automargin": true,
            "type": "pie"
           }
          ],
          "scatter": [
           {
            "fillpattern": {
             "fillmode": "overlay",
             "size": 10,
             "solidity": 0.2
            },
            "type": "scatter"
           }
          ],
          "scatter3d": [
           {
            "line": {
             "colorbar": {
              "outlinewidth": 0,
              "ticks": ""
             }
            },
            "marker": {
             "colorbar": {
              "outlinewidth": 0,
              "ticks": ""
             }
            },
            "type": "scatter3d"
           }
          ],
          "scattercarpet": [
           {
            "marker": {
             "colorbar": {
              "outlinewidth": 0,
              "ticks": ""
             }
            },
            "type": "scattercarpet"
           }
          ],
          "scattergeo": [
           {
            "marker": {
             "colorbar": {
              "outlinewidth": 0,
              "ticks": ""
             }
            },
            "type": "scattergeo"
           }
          ],
          "scattergl": [
           {
            "marker": {
             "colorbar": {
              "outlinewidth": 0,
              "ticks": ""
             }
            },
            "type": "scattergl"
           }
          ],
          "scattermap": [
           {
            "marker": {
             "colorbar": {
              "outlinewidth": 0,
              "ticks": ""
             }
            },
            "type": "scattermap"
           }
          ],
          "scattermapbox": [
           {
            "marker": {
             "colorbar": {
              "outlinewidth": 0,
              "ticks": ""
             }
            },
            "type": "scattermapbox"
           }
          ],
          "scatterpolar": [
           {
            "marker": {
             "colorbar": {
              "outlinewidth": 0,
              "ticks": ""
             }
            },
            "type": "scatterpolar"
           }
          ],
          "scatterpolargl": [
           {
            "marker": {
             "colorbar": {
              "outlinewidth": 0,
              "ticks": ""
             }
            },
            "type": "scatterpolargl"
           }
          ],
          "scatterternary": [
           {
            "marker": {
             "colorbar": {
              "outlinewidth": 0,
              "ticks": ""
             }
            },
            "type": "scatterternary"
           }
          ],
          "surface": [
           {
            "colorbar": {
             "outlinewidth": 0,
             "ticks": ""
            },
            "colorscale": [
             [
              0,
              "#0d0887"
             ],
             [
              0.1111111111111111,
              "#46039f"
             ],
             [
              0.2222222222222222,
              "#7201a8"
             ],
             [
              0.3333333333333333,
              "#9c179e"
             ],
             [
              0.4444444444444444,
              "#bd3786"
             ],
             [
              0.5555555555555556,
              "#d8576b"
             ],
             [
              0.6666666666666666,
              "#ed7953"
             ],
             [
              0.7777777777777778,
              "#fb9f3a"
             ],
             [
              0.8888888888888888,
              "#fdca26"
             ],
             [
              1,
              "#f0f921"
             ]
            ],
            "type": "surface"
           }
          ],
          "table": [
           {
            "cells": {
             "fill": {
              "color": "#EBF0F8"
             },
             "line": {
              "color": "white"
             }
            },
            "header": {
             "fill": {
              "color": "#C8D4E3"
             },
             "line": {
              "color": "white"
             }
            },
            "type": "table"
           }
          ]
         },
         "layout": {
          "annotationdefaults": {
           "arrowcolor": "#2a3f5f",
           "arrowhead": 0,
           "arrowwidth": 1
          },
          "autotypenumbers": "strict",
          "coloraxis": {
           "colorbar": {
            "outlinewidth": 0,
            "ticks": ""
           }
          },
          "colorscale": {
           "diverging": [
            [
             0,
             "#8e0152"
            ],
            [
             0.1,
             "#c51b7d"
            ],
            [
             0.2,
             "#de77ae"
            ],
            [
             0.3,
             "#f1b6da"
            ],
            [
             0.4,
             "#fde0ef"
            ],
            [
             0.5,
             "#f7f7f7"
            ],
            [
             0.6,
             "#e6f5d0"
            ],
            [
             0.7,
             "#b8e186"
            ],
            [
             0.8,
             "#7fbc41"
            ],
            [
             0.9,
             "#4d9221"
            ],
            [
             1,
             "#276419"
            ]
           ],
           "sequential": [
            [
             0,
             "#0d0887"
            ],
            [
             0.1111111111111111,
             "#46039f"
            ],
            [
             0.2222222222222222,
             "#7201a8"
            ],
            [
             0.3333333333333333,
             "#9c179e"
            ],
            [
             0.4444444444444444,
             "#bd3786"
            ],
            [
             0.5555555555555556,
             "#d8576b"
            ],
            [
             0.6666666666666666,
             "#ed7953"
            ],
            [
             0.7777777777777778,
             "#fb9f3a"
            ],
            [
             0.8888888888888888,
             "#fdca26"
            ],
            [
             1,
             "#f0f921"
            ]
           ],
           "sequentialminus": [
            [
             0,
             "#0d0887"
            ],
            [
             0.1111111111111111,
             "#46039f"
            ],
            [
             0.2222222222222222,
             "#7201a8"
            ],
            [
             0.3333333333333333,
             "#9c179e"
            ],
            [
             0.4444444444444444,
             "#bd3786"
            ],
            [
             0.5555555555555556,
             "#d8576b"
            ],
            [
             0.6666666666666666,
             "#ed7953"
            ],
            [
             0.7777777777777778,
             "#fb9f3a"
            ],
            [
             0.8888888888888888,
             "#fdca26"
            ],
            [
             1,
             "#f0f921"
            ]
           ]
          },
          "colorway": [
           "#636efa",
           "#EF553B",
           "#00cc96",
           "#ab63fa",
           "#FFA15A",
           "#19d3f3",
           "#FF6692",
           "#B6E880",
           "#FF97FF",
           "#FECB52"
          ],
          "font": {
           "color": "#2a3f5f"
          },
          "geo": {
           "bgcolor": "white",
           "lakecolor": "white",
           "landcolor": "#E5ECF6",
           "showlakes": true,
           "showland": true,
           "subunitcolor": "white"
          },
          "hoverlabel": {
           "align": "left"
          },
          "hovermode": "closest",
          "mapbox": {
           "style": "light"
          },
          "paper_bgcolor": "white",
          "plot_bgcolor": "#E5ECF6",
          "polar": {
           "angularaxis": {
            "gridcolor": "white",
            "linecolor": "white",
            "ticks": ""
           },
           "bgcolor": "#E5ECF6",
           "radialaxis": {
            "gridcolor": "white",
            "linecolor": "white",
            "ticks": ""
           }
          },
          "scene": {
           "xaxis": {
            "backgroundcolor": "#E5ECF6",
            "gridcolor": "white",
            "gridwidth": 2,
            "linecolor": "white",
            "showbackground": true,
            "ticks": "",
            "zerolinecolor": "white"
           },
           "yaxis": {
            "backgroundcolor": "#E5ECF6",
            "gridcolor": "white",
            "gridwidth": 2,
            "linecolor": "white",
            "showbackground": true,
            "ticks": "",
            "zerolinecolor": "white"
           },
           "zaxis": {
            "backgroundcolor": "#E5ECF6",
            "gridcolor": "white",
            "gridwidth": 2,
            "linecolor": "white",
            "showbackground": true,
            "ticks": "",
            "zerolinecolor": "white"
           }
          },
          "shapedefaults": {
           "line": {
            "color": "#2a3f5f"
           }
          },
          "ternary": {
           "aaxis": {
            "gridcolor": "white",
            "linecolor": "white",
            "ticks": ""
           },
           "baxis": {
            "gridcolor": "white",
            "linecolor": "white",
            "ticks": ""
           },
           "bgcolor": "#E5ECF6",
           "caxis": {
            "gridcolor": "white",
            "linecolor": "white",
            "ticks": ""
           }
          },
          "title": {
           "x": 0.05
          },
          "xaxis": {
           "automargin": true,
           "gridcolor": "white",
           "linecolor": "white",
           "ticks": "",
           "title": {
            "standoff": 15
           },
           "zerolinecolor": "white",
           "zerolinewidth": 2
          },
          "yaxis": {
           "automargin": true,
           "gridcolor": "white",
           "linecolor": "white",
           "ticks": "",
           "title": {
            "standoff": 15
           },
           "zerolinecolor": "white",
           "zerolinewidth": 2
          }
         }
        },
        "width": 600,
        "xaxis": {
         "anchor": "y",
         "domain": [
          0,
          1
         ],
         "scaleanchor": "y",
         "title": {
          "text": "x"
         },
         "visible": false
        },
        "yaxis": {
         "anchor": "x",
         "domain": [
          0,
          1
         ],
         "title": {
          "text": "y"
         },
         "visible": false
        }
       }
      }
     },
     "metadata": {},
     "output_type": "display_data"
    }
   ],
   "source": [
    "xf, yf = TSNE().fit_transform(X=digits).T\n",
    "px.scatter(x=xf, y=yf, color=digit_class.astype(\"U\")).update_layout(\n",
    "    width=600,\n",
    "    height=600,\n",
    "    xaxis_scaleanchor=\"y\",\n",
    "    plot_bgcolor=\"rgba(0,0,0,0)\",\n",
    "    xaxis_visible=False,\n",
    "    yaxis_visible=False,\n",
    ")"
   ]
  },
  {
   "cell_type": "code",
   "execution_count": 5,
   "metadata": {},
   "outputs": [],
   "source": [
    "rng = np.random.default_rng()\n",
    "nd, _ = digits.shape\n",
    "samp_inds = rng.choice(nd, size=400, replace=False)\n",
    "data = digits[samp_inds]\n",
    "data_class = digit_class[samp_inds].astype(\"U\")"
   ]
  },
  {
   "cell_type": "code",
   "execution_count": 6,
   "metadata": {},
   "outputs": [
    {
     "data": {
      "application/vnd.plotly.v1+json": {
       "config": {
        "plotlyServerURL": "https://plot.ly"
       },
       "data": [
        {
         "hovertemplate": "color=1<br>x=%{x}<br>y=%{y}<extra></extra>",
         "legendgroup": "1",
         "marker": {
          "color": "#636efa",
          "symbol": "circle"
         },
         "mode": "markers",
         "name": "1",
         "orientation": "v",
         "showlegend": true,
         "type": "scatter",
         "x": {
          "bdata": "BxuYwWjBlcEXFpLBht6ZwY0RSkDxaPg+ZbuPwe9+oMH5IKLBc/ucwS0+VkBgO4rBRa+gwUxskcGbgZrBe2AFP1Czpz9oQoTBIGSRwWhymMH3h4bBgTWcP6uMlcEWroLBJTCKwfkbmsGxfJy/BFaSwZZXksE2xInBRtqdwRfDWEDURs4+qph1wXEMQUCzLKbBwQRiwbRao8FzdUC/pRR4wUm0Rb7n/4s+qu+QwdCtgME=",
          "dtype": "f4"
         },
         "xaxis": "x",
         "y": {
          "bdata": "m3ecQPI+B0FhshlBz5WAQCdZVsEYcj3BqhQDQtMUTUBF4PdB0U/9QWpPasH4SfdAHs3/QR2vEUBfYwJCpQJZwQfTLsE/5RBBwllKQKv/BEAyz6VA54dgwV1MHkFC4vY/ewYNQXfgNEAOmDXBCaQDQiZvtkBDmmlAntkSQb0LasEbFinBG9upQIHFT8GVBPlBDwG/QPnBh0BmDynBAqkCQWRbLsFcJXPB3C6DQIOOyEA=",
          "dtype": "f4"
         },
         "yaxis": "y"
        },
        {
         "hovertemplate": "color=9<br>x=%{x}<br>y=%{y}<extra></extra>",
         "legendgroup": "9",
         "marker": {
          "color": "#EF553B",
          "symbol": "circle"
         },
         "mode": "markers",
         "name": "9",
         "orientation": "v",
         "showlegend": true,
         "type": "scatter",
         "x": {
          "bdata": "2QhwQZ+qD0G1xPJAv+9GQZUmLEFx+7vA8uwoQQdvAUHk+5DA0EDKQE9NYUFHKRpBiLzdQNrfv8BlEClBj/KWQNrkYUEu9XRBOFjewLQCwEDL8KhAjHEsQf1JHkF12o/Ag5lMQa48rcBO4MNAIFeEQLDwlL+oOszABf4QQW0vK0Hmcg5BoNEVwfXD5kBrJy5BFGkWQcoVRUHj5E3BVwaHQAQXVEGPpvVA5tTyQA==",
          "dtype": "f4"
         },
         "xaxis": "x",
         "y": {
          "bdata": "h6kZQcQEKkGgOwhBMb49QaK4WkFDODzBV2QUQc3O6ED67ibBUZ1EQZn+7kAYuDZBkrIgQR6uT8GUfzdB6hAmQZlzBUEuTR1BRNA/wc6tLkFkFBJBY6TlQI8hCUFbyiDB59hfQYrWV8H0iPRAf5k3QYjsYkFxV0jB5g0eQR5rIkH4ZAZB8h7OQDTR40DbE05B37NPQZ+6YEFU8vTANXccQb2nOUGEiVVBPeJLQQ==",
          "dtype": "f4"
         },
         "yaxis": "y"
        },
        {
         "hovertemplate": "color=7<br>x=%{x}<br>y=%{y}<extra></extra>",
         "legendgroup": "7",
         "marker": {
          "color": "#00cc96",
          "symbol": "circle"
         },
         "mode": "markers",
         "name": "7",
         "orientation": "v",
         "showlegend": true,
         "type": "scatter",
         "x": {
          "bdata": "K3itwcp1oMGcAGbByo+0wWR/rsF9JY3BV9uPwX/1wcHsR4fBveKOwVB3lsEZzUvBmVOHwa1wr8EZjJXBgY+nwWGEdcHIyLXBqoqhwXDBqsGUeqvB3wghwVqMoMGH2LrBoFnFwRb4VcGAE6bB8I+qwXuNjsE6frDBieyhwQ==",
          "dtype": "f4"
         },
         "xaxis": "x",
         "y": {
          "bdata": "XGcuwdVMBsFCDy7BnTFMwYsnEMFp9z3BSYMowcrcBcEe6wTBMbU1wUgdN8HlJTjBrowSwYH3P8HkuBTBVxjPwINiOsFXoBXBn2ATwcKquMBEtSDBGsNBwfxkS8HcLCnBtooDwSKtNMEY/e7A5PxDwWcIWMHTPN/Am6EowQ==",
          "dtype": "f4"
         },
         "yaxis": "y"
        },
        {
         "hovertemplate": "color=3<br>x=%{x}<br>y=%{y}<extra></extra>",
         "legendgroup": "3",
         "marker": {
          "color": "#ab63fa",
          "symbol": "circle"
         },
         "mode": "markers",
         "name": "3",
         "orientation": "v",
         "showlegend": true,
         "type": "scatter",
         "x": {
          "bdata": "8NsZwFzwHUHtE1XATCzjvtSvqD+4OJfANRmMQC8JfD/u0CdBOjAcQZyin0Ai8ZtAobIqv+XaqUBm8HRAP5Llv7ZWg0BYf1JAN42dQKfTvz5O8LE/130CQa3dAkDaEEBA5bHrQJ5KGUFyd6tALTk+wNTRmMBvZBpA8yQGwKy4L0BAPGBAU7T5Pr8Tyj7DQ0NAD96FP/36ub8=",
          "dtype": "f4"
         },
         "xaxis": "x",
         "y": {
          "bdata": "QASVQW/OjUH7l4xBVQuRQZ/SYEGbUzBBW/RjQYw1lkGC7JhBrd6LQTN5gkGV+KhBIRuCQVB5pkGvy3pBLFWIQVvSh0EMqpBBB1abQdLdikGcknpBE5rCwIU4ikE04q5B8C+GQTe1oUEt4YxBM+yJQVObLkEoq3NBYpKOQbvRoUEvRltBAi6aQQTAdUHK6YFBG0E/QWMlmEE=",
          "dtype": "f4"
         },
         "yaxis": "y"
        },
        {
         "hovertemplate": "color=8<br>x=%{x}<br>y=%{y}<extra></extra>",
         "legendgroup": "8",
         "marker": {
          "color": "#FFA15A",
          "symbol": "circle"
         },
         "mode": "markers",
         "name": "8",
         "orientation": "v",
         "showlegend": true,
         "type": "scatter",
         "x": {
          "bdata": "jn3nwPjWxb8lZkXBdJNMQaVPLEGH+fjA3Dotwd3mYkEPYkpBpUN7QXVsgUEZ44BBLaotQVxk6sDu/WHBdFtUQSI5F8F9we/AMXhrQYhigEECBYBBZMUGwUI/NUFX9hjB1ydgQY4+gUFxiiLB+gsnwWDfWkHNN2ZB",
          "dtype": "f4"
         },
         "xaxis": "x",
         "y": {
          "bdata": "3hdVQZ6t0kEA8NVAx2WOwPRLjz832w1BiwXgQBWlrUFnUZDAUYGGQXIwfkHMdEVB5c6nPwi1VEGjjhBBKquIQbtZU0GOagFBnFazQQyudUGtDoZBNR0HQYqeLEBUj1ZBiR+JQSscY0GQxuZAqQMlQZWNuEEva65B",
          "dtype": "f4"
         },
         "yaxis": "y"
        },
        {
         "hovertemplate": "color=4<br>x=%{x}<br>y=%{y}<extra></extra>",
         "legendgroup": "4",
         "marker": {
          "color": "#19d3f3",
          "symbol": "circle"
         },
         "mode": "markers",
         "name": "4",
         "orientation": "v",
         "showlegend": true,
         "type": "scatter",
         "x": {
          "bdata": "lW6dwAouKMG+sBbBy8Nbwb+jCME2sN3AsJzwwJOyh8BSUyHAMFdUwdo+GsHBodXApuI1wM17DsGI8gHAqRNjwDvEzL/JUsjAFQx5wPemBcHWCzTAk2s3wdGiFcEkGjw/9cP2wC1SyMDyNSzB31TYwE5KSsEc3YDA32CmwCpYX8EenanBiuGtPuAMXcGC08/AghI9wP+QNsGNif/AwRgBwU9pqb5BgTPBRXunwJwd+7+eEh7BdWtSv4+QLL8=",
          "dtype": "f4"
         },
         "xaxis": "x",
         "y": {
          "bdata": "tMzYwWQVtMHCjsXBgXqXwRSQxMFxGPTBQ/XkwVkWv8H61sjB+wupwUlY0sEs+LzBAnDdwSmOoMGNrajBMQHbwS9WrMH+18TBc/i1wY3RpMEiO7/BNY2kwaHpqcGPzLjBYlCjwXu31MHHq83ByIjqwbTqq8H2hcTB6L7Owe+OqcE/hYfAQ6+6wZvmlMEo5eXB/UK3wZ7vwsHnuM/BfAfWwZUmwsHe1p7BuWrfwaggwMHI8sHB6CHGwZcwsME=",
          "dtype": "f4"
         },
         "yaxis": "y"
        },
        {
         "hovertemplate": "color=5<br>x=%{x}<br>y=%{y}<extra></extra>",
         "legendgroup": "5",
         "marker": {
          "color": "#FF6692",
          "symbol": "circle"
         },
         "mode": "markers",
         "name": "5",
         "orientation": "v",
         "showlegend": true,
         "type": "scatter",
         "x": {
          "bdata": "3ySsv0GZSkAA4pG/T402vwKRgkD35NHAyFprv7wCMD8HZjFAYgUiQF+OYT+GHZpAEHbKvtZIkMC6vUNAYvVNwK8nC8F7fbfAj879P2laX0A/fpo/HNcGwXIbjsCb3arAWz8BwZW1BUD+3wXBflfYwEAS78C5gfXASzZCQFTQakAcHE0/jyHuv7o/iUAddGhApR8EwWWiob4=",
          "dtype": "f4"
         },
         "xaxis": "x",
         "y": {
          "bdata": "dnyZv1cixj+t/jjAC1GIP9R/kUA62ym/SOipv6B1t75rPTHAQOGOPxWPUT/2si2/TwtnPtJgUj5MHkVAyZJ0PakvzT/wkBhAaVMhwJZrP8C/EqzA00JLv1U1PkCqdH0+CR5ePuFhL0D4u/q/F0SFP7G6pL9gxKW+ikQGv7kIwD9G0JrAf8MvwLulYb3S+QTAg1nrP74ABkA=",
          "dtype": "f4"
         },
         "yaxis": "y"
        },
        {
         "hovertemplate": "color=6<br>x=%{x}<br>y=%{y}<extra></extra>",
         "legendgroup": "6",
         "marker": {
          "color": "#B6E880",
          "symbol": "circle"
         },
         "mode": "markers",
         "name": "6",
         "orientation": "v",
         "showlegend": true,
         "type": "scatter",
         "x": {
          "bdata": "+6SEQRJPo0HvMbtBFB+8QYv1kkFQ3pxBS46VQc0ho0EeXpdB0z69Qe0nuUFwB3ZBZ4+2QeKgikH0FLJBdfSLQWPZv0HLeqZB0beLQbE9xkErb8NB6QyvQQ6EmEHpLLJBKb6SQZGXvUFINcRBmZeYQcb9oUGmzKRBXI/HQc4ZoEE=",
          "dtype": "f4"
         },
         "xaxis": "x",
         "y": {
          "bdata": "kvETwWUP9cALUQ7BsTb7wCViO8H4dtfAKO7qwC2fu8DQjB/BzuQjwV1rUcHq9xLBwLsswS3qmMDUhD7BnxwhwWXNRMH5lhXBOIS0wCFCN8Ek6AfBKZYowf8XAcEodxnBUZEmwRWLMcGT/SbBXHy+wPSiZsHTpmHBtV8VwVNSKsE=",
          "dtype": "f4"
         },
         "yaxis": "y"
        },
        {
         "hovertemplate": "color=0<br>x=%{x}<br>y=%{y}<extra></extra>",
         "legendgroup": "0",
         "marker": {
          "color": "#FF97FF",
          "symbol": "circle"
         },
         "mode": "markers",
         "name": "0",
         "orientation": "v",
         "showlegend": true,
         "type": "scatter",
         "x": {
          "bdata": "VZfJQUxSp0EZOatBW76ZQWtvt0FZab1B1925QZZpqEHvJ71BGsuvQZT7qEGdJpdBwiqtQa7sv0Gb7apBh8SoQYNZoUFPb7NBjcmhQbDesEFgcahB5a6XQZxOwUGv77RBuB3MQVa3okHE8Z1BOmyTQcn7yEFQmpBBQ8fBQXiwh0HZLLxB7Mi0QQXR0EHoPKJB5uO7QfwZzUH0aLBBGTHJQT320UHkZa5BUC2yQWk9kkFgAotB",
          "dtype": "f4"
         },
         "xaxis": "x",
         "y": {
          "bdata": "Ks7EwZooxcFxCu3BXyv1wYlQycHuhMDBQYb6wYIMA8KFiwHCP/jEwTQZ+sEvv9/BVovhwUW+zME71QnCmB3TwUWw5sFfGu7BPoXSwY7L/MHCXQ3CBfHswRB518Hr7dnBqWj0wZWxCcI8xwDCizLVwVR37cHOa8nBLW0FwkU9ysGOY+LBpajmwUee/MF9ptzBQxjswbHG3MGEBAbC+NzkwQVv7sFiLPXBJsPSwZKd+MHj9+bB",
          "dtype": "f4"
         },
         "yaxis": "y"
        },
        {
         "hovertemplate": "color=2<br>x=%{x}<br>y=%{y}<extra></extra>",
         "legendgroup": "2",
         "marker": {
          "color": "#FECB52",
          "symbol": "circle"
         },
         "mode": "markers",
         "name": "2",
         "orientation": "v",
         "showlegend": true,
         "type": "scatter",
         "x": {
          "bdata": "CXNFwdCgWMHhWAjBsmiPwa9GScFG2UPBUBzowDJNVMFQ6h3BU0Gawd53msAFY1vBiCunwIlFaMGdaNHAnfkywSHOhsAkoVfBZnCIwAadEMHz7TzB6vbkwNpPOMHkSRHB/f9IwawCZsEYWGDBpwDpwBHuScEUbyvB+lQQwZSRL8ExYdjApDG+wHBiN8F0AiHB+FNFwUM5/cD/wFjBVUAxwc4hj8G5Bp/AxxMewcOVhsCJWQHBjop9wKGfrMB3PNrAVHCvwNe7k8BQyL7Axvo3wQ==",
          "dtype": "f4"
         },
         "xaxis": "x",
         "y": {
          "bdata": "8twKQnaIAEKt5u9B12t/QTyg1EGkRP5BG0PsQY/c8UE1pgVCwDFVQUsZyUGTesRBtiv7QfeT6kF4hfJBL5wNQo1D40Fcfc1BntD/QWDC3UFfzMxBFfMEQrCP6kHsneJB8HQGQhy44EFXJsBBvMvNQZcV6UH7FvJB5TYCQpIO4kFAzeNBUIAHQijTBkJmMAtCsNXxQQqUCUI5i9hBOHDEQRw9gEHj/AJCWXLWQe3e2EESUtNBh8jjQdwO7kEpR/9BFXfeQY1I1UEr4ARCYTwKQg==",
          "dtype": "f4"
         },
         "yaxis": "y"
        }
       ],
       "layout": {
        "height": 600,
        "legend": {
         "title": {
          "text": "color"
         },
         "tracegroupgap": 0
        },
        "margin": {
         "t": 60
        },
        "plot_bgcolor": "rgba(0,0,0,0)",
        "template": {
         "data": {
          "bar": [
           {
            "error_x": {
             "color": "#2a3f5f"
            },
            "error_y": {
             "color": "#2a3f5f"
            },
            "marker": {
             "line": {
              "color": "#E5ECF6",
              "width": 0.5
             },
             "pattern": {
              "fillmode": "overlay",
              "size": 10,
              "solidity": 0.2
             }
            },
            "type": "bar"
           }
          ],
          "barpolar": [
           {
            "marker": {
             "line": {
              "color": "#E5ECF6",
              "width": 0.5
             },
             "pattern": {
              "fillmode": "overlay",
              "size": 10,
              "solidity": 0.2
             }
            },
            "type": "barpolar"
           }
          ],
          "carpet": [
           {
            "aaxis": {
             "endlinecolor": "#2a3f5f",
             "gridcolor": "white",
             "linecolor": "white",
             "minorgridcolor": "white",
             "startlinecolor": "#2a3f5f"
            },
            "baxis": {
             "endlinecolor": "#2a3f5f",
             "gridcolor": "white",
             "linecolor": "white",
             "minorgridcolor": "white",
             "startlinecolor": "#2a3f5f"
            },
            "type": "carpet"
           }
          ],
          "choropleth": [
           {
            "colorbar": {
             "outlinewidth": 0,
             "ticks": ""
            },
            "type": "choropleth"
           }
          ],
          "contour": [
           {
            "colorbar": {
             "outlinewidth": 0,
             "ticks": ""
            },
            "colorscale": [
             [
              0,
              "#0d0887"
             ],
             [
              0.1111111111111111,
              "#46039f"
             ],
             [
              0.2222222222222222,
              "#7201a8"
             ],
             [
              0.3333333333333333,
              "#9c179e"
             ],
             [
              0.4444444444444444,
              "#bd3786"
             ],
             [
              0.5555555555555556,
              "#d8576b"
             ],
             [
              0.6666666666666666,
              "#ed7953"
             ],
             [
              0.7777777777777778,
              "#fb9f3a"
             ],
             [
              0.8888888888888888,
              "#fdca26"
             ],
             [
              1,
              "#f0f921"
             ]
            ],
            "type": "contour"
           }
          ],
          "contourcarpet": [
           {
            "colorbar": {
             "outlinewidth": 0,
             "ticks": ""
            },
            "type": "contourcarpet"
           }
          ],
          "heatmap": [
           {
            "colorbar": {
             "outlinewidth": 0,
             "ticks": ""
            },
            "colorscale": [
             [
              0,
              "#0d0887"
             ],
             [
              0.1111111111111111,
              "#46039f"
             ],
             [
              0.2222222222222222,
              "#7201a8"
             ],
             [
              0.3333333333333333,
              "#9c179e"
             ],
             [
              0.4444444444444444,
              "#bd3786"
             ],
             [
              0.5555555555555556,
              "#d8576b"
             ],
             [
              0.6666666666666666,
              "#ed7953"
             ],
             [
              0.7777777777777778,
              "#fb9f3a"
             ],
             [
              0.8888888888888888,
              "#fdca26"
             ],
             [
              1,
              "#f0f921"
             ]
            ],
            "type": "heatmap"
           }
          ],
          "histogram": [
           {
            "marker": {
             "pattern": {
              "fillmode": "overlay",
              "size": 10,
              "solidity": 0.2
             }
            },
            "type": "histogram"
           }
          ],
          "histogram2d": [
           {
            "colorbar": {
             "outlinewidth": 0,
             "ticks": ""
            },
            "colorscale": [
             [
              0,
              "#0d0887"
             ],
             [
              0.1111111111111111,
              "#46039f"
             ],
             [
              0.2222222222222222,
              "#7201a8"
             ],
             [
              0.3333333333333333,
              "#9c179e"
             ],
             [
              0.4444444444444444,
              "#bd3786"
             ],
             [
              0.5555555555555556,
              "#d8576b"
             ],
             [
              0.6666666666666666,
              "#ed7953"
             ],
             [
              0.7777777777777778,
              "#fb9f3a"
             ],
             [
              0.8888888888888888,
              "#fdca26"
             ],
             [
              1,
              "#f0f921"
             ]
            ],
            "type": "histogram2d"
           }
          ],
          "histogram2dcontour": [
           {
            "colorbar": {
             "outlinewidth": 0,
             "ticks": ""
            },
            "colorscale": [
             [
              0,
              "#0d0887"
             ],
             [
              0.1111111111111111,
              "#46039f"
             ],
             [
              0.2222222222222222,
              "#7201a8"
             ],
             [
              0.3333333333333333,
              "#9c179e"
             ],
             [
              0.4444444444444444,
              "#bd3786"
             ],
             [
              0.5555555555555556,
              "#d8576b"
             ],
             [
              0.6666666666666666,
              "#ed7953"
             ],
             [
              0.7777777777777778,
              "#fb9f3a"
             ],
             [
              0.8888888888888888,
              "#fdca26"
             ],
             [
              1,
              "#f0f921"
             ]
            ],
            "type": "histogram2dcontour"
           }
          ],
          "mesh3d": [
           {
            "colorbar": {
             "outlinewidth": 0,
             "ticks": ""
            },
            "type": "mesh3d"
           }
          ],
          "parcoords": [
           {
            "line": {
             "colorbar": {
              "outlinewidth": 0,
              "ticks": ""
             }
            },
            "type": "parcoords"
           }
          ],
          "pie": [
           {
            "automargin": true,
            "type": "pie"
           }
          ],
          "scatter": [
           {
            "fillpattern": {
             "fillmode": "overlay",
             "size": 10,
             "solidity": 0.2
            },
            "type": "scatter"
           }
          ],
          "scatter3d": [
           {
            "line": {
             "colorbar": {
              "outlinewidth": 0,
              "ticks": ""
             }
            },
            "marker": {
             "colorbar": {
              "outlinewidth": 0,
              "ticks": ""
             }
            },
            "type": "scatter3d"
           }
          ],
          "scattercarpet": [
           {
            "marker": {
             "colorbar": {
              "outlinewidth": 0,
              "ticks": ""
             }
            },
            "type": "scattercarpet"
           }
          ],
          "scattergeo": [
           {
            "marker": {
             "colorbar": {
              "outlinewidth": 0,
              "ticks": ""
             }
            },
            "type": "scattergeo"
           }
          ],
          "scattergl": [
           {
            "marker": {
             "colorbar": {
              "outlinewidth": 0,
              "ticks": ""
             }
            },
            "type": "scattergl"
           }
          ],
          "scattermap": [
           {
            "marker": {
             "colorbar": {
              "outlinewidth": 0,
              "ticks": ""
             }
            },
            "type": "scattermap"
           }
          ],
          "scattermapbox": [
           {
            "marker": {
             "colorbar": {
              "outlinewidth": 0,
              "ticks": ""
             }
            },
            "type": "scattermapbox"
           }
          ],
          "scatterpolar": [
           {
            "marker": {
             "colorbar": {
              "outlinewidth": 0,
              "ticks": ""
             }
            },
            "type": "scatterpolar"
           }
          ],
          "scatterpolargl": [
           {
            "marker": {
             "colorbar": {
              "outlinewidth": 0,
              "ticks": ""
             }
            },
            "type": "scatterpolargl"
           }
          ],
          "scatterternary": [
           {
            "marker": {
             "colorbar": {
              "outlinewidth": 0,
              "ticks": ""
             }
            },
            "type": "scatterternary"
           }
          ],
          "surface": [
           {
            "colorbar": {
             "outlinewidth": 0,
             "ticks": ""
            },
            "colorscale": [
             [
              0,
              "#0d0887"
             ],
             [
              0.1111111111111111,
              "#46039f"
             ],
             [
              0.2222222222222222,
              "#7201a8"
             ],
             [
              0.3333333333333333,
              "#9c179e"
             ],
             [
              0.4444444444444444,
              "#bd3786"
             ],
             [
              0.5555555555555556,
              "#d8576b"
             ],
             [
              0.6666666666666666,
              "#ed7953"
             ],
             [
              0.7777777777777778,
              "#fb9f3a"
             ],
             [
              0.8888888888888888,
              "#fdca26"
             ],
             [
              1,
              "#f0f921"
             ]
            ],
            "type": "surface"
           }
          ],
          "table": [
           {
            "cells": {
             "fill": {
              "color": "#EBF0F8"
             },
             "line": {
              "color": "white"
             }
            },
            "header": {
             "fill": {
              "color": "#C8D4E3"
             },
             "line": {
              "color": "white"
             }
            },
            "type": "table"
           }
          ]
         },
         "layout": {
          "annotationdefaults": {
           "arrowcolor": "#2a3f5f",
           "arrowhead": 0,
           "arrowwidth": 1
          },
          "autotypenumbers": "strict",
          "coloraxis": {
           "colorbar": {
            "outlinewidth": 0,
            "ticks": ""
           }
          },
          "colorscale": {
           "diverging": [
            [
             0,
             "#8e0152"
            ],
            [
             0.1,
             "#c51b7d"
            ],
            [
             0.2,
             "#de77ae"
            ],
            [
             0.3,
             "#f1b6da"
            ],
            [
             0.4,
             "#fde0ef"
            ],
            [
             0.5,
             "#f7f7f7"
            ],
            [
             0.6,
             "#e6f5d0"
            ],
            [
             0.7,
             "#b8e186"
            ],
            [
             0.8,
             "#7fbc41"
            ],
            [
             0.9,
             "#4d9221"
            ],
            [
             1,
             "#276419"
            ]
           ],
           "sequential": [
            [
             0,
             "#0d0887"
            ],
            [
             0.1111111111111111,
             "#46039f"
            ],
            [
             0.2222222222222222,
             "#7201a8"
            ],
            [
             0.3333333333333333,
             "#9c179e"
            ],
            [
             0.4444444444444444,
             "#bd3786"
            ],
            [
             0.5555555555555556,
             "#d8576b"
            ],
            [
             0.6666666666666666,
             "#ed7953"
            ],
            [
             0.7777777777777778,
             "#fb9f3a"
            ],
            [
             0.8888888888888888,
             "#fdca26"
            ],
            [
             1,
             "#f0f921"
            ]
           ],
           "sequentialminus": [
            [
             0,
             "#0d0887"
            ],
            [
             0.1111111111111111,
             "#46039f"
            ],
            [
             0.2222222222222222,
             "#7201a8"
            ],
            [
             0.3333333333333333,
             "#9c179e"
            ],
            [
             0.4444444444444444,
             "#bd3786"
            ],
            [
             0.5555555555555556,
             "#d8576b"
            ],
            [
             0.6666666666666666,
             "#ed7953"
            ],
            [
             0.7777777777777778,
             "#fb9f3a"
            ],
            [
             0.8888888888888888,
             "#fdca26"
            ],
            [
             1,
             "#f0f921"
            ]
           ]
          },
          "colorway": [
           "#636efa",
           "#EF553B",
           "#00cc96",
           "#ab63fa",
           "#FFA15A",
           "#19d3f3",
           "#FF6692",
           "#B6E880",
           "#FF97FF",
           "#FECB52"
          ],
          "font": {
           "color": "#2a3f5f"
          },
          "geo": {
           "bgcolor": "white",
           "lakecolor": "white",
           "landcolor": "#E5ECF6",
           "showlakes": true,
           "showland": true,
           "subunitcolor": "white"
          },
          "hoverlabel": {
           "align": "left"
          },
          "hovermode": "closest",
          "mapbox": {
           "style": "light"
          },
          "paper_bgcolor": "white",
          "plot_bgcolor": "#E5ECF6",
          "polar": {
           "angularaxis": {
            "gridcolor": "white",
            "linecolor": "white",
            "ticks": ""
           },
           "bgcolor": "#E5ECF6",
           "radialaxis": {
            "gridcolor": "white",
            "linecolor": "white",
            "ticks": ""
           }
          },
          "scene": {
           "xaxis": {
            "backgroundcolor": "#E5ECF6",
            "gridcolor": "white",
            "gridwidth": 2,
            "linecolor": "white",
            "showbackground": true,
            "ticks": "",
            "zerolinecolor": "white"
           },
           "yaxis": {
            "backgroundcolor": "#E5ECF6",
            "gridcolor": "white",
            "gridwidth": 2,
            "linecolor": "white",
            "showbackground": true,
            "ticks": "",
            "zerolinecolor": "white"
           },
           "zaxis": {
            "backgroundcolor": "#E5ECF6",
            "gridcolor": "white",
            "gridwidth": 2,
            "linecolor": "white",
            "showbackground": true,
            "ticks": "",
            "zerolinecolor": "white"
           }
          },
          "shapedefaults": {
           "line": {
            "color": "#2a3f5f"
           }
          },
          "ternary": {
           "aaxis": {
            "gridcolor": "white",
            "linecolor": "white",
            "ticks": ""
           },
           "baxis": {
            "gridcolor": "white",
            "linecolor": "white",
            "ticks": ""
           },
           "bgcolor": "#E5ECF6",
           "caxis": {
            "gridcolor": "white",
            "linecolor": "white",
            "ticks": ""
           }
          },
          "title": {
           "x": 0.05
          },
          "xaxis": {
           "automargin": true,
           "gridcolor": "white",
           "linecolor": "white",
           "ticks": "",
           "title": {
            "standoff": 15
           },
           "zerolinecolor": "white",
           "zerolinewidth": 2
          },
          "yaxis": {
           "automargin": true,
           "gridcolor": "white",
           "linecolor": "white",
           "ticks": "",
           "title": {
            "standoff": 15
           },
           "zerolinecolor": "white",
           "zerolinewidth": 2
          }
         }
        },
        "width": 600,
        "xaxis": {
         "anchor": "y",
         "domain": [
          0,
          1
         ],
         "scaleanchor": "y",
         "title": {
          "text": "x"
         },
         "visible": false
        },
        "yaxis": {
         "anchor": "x",
         "domain": [
          0,
          1
         ],
         "title": {
          "text": "y"
         },
         "visible": false
        }
       }
      }
     },
     "metadata": {},
     "output_type": "display_data"
    }
   ],
   "source": [
    "xd, yd = TSNE(method=\"exact\").fit_transform(data).T\n",
    "px.scatter(x=xd, y=yd, color=data_class).update_layout(\n",
    "    width=600,\n",
    "    height=600,\n",
    "    xaxis_scaleanchor=\"y\",\n",
    "    plot_bgcolor=\"rgba(0,0,0,0)\",\n",
    "    xaxis_visible=False,\n",
    "    yaxis_visible=False,\n",
    ")"
   ]
  },
  {
   "cell_type": "code",
   "execution_count": 28,
   "metadata": {},
   "outputs": [
    {
     "data": {
      "application/vnd.plotly.v1+json": {
       "config": {
        "plotlyServerURL": "https://plot.ly"
       },
       "data": [
        {
         "hovertemplate": "color=1<br>x=%{x}<br>y=%{y}<extra></extra>",
         "legendgroup": "1",
         "marker": {
          "color": "#636efa",
          "symbol": "circle"
         },
         "mode": "markers",
         "name": "1",
         "orientation": "v",
         "showlegend": true,
         "type": "scatter",
         "x": {
          "bdata": "GpF8vhPWUz1b6gQ+5kLOvaB9Yb7P1mU9NB1GwIfYQj1Foi3Aofc2wEJkN74Xux6+i3Q3wHHBMz6g20DA45xBPi00/L2hRx2+9Vimu5rGTj0VeLC+BGEBPoNLez5tbNA+lyYevXX5Bj7zlnU+fVlJwNP30L4RVBC+3vVfPhtizL0znVe9WUUIv7fmq74YfyvA3cUfv+Dklr1mK9w9qFKyvk2nnD3X2oY+e7xuvhS4ub4=",
          "dtype": "f4"
         },
         "xaxis": "x",
         "y": {
          "bdata": "iKzgvypmX79m34K/mOXqvx8WKj/m73M/GAA8wG799b9xN0zAiq9EwLuX8j69L5m/mM5MwHTGz79F7kjAZaI5P0sYgj/PBX2/drLavwBUx79OYse/e1gXPySQe797oda/8cGJvzeG5b8X35M/YKZCwBhr4b/l5s6/6DdLv4IDCT8TlpQ/JNG7v2kcMT/ozkTALuOhvy9qAsBpPqA/ytWJv0lejz/Dkrw++Qb2v2kPsL8=",
          "dtype": "f4"
         },
         "yaxis": "y"
        },
        {
         "hovertemplate": "color=9<br>x=%{x}<br>y=%{y}<extra></extra>",
         "legendgroup": "9",
         "marker": {
          "color": "#EF553B",
          "symbol": "circle"
         },
         "mode": "markers",
         "name": "9",
         "orientation": "v",
         "showlegend": true,
         "type": "scatter",
         "x": {
          "bdata": "K0DAv0/NEcAyog7A6D0EwDEZEMAlLUQ/Ssj1v9CSAcBjJxc/WX88wJj2uL/MJBLA9V8dwAgsVz9JcArAY640wOihwb+CX7u/Of1tPxphLcBBCSLAbMvcv2Nt979/GRQ/CGzuv0fjQD9S2xLAh4YzwAnjXMDLumY/WD8KwLtnAsACIAPA3lRwv76+B8C5vw3ABUAcwIL7/L8NF48/nlorwC4T9b8yESjA8DwjwA==",
          "dtype": "f4"
         },
         "xaxis": "x",
         "y": {
          "bdata": "JHSdP9//0T8Qd/s/s3hsP+7UiT8RY5U/sPPNP+DqA0BKAas/12AMQBogyT/gsb0/BpHuPzSUfD+iUrE/9Hv8P7y6tz+4vZA/wx6dPyCpBkDUzAZAS0bsPx9o4j92bbk/HEOZP/ZZYj/8fgxAb/TeP6l83z/95Yo/7bLaP4vDwj+RUvA/nBQFv1jbCkAm0pk/PB+lP1/vlD/M6QRAuTbzP6MTZT8VPcA/4T/MPw==",
          "dtype": "f4"
         },
         "yaxis": "y"
        },
        {
         "hovertemplate": "color=7<br>x=%{x}<br>y=%{y}<extra></extra>",
         "legendgroup": "7",
         "marker": {
          "color": "#00cc96",
          "symbol": "circle"
         },
         "mode": "markers",
         "name": "7",
         "orientation": "v",
         "showlegend": true,
         "type": "scatter",
         "x": {
          "bdata": "JEkPQPSlD0B88Lg/E04WQLZrHEB5ZNo/1CThP3VdMEAkQdY/i1DlP9wM9z+ytZ4/a+rnP1DrFEAAuPg/k8ogQNz+zj919yFAp5oOQBtCKUAkQxRAHRiyP1zr/z/v8CFAglw3QJmdqD9pbhtAGKILQMl68j9siihAOP4IQA==",
          "dtype": "f4"
         },
         "xaxis": "x",
         "y": {
          "bdata": "DtDXP45UnD+ZRPE/UIX/P6jBuT+YFLY/AWWXP0x6xz9dINc/nwSsP0dypT8wk9g/KuzWP1336j8dDsE/EsmMP9FQ+T+1SMo/lOWuP8Mfhz+d4cc/BbKTP9isjT9Q9+E/M3vMP0E/5T8lkp0/JxrvP1dg+j/mHqE/lzjBPw==",
          "dtype": "f4"
         },
         "yaxis": "y"
        },
        {
         "hovertemplate": "color=3<br>x=%{x}<br>y=%{y}<extra></extra>",
         "legendgroup": "3",
         "marker": {
          "color": "#ab63fa",
          "symbol": "circle"
         },
         "mode": "markers",
         "name": "3",
         "orientation": "v",
         "showlegend": true,
         "type": "scatter",
         "x": {
          "bdata": "fXODwJZyFcA39nrAGsJywBL7RsDGRtm/TA1AwJt2b8DrFRPAkD4bwOONPsAWH03Ah/9kwDCvVMBNHWPAwRF+wP5BR8AOk0jApEtSwH2CcMD7j1fA0ZZZv0TAY8DJ9DzAy+FPwIChFsCsAlXAsk+BwDlW0r/o+1LA3riEwCfeQ8DMEUjAk/F2wDo3WMBk513ASgY4wI4LgMA=",
          "dtype": "f4"
         },
         "xaxis": "x",
         "y": {
          "bdata": "jw26PxqoCz+C6eA/k422PwVAXT+AY4a/hO23P3vvnT8Ey7Y+zzYcP0zHlj84x+k+VivFPy829j4j6XM/zmnGP8Uoij86JKI/e6kwP4jBzz9rWKg/iXmvP5Dhpz9Wysk+Ag8EQPuPBT6UNnM/zNXdPzKFkb8285I/KuXNP7M8IT+KRcc/lGeVPyiRwD+wUIw/JElMPw65qj8=",
          "dtype": "f4"
         },
         "yaxis": "y"
        },
        {
         "hovertemplate": "color=8<br>x=%{x}<br>y=%{y}<extra></extra>",
         "legendgroup": "8",
         "marker": {
          "color": "#FFA15A",
          "symbol": "circle"
         },
         "mode": "markers",
         "name": "8",
         "orientation": "v",
         "showlegend": true,
         "type": "scatter",
         "x": {
          "bdata": "Ihrxv2eTwr93C1K/l1Gnv1NKG78tMqe/+hVXvzW98b4cRJi/uxXAv2U2u7+ST7u/oAY0vwK84785G9y+7t3yv4f80r/1Ea+/ftLgvmkzq7/LQci/8r2avxbWbb/ZIde/QuTiv9c4nL/R4Xm/aaqpvyJSib60yAm/",
          "dtype": "f4"
         },
         "xaxis": "x",
         "y": {
          "bdata": "Axv/vpmN3r+SkX2/4vfpvxVfMz9ifVi/tMY4vwZP3L1obuy/ogeZPtlN/z5Xkko/CcQzP4/aBb8PXlq/v9idPv5mmb5MoDm/w1aLvikF5j5iWcg+2cI+v/kEMT98IVG+O3aAPqwpFT+sty+/3hnHvh5uY76yOT2+",
          "dtype": "f4"
         },
         "yaxis": "y"
        },
        {
         "hovertemplate": "color=4<br>x=%{x}<br>y=%{y}<extra></extra>",
         "legendgroup": "4",
         "marker": {
          "color": "#19d3f3",
          "symbol": "circle"
         },
         "mode": "markers",
         "name": "4",
         "orientation": "v",
         "showlegend": true,
         "type": "scatter",
         "x": {
          "bdata": "L/geQF42F0CXf/M/5dULQIVQAUDLnxtA0N4RQPuX8z95z8g/IXEKQPMkD0BdBCdAGMExQF9/L0AXfM4/lL8qQGolxD/hDQhAFsnoP9d5LEBVa9g/73wbQLFYJECKK5M/LaUzQEkjDUAsLAlAh6YXQCgnDkCHH/Q//1ISQIFVAkDSyixAZY6WP9uFC0Ahox1ADL7bPwLh8j/KwBtAdgsVQAQAqD/ubB5APhEdQGH8xT/Aw/8/IMWsP00BsD8=",
          "dtype": "f4"
         },
         "xaxis": "x",
         "y": {
          "bdata": "fKqdv2sODr9DMVS/L2wRPiD6bb+cYfK/Ft/OvxkPqb+iVJe/GoYCvmf1Qb/g136/Baurv/EP7L4vReO/SfCfv8Di1r87sY+/kc2Vv/3rGb+QhLm/UtKnvXF37L6G0tG//RYrv3dRsL/T9xa/jVDdv+TRfL4QFLy/u7mdv1beur3a5Vg/parCvxMUgD6DVc+/nOykv7X1Dr+1NVm/NT93v/bVtr+OZ2O+gWyzv2ELrr8tDjy/hWOmvzXR178=",
          "dtype": "f4"
         },
         "yaxis": "y"
        },
        {
         "hovertemplate": "color=5<br>x=%{x}<br>y=%{y}<extra></extra>",
         "legendgroup": "5",
         "marker": {
          "color": "#FF6692",
          "symbol": "circle"
         },
         "mode": "markers",
         "name": "5",
         "orientation": "v",
         "showlegend": true,
         "type": "scatter",
         "x": {
          "bdata": "qyvgvnsqjr9MFgC/lKkAv99cHcBQreI+ASsLv8cMPr/vDny/NmaAvwe8Pb8Nfa2/Sl0Tv9UyWz35Bo2/LNMMvoCy9T75tBE+hzJdv1y1jL/3m0W/JCUhP/fgIL3YLFU+adH6PvoJcL8+Dk0/P9qfPsr7Kz+cZgY/IMWJv0yBnb+N8C+/gSa/vrm4or+V/ZK/2onAPiJzFL8=",
          "dtype": "f4"
         },
         "xaxis": "x",
         "y": {
          "bdata": "nfQ2QP3cIkBRn0hAxk4jQNf5hz97dUhAscQ6QC93J0D9V0ZAX18oQHMEMkAUoDlA6aUrQHMALEDhsxVAxGIoQA7sKEBJR0FAm+JCQH2IS0AKol1AGetEQIYYQ0C4YSpAFVw2QPVvGUD4BEJAZ7M9QDtYOkC2ND5A2VU1QNDpI0DWKVdAl6lEQD60MUAnnEJAegwkQGCTGUA=",
          "dtype": "f4"
         },
         "yaxis": "y"
        },
        {
         "hovertemplate": "color=6<br>x=%{x}<br>y=%{y}<extra></extra>",
         "legendgroup": "6",
         "marker": {
          "color": "#B6E880",
          "symbol": "circle"
         },
         "mode": "markers",
         "name": "6",
         "orientation": "v",
         "showlegend": true,
         "type": "scatter",
         "x": {
          "bdata": "foAePOKeCT9rzUg/ssthP63Emb3+Ggc/GB22PsEiND8p1UI+I9InP5jflT7nMb29Y6sRP1T0pD5w5xs/sgRFOB2z7D6UiiU+qqq1PmKKIj/BJ3Y/0n7UPkrxsj7Q47c+cQlnPV/BBj+L8j0/iCMIP+oQCL76rHG88ipnP3TveD4=",
          "dtype": "f4"
         },
         "xaxis": "x",
         "y": {
          "bdata": "iFlBwKV/T8DnGWvAKYBhwFFDXsAeakPAXdxAwDFeQcAlB1TAUBZ0wBbpgMDcLzjAqS1swNSKIsBw/mDASutMwKaLgcBj8WrA1ecswB6kgcAwGmzAJ/1nwLRSSsC2cnHAgcFVwHMeeMBHWnvAygo5wAkjfMCUUHzA/sl2wOLAXsA=",
          "dtype": "f4"
         },
         "yaxis": "y"
        },
        {
         "hovertemplate": "color=0<br>x=%{x}<br>y=%{y}<extra></extra>",
         "legendgroup": "0",
         "marker": {
          "color": "#FF97FF",
          "symbol": "circle"
         },
         "mode": "markers",
         "name": "0",
         "orientation": "v",
         "showlegend": true,
         "type": "scatter",
         "x": {
          "bdata": "layYQNuknEBlhLVAH3uzQLOxoUAF9ZdApEG7QCDawUCYD79A14KeQHvBv0CVQ7RA9HKsQKfyoEDGMMpAXvKnQKy9t0D7zbVA6cGoQEppv0Bwd85AtcazQDYWnUAPeahAm/aqQJs2yUCWeLpAzGSvQDfypUDMKalAWeHBQNfyqkA2+7BAp0mxQBP/q0CWna5AVkWuQE92pEBcpcVAAGGqQH2wpUBx1LpAHxqkQE/YtkD2tL1A",
          "dtype": "f4"
         },
         "xaxis": "x",
         "y": {
          "bdata": "+wlRPtZT1D5noko/IzWTP8pC5D5eKg8/XKddP+XpdD9t9JU/SIsbP2jINz8rQmo+yiAcP99Dgj50yGw/rbH0PiZG0T7d2B0/ZBagPqSSCD/stIA/0qN+P4c+XD8FgTo/jW2bP2yDiz8WRoY/aFbAPSe0jT/PbuS7K5CqP5SwLb5q2gU/xbAzPzyHtT9NYbI+luhSP5oOaT8n9VM/6bh9P2WJoj/32Cs/TzgnPyI9pD945ok+",
          "dtype": "f4"
         },
         "yaxis": "y"
        },
        {
         "hovertemplate": "color=2<br>x=%{x}<br>y=%{y}<extra></extra>",
         "legendgroup": "2",
         "marker": {
          "color": "#FECB52",
          "symbol": "circle"
         },
         "mode": "markers",
         "name": "2",
         "orientation": "v",
         "showlegend": true,
         "type": "scatter",
         "x": {
          "bdata": "4+tuwH+oUsDmuD7A78uaPTLFVsA1WFTABGRMwBobRcB0p2jAfYGRPuaSI8AAz17AgJJfwO4LO8B7hEXA/eh3wDR9P8D7ElfAQzNowIOjL8AwYmDAD4hrwFv+RcDJfDfAt3ZiwGETMsDDNV7AqNskwApwP8DHwVHACYliwIqaSsDpFDfA6W91wH60ZcBPA3XA3C9KwOpGdcCbTE3ANl1qwKf5qT05i23AnK8owGCyNcDE/yjAFIBAwJdSUsDLkF7AP01NwEo9McC7u2zAT8xtwA==",
          "dtype": "f4"
         },
         "xaxis": "x",
         "y": {
          "bdata": "bY0dwIX3G8CXns6/dFcxvt6VSr89HxDARTnGvwGkEcDK8wLA+oXLPZ5uiL+0s/u+bGWrv1SRGcBCOrS/VgAUwC84lb+yERq/HXycv05n4r88mE+/EB3Zv/IZ+r+azeS/3HYQwGwtE8APb7y+uriyv/NiBsCGZ/m/OJvxv6g75L8TTrK/HHvGv9jfGcBVmQfA73IIwPV86r9DIjy//D1bv6eBgr79Yq6/HFLzv9Xmf78nmci/QwiIv4a6r7/BUMq/922TvxBSjb90dsO/esUSwA==",
          "dtype": "f4"
         },
         "yaxis": "y"
        }
       ],
       "layout": {
        "height": 600,
        "legend": {
         "title": {
          "text": "color"
         },
         "tracegroupgap": 0
        },
        "margin": {
         "t": 60
        },
        "plot_bgcolor": "rgba(0,0,0,0)",
        "template": {
         "data": {
          "bar": [
           {
            "error_x": {
             "color": "#2a3f5f"
            },
            "error_y": {
             "color": "#2a3f5f"
            },
            "marker": {
             "line": {
              "color": "#E5ECF6",
              "width": 0.5
             },
             "pattern": {
              "fillmode": "overlay",
              "size": 10,
              "solidity": 0.2
             }
            },
            "type": "bar"
           }
          ],
          "barpolar": [
           {
            "marker": {
             "line": {
              "color": "#E5ECF6",
              "width": 0.5
             },
             "pattern": {
              "fillmode": "overlay",
              "size": 10,
              "solidity": 0.2
             }
            },
            "type": "barpolar"
           }
          ],
          "carpet": [
           {
            "aaxis": {
             "endlinecolor": "#2a3f5f",
             "gridcolor": "white",
             "linecolor": "white",
             "minorgridcolor": "white",
             "startlinecolor": "#2a3f5f"
            },
            "baxis": {
             "endlinecolor": "#2a3f5f",
             "gridcolor": "white",
             "linecolor": "white",
             "minorgridcolor": "white",
             "startlinecolor": "#2a3f5f"
            },
            "type": "carpet"
           }
          ],
          "choropleth": [
           {
            "colorbar": {
             "outlinewidth": 0,
             "ticks": ""
            },
            "type": "choropleth"
           }
          ],
          "contour": [
           {
            "colorbar": {
             "outlinewidth": 0,
             "ticks": ""
            },
            "colorscale": [
             [
              0,
              "#0d0887"
             ],
             [
              0.1111111111111111,
              "#46039f"
             ],
             [
              0.2222222222222222,
              "#7201a8"
             ],
             [
              0.3333333333333333,
              "#9c179e"
             ],
             [
              0.4444444444444444,
              "#bd3786"
             ],
             [
              0.5555555555555556,
              "#d8576b"
             ],
             [
              0.6666666666666666,
              "#ed7953"
             ],
             [
              0.7777777777777778,
              "#fb9f3a"
             ],
             [
              0.8888888888888888,
              "#fdca26"
             ],
             [
              1,
              "#f0f921"
             ]
            ],
            "type": "contour"
           }
          ],
          "contourcarpet": [
           {
            "colorbar": {
             "outlinewidth": 0,
             "ticks": ""
            },
            "type": "contourcarpet"
           }
          ],
          "heatmap": [
           {
            "colorbar": {
             "outlinewidth": 0,
             "ticks": ""
            },
            "colorscale": [
             [
              0,
              "#0d0887"
             ],
             [
              0.1111111111111111,
              "#46039f"
             ],
             [
              0.2222222222222222,
              "#7201a8"
             ],
             [
              0.3333333333333333,
              "#9c179e"
             ],
             [
              0.4444444444444444,
              "#bd3786"
             ],
             [
              0.5555555555555556,
              "#d8576b"
             ],
             [
              0.6666666666666666,
              "#ed7953"
             ],
             [
              0.7777777777777778,
              "#fb9f3a"
             ],
             [
              0.8888888888888888,
              "#fdca26"
             ],
             [
              1,
              "#f0f921"
             ]
            ],
            "type": "heatmap"
           }
          ],
          "histogram": [
           {
            "marker": {
             "pattern": {
              "fillmode": "overlay",
              "size": 10,
              "solidity": 0.2
             }
            },
            "type": "histogram"
           }
          ],
          "histogram2d": [
           {
            "colorbar": {
             "outlinewidth": 0,
             "ticks": ""
            },
            "colorscale": [
             [
              0,
              "#0d0887"
             ],
             [
              0.1111111111111111,
              "#46039f"
             ],
             [
              0.2222222222222222,
              "#7201a8"
             ],
             [
              0.3333333333333333,
              "#9c179e"
             ],
             [
              0.4444444444444444,
              "#bd3786"
             ],
             [
              0.5555555555555556,
              "#d8576b"
             ],
             [
              0.6666666666666666,
              "#ed7953"
             ],
             [
              0.7777777777777778,
              "#fb9f3a"
             ],
             [
              0.8888888888888888,
              "#fdca26"
             ],
             [
              1,
              "#f0f921"
             ]
            ],
            "type": "histogram2d"
           }
          ],
          "histogram2dcontour": [
           {
            "colorbar": {
             "outlinewidth": 0,
             "ticks": ""
            },
            "colorscale": [
             [
              0,
              "#0d0887"
             ],
             [
              0.1111111111111111,
              "#46039f"
             ],
             [
              0.2222222222222222,
              "#7201a8"
             ],
             [
              0.3333333333333333,
              "#9c179e"
             ],
             [
              0.4444444444444444,
              "#bd3786"
             ],
             [
              0.5555555555555556,
              "#d8576b"
             ],
             [
              0.6666666666666666,
              "#ed7953"
             ],
             [
              0.7777777777777778,
              "#fb9f3a"
             ],
             [
              0.8888888888888888,
              "#fdca26"
             ],
             [
              1,
              "#f0f921"
             ]
            ],
            "type": "histogram2dcontour"
           }
          ],
          "mesh3d": [
           {
            "colorbar": {
             "outlinewidth": 0,
             "ticks": ""
            },
            "type": "mesh3d"
           }
          ],
          "parcoords": [
           {
            "line": {
             "colorbar": {
              "outlinewidth": 0,
              "ticks": ""
             }
            },
            "type": "parcoords"
           }
          ],
          "pie": [
           {
            "automargin": true,
            "type": "pie"
           }
          ],
          "scatter": [
           {
            "fillpattern": {
             "fillmode": "overlay",
             "size": 10,
             "solidity": 0.2
            },
            "type": "scatter"
           }
          ],
          "scatter3d": [
           {
            "line": {
             "colorbar": {
              "outlinewidth": 0,
              "ticks": ""
             }
            },
            "marker": {
             "colorbar": {
              "outlinewidth": 0,
              "ticks": ""
             }
            },
            "type": "scatter3d"
           }
          ],
          "scattercarpet": [
           {
            "marker": {
             "colorbar": {
              "outlinewidth": 0,
              "ticks": ""
             }
            },
            "type": "scattercarpet"
           }
          ],
          "scattergeo": [
           {
            "marker": {
             "colorbar": {
              "outlinewidth": 0,
              "ticks": ""
             }
            },
            "type": "scattergeo"
           }
          ],
          "scattergl": [
           {
            "marker": {
             "colorbar": {
              "outlinewidth": 0,
              "ticks": ""
             }
            },
            "type": "scattergl"
           }
          ],
          "scattermap": [
           {
            "marker": {
             "colorbar": {
              "outlinewidth": 0,
              "ticks": ""
             }
            },
            "type": "scattermap"
           }
          ],
          "scattermapbox": [
           {
            "marker": {
             "colorbar": {
              "outlinewidth": 0,
              "ticks": ""
             }
            },
            "type": "scattermapbox"
           }
          ],
          "scatterpolar": [
           {
            "marker": {
             "colorbar": {
              "outlinewidth": 0,
              "ticks": ""
             }
            },
            "type": "scatterpolar"
           }
          ],
          "scatterpolargl": [
           {
            "marker": {
             "colorbar": {
              "outlinewidth": 0,
              "ticks": ""
             }
            },
            "type": "scatterpolargl"
           }
          ],
          "scatterternary": [
           {
            "marker": {
             "colorbar": {
              "outlinewidth": 0,
              "ticks": ""
             }
            },
            "type": "scatterternary"
           }
          ],
          "surface": [
           {
            "colorbar": {
             "outlinewidth": 0,
             "ticks": ""
            },
            "colorscale": [
             [
              0,
              "#0d0887"
             ],
             [
              0.1111111111111111,
              "#46039f"
             ],
             [
              0.2222222222222222,
              "#7201a8"
             ],
             [
              0.3333333333333333,
              "#9c179e"
             ],
             [
              0.4444444444444444,
              "#bd3786"
             ],
             [
              0.5555555555555556,
              "#d8576b"
             ],
             [
              0.6666666666666666,
              "#ed7953"
             ],
             [
              0.7777777777777778,
              "#fb9f3a"
             ],
             [
              0.8888888888888888,
              "#fdca26"
             ],
             [
              1,
              "#f0f921"
             ]
            ],
            "type": "surface"
           }
          ],
          "table": [
           {
            "cells": {
             "fill": {
              "color": "#EBF0F8"
             },
             "line": {
              "color": "white"
             }
            },
            "header": {
             "fill": {
              "color": "#C8D4E3"
             },
             "line": {
              "color": "white"
             }
            },
            "type": "table"
           }
          ]
         },
         "layout": {
          "annotationdefaults": {
           "arrowcolor": "#2a3f5f",
           "arrowhead": 0,
           "arrowwidth": 1
          },
          "autotypenumbers": "strict",
          "coloraxis": {
           "colorbar": {
            "outlinewidth": 0,
            "ticks": ""
           }
          },
          "colorscale": {
           "diverging": [
            [
             0,
             "#8e0152"
            ],
            [
             0.1,
             "#c51b7d"
            ],
            [
             0.2,
             "#de77ae"
            ],
            [
             0.3,
             "#f1b6da"
            ],
            [
             0.4,
             "#fde0ef"
            ],
            [
             0.5,
             "#f7f7f7"
            ],
            [
             0.6,
             "#e6f5d0"
            ],
            [
             0.7,
             "#b8e186"
            ],
            [
             0.8,
             "#7fbc41"
            ],
            [
             0.9,
             "#4d9221"
            ],
            [
             1,
             "#276419"
            ]
           ],
           "sequential": [
            [
             0,
             "#0d0887"
            ],
            [
             0.1111111111111111,
             "#46039f"
            ],
            [
             0.2222222222222222,
             "#7201a8"
            ],
            [
             0.3333333333333333,
             "#9c179e"
            ],
            [
             0.4444444444444444,
             "#bd3786"
            ],
            [
             0.5555555555555556,
             "#d8576b"
            ],
            [
             0.6666666666666666,
             "#ed7953"
            ],
            [
             0.7777777777777778,
             "#fb9f3a"
            ],
            [
             0.8888888888888888,
             "#fdca26"
            ],
            [
             1,
             "#f0f921"
            ]
           ],
           "sequentialminus": [
            [
             0,
             "#0d0887"
            ],
            [
             0.1111111111111111,
             "#46039f"
            ],
            [
             0.2222222222222222,
             "#7201a8"
            ],
            [
             0.3333333333333333,
             "#9c179e"
            ],
            [
             0.4444444444444444,
             "#bd3786"
            ],
            [
             0.5555555555555556,
             "#d8576b"
            ],
            [
             0.6666666666666666,
             "#ed7953"
            ],
            [
             0.7777777777777778,
             "#fb9f3a"
            ],
            [
             0.8888888888888888,
             "#fdca26"
            ],
            [
             1,
             "#f0f921"
            ]
           ]
          },
          "colorway": [
           "#636efa",
           "#EF553B",
           "#00cc96",
           "#ab63fa",
           "#FFA15A",
           "#19d3f3",
           "#FF6692",
           "#B6E880",
           "#FF97FF",
           "#FECB52"
          ],
          "font": {
           "color": "#2a3f5f"
          },
          "geo": {
           "bgcolor": "white",
           "lakecolor": "white",
           "landcolor": "#E5ECF6",
           "showlakes": true,
           "showland": true,
           "subunitcolor": "white"
          },
          "hoverlabel": {
           "align": "left"
          },
          "hovermode": "closest",
          "mapbox": {
           "style": "light"
          },
          "paper_bgcolor": "white",
          "plot_bgcolor": "#E5ECF6",
          "polar": {
           "angularaxis": {
            "gridcolor": "white",
            "linecolor": "white",
            "ticks": ""
           },
           "bgcolor": "#E5ECF6",
           "radialaxis": {
            "gridcolor": "white",
            "linecolor": "white",
            "ticks": ""
           }
          },
          "scene": {
           "xaxis": {
            "backgroundcolor": "#E5ECF6",
            "gridcolor": "white",
            "gridwidth": 2,
            "linecolor": "white",
            "showbackground": true,
            "ticks": "",
            "zerolinecolor": "white"
           },
           "yaxis": {
            "backgroundcolor": "#E5ECF6",
            "gridcolor": "white",
            "gridwidth": 2,
            "linecolor": "white",
            "showbackground": true,
            "ticks": "",
            "zerolinecolor": "white"
           },
           "zaxis": {
            "backgroundcolor": "#E5ECF6",
            "gridcolor": "white",
            "gridwidth": 2,
            "linecolor": "white",
            "showbackground": true,
            "ticks": "",
            "zerolinecolor": "white"
           }
          },
          "shapedefaults": {
           "line": {
            "color": "#2a3f5f"
           }
          },
          "ternary": {
           "aaxis": {
            "gridcolor": "white",
            "linecolor": "white",
            "ticks": ""
           },
           "baxis": {
            "gridcolor": "white",
            "linecolor": "white",
            "ticks": ""
           },
           "bgcolor": "#E5ECF6",
           "caxis": {
            "gridcolor": "white",
            "linecolor": "white",
            "ticks": ""
           }
          },
          "title": {
           "x": 0.05
          },
          "xaxis": {
           "automargin": true,
           "gridcolor": "white",
           "linecolor": "white",
           "ticks": "",
           "title": {
            "standoff": 15
           },
           "zerolinecolor": "white",
           "zerolinewidth": 2
          },
          "yaxis": {
           "automargin": true,
           "gridcolor": "white",
           "linecolor": "white",
           "ticks": "",
           "title": {
            "standoff": 15
           },
           "zerolinecolor": "white",
           "zerolinewidth": 2
          }
         }
        },
        "width": 600,
        "xaxis": {
         "anchor": "y",
         "domain": [
          0,
          1
         ],
         "scaleanchor": "y",
         "title": {
          "text": "x"
         },
         "visible": false
        },
        "yaxis": {
         "anchor": "x",
         "domain": [
          0,
          1
         ],
         "title": {
          "text": "y"
         },
         "visible": false
        }
       }
      }
     },
     "metadata": {},
     "output_type": "display_data"
    }
   ],
   "source": [
    "res = jaxsne.sne(data)\n",
    "x, y = res.T\n",
    "px.scatter(x=x, y=y, color=data_class).update_layout(\n",
    "    width=600,\n",
    "    height=600,\n",
    "    xaxis_scaleanchor=\"y\",\n",
    "    plot_bgcolor=\"rgba(0,0,0,0)\",\n",
    "    xaxis_visible=False,\n",
    "    yaxis_visible=False,\n",
    ")"
   ]
  },
  {
   "cell_type": "code",
   "execution_count": 29,
   "metadata": {},
   "outputs": [
    {
     "data": {
      "application/vnd.plotly.v1+json": {
       "config": {
        "plotlyServerURL": "https://plot.ly"
       },
       "data": [
        {
         "hovertemplate": "color=1<br>x=%{x}<br>y=%{y}<extra></extra>",
         "legendgroup": "1",
         "marker": {
          "color": "#636efa",
          "symbol": "circle"
         },
         "mode": "markers",
         "name": "1",
         "orientation": "v",
         "showlegend": true,
         "type": "scatter",
         "x": {
          "bdata": "iJJCvq1Kib2HVtG9aV1gvi8stL1Hh+o8T51Mv833fL4fOUm/8aZKv49wkr3Orbe9e9pLvwtFjL6o3Uy/efHbuxX2tzwkBwy+hq51vn7pkL7blhy+rAIZvYitzr2cvpy+ptHkvRQCiL4WA7g9gjBNvztUML6o3lW+ml1zvZUdjr0jgGQ9rXkAvv8B0b23Ekq/DThnvvTidb4bibI9qn2TvfskhT3OqLG8knxdvtjqz70=",
          "dtype": "f4"
         },
         "xaxis": "x",
         "y": {
          "bdata": "PDSwvo6LNL5A8R2+toqxviE8iT7n7Y0+62iEvgXzr76eZZO+N/COvmfEmj4vCW++3PuQvr8eqL5p4ou+Qf9lPklNoj5yQEy+/iK+vpmJtb6AHKq+N21hPt6GC75UIJW+Y+5Mvhhov77m8YM+uwuGvljGmr4ZhMK+w7b+vQIunD6LLKA+cFu6vuWEgj4t45W+XLNUvj1jmb4v45M+isiJvg9JlD5QYRo+f4Gkvqiwq74=",
          "dtype": "f4"
         },
         "yaxis": "y"
        },
        {
         "hovertemplate": "color=9<br>x=%{x}<br>y=%{y}<extra></extra>",
         "legendgroup": "9",
         "marker": {
          "color": "#EF553B",
          "symbol": "circle"
         },
         "mode": "markers",
         "name": "9",
         "orientation": "v",
         "showlegend": true,
         "type": "scatter",
         "x": {
          "bdata": "no4Av+gXFb/9kxa/oScBv/7eB78mICE+gDQNvz8xD78nUyQ+Cq8nvybdB7+HrhG//Sgev9JSCj4Iwgy/DO4kv+e7Br96m/2+g+8xPjbNIr9g/x+/QvgfvxdFF7+DpC4+91bzvj+06D2YqBW/HPAqvwJQNL8qxxs+h7QSv02fC7/WUBK/gKSQvkKYEb9T2gi/K+cTv4VR+b5mN3c+7yclv7rD+L7+pyu/b6cpvw==",
          "dtype": "f4"
         },
         "xaxis": "x",
         "y": {
          "bdata": "HorlPpsHxD4NHOE+mo68Pjzgpj5d5dI+qK3PPmMl5j6vBrg+gXvUPpMO9j5d9rs+6aDQPsAh4j51d7s+ZAO+PoVX7T6OWuU+oBDiPnHEyD4yy78+HfThPsJl0z4CwrM+1tKmPtxB5D68D+4+TGO5Pm7yQj5kz94+dozKPrwmyD4rZdk+A/RFvX+06z5Xua4+Z4yrPo2qpT4meAg/yv62PqPXwj4BpMo+Jf7LPg==",
          "dtype": "f4"
         },
         "yaxis": "y"
        },
        {
         "hovertemplate": "color=7<br>x=%{x}<br>y=%{y}<extra></extra>",
         "legendgroup": "7",
         "marker": {
          "color": "#00cc96",
          "symbol": "circle"
         },
         "mode": "markers",
         "name": "7",
         "orientation": "v",
         "showlegend": true,
         "type": "scatter",
         "x": {
          "bdata": "DWfgPr4c7z725J0+LyfaPjiL8j5Olsg+ame7PofPAT9h5OQ+fSbHPoo3yD61F40+F6jaPgPQ2j5wj90+3ocCP2Z6rT6nQ/Q+fuXnPjGBBj8W4+Y+PI2bPiNgyD4VCu4+xEsDP2+ckz6VRPs+HuDTPo/fuz7FGQM/lWPbPg==",
          "dtype": "f4"
         },
         "xaxis": "x",
         "y": {
          "bdata": "v3wCP6Fj6T4LjwE/usIMP8SP+z6h+No+swHmPvMGBj8u58k+Ud7gPnp87T4R2vU+I8bMPrWWBz8u2d8+V7DmPolYAz+giQI/WRvuPt0C5z7O/P0+xtDSPkmQAT9Wawg/E00HP5/8+z6/B+o+bc8GP5r9CD9x+/I+Usz0Pg==",
          "dtype": "f4"
         },
         "yaxis": "y"
        },
        {
         "hovertemplate": "color=3<br>x=%{x}<br>y=%{y}<extra></extra>",
         "legendgroup": "3",
         "marker": {
          "color": "#ab63fa",
          "symbol": "circle"
         },
         "mode": "markers",
         "name": "3",
         "orientation": "v",
         "showlegend": true,
         "type": "scatter",
         "x": {
          "bdata": "vzM/v4qUB7/g8UG/Pus6vy6sKL8D3hK/Z30sv8tONb/BVQK/g8wJv2CbKL+Z1SC/eps1v7kdHr8N3B+/06A9v0hqKb+Owi6/gkggvz8iPb/UOS2/9dcWv7OyM7+Jlh6/K+M3v6ATBb+L+yC/7LhBvyq2Eb8c/Se/VVtCv9b9LL/m5im/CgI3v6FCMb/HkSO/zN8ov4jZO78=",
          "dtype": "f4"
         },
         "xaxis": "x",
         "y": {
          "bdata": "szRjPsFagD4PKXs+OeF9PqcPVT4WQuw7s96ePlKigj7KgWI+oOCBPoypkj5sBis+I8xZPlUzND6CBIU+8WdaPnHwhz6eA48+MM9RPkV4hz6W93I+PnXGPX6RkT6mYu49OQSgPhf/PD7P+ZM+Kh10PoM/9TuyeHk+VuVkPvhIQD5QB6Q+hC6FPmx7aT6uaYg+VokePpjJbD4=",
          "dtype": "f4"
         },
         "yaxis": "y"
        },
        {
         "hovertemplate": "color=8<br>x=%{x}<br>y=%{y}<extra></extra>",
         "legendgroup": "8",
         "marker": {
          "color": "#FFA15A",
          "symbol": "circle"
         },
         "mode": "markers",
         "name": "8",
         "orientation": "v",
         "showlegend": true,
         "type": "scatter",
         "x": {
          "bdata": "0gXzvoviFL/UKIe+Th4+vkNnRL7HCMK+C5iIvqdzdr4ApDy+/y3Lvv6Vxb4zm8u+39dPvrxQ876VsyC8ij7vvhGO6r4IjLu+Bu1Xvrtxu77gq8y+Lpi2vliBh74AV+u+2Bjlvo8esL507JS+Uhq5vm8cRL69bnK+",
          "dtype": "f4"
         },
         "xaxis": "x",
         "y": {
          "bdata": "zyvvvLuPJL7NMxu+y9T7voPHhD74EEy92N7CvbnHlT38APi+oNctPto9Tz43b4Y+MCCFPgsTyLxpBYW+t9kaPnerzTyWify8QZufPX0zUT7fsjY+ynlxvf3EhD4sVBQ95EsUPmrlbz431ay9OMAAvidqJj1VTZc9",
          "dtype": "f4"
         },
         "yaxis": "y"
        },
        {
         "hovertemplate": "color=4<br>x=%{x}<br>y=%{y}<extra></extra>",
         "legendgroup": "4",
         "marker": {
          "color": "#19d3f3",
          "symbol": "circle"
         },
         "mode": "markers",
         "name": "4",
         "orientation": "v",
         "showlegend": true,
         "type": "scatter",
         "x": {
          "bdata": "voDOPlO49D7iQvs+chjmPpot7z5PVBQ/bXoIP8qI0j4H36o+fV72PrOVAT+U3tA+5+2pPt8y0z7MQoI+CAi3PvAfiD5e9NU+PlHGPoNo1T7C+rk+wkH0PiY9xj7CQJY+9xzSPoIp5T5SGwc/t6QNP37l7z79DtM+vZfFPutO/T5j0gw/1QycPnhG4z6nlw4/30m5PoYXBj/DifQ+Pij4Pts1rT5vBuY+QpDcPjEDqT5k2vo+OA+3Prfmij4=",
          "dtype": "f4"
         },
         "xaxis": "x",
         "y": {
          "bdata": "eE17vZ66Bz18bxm+i/NhPq8LFr4ONv+8a7VrvULVQ74XIxy+bFMyPg4+yb3CD4e8Z9tWvYqjqT2DJkK+GSFZvYD2U74Wh/m9o08rvih4cj0n81K+UeTmPWupuz0j4JK+y9gvPdhqy70zI/+9ukJCvf9LJT7dm12+HPPMvaZBQT6XMt4+lr6NvvqZaT6JUou9MYw0vhsrLr6LPiO9jBuMvXnohb4eGvw9txqMvQ1ERr5C8Cm+lzGAvpvcdL4=",
          "dtype": "f4"
         },
         "yaxis": "y"
        },
        {
         "hovertemplate": "color=5<br>x=%{x}<br>y=%{y}<extra></extra>",
         "legendgroup": "5",
         "marker": {
          "color": "#FF6692",
          "symbol": "circle"
         },
         "mode": "markers",
         "name": "5",
         "orientation": "v",
         "showlegend": true,
         "type": "scatter",
         "x": {
          "bdata": "4HZ9vvpFt77854G+UROHvkQ9zL5UUuy9VK6DviMdmL754Ku+SCmvvjgjm77fy8W+a9yLvqu0HL4aiLm+odY6vvWOtr0OVyO+D++jvlzYs74GAXI+6WS5veu4Pr534wS+5UnIvcGmrL7Dgou9sE8Fviiinr2Dxsa93qOyvpQFvb5hxo6+/jl0vnoVwb6987W+YR7GvZYljL4=",
          "dtype": "f4"
         },
         "xaxis": "x",
         "y": {
          "bdata": "WE0SP8nUBD80dBs/tnMGP/wZ4z5a4Sg/qGgTP40cDz/RJRo/orIGP/4yCD/s8hE/OZ0LP5PBEz9eRfc+Wo8OP4qxFz//tiI/gesZPxqrGj8HRH09X9IoPz2xIT879RQ/PAohPyyF+T5E2Co/Jn4iP35mJT8rbyQ/93gPP2CBBT/9ACE/HnIaP/dcDj/s2RY/59gUPyoQAD8=",
          "dtype": "f4"
         },
         "yaxis": "y"
        },
        {
         "hovertemplate": "color=6<br>x=%{x}<br>y=%{y}<extra></extra>",
         "legendgroup": "6",
         "marker": {
          "color": "#B6E880",
          "symbol": "circle"
         },
         "mode": "markers",
         "name": "6",
         "orientation": "v",
         "showlegend": true,
         "type": "scatter",
         "x": {
          "bdata": "ppWCvQIePT2Tjco9TPP2Pf/sGb1YNvg8DSoNPKOoFzwiLCG8JxebPTAQzjznrbK9jbyHPdjaO71xTpI97lAavZtbRT17BRY8Zuy7vHF7kT1pv949arQtPY6wLjz0FDQ9XHi8vOECgT0nXKs91GAUPT8Rmr1iIZG9CqTZPctIGzw=",
          "dtype": "f4"
         },
         "xaxis": "x",
         "y": {
          "bdata": "VIQlv7LVEb+66yO/3p8kv49RG79knQq/F0sOv7mHBL8CHR6/w6cpv8RjMr/8Wye/9WAlv1Qx2b68eR6/Mo0kv/u5Mb9lzCi/W5jqvtrwMb+vRym/hsIpv55OE796kSO/JuIgvz57LL/jeC2/tlMEv/x6C79z6w2/2Vwuv4LBIb8=",
          "dtype": "f4"
         },
         "yaxis": "y"
        },
        {
         "hovertemplate": "color=0<br>x=%{x}<br>y=%{y}<extra></extra>",
         "legendgroup": "0",
         "marker": {
          "color": "#FF97FF",
          "symbol": "circle"
         },
         "mode": "markers",
         "name": "0",
         "orientation": "v",
         "showlegend": true,
         "type": "scatter",
         "x": {
          "bdata": "SqtWPxN1WD/UcF4/NmpZP8xFWD+ay1M/6GBdPzoFYz/3HF0/A4BVPzJmYj8RyGI/cupePyQ0Wz8G1GM/m7tbP/nhYj+mDWA/UOZdP7XAYz/PRmU/AYVdP4a9UT81oFk/qNlXP7hQZT+1JmA/Kb1iP3+uVz8G1mE/Md1dP162Yz+Sh2A/nZRbP7bAVz911F8/gOZdP/X2Uz8slWE/td9WP7IZVT8L8WA/zC9XPzVDWz+eimU/",
          "dtype": "f4"
         },
         "xaxis": "x",
         "y": {
          "bdata": "EMuuPM1zIT1IQMM9/5+lPUPJRj0khx89ltLaPYkA4D0cOPA95m9YPRYYzT3iCIM9t/ObPQORHj2cOfk9CthoPfyomD2KibY9tbdXPYbzvj1ltP89J1aIPY7kjD0gYIY9bADqPWwE7z3pquI9U89YPVd41T3ziSY9zQADPmBCGj0W0qU9JPe9PRQhAj5rm309dcCxPQMksz1tFPU9J/29PZWH4z0GKcY9dGyIPcmynD1mTKQ9",
          "dtype": "f4"
         },
         "yaxis": "y"
        },
        {
         "hovertemplate": "color=2<br>x=%{x}<br>y=%{y}<extra></extra>",
         "legendgroup": "2",
         "marker": {
          "color": "#FECB52",
          "symbol": "circle"
         },
         "mode": "markers",
         "name": "2",
         "orientation": "v",
         "showlegend": true,
         "type": "scatter",
         "x": {
          "bdata": "q6xQvyiwSL/SPkC/v67UvYM7O78nUEe/Igs7vw4WQr8e/Ey/G9zpvM78IL+O6zq/R7VFv2cuQL81xTq/17RSv2iuLb+uNzq/5vVIv01nNL8UVT+/D8VMv8qaP78yKDe/M1VNvwoRPL8mADu/rVEnv9xqPr9ED0S/gzVKv6SZPb9FCzS/NsJOv3jSTb8wIFG/AyRCv79PUL87Vzi/faRDv9KH1r3vFku/wPwyv3gTLL8fXiu/+hYsv/u6QL/T70e/980zv5rpKL9ooEy/e1tQvw==",
          "dtype": "f4"
         },
         "xaxis": "x",
         "y": {
          "bdata": "reJGvhDSVL7h4uK9TsTuPO+ObL2og0S+ns8NvpUETr6wpSi+6e+rPc19vb3CGou8tRjVvef7Yb6ly/e9mGc5vox2rb27bQ29h0y8vYD7Kr5euVS9QMYHvhufLL5TESa+9TNJvjfNY77ces27sEQcvkooQL6idCq+UWEdvuSgs71aGwe+I6bwvfUAPL6kRCy+Q18/vjK3Eb5KO1m+NYdFvSfk5jxUsdS9VpE9vpmm4b1OOCi+BRmjvTJVBr7guwK+tC3OvQaG1b2CVvC9XzA9vg==",
          "dtype": "f4"
         },
         "yaxis": "y"
        }
       ],
       "layout": {
        "height": 600,
        "legend": {
         "title": {
          "text": "color"
         },
         "tracegroupgap": 0
        },
        "margin": {
         "t": 60
        },
        "plot_bgcolor": "rgba(0,0,0,0)",
        "shapes": [
         {
          "type": "circle",
          "x0": -1,
          "x1": 1,
          "y0": -1,
          "y1": 1
         }
        ],
        "template": {
         "data": {
          "bar": [
           {
            "error_x": {
             "color": "#2a3f5f"
            },
            "error_y": {
             "color": "#2a3f5f"
            },
            "marker": {
             "line": {
              "color": "#E5ECF6",
              "width": 0.5
             },
             "pattern": {
              "fillmode": "overlay",
              "size": 10,
              "solidity": 0.2
             }
            },
            "type": "bar"
           }
          ],
          "barpolar": [
           {
            "marker": {
             "line": {
              "color": "#E5ECF6",
              "width": 0.5
             },
             "pattern": {
              "fillmode": "overlay",
              "size": 10,
              "solidity": 0.2
             }
            },
            "type": "barpolar"
           }
          ],
          "carpet": [
           {
            "aaxis": {
             "endlinecolor": "#2a3f5f",
             "gridcolor": "white",
             "linecolor": "white",
             "minorgridcolor": "white",
             "startlinecolor": "#2a3f5f"
            },
            "baxis": {
             "endlinecolor": "#2a3f5f",
             "gridcolor": "white",
             "linecolor": "white",
             "minorgridcolor": "white",
             "startlinecolor": "#2a3f5f"
            },
            "type": "carpet"
           }
          ],
          "choropleth": [
           {
            "colorbar": {
             "outlinewidth": 0,
             "ticks": ""
            },
            "type": "choropleth"
           }
          ],
          "contour": [
           {
            "colorbar": {
             "outlinewidth": 0,
             "ticks": ""
            },
            "colorscale": [
             [
              0,
              "#0d0887"
             ],
             [
              0.1111111111111111,
              "#46039f"
             ],
             [
              0.2222222222222222,
              "#7201a8"
             ],
             [
              0.3333333333333333,
              "#9c179e"
             ],
             [
              0.4444444444444444,
              "#bd3786"
             ],
             [
              0.5555555555555556,
              "#d8576b"
             ],
             [
              0.6666666666666666,
              "#ed7953"
             ],
             [
              0.7777777777777778,
              "#fb9f3a"
             ],
             [
              0.8888888888888888,
              "#fdca26"
             ],
             [
              1,
              "#f0f921"
             ]
            ],
            "type": "contour"
           }
          ],
          "contourcarpet": [
           {
            "colorbar": {
             "outlinewidth": 0,
             "ticks": ""
            },
            "type": "contourcarpet"
           }
          ],
          "heatmap": [
           {
            "colorbar": {
             "outlinewidth": 0,
             "ticks": ""
            },
            "colorscale": [
             [
              0,
              "#0d0887"
             ],
             [
              0.1111111111111111,
              "#46039f"
             ],
             [
              0.2222222222222222,
              "#7201a8"
             ],
             [
              0.3333333333333333,
              "#9c179e"
             ],
             [
              0.4444444444444444,
              "#bd3786"
             ],
             [
              0.5555555555555556,
              "#d8576b"
             ],
             [
              0.6666666666666666,
              "#ed7953"
             ],
             [
              0.7777777777777778,
              "#fb9f3a"
             ],
             [
              0.8888888888888888,
              "#fdca26"
             ],
             [
              1,
              "#f0f921"
             ]
            ],
            "type": "heatmap"
           }
          ],
          "histogram": [
           {
            "marker": {
             "pattern": {
              "fillmode": "overlay",
              "size": 10,
              "solidity": 0.2
             }
            },
            "type": "histogram"
           }
          ],
          "histogram2d": [
           {
            "colorbar": {
             "outlinewidth": 0,
             "ticks": ""
            },
            "colorscale": [
             [
              0,
              "#0d0887"
             ],
             [
              0.1111111111111111,
              "#46039f"
             ],
             [
              0.2222222222222222,
              "#7201a8"
             ],
             [
              0.3333333333333333,
              "#9c179e"
             ],
             [
              0.4444444444444444,
              "#bd3786"
             ],
             [
              0.5555555555555556,
              "#d8576b"
             ],
             [
              0.6666666666666666,
              "#ed7953"
             ],
             [
              0.7777777777777778,
              "#fb9f3a"
             ],
             [
              0.8888888888888888,
              "#fdca26"
             ],
             [
              1,
              "#f0f921"
             ]
            ],
            "type": "histogram2d"
           }
          ],
          "histogram2dcontour": [
           {
            "colorbar": {
             "outlinewidth": 0,
             "ticks": ""
            },
            "colorscale": [
             [
              0,
              "#0d0887"
             ],
             [
              0.1111111111111111,
              "#46039f"
             ],
             [
              0.2222222222222222,
              "#7201a8"
             ],
             [
              0.3333333333333333,
              "#9c179e"
             ],
             [
              0.4444444444444444,
              "#bd3786"
             ],
             [
              0.5555555555555556,
              "#d8576b"
             ],
             [
              0.6666666666666666,
              "#ed7953"
             ],
             [
              0.7777777777777778,
              "#fb9f3a"
             ],
             [
              0.8888888888888888,
              "#fdca26"
             ],
             [
              1,
              "#f0f921"
             ]
            ],
            "type": "histogram2dcontour"
           }
          ],
          "mesh3d": [
           {
            "colorbar": {
             "outlinewidth": 0,
             "ticks": ""
            },
            "type": "mesh3d"
           }
          ],
          "parcoords": [
           {
            "line": {
             "colorbar": {
              "outlinewidth": 0,
              "ticks": ""
             }
            },
            "type": "parcoords"
           }
          ],
          "pie": [
           {
            "automargin": true,
            "type": "pie"
           }
          ],
          "scatter": [
           {
            "fillpattern": {
             "fillmode": "overlay",
             "size": 10,
             "solidity": 0.2
            },
            "type": "scatter"
           }
          ],
          "scatter3d": [
           {
            "line": {
             "colorbar": {
              "outlinewidth": 0,
              "ticks": ""
             }
            },
            "marker": {
             "colorbar": {
              "outlinewidth": 0,
              "ticks": ""
             }
            },
            "type": "scatter3d"
           }
          ],
          "scattercarpet": [
           {
            "marker": {
             "colorbar": {
              "outlinewidth": 0,
              "ticks": ""
             }
            },
            "type": "scattercarpet"
           }
          ],
          "scattergeo": [
           {
            "marker": {
             "colorbar": {
              "outlinewidth": 0,
              "ticks": ""
             }
            },
            "type": "scattergeo"
           }
          ],
          "scattergl": [
           {
            "marker": {
             "colorbar": {
              "outlinewidth": 0,
              "ticks": ""
             }
            },
            "type": "scattergl"
           }
          ],
          "scattermap": [
           {
            "marker": {
             "colorbar": {
              "outlinewidth": 0,
              "ticks": ""
             }
            },
            "type": "scattermap"
           }
          ],
          "scattermapbox": [
           {
            "marker": {
             "colorbar": {
              "outlinewidth": 0,
              "ticks": ""
             }
            },
            "type": "scattermapbox"
           }
          ],
          "scatterpolar": [
           {
            "marker": {
             "colorbar": {
              "outlinewidth": 0,
              "ticks": ""
             }
            },
            "type": "scatterpolar"
           }
          ],
          "scatterpolargl": [
           {
            "marker": {
             "colorbar": {
              "outlinewidth": 0,
              "ticks": ""
             }
            },
            "type": "scatterpolargl"
           }
          ],
          "scatterternary": [
           {
            "marker": {
             "colorbar": {
              "outlinewidth": 0,
              "ticks": ""
             }
            },
            "type": "scatterternary"
           }
          ],
          "surface": [
           {
            "colorbar": {
             "outlinewidth": 0,
             "ticks": ""
            },
            "colorscale": [
             [
              0,
              "#0d0887"
             ],
             [
              0.1111111111111111,
              "#46039f"
             ],
             [
              0.2222222222222222,
              "#7201a8"
             ],
             [
              0.3333333333333333,
              "#9c179e"
             ],
             [
              0.4444444444444444,
              "#bd3786"
             ],
             [
              0.5555555555555556,
              "#d8576b"
             ],
             [
              0.6666666666666666,
              "#ed7953"
             ],
             [
              0.7777777777777778,
              "#fb9f3a"
             ],
             [
              0.8888888888888888,
              "#fdca26"
             ],
             [
              1,
              "#f0f921"
             ]
            ],
            "type": "surface"
           }
          ],
          "table": [
           {
            "cells": {
             "fill": {
              "color": "#EBF0F8"
             },
             "line": {
              "color": "white"
             }
            },
            "header": {
             "fill": {
              "color": "#C8D4E3"
             },
             "line": {
              "color": "white"
             }
            },
            "type": "table"
           }
          ]
         },
         "layout": {
          "annotationdefaults": {
           "arrowcolor": "#2a3f5f",
           "arrowhead": 0,
           "arrowwidth": 1
          },
          "autotypenumbers": "strict",
          "coloraxis": {
           "colorbar": {
            "outlinewidth": 0,
            "ticks": ""
           }
          },
          "colorscale": {
           "diverging": [
            [
             0,
             "#8e0152"
            ],
            [
             0.1,
             "#c51b7d"
            ],
            [
             0.2,
             "#de77ae"
            ],
            [
             0.3,
             "#f1b6da"
            ],
            [
             0.4,
             "#fde0ef"
            ],
            [
             0.5,
             "#f7f7f7"
            ],
            [
             0.6,
             "#e6f5d0"
            ],
            [
             0.7,
             "#b8e186"
            ],
            [
             0.8,
             "#7fbc41"
            ],
            [
             0.9,
             "#4d9221"
            ],
            [
             1,
             "#276419"
            ]
           ],
           "sequential": [
            [
             0,
             "#0d0887"
            ],
            [
             0.1111111111111111,
             "#46039f"
            ],
            [
             0.2222222222222222,
             "#7201a8"
            ],
            [
             0.3333333333333333,
             "#9c179e"
            ],
            [
             0.4444444444444444,
             "#bd3786"
            ],
            [
             0.5555555555555556,
             "#d8576b"
            ],
            [
             0.6666666666666666,
             "#ed7953"
            ],
            [
             0.7777777777777778,
             "#fb9f3a"
            ],
            [
             0.8888888888888888,
             "#fdca26"
            ],
            [
             1,
             "#f0f921"
            ]
           ],
           "sequentialminus": [
            [
             0,
             "#0d0887"
            ],
            [
             0.1111111111111111,
             "#46039f"
            ],
            [
             0.2222222222222222,
             "#7201a8"
            ],
            [
             0.3333333333333333,
             "#9c179e"
            ],
            [
             0.4444444444444444,
             "#bd3786"
            ],
            [
             0.5555555555555556,
             "#d8576b"
            ],
            [
             0.6666666666666666,
             "#ed7953"
            ],
            [
             0.7777777777777778,
             "#fb9f3a"
            ],
            [
             0.8888888888888888,
             "#fdca26"
            ],
            [
             1,
             "#f0f921"
            ]
           ]
          },
          "colorway": [
           "#636efa",
           "#EF553B",
           "#00cc96",
           "#ab63fa",
           "#FFA15A",
           "#19d3f3",
           "#FF6692",
           "#B6E880",
           "#FF97FF",
           "#FECB52"
          ],
          "font": {
           "color": "#2a3f5f"
          },
          "geo": {
           "bgcolor": "white",
           "lakecolor": "white",
           "landcolor": "#E5ECF6",
           "showlakes": true,
           "showland": true,
           "subunitcolor": "white"
          },
          "hoverlabel": {
           "align": "left"
          },
          "hovermode": "closest",
          "mapbox": {
           "style": "light"
          },
          "paper_bgcolor": "white",
          "plot_bgcolor": "#E5ECF6",
          "polar": {
           "angularaxis": {
            "gridcolor": "white",
            "linecolor": "white",
            "ticks": ""
           },
           "bgcolor": "#E5ECF6",
           "radialaxis": {
            "gridcolor": "white",
            "linecolor": "white",
            "ticks": ""
           }
          },
          "scene": {
           "xaxis": {
            "backgroundcolor": "#E5ECF6",
            "gridcolor": "white",
            "gridwidth": 2,
            "linecolor": "white",
            "showbackground": true,
            "ticks": "",
            "zerolinecolor": "white"
           },
           "yaxis": {
            "backgroundcolor": "#E5ECF6",
            "gridcolor": "white",
            "gridwidth": 2,
            "linecolor": "white",
            "showbackground": true,
            "ticks": "",
            "zerolinecolor": "white"
           },
           "zaxis": {
            "backgroundcolor": "#E5ECF6",
            "gridcolor": "white",
            "gridwidth": 2,
            "linecolor": "white",
            "showbackground": true,
            "ticks": "",
            "zerolinecolor": "white"
           }
          },
          "shapedefaults": {
           "line": {
            "color": "#2a3f5f"
           }
          },
          "ternary": {
           "aaxis": {
            "gridcolor": "white",
            "linecolor": "white",
            "ticks": ""
           },
           "baxis": {
            "gridcolor": "white",
            "linecolor": "white",
            "ticks": ""
           },
           "bgcolor": "#E5ECF6",
           "caxis": {
            "gridcolor": "white",
            "linecolor": "white",
            "ticks": ""
           }
          },
          "title": {
           "x": 0.05
          },
          "xaxis": {
           "automargin": true,
           "gridcolor": "white",
           "linecolor": "white",
           "ticks": "",
           "title": {
            "standoff": 15
           },
           "zerolinecolor": "white",
           "zerolinewidth": 2
          },
          "yaxis": {
           "automargin": true,
           "gridcolor": "white",
           "linecolor": "white",
           "ticks": "",
           "title": {
            "standoff": 15
           },
           "zerolinecolor": "white",
           "zerolinewidth": 2
          }
         }
        },
        "width": 600,
        "xaxis": {
         "anchor": "y",
         "domain": [
          0,
          1
         ],
         "scaleanchor": "y",
         "title": {
          "text": "x"
         },
         "visible": false
        },
        "yaxis": {
         "anchor": "x",
         "domain": [
          0,
          1
         ],
         "title": {
          "text": "y"
         },
         "visible": false
        }
       }
      }
     },
     "metadata": {},
     "output_type": "display_data"
    }
   ],
   "source": [
    "res = jaxsne.sne(data, out_metric=jaxsne.metric.poincare)\n",
    "res = res / (1 + jnp.linalg.norm(res, 2, 1)[:, None])\n",
    "x, y = res.T\n",
    "px.scatter(x=x, y=y, color=data_class).add_shape(\n",
    "    type=\"circle\",\n",
    "    x0=-1,\n",
    "    y0=-1,\n",
    "    x1=1,\n",
    "    y1=1,\n",
    ").update_layout(\n",
    "    width=600,\n",
    "    height=600,\n",
    "    xaxis_scaleanchor=\"y\",\n",
    "    plot_bgcolor=\"rgba(0,0,0,0)\",\n",
    "    xaxis_visible=False,\n",
    "    yaxis_visible=False,\n",
    ")"
   ]
  },
  {
   "cell_type": "code",
   "execution_count": 30,
   "metadata": {},
   "outputs": [
    {
     "data": {
      "application/vnd.plotly.v1+json": {
       "config": {
        "plotlyServerURL": "https://plot.ly"
       },
       "data": [
        {
         "hovertemplate": "color=1<br>x=%{x}<br>y=%{y}<br>z=%{z}<extra></extra>",
         "legendgroup": "1",
         "marker": {
          "color": "#636efa",
          "symbol": "circle"
         },
         "mode": "markers",
         "name": "1",
         "scene": "scene",
         "showlegend": true,
         "type": "scatter3d",
         "x": {
          "bdata": "p0TQvGtzBz7350E+oBoUPe6GVD/iMTM/rWAPv4xNFz0J1QK/1xYKv6YZcT+3NTo84JEFv0EMHj2Z7QK/A0FVPwL1Gz8cvQ48rpYBPcPw87yLw3m9QF5gP1kVXT64ghI+JxcPPvp1YjsT8RM/duMFv8VNCD1fWX69juSCPoujZj9t7h0/aYY4vhBIQD9DZQS/Bo1YvhPFTj5sPgo/fMM6vnxoDj8HiHs/qVmvPcIKFL0=",
          "dtype": "f4"
         },
         "y": {
          "bdata": "yfcqv3p0oL6nZZi+VTsovyEo2T7aMhQ/eHQ5v9uYIL/Q+iW/hHckvy4KeD6sQee+QX0ev7ukBb8UtCS/zcTqPo5vIT9qVcG+OS0gv2n/FL+wqhC/vhTHPkosj76zGzC/euHvvmMaI79xHCE/7BI5vyChIb/XljC/ZCmIvjlYpz71XyM/SH8wv0gAAz/wiBe/dR3YvvFgC78pgSY/r1yLvrv8JD//aj4+ZOAov8JMK78=",
          "dtype": "f4"
         },
         "z": {
          "bdata": "Gm4+v+m7cL9zim+/Or1Av9o+uT77H9Y+HMXNPtEiR7+gdhA/OlkLP1C2bj5nYWS/BUEWP5sfWr+r1BE/E32ePpsv9j56CW2/t4hHv1sIUL+WoFK/DGuRPv99b7+YJza/O1Ffvz9QRb9WAwU/QSbnPnBXRr8eqTi/5PFtv+ookj4J0es+85kzv7+Q1T49QR4/gKxhv6ZqUL9MwAg/at5xv4NLBj8rXqu7CiU/v4sEPr8=",
          "dtype": "f4"
         }
        },
        {
         "hovertemplate": "color=9<br>x=%{x}<br>y=%{y}<br>z=%{z}<extra></extra>",
         "legendgroup": "9",
         "marker": {
          "color": "#EF553B",
          "symbol": "circle"
         },
         "mode": "markers",
         "name": "9",
         "scene": "scene",
         "showlegend": true,
         "type": "scatter3d",
         "x": {
          "bdata": "eYrOviuGor6QHW++Upz+vhRV777kGUE/BreivuavLr62hDY/If31vZ27hr1lvNC+FtpDvtXhRT/kPcu+8Uqsvpf2Ur4QLsO+v9VAP0EXZL6htIq+KUHbPVq5Mr4zaSw/1h/gvo4uVD9ylhW+RY6AvjcJPr/rn0U/nDWjvg/itr4YnFm+EwuIvnN2973y8di+1ea+vukVA7+brhU+bMsVvsse0758jMO+B4aYvg==",
          "dtype": "f4"
         },
         "y": {
          "bdata": "9/aJPnSQFj8ta1I/HjsbPmQplD7S3Cc/2ZsvPy15PT90Iio/U24ZP+xPDD+/oOM+8JY7PypKIj8emss+qgJUPzVv6z6rYqI9q7YkPw6IOz94ulk/f9wmPw6OIz/sGjs/cF+QPrlmDT/MI18/r4Q5P5NzKT8vdyA/yeAmPwXA8z5vvzE/PIY1PzMUVz/OY5s+O28IP9gdRT4abjI/TbdTP1Ohqj3ndck+RggIPw==",
          "dtype": "f4"
         },
         "z": {
          "bdata": "ydtfP5ttPj+T/QQ/eK9aP1bXVT/Y+AU9BJEnP+eEJj9D/WQ+TptKP5F1VT86Lkw/yS0nP+gqzLymxFM/Zn3lPncgXT8DzGs/tbgLvqSrJD9H1OY+FTRAPz7OPz8xk+I9nI5aP6qFtj3ijO8+NUckP+Tx1L22Vti9FCYwP3K4TT9vBDA/0jQnvy1aBz+1elo/LXNCP5dMVj+1tzO/zPUKP/E+aD8WFFY/AQRLPw==",
          "dtype": "f4"
         }
        },
        {
         "hovertemplate": "color=7<br>x=%{x}<br>y=%{y}<br>z=%{z}<extra></extra>",
         "legendgroup": "7",
         "marker": {
          "color": "#00cc96",
          "symbol": "circle"
         },
         "mode": "markers",
         "name": "7",
         "scene": "scene",
         "showlegend": true,
         "type": "scatter3d",
         "x": {
          "bdata": "L+ajPvWDqz5anug+eUCiPrWomz4wGRM/evYHPy7xjTtaTss+sG4NP5824T5cUDA/tlXlPsGXuz6YvOE+9TkyPqdI+T4SB1A+oLW9PiklibzJmak+OPUxPwgUzz4BHjw+hGMUvvOxFj8Ed4Y+ROy8Pm4z7j4mkU0++CjjPg==",
          "dtype": "f4"
         },
         "y": {
          "bdata": "mZOrPg3Lxz7bdB8/g5m4Pk7Lgz6CbN4+XIb/PoAlDT4ICfk+G7bxPuYH1T5M5SY/R6TmPibyqD6lVr0+nV2PPuZLCz8eVX8+lmeoPt6Bhj7N0Cc+1fUcP7Xn/D4qSD0+kzYcPgr0Kz/gg6s+4rmhPmTW3D7RloI+u/gKPg==",
          "dtype": "f4"
         },
         "z": {
          "bdata": "cNliv9mMW78LCiO//5Ngv5TPar8ZkTG/dkovv9KNfb9dPke/Mdwvv5K9S78SbKK+RbVFv2C3Xr/pXVG/tK9xv3DrLr/LZXK/zF5ev4f4dr8i4G2/jybAvqgKRb9iJ3e/5kR6v79L5r4+pme/zsVfv8TiRb+zI3K/T8divw==",
          "dtype": "f4"
         }
        },
        {
         "hovertemplate": "color=3<br>x=%{x}<br>y=%{y}<br>z=%{z}<extra></extra>",
         "legendgroup": "3",
         "marker": {
          "color": "#ab63fa",
          "symbol": "circle"
         },
         "mode": "markers",
         "name": "3",
         "scene": "scene",
         "showlegend": true,
         "type": "scatter3d",
         "x": {
          "bdata": "Uy1Sv/ffLr8Vq0O/q9xKv946Rb/J7U2/L18hvwUTVL+u7WC/6VNDvy1fJr/PLWm/c5ZTv6H1cL/axRe/TthRv88rP7+BYEq/idhgvy0xRr9Kjj2/96PnvuV1Pr9gXFa/stA2vzlNcr8CvTq/j7lFv/86Q7+jxTK/EqRKvxDSZL9+pQi/qedQv/UVLL8xjDK/iLEkv8xyUL8=",
          "dtype": "f4"
         },
         "y": {
          "bdata": "oxgFP19CID7vyCI/pSUcP+vEHz8oHK4+ixU1PzdCDT+W3Io9X4mYPfLTFz/HlcQ+KFENP0Sp/j2P3Tw/XLsNP5jgGj9c9hE/8Mi3PlmkID+0vSo/kD8Uvjk5JD9NHQs/Y/8MP/HviL0Nuvk+0R8gP/GupD6+6Cw/eRoaP2aA5T7/00M/mXUTPxyHOj9NryM/mm09P68YDT8=",
          "dtype": "f4"
         },
         "z": {
          "bdata": "2Y9xvmOeNj8qPNu90wuHO3tGBT66Z/m+e8CjPrgDxT3oAfI+SWAkP2lZ8z73Bxs+57rhvWfDoD47TKU+aV4Wvlp1jT4G5WQ+TrGhPg+3qT24Gao9+kVhP7R5Pz4YBXS9ojfdPiOnoT5OjfU+1W3ivWOrD79xnnI+zmDXvSlqRLz8jbg+fkREvW90Bj7usqU+kChJPseiOr4=",
          "dtype": "f4"
         }
        },
        {
         "hovertemplate": "color=8<br>x=%{x}<br>y=%{y}<br>z=%{z}<extra></extra>",
         "legendgroup": "8",
         "marker": {
          "color": "#FFA15A",
          "symbol": "circle"
         },
         "mode": "markers",
         "name": "8",
         "scene": "scene",
         "showlegend": true,
         "type": "scatter3d",
         "x": {
          "bdata": "VhlKv38HEr9mQ9++ce28voRmDT99aR2/8rOovq18BL+SYTW+yuJkv6WcQb/6+w2/R/rcPkqxQr/R94i+W6dWv0IGS7/uEte+sPzWvuqVV79uele/pVfxvrHLlj0k92W//Dppv7gzJL9iraK+HqgQv8jNmb4cIgK/",
          "dtype": "f4"
         },
         "y": {
          "bdata": "41KMPlamJ7/L/GO9EcZiv1s/KT9slbg+gztXPgpEKr7dpV+/pzcMPC+bMLyLzmy9veowPwoDZz6dtuc9zilcPgIVED7YQhE/WOa0vUEDTj0g3WA9k7TEPg9HID+sV1Y+/yZpPRdRBT5SwL8+StQ5Po3Gor2yvAG+",
          "dtype": "f4"
         },
         "z": {
          "bdata": "epoMv57P/b4M8GW/JAiQvkD9AT/XjTO/d6NrvwPgVr/4C+i+9EflPr51Jz+zgFQ/n2sUP6/eG7+b9nS/QS4AP9u4F7+8TTW/RTxnv7dzCT9EgQk/HTpLv7W5Rj/2ysW+GxHRPqKNQT9d/16/CQpOv79Tc7/jDlq/",
          "dtype": "f4"
         }
        },
        {
         "hovertemplate": "color=4<br>x=%{x}<br>y=%{y}<br>z=%{z}<extra></extra>",
         "legendgroup": "4",
         "marker": {
          "color": "#19d3f3",
          "symbol": "circle"
         },
         "mode": "markers",
         "name": "4",
         "scene": "scene",
         "showlegend": true,
         "type": "scatter3d",
         "x": {
          "bdata": "scZmP5Dtdj8512o/EH4/P/5sbz/8mEw/vxdiP/9zUj8Fz1M/M7NQP8oPez87dHs/3jdxPx3obz8UWSU/SyhrP5ivIj//Km8/poJLP/S0ez/PuUE/c8tTPyECej/oZAs/IGV+P2u8ZT/Mbng/BiJVP6/3YT+qQUw/r81nPyAxPD/sKF6+mvsNP1zITT+F/Fo/cg9HP3WsXj8ODXw/06FzP6qXHD/kW2U/21JgP0MxPj8OuWk/aHcyP/YuET8=",
          "dtype": "f4"
         },
         "y": {
          "bdata": "3MPcvuiMkLwFLIW+GLGJPrjglL4TCwe/7ZDpvsF68r7tZwK/alkqPUQ6N74jUj6+D/6kvhCemD62Cg6/xyTKvl+2Gb8kUam+ULIAv+O+vz3lkQy/g3RtvYAUDD54YS2/BgLRPSky4L7JdG29fScLv9O54D0t8gW/ibrTvtehzTw/saI+vhUnv9YSkD64dfy+fMIKv0+urr3oGTO+qICcvj6ZIb/bZPk9Sar0vm9IEr+UvTq+pacevxzvI78=",
          "dtype": "f4"
         },
         "z": {
          "bdata": "6C0bPY3Khr7kTJq+D1Qbv8GxTr5NgJM+S2XfPeDRob4/PHK+8t8Tvwomob3R1dG8lJ26PYzOOb48PQa/flGUPLCH+L7Brgi+6NutvnZCIL6gnrW+uQgPvz32Kb44Vf2+4QE7vVxdXb1u5W++GJLaPYv46b7nR5m+40nDvX5uLb/dSmy/aCIEvzQqBr+4VCI+ci2jvm/N+L6z9Jq7pLnvPAoj9L4Ottq+y8x8Pex7sr7G3rq+7Iu4vjiaBL8=",
          "dtype": "f4"
         }
        },
        {
         "hovertemplate": "color=5<br>x=%{x}<br>y=%{y}<br>z=%{z}<extra></extra>",
         "legendgroup": "5",
         "marker": {
          "color": "#FF6692",
          "symbol": "circle"
         },
         "mode": "markers",
         "name": "5",
         "scene": "scene",
         "showlegend": true,
         "type": "scatter3d",
         "x": {
          "bdata": "Nw/2vE9qJT3yhJk+q+sSPdWHT76DIIG+B2qiPRVowD1xscU+ispYPRK4YjyQsI4+HSO5OwoEBr76S3W9fozku7M9k76zso2+OP2SPnm4Gj+asFc/O8+GvoZdSr5Qvy++3+WTvkhlN71AUo2+W4uHvg2mYr70roq+S8BiPnYtfT0vWx0/qMxrPrDtbj6H7rs+iplavmnOeTs=",
          "dtype": "f4"
         },
         "y": {
          "bdata": "r9FyP05SeT+n32g/2w18P12EQz8pUlA/1cR5P4vTfj9He2k/EDF+P6oAfz/O1HU/YeR8P7SXYj8gkXU/hRB1P6zPMz8T70U/QC11P8TkSz8EygQ/5c0/PzzRcT8GzFk/ttEtP6eyez+dSkU/fFo9P9CxSj8tTD8/dXF5P2U/ej8CbkU/NH1uP/jKdz+PE24/3AtAP8xEfz8=",
          "dtype": "f4"
         },
         "z": {
          "bdata": "zHChvoSpZD5GKJO+AEovvh/mHD9RDQa/6VpRvor5krzFhA0+rHrZPd9esr2o1mW8ofgevlWk5L4iZI0+rACUvmivJr/NExK/wCSZPK7En7zXpBS+T5Mbv2sthr6qUv6+zcgsvz87NT7YCBO/fWQev5O9Eb8PWRu/lHggPUteTj6/iim+i/+Pvtt0vj0XUKO8CzYgvzZ9mr0=",
          "dtype": "f4"
         }
        },
        {
         "hovertemplate": "color=6<br>x=%{x}<br>y=%{y}<br>z=%{z}<extra></extra>",
         "legendgroup": "6",
         "marker": {
          "color": "#B6E880",
          "symbol": "circle"
         },
         "mode": "markers",
         "name": "6",
         "scene": "scene",
         "showlegend": true,
         "type": "scatter3d",
         "x": {
          "bdata": "mDMsPpCtLj5Lges9Sp0HPrVo6z4P9yE+VxcUPsaxND4dXpU+OoO2PUCiAD6pWk0+vzshPqy+3DySPyw+1Xc5PlAlgj1g/Sc++b2sPapEcz2rMwE+UbgOPkpnST4pah0+L/iWPtwXvj0tZYg9ixkPPmdVYj6KNwk+GhCOPXAnTj4=",
          "dtype": "f4"
         },
         "y": {
          "bdata": "hPd6v2Q5fL/Pl22/W2N0v2aDWL/Hxny/u+56v4bQer9INXO/8pBqv8+ra79jTmu/TLNvv3dwXr+3/XC/pjB4vziuYr/Uh3W/e6Ruv4JIY79PnnO/a4Jwv76+er+PU3C/8dxxv4l5a78gBGq/3r94v4p7bb+FN2W/bjVsv8zrc78=",
          "dtype": "f4"
         },
         "z": {
          "bdata": "RmfTvfIfXTwnUbU+A4uIPuOdij431je7YHUKvn3kwb1ma+M9NfHHPhVTvT4Pka2+iK+gPv0N/b6Ou5U+PSEpPkSw6z6pM2w+dDe0vmSk6T4SbY8+BzqgPlfMNL323Z0+DHESPgUswz7Zwsw+hCJDvmsYmj7Xbdk+Hy3CPiahaD4=",
          "dtype": "f4"
         }
        },
        {
         "hovertemplate": "color=0<br>x=%{x}<br>y=%{y}<br>z=%{z}<extra></extra>",
         "legendgroup": "0",
         "marker": {
          "color": "#FF97FF",
          "symbol": "circle"
         },
         "mode": "markers",
         "name": "0",
         "scene": "scene",
         "showlegend": true,
         "type": "scatter3d",
         "x": {
          "bdata": "apAqvVYmUD5q0uY+vNjjPvOFUD5BnPs8s8XjPkwVBT8BM9U+o/y/PRc8Bz+djRw/oXjAPtaGQz4ftQ8/LYPDPi+EFj9Xd+E+WyngPrBTBj/+cAs/ZQUXP2ZcNz5kdpg+hvmQPgzAEz8w9Qk/S58gP96IVj7liRw/Ltq9PjFPRj++VqE+ftO2PrdPvj552vE+ZKWvPsL92j0sLwY/EwiGPlXaIT4+lwE/27l2PvaoAD+aBCw/",
          "dtype": "f4"
         },
         "y": {
          "bdata": "2nDtvtJ7Ar859QK+DnHhvdYE5r7SBea++4yuveb3KD32Sk09WWPVvuurWr30iYC+y9ubvhKN1L7bfzE+IP+8vvgXkL4UrCm+uJrRvgh/njwjJrY+aJlkvmX6p75E3p2+0eOtPOyigD7R4du5OInZvhG3qL2I3gu/ph5hPkklxr5gnne+QStQvmm7yT35w66+BXhUvo36lb5UB/496k8evli1C71wV7O9cFGevoPDFb7vpyO+",
          "dtype": "f4"
         },
         "z": {
          "bdata": "c45iP6gDVj+/JmI/AIRjP9mwXj83k2Q/aTtkPxBvWj9eZWg/RHdnP1rvWD+wFUA/tA5gP+e1Yz/RKE8/3+hYP64jQj/I5GE/ZepMP/feWT94akI/26ZGPyFybT/FSWc/g3Z1P3PrRj+jpVc/DA0nP75teT85hRI/Hf5mP/sJAD9Y8Go/CmRpPwtRbD/+B1A/PYZqPyk8cz+2sFc/0OFzP5KhfD+kols/toJrP1QhWj9rIDk/",
          "dtype": "f4"
         }
        },
        {
         "hovertemplate": "color=2<br>x=%{x}<br>y=%{y}<br>z=%{z}<extra></extra>",
         "legendgroup": "2",
         "marker": {
          "color": "#FECB52",
          "symbol": "circle"
         },
         "mode": "markers",
         "name": "2",
         "scene": "scene",
         "showlegend": true,
         "type": "scatter3d",
         "x": {
          "bdata": "CZsFv/XBIL/ks2a/0ou2vmLkbb81Gja/2rJYvxIwRb+OPB+/Y2oCPz3Bar8j+2u/xO1jv1R4Pr9yWU2/NMr5vm++Xb+4a2u/Hs1ov7z6a7+yKny/N+wzvzHOXr+942K/DdAMvxKeSL+V3WO/TPBsv9DTX78ltkW/mDw2v+16Z7+z3zG/p1s6vxEMFr/rkQa/NRNRvwMVF7/w+2e/EmJ+v0cEBL9DdFC/s95qvzgeVL8nUm2/BCFcv8oMW79Yq0G/uf5wv/rNar8BEEK//akKvw==",
          "dtype": "f4"
         },
         "y": {
          "bdata": "mMhZv0/lQ79NedC+3xLfvTeeqL51zTO/zzPcvoPlIb+TzkC/GOdPvlWlpDzExz6+cbuVvqLQG79nUs6+OJhdv7UwI74MS4q+5QgVvgRgxb7zUC2+Kuv/vtoM/L6F2em+wK9Vv1EHB79au7e8H86vvr6w977iZSK/Su4kv99C1r7nQPe+ml/1vo/jTb8jDFG/2OUSv4ASK79Iy7i+xO6uvJkZ6b2DP6u+P+XGvuaDzb6dm7a+QzgUvs5sxr65GsC+PdmGvshGU77Ga+O+UKRVvw==",
          "dtype": "f4"
         },
         "z": {
          "bdata": "mu1/vUs1ET50Jxi+j4ttv/VcKz46edi8BLGgvs1IqD16R1u+IBJWvy71y74pD64+G6iyvj8fjT5BneG+BOjmvUB/8r7XCZI+XIPHvgUtKL28WQY9v5MBv0ZIWDxFHJ29I7HYvL//pz67Eek+bGwjvri5Hz0UwQg9rCiPvuGHrj0/bgi/+wj7vmsOyb26KnS+fUR6PZnm575npGE+TZ7hvfNjWb8d6fK+cK+vPfnTx76cGe09Bqb6vvicr776Hgm/FtRXvhuBrr5BgfS+G1/OvQ==",
          "dtype": "f4"
         }
        }
       ],
       "layout": {
        "height": 600,
        "legend": {
         "title": {
          "text": "color"
         },
         "tracegroupgap": 0
        },
        "margin": {
         "t": 60
        },
        "scene": {
         "domain": {
          "x": [
           0,
           1
          ],
          "y": [
           0,
           1
          ]
         },
         "xaxis": {
          "title": {
           "text": "x"
          },
          "visible": false
         },
         "yaxis": {
          "title": {
           "text": "y"
          },
          "visible": false
         },
         "zaxis": {
          "title": {
           "text": "z"
          },
          "visible": false
         }
        },
        "template": {
         "data": {
          "bar": [
           {
            "error_x": {
             "color": "#2a3f5f"
            },
            "error_y": {
             "color": "#2a3f5f"
            },
            "marker": {
             "line": {
              "color": "#E5ECF6",
              "width": 0.5
             },
             "pattern": {
              "fillmode": "overlay",
              "size": 10,
              "solidity": 0.2
             }
            },
            "type": "bar"
           }
          ],
          "barpolar": [
           {
            "marker": {
             "line": {
              "color": "#E5ECF6",
              "width": 0.5
             },
             "pattern": {
              "fillmode": "overlay",
              "size": 10,
              "solidity": 0.2
             }
            },
            "type": "barpolar"
           }
          ],
          "carpet": [
           {
            "aaxis": {
             "endlinecolor": "#2a3f5f",
             "gridcolor": "white",
             "linecolor": "white",
             "minorgridcolor": "white",
             "startlinecolor": "#2a3f5f"
            },
            "baxis": {
             "endlinecolor": "#2a3f5f",
             "gridcolor": "white",
             "linecolor": "white",
             "minorgridcolor": "white",
             "startlinecolor": "#2a3f5f"
            },
            "type": "carpet"
           }
          ],
          "choropleth": [
           {
            "colorbar": {
             "outlinewidth": 0,
             "ticks": ""
            },
            "type": "choropleth"
           }
          ],
          "contour": [
           {
            "colorbar": {
             "outlinewidth": 0,
             "ticks": ""
            },
            "colorscale": [
             [
              0,
              "#0d0887"
             ],
             [
              0.1111111111111111,
              "#46039f"
             ],
             [
              0.2222222222222222,
              "#7201a8"
             ],
             [
              0.3333333333333333,
              "#9c179e"
             ],
             [
              0.4444444444444444,
              "#bd3786"
             ],
             [
              0.5555555555555556,
              "#d8576b"
             ],
             [
              0.6666666666666666,
              "#ed7953"
             ],
             [
              0.7777777777777778,
              "#fb9f3a"
             ],
             [
              0.8888888888888888,
              "#fdca26"
             ],
             [
              1,
              "#f0f921"
             ]
            ],
            "type": "contour"
           }
          ],
          "contourcarpet": [
           {
            "colorbar": {
             "outlinewidth": 0,
             "ticks": ""
            },
            "type": "contourcarpet"
           }
          ],
          "heatmap": [
           {
            "colorbar": {
             "outlinewidth": 0,
             "ticks": ""
            },
            "colorscale": [
             [
              0,
              "#0d0887"
             ],
             [
              0.1111111111111111,
              "#46039f"
             ],
             [
              0.2222222222222222,
              "#7201a8"
             ],
             [
              0.3333333333333333,
              "#9c179e"
             ],
             [
              0.4444444444444444,
              "#bd3786"
             ],
             [
              0.5555555555555556,
              "#d8576b"
             ],
             [
              0.6666666666666666,
              "#ed7953"
             ],
             [
              0.7777777777777778,
              "#fb9f3a"
             ],
             [
              0.8888888888888888,
              "#fdca26"
             ],
             [
              1,
              "#f0f921"
             ]
            ],
            "type": "heatmap"
           }
          ],
          "histogram": [
           {
            "marker": {
             "pattern": {
              "fillmode": "overlay",
              "size": 10,
              "solidity": 0.2
             }
            },
            "type": "histogram"
           }
          ],
          "histogram2d": [
           {
            "colorbar": {
             "outlinewidth": 0,
             "ticks": ""
            },
            "colorscale": [
             [
              0,
              "#0d0887"
             ],
             [
              0.1111111111111111,
              "#46039f"
             ],
             [
              0.2222222222222222,
              "#7201a8"
             ],
             [
              0.3333333333333333,
              "#9c179e"
             ],
             [
              0.4444444444444444,
              "#bd3786"
             ],
             [
              0.5555555555555556,
              "#d8576b"
             ],
             [
              0.6666666666666666,
              "#ed7953"
             ],
             [
              0.7777777777777778,
              "#fb9f3a"
             ],
             [
              0.8888888888888888,
              "#fdca26"
             ],
             [
              1,
              "#f0f921"
             ]
            ],
            "type": "histogram2d"
           }
          ],
          "histogram2dcontour": [
           {
            "colorbar": {
             "outlinewidth": 0,
             "ticks": ""
            },
            "colorscale": [
             [
              0,
              "#0d0887"
             ],
             [
              0.1111111111111111,
              "#46039f"
             ],
             [
              0.2222222222222222,
              "#7201a8"
             ],
             [
              0.3333333333333333,
              "#9c179e"
             ],
             [
              0.4444444444444444,
              "#bd3786"
             ],
             [
              0.5555555555555556,
              "#d8576b"
             ],
             [
              0.6666666666666666,
              "#ed7953"
             ],
             [
              0.7777777777777778,
              "#fb9f3a"
             ],
             [
              0.8888888888888888,
              "#fdca26"
             ],
             [
              1,
              "#f0f921"
             ]
            ],
            "type": "histogram2dcontour"
           }
          ],
          "mesh3d": [
           {
            "colorbar": {
             "outlinewidth": 0,
             "ticks": ""
            },
            "type": "mesh3d"
           }
          ],
          "parcoords": [
           {
            "line": {
             "colorbar": {
              "outlinewidth": 0,
              "ticks": ""
             }
            },
            "type": "parcoords"
           }
          ],
          "pie": [
           {
            "automargin": true,
            "type": "pie"
           }
          ],
          "scatter": [
           {
            "fillpattern": {
             "fillmode": "overlay",
             "size": 10,
             "solidity": 0.2
            },
            "type": "scatter"
           }
          ],
          "scatter3d": [
           {
            "line": {
             "colorbar": {
              "outlinewidth": 0,
              "ticks": ""
             }
            },
            "marker": {
             "colorbar": {
              "outlinewidth": 0,
              "ticks": ""
             }
            },
            "type": "scatter3d"
           }
          ],
          "scattercarpet": [
           {
            "marker": {
             "colorbar": {
              "outlinewidth": 0,
              "ticks": ""
             }
            },
            "type": "scattercarpet"
           }
          ],
          "scattergeo": [
           {
            "marker": {
             "colorbar": {
              "outlinewidth": 0,
              "ticks": ""
             }
            },
            "type": "scattergeo"
           }
          ],
          "scattergl": [
           {
            "marker": {
             "colorbar": {
              "outlinewidth": 0,
              "ticks": ""
             }
            },
            "type": "scattergl"
           }
          ],
          "scattermap": [
           {
            "marker": {
             "colorbar": {
              "outlinewidth": 0,
              "ticks": ""
             }
            },
            "type": "scattermap"
           }
          ],
          "scattermapbox": [
           {
            "marker": {
             "colorbar": {
              "outlinewidth": 0,
              "ticks": ""
             }
            },
            "type": "scattermapbox"
           }
          ],
          "scatterpolar": [
           {
            "marker": {
             "colorbar": {
              "outlinewidth": 0,
              "ticks": ""
             }
            },
            "type": "scatterpolar"
           }
          ],
          "scatterpolargl": [
           {
            "marker": {
             "colorbar": {
              "outlinewidth": 0,
              "ticks": ""
             }
            },
            "type": "scatterpolargl"
           }
          ],
          "scatterternary": [
           {
            "marker": {
             "colorbar": {
              "outlinewidth": 0,
              "ticks": ""
             }
            },
            "type": "scatterternary"
           }
          ],
          "surface": [
           {
            "colorbar": {
             "outlinewidth": 0,
             "ticks": ""
            },
            "colorscale": [
             [
              0,
              "#0d0887"
             ],
             [
              0.1111111111111111,
              "#46039f"
             ],
             [
              0.2222222222222222,
              "#7201a8"
             ],
             [
              0.3333333333333333,
              "#9c179e"
             ],
             [
              0.4444444444444444,
              "#bd3786"
             ],
             [
              0.5555555555555556,
              "#d8576b"
             ],
             [
              0.6666666666666666,
              "#ed7953"
             ],
             [
              0.7777777777777778,
              "#fb9f3a"
             ],
             [
              0.8888888888888888,
              "#fdca26"
             ],
             [
              1,
              "#f0f921"
             ]
            ],
            "type": "surface"
           }
          ],
          "table": [
           {
            "cells": {
             "fill": {
              "color": "#EBF0F8"
             },
             "line": {
              "color": "white"
             }
            },
            "header": {
             "fill": {
              "color": "#C8D4E3"
             },
             "line": {
              "color": "white"
             }
            },
            "type": "table"
           }
          ]
         },
         "layout": {
          "annotationdefaults": {
           "arrowcolor": "#2a3f5f",
           "arrowhead": 0,
           "arrowwidth": 1
          },
          "autotypenumbers": "strict",
          "coloraxis": {
           "colorbar": {
            "outlinewidth": 0,
            "ticks": ""
           }
          },
          "colorscale": {
           "diverging": [
            [
             0,
             "#8e0152"
            ],
            [
             0.1,
             "#c51b7d"
            ],
            [
             0.2,
             "#de77ae"
            ],
            [
             0.3,
             "#f1b6da"
            ],
            [
             0.4,
             "#fde0ef"
            ],
            [
             0.5,
             "#f7f7f7"
            ],
            [
             0.6,
             "#e6f5d0"
            ],
            [
             0.7,
             "#b8e186"
            ],
            [
             0.8,
             "#7fbc41"
            ],
            [
             0.9,
             "#4d9221"
            ],
            [
             1,
             "#276419"
            ]
           ],
           "sequential": [
            [
             0,
             "#0d0887"
            ],
            [
             0.1111111111111111,
             "#46039f"
            ],
            [
             0.2222222222222222,
             "#7201a8"
            ],
            [
             0.3333333333333333,
             "#9c179e"
            ],
            [
             0.4444444444444444,
             "#bd3786"
            ],
            [
             0.5555555555555556,
             "#d8576b"
            ],
            [
             0.6666666666666666,
             "#ed7953"
            ],
            [
             0.7777777777777778,
             "#fb9f3a"
            ],
            [
             0.8888888888888888,
             "#fdca26"
            ],
            [
             1,
             "#f0f921"
            ]
           ],
           "sequentialminus": [
            [
             0,
             "#0d0887"
            ],
            [
             0.1111111111111111,
             "#46039f"
            ],
            [
             0.2222222222222222,
             "#7201a8"
            ],
            [
             0.3333333333333333,
             "#9c179e"
            ],
            [
             0.4444444444444444,
             "#bd3786"
            ],
            [
             0.5555555555555556,
             "#d8576b"
            ],
            [
             0.6666666666666666,
             "#ed7953"
            ],
            [
             0.7777777777777778,
             "#fb9f3a"
            ],
            [
             0.8888888888888888,
             "#fdca26"
            ],
            [
             1,
             "#f0f921"
            ]
           ]
          },
          "colorway": [
           "#636efa",
           "#EF553B",
           "#00cc96",
           "#ab63fa",
           "#FFA15A",
           "#19d3f3",
           "#FF6692",
           "#B6E880",
           "#FF97FF",
           "#FECB52"
          ],
          "font": {
           "color": "#2a3f5f"
          },
          "geo": {
           "bgcolor": "white",
           "lakecolor": "white",
           "landcolor": "#E5ECF6",
           "showlakes": true,
           "showland": true,
           "subunitcolor": "white"
          },
          "hoverlabel": {
           "align": "left"
          },
          "hovermode": "closest",
          "mapbox": {
           "style": "light"
          },
          "paper_bgcolor": "white",
          "plot_bgcolor": "#E5ECF6",
          "polar": {
           "angularaxis": {
            "gridcolor": "white",
            "linecolor": "white",
            "ticks": ""
           },
           "bgcolor": "#E5ECF6",
           "radialaxis": {
            "gridcolor": "white",
            "linecolor": "white",
            "ticks": ""
           }
          },
          "scene": {
           "xaxis": {
            "backgroundcolor": "#E5ECF6",
            "gridcolor": "white",
            "gridwidth": 2,
            "linecolor": "white",
            "showbackground": true,
            "ticks": "",
            "zerolinecolor": "white"
           },
           "yaxis": {
            "backgroundcolor": "#E5ECF6",
            "gridcolor": "white",
            "gridwidth": 2,
            "linecolor": "white",
            "showbackground": true,
            "ticks": "",
            "zerolinecolor": "white"
           },
           "zaxis": {
            "backgroundcolor": "#E5ECF6",
            "gridcolor": "white",
            "gridwidth": 2,
            "linecolor": "white",
            "showbackground": true,
            "ticks": "",
            "zerolinecolor": "white"
           }
          },
          "shapedefaults": {
           "line": {
            "color": "#2a3f5f"
           }
          },
          "ternary": {
           "aaxis": {
            "gridcolor": "white",
            "linecolor": "white",
            "ticks": ""
           },
           "baxis": {
            "gridcolor": "white",
            "linecolor": "white",
            "ticks": ""
           },
           "bgcolor": "#E5ECF6",
           "caxis": {
            "gridcolor": "white",
            "linecolor": "white",
            "ticks": ""
           }
          },
          "title": {
           "x": 0.05
          },
          "xaxis": {
           "automargin": true,
           "gridcolor": "white",
           "linecolor": "white",
           "ticks": "",
           "title": {
            "standoff": 15
           },
           "zerolinecolor": "white",
           "zerolinewidth": 2
          },
          "yaxis": {
           "automargin": true,
           "gridcolor": "white",
           "linecolor": "white",
           "ticks": "",
           "title": {
            "standoff": 15
           },
           "zerolinecolor": "white",
           "zerolinewidth": 2
          }
         }
        },
        "width": 600
       }
      }
     },
     "metadata": {},
     "output_type": "display_data"
    }
   ],
   "source": [
    "res = jaxsne.sne(data, n_components=3, out_metric=jaxsne.metric.cosine)\n",
    "res = res / jnp.linalg.norm(res, 2, 1)[:, None]\n",
    "x, y, z = res.T\n",
    "px.scatter_3d(x=x, y=y, z=z, color=data_class).update_layout(\n",
    "    width=600,\n",
    "    height=600,\n",
    "    scene_xaxis_visible=False,\n",
    "    scene_yaxis_visible=False,\n",
    "    scene_zaxis_visible=False,\n",
    ")"
   ]
  },
  {
   "cell_type": "code",
   "execution_count": null,
   "metadata": {},
   "outputs": [],
   "source": []
  }
 ],
 "metadata": {
  "kernelspec": {
   "display_name": ".venv",
   "language": "python",
   "name": "python3"
  },
  "language_info": {
   "codemirror_mode": {
    "name": "ipython",
    "version": 3
   },
   "file_extension": ".py",
   "mimetype": "text/x-python",
   "name": "python",
   "nbconvert_exporter": "python",
   "pygments_lexer": "ipython3",
   "version": "3.13.1"
  }
 },
 "nbformat": 4,
 "nbformat_minor": 2
}
