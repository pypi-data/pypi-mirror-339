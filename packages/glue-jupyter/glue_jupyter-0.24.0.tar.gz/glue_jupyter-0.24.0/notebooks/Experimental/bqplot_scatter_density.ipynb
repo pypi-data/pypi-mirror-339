{
 "cells": [
  {
   "cell_type": "code",
   "execution_count": null,
   "id": "6f69d56f",
   "metadata": {},
   "outputs": [],
   "source": [
    "import numpy as np\n",
    "from bqplot import Figure, LinearScale, Axis, ColorScale\n",
    "from glue_jupyter.bqplot.scatter.scatter_density_mark import GenericDensityMark"
   ]
  },
  {
   "cell_type": "code",
   "execution_count": null,
   "id": "4b03805a",
   "metadata": {},
   "outputs": [],
   "source": [
    "N = 1_000_000\n",
    "x = np.random.normal(1, 0.1, N)\n",
    "y = np.random.normal(0, 0.2, N)"
   ]
  },
  {
   "cell_type": "code",
   "execution_count": null,
   "id": "77bb3c5e",
   "metadata": {},
   "outputs": [],
   "source": [
    "from fast_histogram import histogram2d\n",
    "\n",
    "def density1(bins=None, range=None):\n",
    "    return histogram2d(y, x, bins=bins, range=range)\n",
    "\n",
    "def density2(bins=None, range=None):\n",
    "    return histogram2d(y, x - 0.5, bins=bins, range=range)"
   ]
  },
  {
   "cell_type": "code",
   "execution_count": null,
   "id": "ae814ef8",
   "metadata": {},
   "outputs": [],
   "source": [
    "scale_x = LinearScale(min=0, max=1)\n",
    "scale_y = LinearScale(min=0, max=1)\n",
    "scales = {'x': scale_x,\n",
    "          'y': scale_y}\n",
    "axis_x = Axis(scale=scale_x, label='x')\n",
    "axis_y = Axis(scale=scale_y, label='y', orientation='vertical')\n",
    "\n",
    "figure = Figure(scales=scales, axes=[axis_x, axis_y])\n",
    "\n",
    "scales_image = {'x': scale_x,\n",
    "                'y': scale_y,\n",
    "                'image': ColorScale(min=0, max=1)}\n",
    "\n",
    "image1 = GenericDensityMark(figure=figure, histogram2d_func=density1, dpi=20, color='red')\n",
    "image2 = GenericDensityMark(figure=figure, histogram2d_func=density2, dpi=20, color='blue')\n",
    "\n",
    "figure.marks = (image1, image2)\n",
    "\n",
    "figure"
   ]
  },
  {
   "cell_type": "code",
   "execution_count": null,
   "id": "e080da1c",
   "metadata": {},
   "outputs": [],
   "source": [
    "from bqplot.interacts import PanZoom"
   ]
  },
  {
   "cell_type": "code",
   "execution_count": null,
   "id": "2e64271a",
   "metadata": {},
   "outputs": [],
   "source": [
    "pz = PanZoom(scales={'x': [figure.axes[0].scale], 'y': [figure.axes[1].scale]})"
   ]
  },
  {
   "cell_type": "code",
   "execution_count": null,
   "id": "c69c1efb",
   "metadata": {},
   "outputs": [],
   "source": [
    "figure.interaction = pz"
   ]
  }
 ],
 "metadata": {
  "kernelspec": {
   "display_name": "Python 3 (ipykernel)",
   "language": "python",
   "name": "python3"
  },
  "language_info": {
   "codemirror_mode": {
    "name": "ipython",
    "version": 3
   },
   "file_extension": ".py",
   "mimetype": "text/x-python",
   "name": "python",
   "nbconvert_exporter": "python",
   "pygments_lexer": "ipython3",
   "version": "3.11.4"
  }
 },
 "nbformat": 4,
 "nbformat_minor": 5
}
