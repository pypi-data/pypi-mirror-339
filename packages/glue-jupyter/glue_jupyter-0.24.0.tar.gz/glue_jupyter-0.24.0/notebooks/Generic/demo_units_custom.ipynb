{
 "cells": [
  {
   "cell_type": "markdown",
   "metadata": {},
   "source": [
    "This notebook demonstrates unit conversion in the profile viewer"
   ]
  },
  {
   "cell_type": "code",
   "execution_count": null,
   "metadata": {},
   "outputs": [],
   "source": [
    "import numpy as np\n",
    "from astropy.wcs import WCS\n",
    "import glue_jupyter as gj\n",
    "from glue.core import Data\n",
    "from glue.plugins.wcs_autolinking.wcs_autolinking import WCSLink"
   ]
  },
  {
   "cell_type": "markdown",
   "metadata": {},
   "source": [
    "Set up two datasets with x-axes that use different spectral coordinates (which get auto-converted because of the WCSLink) and y-axes that use different temperature units (just to show how to add custom equivalencies)"
   ]
  },
  {
   "cell_type": "code",
   "execution_count": null,
   "metadata": {},
   "outputs": [],
   "source": [
    "wcs1 = WCS(naxis=1)\n",
    "wcs1.wcs.ctype = ['WAVE']\n",
    "wcs1.wcs.crval = [10]\n",
    "wcs1.wcs.cdelt = [3]\n",
    "wcs1.wcs.crpix = [1]\n",
    "wcs1.wcs.cunit = ['cm']\n",
    "\n",
    "d1 = Data(temp1=np.random.random(10))\n",
    "d1.get_component('temp1').units = 'deg_C'\n",
    "d1.coords = wcs1"
   ]
  },
  {
   "cell_type": "code",
   "execution_count": null,
   "metadata": {},
   "outputs": [],
   "source": [
    "wcs1 = WCS(naxis=1)\n",
    "wcs1.wcs.ctype = ['FREQ']\n",
    "wcs1.wcs.crval = [1000]\n",
    "wcs1.wcs.cdelt = [1000]\n",
    "wcs1.wcs.crpix = [1]\n",
    "wcs1.wcs.cunit = ['MHz']\n",
    "\n",
    "d2 = Data(temp2=np.random.random(10) + 273)\n",
    "d2.get_component('temp2').units = 'K'\n",
    "d2.coords = wcs1"
   ]
  },
  {
   "cell_type": "markdown",
   "metadata": {},
   "source": [
    "Set up a custom unit conversion class with equivalencies:"
   ]
  },
  {
   "cell_type": "code",
   "execution_count": null,
   "metadata": {},
   "outputs": [],
   "source": [
    "from astropy import units as u\n",
    "from glue.core.units import unit_converter\n",
    "\n",
    "@unit_converter('custom-astropy')\n",
    "class UnitConverterWithTemperature:\n",
    "\n",
    "    def equivalent_units(self, data, cid, units):\n",
    "        equivalencies = u.temperature() if 'temp' in cid.label.lower() else None\n",
    "        return map(str, u.Unit(units).find_equivalent_units(include_prefix_units=True, equivalencies=equivalencies))\n",
    "\n",
    "    def to_unit(self, data, cid, values, original_units, target_units):\n",
    "        equivalencies = u.temperature() if 'temp' in cid.label.lower() else None\n",
    "        return (values * u.Unit(original_units)).to_value(target_units, equivalencies=equivalencies)"
   ]
  },
  {
   "cell_type": "markdown",
   "metadata": {},
   "source": [
    "Use the converter class defined above"
   ]
  },
  {
   "cell_type": "code",
   "execution_count": null,
   "metadata": {},
   "outputs": [],
   "source": [
    "from glue.config import settings\n",
    "settings.UNIT_CONVERTER = 'custom-astropy'"
   ]
  },
  {
   "cell_type": "code",
   "execution_count": null,
   "metadata": {},
   "outputs": [],
   "source": [
    "app = gj.jglue(spectrum1=d1, spectrum2=d2)"
   ]
  },
  {
   "cell_type": "code",
   "execution_count": null,
   "metadata": {},
   "outputs": [],
   "source": [
    "app.output"
   ]
  },
  {
   "cell_type": "code",
   "execution_count": null,
   "metadata": {},
   "outputs": [],
   "source": [
    "app.data_collection.add_link(WCSLink(d1, d2))"
   ]
  },
  {
   "cell_type": "code",
   "execution_count": null,
   "metadata": {},
   "outputs": [],
   "source": [
    "app.data_collection"
   ]
  },
  {
   "cell_type": "code",
   "execution_count": null,
   "metadata": {},
   "outputs": [],
   "source": [
    "s = app.profile1d(data=d1)\n",
    "s.add_data(d2)"
   ]
  },
  {
   "cell_type": "code",
   "execution_count": null,
   "metadata": {},
   "outputs": [],
   "source": [
    "s.state.x_display_unit = 'cm'\n",
    "s.state.y_display_unit = 'K'"
   ]
  }
 ],
 "metadata": {
  "kernelspec": {
   "display_name": "Python 3 (ipykernel)",
   "language": "python",
   "name": "python3"
  },
  "language_info": {
   "codemirror_mode": {
    "name": "ipython",
    "version": 3
   },
   "file_extension": ".py",
   "mimetype": "text/x-python",
   "name": "python",
   "nbconvert_exporter": "python",
   "pygments_lexer": "ipython3",
   "version": "3.11.1"
  }
 },
 "nbformat": 4,
 "nbformat_minor": 4
}
