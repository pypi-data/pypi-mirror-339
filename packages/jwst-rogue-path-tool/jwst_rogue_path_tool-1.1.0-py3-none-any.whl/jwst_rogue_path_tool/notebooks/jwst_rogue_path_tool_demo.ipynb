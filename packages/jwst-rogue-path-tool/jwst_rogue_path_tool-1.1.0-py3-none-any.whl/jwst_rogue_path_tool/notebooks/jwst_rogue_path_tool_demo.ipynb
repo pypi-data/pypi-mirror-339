{
 "cells": [
  {
   "cell_type": "markdown",
   "id": "3e916d4f-ffe0-4c07-8c7c-a122969bda36",
   "metadata": {},
   "source": [
    "# JWST Rogue Path Tool Example with Program "
   ]
  },
  {
   "cell_type": "markdown",
   "id": "bc3be642",
   "metadata": {},
   "source": [
    "## Imports"
   ]
  },
  {
   "cell_type": "code",
   "execution_count": null,
   "id": "83a873d2",
   "metadata": {},
   "outputs": [],
   "source": [
    "import numpy as np\n",
    "import pathlib\n",
    "\n",
    "from jwst_rogue_path_tool.program_data_parser import aptJsonFile\n",
    "from jwst_rogue_path_tool.detect_claws import aptProgram\n",
    "from jwst_rogue_path_tool.constants import PROJECT_DIRNAME\n",
    "\n",
    "HOMEDIR = pathlib.Path.home()"
   ]
  },
  {
   "cell_type": "markdown",
   "id": "92a54902",
   "metadata": {},
   "source": [
    "## Working with APT JSON Files\n",
    "Below we will show how to inspect APT JSON files using AptJSONFile"
   ]
  },
  {
   "cell_type": "code",
   "execution_count": null,
   "id": "674fd101-c199-4676-aab7-701ddfb59135",
   "metadata": {},
   "outputs": [],
   "source": [
    "aptJsonFile?"
   ]
  },
  {
   "cell_type": "markdown",
   "id": "6217a55f-8d3f-4b54-82ad-f843be7e67f2",
   "metadata": {},
   "source": [
    "### Opening APT JSON File and Displaying Table Names"
   ]
  },
  {
   "cell_type": "code",
   "execution_count": null,
   "id": "0e65901d",
   "metadata": {},
   "outputs": [],
   "source": [
    "apt_json_filename = pathlib.Path(PROJECT_DIRNAME) / \"data\" / \"APT_test_4RPtool.records.json\"\n",
    "\n",
    "# Parse the APT JSON file to obtain useful information for Claw Tool\n",
    "parsed_json = aptJsonFile(apt_json_filename)\n",
    "\n",
    "parsed_json.tablenames"
   ]
  },
  {
   "cell_type": "markdown",
   "id": "bdfc34a2-f3b5-43ec-b5d1-df5baa4130ca",
   "metadata": {},
   "source": [
    "### Selecting Table and Displaying Contents"
   ]
  },
  {
   "cell_type": "code",
   "execution_count": null,
   "id": "81019be2-e3d2-48df-abb8-a8c5209c1e3f",
   "metadata": {
    "scrolled": true
   },
   "outputs": [],
   "source": [
    "tablename = \"exposures\"\n",
    "parsed_json.data[tablename]  # This is a list of dictionaries"
   ]
  },
  {
   "cell_type": "markdown",
   "id": "77ab5c6c-31f3-427d-93e2-a4878427c44d",
   "metadata": {},
   "source": [
    "### Creating DataFrame of Table Contents\n",
    "\n",
    "In section 2.1 we displayed the contents of a table as a list of dictionaries. Here we make use of the `build_dataframe` to create a DataFrame to make the contents more legible and gives us access to all of the useful `pandas` methods and attributes"
   ]
  },
  {
   "cell_type": "code",
   "execution_count": null,
   "id": "64610226",
   "metadata": {
    "scrolled": true
   },
   "outputs": [],
   "source": [
    "exposures_df = parsed_json.build_dataframe(tablename)\n",
    "exposures_df  # this is a dataframe"
   ]
  },
  {
   "cell_type": "markdown",
   "id": "2d61f21e",
   "metadata": {},
   "source": [
    "## Creating a Program object with the JWST Rogue Path Tool with AptProgram Class\n",
    "\n",
    "The examples below showcase the difference use cases for the JWST Rogue Path Tool."
   ]
  },
  {
   "cell_type": "code",
   "execution_count": null,
   "id": "785daff9-a054-48b1-819a-fd201adc1301",
   "metadata": {
    "scrolled": true
   },
   "outputs": [],
   "source": [
    "aptProgram?"
   ]
  },
  {
   "cell_type": "markdown",
   "id": "49ff8c3d-c996-47e3-8222-467506216a56",
   "metadata": {},
   "source": [
    "### Cycle through all angles of attitude for a single observation of a program.\n",
    "\n",
    "The example below is taking the our APT JSON and stepping through each angle of attitude in one degree steps."
   ]
  },
  {
   "cell_type": "code",
   "execution_count": null,
   "id": "5a5242b3-4817-4541-8e57-6d4a4c851ad5",
   "metadata": {},
   "outputs": [],
   "source": [
    "program = aptProgram(apt_json_filename, angular_step=1.0)"
   ]
  },
  {
   "cell_type": "code",
   "execution_count": null,
   "id": "8ce49866-3bb8-4fac-bee2-83aabaf87699",
   "metadata": {
    "scrolled": true
   },
   "outputs": [],
   "source": [
    "program.run()"
   ]
  },
  {
   "cell_type": "code",
   "execution_count": null,
   "id": "e0e4258a-83c6-45ca-8d0e-0c0cdc1e8096",
   "metadata": {
    "scrolled": true
   },
   "outputs": [],
   "source": [
    "program.observations.data  # Show ALL observation data"
   ]
  },
  {
   "cell_type": "code",
   "execution_count": null,
   "id": "5e5ccb02-4a36-4d1d-85d7-5fe0484b00ec",
   "metadata": {},
   "outputs": [],
   "source": [
    "program.observations.supported_observations  # Only show the supported observations for JWST Rogue Path Tool\n",
    "program.observations.supported_observations.keys()  # Observation numbers to select data on."
   ]
  },
  {
   "cell_type": "code",
   "execution_count": null,
   "id": "d6a6f8e0-d9c8-4a44-80a8-11514650c8ed",
   "metadata": {},
   "outputs": [],
   "source": [
    "# Select a single observation of interest\n",
    "observation = program.observations.data[1]\n",
    "observation['exposure_frames'].data\n",
    "# show pandas df for single exposure frame"
   ]
  },
  {
   "cell_type": "markdown",
   "id": "5073645e-879c-48d5-9bff-d5d570213a4c",
   "metadata": {},
   "source": [
    "#### Show Valid Angle Ranges per Expsoure"
   ]
  },
  {
   "cell_type": "code",
   "execution_count": null,
   "id": "b1989436-251a-4b12-a612-3a5b86afccc4",
   "metadata": {},
   "outputs": [],
   "source": [
    "supported_observations = program.observations.supported_observations.keys()\n",
    "for obs_number in supported_observations:\n",
    "    program.plot_exposures(program.observations.data[obs_number])"
   ]
  },
  {
   "cell_type": "markdown",
   "id": "7ad96131-f5aa-48a7-a37e-720f5a1ced00",
   "metadata": {},
   "source": [
    "#### Show Valid Angles Ranges at Observation Level\n",
    "\n",
    "This will show valid angle ranges across all exposures in a single observation. If angles ranges are valid in one exposure but not in others, it will not be shown at this level."
   ]
  },
  {
   "cell_type": "code",
   "execution_count": null,
   "id": "a3483e33-2816-4921-9eb4-912b7a49c136",
   "metadata": {},
   "outputs": [],
   "source": [
    "supported_observations = program.observations.supported_observations.keys()\n",
    "for obs_number in supported_observations:\n",
    "    program.plot_observation(program.observations.data[obs_number])"
   ]
  },
  {
   "cell_type": "markdown",
   "id": "9d8f4b2d-c969-4e9b-b4ed-e5776184dbf6",
   "metadata": {},
   "source": [
    "### Plotting a Single Angle of Attitude in V2 & V3 Space\n",
    "\n",
    "The figure below shows what the tool is searching for when sweeping angles. Here for a single angle we show the V2 & V3 space of the targets in our source catalog as well as the susceptibility region. The intensity of targets that fall in this region are dependent on the location where of the target in the susceptibility region and the brightness of the target."
   ]
  },
  {
   "cell_type": "code",
   "execution_count": null,
   "id": "b4b4cda4-c003-4d9d-abf3-5758ba8e517c",
   "metadata": {},
   "outputs": [],
   "source": [
    "from jwst_rogue_path_tool.plotting import plot_fixed_angle_regions\n",
    "\n",
    "angles = np.arange(100, 106)\n",
    "\n",
    "for angle in angles:\n",
    "    plot_fixed_angle_regions(observation, angle)"
   ]
  },
  {
   "cell_type": "markdown",
   "id": "b647f76c-b6c1-42db-a518-9add1195efd4",
   "metadata": {},
   "source": [
    "### Plotting Flux as a Function of Attitude.\n",
    "\n",
    "Below we show the calculated flux as a function of attitude angle. This figure also ties in the [JWST Backgrounds Tool](https://github.com/spacetelescope/jwst_backgrounds) to calculate the background of the target JWST is observering described in the APT file. By default, we set the parameters for the backgrounds tool to calculate 10% of the minimum background value. You can set the function and percentage via a dictionary and pass it to the AptProgram class.\n",
    "~~~\n",
    "jbt_params = [{\"threshold\":0.1, function:np.min}, {\"threshold\":0.2, \"function\":np.mean}, ..... {\"threshold\":value, \"function\":stats_function}]\n",
    "\n",
    "AptProgram(apt_JSON_filename, angular_step=1.0, bkg_params=jbt_params)\n",
    "~~~"
   ]
  },
  {
   "cell_type": "code",
   "execution_count": null,
   "id": "758ff490-ea7c-40e6-9bca-5faa7f9b50e5",
   "metadata": {},
   "outputs": [],
   "source": [
    "from jwst_rogue_path_tool.plotting import create_v3pa_vs_flux_plot\n",
    "\n",
    "for obs_number in supported_observations:\n",
    "    create_v3pa_vs_flux_plot(program.observations.data[obs_number])"
   ]
  }
 ],
 "metadata": {
  "kernelspec": {
   "display_name": "jwst-rpt-3.12",
   "language": "python",
   "name": "jwst-rpt-3.12"
  },
  "language_info": {
   "codemirror_mode": {
    "name": "ipython",
    "version": 3
   },
   "file_extension": ".py",
   "mimetype": "text/x-python",
   "name": "python",
   "nbconvert_exporter": "python",
   "pygments_lexer": "ipython3",
   "version": "3.12.4"
  },
  "toc": {
   "base_numbering": 1,
   "nav_menu": {},
   "number_sections": true,
   "sideBar": true,
   "skip_h1_title": true,
   "title_cell": "Table of Contents",
   "title_sidebar": "Contents",
   "toc_cell": false,
   "toc_position": {
    "height": "calc(100% - 180px)",
    "left": "10px",
    "top": "150px",
    "width": "297.4px"
   },
   "toc_section_display": true,
   "toc_window_display": true
  }
 },
 "nbformat": 4,
 "nbformat_minor": 5
}
