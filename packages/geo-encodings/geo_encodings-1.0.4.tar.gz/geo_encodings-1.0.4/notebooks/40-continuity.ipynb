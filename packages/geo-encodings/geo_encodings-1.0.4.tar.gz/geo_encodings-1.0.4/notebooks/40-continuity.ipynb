{
 "cells": [
  {
   "cell_type": "markdown",
   "id": "559b2057-49f7-4aa2-9d4e-d4bd4eb0b364",
   "metadata": {},
   "source": [
    "# Continuity checks for encoding methods\n",
    "This notebook maakes some plots that check whether\n",
    "Discrete Indicator Vector (DIV) and Multi-Point Proximity (MPP) encodings exhibit \n",
    "\n",
    "continuity under shae transformations."
   ]
  },
  {
   "cell_type": "code",
   "execution_count": null,
   "id": "68d95957-0dd7-483c-85d3-9a56ac621a7f",
   "metadata": {},
   "outputs": [],
   "source": [
    "import numpy as np\n",
    "\n",
    "import shapely\n",
    "from shapely.ops import nearest_points\n",
    "\n",
    "import plotly\n",
    "from plotly.subplots import make_subplots\n",
    "from plotly.graph_objects import Scatter\n",
    "\n",
    "from geo_encodings import MPPEncoder\n",
    "from geo_encodings import DIVEncoder\n",
    "from geo_encodings import draw_shape"
   ]
  },
  {
   "cell_type": "markdown",
   "id": "603481a1-03b4-46d5-bc9c-ed2278ecb830",
   "metadata": {},
   "source": [
    "## Define DIV and MPP encoders"
   ]
  },
  {
   "cell_type": "code",
   "execution_count": null,
   "id": "060d3df2-2012-4dce-8d5e-9364111afcdb",
   "metadata": {},
   "outputs": [],
   "source": [
    "# Use the same region and resolution definitions for both encoders.\n",
    "x0, y0 = 0, 0\n",
    "x1, y1 = 100, 100\n",
    "resolution = 25\n",
    "\n",
    "# DIV encoder\n",
    "div_encoder = DIVEncoder([x0, y0, x1, y1], resolution)\n",
    "print('DIV encoder: %d tiles' % len(div_encoder))\n",
    "\n",
    "# MPP encoder\n",
    "mpp_encoder = MPPEncoder([x0, y0, x1, y1], resolution, center=True)\n",
    "print('MPP encoder: %d reference points' % len(mpp_encoder))\n"
   ]
  },
  {
   "cell_type": "markdown",
   "id": "5508ce5b-8699-4340-8c94-a8f3905abeec",
   "metadata": {},
   "source": [
    "## Move a point across the region and compute its encodings"
   ]
  },
  {
   "cell_type": "code",
   "execution_count": null,
   "id": "dee425b9-2db1-4253-a5ee-e56863c3dd08",
   "metadata": {},
   "outputs": [],
   "source": [
    "div_encodings = []\n",
    "mpp_encodings = []\n",
    "\n",
    "# Define a kind of squiggly trajectory along which we will move a point.\n",
    "n_positions = 30\n",
    "point_x = np.linspace(10, 90, n_positions)\n",
    "point_y = np.linspace(13, 85, n_positions) + 20 * np.sin(np.arange(n_positions) / n_positions * 6.28)\n",
    "\n",
    "# Get encodings for each point along that trajectory.\n",
    "for point_coords in list(zip(point_x, point_y)):\n",
    "    p = shapely.Point(point_coords[0], point_coords[1])\n",
    "    div_encodings.append(div_encoder.encode(p).values())\n",
    "    mpp_encodings.append(mpp_encoder.encode(p).values())\n"
   ]
  },
  {
   "cell_type": "code",
   "execution_count": null,
   "id": "c320ac95-730d-4e87-9d8e-70f64f6b6b96",
   "metadata": {},
   "outputs": [],
   "source": [
    "fig = make_subplots(1, 3, subplot_titles=['Trajectory', 'DIV Encoding', 'MPP Encoding'])\n",
    "\n",
    "position_index = np.arange(n_positions)\n",
    "\n",
    "# Draw the trajectory for the point.\n",
    "trace = Scatter(x=point_x, y=point_y, mode='markers+lines',\n",
    "                marker={'color': 'black'}, showlegend=False)\n",
    "fig.append_trace(trace, 1, 1)\n",
    "fig['layout']['xaxis1']['title'] = 'x coordinate'\n",
    "fig['layout']['yaxis1']['title'] = 'y coordinate'\n",
    "\n",
    "\n",
    "n_elements = len(div_encoder)\n",
    "for i in range(n_elements):\n",
    "    element_values = [encoding[i] for encoding in div_encodings]\n",
    "    trace = Scatter(x=position_index, y=element_values, name='element %d' % i, \n",
    "                    mode='markers+lines', showlegend=False)\n",
    "    fig.append_trace(trace, 1, 2)\n",
    "fig['layout']['xaxis2']['title'] = 'position along trajectory'\n",
    "fig['layout']['yaxis2']['title'] = 'encoding elements'\n",
    "\n",
    "n_elements = len(mpp_encoder)\n",
    "for i in range(n_elements):\n",
    "    element_values = [encoding[i] for encoding in mpp_encodings]\n",
    "    trace = Scatter(x=position_index, y=element_values, name='element %d' % i, \n",
    "                    mode='markers+lines', showlegend=False)\n",
    "    fig.append_trace(trace, 1, 3)\n",
    "fig['layout']['xaxis3']['title'] = 'position along trajectory'\n",
    "fig['layout']['yaxis3']['title'] = 'encoding elements'\n",
    "\n",
    "fig['layout']['width'] = 1000\n",
    "fig['layout']['height'] = 350\n",
    "fig.show()\n"
   ]
  },
  {
   "cell_type": "markdown",
   "id": "33e349cf-a45e-463a-97a9-d69196e27565",
   "metadata": {},
   "source": [
    "## Nearest point jumps and continuity\n",
    "If a shape moves by a small amount, it is possible that the closest point to a reference point \n",
    "will change. But that will NOT cause a large jump in the value of the encoding, since the\n",
    "\"jump\" occurs at a point when the distances to the respective closest points are equal.\n",
    "Herre I'm making a conmtrioved example to illustrate this point."
   ]
  },
  {
   "cell_type": "code",
   "execution_count": null,
   "id": "c44d26a2-c2bf-4840-af8e-419f47199f8d",
   "metadata": {},
   "outputs": [],
   "source": [
    "x0, y0, x1, y1 = 0, 0, 100, 100\n",
    "resolution = 50\n",
    "encoder = MPPEncoder([x0, y0, x1, y1], resolution, center=True)"
   ]
  },
  {
   "cell_type": "code",
   "execution_count": null,
   "id": "bf30e581-4cf4-4acd-8215-c9c723e707c5",
   "metadata": {},
   "outputs": [],
   "source": [
    "g1 = shapely.wkt.loads('LINESTRING(5 40, 25 10, 45 41, 85 65)')\n",
    "g2 = shapely.affinity.translate(g1, xoff=0.2)\n"
   ]
  },
  {
   "cell_type": "code",
   "execution_count": null,
   "id": "b56357f9-f391-44bb-8dbe-a2387121fa77",
   "metadata": {},
   "outputs": [],
   "source": [
    "e1 = encoder.encode(g1).values()\n",
    "print('encoding 1:', np.round(e1, 4))\n",
    "\n",
    "e2 = encoder.encode(g2).values()\n",
    "print('encoding 2:', np.round(e2, 4))\n"
   ]
  },
  {
   "cell_type": "code",
   "execution_count": null,
   "id": "702e87bb-c497-40f3-b8aa-ee5b5f8433f4",
   "metadata": {},
   "outputs": [],
   "source": [
    "def plot1(g, irow, icol):\n",
    "    trace = Scatter(\n",
    "        x=encoder.ref_x, y=encoder.ref_y, name='reference points', \n",
    "        mode='markers', marker={'color': 'blue', 'size': 8}\n",
    "    )\n",
    "    fig.append_trace(trace, irow, icol)\n",
    "\n",
    "    xx = []\n",
    "    yy = []\n",
    "    for rp in encoder.ref_points:\n",
    "        p = nearest_points(g, rp)[0]\n",
    "        connector_x = [p.xy[0][0], rp.xy[0][0]]\n",
    "        connector_y = [p.xy[1][0], rp.xy[1][0]]\n",
    "        xx = xx + connector_x + [None]\n",
    "        yy = yy + connector_y + [None]\n",
    "    trace = Scatter(\n",
    "        x=xx, y=yy, name='distances',\n",
    "        mode='lines', line={'dash': 'solid', 'color': 'gray'}\n",
    "    )\n",
    "    fig.append_trace(trace, irow, icol)\n",
    "\n",
    "    draw_shape(g, fig, irow, icol)\n",
    "    fig['layout']['xaxis%d'%icol]['range'] = [0, 100]\n",
    "    fig['layout']['yaxis%d'%icol]['range'] = [0, 100]\n",
    "\n",
    "\n",
    "\n",
    "fig = make_subplots(1, 2, subplot_titles=['original shape', 'shifted by 0.2'])\n",
    "plot1(g1, 1, 1)\n",
    "plot1(g2, 1, 2)\n",
    "\n",
    "fig['layout']['width'] = 790\n",
    "fig['layout']['height'] = 400\n",
    "\n",
    "fig.show()"
   ]
  },
  {
   "cell_type": "code",
   "execution_count": null,
   "id": "b6590fc9-dae9-4a0b-a810-7eb0f590190b",
   "metadata": {},
   "outputs": [],
   "source": []
  },
  {
   "cell_type": "code",
   "execution_count": null,
   "id": "39ff78c0-f148-4d08-8dce-cdb0a55f4585",
   "metadata": {},
   "outputs": [],
   "source": []
  },
  {
   "cell_type": "code",
   "execution_count": null,
   "id": "c1eeb49e-1daa-4d98-9997-7c98a35d5703",
   "metadata": {},
   "outputs": [],
   "source": []
  }
 ],
 "metadata": {
  "kernelspec": {
   "display_name": "Python 3 (ipykernel)",
   "language": "python",
   "name": "python3"
  },
  "language_info": {
   "codemirror_mode": {
    "name": "ipython",
    "version": 3
   },
   "file_extension": ".py",
   "mimetype": "text/x-python",
   "name": "python",
   "nbconvert_exporter": "python",
   "pygments_lexer": "ipython3",
   "version": "3.12.4"
  }
 },
 "nbformat": 4,
 "nbformat_minor": 5
}
