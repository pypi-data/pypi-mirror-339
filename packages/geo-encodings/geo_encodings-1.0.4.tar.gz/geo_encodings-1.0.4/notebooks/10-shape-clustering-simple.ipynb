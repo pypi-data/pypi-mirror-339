{
 "cells": [
  {
   "cell_type": "markdown",
   "id": "90f90056-b0aa-4602-85c2-d484cd65fd37",
   "metadata": {},
   "source": [
    "# Shape clustering using multi-point proximity embedding (MPPE)\n",
    "\n",
    "This notebook gives an example of how MPPE can be used to cluster\n",
    "a set of overlapping geometric objects based on their spatial similarity. "
   ]
  },
  {
   "cell_type": "markdown",
   "id": "315247ed-e094-4f98-83a7-2ddd568faa29",
   "metadata": {},
   "source": [
    "## Package setup"
   ]
  },
  {
   "cell_type": "code",
   "execution_count": null,
   "id": "b75f53cf-dc91-4a68-aa27-4d069846359f",
   "metadata": {},
   "outputs": [],
   "source": [
    "from geo_encodings.encoders import MPPEncoder"
   ]
  },
  {
   "cell_type": "markdown",
   "id": "ac23c7f2-ca8e-4c25-8ed0-89e119356eda",
   "metadata": {},
   "source": [
    "## Setup"
   ]
  },
  {
   "cell_type": "code",
   "execution_count": null,
   "id": "653a7e8a-d918-4f77-bb4f-628a9fee9fbe",
   "metadata": {},
   "outputs": [],
   "source": [
    "import pandas as pd\n",
    "import numpy as np\n",
    "from scipy.sparse import csr_array\n",
    "from sklearn.cluster import DBSCAN\n",
    "import shapely\n",
    "import shapely.wkt\n",
    "import plotly\n",
    "import plotly.subplots\n",
    "from plotly.graph_objs import Scatter, Figure\n",
    "\n",
    "from geo_encodings import MPPEncoder\n"
   ]
  },
  {
   "cell_type": "markdown",
   "id": "a6d3f9d6-6ca3-40b7-a20b-ed5dd937451a",
   "metadata": {},
   "source": [
    "## Create an embedding for a domain"
   ]
  },
  {
   "cell_type": "code",
   "execution_count": null,
   "id": "b02df972-0115-41c4-8b57-2e139fb3513f",
   "metadata": {},
   "outputs": [],
   "source": [
    "x0, y0 = 0, 0\n",
    "x1, y1 = 100, 100\n",
    "resolution = 20\n",
    "scale = 20\n",
    "encoder = MPPEncoder(region=[x0, y0, x1, y1], resolution=resolution, scale=scale, center=True)\n",
    "print('%d reference points in encoder' % len(encoder))"
   ]
  },
  {
   "cell_type": "markdown",
   "id": "fb6509e1-70c9-4cd2-8826-cbee0a721084",
   "metadata": {},
   "source": [
    "## Create a few line segments\n",
    "Each line will pass through the center of our domain, at a certain angle. \n",
    "Segments will be one of a couple of different lengths."
   ]
  },
  {
   "cell_type": "code",
   "execution_count": null,
   "id": "98fea989-3a34-45c1-b9f9-85d38b65407d",
   "metadata": {},
   "outputs": [],
   "source": [
    "cx = (x1 - x0) / 2\n",
    "cy = (y1 - y0) / 2\n",
    "\n",
    "line_length = (x1 - x0) * 0.2\n",
    "angles = [10, 15, 20, 100, 105, 110]\n",
    "radii = [40, 20, 20, 40, 40, 40]\n",
    "things = []\n",
    "\n",
    "for angle, radius in list(zip(angles, radii)):\n",
    "    theta = np.radians(angle)\n",
    "    xx0 = cx + radius * np.cos(theta)\n",
    "    yy0 = cy + radius * np.sin(theta)\n",
    "    xx1 = cx - radius * np.cos(theta)\n",
    "    yy1 = cy - radius * np.sin(theta)\n",
    "    wkt = 'LINESTRING(%f %f, %f %f)' % (xx0, yy0, xx1, yy1)\n",
    "    thing = {\n",
    "        'xx': np.array([xx0, xx1]),\n",
    "        'yy': np.array([yy0, yy1]),\n",
    "        'geom': shapely.wkt.loads(wkt)\n",
    "    }\n",
    "    things.append(thing)\n",
    "    print(thing)\n",
    "    "
   ]
  },
  {
   "cell_type": "code",
   "execution_count": null,
   "id": "682924a4-b1e3-4557-afbe-fef78a2a80a8",
   "metadata": {},
   "outputs": [],
   "source": [
    "# Draw the lines that we just created.\n",
    "\n",
    "fig = plotly.subplots.make_subplots(1, 1)\n",
    "\n",
    "tr = Scatter(\n",
    "    x=encoder.ref_x, y=encoder.ref_y, mode='markers', name='ref points',\n",
    "    marker_symbol='cross-thin-open', marker_color='grey'\n",
    ")\n",
    "fig.append_trace(tr, 1, 1)\n",
    "             \n",
    "for k, thing in enumerate(things):\n",
    "    show = k == 0\n",
    "    tr = Scatter(\n",
    "        x=thing['xx'], y=thing['yy'], \n",
    "        mode='lines', marker={'color': 'black'},\n",
    "        name='shapes', legendgroup='shapes', showlegend=show\n",
    "    )\n",
    "    fig.append_trace(tr, 1, 1)\n",
    "    \n",
    "fig['layout']['width'] = 500\n",
    "fig['layout']['height'] = 480\n",
    "fig['layout']['xaxis1']['title'] = 'x-coordinate'\n",
    "fig['layout']['yaxis1']['title'] = 'y-coordinate'\n",
    "fig['layout']['xaxis1']['range'] = [0, 100]\n",
    "fig['layout']['yaxis1']['range'] = [0, 100]\n",
    "\n",
    "fig"
   ]
  },
  {
   "cell_type": "markdown",
   "id": "9698a9d3-cd39-4266-93f7-0298d91b9b2d",
   "metadata": {},
   "source": [
    "## Cluster the lines based on their encodings"
   ]
  },
  {
   "cell_type": "code",
   "execution_count": null,
   "id": "dc67169b-e611-49b3-b4c1-01c537dd9825",
   "metadata": {},
   "outputs": [],
   "source": [
    "# Make a data matrix consisting of the encodings of the lines.\n",
    "xx = np.vstack([\n",
    "    encoder.encode(z['geom']).values()\n",
    "    for z in things\n",
    "])\n",
    "\n",
    "# Do a DBSCAN clustering.\n",
    "model = DBSCAN(eps=0.5, min_samples=1)\n",
    "model.fit(xx)\n",
    "print('cluster labels:', model.labels_)\n"
   ]
  },
  {
   "cell_type": "code",
   "execution_count": null,
   "id": "311f9c88-0ba1-47e3-91a9-6c05c637438a",
   "metadata": {},
   "outputs": [],
   "source": [
    "# Plot the lines colored by cluster.\n",
    "\n",
    "colors = ['red', 'blue', 'green']\n",
    "fig = plotly.subplots.make_subplots(1, 1)\n",
    "\n",
    "tr = Scatter(\n",
    "    x=encoder.ref_x, y=encoder.ref_y, mode='markers', name='ref points',\n",
    "    marker_symbol='cross-thin-open', marker_color='grey'\n",
    ")\n",
    "fig.append_trace(tr, 1, 1)\n",
    "\n",
    "already_seen = set()\n",
    "for label, thing in list(zip(model.labels_, things)):\n",
    "    show = label not in already_seen\n",
    "    already_seen.add(label)\n",
    "    tr = Scatter(\n",
    "        x=thing['xx'], y=thing['yy'], name='cluster %d' % (label+1),\n",
    "        mode='markers+lines', marker={'color': colors[label]},\n",
    "        showlegend=show\n",
    "    )\n",
    "    fig.append_trace(tr, 1, 1)\n",
    "    \n",
    "fig['layout']['width'] = 500\n",
    "fig['layout']['height'] = 480\n",
    "fig['layout']['xaxis1']['title'] = 'x-coordinate'\n",
    "fig['layout']['yaxis1']['title'] = 'y-coordinate'\n",
    "fig['layout']['xaxis1']['range'] = [0, 100]\n",
    "fig['layout']['yaxis1']['range'] = [0, 100]\n",
    "\n",
    "fig"
   ]
  },
  {
   "cell_type": "code",
   "execution_count": null,
   "id": "f7412f2a-c24b-4f14-abb4-69d8038f616b",
   "metadata": {},
   "outputs": [],
   "source": []
  }
 ],
 "metadata": {
  "kernelspec": {
   "display_name": "Python 3 (ipykernel)",
   "language": "python",
   "name": "python3"
  },
  "language_info": {
   "codemirror_mode": {
    "name": "ipython",
    "version": 3
   },
   "file_extension": ".py",
   "mimetype": "text/x-python",
   "name": "python",
   "nbconvert_exporter": "python",
   "pygments_lexer": "ipython3",
   "version": "3.12.4"
  }
 },
 "nbformat": 4,
 "nbformat_minor": 5
}
