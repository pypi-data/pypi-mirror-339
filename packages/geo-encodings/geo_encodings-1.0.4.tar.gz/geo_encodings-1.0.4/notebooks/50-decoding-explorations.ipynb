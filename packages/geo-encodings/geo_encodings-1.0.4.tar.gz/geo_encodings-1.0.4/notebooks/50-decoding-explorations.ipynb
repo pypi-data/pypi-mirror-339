{
 "cells": [
  {
   "cell_type": "markdown",
   "id": "90f90056-b0aa-4602-85c2-d484cd65fd37",
   "metadata": {},
   "source": [
    "# Decoding MPP encodings\n",
    "In this notebook I am looking into the feasibility of \n",
    "decoding a MPP encoding. "
   ]
  },
  {
   "cell_type": "markdown",
   "id": "ac23c7f2-ca8e-4c25-8ed0-89e119356eda",
   "metadata": {},
   "source": [
    "## Setup"
   ]
  },
  {
   "cell_type": "code",
   "execution_count": null,
   "id": "653a7e8a-d918-4f77-bb4f-628a9fee9fbe",
   "metadata": {},
   "outputs": [],
   "source": [
    "import pandas as pd\n",
    "import numpy as np\n",
    "import scipy\n",
    "from scipy.sparse import csr_array\n",
    "from sklearn.cluster import DBSCAN\n",
    "import shapely\n",
    "import shapely.wkt\n",
    "import plotly\n",
    "import plotly.subplots\n",
    "from plotly.graph_objs import Scatter, Figure\n",
    "\n",
    "from geo_encodings import MPPEncoder\n",
    "from geo_encodings import draw_shape"
   ]
  },
  {
   "cell_type": "markdown",
   "id": "a6d3f9d6-6ca3-40b7-a20b-ed5dd937451a",
   "metadata": {},
   "source": [
    "## Create an embedding for a region"
   ]
  },
  {
   "cell_type": "code",
   "execution_count": null,
   "id": "b02df972-0115-41c4-8b57-2e139fb3513f",
   "metadata": {},
   "outputs": [],
   "source": [
    "x0, y0 = 0, 0\n",
    "x1, y1 = 400, 300\n",
    "resolution = 50\n",
    "scale = 50\n",
    "encoder = MPPEncoder(region=[x0, y0, x1, y1], resolution=resolution, scale=scale, center=True)\n",
    "print('%d reference points in encoder' % len(encoder))"
   ]
  },
  {
   "cell_type": "markdown",
   "id": "fb6509e1-70c9-4cd2-8826-cbee0a721084",
   "metadata": {},
   "source": [
    "## Create geometries"
   ]
  },
  {
   "cell_type": "code",
   "execution_count": null,
   "id": "98fea989-3a34-45c1-b9f9-85d38b65407d",
   "metadata": {},
   "outputs": [],
   "source": [
    "# geom = shapely.wkt.loads('POINT(287 122)')\n",
    "# geom = shapely.wkt.loads('LINESTRING(40 70, 160 110, 213 190, 285 205)')\n",
    "# geom = shapely.wkt.loads('POLYGON((70 20, 210 105, 127 240, 70 20))')\n",
    "# geom = shapely.wkt.loads('MULTIPOINT(287 122, 113 207)')\n",
    "geom = shapely.wkt.loads('MULTILINESTRING((40 70, 160 110, 213 190, 285 205), (220 140, 305 110, 345 30))')\n",
    "# geom = shapely.wkt.loads('MULTIPOLYGON(((70 20, 210 105, 127 240, 70 20)), ((260 225, 270 170, 330 95, 335 185, 260 225)))')\n"
   ]
  },
  {
   "cell_type": "code",
   "execution_count": null,
   "id": "c2274cba-61e3-4eba-997d-c5e9773ca66e",
   "metadata": {},
   "outputs": [],
   "source": [
    "enc = encoder.encode(geom)\n",
    "e = enc.values()\n",
    "distances = -np.log(e) * encoder.scale"
   ]
  },
  {
   "cell_type": "code",
   "execution_count": null,
   "id": "e3b21dda-17c3-4468-8e5c-7398b353b7d6",
   "metadata": {},
   "outputs": [],
   "source": [
    "def circle_xy(x0, y0, radius):\n",
    "    tt = np.linspace(0, 2.0 * 3.14159)\n",
    "    xx = x0 + radius * np.cos(tt)\n",
    "    yy = y0 + radius * np.sin(tt)\n",
    "    return xx, yy"
   ]
  },
  {
   "cell_type": "code",
   "execution_count": null,
   "id": "ca9b6dde-db47-4219-820b-3ab2eff252f3",
   "metadata": {},
   "outputs": [],
   "source": [
    "fig = plotly.subplots.make_subplots(1, 2)\n",
    "\n",
    "# ==============\n",
    "trace = Scatter(\n",
    "    x=encoder.ref_x, y=encoder.ref_y, name='reference points', \n",
    "    mode='markers', marker={'color': 'gray', 'size': 5, 'symbol': 'cross'}\n",
    ")\n",
    "fig.append_trace(trace, 1, 1)\n",
    "draw_shape(geom, fig, 1, 1, linewidth=2)\n",
    "fig['layout']['xaxis1']['range'] = [0, 400]\n",
    "fig['layout']['yaxis1']['range'] = [0, 300]\n",
    "\n",
    "\n",
    "# ==============\n",
    "# Draw the circular \"exclusion zones\" around each reference point.\n",
    "for i in range(len(encoder)):\n",
    "    circle_x, circle_y = circle_xy(encoder.ref_x[i], encoder.ref_y[i], distances[i])\n",
    "    trace = Scatter(\n",
    "        x=circle_x, y=circle_y, name='polygon', \n",
    "        mode='lines', marker={'color': 'red'}, \n",
    "        fill='toself', fillcolor = 'rgba(255, 0, 0, 0.1)',\n",
    "        line={'width': 1}\n",
    "    )\n",
    "    fig.append_trace(trace, 1, 2)\n",
    "\n",
    "trace = Scatter(\n",
    "    x=encoder.ref_x, y=encoder.ref_y, name='reference points', \n",
    "    mode='markers', marker={'color': 'gray', 'size': 5, 'symbol': 'cross'}\n",
    ")\n",
    "fig.append_trace(trace, 1, 2)\n",
    "draw_shape(geom, fig, 1, 2, linewidth=2)\n",
    "\n",
    "fig['layout']['width'] = 950\n",
    "fig['layout']['height'] = 400\n",
    "fig['layout']['xaxis2']['range'] = [0, 400]\n",
    "fig['layout']['yaxis2']['range'] = [0, 300]\n",
    "\n",
    "fig"
   ]
  },
  {
   "cell_type": "code",
   "execution_count": null,
   "id": "dae1fc94-6a1e-40fe-99b6-a8e15e491a39",
   "metadata": {},
   "outputs": [],
   "source": []
  },
  {
   "cell_type": "code",
   "execution_count": null,
   "id": "e9f847ba-4a23-4a5c-bf45-5469f63cdc2c",
   "metadata": {},
   "outputs": [],
   "source": []
  }
 ],
 "metadata": {
  "kernelspec": {
   "display_name": "Python 3 (ipykernel)",
   "language": "python",
   "name": "python3"
  },
  "language_info": {
   "codemirror_mode": {
    "name": "ipython",
    "version": 3
   },
   "file_extension": ".py",
   "mimetype": "text/x-python",
   "name": "python",
   "nbconvert_exporter": "python",
   "pygments_lexer": "ipython3",
   "version": "3.12.4"
  }
 },
 "nbformat": 4,
 "nbformat_minor": 5
}
