{
 "cells": [
  {
   "cell_type": "markdown",
   "id": "90f90056-b0aa-4602-85c2-d484cd65fd37",
   "metadata": {},
   "source": [
    "# Spatial coincidence assessed by MPP encodings"
   ]
  },
  {
   "cell_type": "markdown",
   "id": "315247ed-e094-4f98-83a7-2ddd568faa29",
   "metadata": {},
   "source": [
    "## Package setup"
   ]
  },
  {
   "cell_type": "code",
   "execution_count": null,
   "id": "86f50299-96dc-4d53-8c04-a1b6d296a9d4",
   "metadata": {},
   "outputs": [],
   "source": [
    "import numpy as np\n",
    "import scipy\n",
    "from geo_encodings import MPPEncoder\n",
    "from geo_encodings import draw_shape"
   ]
  },
  {
   "cell_type": "markdown",
   "id": "ac23c7f2-ca8e-4c25-8ed0-89e119356eda",
   "metadata": {},
   "source": [
    "## Setup"
   ]
  },
  {
   "cell_type": "code",
   "execution_count": null,
   "id": "653a7e8a-d918-4f77-bb4f-628a9fee9fbe",
   "metadata": {},
   "outputs": [],
   "source": [
    "import pandas as pd\n",
    "import numpy as np\n",
    "from scipy.sparse import csr_array\n",
    "from sklearn.cluster import DBSCAN\n",
    "import shapely\n",
    "import shapely.wkt\n",
    "import plotly\n",
    "import plotly.subplots\n",
    "from plotly.graph_objs import Scatter, Figure"
   ]
  },
  {
   "cell_type": "markdown",
   "id": "a6d3f9d6-6ca3-40b7-a20b-ed5dd937451a",
   "metadata": {},
   "source": [
    "## Create an embedding for a region"
   ]
  },
  {
   "cell_type": "code",
   "execution_count": null,
   "id": "b02df972-0115-41c4-8b57-2e139fb3513f",
   "metadata": {},
   "outputs": [],
   "source": [
    "x0, y0 = 0, 0\n",
    "x1, y1 = 100, 100\n",
    "resolution = 10\n",
    "scale = 10\n",
    "encoder = MPPEncoder(region=[x0, y0, x1, y1], resolution=resolution, scale=scale, center=True)\n",
    "print('%d reference points in encoder' % len(encoder))"
   ]
  },
  {
   "cell_type": "markdown",
   "id": "fb6509e1-70c9-4cd2-8826-cbee0a721084",
   "metadata": {},
   "source": [
    "## Create geometries"
   ]
  },
  {
   "cell_type": "code",
   "execution_count": null,
   "id": "98fea989-3a34-45c1-b9f9-85d38b65407d",
   "metadata": {},
   "outputs": [],
   "source": [
    "# Create two LineString objects.\n",
    "xx = [10, 20, 35, 77, 90]\n",
    "yy = [10, 25, 42, 67, 80]\n",
    "xy = ', '.join(['%.1f %.1f' % (z) for z in list(zip(xx, yy))])\n",
    "wkt = 'LINESTRING(%s)' % xy\n",
    "ls1 = shapely.from_wkt(wkt)\n",
    "\n",
    "xx = [15, 29, 46, 77, 85]\n",
    "yy = [92, 73, 55, 29, 17]\n",
    "xy = ', '.join(['%.1f %.1f' % (z) for z in list(zip(xx, yy))])\n",
    "wkt = 'LINESTRING(%s)' % xy\n",
    "ls2 = shapely.from_wkt(wkt)\n",
    "\n",
    "ls1, ls2"
   ]
  },
  {
   "cell_type": "code",
   "execution_count": null,
   "id": "ebaa597a-0b88-4de3-a6fb-de6053797d16",
   "metadata": {},
   "outputs": [],
   "source": [
    "# For each linestring, generate multipoints in its general vicinity.\n",
    "# We interpolate points along the length of the linestring, and add some \n",
    "# random deviation from each. This gives us points that generally follow the\n",
    "# linestring but which contain some noise.\n",
    "\n",
    "from scipy.interpolate import interp1d\n",
    "\n",
    "def generate_multipoint(geom, n=20):\n",
    "    points = []\n",
    "    for d in np.linspace(0, geom.length, n):\n",
    "        p = shapely.line_interpolate_point(geom, d)\n",
    "        dx = (np.random.random() - 0.5) * 40\n",
    "        dy = (np.random.random() - 0.5) * 40\n",
    "        points.append(shapely.affinity.translate(p, xoff=dx, yoff=dy))\n",
    "    mp = shapely.MultiPoint(points)\n",
    "    return mp\n",
    "\n",
    "mp1 = generate_multipoint(ls1, 20)\n",
    "mp2 = generate_multipoint(ls2, 25)\n"
   ]
  },
  {
   "cell_type": "code",
   "execution_count": null,
   "id": "bc7bd089-9f61-4c18-95a3-291b8034b8fe",
   "metadata": {},
   "outputs": [],
   "source": [
    "def draw_linestring(geom, color='gray', name='linestring'):\n",
    "    coords = geom.coords\n",
    "    xx = [z[0] for z in coords]\n",
    "    yy = [z[1] for z in coords]\n",
    "    trace = Scatter(\n",
    "        x=xx, y=yy, name=name, \n",
    "        mode='lines', marker={'color': color, 'size': 12}, line={'width': 4}\n",
    "    )\n",
    "    return trace\n",
    "\n",
    "def draw_multipoint(geom, color='gray', name='multipoint', symbol='circle'):\n",
    "    xx = [z.xy[0][0] for z in geom.geoms]\n",
    "    yy = [z.xy[1][0] for z in geom.geoms]\n",
    "    trace = Scatter(\n",
    "        x=xx, y=yy, name=name, \n",
    "        mode='markers', marker={'color': color, 'size': 12},\n",
    "        marker_symbol=symbol\n",
    "    )\n",
    "    return trace"
   ]
  },
  {
   "cell_type": "code",
   "execution_count": null,
   "id": "682924a4-b1e3-4557-afbe-fef78a2a80a8",
   "metadata": {},
   "outputs": [],
   "source": [
    "fig = plotly.subplots.make_subplots(1, 1)\n",
    "\n",
    "# Draw the linestrings and multipoints.\n",
    "fig.append_trace(draw_linestring(ls1, color='#1E3A8A', name='LineString 1'), 1, 1)\n",
    "fig.append_trace(draw_linestring(ls2, color='#D97706', name='LineString 2'), 1, 1)\n",
    "fig.append_trace(draw_multipoint(mp1, color='#7F1D1D', name='MultiPoint 1', symbol='circle'), 1, 1)\n",
    "fig.append_trace(draw_multipoint(mp2, color='#0F766E', name='MultiPoint 2', symbol='diamond'), 1, 1)\n",
    "\n",
    "fig['layout']['width'] = 510\n",
    "fig['layout']['height'] = 470\n",
    "fig['layout']['xaxis1']['range'] = [0, 100]\n",
    "fig['layout']['yaxis1']['range'] = [0, 100]\n",
    "fig['layout']['xaxis1']['title'] = 'x coordinate'\n",
    "fig['layout']['yaxis1']['title'] = 'y coordinate'\n",
    "\n",
    "fig"
   ]
  },
  {
   "cell_type": "code",
   "execution_count": null,
   "id": "ac2bc4be-3686-4f60-952a-d06282f3031d",
   "metadata": {},
   "outputs": [],
   "source": [
    "# Get a matrix of distances between embedding vectors for the four shapes.\n",
    "encodings = [\n",
    "    encoder.encode(ls1),\n",
    "    encoder.encode(mp1),\n",
    "    encoder.encode(ls2),\n",
    "    encoder.encode(mp2)\n",
    "]\n",
    "distances = np.zeros((4, 4))\n",
    "for i in range(4):\n",
    "    for j in range(4):\n",
    "        dd = encodings[i].sparse() - encodings[j].sparse()\n",
    "        distances[i, j] = scipy.sparse.linalg.norm(dd)\n",
    "distances"
   ]
  },
  {
   "cell_type": "code",
   "execution_count": null,
   "id": "ee60b7be-55a2-4d8c-a519-a8226fa8250d",
   "metadata": {},
   "outputs": [],
   "source": [
    "# Plot the distance matrix as a heat map.\n",
    "import plotly.express as px\n",
    "data=[[1, 25, 30, 50, 1], [20, 1, 60, 80, 30], [30, 60, 1, 5, 20]]\n",
    "fig = px.imshow(np.round(distances, 1),\n",
    "                labels=dict(x=\"shape\", y=\"shape\", color=\"distance\"),\n",
    "                color_continuous_scale='Inferno',\n",
    "                x=['LS-1', 'MP-1', 'LS-2', 'MP-2'],\n",
    "                y=['LS-1', 'MP-1', 'LS-2', 'MP-2'],\n",
    "                text_auto=True\n",
    "               )\n",
    "fig.update_xaxes(side=\"top\")\n",
    "fig.update_traces(textfont_size=14, textfont_color=\"darkgray\")\n",
    "fig.show()"
   ]
  }
 ],
 "metadata": {
  "kernelspec": {
   "display_name": "Python 3 (ipykernel)",
   "language": "python",
   "name": "python3"
  },
  "language_info": {
   "codemirror_mode": {
    "name": "ipython",
    "version": 3
   },
   "file_extension": ".py",
   "mimetype": "text/x-python",
   "name": "python",
   "nbconvert_exporter": "python",
   "pygments_lexer": "ipython3",
   "version": "3.12.4"
  }
 },
 "nbformat": 4,
 "nbformat_minor": 5
}
