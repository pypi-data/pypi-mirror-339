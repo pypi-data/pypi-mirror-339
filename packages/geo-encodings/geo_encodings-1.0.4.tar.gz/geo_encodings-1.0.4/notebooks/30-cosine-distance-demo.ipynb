{
 "cells": [
  {
   "cell_type": "markdown",
   "id": "90f90056-b0aa-4602-85c2-d484cd65fd37",
   "metadata": {},
   "source": [
    "# Demo of the use of cosine distance between MPP encodings\n",
    "This shows that the cosine distance between encodings roughly captures\n",
    "whether they live in the same general part of the region."
   ]
  },
  {
   "cell_type": "markdown",
   "id": "315247ed-e094-4f98-83a7-2ddd568faa29",
   "metadata": {},
   "source": [
    "## Package setup"
   ]
  },
  {
   "cell_type": "code",
   "execution_count": null,
   "id": "86f50299-96dc-4d53-8c04-a1b6d296a9d4",
   "metadata": {},
   "outputs": [],
   "source": [
    "import numpy as np\n",
    "import scipy\n",
    "from geo_encodings import MPPEncoder"
   ]
  },
  {
   "cell_type": "markdown",
   "id": "ac23c7f2-ca8e-4c25-8ed0-89e119356eda",
   "metadata": {},
   "source": [
    "## Setup"
   ]
  },
  {
   "cell_type": "code",
   "execution_count": null,
   "id": "653a7e8a-d918-4f77-bb4f-628a9fee9fbe",
   "metadata": {},
   "outputs": [],
   "source": [
    "import pandas as pd\n",
    "import numpy as np\n",
    "from scipy.sparse import csr_array\n",
    "from sklearn.cluster import DBSCAN\n",
    "import shapely\n",
    "import shapely.wkt\n",
    "import plotly\n",
    "import plotly.subplots\n",
    "from plotly.graph_objs import Scatter, Figure"
   ]
  },
  {
   "cell_type": "markdown",
   "id": "a6d3f9d6-6ca3-40b7-a20b-ed5dd937451a",
   "metadata": {},
   "source": [
    "## Create an embedding for a region"
   ]
  },
  {
   "cell_type": "code",
   "execution_count": null,
   "id": "b02df972-0115-41c4-8b57-2e139fb3513f",
   "metadata": {},
   "outputs": [],
   "source": [
    "x0, y0 = 0, 0\n",
    "x1, y1 = 200, 100\n",
    "resolution = 20\n",
    "scale = 10\n",
    "encoder = MPPEncoder(region=[x0, y0, x1, y1], resolution=resolution, scale=scale, center=True)\n",
    "print('%d reference points in encoder' % len(encoder))"
   ]
  },
  {
   "cell_type": "markdown",
   "id": "fb6509e1-70c9-4cd2-8826-cbee0a721084",
   "metadata": {},
   "source": [
    "## Create geometries"
   ]
  },
  {
   "cell_type": "code",
   "execution_count": null,
   "id": "98fea989-3a34-45c1-b9f9-85d38b65407d",
   "metadata": {},
   "outputs": [],
   "source": [
    "# A polygon.\n",
    "px = [10, 75, 80, 20, 10]\n",
    "py = [10, 20, 80, 70, 10]\n",
    "xy = ', '.join(['%.1f %.1f' % (z) for z in list(zip(px, py))])\n",
    "wkt = 'POLYGON((%s))' % xy\n",
    "g1 = shapely.from_wkt(wkt)\n",
    "\n",
    "# A multipoint. This is created so that it lives in the same general part of the region\n",
    "# as the poygon that we just created.\n",
    "n = 10\n",
    "mpx = np.random.random(n) * 70 + 10\n",
    "mpy = np.random.random(n) * 70 + 10\n",
    "xy = ', '.join(['%.1f %.1f' % (z) for z in list(zip(mpx, mpy))])\n",
    "wkt = 'MULTIPOINT(%s)' % xy\n",
    "g2 = shapely.from_wkt(wkt)"
   ]
  },
  {
   "cell_type": "code",
   "execution_count": null,
   "id": "c2274cba-61e3-4eba-997d-c5e9773ca66e",
   "metadata": {},
   "outputs": [],
   "source": [
    "# Progressively shift the multipoint shape relative to the polygon.\n",
    "# For each shifted position, re-compute its encoding and get the cosine distance \n",
    "# with the encoding for the polygon.\n",
    "x_offsets = [0, 50, 100]\n",
    "geoms = []\n",
    "encodings = []\n",
    "cosines = []\n",
    "\n",
    "e1 = encoder.encode(g1).values()\n",
    "\n",
    "for x_offset in [0, 50, 100]:\n",
    "    g3 = shapely.affinity.translate(g2, xoff=x_offset)\n",
    "    e3 = encoder.encode(g3).values()\n",
    "    c = scipy.spatial.distance.cosine(e1, e3)\n",
    "    geoms.append(g3)\n",
    "    encodings.append(e3)\n",
    "    cosines.append(c)\n"
   ]
  },
  {
   "cell_type": "code",
   "execution_count": null,
   "id": "682924a4-b1e3-4557-afbe-fef78a2a80a8",
   "metadata": {},
   "outputs": [],
   "source": [
    "fig = plotly.subplots.make_subplots(1, 1)\n",
    "\n",
    "# Draw the reference points.\n",
    "trace = Scatter(\n",
    "    x=encoder.ref_x, y=encoder.ref_y, name='reference points', \n",
    "    mode='markers', marker={'color': 'gray', 'size': 5, 'symbol': 'cross'}\n",
    ")\n",
    "fig.append_trace(trace, 1, 1)\n",
    "\n",
    "# Draw the polygon.\n",
    "coords = g1.exterior.coords\n",
    "xx = [z[0] for z in coords]\n",
    "yy = [z[1] for z in coords]\n",
    "trace = Scatter(\n",
    "    x=xx, y=yy, name='polygon', \n",
    "    mode='lines', marker={'color': 'red'}, fill='toself'\n",
    ")\n",
    "fig.append_trace(trace, 1, 1)\n",
    "\n",
    "# Draw the multipoint.\n",
    "xx = [z.xy[0][0] for z in g2.geoms]\n",
    "yy = [z.xy[1][0] for z in g2.geoms]\n",
    "trace = Scatter(\n",
    "    x=xx, y=yy, name='multipoint', \n",
    "    mode='markers', marker={'color': 'red', 'size': 12}\n",
    ")\n",
    "fig.append_trace(trace, 1, 1)\n",
    "\n",
    "fig['layout']['width'] = 700\n",
    "fig['layout']['height'] = 400\n",
    "fig['layout']['xaxis1']['range'] = [0, 200]\n",
    "fig['layout']['yaxis1']['range'] = [0, 100]\n",
    "\n",
    "fig"
   ]
  },
  {
   "cell_type": "code",
   "execution_count": null,
   "id": "8c59f6d8-9da9-456e-8068-19e56d7dde0f",
   "metadata": {},
   "outputs": [],
   "source": [
    "titles = [\n",
    "    'cosine distance = %.4f' % c\n",
    "    for c in cosines\n",
    "]\n",
    "fig = plotly.subplots.make_subplots(3, 1, subplot_titles=titles)\n",
    "\n",
    "for i in range(len(x_offsets)):\n",
    "\n",
    "    irow = i + 1\n",
    "    \n",
    "    # Draw the reference points.\n",
    "    trace = Scatter(\n",
    "        x=encoder.ref_x, y=encoder.ref_y, name='reference points', \n",
    "        mode='markers', marker={'color': 'gray', 'size': 5, 'symbol': 'cross'}\n",
    "    )\n",
    "    fig.append_trace(trace, irow, 1)\n",
    "\n",
    "    # Draw the polygon.\n",
    "    coords = g1.exterior.coords\n",
    "    xx = [z[0] for z in coords]\n",
    "    yy = [z[1] for z in coords]\n",
    "    trace = Scatter(\n",
    "        x=xx, y=yy, name='polygon', \n",
    "        mode='lines', marker={'color': 'red'}, fill='toself'\n",
    "    )\n",
    "    fig.append_trace(trace, irow, 1)\n",
    "\n",
    "    # Draw the multipoint.\n",
    "    xx = [z.xy[0][0] for z in geoms[i].geoms]\n",
    "    yy = [z.xy[1][0] for z in geoms[i].geoms]\n",
    "    trace = Scatter(\n",
    "        x=xx, y=yy, name='cos dist = %.3f' % c, \n",
    "        mode='markers', marker={'color': 'blue', 'size': 12}\n",
    "    )\n",
    "    fig.append_trace(trace, irow, 1)\n",
    "\n",
    "fig['layout']['width'] = 700\n",
    "fig['layout']['height'] = 900\n",
    "fig['layout']['xaxis1']['range'] = [0, 200]\n",
    "fig['layout']['yaxis1']['range'] = [0, 100]\n",
    "\n",
    "fig"
   ]
  },
  {
   "cell_type": "markdown",
   "id": "9698a9d3-cd39-4266-93f7-0298d91b9b2d",
   "metadata": {},
   "source": [
    "## Cosine distance between encodings"
   ]
  },
  {
   "cell_type": "code",
   "execution_count": null,
   "id": "dc67169b-e611-49b3-b4c1-01c537dd9825",
   "metadata": {},
   "outputs": [],
   "source": [
    "e1 = encoder.encode(g1).values()\n",
    "e2 = encoder.encode(g2).values()"
   ]
  },
  {
   "cell_type": "code",
   "execution_count": null,
   "id": "5f6585d0-f93d-41e2-8ec8-7509cdc605c3",
   "metadata": {},
   "outputs": [],
   "source": [
    "dd = []\n",
    "cc = []\n",
    "\n",
    "for dx in np.linspace(0, 100, 50):\n",
    "    g3 = shapely.affinity.translate(g2, xoff=dx)\n",
    "    e3 = encoder.encode(g3).values()\n",
    "    c = scipy.spatial.distance.cosine(e1, e3)\n",
    "    dd.append(dx)\n",
    "    cc.append(c)\n",
    "\n",
    "fig = plotly.subplots.make_subplots(1, 1)\n",
    "trace = Scatter(x=dd, y=cc, mode='markers')\n",
    "fig.append_trace(trace, 1, 1)\n",
    "fig['layout']['xaxis1']['title'] = 'x offset'\n",
    "fig['layout']['yaxis1']['title'] = 'cosine distance'\n",
    "fig['layout']['width'] = 500\n",
    "fig['layout']['height'] = 300\n",
    "\n",
    "fig"
   ]
  },
  {
   "cell_type": "code",
   "execution_count": null,
   "id": "ca9b6dde-db47-4219-820b-3ab2eff252f3",
   "metadata": {},
   "outputs": [],
   "source": []
  }
 ],
 "metadata": {
  "kernelspec": {
   "display_name": "Python 3 (ipykernel)",
   "language": "python",
   "name": "python3"
  },
  "language_info": {
   "codemirror_mode": {
    "name": "ipython",
    "version": 3
   },
   "file_extension": ".py",
   "mimetype": "text/x-python",
   "name": "python",
   "nbconvert_exporter": "python",
   "pygments_lexer": "ipython3",
   "version": "3.12.4"
  }
 },
 "nbformat": 4,
 "nbformat_minor": 5
}
