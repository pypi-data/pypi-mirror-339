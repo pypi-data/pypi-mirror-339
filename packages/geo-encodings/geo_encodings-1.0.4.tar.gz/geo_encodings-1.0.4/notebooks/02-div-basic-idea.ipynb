{
 "cells": [
  {
   "cell_type": "markdown",
   "id": "01befe84-2120-4bba-8421-cc7efc7ad076",
   "metadata": {},
   "source": [
    "# Discrete Indicator Vector (DIV) encoding\n",
    "This notebook illustrates ow DIV encodng works."
   ]
  },
  {
   "cell_type": "code",
   "execution_count": null,
   "id": "ac39578f-15be-46dd-aee8-aa956a80b666",
   "metadata": {},
   "outputs": [],
   "source": [
    "import shapely\n",
    "from geo_encodings import DIVEncoder\n",
    "from geo_encodings import draw_shape"
   ]
  },
  {
   "cell_type": "code",
   "execution_count": null,
   "id": "3e7c9214-7d7f-49c6-874a-06b41f2db8fe",
   "metadata": {},
   "outputs": [],
   "source": [
    "x0, y0 = 0, 0\n",
    "x1, y1 = 400, 300\n",
    "resolution = 50\n",
    "encoder = DIVEncoder([x0, y0, x1, y1], resolution)\n",
    "print('%d tiles in encoder' % len(encoder))"
   ]
  },
  {
   "cell_type": "code",
   "execution_count": null,
   "id": "2850749a-0717-42e7-950b-100e82fd623b",
   "metadata": {},
   "outputs": [],
   "source": [
    "# g = shapely.wkt.loads('POINT(287 122)')\n",
    "g = shapely.wkt.loads('LINESTRING(40 70, 160 110, 213 190, 285 205)')\n",
    "# g = shapely.wkt.loads('POLYGON((70 20, 210 105, 127 240, 70 20))')\n",
    "\n",
    "# g = shapely.wkt.loads('MULTIPOINT(287 122, 113 207)')\n",
    "# g = shapely.wkt.loads('MULTILINESTRING((40 70, 160 110, 213 190, 285 205), (220 140, 305 110, 345 30))')\n",
    "# g = shapely.wkt.loads('MULTIPOLYGON(((70 20, 210 105, 127 240, 70 20)), ((260 225, 270 170, 330 95, 335 185, 260 225)))')\n"
   ]
  },
  {
   "cell_type": "code",
   "execution_count": null,
   "id": "47a30349-3cae-4952-9d63-124af05b9a80",
   "metadata": {},
   "outputs": [],
   "source": [
    "encoding = encoder.encode(g).values()"
   ]
  },
  {
   "cell_type": "code",
   "execution_count": null,
   "id": "a83954c9-c356-4013-9dd6-1ca88e949c17",
   "metadata": {},
   "outputs": [],
   "source": [
    "import plotly\n",
    "import plotly.subplots\n",
    "from plotly.graph_objs import Scatter\n",
    "\n",
    "fig = plotly.subplots.make_subplots(1, 1)\n",
    "\n",
    "for tile, e in list(zip(encoder.tiles, encoding)):\n",
    "    draw_shape(tile, fig, color='blue' if e else 'gray')\n",
    "    \n",
    "draw_shape(g, fig, color='red')\n",
    "\n",
    "fig['layout']['width'] = 500\n",
    "fig['layout']['height'] = 400 \n",
    "fig"
   ]
  },
  {
   "cell_type": "code",
   "execution_count": null,
   "id": "0f60e167-6559-490c-ac0e-bccd81d09c96",
   "metadata": {},
   "outputs": [],
   "source": []
  }
 ],
 "metadata": {
  "kernelspec": {
   "display_name": "Python 3 (ipykernel)",
   "language": "python",
   "name": "python3"
  },
  "language_info": {
   "codemirror_mode": {
    "name": "ipython",
    "version": 3
   },
   "file_extension": ".py",
   "mimetype": "text/x-python",
   "name": "python",
   "nbconvert_exporter": "python",
   "pygments_lexer": "ipython3",
   "version": "3.12.4"
  }
 },
 "nbformat": 4,
 "nbformat_minor": 5
}
