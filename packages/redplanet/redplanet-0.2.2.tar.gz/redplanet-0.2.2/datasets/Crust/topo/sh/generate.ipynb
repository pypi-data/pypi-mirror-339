{
 "cells": [
  {
   "cell_type": "code",
   "execution_count": null,
   "metadata": {},
   "outputs": [],
   "source": [
    "from pathlib import Path\n",
    "\n",
    "import numpy as np\n",
    "import pyshtools as pysh\n",
    "\n",
    "import matplotlib.pyplot as plt\n",
    "\n",
    "from redplanet.DatasetManager.main import _get_fpath_dataset\n",
    "from redplanet.DatasetManager.hash import _calculate_hash_from_file\n",
    "from redplanet.helper_functions.misc import timer"
   ]
  },
  {
   "cell_type": "code",
   "execution_count": null,
   "metadata": {},
   "outputs": [],
   "source": [
    "r0_km = 3396000.0 / 1.e3\n",
    "\n",
    "# '''lmax -> res'''\n",
    "# lmax = 1439\n",
    "# res = (2 * np.pi * r0_km) / (2 * lmax + 1)\n",
    "# print(f'{lmax = }')\n",
    "# print(f'-> resolution = {res:.2f} km')\n",
    "\n",
    "'''res -> lmax'''\n",
    "res_km = 10\n",
    "lmax = int((((2 * np.pi * r0_km) / (res_km)) - 1) / 2)\n",
    "print(f'resolution = {res_km} km')\n",
    "print(f'-> {lmax = }')"
   ]
  },
  {
   "cell_type": "markdown",
   "metadata": {},
   "source": [
    "- resolution = 5 km\n",
    "    - -> lmax = 2133\n",
    "- resolution = 10 km\n",
    "    - -> lmax = 1066"
   ]
  },
  {
   "cell_type": "code",
   "execution_count": null,
   "metadata": {},
   "outputs": [],
   "source": [
    "with timer('Load topography: '):\n",
    "\n",
    "    shape_coeffs = pysh.datasets.Mars.MOLA_shape(lmax=lmax)\n",
    "    shape_grid = shape_coeffs.expand(grid='DH2')\n",
    "\n",
    "    grav_coeffs = pysh.datasets.Mars.GMM3()  ## we only care about the r0 value (3396000.0) -- this will download the GMM3 dataset to pyshtools cache, but that's okay since it's only done once locally to generate the datasets => users won't have to download it.\n",
    "    grav_geoid = grav_coeffs.geoid(\n",
    "        potref = pysh.constants.Mars.u0.value,\n",
    "        omega  = pysh.constants.Mars.angular_velocity.value,\n",
    "        lmax   = lmax,\n",
    "    )\n",
    "\n",
    "    topo_grid = shape_grid - (grav_coeffs.r0 + grav_geoid.geoid)\n",
    "\n",
    "\n",
    "topo_xr = topo_grid.to_xarray()\n",
    "topo_xr = topo_xr.isel(lat = slice(None, None, -1))  ## reverse lat since pyshtools gives it in decreasing order by default\n",
    "topo_xr = topo_xr.round().astype(np.int16)  ## float64 gives values like `4394.94769267505` meters, which is precise up to 0.1 angstrom (one-tenth the diameter of a typical hydrogen atom) -- int16 (i.e. nearest meter) is sufficient lol\n",
    "\n",
    "\n",
    "size_mb = (16 * topo_xr.size) / 8.e6\n",
    "print(f'size = {size_mb :.0f} MB')\n",
    "\n",
    "print('---')\n",
    "topo_xr"
   ]
  },
  {
   "cell_type": "code",
   "execution_count": null,
   "metadata": {},
   "outputs": [],
   "source": [
    "'''preview resolution'''\n",
    "\n",
    "topo_grid.plot(\n",
    "    colorbar    = 'bottom',\n",
    "    cb_label    = 'Topography [m]',\n",
    "    cmap        = 'RdBu_r',\n",
    "    cmap_limits = [-8.5e3, 8.e3],\n",
    "    show        = False,\n",
    ")\n",
    "plt.show()\n",
    "\n",
    "\n",
    "from redplanet import Craters\n",
    "crater = Craters.get(name='Henry', as_dict=True)[0]\n",
    "r = 3\n",
    "topo_xr.sel(\n",
    "    lon = slice(crater['plon'] - r, crater['plon'] + r),\n",
    "    lat = slice(crater['lat'] - r, crater['lat'] + r),\n",
    ").plot.imshow()\n",
    "plt.show()"
   ]
  },
  {
   "cell_type": "code",
   "execution_count": null,
   "metadata": {},
   "outputs": [],
   "source": [
    "'''metadata for loading'''\n",
    "\n",
    "print(f'{topo_xr.shape = }')\n",
    "print(f'{topo_xr.dtype = }')\n",
    "print()\n",
    "\n",
    "## pyshtools always gives coords from 0->360 and -90->90 inclusive, so all you need to parameterize the coordinates is the number of points in each dimension\n",
    "\n",
    "_lons = topo_xr.lon.values\n",
    "lons = np.linspace(_lons[0], _lons[-1], len(_lons))\n",
    "assert np.allclose(lons, _lons)\n",
    "print(f'lons = np.linspace(0, 360, {len(_lons)})')\n",
    "\n",
    "_lats = topo_xr.lat.values\n",
    "lats = np.linspace(_lats[0], _lats[-1], len(_lats))\n",
    "assert np.allclose(lats, _lats)\n",
    "print(f'lats = np.linspace(-90, 90, {len(_lats)})')"
   ]
  },
  {
   "cell_type": "markdown",
   "metadata": {},
   "source": [
    "- 5km:\n",
    "    - topo_xr.shape = (4269, 8537)\n",
    "    - topo_xr.dtype = dtype('int16')\n",
    "    - lons = np.linspace(0, 360, 8537)\n",
    "    - lats = np.linspace(-90, 90, 4269)\n",
    "- 10km:\n",
    "    - topo_xr.shape = (2135, 4269)\n",
    "    - topo_xr.dtype = dtype('int16')\n",
    "    - lons = np.linspace(0, 360, 4269)\n",
    "    - lats = np.linspace(-90, 90, 2135)"
   ]
  },
  {
   "cell_type": "code",
   "execution_count": null,
   "metadata": {},
   "outputs": [],
   "source": [
    "'''save to memmap file'''\n",
    "\n",
    "dirpath_out = Path.cwd() / 'datasets/Crust/topo/sh/output/'\n",
    "dirpath_out.mkdir(parents=True, exist_ok=True)\n",
    "fpath_memmap = dirpath_out / f'Mars_MOLA_topography_{res_km}km.memmap'\n",
    "\n",
    "memmap_array = np.memmap(\n",
    "    fpath_memmap,\n",
    "    mode  = 'w+',\n",
    "    dtype = topo_xr.dtype,\n",
    "    shape = topo_xr.shape,\n",
    ")\n",
    "\n",
    "memmap_array[:] = topo_xr.values[:]\n",
    "memmap_array.flush()  ## \"Write any changes in the array to the file on disk.\" (not sure if necessary, just in case)"
   ]
  },
  {
   "cell_type": "code",
   "execution_count": null,
   "metadata": {},
   "outputs": [],
   "source": [
    "print(f'{fpath_memmap.name}')\n",
    "print(f'{fpath_memmap.stat().st_size / 1.e6 :.0f} MB')\n",
    "\n",
    "# for alg in get_available_algorithms():\n",
    "#     print(f'- {alg}: {_calculate_hash_from_file(fpath_memmap, alg)}')\n",
    "\n",
    "alg = 'xxh3_64'\n",
    "calculated_hash = _calculate_hash_from_file(fpath_memmap, alg)\n",
    "\n",
    "print(f'- {alg}: {calculated_hash}')"
   ]
  },
  {
   "cell_type": "markdown",
   "metadata": {},
   "source": [
    "- Mars_MOLA_topography_5km.memmap\n",
    "    - 73 MB\n",
    "    - xxh3_64: c342253082d163dd\n",
    "- Mars_MOLA_topography_10km.memmap\n",
    "    - 18 MB\n",
    "    - xxh3_64: 3a8d69acce1a0799"
   ]
  }
 ],
 "metadata": {
  "kernelspec": {
   "display_name": ".venv",
   "language": "python",
   "name": "python3"
  },
  "language_info": {
   "codemirror_mode": {
    "name": "ipython",
    "version": 3
   },
   "file_extension": ".py",
   "mimetype": "text/x-python",
   "name": "python",
   "nbconvert_exporter": "python",
   "pygments_lexer": "ipython3",
   "version": "3.12.5"
  }
 },
 "nbformat": 4,
 "nbformat_minor": 2
}
