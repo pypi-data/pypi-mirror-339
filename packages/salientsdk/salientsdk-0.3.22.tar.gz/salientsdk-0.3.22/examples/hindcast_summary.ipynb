{
 "cells": [
  {
   "cell_type": "markdown",
   "metadata": {},
   "source": [
    "# Hindcast Summary Demo\n",
    "\n",
    "This example shows how to access Salient's rigorous data validation system and highlight areas of particular interest.\n"
   ]
  },
  {
   "cell_type": "code",
   "execution_count": null,
   "metadata": {},
   "outputs": [
    {
     "data": {
      "text/plain": [
       "<requests.sessions.Session at 0x7f83101078d0>"
      ]
     },
     "execution_count": null,
     "metadata": {},
     "output_type": "execute_result"
    }
   ],
   "source": [
    "import os\n",
    "import sys\n",
    "\n",
    "import pandas as pd\n",
    "\n",
    "# Prevent wrapping on tables for readability\n",
    "pd.set_option(\"display.width\", None)\n",
    "pd.set_option(\"display.max_columns\", None)\n",
    "pd.set_option(\"display.expand_frame_repr\", False)\n",
    "\n",
    "try:\n",
    "    import salientsdk as sk\n",
    "except ModuleNotFoundError as e:\n",
    "    if os.path.exists(\"../salientsdk\"):\n",
    "        sys.path.append(os.path.abspath(\"..\"))\n",
    "        import salientsdk as sk\n",
    "    else:\n",
    "        raise ModuleNotFoundError(\"Install salient SDK with: pip install salientsdk\")\n",
    "\n",
    "sk.set_file_destination(\"hindcast_summary_example\", force=False)\n",
    "sk.login(\"username\", \"password\", verbose=False)"
   ]
  },
  {
   "cell_type": "markdown",
   "metadata": {},
   "source": [
    "## Validate\n",
    "\n",
    "The `hindcast_summary` function is a convenience interface to the `hindast_summary` [API endpoint](https://api.salientpredictions.com/v2/documentation/api/#/Validation/hindcast_summary) which delivers accuracy statistics. This example vectorizes multiple requests, downloads them in parallel, and concatenates all the results into a single file.\n"
   ]
  },
  {
   "cell_type": "code",
   "execution_count": null,
   "metadata": {},
   "outputs": [
    {
     "name": "stdout",
     "output_type": "stream",
     "text": [
      "hindcast_summary_example/hindcast_summary_f326bf0e2223e1324dff1a5af22b4065.csv\n",
      "            Lead      Reference Model  Reference CRPS  Salient CRPS  Salient CRPS Skill Score (%)         region season variable\n",
      "0         Week 1  30 year Climatology            2.58          0.93                          63.1  united states    DJF     temp\n",
      "1         Week 2  30 year Climatology            2.57          1.86                          27.8  united states    DJF     temp\n",
      "2         Week 3  30 year Climatology            2.57          2.39                           7.6  united states    DJF     temp\n",
      "3         Week 4  30 year Climatology            2.57          2.48                           3.5  united states    DJF     temp\n",
      "4         Week 5  30 year Climatology            2.57          2.50                           2.8  united states    DJF     temp\n",
      "..           ...                  ...             ...           ...                           ...            ...    ...      ...\n",
      "91       Month 3  30 year Climatology            0.69          0.71                          -2.7        germany    JJA   precip\n",
      "92    Months 1-3  30 year Climatology            0.39          0.39                          -1.1        germany    JJA   precip\n",
      "93    Months 4-6  30 year Climatology            0.39          0.39                          -0.2        germany    JJA   precip\n",
      "94    Months 7-9  30 year Climatology            0.39          0.39                          -1.5        germany    JJA   precip\n",
      "95  Months 10-12  30 year Climatology            0.39          0.40                          -2.5        germany    JJA   precip\n",
      "\n",
      "[96 rows x 8 columns]\n"
     ]
    }
   ],
   "source": [
    "score_file = sk.hindcast_summary(\n",
    "    loc=sk.Location(region=[\"united states\", \"germany\"]),\n",
    "    variable=[\"temp\", \"precip\"],  # Vectorize multi-variable\n",
    "    metric=\"crps_skill_score\",\n",
    "    reference=\"clim\",\n",
    "    season=[\"DJF\", \"JJA\"],  # Vectorize meteorological winter and summer\n",
    "    version=\"-default\",  # this is vectorizable\n",
    "    force=False,\n",
    "    verbose=False,\n",
    ")\n",
    "\n",
    "print(score_file)\n",
    "print(pd.read_csv(score_file))"
   ]
  },
  {
   "cell_type": "markdown",
   "metadata": {},
   "source": [
    "# Simplify Score File\n",
    "\n",
    "The native score file returned by `hindcast_summary` is \"data-long\", which means that each `Lead` time gets a row of its own. To make the data more compact, we can focus only on the 5th \"skill score\" column and transpose all of its rows to columns. Use the sdk function `transpose_hindcast_summary()` to transform the hindcast csv.\n",
    "\n",
    "The min_score argument converts any score below the threshold value into `NaN`. By default, this is set to zero. In this example, setting it to `5.0` creates a \"bright spot\" analysis which highlights the examples where the Salient forecast significantly outperforms the reference model.\n"
   ]
  },
  {
   "cell_type": "code",
   "execution_count": null,
   "metadata": {},
   "outputs": [
    {
     "name": "stdout",
     "output_type": "stream",
     "text": [
      "hindcast_summary_example/hindcast_summary_transposed.csv\n",
      "Lead                           Week 1  Week 2  Week 3  Week 4  Week 5  Month 1  Month 2  Month 3  Months 1-3  Months 4-6  Months 7-9  Months 10-12   mean\n",
      "region        season variable                                                                                                                            \n",
      "germany       DJF    precip      47.0    12.0     NaN     NaN     NaN     13.0      NaN      NaN         NaN         NaN         NaN           NaN    NaN\n",
      "                     temp        70.2    29.1     7.9     5.1     NaN     30.3      7.7      NaN        11.2         8.8         6.5           7.1   5.99\n",
      "              JJA    precip      32.0     NaN     NaN     NaN     NaN      7.1      NaN      NaN         NaN         NaN         NaN           NaN    NaN\n",
      "                     temp        70.3    27.7     9.6     7.1     8.8     34.3     19.8     19.1        21.5        22.2        23.6          23.2  13.09\n",
      "united states DJF    precip      43.1     8.8     NaN     NaN     NaN     11.2      NaN      NaN         5.8         NaN         NaN           NaN    NaN\n",
      "                     temp        63.1    27.8     7.6     NaN     NaN     23.0      5.5      NaN        12.6        11.3         8.9           7.4   5.41\n",
      "              JJA    precip      27.7     NaN     NaN     NaN     NaN      7.9      NaN      NaN         NaN         NaN         NaN           NaN    NaN\n",
      "                     temp        56.8    20.4     9.9     8.2     7.9     29.7     16.0     15.6        19.7        17.3        14.5          13.9  11.21\n"
     ]
    }
   ],
   "source": [
    "scores = sk.transpose_hindcast_summary(score_file, min_score=5.0)\n",
    "\n",
    "save_file = os.path.join(sk.get_file_destination(), \"hindcast_summary_transposed.csv\")\n",
    "scores.to_csv(save_file)\n",
    "\n",
    "print(save_file)\n",
    "print(scores)"
   ]
  }
 ],
 "metadata": {
  "kernelspec": {
   "display_name": "Python 3",
   "language": "python",
   "name": "python3"
  },
  "language_info": {
   "codemirror_mode": {
    "name": "ipython",
    "version": 3
   },
   "file_extension": ".py",
   "mimetype": "text/x-python",
   "name": "python",
   "nbconvert_exporter": "python",
   "pygments_lexer": "ipython3",
   "version": "3.11.5"
  }
 },
 "nbformat": 4,
 "nbformat_minor": 2
}
