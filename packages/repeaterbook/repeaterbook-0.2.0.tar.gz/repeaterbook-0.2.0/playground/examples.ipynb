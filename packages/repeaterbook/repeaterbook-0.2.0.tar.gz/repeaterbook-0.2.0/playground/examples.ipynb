{
 "cells": [
  {
   "cell_type": "code",
   "execution_count": null,
   "metadata": {},
   "outputs": [],
   "source": [
    "import pycountry\n",
    "from anyio import Path\n",
    "\n",
    "from repeaterbook.models import ExportQuery\n",
    "from repeaterbook.services import RepeaterBookAPI\n",
    "\n",
    "rb_api = RepeaterBookAPI(\n",
    "    app_name=\"RepeaterBook Python SDK\",\n",
    "    app_email=\"micael@jarniac.dev\",\n",
    "    working_dir=Path(),\n",
    ")\n",
    "repeaters = await rb_api.download(\n",
    "    query=ExportQuery(countries={pycountry.countries.get(name=\"Brazil\")})\n",
    ")"
   ]
  },
  {
   "cell_type": "code",
   "execution_count": null,
   "metadata": {},
   "outputs": [],
   "source": [
    "from repeaterbook import RepeaterBook\n",
    "\n",
    "rb = RepeaterBook(\n",
    "    working_dir=Path(),\n",
    ")\n",
    "rb.populate(repeaters)"
   ]
  },
  {
   "cell_type": "code",
   "execution_count": null,
   "metadata": {},
   "outputs": [],
   "source": [
    "from haversine import Unit\n",
    "from rich import print as pprint\n",
    "\n",
    "from repeaterbook import queries\n",
    "from repeaterbook.models import Repeater\n",
    "from repeaterbook.utils import LatLon, Radius\n",
    "\n",
    "radius = Radius(\n",
    "    origin=LatLon(\n",
    "        lat=-22.4000,\n",
    "        lon=-46.9000,\n",
    "    ),\n",
    "    distance=50,\n",
    "    unit=Unit.KILOMETERS,\n",
    ")\n",
    "\n",
    "filtered_repeaters = queries.filter_radius(\n",
    "    rb.query(*queries.square(radius), Repeater.dmr_capable), radius\n",
    ")\n",
    "pprint(filtered_repeaters)"
   ]
  },
  {
   "cell_type": "code",
   "execution_count": null,
   "metadata": {},
   "outputs": [],
   "source": [
    "from repeaterbook import queries\n",
    "from repeaterbook.models import Status, Use\n",
    "from repeaterbook.queries import Bands\n",
    "\n",
    "rb.query(\n",
    "    Repeater.dmr_capable | Repeater.analog_capable,\n",
    "    Repeater.operational_status == Status.ON_AIR,\n",
    "    Repeater.use_membership == Use.OPEN,\n",
    "    queries.band(Bands.M_2, Bands.CM_70),\n",
    ")"
   ]
  }
 ],
 "metadata": {
  "kernelspec": {
   "display_name": ".venv",
   "language": "python",
   "name": "python3"
  },
  "language_info": {
   "codemirror_mode": {
    "name": "ipython",
    "version": 3
   },
   "file_extension": ".py",
   "mimetype": "text/x-python",
   "name": "python",
   "nbconvert_exporter": "python",
   "pygments_lexer": "ipython3",
   "version": "3.13.2"
  }
 },
 "nbformat": 4,
 "nbformat_minor": 2
}
