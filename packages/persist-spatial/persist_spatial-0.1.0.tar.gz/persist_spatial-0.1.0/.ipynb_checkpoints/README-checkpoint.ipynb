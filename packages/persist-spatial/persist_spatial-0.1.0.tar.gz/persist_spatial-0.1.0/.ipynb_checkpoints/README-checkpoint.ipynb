{
 "cells": [
  {
   "cell_type": "markdown",
   "id": "5284d763-ed60-494e-b538-a5db32fcee5d",
   "metadata": {},
   "source": [
    "<img src='README_files/PersiST_Logo.png' width='300' > "
   ]
  },
  {
   "cell_type": "markdown",
   "id": "6eeb13d2-4523-4892-8afc-81b7d9061ce7",
   "metadata": {},
   "source": [
    "# PersiST"
   ]
  },
  {
   "cell_type": "markdown",
   "id": "22952da3-66c6-4284-ae00-f95f298ac032",
   "metadata": {},
   "source": [
    "PersiST is an exploratory method for analysing spatial transcriptomics (and other 'omics) datsets. Given a spatial transcriptomics data set containing expression data on multiple genes resolved to a shared set of co-orindates, PerisST computes a single score for each gene that measures the amount of spatial structure that gene shows in it's expression pattern, called the *Coefficient of Spatial Structure* (CoSS). This score can be used for multiple analytical tasks, as we show below."
   ]
  },
  {
   "cell_type": "markdown",
   "id": "4a746ad9-cc9a-4ff9-a702-0bb259fc84c0",
   "metadata": {},
   "source": [
    "# Spatially Variable Gene Identification"
   ]
  },
  {
   "cell_type": "markdown",
   "id": "6fa69eaf-a85a-4077-a754-5415d6baeed9",
   "metadata": {},
   "source": [
    "For this tutorial, we shall be looking at spatial transcriptomics data on a sample from the Kidney Precision Medicine Project[1]. "
   ]
  },
  {
   "cell_type": "code",
   "execution_count": 12,
   "id": "be9cc89d-65fc-43cc-a011-7c1e21083733",
   "metadata": {},
   "outputs": [
    {
     "data": {
      "text/html": [
       "<div>\n",
       "<style scoped>\n",
       "    .dataframe tbody tr th:only-of-type {\n",
       "        vertical-align: middle;\n",
       "    }\n",
       "\n",
       "    .dataframe tbody tr th {\n",
       "        vertical-align: top;\n",
       "    }\n",
       "\n",
       "    .dataframe thead th {\n",
       "        text-align: right;\n",
       "    }\n",
       "</style>\n",
       "<table border=\"1\" class=\"dataframe\">\n",
       "  <thead>\n",
       "    <tr style=\"text-align: right;\">\n",
       "      <th></th>\n",
       "      <th>x_position</th>\n",
       "      <th>y_position</th>\n",
       "      <th>TSPAN6</th>\n",
       "      <th>TNMD</th>\n",
       "      <th>DPM1</th>\n",
       "      <th>SCYL3</th>\n",
       "      <th>C1orf112</th>\n",
       "      <th>FGR</th>\n",
       "      <th>CFH</th>\n",
       "      <th>FUCA2</th>\n",
       "      <th>...</th>\n",
       "      <th>ENSG00000288156</th>\n",
       "      <th>ENSG00000288162</th>\n",
       "      <th>ENSG00000288172</th>\n",
       "      <th>ENSG00000288187</th>\n",
       "      <th>ENSG00000288234</th>\n",
       "      <th>ENSG00000288253</th>\n",
       "      <th>ENSG00000288302</th>\n",
       "      <th>ENSG00000288380</th>\n",
       "      <th>ENSG00000288398</th>\n",
       "      <th>SOD2</th>\n",
       "    </tr>\n",
       "  </thead>\n",
       "  <tbody>\n",
       "    <tr>\n",
       "      <th>0</th>\n",
       "      <td>0.548810</td>\n",
       "      <td>0.834208</td>\n",
       "      <td>0.00000</td>\n",
       "      <td>0.0</td>\n",
       "      <td>0.000000</td>\n",
       "      <td>0.0</td>\n",
       "      <td>0.00000</td>\n",
       "      <td>117.633220</td>\n",
       "      <td>0.00000</td>\n",
       "      <td>0.00000</td>\n",
       "      <td>...</td>\n",
       "      <td>0.0</td>\n",
       "      <td>0.0</td>\n",
       "      <td>0.0</td>\n",
       "      <td>0.0</td>\n",
       "      <td>0.0</td>\n",
       "      <td>0.0</td>\n",
       "      <td>0.0</td>\n",
       "      <td>0.0</td>\n",
       "      <td>0.0</td>\n",
       "      <td>1058.6990</td>\n",
       "    </tr>\n",
       "    <tr>\n",
       "      <th>1</th>\n",
       "      <td>0.589610</td>\n",
       "      <td>0.809106</td>\n",
       "      <td>0.00000</td>\n",
       "      <td>0.0</td>\n",
       "      <td>0.000000</td>\n",
       "      <td>0.0</td>\n",
       "      <td>0.00000</td>\n",
       "      <td>86.865880</td>\n",
       "      <td>173.73177</td>\n",
       "      <td>86.86588</td>\n",
       "      <td>...</td>\n",
       "      <td>0.0</td>\n",
       "      <td>0.0</td>\n",
       "      <td>0.0</td>\n",
       "      <td>0.0</td>\n",
       "      <td>0.0</td>\n",
       "      <td>0.0</td>\n",
       "      <td>0.0</td>\n",
       "      <td>0.0</td>\n",
       "      <td>0.0</td>\n",
       "      <td>1737.3176</td>\n",
       "    </tr>\n",
       "    <tr>\n",
       "      <th>2</th>\n",
       "      <td>0.571644</td>\n",
       "      <td>0.166174</td>\n",
       "      <td>75.90709</td>\n",
       "      <td>0.0</td>\n",
       "      <td>75.907090</td>\n",
       "      <td>0.0</td>\n",
       "      <td>0.00000</td>\n",
       "      <td>0.000000</td>\n",
       "      <td>151.81418</td>\n",
       "      <td>0.00000</td>\n",
       "      <td>...</td>\n",
       "      <td>0.0</td>\n",
       "      <td>0.0</td>\n",
       "      <td>0.0</td>\n",
       "      <td>0.0</td>\n",
       "      <td>0.0</td>\n",
       "      <td>0.0</td>\n",
       "      <td>0.0</td>\n",
       "      <td>0.0</td>\n",
       "      <td>0.0</td>\n",
       "      <td>2201.3057</td>\n",
       "    </tr>\n",
       "    <tr>\n",
       "      <th>3</th>\n",
       "      <td>0.539074</td>\n",
       "      <td>0.714422</td>\n",
       "      <td>382.89725</td>\n",
       "      <td>0.0</td>\n",
       "      <td>127.632416</td>\n",
       "      <td>0.0</td>\n",
       "      <td>0.00000</td>\n",
       "      <td>127.632416</td>\n",
       "      <td>0.00000</td>\n",
       "      <td>0.00000</td>\n",
       "      <td>...</td>\n",
       "      <td>0.0</td>\n",
       "      <td>0.0</td>\n",
       "      <td>0.0</td>\n",
       "      <td>0.0</td>\n",
       "      <td>0.0</td>\n",
       "      <td>0.0</td>\n",
       "      <td>0.0</td>\n",
       "      <td>0.0</td>\n",
       "      <td>0.0</td>\n",
       "      <td>1148.6918</td>\n",
       "    </tr>\n",
       "    <tr>\n",
       "      <th>4</th>\n",
       "      <td>0.570493</td>\n",
       "      <td>0.468741</td>\n",
       "      <td>82.88438</td>\n",
       "      <td>0.0</td>\n",
       "      <td>0.000000</td>\n",
       "      <td>0.0</td>\n",
       "      <td>82.88438</td>\n",
       "      <td>0.000000</td>\n",
       "      <td>82.88438</td>\n",
       "      <td>0.00000</td>\n",
       "      <td>...</td>\n",
       "      <td>0.0</td>\n",
       "      <td>0.0</td>\n",
       "      <td>0.0</td>\n",
       "      <td>0.0</td>\n",
       "      <td>0.0</td>\n",
       "      <td>0.0</td>\n",
       "      <td>0.0</td>\n",
       "      <td>0.0</td>\n",
       "      <td>0.0</td>\n",
       "      <td>1989.2250</td>\n",
       "    </tr>\n",
       "  </tbody>\n",
       "</table>\n",
       "<p>5 rows × 26026 columns</p>\n",
       "</div>"
      ],
      "text/plain": [
       "   x_position  y_position     TSPAN6  TNMD        DPM1  SCYL3  C1orf112  \\\n",
       "0    0.548810    0.834208    0.00000   0.0    0.000000    0.0   0.00000   \n",
       "1    0.589610    0.809106    0.00000   0.0    0.000000    0.0   0.00000   \n",
       "2    0.571644    0.166174   75.90709   0.0   75.907090    0.0   0.00000   \n",
       "3    0.539074    0.714422  382.89725   0.0  127.632416    0.0   0.00000   \n",
       "4    0.570493    0.468741   82.88438   0.0    0.000000    0.0  82.88438   \n",
       "\n",
       "          FGR        CFH     FUCA2  ...  ENSG00000288156  ENSG00000288162  \\\n",
       "0  117.633220    0.00000   0.00000  ...              0.0              0.0   \n",
       "1   86.865880  173.73177  86.86588  ...              0.0              0.0   \n",
       "2    0.000000  151.81418   0.00000  ...              0.0              0.0   \n",
       "3  127.632416    0.00000   0.00000  ...              0.0              0.0   \n",
       "4    0.000000   82.88438   0.00000  ...              0.0              0.0   \n",
       "\n",
       "   ENSG00000288172  ENSG00000288187  ENSG00000288234  ENSG00000288253  \\\n",
       "0              0.0              0.0              0.0              0.0   \n",
       "1              0.0              0.0              0.0              0.0   \n",
       "2              0.0              0.0              0.0              0.0   \n",
       "3              0.0              0.0              0.0              0.0   \n",
       "4              0.0              0.0              0.0              0.0   \n",
       "\n",
       "   ENSG00000288302  ENSG00000288380  ENSG00000288398       SOD2  \n",
       "0              0.0              0.0              0.0  1058.6990  \n",
       "1              0.0              0.0              0.0  1737.3176  \n",
       "2              0.0              0.0              0.0  2201.3057  \n",
       "3              0.0              0.0              0.0  1148.6918  \n",
       "4              0.0              0.0              0.0  1989.2250  \n",
       "\n",
       "[5 rows x 26026 columns]"
      ]
     },
     "execution_count": 12,
     "metadata": {},
     "output_type": "execute_result"
    }
   ],
   "source": [
    "import pandas as pd\n",
    "df = pd.read_csv('data/kpmp_30-10125_spatial_expression.csv')\n",
    "df.head()"
   ]
  },
  {
   "cell_type": "markdown",
   "id": "b076d2a6-ebb8-4466-9ae3-f1029ef9dc60",
   "metadata": {},
   "source": [
    "This is a pandas DataFrame where the first two columns correspond to the well co-ordinates, and the remaining columns contain the expression of each gene. This is the format PersiST expects spatial transcriptomics data to come in."
   ]
  },
  {
   "cell_type": "markdown",
   "id": "9b39daf0-5769-4e9f-97a8-bb43fbaf7b5d",
   "metadata": {},
   "source": [
    "Let's compute CoSS scores for all the genes in this sample (this will take about 10 - 20 minutes)."
   ]
  },
  {
   "cell_type": "code",
   "execution_count": 13,
   "id": "2573ba77-5f6b-4635-b758-3873608259a0",
   "metadata": {},
   "outputs": [],
   "source": [
    "from compute_persistence import run_persistence\n",
    "metrics = run_persistence(df)"
   ]
  },
  {
   "cell_type": "markdown",
   "id": "fef67382-0b04-4076-8d68-d7c0034a6efd",
   "metadata": {},
   "source": [
    "The CoSS is a measure of the amount of spatial structure in a gene's expression pattern. Let's take a look at those genes with the highest CoSS scores:"
   ]
  },
  {
   "cell_type": "code",
   "execution_count": 15,
   "id": "eca70347-94d7-4b32-ab91-94823e706c04",
   "metadata": {},
   "outputs": [
    {
     "data": {
      "text/html": [
       "<div>\n",
       "<style scoped>\n",
       "    .dataframe tbody tr th:only-of-type {\n",
       "        vertical-align: middle;\n",
       "    }\n",
       "\n",
       "    .dataframe tbody tr th {\n",
       "        vertical-align: top;\n",
       "    }\n",
       "\n",
       "    .dataframe thead th {\n",
       "        text-align: right;\n",
       "    }\n",
       "</style>\n",
       "<table border=\"1\" class=\"dataframe\">\n",
       "  <thead>\n",
       "    <tr style=\"text-align: right;\">\n",
       "      <th></th>\n",
       "      <th>gene</th>\n",
       "      <th>CoSS</th>\n",
       "      <th>ratio</th>\n",
       "      <th>gene_rank</th>\n",
       "      <th>possible_artefact</th>\n",
       "      <th>svg</th>\n",
       "    </tr>\n",
       "  </thead>\n",
       "  <tbody>\n",
       "    <tr>\n",
       "      <th>16443</th>\n",
       "      <td>IGLC1</td>\n",
       "      <td>0.141620</td>\n",
       "      <td>0.651803</td>\n",
       "      <td>1.0</td>\n",
       "      <td>No</td>\n",
       "      <td>Yes</td>\n",
       "    </tr>\n",
       "    <tr>\n",
       "      <th>16483</th>\n",
       "      <td>IGHG1</td>\n",
       "      <td>0.114255</td>\n",
       "      <td>0.467722</td>\n",
       "      <td>2.0</td>\n",
       "      <td>No</td>\n",
       "      <td>Yes</td>\n",
       "    </tr>\n",
       "    <tr>\n",
       "      <th>5372</th>\n",
       "      <td>MT1G</td>\n",
       "      <td>0.105850</td>\n",
       "      <td>0.335738</td>\n",
       "      <td>3.0</td>\n",
       "      <td>No</td>\n",
       "      <td>Yes</td>\n",
       "    </tr>\n",
       "    <tr>\n",
       "      <th>10798</th>\n",
       "      <td>DEFB1</td>\n",
       "      <td>0.103534</td>\n",
       "      <td>0.376595</td>\n",
       "      <td>4.0</td>\n",
       "      <td>No</td>\n",
       "      <td>Yes</td>\n",
       "    </tr>\n",
       "    <tr>\n",
       "      <th>12467</th>\n",
       "      <td>CCL19</td>\n",
       "      <td>0.101025</td>\n",
       "      <td>0.649770</td>\n",
       "      <td>5.0</td>\n",
       "      <td>No</td>\n",
       "      <td>Yes</td>\n",
       "    </tr>\n",
       "    <tr>\n",
       "      <th>22516</th>\n",
       "      <td>C17orf113</td>\n",
       "      <td>0.098336</td>\n",
       "      <td>0.574433</td>\n",
       "      <td>6.0</td>\n",
       "      <td>No</td>\n",
       "      <td>Yes</td>\n",
       "    </tr>\n",
       "    <tr>\n",
       "      <th>6980</th>\n",
       "      <td>ALDOB</td>\n",
       "      <td>0.096201</td>\n",
       "      <td>0.271491</td>\n",
       "      <td>7.0</td>\n",
       "      <td>No</td>\n",
       "      <td>Yes</td>\n",
       "    </tr>\n",
       "    <tr>\n",
       "      <th>5750</th>\n",
       "      <td>PODXL</td>\n",
       "      <td>0.095475</td>\n",
       "      <td>0.327815</td>\n",
       "      <td>8.0</td>\n",
       "      <td>No</td>\n",
       "      <td>Yes</td>\n",
       "    </tr>\n",
       "    <tr>\n",
       "      <th>1102</th>\n",
       "      <td>SLC12A3</td>\n",
       "      <td>0.095306</td>\n",
       "      <td>0.352575</td>\n",
       "      <td>9.0</td>\n",
       "      <td>No</td>\n",
       "      <td>Yes</td>\n",
       "    </tr>\n",
       "    <tr>\n",
       "      <th>11812</th>\n",
       "      <td>UMOD</td>\n",
       "      <td>0.094709</td>\n",
       "      <td>0.401716</td>\n",
       "      <td>10.0</td>\n",
       "      <td>No</td>\n",
       "      <td>Yes</td>\n",
       "    </tr>\n",
       "  </tbody>\n",
       "</table>\n",
       "</div>"
      ],
      "text/plain": [
       "            gene      CoSS     ratio  gene_rank possible_artefact  svg\n",
       "16443      IGLC1  0.141620  0.651803        1.0                No  Yes\n",
       "16483      IGHG1  0.114255  0.467722        2.0                No  Yes\n",
       "5372        MT1G  0.105850  0.335738        3.0                No  Yes\n",
       "10798      DEFB1  0.103534  0.376595        4.0                No  Yes\n",
       "12467      CCL19  0.101025  0.649770        5.0                No  Yes\n",
       "22516  C17orf113  0.098336  0.574433        6.0                No  Yes\n",
       "6980       ALDOB  0.096201  0.271491        7.0                No  Yes\n",
       "5750       PODXL  0.095475  0.327815        8.0                No  Yes\n",
       "1102     SLC12A3  0.095306  0.352575        9.0                No  Yes\n",
       "11812       UMOD  0.094709  0.401716       10.0                No  Yes"
      ]
     },
     "execution_count": 15,
     "metadata": {},
     "output_type": "execute_result"
    }
   ],
   "source": [
    "metrics = metrics.sort_values('CoSS', ascending=False)\n",
    "metrics.iloc[:10,:]"
   ]
  },
  {
   "cell_type": "markdown",
   "id": "e0af5948-3c48-42b8-acbd-b460ddfc5b71",
   "metadata": {},
   "source": [
    "PersiST outputs a number of quantities for each gene:\n",
    "\n",
    "- **CoSS**: The Coefficient of Spatial Structure, a continuous quantity that can serve as a proxy for the amount of spatial structure in a gene's expression.\n",
    "- **Ratio**: Roughly, this measures how much of a gene's CoSS is down to a single spatial features. Genes with a high ratio may be techinical artefacts, see [2] for details.\n",
    "- **gene_rank**: The rank of each gene, where gene's are ranked from highest to lowest CoSS (so a rank of 1 is give to the gene with the highest CoSS).\n",
    "- **possible_artefact**: Based on the ratio, PersiST automatically flags genes as possible artefacts [2]. We emphasise that this is only a suggestion, manual inspection should be performed before dismissing any genes.\n",
    "- **svg**: Based on the CoSS scores, PersiST automatically calls genes as spatially variable or not [2]."
   ]
  },
  {
   "cell_type": "markdown",
   "id": "10fae092-1a7c-40aa-8ad4-2cadb502ef39",
   "metadata": {},
   "source": [
    "Let's plot the expression of those genes for which the CoSS is highest (here expression is measured in counts per million)."
   ]
  },
  {
   "cell_type": "code",
   "execution_count": null,
   "id": "b4a3fe6b-3632-4e4e-acd4-42efb2eaac5f",
   "metadata": {},
   "outputs": [],
   "source": [
    "from plotting_utils import plot_many_genes\n",
    "plot_many_genes(df, list(metrics.gene)[:20])"
   ]
  },
  {
   "cell_type": "markdown",
   "id": "93a46645-79f6-44bb-813e-5fb5d75e71c4",
   "metadata": {},
   "source": [
    "![png](README_files/kpmp_svgs.png)"
   ]
  },
  {
   "cell_type": "markdown",
   "id": "358b7d97-a7f6-425d-857d-c0198b604b21",
   "metadata": {},
   "source": [
    "We can see that PersiST effectively surfaces those genes with notable spatial structure.\n",
    "\n",
    "From the CoSS scores PersiST automatically calles genes as spatially variable or not (this is the 'svg' column in the results). This provides a triaged list of genes that can be subjected to further analysis. \n",
    "\n",
    "For example, one can search for genes with spatially similar expression patterns. Reducing to the comparatively small number of genes PersiST typically calls as SV makes this task much easier, in our experience simple clustering methods, such as hierarchical clustering, were effective to pick out groups of co-expressed SVGs.\n",
    "\n",
    "For example, here is group of genes all expressed in the glomeruli of this particular sample [2]. This group was obtained by running simple hierarchichal clustering on the list of SVGs identified by PersiST and manually inspecting the results."
   ]
  },
  {
   "cell_type": "code",
   "execution_count": null,
   "id": "e278e4e9-2835-4fec-8582-520cb214b818",
   "metadata": {},
   "outputs": [],
   "source": [
    "plot_many_genes(df, ['PODXL', 'PTGDS', 'IGFBP5', 'TGFBR2', 'IFI27', 'HTRA1'], numcols=3)"
   ]
  },
  {
   "cell_type": "markdown",
   "id": "4c33beb0-ee21-4433-96dc-687fb31233e8",
   "metadata": {},
   "source": [
    "![png](README_files/podxl_svgs.png)"
   ]
  },
  {
   "cell_type": "markdown",
   "id": "8c5b0365-e149-4fd2-960e-ea22a4cf94ac",
   "metadata": {},
   "source": [
    "# Differential Spatial Expression Testing"
   ]
  },
  {
   "cell_type": "markdown",
   "id": "6c46f8c2-afcb-4223-8ca9-d398853a8d9c",
   "metadata": {},
   "source": [
    "If you are working with multiple spatial transcriptomics samples, and there are defiend subgroups present within these samples, the CoSS scores allow for some rudimentary differential spatial expression testing.\n",
    "\n",
    "In the KPMP dataset, there are Acute Kidney Infection (AKI) and Chronic Kidney Disease (CKD) samples. For each gene, we computed the average CoSS score within the AKI and CKD samples. The gene with the highest different ebtween the two was UMOD."
   ]
  },
  {
   "cell_type": "markdown",
   "id": "a4897415-117d-489c-8945-fa7a401b6f42",
   "metadata": {},
   "source": [
    "![png](README_files/umod_comparison.png)"
   ]
  },
  {
   "cell_type": "markdown",
   "id": "a73b39e8-47d4-4dac-98f8-b481716ddb55",
   "metadata": {},
   "source": [
    "In the AKI samples, UMOD displays well-defined regions of higher expression, whereas in the CKD samples the expression of UMOD is much more diffuse. \n",
    "\n",
    "UMOD is a marker gene for tubles, a key structural component of the kidney. We hypothesis that this difference in expression between the AKI and CKD samples reflects the structural breakdown that is chracteristic of progressed kidney disease."
   ]
  },
  {
   "cell_type": "markdown",
   "id": "6f2fb46f-e013-477c-9b2d-3b6d5ae9b56f",
   "metadata": {},
   "source": [
    "# References"
   ]
  },
  {
   "cell_type": "markdown",
   "id": "0e396e0d-f454-4d4f-8d0b-9cbd1075a1c0",
   "metadata": {},
   "source": [
    "[1] Blue B Lake et al. “An atlas of healthy and injured cell states and niches in the human kidney”. In: Nature\n",
    "619.7970 (2023), pp. 585–594.\n",
    "\n",
    "[2] PersiST paper (not yet published)"
   ]
  }
 ],
 "metadata": {
  "kernelspec": {
   "display_name": "persist_env",
   "language": "python",
   "name": "persist_env"
  },
  "language_info": {
   "codemirror_mode": {
    "name": "ipython",
    "version": 3
   },
   "file_extension": ".py",
   "mimetype": "text/x-python",
   "name": "python",
   "nbconvert_exporter": "python",
   "pygments_lexer": "ipython3",
   "version": "3.12.7"
  }
 },
 "nbformat": 4,
 "nbformat_minor": 5
}
